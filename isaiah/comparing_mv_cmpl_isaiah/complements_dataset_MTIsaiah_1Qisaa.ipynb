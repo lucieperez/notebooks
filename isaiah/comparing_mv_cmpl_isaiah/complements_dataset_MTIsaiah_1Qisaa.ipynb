{
 "cells": [
  {
   "cell_type": "code",
   "execution_count": 51,
   "id": "9d0384d7",
   "metadata": {},
   "outputs": [],
   "source": [
    "from tfob import TFOb, BHSA, DSS"
   ]
  },
  {
   "cell_type": "code",
   "execution_count": 52,
   "id": "98f5f3ad",
   "metadata": {},
   "outputs": [],
   "source": [
    "import pandas as pd\n",
    "from itertools import chain"
   ]
  },
  {
   "cell_type": "markdown",
   "id": "46394808",
   "metadata": {},
   "source": [
    "### 1.Create two lists with the verses from MT Isaiah and 1QIsaa"
   ]
  },
  {
   "cell_type": "markdown",
   "id": "e4f940bf",
   "metadata": {},
   "source": [
    "#### 1.1 List of wanted motion verbs"
   ]
  },
  {
   "cell_type": "code",
   "execution_count": 53,
   "id": "8447dc24",
   "metadata": {},
   "outputs": [],
   "source": [
    "motion_verbs = ['BW>[','HLK[','JY>[','JRD[','<BR[',\n",
    "                '<LH[','CWB[','>TH[','BRX[','GJX[',\n",
    "                'GLH[','GLL[','DXP[','DLG[','HWH[',\n",
    "                'XWC[','XLP[','XSH[','VB<[','VWF[',\n",
    "                'MHR[','MWC[','NGC[','NHR[','NWX[',\n",
    "                'NWS[','NXT[','NVP[','NS<[','NPL[',\n",
    "                'NTK[','SBB[','SWR[','SLQ[','<WZ[',\n",
    "                '<WP[','PNH[','PC<[','YWP[','Y<D[',\n",
    "                'QHL[','QPY[','QRB[','RWY[','FVH[',\n",
    "                'CWX[','CWR[','CVP[','CQQ[','T>R[',\n",
    "                'T<H[']"
   ]
  },
  {
   "cell_type": "raw",
   "id": "536cc5cf",
   "metadata": {},
   "source": [
    "Previous verb list\n",
    "\n",
    "motion_verbs = [\"BW>[\", \"HLK[\", \"CWB[\", \"<LH[\", \"CLX[\", \"JY>[\", \n",
    "                \"JRD[\", \"<BR[\", \"NGC[\", \"QRB[\", \"NWS[\", \"CLK[\", \n",
    "                \">SP[\", \"NPL[\", \"QBY[\", \"LQX[\", \"SWR[\", \"GLH[\",\n",
    "                \"QHL[\"]"
   ]
  },
  {
   "cell_type": "markdown",
   "id": "7dc9a442",
   "metadata": {},
   "source": [
    "#### 1.2 List of occurrences of the motion verbs (MT Isaiah)"
   ]
  },
  {
   "cell_type": "code",
   "execution_count": 54,
   "id": "ffa71122",
   "metadata": {},
   "outputs": [
    {
     "data": {
      "text/plain": [
       "<word_596 \"PC<W TB>W HBJ> HSJRW LKW JBW> >CJBH >SJRH >CJBH CBJH PC<JM NHRW HLKW LKW N<LH NLKH TY> LKW NLKH BW> [...] JRDT HLKJM QRB TGC HWY>TJ HNXTM T<LJNH M<LH >BJ> JBW> CWVP JBW> HCJB B>H B>W HBJ>W JBJ>W JBW> JY>W PC<JM\">"
      ]
     },
     "execution_count": 54,
     "metadata": {},
     "output_type": "execute_result"
    }
   ],
   "source": [
    "verbs_bhsa = TFOb.all(\"word\", BHSA).filter(book=\"Isaiah\").filter_in(lex=motion_verbs)\n",
    "verbs_bhsa"
   ]
  },
  {
   "cell_type": "code",
   "execution_count": null,
   "id": "cc5d22e3",
   "metadata": {},
   "outputs": [],
   "source": [
    "#TESTING ZONE \n",
    "#verbs_bhsa\n",
    "#TFOb(215297, BHSA).to_verses.text\n",
    "#TFOb(215297, BHSA).to_verses.pretty()"
   ]
  },
  {
   "cell_type": "markdown",
   "id": "0a6665fd",
   "metadata": {},
   "source": [
    "#### 1.3 List of occurrences of the motion verbs (1QIsaa)"
   ]
  },
  {
   "cell_type": "code",
   "execution_count": 55,
   "id": "e6902b83",
   "metadata": {},
   "outputs": [],
   "source": [
    "verbs_dss = TFOb.all(\"scroll\", DSS).filter(scroll=\"1Qisaa\").to_words.filter_in(lex=motion_verbs)"
   ]
  },
  {
   "cell_type": "code",
   "execution_count": 56,
   "id": "928a1386",
   "metadata": {},
   "outputs": [
    {
     "data": {
      "text/plain": [
       "<word_602 \"PC<W TB>W HBJ> HSJRW LKW JBW> HCJB >SJR >CJBH CBJH PWC<JM NHRW HLKW LKW N<LH N>LKH TY> LKW NLKH JXLWPW [...] JRDTH HWLKJM QRB HWYJTJ HNXTMH T<LJN> M<LH >BJ> JBW> CWVP JBW> HCJB JBW> B>W B>W HBJ>W JBJ>W JBW> JY>W PWC<JM\">"
      ]
     },
     "execution_count": 56,
     "metadata": {},
     "output_type": "execute_result"
    }
   ],
   "source": [
    "verbs_dss"
   ]
  },
  {
   "cell_type": "markdown",
   "id": "04089067",
   "metadata": {},
   "source": [
    "### 2. Get the verses from both databases"
   ]
  },
  {
   "cell_type": "markdown",
   "id": "ed2ae1a2-0824-41fb-b3a3-ebf23ae6f671",
   "metadata": {},
   "source": [
    "#### 2.1 Clean function to harmonised the DSS verses with the BHSA verses"
   ]
  },
  {
   "cell_type": "code",
   "execution_count": 57,
   "id": "08f07b8c",
   "metadata": {},
   "outputs": [],
   "source": [
    "def clean(g_cons):\n",
    "    return g_cons.replace(\"_\", \" \").replace(\"׳\", \"\").replace(\"'\", \"\")"
   ]
  },
  {
   "cell_type": "markdown",
   "id": "fc369c2b-c5dd-4e75-b993-278eb8635190",
   "metadata": {},
   "source": [
    "#### 2.2 Creating two lists of verses (BHSA and DSS) containing the motion verbs"
   ]
  },
  {
   "cell_type": "code",
   "execution_count": 58,
   "id": "66d2fbda",
   "metadata": {},
   "outputs": [],
   "source": [
    "# From the list of motion verbs, create two lists (BHSA and DSS) with the verses where the verbs occur\n",
    "\n",
    "verses_bhsa = []\n",
    "verses_dss = []\n",
    "\n",
    "for verb in chain(verbs_bhsa, verbs_dss):\n",
    "    if verb.source.name == \"BHSA\":\n",
    "        scroll = \"MT\"\n",
    "        verse = verb.to_verses.to_words\n",
    "        verses_bhsa.append(verse)\n",
    "    else:\n",
    "        scroll = verb.to_scrolls.scroll[0]\n",
    "        verse = TFOb.section([verb.book[0], verb.chapter[0], verb.verse[0]], DSS, scroll)\n",
    "        #verse = clean(str(verse))\n",
    "        verses_dss.append(verse)"
   ]
  },
  {
   "cell_type": "code",
   "execution_count": 59,
   "id": "cb954561",
   "metadata": {},
   "outputs": [
    {
     "name": "stdout",
     "output_type": "stream",
     "text": [
      "596\n",
      "602\n"
     ]
    }
   ],
   "source": [
    "print(len(verses_bhsa))\n",
    "print(len(verses_dss))"
   ]
  },
  {
   "cell_type": "markdown",
   "id": "615f1488-e300-4df6-b427-8c7ade12d46a",
   "metadata": {},
   "source": [
    "#### 2.3 Finding the clauses in the BHSA verses"
   ]
  },
  {
   "cell_type": "code",
   "execution_count": 60,
   "id": "9ff61c15",
   "metadata": {},
   "outputs": [],
   "source": [
    "clauses_bhsa = []\n",
    "\n",
    "for verb in verbs_bhsa:\n",
    "    mv_clause = verb.to_clauses\n",
    "    clauses_bhsa.append(mv_clause)\n",
    "\n",
    "# Find the complement in the mv_clause\n",
    "\n",
    "cmpl_bhsa = []\n",
    "\n",
    "for clause in clauses_bhsa:\n",
    "    cmpl = clause.to_phrases.filter(function=\"Cmpl\")\n",
    "    cmpl_bhsa.append(cmpl)"
   ]
  },
  {
   "cell_type": "code",
   "execution_count": 61,
   "id": "6cb09070",
   "metadata": {},
   "outputs": [],
   "source": [
    "#cmpl_bhsa"
   ]
  },
  {
   "cell_type": "markdown",
   "id": "47ba415a-01ea-4958-8dd4-85163dcf8c60",
   "metadata": {},
   "source": [
    "#### 2.4 Find the complements in the BHSA verses"
   ]
  },
  {
   "cell_type": "code",
   "execution_count": 14,
   "id": "821aa8fd",
   "metadata": {},
   "outputs": [
    {
     "data": {
      "text/plain": [
       "[<phrase_1 \"BJ\">,\n",
       " <phrase_1 \"M NGD <JNJ\">,\n",
       " <phrase_1 \">LJHM\">,\n",
       " <phrase_1 \"<LJK\">,\n",
       " <phrase_1 \">LJW\">,\n",
       " <phrase_1 \">L HR JHWH >L BJT >LHJ J<QB\">,\n",
       " <phrase_1 \"B >RXTJW\">,\n",
       " <phrase_1 \"M YJWN\">,\n",
       " <phrase_1 \"B >WR JHWH\">,\n",
       " <phrase_1 \"B YWR\">,\n",
       " <phrase_1 \"B M<RWT YRJM W B MXLWT <PR\">,\n",
       " <phrase_1 \"B NQRWT H YRJM W B S<PJ H SL<JM\">,\n",
       " <phrase_1 \"M JRWCLM W M JHWDH\">,\n",
       " <phrase_2 \"B MCPV <M ZQNJ <MW W FRJW\">,\n",
       " <phrase_1 \"B FDH\">,\n",
       " <phrase_1 \">LJ\">,\n",
       " <phrase_1 \"JRWCLM\">,\n",
       " <phrase_1 \"B JHWDH\">,\n",
       " <phrase_1 \"<LJK W <L <MK W <L BJT >BJK\">,\n",
       " <phrase_1 \"M <L JHWDH\">,\n",
       " <phrase_1 \"B NXLJ H BTWT W B NQJQJ H SL<JM W B KL H N<YWYJM W B KL H NHLLJM\">,\n",
       " <phrase_1 \"CMH\">,\n",
       " <phrase_1 \"CMH\">,\n",
       " <phrase_1 \">L H NBJ>H\">,\n",
       " <phrase_1 \"<LJHM\">,\n",
       " <phrase_1 \"<L KL >PJQJW\">,\n",
       " <phrase_1 \"<L KL GDWTJW\">,\n",
       " <phrase_1 \"B JHWDH\">,\n",
       " <phrase_1 \"B DRK H <M H ZH\">,\n",
       " <phrase_1 \"BH\">,\n",
       " <phrase_1 \"L M<LH\">,\n",
       " <phrase_1 \"B JFR>L\">,\n",
       " <phrase_1 \"M MRXQ\">,\n",
       " <phrase_1 \"<L MJ\">,\n",
       " <phrase_1 \"TXT HRWGJM\">,\n",
       " <phrase_1 \">L >L GBWR\">,\n",
       " <phrase_1 \"BW\">,\n",
       " <phrase_1 \"M <L CKMK\">,\n",
       " <phrase_1 \"<L <JT\">,\n",
       " <phrase_1 \"B MGRWN\">,\n",
       " <phrase_1 \"M<BRH\">,\n",
       " <phrase_1 \"M GZ< JCJ\">,\n",
       " <phrase_1 \"<LJW\">,\n",
       " <phrase_1 \"PLCTJM\">,\n",
       " <phrase_1 \"M >RY MYRJM\">,\n",
       " <phrase_1 \"PTXJ NDJBJM\">,\n",
       " <phrase_1 \"M >RY MRXQ M QYH H CMJM\">,\n",
       " <phrase_1 \"<L >DMTM\">,\n",
       " <phrase_1 \">L MQWMM\">,\n",
       " <phrase_1 \"LK\">,\n",
       " <phrase_1 \"<LJNW\">,\n",
       " <phrase_1 \"C>WL\">,\n",
       " <phrase_1 \"M CMJM\">,\n",
       " <phrase_1 \"H CMJM\">,\n",
       " <phrase_1 \"<L BMTJ <B\">,\n",
       " <phrase_1 \">K >L C>WL >L JRKTJ BWR\">,\n",
       " <phrase_1 \">L >BNJ BWR\">,\n",
       " <phrase_1 \"M <LJHM\">,\n",
       " <phrase_1 \"M <L CKMW\">,\n",
       " <phrase_1 \"M CRC NXC\">,\n",
       " <phrase_1 \"M YPWN\">,\n",
       " <phrase_1 \"H BJT\">,\n",
       " <phrase_1 \"BW\">,\n",
       " <phrase_1 \"LMW\">,\n",
       " <phrase_1 \"MDBR\">,\n",
       " <phrase_1 \">L MQDCW\">,\n",
       " <phrase_1 \"M <JR\">,\n",
       " <phrase_1 \"M MRXQ\">,\n",
       " <phrase_1 \">L GWJ MMCK W MWRV\">,\n",
       " <phrase_1 \"MYRJM\">,\n",
       " <phrase_1 \"<D JHWH\">,\n",
       " <phrase_1 \"B MYRJM\">,\n",
       " <phrase_1 \">CDWDH\">,\n",
       " <phrase_1 \"CM\">,\n",
       " <phrase_1 \"M MDBR M >RY NWR>H\">,\n",
       " <phrase_1 \"L GGWT\">,\n",
       " <phrase_1 \">L H SKN H ZH <L CBN>\">,\n",
       " <phrase_1 \"M >RY KTJM\">,\n",
       " <phrase_1 \"LMW\">,\n",
       " <phrase_1 \"TRCJCH\">,\n",
       " <phrase_1 \">RYK\">,\n",
       " <phrase_1 \"KTJJM\">,\n",
       " <phrase_1 \"L >TNNH\">,\n",
       " <phrase_1 \"M QWL H PXD\">,\n",
       " <phrase_1 \">L H PXT\">,\n",
       " <phrase_1 \"M TWK H PXT\">,\n",
       " <phrase_1 \"M <L KL H >RY\">,\n",
       " <phrase_1 \"B HR H ZH\">,\n",
       " <phrase_1 \"B XDRJK\">,\n",
       " <phrase_1 \"M MQWMW\">,\n",
       " <phrase_1 \"L >RY\">,\n",
       " <phrase_1 \"L >RY\">,\n",
       " <phrase_1 \"L <JP\">,\n",
       " <phrase_1 \"<L KMN\">,\n",
       " <phrase_1 \"M <M JHWH YB>WT\">,\n",
       " <phrase_1 \"L KRML\">,\n",
       " <phrase_1 \"MYRJM\">,\n",
       " <phrase_1 \"B M<WZ PR<H\">,\n",
       " <phrase_1 \"B YL MYRJM\">,\n",
       " <phrase_1 \"MNJ DRK\">,\n",
       " <phrase_1 \"BW\">,\n",
       " <phrase_1 \"M MRXQ\">,\n",
       " <phrase_1 \">L YWR JFR>L\">,\n",
       " <phrase_1 \"<LJW\">,\n",
       " <phrase_1 \"MYRJM\">,\n",
       " <phrase_1 \"M PNJ XRB\">,\n",
       " <phrase_1 \"M MGWR\">,\n",
       " <phrase_1 \"BW\">,\n",
       " <phrase_1 \"BW\">,\n",
       " <phrase_1 \"<L >DWM\">,\n",
       " <phrase_1 \"BH\">,\n",
       " <phrase_1 \"L NMHRJ LB\">,\n",
       " <phrase_1 \"YJWN\">,\n",
       " <phrase_1 \"<L KL <RJ JHWDH H BYRWT\">,\n",
       " <phrase_1 \">LJW\">,\n",
       " <phrase_1 \"B KPW\">,\n",
       " <phrase_1 \"<L H >RY H Z>T\">,\n",
       " <phrase_1 \">L H >RY H Z>T\">,\n",
       " <phrase_1 \">LJ\">,\n",
       " <phrase_1 \">L XZQJHW\">,\n",
       " <phrase_1 \"BJT JHWH\">,\n",
       " <phrase_1 \"<D MCBR\">,\n",
       " <phrase_1 \">L JC<JHW\">,\n",
       " <phrase_1 \">L >RYW\">,\n",
       " <phrase_1 \"M LKJC\">,\n",
       " <phrase_1 \"BJT JHWH\">,\n",
       " <phrase_1 \"MRWM HRJM JRKTJ LBNWN\">,\n",
       " <phrase_1 \"MRWM QYW J<R KRMLW\">,\n",
       " <phrase_1 \"B >ZNJ\">,\n",
       " <phrase_1 \"M JRWCLM\">,\n",
       " <phrase_1 \">L H <JR H Z>T\">,\n",
       " <phrase_1 \">L H <JR H Z>T\">,\n",
       " <phrase_1 \">LJW\">,\n",
       " <phrase_1 \">L H QJR\">,\n",
       " <phrase_1 \"MNJ\">,\n",
       " <phrase_1 \">L >MTK\">,\n",
       " <phrase_1 \"BJT JHWH\">,\n",
       " <phrase_1 \">L H MLK XZQJHW\">,\n",
       " <phrase_2 \"M >JN >LJK\">,\n",
       " <phrase_2 \"M >RY RXWQH M BBL >LJ\">,\n",
       " <phrase_1 \"MMK\">,\n",
       " <phrase_1 \"<L HR GBH\">,\n",
       " <phrase_1 \"L GWJM\">,\n",
       " <phrase_1 \"BH\">,\n",
       " <phrase_1 \"M MSGR\">,\n",
       " <phrase_1 \"B DRK\">,\n",
       " <phrase_1 \"B DRKJW\">,\n",
       " <phrase_1 \"B MJM\">,\n",
       " <phrase_1 \"BMW >C\">,\n",
       " <phrase_1 \"M MZRX\">,\n",
       " <phrase_1 \"M RXWQ\">,\n",
       " <phrase_1 \"LJ\">,\n",
       " <phrase_1 \"BJ\">,\n",
       " <phrase_1 \"LMW\">,\n",
       " <phrase_1 \">L LBW\">,\n",
       " <phrase_1 \">LJ\">,\n",
       " <phrase_1 \">XWR\">,\n",
       " <phrase_1 \"<LJK\">,\n",
       " <phrase_1 \">XRJK\">,\n",
       " <phrase_1 \">LJ\">,\n",
       " <phrase_1 \"M PJ\">,\n",
       " <phrase_1 \"<DJW\">,\n",
       " <phrase_1 \"B CBJ\">,\n",
       " <phrase_1 \"M MQWMW\">,\n",
       " <phrase_1 \"<L LB\">,\n",
       " <phrase_1 \"LK\">,\n",
       " <phrase_1 \"<LJK\">,\n",
       " <phrase_1 \"<LJK\">,\n",
       " <phrase_1 \"<LJK\">,\n",
       " <phrase_1 \"<LJK\">,\n",
       " <phrase_1 \"<LJK\">,\n",
       " <phrase_1 \"M MJ JHWDH\">,\n",
       " <phrase_1 \"M PJ\">,\n",
       " <phrase_1 \">LJ\">,\n",
       " <phrase_1 \"M BBL\">,\n",
       " <phrase_1 \"M KFDJM\">,\n",
       " <phrase_1 \"<D QYH H >RY\">,\n",
       " <phrase_1 \">LJW\">,\n",
       " <phrase_1 \"M RXWQ\">,\n",
       " <phrase_1 \"MMK\">,\n",
       " <phrase_1 \"LK\">,\n",
       " <phrase_1 \">LJ\">,\n",
       " <phrase_1 \"M >TJ\">,\n",
       " <phrase_1 \"YJWN\">,\n",
       " <phrase_1 \"K XWY\">,\n",
       " <phrase_1 \"BK\">,\n",
       " <phrase_1 \"MYRJM\">,\n",
       " <phrase_1 \"YJWN\">,\n",
       " <phrase_1 \"M CM\">,\n",
       " <phrase_1 \"M TWKH\">,\n",
       " <phrase_1 \"<L MJ\">,\n",
       " <phrase_1 \"L PNJW\">,\n",
       " <phrase_1 \">T PC<JM\">,\n",
       " <phrase_1 \"L PC<JM\">,\n",
       " <phrase_1 \"<L H >RY\">,\n",
       " <phrase_1 \"M >TK\">,\n",
       " <phrase_1 \">LJK\">,\n",
       " <phrase_1 \"L MJM\">,\n",
       " <phrase_1 \">LJ\">,\n",
       " <phrase_1 \">LJK\">,\n",
       " <phrase_1 \">L JHWH\">,\n",
       " <phrase_1 \"MN H CMJM\">,\n",
       " <phrase_1 \"CMH\">,\n",
       " <phrase_1 \"M PJ\">,\n",
       " <phrase_1 \">LJ\">,\n",
       " <phrase_1 \">L HR QDCJ\">,\n",
       " <phrase_1 \"L DRKM\">,\n",
       " <phrase_1 \"<L MCKBWTM\">,\n",
       " <phrase_1 \"HNH\">,\n",
       " <phrase_1 \"BJ\">,\n",
       " <phrase_1 \"B DRK LBW\">,\n",
       " <phrase_1 \"BJT\">,\n",
       " <phrase_1 \"L PNJK\">,\n",
       " <phrase_1 \"M TWKK\">,\n",
       " <phrase_1 \"M CBT\">,\n",
       " <phrase_1 \"L R<\">,\n",
       " <phrase_1 \"B >PLWT\">,\n",
       " <phrase_1 \"M R<\">,\n",
       " <phrase_1 \"BW\">,\n",
       " <phrase_1 \"L YJWN\">,\n",
       " <phrase_1 \"L CBJ PC< B J<QB\">,\n",
       " <phrase_1 \"M PJK W M PJ ZR<K W M PJ ZR< ZR<K\">,\n",
       " <phrase_1 \"L >WRK\">,\n",
       " <phrase_1 \"LK\">,\n",
       " <phrase_1 \"M RXWQ\">,\n",
       " <phrase_1 \"LK\">,\n",
       " <phrase_1 \"M CB>\">,\n",
       " <phrase_1 \"MZBXJ\">,\n",
       " <phrase_1 \"M RXWQ\">,\n",
       " <phrase_1 \">LJK\">,\n",
       " <phrase_1 \">LJK\">,\n",
       " <phrase_1 \">LJK\">,\n",
       " <phrase_1 \"B C<RJM\">,\n",
       " <phrase_1 \"M >DWM\">,\n",
       " <phrase_1 \"L >RY\">,\n",
       " <phrase_1 \"M JM\">,\n",
       " <phrase_1 \"B THMWT\">,\n",
       " <phrase_1 \"B BQ<H\">,\n",
       " <phrase_1 \"M DRKJK\">,\n",
       " <phrase_1 \">XR MXCBTJHM\">,\n",
       " <phrase_1 \">LJK\">,\n",
       " <phrase_1 \"BJ\">,\n",
       " <phrase_1 \"M J<QB\">,\n",
       " <phrase_1 \"L CBW<H\">,\n",
       " <phrase_1 \"<L LB\">,\n",
       " <phrase_1 \"LH\">,\n",
       " <phrase_1 \"<L HR QDCJ JRWCLM\">,\n",
       " <phrase_1 \"BJT JHWH\">,\n",
       " <phrase_1 \"BJ\">]"
      ]
     },
     "execution_count": 14,
     "metadata": {},
     "output_type": "execute_result"
    }
   ],
   "source": [
    "# Filter the clauses without a complement\n",
    "cmpl_bhsa = [cmpl for cmpl in cmpl_bhsa if cmpl]\n",
    "cmpl_bhsa      "
   ]
  },
  {
   "cell_type": "code",
   "execution_count": 15,
   "id": "151a2abe",
   "metadata": {},
   "outputs": [
    {
     "data": {
      "text/plain": [
       "['MN', 'NGD/', '<JN/']"
      ]
     },
     "execution_count": 15,
     "metadata": {},
     "output_type": "execute_result"
    }
   ],
   "source": [
    "cmpl_bhsa[1].to_words.lex"
   ]
  },
  {
   "cell_type": "markdown",
   "id": "fe935c81-fd50-4c12-9a2b-26cf5db59071",
   "metadata": {},
   "source": [
    "### 3. Create the dataset"
   ]
  },
  {
   "cell_type": "markdown",
   "id": "9d67c3ae-6470-479e-976f-c59b0cb57b8f",
   "metadata": {},
   "source": [
    "### 3.1 Check correspondances between DSS and BHSA"
   ]
  },
  {
   "cell_type": "code",
   "execution_count": 16,
   "id": "9950d178",
   "metadata": {},
   "outputs": [
    {
     "data": {
      "text/plain": [
       "<word_1 \"PC<W\">"
      ]
     },
     "execution_count": 16,
     "metadata": {},
     "output_type": "execute_result"
    }
   ],
   "source": [
    "verbs_dss[0] # this is a TFOb object containing a verb"
   ]
  },
  {
   "cell_type": "code",
   "execution_count": 62,
   "id": "69c7c862",
   "metadata": {},
   "outputs": [],
   "source": [
    "def find_bhsa_verb(verb_dss):\n",
    "    \"\"\"\n",
    "    Checks if a verb occurring in DSS also occurs in BHSA (same book, chapter, verse, lexeme).\n",
    "    Else, returns None.\n",
    "    \"\"\"\n",
    "    \n",
    "    # Get book chapter verse info from a DSS verb\n",
    "    v_book = verb_dss.book[0]    \n",
    "    v_chapter = verb_dss.chapter[0]\n",
    "    v_verse = verb_dss.verse[0]\n",
    "\n",
    "    # Get the corresponding BHSA verse\n",
    "    verse_bhsa = TFOb.section((v_book, v_chapter, v_verse), BHSA).to_words\n",
    "    verb_bhsa = verse_bhsa.filter(lex=verb_dss.lex[0])\n",
    "    \n",
    "    # If repetition of verb in same verse: TODO\n",
    "    if len(verb_bhsa) > 1:\n",
    "        return # TODO\n",
    "        scroll = verb_dss.to_scrolls.scroll[0]\n",
    "        verse_dss = TFOb.section([v_book, v_chapter, v_verse], DSS, scroll)\n",
    "        print(\"Verse BHSA:\", verse_bhsa)\n",
    "        print(\"Verse DSS:\", verse_dss)\n",
    "        \n",
    "    if verb_bhsa:\n",
    "        return verb_bhsa\n",
    "\n",
    "    \n",
    "\n",
    "#print(v_book, v_chapter, v_verse)\n",
    "#print(verse_bhsa)"
   ]
  },
  {
   "cell_type": "code",
   "execution_count": 63,
   "id": "1350aca1",
   "metadata": {},
   "outputs": [],
   "source": [
    "def find_dss_verse(verb_dss):\n",
    "    \"\"\"\n",
    "    Returns the verse from the verb for a DSS occurrence.\n",
    "    \"\"\"\n",
    "    # Extract the book, chapter, verse info form the verb\n",
    "    book = verb_dss.book[0]    \n",
    "    chapter = verb_dss.chapter[0]\n",
    "    verse = verb_dss.verse[0]\n",
    "    \n",
    "    # Returns the verse\n",
    "    scroll = verb_dss.to_scrolls.scroll[0]\n",
    "    verse_dss = TFOb.section([book, chapter, verse], DSS, scroll)\n",
    "    return verse_dss"
   ]
  },
  {
   "cell_type": "code",
   "execution_count": 64,
   "id": "ce9d3efb",
   "metadata": {},
   "outputs": [
    {
     "name": "stdout",
     "output_type": "stream",
     "text": [
      "BHSA verse: KJ TB>W L R>WT PNJ MJ BQC Z>T M JDKM RMS XYRJ\n",
      "DSS verse: KJ> TB>W L R>WT PNJ MJ BQC ZW>T M JDKM L RMWS XYRJ\n"
     ]
    }
   ],
   "source": [
    "# Test find_dss_verse function\n",
    "print(\"BHSA verse: \" + str(verbs_bhsa[1].to_verses)) # for comparison\n",
    "print(\"DSS verse: \" + str(find_dss_verse(verbs_dss[1]))) # function test"
   ]
  },
  {
   "cell_type": "code",
   "execution_count": 65,
   "id": "53546534",
   "metadata": {},
   "outputs": [],
   "source": [
    "# Testing the find_dss_verse function\n",
    "\n",
    "#for i in range(0, len(verbs_bhsa)):\n",
    "    #print(f\"\\ni = {i}\")\n",
    "    #print(is_lex_identical(verbs_bhsa[i].to_verses, find_dss_verse(verbs_dss[i]))) "
   ]
  },
  {
   "cell_type": "markdown",
   "id": "d2088501-d9b0-41cc-a472-44c65f8b65c0",
   "metadata": {},
   "source": [
    "### 3.2 Create a function to test if a DSS verse has the same lexemes as a BHSA verse"
   ]
  },
  {
   "cell_type": "code",
   "execution_count": 66,
   "id": "4f4119ac",
   "metadata": {},
   "outputs": [],
   "source": [
    "def is_lex_identical(verse_bhsa, verse_dss):\n",
    "    \"\"\"\n",
    "    Checks if the verses (i.e. BHSA versus DSS) are identical on the lexeme level.\n",
    "    \"\"\"\n",
    "    return [clean(lex) for lex in verse_bhsa.to_words.lex if lex] == [clean(lex) for lex in verse_dss.to_words.lex if lex]\n",
    "    #verse_with_spaces = [clean(lex) for lex in verse_bhsa.to_words.lex] == [clean(lex) for lex in verse_dss.to_words.lex]\n",
    "    #if verse_without_spaces != verse_with_spaces:\n",
    "        #print(verse_bhsa.to_words.lex)\n",
    "        #print(verse_dss.to_words.lex)\n",
    "        #print(verse_bhsa.text)\n",
    "        #print(verse_dss.text)\n",
    "        #print(verse_bhsa.to_words[-1].text)\n",
    "        #print(verse_dss.to_words[-1].text)\n",
    "        "
   ]
  },
  {
   "cell_type": "code",
   "execution_count": 67,
   "id": "46b4c747",
   "metadata": {},
   "outputs": [
    {
     "name": "stdout",
     "output_type": "stream",
     "text": [
      "30\n"
     ]
    }
   ],
   "source": [
    "# Print the results from is_lex_identical\n",
    "\n",
    "n = 0\n",
    "\n",
    "for i in range(0, len(verbs_bhsa)):\n",
    "    if is_lex_identical(verbs_bhsa[i].to_verses, find_dss_verse(verbs_dss[i])):\n",
    "        n += 1\n",
    "print(n)\n",
    "\n",
    "\n",
    "    #print(f\"\\ni = {i}\")\n",
    "    #print(is_lex_identical(verbs_bhsa[i].to_verses, find_dss_verse(verbs_dss[i])))  \n",
    "    \n",
    "# To see the lexemes, add the following lines inside the function is_lex_identical above:\n",
    "#    print([clean(lex) for lex in verse_bhsa.to_words.lex if lex])\n",
    "#    print([clean(lex) for lex in verse_dss.to_words.lex if lex])"
   ]
  },
  {
   "cell_type": "code",
   "execution_count": 191,
   "id": "321cb2d6",
   "metadata": {},
   "outputs": [],
   "source": [
    "def is_sign_unc(verse):\n",
    "    \"\"\"If a verse contains a missing or uncertain sign, returns True. Else, returns False.\"\"\"\n",
    "    unc_types = ['missing', 'unc']\n",
    "    for sign in verse.to_signs:\n",
    "        if sign.type[0] in unc_types:\n",
    "            return True\n",
    "    return False"
   ]
  },
  {
   "cell_type": "markdown",
   "id": "ae886c9c-5f7e-4953-9926-476ffca77237",
   "metadata": {},
   "source": [
    "### 3.3 Find complements"
   ]
  },
  {
   "cell_type": "code",
   "execution_count": 200,
   "id": "8618032c",
   "metadata": {},
   "outputs": [],
   "source": [
    "# Create a dataset with the occurrences\n",
    "\n",
    "def find_complements(verb):\n",
    "    \"\"\"Find the complement of a verb. If no match, returns None\"\"\"\n",
    "    if verb.source.name == \"BHSA\":\n",
    "        complements = verb.to_clauses.to_phrases.filter(function=\"Cmpl\")\n",
    "        return complements\n",
    "    \n",
    "    # if the verb is not BHSA, it's DSS\n",
    "    verb_bhsa = find_bhsa_verb(verb)\n",
    "\n",
    "    # Check if verses are identical\n",
    "    if verb_bhsa and is_lex_identical(verb_bhsa.to_verses, find_dss_verse(verb)):\n",
    "        return find_complements(verb_bhsa)\n",
    "        \n",
    "\n",
    "\n",
    "items = [] # create an empty list to store all the information for each occ.\n",
    "\n",
    "       \n",
    "for verb in chain(verbs_bhsa, verbs_dss):\n",
    "    \n",
    "    # Add MT as \"scroll\" for the BHSA\n",
    "    if verb.source.name == \"BHSA\":\n",
    "        scroll = \"MT\"\n",
    "        verse = verb.to_verses\n",
    "        dir_he_dss_verse = \"\"\n",
    "        sign_info = \"\"\n",
    "\n",
    "    else:\n",
    "        scroll = verb.to_scrolls.scroll[0]\n",
    "        verse = TFOb.section([verb.book[0], verb.chapter[0], verb.verse[0]], DSS, scroll)\n",
    "        dir_he_dss_verse = int(\"H\" in verse.uvf_etcbc)\n",
    "        if is_sign_unc(verse):\n",
    "            sign_info = \"unc or missing\"\n",
    "        else:\n",
    "            sign_info = \"\"\n",
    "        \n",
    "    complements = find_complements(verb)\n",
    "    \n",
    "    # If complements is None ==> there was no match between DSS and BHSA verses ==> find complement manually\n",
    "    if not complements:\n",
    "        complements = [\"\"]\n",
    "\n",
    "    for complement in complements:        \n",
    "        if complement == \"\":\n",
    "            dir_he = \"\"\n",
    "        else: \n",
    "            dir_he = int(\"H\" in complement.to_words.uvf)\n",
    "               \n",
    "    \n",
    "        # Collect information about the following variables:    \n",
    "        item = {\n",
    "            \"verb_id\": verb.ids[0], \n",
    "            \"lex\": verb.lex[0], \n",
    "            \"scroll\": scroll,\n",
    "            \"book\": verb.book[0], \n",
    "            \"chapter\": verb.chapter[0], \n",
    "            \"verse_num\": verb.verse[0],\n",
    "            \"gcons_verb\": clean(verb.g_cons[0]),\n",
    "            \"gcons_verse\": clean(str(verse)),\n",
    "            \"gcons_clause\": clean(str(verb.to_clauses)),\n",
    "            \"subject\": clean(str(verb.to_clauses.to_phrases.filter(function=\"Subj\"))),\n",
    "            \"complement\": clean(str(complement)),\n",
    "            \"dir_he\": dir_he,\n",
    "            \"dir_he_dss\": dir_he_dss_verse,\n",
    "            \"sign_info\": sign_info,\n",
    "            \"stem\": verb.vs[0],\n",
    "            \"tense\": verb.vt[0],\n",
    "        }\n",
    "        \n",
    "        if complement != \"\":\n",
    "            prepositions = complement.to_words.filter(sp=\"prep\")\n",
    "            n = 0\n",
    "            for preposition in prepositions:\n",
    "                n += 1\n",
    "                item[f\"preposition_{n}\"] = str(preposition)\n",
    "\n",
    "        items.append(item)"
   ]
  },
  {
   "cell_type": "markdown",
   "id": "0d6c4628-3c79-477d-a6b8-1755cdff95a4",
   "metadata": {},
   "source": [
    "### 3.4 Create the dataset with Pandas"
   ]
  },
  {
   "cell_type": "code",
   "execution_count": 201,
   "id": "aee3bd70",
   "metadata": {},
   "outputs": [],
   "source": [
    "df = pd.DataFrame(items).fillna(\"\")\n",
    "df.sort_values([\"book\", \"chapter\", \"verse_num\"], ascending=[True, True, True], ignore_index=True, inplace=True)"
   ]
  },
  {
   "cell_type": "code",
   "execution_count": 202,
   "id": "3fe2e36b",
   "metadata": {},
   "outputs": [
    {
     "data": {
      "text/html": [
       "<div>\n",
       "<style scoped>\n",
       "    .dataframe tbody tr th:only-of-type {\n",
       "        vertical-align: middle;\n",
       "    }\n",
       "\n",
       "    .dataframe tbody tr th {\n",
       "        vertical-align: top;\n",
       "    }\n",
       "\n",
       "    .dataframe thead th {\n",
       "        text-align: right;\n",
       "    }\n",
       "</style>\n",
       "<table border=\"1\" class=\"dataframe\">\n",
       "  <thead>\n",
       "    <tr style=\"text-align: right;\">\n",
       "      <th></th>\n",
       "      <th>verb_id</th>\n",
       "      <th>lex</th>\n",
       "      <th>scroll</th>\n",
       "      <th>book</th>\n",
       "      <th>chapter</th>\n",
       "      <th>verse_num</th>\n",
       "      <th>gcons_verb</th>\n",
       "      <th>gcons_verse</th>\n",
       "      <th>gcons_clause</th>\n",
       "      <th>subject</th>\n",
       "      <th>complement</th>\n",
       "      <th>dir_he</th>\n",
       "      <th>dir_he_dss</th>\n",
       "      <th>sign_info</th>\n",
       "      <th>stem</th>\n",
       "      <th>tense</th>\n",
       "      <th>preposition_1</th>\n",
       "      <th>preposition_2</th>\n",
       "      <th>preposition_3</th>\n",
       "      <th>preposition_4</th>\n",
       "    </tr>\n",
       "  </thead>\n",
       "  <tbody>\n",
       "    <tr>\n",
       "      <th>27</th>\n",
       "      <td>1898827</td>\n",
       "      <td>CWB[</td>\n",
       "      <td>1Qisaa</td>\n",
       "      <td>Isaiah</td>\n",
       "      <td>10</td>\n",
       "      <td>21</td>\n",
       "      <td>JCWB</td>\n",
       "      <td>C&gt;R JCWB C&gt;R J&lt;QWB &gt;L &gt;L GBWR</td>\n",
       "      <td></td>\n",
       "      <td></td>\n",
       "      <td>&gt;L &gt;L GBWR</td>\n",
       "      <td>0</td>\n",
       "      <td>0</td>\n",
       "      <td></td>\n",
       "      <td>qal</td>\n",
       "      <td>impf</td>\n",
       "      <td>&gt;L</td>\n",
       "      <td></td>\n",
       "      <td></td>\n",
       "      <td></td>\n",
       "    </tr>\n",
       "    <tr>\n",
       "      <th>30</th>\n",
       "      <td>1898844</td>\n",
       "      <td>CWB[</td>\n",
       "      <td>1Qisaa</td>\n",
       "      <td>Isaiah</td>\n",
       "      <td>10</td>\n",
       "      <td>22</td>\n",
       "      <td>JCWB</td>\n",
       "      <td>KJ&gt; &gt;M JHJH &lt;MK JFR&gt;L K XWL H JM C&gt;R JCWB BW K...</td>\n",
       "      <td></td>\n",
       "      <td></td>\n",
       "      <td>BW</td>\n",
       "      <td>0</td>\n",
       "      <td>0</td>\n",
       "      <td></td>\n",
       "      <td>qal</td>\n",
       "      <td>impf</td>\n",
       "      <td>BW</td>\n",
       "      <td></td>\n",
       "      <td></td>\n",
       "      <td></td>\n",
       "    </tr>\n",
       "    <tr>\n",
       "      <th>36</th>\n",
       "      <td>1898948</td>\n",
       "      <td>BW&gt;[</td>\n",
       "      <td>1Qisaa</td>\n",
       "      <td>Isaiah</td>\n",
       "      <td>10</td>\n",
       "      <td>28</td>\n",
       "      <td>B&gt;</td>\n",
       "      <td>B&gt; &lt;L &lt;JTH &lt;BR B MGRWN L MKMC JPQWD KLJW</td>\n",
       "      <td></td>\n",
       "      <td></td>\n",
       "      <td>&lt;L &lt;JT</td>\n",
       "      <td>0</td>\n",
       "      <td>1</td>\n",
       "      <td></td>\n",
       "      <td>qal</td>\n",
       "      <td>perf</td>\n",
       "      <td>&lt;L</td>\n",
       "      <td></td>\n",
       "      <td></td>\n",
       "      <td></td>\n",
       "    </tr>\n",
       "    <tr>\n",
       "      <th>37</th>\n",
       "      <td>1898951</td>\n",
       "      <td>&lt;BR[</td>\n",
       "      <td>1Qisaa</td>\n",
       "      <td>Isaiah</td>\n",
       "      <td>10</td>\n",
       "      <td>28</td>\n",
       "      <td>&lt;BR</td>\n",
       "      <td>B&gt; &lt;L &lt;JTH &lt;BR B MGRWN L MKMC JPQWD KLJW</td>\n",
       "      <td></td>\n",
       "      <td></td>\n",
       "      <td>B MGRWN</td>\n",
       "      <td>0</td>\n",
       "      <td>1</td>\n",
       "      <td></td>\n",
       "      <td>qal</td>\n",
       "      <td>perf</td>\n",
       "      <td>B</td>\n",
       "      <td></td>\n",
       "      <td></td>\n",
       "      <td></td>\n",
       "    </tr>\n",
       "    <tr>\n",
       "      <th>44</th>\n",
       "      <td>1898482</td>\n",
       "      <td>BW&gt;[</td>\n",
       "      <td>1Qisaa</td>\n",
       "      <td>Isaiah</td>\n",
       "      <td>10</td>\n",
       "      <td>3</td>\n",
       "      <td>TBW&gt;</td>\n",
       "      <td>W MH T&lt;FW L JWM PQWDH W L C&gt;H M MRXQ TBW&gt; &lt;L M...</td>\n",
       "      <td></td>\n",
       "      <td></td>\n",
       "      <td>M MRXQ</td>\n",
       "      <td>0</td>\n",
       "      <td>0</td>\n",
       "      <td></td>\n",
       "      <td>qal</td>\n",
       "      <td>impf</td>\n",
       "      <td>M</td>\n",
       "      <td></td>\n",
       "      <td></td>\n",
       "      <td></td>\n",
       "    </tr>\n",
       "    <tr>\n",
       "      <th>...</th>\n",
       "      <td>...</td>\n",
       "      <td>...</td>\n",
       "      <td>...</td>\n",
       "      <td>...</td>\n",
       "      <td>...</td>\n",
       "      <td>...</td>\n",
       "      <td>...</td>\n",
       "      <td>...</td>\n",
       "      <td>...</td>\n",
       "      <td>...</td>\n",
       "      <td>...</td>\n",
       "      <td>...</td>\n",
       "      <td>...</td>\n",
       "      <td>...</td>\n",
       "      <td>...</td>\n",
       "      <td>...</td>\n",
       "      <td>...</td>\n",
       "      <td>...</td>\n",
       "      <td>...</td>\n",
       "      <td>...</td>\n",
       "    </tr>\n",
       "    <tr>\n",
       "      <th>1103</th>\n",
       "      <td>1917892</td>\n",
       "      <td>HLK[</td>\n",
       "      <td>1Qisaa</td>\n",
       "      <td>Isaiah</td>\n",
       "      <td>65</td>\n",
       "      <td>2</td>\n",
       "      <td>HWLKJM</td>\n",
       "      <td>PRFTJ JDJ KWL H JWM &gt;L &lt;M SWRH H HWLKJM H DRK ...</td>\n",
       "      <td></td>\n",
       "      <td></td>\n",
       "      <td>&gt;XR MXCBTJHM</td>\n",
       "      <td>0</td>\n",
       "      <td>0</td>\n",
       "      <td></td>\n",
       "      <td>qal</td>\n",
       "      <td>ptca</td>\n",
       "      <td></td>\n",
       "      <td></td>\n",
       "      <td></td>\n",
       "      <td></td>\n",
       "    </tr>\n",
       "    <tr>\n",
       "      <th>1108</th>\n",
       "      <td>1918021</td>\n",
       "      <td>JY&gt;[</td>\n",
       "      <td>1Qisaa</td>\n",
       "      <td>Isaiah</td>\n",
       "      <td>65</td>\n",
       "      <td>9</td>\n",
       "      <td>HWYJTJ</td>\n",
       "      <td>W HWYJTJ M J&lt;QWB ZR&lt; W M JHWDH JRC HRJ W JRCWH...</td>\n",
       "      <td></td>\n",
       "      <td></td>\n",
       "      <td>M J&lt;QB</td>\n",
       "      <td>0</td>\n",
       "      <td>1</td>\n",
       "      <td></td>\n",
       "      <td>hifil</td>\n",
       "      <td>perf</td>\n",
       "      <td>M</td>\n",
       "      <td></td>\n",
       "      <td></td>\n",
       "      <td></td>\n",
       "    </tr>\n",
       "    <tr>\n",
       "      <th>1147</th>\n",
       "      <td>1897446</td>\n",
       "      <td>NWX[</td>\n",
       "      <td>1Qisaa</td>\n",
       "      <td>Isaiah</td>\n",
       "      <td>7</td>\n",
       "      <td>19</td>\n",
       "      <td>NXW</td>\n",
       "      <td>W B&gt;W W NXW KWLM B NXLJ H BTWT W B NQJQJ H SL&lt;...</td>\n",
       "      <td></td>\n",
       "      <td></td>\n",
       "      <td>B NXLJ H BTWT W B NQJQJ H SL&lt;JM W B KL H N&lt;YWY...</td>\n",
       "      <td>0</td>\n",
       "      <td>0</td>\n",
       "      <td></td>\n",
       "      <td>qal</td>\n",
       "      <td>perf</td>\n",
       "      <td>B</td>\n",
       "      <td>B</td>\n",
       "      <td>B</td>\n",
       "      <td>B</td>\n",
       "    </tr>\n",
       "    <tr>\n",
       "      <th>1155</th>\n",
       "      <td>1897221</td>\n",
       "      <td>&lt;LH[</td>\n",
       "      <td>1Qisaa</td>\n",
       "      <td>Isaiah</td>\n",
       "      <td>7</td>\n",
       "      <td>6</td>\n",
       "      <td>N&lt;LH</td>\n",
       "      <td>N&lt;LH B JHWDH W NQJYNH W NBQ&lt;NH &gt;LJNW W NMLJK M...</td>\n",
       "      <td></td>\n",
       "      <td></td>\n",
       "      <td>B JHWDH</td>\n",
       "      <td>0</td>\n",
       "      <td>0</td>\n",
       "      <td></td>\n",
       "      <td>qal</td>\n",
       "      <td>impf</td>\n",
       "      <td>B</td>\n",
       "      <td></td>\n",
       "      <td></td>\n",
       "      <td></td>\n",
       "    </tr>\n",
       "    <tr>\n",
       "      <th>1179</th>\n",
       "      <td>1897748</td>\n",
       "      <td>XLP[</td>\n",
       "      <td>1Qisaa</td>\n",
       "      <td>Isaiah</td>\n",
       "      <td>8</td>\n",
       "      <td>8</td>\n",
       "      <td>XLP</td>\n",
       "      <td>W XLP B JHWDH CVP W &lt;BR &lt;D YW&gt;R JGJ&lt; W HJH MVW...</td>\n",
       "      <td></td>\n",
       "      <td></td>\n",
       "      <td>B JHWDH</td>\n",
       "      <td>0</td>\n",
       "      <td>0</td>\n",
       "      <td></td>\n",
       "      <td>qal</td>\n",
       "      <td>perf</td>\n",
       "      <td>B</td>\n",
       "      <td></td>\n",
       "      <td></td>\n",
       "      <td></td>\n",
       "    </tr>\n",
       "  </tbody>\n",
       "</table>\n",
       "<p>71 rows × 20 columns</p>\n",
       "</div>"
      ],
      "text/plain": [
       "      verb_id   lex  scroll    book chapter verse_num gcons_verb  \\\n",
       "27    1898827  CWB[  1Qisaa  Isaiah      10        21       JCWB   \n",
       "30    1898844  CWB[  1Qisaa  Isaiah      10        22       JCWB   \n",
       "36    1898948  BW>[  1Qisaa  Isaiah      10        28         B>   \n",
       "37    1898951  <BR[  1Qisaa  Isaiah      10        28        <BR   \n",
       "44    1898482  BW>[  1Qisaa  Isaiah      10         3       TBW>   \n",
       "...       ...   ...     ...     ...     ...       ...        ...   \n",
       "1103  1917892  HLK[  1Qisaa  Isaiah      65         2     HWLKJM   \n",
       "1108  1918021  JY>[  1Qisaa  Isaiah      65         9     HWYJTJ   \n",
       "1147  1897446  NWX[  1Qisaa  Isaiah       7        19        NXW   \n",
       "1155  1897221  <LH[  1Qisaa  Isaiah       7         6       N<LH   \n",
       "1179  1897748  XLP[  1Qisaa  Isaiah       8         8        XLP   \n",
       "\n",
       "                                            gcons_verse gcons_clause subject  \\\n",
       "27                        C>R JCWB C>R J<QWB >L >L GBWR                        \n",
       "30    KJ> >M JHJH <MK JFR>L K XWL H JM C>R JCWB BW K...                        \n",
       "36             B> <L <JTH <BR B MGRWN L MKMC JPQWD KLJW                        \n",
       "37             B> <L <JTH <BR B MGRWN L MKMC JPQWD KLJW                        \n",
       "44    W MH T<FW L JWM PQWDH W L C>H M MRXQ TBW> <L M...                        \n",
       "...                                                 ...          ...     ...   \n",
       "1103  PRFTJ JDJ KWL H JWM >L <M SWRH H HWLKJM H DRK ...                        \n",
       "1108  W HWYJTJ M J<QWB ZR< W M JHWDH JRC HRJ W JRCWH...                        \n",
       "1147  W B>W W NXW KWLM B NXLJ H BTWT W B NQJQJ H SL<...                        \n",
       "1155  N<LH B JHWDH W NQJYNH W NBQ<NH >LJNW W NMLJK M...                        \n",
       "1179  W XLP B JHWDH CVP W <BR <D YW>R JGJ< W HJH MVW...                        \n",
       "\n",
       "                                             complement dir_he dir_he_dss  \\\n",
       "27                                           >L >L GBWR      0          0   \n",
       "30                                                   BW      0          0   \n",
       "36                                               <L <JT      0          1   \n",
       "37                                              B MGRWN      0          1   \n",
       "44                                               M MRXQ      0          0   \n",
       "...                                                 ...    ...        ...   \n",
       "1103                                       >XR MXCBTJHM      0          0   \n",
       "1108                                             M J<QB      0          1   \n",
       "1147  B NXLJ H BTWT W B NQJQJ H SL<JM W B KL H N<YWY...      0          0   \n",
       "1155                                            B JHWDH      0          0   \n",
       "1179                                            B JHWDH      0          0   \n",
       "\n",
       "     sign_info   stem tense preposition_1 preposition_2 preposition_3  \\\n",
       "27                qal  impf            >L                               \n",
       "30                qal  impf            BW                               \n",
       "36                qal  perf            <L                               \n",
       "37                qal  perf             B                               \n",
       "44                qal  impf             M                               \n",
       "...        ...    ...   ...           ...           ...           ...   \n",
       "1103              qal  ptca                                             \n",
       "1108            hifil  perf             M                               \n",
       "1147              qal  perf             B             B             B   \n",
       "1155              qal  impf             B                               \n",
       "1179              qal  perf             B                               \n",
       "\n",
       "     preposition_4  \n",
       "27                  \n",
       "30                  \n",
       "36                  \n",
       "37                  \n",
       "44                  \n",
       "...            ...  \n",
       "1103                \n",
       "1108                \n",
       "1147             B  \n",
       "1155                \n",
       "1179                \n",
       "\n",
       "[71 rows x 20 columns]"
      ]
     },
     "execution_count": 202,
     "metadata": {},
     "output_type": "execute_result"
    }
   ],
   "source": [
    "# Show the occurrences where DSS verse = BHSA verse\n",
    "# df[(df.scroll != \"MT\") & (df.complement != \"\")]\n",
    "# df[(df.complement != \"\")]\n",
    "df[(df.scroll == \"1Qisaa\") & (df.complement != \"\")]"
   ]
  },
  {
   "cell_type": "code",
   "execution_count": 208,
   "id": "7e3bca88",
   "metadata": {},
   "outputs": [
    {
     "data": {
      "text/html": [
       "<div>\n",
       "<style scoped>\n",
       "    .dataframe tbody tr th:only-of-type {\n",
       "        vertical-align: middle;\n",
       "    }\n",
       "\n",
       "    .dataframe tbody tr th {\n",
       "        vertical-align: top;\n",
       "    }\n",
       "\n",
       "    .dataframe thead th {\n",
       "        text-align: right;\n",
       "    }\n",
       "</style>\n",
       "<table border=\"1\" class=\"dataframe\">\n",
       "  <thead>\n",
       "    <tr style=\"text-align: right;\">\n",
       "      <th></th>\n",
       "      <th>verb_id</th>\n",
       "      <th>lex</th>\n",
       "      <th>scroll</th>\n",
       "      <th>book</th>\n",
       "      <th>chapter</th>\n",
       "      <th>verse_num</th>\n",
       "      <th>gcons_verb</th>\n",
       "      <th>gcons_verse</th>\n",
       "      <th>gcons_clause</th>\n",
       "      <th>subject</th>\n",
       "      <th>complement</th>\n",
       "      <th>dir_he</th>\n",
       "      <th>dir_he_dss</th>\n",
       "      <th>sign_info</th>\n",
       "      <th>stem</th>\n",
       "      <th>tense</th>\n",
       "      <th>preposition_1</th>\n",
       "      <th>preposition_2</th>\n",
       "      <th>preposition_3</th>\n",
       "      <th>preposition_4</th>\n",
       "    </tr>\n",
       "  </thead>\n",
       "  <tbody>\n",
       "    <tr>\n",
       "      <th>194</th>\n",
       "      <td>218718</td>\n",
       "      <td>NWS[</td>\n",
       "      <td>MT</td>\n",
       "      <td>Isaiah</td>\n",
       "      <td>20</td>\n",
       "      <td>6</td>\n",
       "      <td>NSNW</td>\n",
       "      <td>W &gt;MR JCB H &gt;J H ZH B JWM H HW&gt; HNH KH MBVNW &gt;...</td>\n",
       "      <td>&gt;CR NSNW CM L &lt;ZRH</td>\n",
       "      <td></td>\n",
       "      <td>CM</td>\n",
       "      <td>0</td>\n",
       "      <td></td>\n",
       "      <td></td>\n",
       "      <td>qal</td>\n",
       "      <td>perf</td>\n",
       "      <td></td>\n",
       "      <td></td>\n",
       "      <td></td>\n",
       "      <td></td>\n",
       "    </tr>\n",
       "  </tbody>\n",
       "</table>\n",
       "</div>"
      ],
      "text/plain": [
       "     verb_id   lex scroll    book chapter verse_num gcons_verb  \\\n",
       "194   218718  NWS[     MT  Isaiah      20         6       NSNW   \n",
       "\n",
       "                                           gcons_verse        gcons_clause  \\\n",
       "194  W >MR JCB H >J H ZH B JWM H HW> HNH KH MBVNW >...  >CR NSNW CM L <ZRH   \n",
       "\n",
       "    subject complement dir_he dir_he_dss sign_info stem tense preposition_1  \\\n",
       "194                 CM      0                       qal  perf                 \n",
       "\n",
       "    preposition_2 preposition_3 preposition_4  \n",
       "194                                            "
      ]
     },
     "execution_count": 208,
     "metadata": {},
     "output_type": "execute_result"
    }
   ],
   "source": [
    "# Show dataset\n",
    "df[(df.chapter == \"20\") & (df.verse_num == \"6\")]"
   ]
  },
  {
   "cell_type": "code",
   "execution_count": 205,
   "id": "2e5b0ace",
   "metadata": {},
   "outputs": [
    {
     "data": {
      "text/html": [
       "<div>\n",
       "<style scoped>\n",
       "    .dataframe tbody tr th:only-of-type {\n",
       "        vertical-align: middle;\n",
       "    }\n",
       "\n",
       "    .dataframe tbody tr th {\n",
       "        vertical-align: top;\n",
       "    }\n",
       "\n",
       "    .dataframe thead th {\n",
       "        text-align: right;\n",
       "    }\n",
       "</style>\n",
       "<table border=\"1\" class=\"dataframe\">\n",
       "  <thead>\n",
       "    <tr style=\"text-align: right;\">\n",
       "      <th></th>\n",
       "      <th>verb_id</th>\n",
       "      <th>lex</th>\n",
       "      <th>scroll</th>\n",
       "      <th>book</th>\n",
       "      <th>chapter</th>\n",
       "      <th>verse_num</th>\n",
       "      <th>gcons_verb</th>\n",
       "      <th>gcons_verse</th>\n",
       "      <th>gcons_clause</th>\n",
       "      <th>subject</th>\n",
       "      <th>complement</th>\n",
       "      <th>dir_he</th>\n",
       "      <th>dir_he_dss</th>\n",
       "      <th>sign_info</th>\n",
       "      <th>stem</th>\n",
       "      <th>tense</th>\n",
       "      <th>preposition_1</th>\n",
       "      <th>preposition_2</th>\n",
       "      <th>preposition_3</th>\n",
       "      <th>preposition_4</th>\n",
       "    </tr>\n",
       "  </thead>\n",
       "  <tbody>\n",
       "    <tr>\n",
       "      <th>34</th>\n",
       "      <td>216009</td>\n",
       "      <td>BW&gt;[</td>\n",
       "      <td>MT</td>\n",
       "      <td>Isaiah</td>\n",
       "      <td>10</td>\n",
       "      <td>28</td>\n",
       "      <td>B&gt;</td>\n",
       "      <td>B&gt; &lt;L &lt;JT &lt;BR B MGRWN L MKMF JPQJD KLJW</td>\n",
       "      <td>B&gt; &lt;L &lt;JT</td>\n",
       "      <td></td>\n",
       "      <td>&lt;L &lt;JT</td>\n",
       "      <td>0</td>\n",
       "      <td></td>\n",
       "      <td></td>\n",
       "      <td>qal</td>\n",
       "      <td>perf</td>\n",
       "      <td>&lt;L</td>\n",
       "      <td></td>\n",
       "      <td></td>\n",
       "      <td></td>\n",
       "    </tr>\n",
       "    <tr>\n",
       "      <th>35</th>\n",
       "      <td>216012</td>\n",
       "      <td>&lt;BR[</td>\n",
       "      <td>MT</td>\n",
       "      <td>Isaiah</td>\n",
       "      <td>10</td>\n",
       "      <td>28</td>\n",
       "      <td>&lt;BR</td>\n",
       "      <td>B&gt; &lt;L &lt;JT &lt;BR B MGRWN L MKMF JPQJD KLJW</td>\n",
       "      <td>&lt;BR B MGRWN</td>\n",
       "      <td></td>\n",
       "      <td>B MGRWN</td>\n",
       "      <td>0</td>\n",
       "      <td></td>\n",
       "      <td></td>\n",
       "      <td>qal</td>\n",
       "      <td>perf</td>\n",
       "      <td>B</td>\n",
       "      <td></td>\n",
       "      <td></td>\n",
       "      <td></td>\n",
       "    </tr>\n",
       "    <tr>\n",
       "      <th>36</th>\n",
       "      <td>1898948</td>\n",
       "      <td>BW&gt;[</td>\n",
       "      <td>1Qisaa</td>\n",
       "      <td>Isaiah</td>\n",
       "      <td>10</td>\n",
       "      <td>28</td>\n",
       "      <td>B&gt;</td>\n",
       "      <td>B&gt; &lt;L &lt;JTH &lt;BR B MGRWN L MKMC JPQWD KLJW</td>\n",
       "      <td></td>\n",
       "      <td></td>\n",
       "      <td>&lt;L &lt;JT</td>\n",
       "      <td>0</td>\n",
       "      <td>1</td>\n",
       "      <td></td>\n",
       "      <td>qal</td>\n",
       "      <td>perf</td>\n",
       "      <td>&lt;L</td>\n",
       "      <td></td>\n",
       "      <td></td>\n",
       "      <td></td>\n",
       "    </tr>\n",
       "    <tr>\n",
       "      <th>37</th>\n",
       "      <td>1898951</td>\n",
       "      <td>&lt;BR[</td>\n",
       "      <td>1Qisaa</td>\n",
       "      <td>Isaiah</td>\n",
       "      <td>10</td>\n",
       "      <td>28</td>\n",
       "      <td>&lt;BR</td>\n",
       "      <td>B&gt; &lt;L &lt;JTH &lt;BR B MGRWN L MKMC JPQWD KLJW</td>\n",
       "      <td></td>\n",
       "      <td></td>\n",
       "      <td>B MGRWN</td>\n",
       "      <td>0</td>\n",
       "      <td>1</td>\n",
       "      <td></td>\n",
       "      <td>qal</td>\n",
       "      <td>perf</td>\n",
       "      <td>B</td>\n",
       "      <td></td>\n",
       "      <td></td>\n",
       "      <td></td>\n",
       "    </tr>\n",
       "  </tbody>\n",
       "</table>\n",
       "</div>"
      ],
      "text/plain": [
       "    verb_id   lex  scroll    book chapter verse_num gcons_verb  \\\n",
       "34   216009  BW>[      MT  Isaiah      10        28         B>   \n",
       "35   216012  <BR[      MT  Isaiah      10        28        <BR   \n",
       "36  1898948  BW>[  1Qisaa  Isaiah      10        28         B>   \n",
       "37  1898951  <BR[  1Qisaa  Isaiah      10        28        <BR   \n",
       "\n",
       "                                 gcons_verse gcons_clause subject complement  \\\n",
       "34   B> <L <JT <BR B MGRWN L MKMF JPQJD KLJW    B> <L <JT             <L <JT   \n",
       "35   B> <L <JT <BR B MGRWN L MKMF JPQJD KLJW  <BR B MGRWN            B MGRWN   \n",
       "36  B> <L <JTH <BR B MGRWN L MKMC JPQWD KLJW                          <L <JT   \n",
       "37  B> <L <JTH <BR B MGRWN L MKMC JPQWD KLJW                         B MGRWN   \n",
       "\n",
       "   dir_he dir_he_dss sign_info stem tense preposition_1 preposition_2  \\\n",
       "34      0                       qal  perf            <L                 \n",
       "35      0                       qal  perf             B                 \n",
       "36      0          1            qal  perf            <L                 \n",
       "37      0          1            qal  perf             B                 \n",
       "\n",
       "   preposition_3 preposition_4  \n",
       "34                              \n",
       "35                              \n",
       "36                              \n",
       "37                              "
      ]
     },
     "execution_count": 205,
     "metadata": {},
     "output_type": "execute_result"
    }
   ],
   "source": [
    "df[(df.book == \"Isaiah\") & (df.chapter == \"10\") & (df.verse_num == \"28\")]"
   ]
  },
  {
   "cell_type": "code",
   "execution_count": 188,
   "id": "33ef78c2",
   "metadata": {},
   "outputs": [],
   "source": []
  },
  {
   "cell_type": "code",
   "execution_count": 189,
   "id": "7e48f8c2",
   "metadata": {},
   "outputs": [
    {
     "data": {
      "text/plain": [
       "True"
      ]
     },
     "execution_count": 189,
     "metadata": {},
     "output_type": "execute_result"
    }
   ],
   "source": [
    "is_sign_unc(TFOb(ids, DSS))"
   ]
  },
  {
   "cell_type": "code",
   "execution_count": 179,
   "id": "90d7bb0b",
   "metadata": {},
   "outputs": [
    {
     "data": {
      "text/plain": [
       "<word_9026 \"CM<W CMJM W H>ZJNJ H >RY KJ> JHWH DBR BNJM GDLTJ W RWMMTJ W HMH PC<W BJ KJ> TB>W [...] >NCJM H PWC<JM BJ> KJ> TWL<TM LW> TMWT W >CHMH LW> TKBH W HJW DR>WN L KWL H BFR\">"
      ]
     },
     "execution_count": 179,
     "metadata": {},
     "output_type": "execute_result"
    }
   ],
   "source": [
    "verse = TFOb(ids, DSS)\n",
    "verse"
   ]
  },
  {
   "cell_type": "code",
   "execution_count": 187,
   "id": "8a135f70",
   "metadata": {},
   "outputs": [
    {
     "name": "stdout",
     "output_type": "stream",
     "text": [
      "True\n",
      "True\n",
      "True\n",
      "True\n",
      "True\n",
      "True\n",
      "True\n",
      "True\n",
      "True\n",
      "True\n",
      "True\n",
      "True\n",
      "True\n",
      "False\n"
     ]
    }
   ],
   "source": [
    "unc_types = ['missing', 'unc']\n",
    "for sign in verse.to_signs:\n",
    "    if sign.type[0] in unc_types:\n",
    "        print(True)\n",
    "print(False)"
   ]
  },
  {
   "cell_type": "code",
   "execution_count": 183,
   "id": "7c2bad59",
   "metadata": {},
   "outputs": [
    {
     "data": {
      "text/plain": [
       "{'cons', 'empty', 'missing', 'punct', 'sep', 'unc'}"
      ]
     },
     "execution_count": 183,
     "metadata": {},
     "output_type": "execute_result"
    }
   ],
   "source": [
    "set(verse.to_signs.type)"
   ]
  },
  {
   "cell_type": "code",
   "execution_count": 190,
   "id": "ad3d4b60",
   "metadata": {},
   "outputs": [
    {
     "name": "stdout",
     "output_type": "stream",
     "text": [
      "KJ JW>MR B KWX JDJ <FJTJ W B XKMTJ KJ NBWNWTJ W >SJR GBLWT <MJM W <TJDWTJHMH CWCJTJ W >WRJD JWCBJM\n",
      "KJ JW>MR B KWX JDJ <FJTJ W B XKMTJ KJ NBWNWTJ W >SJR GBLWT <MJM W <TJDWTJHMH CWCJTJ W >WRJD JWCBJM\n",
      "W HJJTH MSLH L C>R <MW >CR JC>R M >CWR K >CR HJJTH L JFR>L B JWM <LWT M >RY MYRJM\n",
      ">L TFMXJ PLCT KWLK KJ NCBR CBV MKKH KJ M CWRC NXC JY> YP< W PRJW FRP M<WPP\n",
      ">L TFMXJ PLCT KWLK KJ NCBR CBV MKKH KJ M CWRC NXC JY> YP< W PRJW FRP M<WPP\n",
      "QRWBW >LJ W CM<W ZW>T LW> M RWC B STR DBRTJ B <T HJWTH CMH >NJ W <TH >DWNJ JHWH CLXNJ W RWXW\n",
      "W PWL W PZWRJ JHWH JCWBW W B>W YJWN B RWNH W FMXT <WLM <L RW>CJHMH FFWN W FMXH JFJGW W NS JGWN W >NXH\n",
      "W PWL W PZWRJ JHWH JCWBW W B>W YJWN B RWNH W FMXT <WLM <L RW>CJHMH FFWN W FMXH JFJGW W NS JGWN W >NXH\n",
      "W PWL W PZWRJ JHWH JCWBW W B>W YJWN B RWNH W FMXT <WLM <L RW>CJHMH FFWN W FMXH JFJGW W NS JGWN W >NXH\n",
      "K JM NWX ZW>T LJ >CR NCB<TJ M <BWR MJ NWX <WD <L H >RY KN NCB<TJ M QYWP <LJK <WD W M G<WR BK\n",
      "W HBJ>W >T KWL KWL >XJKMH M KL H GW>JM MNXH L JHWH B SWSJM W B RKBM W B YWBJM W B W B PRDJM W B KWRKWBWT >L HR QDCJ JRWCLJM >MR JHWH K >CR JBJ>W BNJ JFR>L >T H MNXH B KLJ VHWR BJT JHWH\n",
      "W HBJ>W >T KWL KWL >XJKMH M KL H GW>JM MNXH L JHWH B SWSJM W B RKBM W B YWBJM W B W B PRDJM W B KWRKWBWT >L HR QDCJ JRWCLJM >MR JHWH K >CR JBJ>W BNJ JFR>L >T H MNXH B KLJ VHWR BJT JHWH\n"
     ]
    }
   ],
   "source": [
    "for verse in verses_dss:\n",
    "    if is_sign_unc(verse):\n",
    "        print(verse)"
   ]
  },
  {
   "cell_type": "code",
   "execution_count": 170,
   "id": "367fdfa0",
   "metadata": {},
   "outputs": [
    {
     "data": {
      "text/plain": [
       "{'cons', 'empty', 'missing', 'punct', 'sep', 'unc'}"
      ]
     },
     "execution_count": 170,
     "metadata": {},
     "output_type": "execute_result"
    }
   ],
   "source": [
    "ids = []\n",
    "\n",
    "for verse in verses_dss:\n",
    "    ids.extend(verse.ids)\n",
    "    \n",
    "set(TFOb(ids, DSS).to_signs.type)\n"
   ]
  },
  {
   "cell_type": "code",
   "execution_count": 148,
   "id": "fcec9de3",
   "metadata": {},
   "outputs": [],
   "source": [
    "unc_types = [\"unc\", \"missing\"]\n",
    "verse_signs = verse.to_signs\n",
    "uncertain_sign = False\n",
    "\n",
    "for i in range(len(verse_signs)):\n",
    "    sign = verse_signs[i]\n",
    "    if sign.type in unc_types:\n",
    "        uncertain_sign = True "
   ]
  },
  {
   "cell_type": "code",
   "execution_count": null,
   "id": "cb90282d",
   "metadata": {},
   "outputs": [],
   "source": [
    "def is_lex_identical(verse_bhsa, verse_dss):\n",
    "    \"\"\"\n",
    "    Checks if the verses (i.e. BHSA versus DSS) are identical on the lexeme level.\n",
    "    \"\"\"\n",
    "    return [clean(lex) for lex in verse_bhsa.to_words.lex if lex] == [clean(lex) for lex in verse_dss.to_words.lex if lex]"
   ]
  },
  {
   "cell_type": "code",
   "execution_count": 96,
   "id": "591af280",
   "metadata": {},
   "outputs": [
    {
     "data": {
      "text/plain": [
       "<phrase_1 \"<L <JT\">"
      ]
     },
     "execution_count": 96,
     "metadata": {},
     "output_type": "execute_result"
    }
   ],
   "source": [
    "# if the verb is not BHSA, it's DSS\n",
    "verb_bhsa = find_bhsa_verb(verb)\n",
    "\n",
    "# Check if verses are identical\n",
    "if verb_bhsa and is_lex_identical(verb_bhsa.to_verses, find_dss_verse(verb)):\n",
    "    complements = find_complements(verb_bhsa)\n",
    "\n",
    "complements"
   ]
  },
  {
   "cell_type": "code",
   "execution_count": 72,
   "id": "79eac437",
   "metadata": {},
   "outputs": [],
   "source": [
    "# Show only MT occurrences\n",
    "#df[df.scroll == \"MT\"]\n",
    "\n",
    "# Show only non-MT occurrences\n",
    "#df[df.scroll != \"MT\"]"
   ]
  },
  {
   "cell_type": "code",
   "execution_count": 73,
   "id": "4245e662",
   "metadata": {},
   "outputs": [],
   "source": [
    "# Compare the lexemes and their order\n",
    "# clean the DSS verses by Id to be able to retrieve the good complements (and not copy them from BHSA)"
   ]
  },
  {
   "cell_type": "markdown",
   "id": "5e7b5b53-c8aa-4662-a8e4-1f1d801f5265",
   "metadata": {},
   "source": [
    "### 3.5 Save the dataset in a csv file"
   ]
  },
  {
   "cell_type": "code",
   "execution_count": 206,
   "id": "095c7484-0f3c-491c-909d-6b6f0d3260a0",
   "metadata": {},
   "outputs": [],
   "source": [
    "df.to_csv(\"data/isaiah_preliminary_dataset.csv\")"
   ]
  },
  {
   "cell_type": "code",
   "execution_count": 75,
   "id": "0853dce5",
   "metadata": {},
   "outputs": [
    {
     "data": {
      "text/plain": [
       "<phrase_1 \">LJHM\">"
      ]
     },
     "execution_count": 75,
     "metadata": {},
     "output_type": "execute_result"
    }
   ],
   "source": [
    "complement = TFOb(212418, BHSA).to_verses.to_phrases.filter(function=\"Cmpl\")\n",
    "complement"
   ]
  },
  {
   "cell_type": "code",
   "execution_count": 76,
   "id": "16339842",
   "metadata": {},
   "outputs": [
    {
     "data": {
      "text/plain": [
       "['prep']"
      ]
     },
     "execution_count": 76,
     "metadata": {},
     "output_type": "execute_result"
    }
   ],
   "source": [
    "complement.to_words.sp"
   ]
  },
  {
   "cell_type": "code",
   "execution_count": 41,
   "id": "bfc4ef53",
   "metadata": {},
   "outputs": [],
   "source": [
    "prepositions = complement.to_words.filter(sp=\"prep\")"
   ]
  },
  {
   "cell_type": "code",
   "execution_count": 50,
   "id": "817ef036",
   "metadata": {},
   "outputs": [
    {
     "data": {
      "text/plain": [
       "<word_1 \">LJHM\">"
      ]
     },
     "execution_count": 50,
     "metadata": {},
     "output_type": "execute_result"
    }
   ],
   "source": [
    "prepositions.to_words"
   ]
  },
  {
   "cell_type": "code",
   "execution_count": 46,
   "id": "76fe3437",
   "metadata": {},
   "outputs": [
    {
     "data": {
      "text/html": [
       "<div class=\"tfsechead rtl\"><span class=\"ltr\"><a target=\"_blank\" href=\"https://shebanq.ancient-data.org/hebrew/text?book=Jesaia&amp;chapter=1&amp;verse=23&amp;version=2021&amp;mr=m&amp;qw=q&amp;tp=txt_p&amp;tr=hb&amp;wget=v&amp;qget=v&amp;nget=vt\" title=\"Show this on SHEBANQ\" sec=\"Isaiah 1:23\">Isaiah 1:23</a></span></div><div class=\"rtl children\"><div class=\"contnr c0 trm rtl  \" ><div class=\"lbl c0 trm \" ><a class=\" txtu hbo\" target=\"_blank\" href=\"https://shebanq.ancient-data.org/hebrew/word?version=2021&amp;id=1AL\" title=\"Show this on SHEBANQ\"><span class=\"txtu hbo\">אֲלֵיהֶֽם׃ פ </span></a></div><div class=\"features\"><span class=\"sp xft\" ><span class=\"f\">sp=</span>prep</span></div></div></div>"
      ],
      "text/plain": [
       "<IPython.core.display.HTML object>"
      ]
     },
     "metadata": {},
     "output_type": "display_data"
    }
   ],
   "source": [
    "complement.to_words.pretty()"
   ]
  },
  {
   "cell_type": "code",
   "execution_count": null,
   "id": "4d48ea0d",
   "metadata": {},
   "outputs": [],
   "source": []
  }
 ],
 "metadata": {
  "kernelspec": {
   "display_name": "Python 3 (ipykernel)",
   "language": "python",
   "name": "python3"
  },
  "language_info": {
   "codemirror_mode": {
    "name": "ipython",
    "version": 3
   },
   "file_extension": ".py",
   "mimetype": "text/x-python",
   "name": "python",
   "nbconvert_exporter": "python",
   "pygments_lexer": "ipython3",
   "version": "3.9.16"
  }
 },
 "nbformat": 4,
 "nbformat_minor": 5
}
