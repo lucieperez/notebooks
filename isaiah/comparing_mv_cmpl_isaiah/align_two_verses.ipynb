{
 "cells": [
  {
   "cell_type": "code",
   "execution_count": 206,
   "id": "9d21fe08",
   "metadata": {},
   "outputs": [],
   "source": [
    "import pandas as pd \n",
    "\n",
    "from Bio import pairwise2\n",
    "from Bio.Seq import Seq\n",
    "\n",
    "from tfob import TFOb, BHSA, DSS"
   ]
  },
  {
   "cell_type": "code",
   "execution_count": 207,
   "id": "aafd3416",
   "metadata": {},
   "outputs": [],
   "source": [
    "def align_verse(verse_1, verse_2):\n",
    "    \"\"\"Takes two verses (TFOb object) from section (format verse = TFOb.section([\"book\", \"ch\", \"ver\"], source)\n",
    "    and returns aligned version of the verses as strings.\"\"\"\n",
    "    \n",
    "    # Access the word level of the TFOb object and get the g_cons for each word\n",
    "    verse1 = [word.g_cons[0] for word in verse_1.to_words]\n",
    "    verse2 = [word.g_cons[0] for word in verse_2.to_words]\n",
    "    \n",
    "    # Removes the None and join the word in a string\n",
    "    verseA = \" \".join([i for i in verse1 if i is not None])\n",
    "    verseB = \" \".join([i for i in verse2 if i is not None])\n",
    "    \n",
    "    # Align the two strings\n",
    "    seq1 = Seq(verseA)\n",
    "    seq2 = Seq(verseB)\n",
    "    \n",
    "    alignements = pairwise2.align.globalxx(seq1, seq2)\n",
    "    \n",
    "    v1_al = (alignements[0][0].strip(' '))\n",
    "    v2_al = (alignements[0][1].strip(' '))\n",
    "    \n",
    "    # Returns the aligned strings          \n",
    "    return v1_al,v2_al\n",
    "\n",
    "def is_sign_unc(sign):\n",
    "    \"\"\"If a sign is a missing or uncertain sign, returns True. Else, returns False.\"\"\"\n",
    "    unc_types = ['missing', 'unc']\n",
    "    if sign.type[0] in unc_types:\n",
    "        return True\n",
    "    return False"
   ]
  },
  {
   "cell_type": "code",
   "execution_count": 376,
   "id": "636bab3b",
   "metadata": {},
   "outputs": [],
   "source": [
    "SCROLL1 = \"1Qisaa\"\n",
    "SCROLL2 = \"1Q8\""
   ]
  },
  {
   "cell_type": "code",
   "execution_count": 601,
   "id": "528e96ec",
   "metadata": {},
   "outputs": [],
   "source": [
    "book = \"Isaiah\"\n",
    "chapter = \"59\"\n",
    "verse_num = \"7\"\n",
    "verse_bhsa = TFOb.section([book, chapter, verse_num], BHSA)\n",
    "verse_1qisaa = TFOb.section([book, chapter, verse_num], DSS, scroll=SCROLL1)\n",
    "verse_1q8 = TFOb.section([book, chapter, verse_num], DSS, scroll=SCROLL2)"
   ]
  },
  {
   "cell_type": "code",
   "execution_count": 602,
   "id": "98171507",
   "metadata": {},
   "outputs": [
    {
     "name": "stdout",
     "output_type": "stream",
     "text": [
      "BHSA ['RGL/', 'L', 'H', 'R</', 'RWY[', 'W', 'MHR[', 'L', 'CPK[', 'DM/', 'NQJ/', 'MXCBH/', 'MXCBH/', '>WN=/', 'CD/', 'W', 'CBR/', 'B', 'MSLH/'] \n",
      "\n",
      "1QIsaa ['RGL/', 'L', 'R</', 'RWY[', 'W', 'MHR[', 'L', 'CPK[', 'DM/', 'NQJ/', 'MXCBH/', 'MXCBH/', '>WN=/', 'CD/', 'W', 'CBR/', 'W', 'XMS/', 'B', 'MSLH/'] \n",
      "\n",
      "\n",
      "1Q8 ['RGL/', 'L', 'R</', 'RWY[', 'W', 'MHR[', 'L', 'CPK[', 'DM/', 'NQJ/', 'MXCBH/', 'MXCBH/', '>WN=/', 'CD/', 'W', 'CBR/', 'B', 'MSLH/']\n"
     ]
    }
   ],
   "source": [
    "qisaa_lex = verse_1qisaa.lex\n",
    "q8_lex = verse_1q8.lex\n",
    "bhsa_lex = verse_bhsa.to_words.lex\n",
    "\n",
    "if qisaa_lex[-1] == \"\":\n",
    "    qisaa_lex = qisaa_lex[:-1]\n",
    "    \n",
    "if q8_lex[-1] == \"\":\n",
    "    q8_lex = q8_lex[:-1]\n",
    "\n",
    "print(\"BHSA\", bhsa_lex, \"\\n\")\n",
    "print(\"1QIsaa\", qisaa_lex, \"\\n\\n\")\n",
    "print(\"1Q8\", q8_lex)"
   ]
  },
  {
   "cell_type": "code",
   "execution_count": 603,
   "id": "eda0deb2",
   "metadata": {},
   "outputs": [
    {
     "name": "stdout",
     "output_type": "stream",
     "text": [
      "False\n",
      "False\n",
      "In BHSA you have {'H'} that is not in DSS.\n",
      "In 1Qisaa you have {'XMS/'} that is not in BHSA. \n",
      "\n",
      "False\n",
      "True\n",
      "In BHSA you have {'H'} that is not in DSS.\n",
      "In 1Q8 you have set() that is not in BHSA.\n"
     ]
    }
   ],
   "source": [
    "# Check the differnces between the verses\n",
    "\n",
    "# Checking difference 1QIsaa vs BHSA\n",
    "\n",
    "print(set(bhsa_lex).issubset(set(qisaa_lex)))\n",
    "print(set(qisaa_lex).issubset(set(bhsa_lex)))\n",
    "\n",
    "diff_bhsa_1qisaa = set(bhsa_lex)-set(qisaa_lex)\n",
    "diff_1qisaa_bhsa = set(qisaa_lex)-set(bhsa_lex)\n",
    "\n",
    "print(f\"In BHSA you have {diff_bhsa_1qisaa} that is not in DSS.\")\n",
    "print(f\"In {SCROLL1} you have {diff_1qisaa_bhsa} that is not in BHSA. \\n\")\n",
    "\n",
    "# Checking difference 1Q8 vs BHSA\n",
    "\n",
    "print(set(bhsa_lex).issubset(set(q8_lex)))\n",
    "print(set(q8_lex).issubset(set(bhsa_lex)))\n",
    "\n",
    "diff_bhsa_1q8 = set(bhsa_lex)-set(q8_lex)\n",
    "diff_1q8_bhsa = set(q8_lex)-set(bhsa_lex)\n",
    "\n",
    "print(f\"In BHSA you have {diff_bhsa_1q8} that is not in DSS.\")\n",
    "print(f\"In {SCROLL2} you have {diff_1q8_bhsa} that is not in BHSA.\")"
   ]
  },
  {
   "cell_type": "code",
   "execution_count": 604,
   "id": "ed6d61ae",
   "metadata": {},
   "outputs": [
    {
     "name": "stdout",
     "output_type": "stream",
     "text": [
      "RGLJHM L R< JRYW\n",
      "JRYW from  RWY[ ['qal'] ['impf']\n",
      "RGLJHM ['Subj'] ['RGL/']\n",
      "L R< ['Cmpl'] ['L', 'H', 'R</']\n",
      "JRYW ['Pred'] ['RWY[']\n",
      "\n",
      "\n",
      "W JMHRW\n",
      "JMHRW from  MHR[ ['piel'] ['impf']\n",
      "W ['Conj'] ['W']\n",
      "JMHRW ['Pred'] ['MHR[']\n",
      "\n",
      "\n",
      "L CPK DM NQJ\n",
      "CPK from  CPK[ ['qal'] ['infc']\n",
      "L CPK ['Pred'] ['L', 'CPK[']\n",
      "DM NQJ ['Objc'] ['DM/', 'NQJ/']\n",
      "\n",
      "\n",
      "MXCBWTJHM MXCBWT >WN\n",
      "MXCBWTJHM ['Subj'] ['MXCBH/']\n",
      "MXCBWT >WN ['PreC'] ['MXCBH/', '>WN=/']\n",
      "\n",
      "\n",
      "CD W CBR B MSLWTM\n",
      "CD W CBR ['Subj'] ['CD/', 'W', 'CBR/']\n",
      "B MSLWTM ['PreC'] ['B', 'MSLH/']\n",
      "\n",
      "\n"
     ]
    }
   ],
   "source": [
    "for clause in verse_bhsa.to_clauses:\n",
    "    print(clause)\n",
    "    \n",
    "    for verb in clause.to_words.filter(sp=\"verb\"):\n",
    "        print(verb, \"from \", verb.lex[0], verb.vs, verb.vt)\n",
    "    \n",
    "    for phrase in clause.to_phrases:\n",
    "        print(phrase, phrase.function, phrase.to_words.lex)\n",
    "    print(\"\\n\")\n",
    "    \n",
    "# Print the words in a BHSA verse that has a directive-he\n",
    "\n",
    "bhsa_dir_he = verse_bhsa.to_words.uvf\n",
    "\n",
    "for item in bhsa_dir_he:\n",
    "    if item == \"H\":\n",
    "        ind = bhsa_dir_he.index(item)\n",
    "        print(f\"In BHSA, the word {verse_bhsa.to_words[ind]} has a directive-he\")\n",
    "        \n",
    "# Print the words in a 1QIsaa verse that has a directive-he\n",
    "\n",
    "dss_dir_he1 = verse_1qisaa.uvf_etcbc\n",
    "\n",
    "for item in dss_dir_he1:\n",
    "    if item == \"H\":\n",
    "        ind = dss_dir_he1.index(item)\n",
    "        print(f\"In 1QIsaa, the word {verse_1qisaa.to_words[ind]} has a directive-He.\")\n",
    "        \n",
    "# Print the words in a DSS verse that has a directive-he\n",
    "\n",
    "dss_dir_he2 = verse_1q8.uvf_etcbc\n",
    "\n",
    "for item in dss_dir_he2:\n",
    "    if item == \"H\":\n",
    "        ind = dss_dir_he2.index(item)\n",
    "        print(f\"In 1Q8, the word {verse_1q8.to_words[ind]} has a directive-He.\")"
   ]
  },
  {
   "cell_type": "code",
   "execution_count": 605,
   "id": "a6c11475",
   "metadata": {},
   "outputs": [
    {
     "name": "stdout",
     "output_type": "stream",
     "text": [
      "BHSA \n",
      " רַגְלֵיהֶם֙ לָרַ֣ע יָרֻ֔צוּ וִֽימַהֲר֔וּ לִשְׁפֹּ֖ךְ דָּ֣ם נָקִ֑י מַחְשְׁבֹֽותֵיהֶם֙ מַחְשְׁבֹ֣ות אָ֔וֶן שֹׁ֥ד וָשֶׁ֖בֶר בִּמְסִלֹּותָֽם׃ \n",
      "1QIsaa \n",
      " רגלי׳המה לרע ירוצו וימהרו לשפוך דם נקיא מחשבותי׳המה מחשבות און שד ושבר וחמס במסלותי׳המה ׃ \n",
      "1Q8 \n",
      " רגלי׳הם לרע ירצו וימהרו לשפך דם נק  י מחשבתי׳הם מחשבות און שד ושבר במסלות׳ם ׃ \n"
     ]
    }
   ],
   "source": [
    "print(\"BHSA\", \"\\n\", verse_bhsa.text)\n",
    "print(\"1QIsaa\", \"\\n\", verse_1qisaa.to_words.text)\n",
    "print(\"1Q8\", \"\\n\", verse_1q8.to_words.text)"
   ]
  },
  {
   "cell_type": "code",
   "execution_count": 606,
   "id": "f448ce19",
   "metadata": {},
   "outputs": [
    {
     "name": "stdout",
     "output_type": "stream",
     "text": [
      "Alignement BHSA and 1Qisaa\n",
      "RGLJHM L R< JRYW W JMHRW L CPK DM NQJ MXCBWTJHM MXCBWT >WN CD W CBR B MSLWTM\n",
      "RGLJHMH L R< JRWYW W JMHRW L CPWK DM NQJ> MXCBWTJHMH MXCBWT >WN CD W CBR W XMS B MSLWTJHMH\n",
      "\n",
      "\n",
      "Alignement BHSA and 1Q8\n",
      "RGLJHM L R< JRYW W JMHRW L CPK DM NQJ MXCBWTJHM MXCBWT >WN CD W CBR B MSLWTM\n",
      "RGLJHM L R< JRYW W JMHRW L CPK DM NQJ MXCBTJHM MXCBWT >WN CD W CBR B MSLWTM\n",
      "\n",
      "\n"
     ]
    }
   ],
   "source": [
    "# Align 1QIsaa and BHSA\n",
    "\n",
    "print(\"Alignement BHSA and 1Qisaa\")\n",
    "\n",
    "print(verse_bhsa)\n",
    "print(verse_1qisaa)\n",
    "align_verse(verse_bhsa, verse_1qisaa)\n",
    "print(\"\\n\")\n",
    "\n",
    "# Align 1QIsaa and BHSA\n",
    "\n",
    "print(\"Alignement BHSA and 1Q8\")\n",
    "\n",
    "print(verse_bhsa)\n",
    "print(verse_1q8)\n",
    "align_verse(verse_bhsa, verse_1q8)\n",
    "print(\"\\n\")"
   ]
  },
  {
   "cell_type": "code",
   "execution_count": 607,
   "id": "e7335482",
   "metadata": {},
   "outputs": [],
   "source": [
    "verse_dss = verse_1qisaa"
   ]
  },
  {
   "cell_type": "code",
   "execution_count": 470,
   "id": "9f9b2d7a",
   "metadata": {},
   "outputs": [
    {
     "name": "stdout",
     "output_type": "stream",
     "text": [
      "JMWCW ['MWC['] ['qal'] ['impf']\n",
      "TTMWVJNH ['MWV['] ['hitpael'] ['impf']\n",
      "JMWC ['MWC['] ['qal'] ['impf']\n",
      "TMWV ['MWV['] ['qal'] ['impf']\n",
      ">MR ['>MR['] ['qal'] ['perf']\n"
     ]
    }
   ],
   "source": [
    "for verb in verse_dss.to_words.filter(sp=\"verb\"):\n",
    "    print(verb, verb.lex, verb.vs, verb.vt)"
   ]
  },
  {
   "cell_type": "code",
   "execution_count": 471,
   "id": "87c45dfc",
   "metadata": {},
   "outputs": [
    {
     "name": "stdout",
     "output_type": "stream",
     "text": [
      "JMWCW ['MWC['] ['qal'] ['impf']\n",
      "TMWVNH ['MWV['] ['qal'] ['impf']\n",
      "JMWC ['MWC['] ['qal'] ['impf']\n",
      "TMWV ['MWV['] ['qal'] ['impf']\n",
      ">MR ['>MR['] ['qal'] ['perf']\n",
      "MRXMK ['RXM['] ['piel'] ['ptca']\n"
     ]
    }
   ],
   "source": [
    "for verb in verse_bhsa.to_words.filter(sp=\"verb\"):\n",
    "    print(verb, verb.lex, verb.vs, verb.vt)"
   ]
  },
  {
   "cell_type": "code",
   "execution_count": 319,
   "id": "afd6c6f5",
   "metadata": {},
   "outputs": [
    {
     "name": "stdout",
     "output_type": "stream",
     "text": [
      "CM<W ['verb']\n",
      "ZW>T ['adjv']\n",
      "BJT ['subs']\n",
      "J<QWB ['subs']\n",
      "H ['ptcl']\n",
      "NQR>JM ['verb']\n",
      "B ['ptcl']\n",
      "CM ['subs']\n",
      "JFR>L ['subs']\n",
      "W ['ptcl']\n",
      "M ['ptcl']\n",
      "MJ ['subs']\n",
      "JHWDH ['subs']\n",
      "JY>W ['verb']\n",
      "H ['ptcl']\n",
      "NCB<JM ['verb']\n",
      "B ['ptcl']\n",
      "CM ['subs']\n",
      "JHWH ['subs']\n",
      "W ['ptcl']\n",
      "B ['ptcl']\n",
      ">LWHJ ['subs']\n",
      "JFR>L ['subs']\n",
      "JZKJRW ['verb']\n",
      "LW> ['ptcl']\n",
      "B ['ptcl']\n",
      ">MT ['subs']\n",
      "W ['ptcl']\n",
      "LW> ['ptcl']\n",
      "B ['ptcl']\n",
      "YDQH ['subs']\n",
      " [None]\n"
     ]
    }
   ],
   "source": [
    "for word in verse_dss.to_words:\n",
    "    print(word, word.sp)"
   ]
  },
  {
   "cell_type": "code",
   "execution_count": null,
   "id": "2ae6c36f",
   "metadata": {},
   "outputs": [],
   "source": []
  },
  {
   "cell_type": "code",
   "execution_count": 320,
   "id": "d848085a",
   "metadata": {},
   "outputs": [],
   "source": [
    "# Print the words in a DSS verse that has a directive-he\n",
    "\n",
    "dss_dir_he = verse_dss.uvf_etcbc\n",
    "\n",
    "for item in dss_dir_he:\n",
    "    if item == \"H\":\n",
    "        ind = dss_dir_he.index(item)\n",
    "        print(verse_dss.to_words[ind])"
   ]
  },
  {
   "cell_type": "code",
   "execution_count": 437,
   "id": "c5fff73b",
   "metadata": {},
   "outputs": [],
   "source": [
    "# Print the words in a BHSA verse that has a directive-he\n",
    "\n",
    "bhsa_dir_he = verse_bhsa.to_words.uvf\n",
    "\n",
    "for item in bhsa_dir_he:\n",
    "    if item == \"H\":\n",
    "        ind = bhsa_dir_he.index(item)\n",
    "        print(verse_bhsa.to_words[ind])"
   ]
  },
  {
   "cell_type": "code",
   "execution_count": 14,
   "id": "da28f244",
   "metadata": {},
   "outputs": [
    {
     "name": "stdout",
     "output_type": "stream",
     "text": [
      "['KL/', 'K', 'Y>N/', 'T<H[', '>JC/', 'L', 'DRK/', 'PNH[', 'W', 'JHWH/', 'PG<[', 'B', '>T', '<WN/', 'KL/', '']\n",
      "['KL/', 'K', 'H', 'Y>N/', 'T<H[', '>JC/', 'L', 'DRK/', 'PNH[', 'W', 'JHWH/', 'PG<[', 'B', '>T', '<WN/', 'KL/']\n"
     ]
    }
   ],
   "source": [
    "# Show the lexemes of the two verses \n",
    "print(verse_dss.to_words.lex)\n",
    "print(verse_bhsa.to_words.lex)"
   ]
  },
  {
   "cell_type": "code",
   "execution_count": 15,
   "id": "7c671550",
   "metadata": {},
   "outputs": [
    {
     "name": "stdout",
     "output_type": "stream",
     "text": [
      "['KLNW', 'K', 'Y>N', 'T<JNW', '>JC', 'L', 'DRKW', 'PNJNW', 'W', 'JHWH', 'HPGJ<', 'BW', '>T', '<WN', 'KLNW', None]\n",
      "['KL/', 'K', 'Y>N/', 'T<H[', '>JC/', 'L', 'DRK/', 'PNH[', 'W', 'JHWH/', 'PG<[', 'B', '>T', '<WN/', 'KL/', '']\n"
     ]
    }
   ],
   "source": [
    "# Show g_cons and lex for dss verse\n",
    "print(verse_dss.to_words.g_cons)\n",
    "print(verse_dss.to_words.lex)"
   ]
  },
  {
   "cell_type": "code",
   "execution_count": 16,
   "id": "362f16c9",
   "metadata": {},
   "outputs": [
    {
     "name": "stdout",
     "output_type": "stream",
     "text": [
      "['KLNW', 'K', '', 'Y>N', 'T<JNW', '>JC', 'L', 'DRKW', 'PNJNW', 'W', 'JHWH', 'HPGJ<', 'BW', '>T', '<WN', 'KLNW']\n",
      "['KL/', 'K', 'H', 'Y>N/', 'T<H[', '>JC/', 'L', 'DRK/', 'PNH[', 'W', 'JHWH/', 'PG<[', 'B', '>T', '<WN/', 'KL/']\n"
     ]
    }
   ],
   "source": [
    "# Show g_cons and lex for bhsa verse\n",
    "print(verse_bhsa.to_words.g_cons)\n",
    "print(verse_bhsa.to_words.lex)"
   ]
  },
  {
   "cell_type": "code",
   "execution_count": 17,
   "id": "46a0ad8f",
   "metadata": {},
   "outputs": [],
   "source": [
    "verse_types = []\n",
    "\n",
    "for sign in verse_dss.to_signs:\n",
    "    if is_sign_unc(sign):\n",
    "        sign_type = 1\n",
    "    else:\n",
    "        sign_type = 0\n",
    "    verse_types.append(sign_type)"
   ]
  },
  {
   "cell_type": "code",
   "execution_count": 18,
   "id": "0cc04eb7",
   "metadata": {},
   "outputs": [
    {
     "name": "stdout",
     "output_type": "stream",
     "text": [
      "[0, 0, 0, 0, 0, 0, 0, 0, 0, 0, 0, 0, 0, 0, 0, 0, 0, 0, 0, 0, 0, 0, 0, 0, 0, 0, 0, 0, 0, 0, 0, 0, 0, 0, 0, 0, 0, 0, 0, 0, 0, 0, 0, 0, 0, 0, 0, 0, 0, 0, 0, 0, 0]\n"
     ]
    }
   ],
   "source": [
    "print(verse_types)"
   ]
  },
  {
   "cell_type": "code",
   "execution_count": 152,
   "id": "3d390014",
   "metadata": {},
   "outputs": [],
   "source": [
    "for sign in verse_dss.to_signs:\n",
    "    if sign.type[0] == \"missing\" or sign.type[0] == \"unc\":\n",
    "        print(f\"_{sign}_'s type is {sign.type}.'\")"
   ]
  },
  {
   "cell_type": "code",
   "execution_count": 21,
   "id": "870e7c75",
   "metadata": {},
   "outputs": [
    {
     "data": {
      "text/plain": [
       "<word_32 \"KJ LW M<WPP L >CR MWYQ LH K <T H RJCWN HQL >RY ZBWLWN W H >RY NPTLJ W H >XRWN HKBJD DRK H JM <BR H JRDN GLJL H GW>JM\">"
      ]
     },
     "execution_count": 21,
     "metadata": {},
     "output_type": "execute_result"
    }
   ],
   "source": [
    "verse_dss"
   ]
  },
  {
   "cell_type": "raw",
   "id": "4c99c3cc",
   "metadata": {},
   "source": [
    "W >L H >RY JBJV\n",
    "W HNH YRH W XCWKH M<JP YWQH\n",
    "W >PLH MNDX"
   ]
  },
  {
   "cell_type": "code",
   "execution_count": 18,
   "id": "2c4d7b82",
   "metadata": {},
   "outputs": [
    {
     "name": "stdout",
     "output_type": "stream",
     "text": [
      "M<WPP ['<WP['] ['ptca']\n",
      "HQL ['QLL['] ['perf']\n",
      "HKBJD ['KBD['] ['perf']\n"
     ]
    }
   ],
   "source": [
    "for word in verse_dss.to_words:\n",
    "    if word.vt != [None]:\n",
    "        print(word, word.lex, word.vt)"
   ]
  },
  {
   "cell_type": "code",
   "execution_count": 19,
   "id": "f39ab966",
   "metadata": {},
   "outputs": [
    {
     "name": "stdout",
     "output_type": "stream",
     "text": [
      "HQL ['QLL['] ['perf']\n",
      "HKBJD ['KBD['] ['perf']\n"
     ]
    }
   ],
   "source": [
    "for word in verse_bhsa.to_words:\n",
    "    if word.vt != [\"NA\"]:\n",
    "        print(word, word.lex, word.vt)"
   ]
  },
  {
   "cell_type": "code",
   "execution_count": null,
   "id": "03e1bd9f",
   "metadata": {},
   "outputs": [],
   "source": []
  }
 ],
 "metadata": {
  "kernelspec": {
   "display_name": "Python 3 (ipykernel)",
   "language": "python",
   "name": "python3"
  },
  "language_info": {
   "codemirror_mode": {
    "name": "ipython",
    "version": 3
   },
   "file_extension": ".py",
   "mimetype": "text/x-python",
   "name": "python",
   "nbconvert_exporter": "python",
   "pygments_lexer": "ipython3",
   "version": "3.9.16"
  }
 },
 "nbformat": 4,
 "nbformat_minor": 5
}
