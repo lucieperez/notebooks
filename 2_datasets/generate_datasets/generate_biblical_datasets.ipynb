{
 "cells": [
  {
   "cell_type": "code",
   "execution_count": 33,
   "id": "865d26e3",
   "metadata": {},
   "outputs": [],
   "source": [
    "import glob\n",
    "import math\n",
    "import os\n",
    "\n",
    "import numpy as np\n",
    "import pandas as pd"
   ]
  },
  {
   "cell_type": "code",
   "execution_count": 2,
   "id": "91ac1648",
   "metadata": {},
   "outputs": [],
   "source": [
    "# Set Pandas display option to display all the columns\n",
    "pd.set_option(\"display.max_columns\", None)"
   ]
  },
  {
   "cell_type": "code",
   "execution_count": 7,
   "id": "776327b9",
   "metadata": {},
   "outputs": [],
   "source": [
    "# Generate the dataset and make minor adjustments\n",
    "\n",
    "df = pd.read_csv(\"data/all_verbs_bhsa_bib_dss.csv\").fillna(\"\")\n",
    "df[\"dir_he\"] = df[\"dir_he\"].astype(str)\n",
    "df[\"dir_he\"] = df[\"dir_he\"].replace(\"1.0\", \"1\").replace(\"0.0\", \"0\")\n",
    "\n",
    "df[\"dir_he_dss\"] = df[\"dir_he_dss\"].astype(str)\n",
    "df[\"dir_he_dss\"] = df[\"dir_he_dss\"].replace(\"1.0\", \"1\").replace(\"0.0\", \"0\")\n",
    "df.sort_values([\"book\", \"chapter\", \"verse_num\", \"scroll\"], ascending=[True, True, True, False], ignore_index=True, inplace=True)"
   ]
  },
  {
   "cell_type": "code",
   "execution_count": 16,
   "id": "92a0300f",
   "metadata": {},
   "outputs": [
    {
     "data": {
      "text/plain": [
       "Index(['verb_id', 'lex', 'scroll', 'book', 'chapter', 'verse_num',\n",
       "       'gcons_verb', 'gcons_verse', 'gcons_clause', 'subject', 'complement',\n",
       "       'dir_he', 'cmpl_constr', 'cmpl_nt', 'cmpl_anim', 'cmpl_det',\n",
       "       'cmpl_indiv', 'dir_he_dss', 'sign_info', 'stem', 'tense',\n",
       "       'preposition_1', 'preposition_2', 'preposition_3', 'preposition_4',\n",
       "       'preposition_5', 'preposition_6', 'preposition_7'],\n",
       "      dtype='object')"
      ]
     },
     "execution_count": 16,
     "metadata": {},
     "output_type": "execute_result"
    }
   ],
   "source": [
    "df.columns"
   ]
  },
  {
   "cell_type": "code",
   "execution_count": 15,
   "id": "5689ca7c",
   "metadata": {},
   "outputs": [
    {
     "data": {
      "text/plain": [
       "60"
      ]
     },
     "execution_count": 15,
     "metadata": {},
     "output_type": "execute_result"
    }
   ],
   "source": [
    "# Show the set of books present in the dataset\n",
    "#set(df.book)\n",
    "len(set(df.book))"
   ]
  },
  {
   "cell_type": "code",
   "execution_count": 19,
   "id": "070c7a29",
   "metadata": {},
   "outputs": [],
   "source": [
    "# Create one dataset per book (containing both BHSA and DSS rows)\n",
    "\n",
    "unique_books = df['book'].unique()\n",
    "\n",
    "# New columns to add\n",
    "\n",
    "new_columns = [\n",
    "    \"cmpl_lex\",\n",
    "    \"cmpl_constr\",\n",
    "    \"cmpl_nt\",\n",
    "    \"cmpl_anim\",\n",
    "    \"cmpl_det\",\n",
    "    \"cmpl_indiv\",\n",
    "    \"motion_type\",\n",
    "]\n",
    "\n",
    "# Creating one dataset per unique book in the original dataset\n",
    "for book in unique_books:\n",
    "    book_df = df[df['book'] == book].copy()\n",
    "\n",
    "    # Add each new column with NaN values\n",
    "    for column in new_columns:\n",
    "        book_df[column] = ''\n",
    "        \n",
    "    # Save the new dataset as a csv file\n",
    "    #book_df.to_csv(f\"data/biblical_datasets/{book}_dataset.csv\", index=False)   "
   ]
  },
  {
   "cell_type": "code",
   "execution_count": 13,
   "id": "0a07f6fc",
   "metadata": {},
   "outputs": [
    {
     "data": {
      "text/plain": [
       "60"
      ]
     },
     "execution_count": 13,
     "metadata": {},
     "output_type": "execute_result"
    }
   ],
   "source": [
    "len(unique_books)"
   ]
  },
  {
   "cell_type": "code",
   "execution_count": 36,
   "id": "c4b32121",
   "metadata": {},
   "outputs": [
    {
     "data": {
      "text/html": [
       "<div>\n",
       "<style scoped>\n",
       "    .dataframe tbody tr th:only-of-type {\n",
       "        vertical-align: middle;\n",
       "    }\n",
       "\n",
       "    .dataframe tbody tr th {\n",
       "        vertical-align: top;\n",
       "    }\n",
       "\n",
       "    .dataframe thead th {\n",
       "        text-align: right;\n",
       "    }\n",
       "</style>\n",
       "<table border=\"1\" class=\"dataframe\">\n",
       "  <thead>\n",
       "    <tr style=\"text-align: right;\">\n",
       "      <th></th>\n",
       "      <th>dataset_name</th>\n",
       "      <th>total_rows</th>\n",
       "      <th>rows_with_complement</th>\n",
       "      <th>number_of_days_80</th>\n",
       "      <th>number_of_days_100</th>\n",
       "    </tr>\n",
       "  </thead>\n",
       "  <tbody>\n",
       "    <tr>\n",
       "      <th>0</th>\n",
       "      <td>Isaiah</td>\n",
       "      <td>1552</td>\n",
       "      <td>1209</td>\n",
       "      <td>20</td>\n",
       "      <td>16</td>\n",
       "    </tr>\n",
       "    <tr>\n",
       "      <th>1</th>\n",
       "      <td>Exodus</td>\n",
       "      <td>1047</td>\n",
       "      <td>838</td>\n",
       "      <td>14</td>\n",
       "      <td>11</td>\n",
       "    </tr>\n",
       "    <tr>\n",
       "      <th>2</th>\n",
       "      <td>Deuteronomy</td>\n",
       "      <td>970</td>\n",
       "      <td>832</td>\n",
       "      <td>13</td>\n",
       "      <td>10</td>\n",
       "    </tr>\n",
       "    <tr>\n",
       "      <th>3</th>\n",
       "      <td>1_Samuel</td>\n",
       "      <td>954</td>\n",
       "      <td>689</td>\n",
       "      <td>12</td>\n",
       "      <td>10</td>\n",
       "    </tr>\n",
       "    <tr>\n",
       "      <th>4</th>\n",
       "      <td>Jeremiah</td>\n",
       "      <td>946</td>\n",
       "      <td>668</td>\n",
       "      <td>12</td>\n",
       "      <td>10</td>\n",
       "    </tr>\n",
       "    <tr>\n",
       "      <th>...</th>\n",
       "      <td>...</td>\n",
       "      <td>...</td>\n",
       "      <td>...</td>\n",
       "      <td>...</td>\n",
       "      <td>...</td>\n",
       "    </tr>\n",
       "    <tr>\n",
       "      <th>56</th>\n",
       "      <td>4Q78</td>\n",
       "      <td>2</td>\n",
       "      <td>2</td>\n",
       "      <td>1</td>\n",
       "      <td>1</td>\n",
       "    </tr>\n",
       "    <tr>\n",
       "      <th>57</th>\n",
       "      <td>5Q3</td>\n",
       "      <td>2</td>\n",
       "      <td>2</td>\n",
       "      <td>1</td>\n",
       "      <td>1</td>\n",
       "    </tr>\n",
       "    <tr>\n",
       "      <th>58</th>\n",
       "      <td>4Q118</td>\n",
       "      <td>1</td>\n",
       "      <td>1</td>\n",
       "      <td>1</td>\n",
       "      <td>1</td>\n",
       "    </tr>\n",
       "    <tr>\n",
       "      <th>59</th>\n",
       "      <td>11Q1</td>\n",
       "      <td>1</td>\n",
       "      <td>1</td>\n",
       "      <td>1</td>\n",
       "      <td>1</td>\n",
       "    </tr>\n",
       "    <tr>\n",
       "      <th>60</th>\n",
       "      <td>TOTAL</td>\n",
       "      <td>15602</td>\n",
       "      <td>11186</td>\n",
       "      <td>236</td>\n",
       "      <td>197</td>\n",
       "    </tr>\n",
       "  </tbody>\n",
       "</table>\n",
       "<p>61 rows × 5 columns</p>\n",
       "</div>"
      ],
      "text/plain": [
       "   dataset_name  total_rows  rows_with_complement  number_of_days_80  \\\n",
       "0        Isaiah        1552                  1209                 20   \n",
       "1        Exodus        1047                   838                 14   \n",
       "2   Deuteronomy         970                   832                 13   \n",
       "3      1_Samuel         954                   689                 12   \n",
       "4      Jeremiah         946                   668                 12   \n",
       "..          ...         ...                   ...                ...   \n",
       "56         4Q78           2                     2                  1   \n",
       "57          5Q3           2                     2                  1   \n",
       "58        4Q118           1                     1                  1   \n",
       "59         11Q1           1                     1                  1   \n",
       "60        TOTAL       15602                 11186                236   \n",
       "\n",
       "    number_of_days_100  \n",
       "0                   16  \n",
       "1                   11  \n",
       "2                   10  \n",
       "3                   10  \n",
       "4                   10  \n",
       "..                 ...  \n",
       "56                   1  \n",
       "57                   1  \n",
       "58                   1  \n",
       "59                   1  \n",
       "60                 197  \n",
       "\n",
       "[61 rows x 5 columns]"
      ]
     },
     "execution_count": 36,
     "metadata": {},
     "output_type": "execute_result"
    }
   ],
   "source": [
    "# Path to your CSV files\n",
    "path = 'data/biblical_datasets/*.csv'\n",
    "\n",
    "path = 'data/biblical_datasets/*.csv'\n",
    "target_column = \"complement\"  \n",
    "specific_values = [\"\", \"no complement\"] \n",
    "data = []\n",
    "\n",
    "for file in glob.glob(path):\n",
    "    df = pd.read_csv(file)\n",
    "    \n",
    "    # Extract the dataset name, removing path, extension, and optional suffix\n",
    "    dataset_name = os.path.splitext(os.path.basename(file))[0]\n",
    "    suffix = '_dataset'\n",
    "    if dataset_name.endswith(suffix):\n",
    "        dataset_name = dataset_name[:-len(suffix)]  # Remove the suffix\n",
    "\n",
    "    total_rows = len(df)\n",
    "    rows_with_complement = df[~df[target_column].isin(specific_values)].shape[0]\n",
    "    number_of_days_80 = math.ceil(total_rows / 80)\n",
    "    number_of_days_100 = math.ceil(total_rows / 100)\n",
    "    \n",
    "    data.append({\n",
    "        'dataset_name': dataset_name,\n",
    "        'total_rows': total_rows,\n",
    "        'rows_with_complement': rows_with_complement,\n",
    "        'number_of_days_80': number_of_days_80,\n",
    "        'number_of_days_100': number_of_days_100,\n",
    "    })\n",
    "\n",
    "results_df = pd.DataFrame(data)\n",
    "\n",
    "# Sorting by column 'total_rows'\n",
    "results_df = results_df.sort_values(by=['total_rows'], ascending=False)\n",
    "\n",
    "# Calculate the totals\n",
    "total_rows_sum = results_df['total_rows'].sum()\n",
    "rows_with_complement_sum = results_df['rows_with_complement'].sum()\n",
    "number_of_days_80_sum = results_df['number_of_days_80'].sum()\n",
    "number_of_days_100_sum = results_df['number_of_days_100'].sum()\n",
    "\n",
    "# Create a DataFrame with the summary row\n",
    "summary_df = pd.DataFrame([{\n",
    "    'dataset_name': 'TOTAL', \n",
    "    'total_rows': total_rows_sum, \n",
    "    'rows_with_complement': rows_with_complement_sum,\n",
    "    'number_of_days_80': number_of_days_80_sum,\n",
    "    'number_of_days_100': number_of_days_100_sum,\n",
    "}])\n",
    "\n",
    "# Concatenate the original DataFrame with the summary DataFrame\n",
    "results_df = pd.concat([results_df, summary_df], ignore_index=True)\n",
    "\n",
    "\n",
    "results_df\n",
    "\n",
    "#results_df.to_csv('data/biblical_datasets/summary.csv', index=False)"
   ]
  },
  {
   "cell_type": "code",
   "execution_count": null,
   "id": "71b0fef8",
   "metadata": {},
   "outputs": [],
   "source": []
  }
 ],
 "metadata": {
  "kernelspec": {
   "display_name": "Python 3 (ipykernel)",
   "language": "python",
   "name": "python3"
  },
  "language_info": {
   "codemirror_mode": {
    "name": "ipython",
    "version": 3
   },
   "file_extension": ".py",
   "mimetype": "text/x-python",
   "name": "python",
   "nbconvert_exporter": "python",
   "pygments_lexer": "ipython3",
   "version": "3.9.16"
  }
 },
 "nbformat": 4,
 "nbformat_minor": 5
}
