{
 "cells": [
  {
   "cell_type": "code",
   "execution_count": 1,
   "id": "865d26e3",
   "metadata": {},
   "outputs": [],
   "source": [
    "import glob\n",
    "import math\n",
    "import os\n",
    "\n",
    "import numpy as np\n",
    "import pandas as pd"
   ]
  },
  {
   "cell_type": "code",
   "execution_count": 2,
   "id": "91ac1648",
   "metadata": {},
   "outputs": [],
   "source": [
    "# Set Pandas display option to display all the columns\n",
    "pd.set_option(\"display.max_columns\", None)"
   ]
  },
  {
   "cell_type": "code",
   "execution_count": 3,
   "id": "776327b9",
   "metadata": {},
   "outputs": [],
   "source": [
    "# Generate the dataset and make minor adjustments\n",
    "\n",
    "df = pd.read_csv(\"data/biblical_bhsa_dss_without_min.csv\").fillna(\"\")\n",
    "df[\"dir_he\"] = df[\"dir_he\"].astype(str)\n",
    "df[\"dir_he\"] = df[\"dir_he\"].replace(\"1.0\", \"1\").replace(\"0.0\", \"0\")\n",
    "\n",
    "df[\"dir_he_dss\"] = df[\"dir_he_dss\"].astype(str)\n",
    "df[\"dir_he_dss\"] = df[\"dir_he_dss\"].replace(\"1.0\", \"1\").replace(\"0.0\", \"0\")\n",
    "df.sort_values([\"book\", \"chapter\", \"verse_num\", \"scroll\"], ascending=[True, True, True, False], ignore_index=True, inplace=True)"
   ]
  },
  {
   "cell_type": "code",
   "execution_count": 4,
   "id": "92a0300f",
   "metadata": {},
   "outputs": [
    {
     "data": {
      "text/plain": [
       "Index(['verb_id', 'lex', 'scroll', 'book', 'chapter', 'verse_num',\n",
       "       'gcons_verb', 'gcons_verse', 'gcons_clause', 'subject', 'complement',\n",
       "       'cmpl_lex', 'cmpl_translation', 'dir_he', 'cmpl_constr', 'cmpl_nt',\n",
       "       'cmpl_anim', 'cmpl_det', 'cmpl_indiv', 'cmpl_complex', 'dir_he_dss',\n",
       "       'sign_info', 'stem', 'tense', 'motion_type', 'comments',\n",
       "       'preposition_1', 'preposition_2', 'preposition_3', 'preposition_4',\n",
       "       'preposition_5', 'preposition_6', 'preposition_7'],\n",
       "      dtype='object')"
      ]
     },
     "execution_count": 4,
     "metadata": {},
     "output_type": "execute_result"
    }
   ],
   "source": [
    "df.columns"
   ]
  },
  {
   "cell_type": "code",
   "execution_count": 8,
   "id": "5689ca7c",
   "metadata": {},
   "outputs": [],
   "source": [
    "# Show the set of books present in the dataset\n",
    "#set(df.book)\n",
    "#len(set(df.book))"
   ]
  },
  {
   "cell_type": "code",
   "execution_count": 10,
   "id": "070c7a29",
   "metadata": {},
   "outputs": [],
   "source": [
    "# Create one dataset per book (containing both BHSA and DSS rows)\n",
    "\n",
    "unique_books = df['book'].unique()\n",
    "\n",
    "# New columns to add\n",
    "\n",
    "new_columns = [\n",
    "    \"cmpl_translation\",\n",
    "    \"motion_type\",\n",
    "    \"comments\",\n",
    "]\n",
    "\n",
    "# Creating one dataset per unique book in the original dataset\n",
    "for book in unique_books:\n",
    "    book_df = df[df['book'] == book].copy()\n",
    "\n",
    "    # Add each new column with NaN values\n",
    "    for column in new_columns:\n",
    "        book_df[column] = ''\n",
    "        \n",
    "    # Save the new dataset as a csv file\n",
    "    book_df.to_csv(f\"data/biblical_datasets_without_min/{book}_dataset.csv\", index=False)"
   ]
  },
  {
   "cell_type": "code",
   "execution_count": 11,
   "id": "0a07f6fc",
   "metadata": {},
   "outputs": [
    {
     "data": {
      "text/plain": [
       "57"
      ]
     },
     "execution_count": 11,
     "metadata": {},
     "output_type": "execute_result"
    }
   ],
   "source": [
    "len(unique_books)"
   ]
  },
  {
   "cell_type": "code",
   "execution_count": null,
   "id": "a93b7f52",
   "metadata": {},
   "outputs": [],
   "source": []
  }
 ],
 "metadata": {
  "kernelspec": {
   "display_name": "Python 3 (ipykernel)",
   "language": "python",
   "name": "python3"
  },
  "language_info": {
   "codemirror_mode": {
    "name": "ipython",
    "version": 3
   },
   "file_extension": ".py",
   "mimetype": "text/x-python",
   "name": "python",
   "nbconvert_exporter": "python",
   "pygments_lexer": "ipython3",
   "version": "3.9.16"
  }
 },
 "nbformat": 4,
 "nbformat_minor": 5
}
