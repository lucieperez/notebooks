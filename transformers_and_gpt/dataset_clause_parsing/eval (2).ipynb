{
 "cells": [
  {
   "cell_type": "code",
   "execution_count": 2,
   "id": "d8cd6deb-c55b-41a7-a95c-5ae1ae69af84",
   "metadata": {},
   "outputs": [],
   "source": [
    "import pandas as pd"
   ]
  },
  {
   "cell_type": "code",
   "execution_count": 3,
   "id": "c1e95a9d-77c7-4a11-af83-62fe8665eac1",
   "metadata": {},
   "outputs": [],
   "source": [
    "lines = open(\"data/eval_model1_lex_x.txt\").readlines()"
   ]
  },
  {
   "cell_type": "code",
   "execution_count": 4,
   "id": "c24df509-5c9a-40eb-94b1-672c06967f8f",
   "metadata": {},
   "outputs": [],
   "source": [
    "lines = lines[:-3]"
   ]
  },
  {
   "cell_type": "code",
   "execution_count": 5,
   "id": "884518f4-08c9-4a93-9318-3b2d68a59bed",
   "metadata": {},
   "outputs": [],
   "source": [
    "lines_pairs = []\n",
    "for i in range(0, len(lines), 2):\n",
    "    lines_pairs.append((lines[i], lines[i + 1]))"
   ]
  },
  {
   "cell_type": "code",
   "execution_count": 6,
   "id": "c4b823e2-d3aa-4473-9cf7-ede93dcd926b",
   "metadata": {},
   "outputs": [
    {
     "name": "stdout",
     "output_type": "stream",
     "text": [
      "(1, 1)\n",
      "(2, 2)\n"
     ]
    }
   ],
   "source": [
    "for x in zip([1, 2], [1, 2, 3]):\n",
    "    print(x)"
   ]
  },
  {
   "cell_type": "code",
   "execution_count": 7,
   "id": "3a2958d9-2f66-4efe-924c-4622e7ffda81",
   "metadata": {},
   "outputs": [
    {
     "data": {
      "text/plain": [
       "[('Predicted :x :xxxx :xxx :xx :x :xxxxA :x :xxxx :xx :xxxxA :x :xxxx :xA :x :xx\\n',\n",
       "  'Truevalue :x :xxxx :xxx :xx :x :xxxxA :x :xxxx :xx :xxxxA :x :xxxx :xA :x :xx\\n'),\n",
       " ('Predicted :xxxx :xxx :xx :x :xxxxA :x :xxxx :xx :xxxxA :x :xxxx :xA :x :xx :xxxx\\n',\n",
       "  'Truevalue :xxxx :xxx :xx :x :xxxxA :x :xxxx :xx :xxxxA :x :xxxx :xA :x :xx :xxxx\\n'),\n",
       " ('Predicted :xxx :xx :x :xxxxA :x :xxxx :xx :xxxxA :x :xxxx :xA :x :xx :xxxx :x\\n',\n",
       "  'Truevalue :xxx :xx :x :xxxxA :x :xxxx :xx :xxxxA :x :xxxx :xA :x :xx :xxxx :x\\n'),\n",
       " ('Predicted :xx :x :xxxxA :x :xxxx :xx :xxxxA :x :xxxx :xA :x :xx :xxxx :x :x\\n',\n",
       "  'Truevalue :xx :x :xxxxA :x :xxxx :xx :xxxxA :x :xxxx :xA :x :xx :xxxx :x :x\\n')]"
      ]
     },
     "execution_count": 7,
     "metadata": {},
     "output_type": "execute_result"
    }
   ],
   "source": [
    "lines_pairs[:4]"
   ]
  },
  {
   "cell_type": "code",
   "execution_count": 8,
   "id": "fa0f576f-667f-46a5-80c3-c0bf4c12f2c9",
   "metadata": {},
   "outputs": [],
   "source": [
    "def get_words(line):\n",
    "    return line.strip().split()[1:]\n",
    "\n",
    "words_pairs = [[] for _ in range(16)]\n",
    "for line_pred, line_tv in lines_pairs:   \n",
    "    words_pred = get_words(line_pred)\n",
    "    words_tv = get_words(line_tv)\n",
    "    for i in range(max(len(words_tv), len(words_pred))):\n",
    "        if i < len(words_tv):\n",
    "            word_tv = words_tv[i]\n",
    "        else:\n",
    "            word_tv = \"\"\n",
    "            \n",
    "        if i < len(words_pred):\n",
    "            word_pred = words_pred[i]\n",
    "        else:\n",
    "            word_pred = \"\"\n",
    "            \n",
    "        words_pairs[i].append((word_pred, word_tv))"
   ]
  },
  {
   "cell_type": "code",
   "execution_count": 9,
   "id": "b58a8334-d9f2-47c9-9424-327a280404d1",
   "metadata": {},
   "outputs": [
    {
     "data": {
      "text/html": [
       "<div>\n",
       "<style scoped>\n",
       "    .dataframe tbody tr th:only-of-type {\n",
       "        vertical-align: middle;\n",
       "    }\n",
       "\n",
       "    .dataframe tbody tr th {\n",
       "        vertical-align: top;\n",
       "    }\n",
       "\n",
       "    .dataframe thead th {\n",
       "        text-align: right;\n",
       "    }\n",
       "</style>\n",
       "<table border=\"1\" class=\"dataframe\">\n",
       "  <thead>\n",
       "    <tr style=\"text-align: right;\">\n",
       "      <th></th>\n",
       "      <th>precision</th>\n",
       "      <th>recall</th>\n",
       "    </tr>\n",
       "  </thead>\n",
       "  <tbody>\n",
       "    <tr>\n",
       "      <th>0</th>\n",
       "      <td>0.840132</td>\n",
       "      <td>0.790835</td>\n",
       "    </tr>\n",
       "    <tr>\n",
       "      <th>1</th>\n",
       "      <td>0.820709</td>\n",
       "      <td>0.827046</td>\n",
       "    </tr>\n",
       "    <tr>\n",
       "      <th>2</th>\n",
       "      <td>0.820521</td>\n",
       "      <td>0.833227</td>\n",
       "    </tr>\n",
       "    <tr>\n",
       "      <th>3</th>\n",
       "      <td>0.826553</td>\n",
       "      <td>0.831997</td>\n",
       "    </tr>\n",
       "    <tr>\n",
       "      <th>4</th>\n",
       "      <td>0.818856</td>\n",
       "      <td>0.840485</td>\n",
       "    </tr>\n",
       "    <tr>\n",
       "      <th>5</th>\n",
       "      <td>0.815541</td>\n",
       "      <td>0.843733</td>\n",
       "    </tr>\n",
       "    <tr>\n",
       "      <th>6</th>\n",
       "      <td>0.819421</td>\n",
       "      <td>0.838976</td>\n",
       "    </tr>\n",
       "    <tr>\n",
       "      <th>7</th>\n",
       "      <td>0.825777</td>\n",
       "      <td>0.833756</td>\n",
       "    </tr>\n",
       "    <tr>\n",
       "      <th>8</th>\n",
       "      <td>0.825766</td>\n",
       "      <td>0.834403</td>\n",
       "    </tr>\n",
       "    <tr>\n",
       "      <th>9</th>\n",
       "      <td>0.827164</td>\n",
       "      <td>0.834890</td>\n",
       "    </tr>\n",
       "    <tr>\n",
       "      <th>10</th>\n",
       "      <td>0.818386</td>\n",
       "      <td>0.837040</td>\n",
       "    </tr>\n",
       "    <tr>\n",
       "      <th>11</th>\n",
       "      <td>0.810100</td>\n",
       "      <td>0.833162</td>\n",
       "    </tr>\n",
       "    <tr>\n",
       "      <th>12</th>\n",
       "      <td>0.803963</td>\n",
       "      <td>0.822561</td>\n",
       "    </tr>\n",
       "    <tr>\n",
       "      <th>13</th>\n",
       "      <td>0.729768</td>\n",
       "      <td>0.777822</td>\n",
       "    </tr>\n",
       "    <tr>\n",
       "      <th>14</th>\n",
       "      <td>0.544647</td>\n",
       "      <td>0.414048</td>\n",
       "    </tr>\n",
       "  </tbody>\n",
       "</table>\n",
       "</div>"
      ],
      "text/plain": [
       "    precision    recall\n",
       "0    0.840132  0.790835\n",
       "1    0.820709  0.827046\n",
       "2    0.820521  0.833227\n",
       "3    0.826553  0.831997\n",
       "4    0.818856  0.840485\n",
       "5    0.815541  0.843733\n",
       "6    0.819421  0.838976\n",
       "7    0.825777  0.833756\n",
       "8    0.825766  0.834403\n",
       "9    0.827164  0.834890\n",
       "10   0.818386  0.837040\n",
       "11   0.810100  0.833162\n",
       "12   0.803963  0.822561\n",
       "13   0.729768  0.777822\n",
       "14   0.544647  0.414048"
      ]
     },
     "execution_count": 9,
     "metadata": {},
     "output_type": "execute_result"
    }
   ],
   "source": [
    "precisions = []\n",
    "recalls = []\n",
    "for pairs in words_pairs[:15]:\n",
    "    true_positives = 0\n",
    "    false_positives = 0\n",
    "    nb_A = 0\n",
    "    for predicted_word, truevalue_word in pairs:\n",
    "        if \"A\" in truevalue_word:\n",
    "            nb_A += 1\n",
    "            if \"A\" in predicted_word:\n",
    "                true_positives += 1\n",
    "        elif \"A\" in predicted_word:\n",
    "            false_positives += 1\n",
    "    precisions.append(true_positives / (true_positives + false_positives))\n",
    "    recalls.append(true_positives / nb_A)\n",
    "\n",
    "df = pd.DataFrame({\"precision\": precisions, \"recall\": recalls})\n",
    "df"
   ]
  },
  {
   "cell_type": "markdown",
   "id": "103f81da",
   "metadata": {},
   "source": [
    "### yaml \n",
    "indicate name of model, new dataset\n",
    "indicate the desired index (here, 9)\n",
    "1QS"
   ]
  },
  {
   "cell_type": "code",
   "execution_count": null,
   "id": "81c08426",
   "metadata": {},
   "outputs": [],
   "source": []
  }
 ],
 "metadata": {
  "kernelspec": {
   "display_name": "Python 3 (ipykernel)",
   "language": "python",
   "name": "python3"
  },
  "language_info": {
   "codemirror_mode": {
    "name": "ipython",
    "version": 3
   },
   "file_extension": ".py",
   "mimetype": "text/x-python",
   "name": "python",
   "nbconvert_exporter": "python",
   "pygments_lexer": "ipython3",
   "version": "3.9.16"
  }
 },
 "nbformat": 4,
 "nbformat_minor": 5
}
