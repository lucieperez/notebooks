{
 "cells": [
  {
   "cell_type": "code",
   "execution_count": 53,
   "id": "9d21fe08",
   "metadata": {},
   "outputs": [],
   "source": [
    "import pandas as pd \n",
    "\n",
    "from Bio import pairwise2\n",
    "from Bio.Seq import Seq\n",
    "\n",
    "from tfob import TFOb, BHSA, DSS"
   ]
  },
  {
   "cell_type": "code",
   "execution_count": 107,
   "id": "aafd3416",
   "metadata": {},
   "outputs": [],
   "source": [
    "def align_verse(verse_1, verse_2):\n",
    "    \"\"\"Takes two verses (TFOb object) from section (format verse = TFOb.section([\"book\", \"ch\", \"ver\"], source)\n",
    "    and returns aligned version of the verses as strings.\"\"\"\n",
    "    \n",
    "    # Access the word level of the TFOb object and get the g_cons for each word\n",
    "    verse1 = [word.g_cons[0] for word in verse_1.to_words]\n",
    "    verse2 = [word.g_cons[0] for word in verse_2.to_words]\n",
    "    \n",
    "    # Removes the None and join the word in a string\n",
    "    verseA = \" \".join([i for i in verse1 if i is not None])\n",
    "    verseB = \" \".join([i for i in verse2 if i is not None])\n",
    "    \n",
    "    # Align the two strings\n",
    "    seq1 = Seq(verseA)\n",
    "    seq2 = Seq(verseB)\n",
    "    \n",
    "    alignements = pairwise2.align.globalxx(seq1, seq2)\n",
    "    \n",
    "    v1_al = (alignements[0][0].strip(' '))\n",
    "    v2_al = (alignements[0][1].strip(' '))\n",
    "    \n",
    "    # Returns the aligned strings          \n",
    "    return v1_al,v2_al"
   ]
  },
  {
   "cell_type": "code",
   "execution_count": 121,
   "id": "528e96ec",
   "metadata": {},
   "outputs": [],
   "source": [
    "book = \"Isaiah\"\n",
    "chapter = \"48\"\n",
    "verse_num = \"20\"\n",
    "\n",
    "verse_bhsa = TFOb.section([book, chapter, verse_num], BHSA)\n",
    "verse_dss = TFOb.section([book, chapter, verse_num], DSS)"
   ]
  },
  {
   "cell_type": "code",
   "execution_count": 122,
   "id": "da53fa38",
   "metadata": {},
   "outputs": [
    {
     "data": {
      "text/plain": [
       "('Y>W M BBL BRXW M KFDJ-M B QWL R-NH HGJDW --HCMJ<W Z>T HWYJ>WH- <D QYH-- H >RY >MRW G>L JHWH ---<BDW J<Q-B',\n",
       " 'Y>W M BBL BRXW M KFDJJM B QWL RWNH HGJDW W HCMJ<W Z----W-->--T <D QY-WJ H >RY >MRW G>L JHWH >T <BDW J<QWB')"
      ]
     },
     "execution_count": 122,
     "metadata": {},
     "output_type": "execute_result"
    }
   ],
   "source": [
    "align_verse(verse_bhsa, verse_dss)"
   ]
  },
  {
   "cell_type": "code",
   "execution_count": null,
   "id": "7c671550",
   "metadata": {},
   "outputs": [],
   "source": []
  }
 ],
 "metadata": {
  "kernelspec": {
   "display_name": "Python 3 (ipykernel)",
   "language": "python",
   "name": "python3"
  },
  "language_info": {
   "codemirror_mode": {
    "name": "ipython",
    "version": 3
   },
   "file_extension": ".py",
   "mimetype": "text/x-python",
   "name": "python",
   "nbconvert_exporter": "python",
   "pygments_lexer": "ipython3",
   "version": "3.9.16"
  }
 },
 "nbformat": 4,
 "nbformat_minor": 5
}
