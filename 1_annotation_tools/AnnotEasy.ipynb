{
 "cells": [
  {
   "cell_type": "code",
   "execution_count": 1,
   "id": "fa0367e8",
   "metadata": {},
   "outputs": [],
   "source": [
    "from AnnotEasy import AnnotationTool"
   ]
  },
  {
   "cell_type": "code",
   "execution_count": 2,
   "id": "7fbd1986",
   "metadata": {},
   "outputs": [],
   "source": [
    "# Paths to your files\n",
    "csv_file_path = 'data/annotation_df_history/isaiah_dataset.csv'  # Update this path\n",
    "history_file_path = 'data/annotation_df_history/annotation_tracks.txt'  # Update this path\n",
    "\n",
    "# Create an instance of the AnnotationTool\n",
    "annotation_tool = AnnotationTool(csv_file_path, history_file_path)"
   ]
  },
  {
   "cell_type": "code",
   "execution_count": 3,
   "id": "bf6308c8",
   "metadata": {
    "scrolled": false
   },
   "outputs": [
    {
     "data": {
      "text/html": [
       "<div>\n",
       "<style scoped>\n",
       "    .dataframe tbody tr th:only-of-type {\n",
       "        vertical-align: middle;\n",
       "    }\n",
       "\n",
       "    .dataframe tbody tr th {\n",
       "        vertical-align: top;\n",
       "    }\n",
       "\n",
       "    .dataframe thead th {\n",
       "        text-align: right;\n",
       "    }\n",
       "</style>\n",
       "<table border=\"1\" class=\"dataframe\">\n",
       "  <thead>\n",
       "    <tr style=\"text-align: right;\">\n",
       "      <th></th>\n",
       "      <th>verb_id</th>\n",
       "      <th>lex</th>\n",
       "      <th>scroll</th>\n",
       "      <th>book</th>\n",
       "      <th>chapter</th>\n",
       "      <th>verse_num</th>\n",
       "      <th>gcons_verb</th>\n",
       "      <th>gcons_verse</th>\n",
       "      <th>sign_info</th>\n",
       "      <th>stem</th>\n",
       "      <th>tense</th>\n",
       "    </tr>\n",
       "  </thead>\n",
       "  <tbody>\n",
       "    <tr>\n",
       "      <th>966</th>\n",
       "      <td>228665</td>\n",
       "      <td>BW&gt;[</td>\n",
       "      <td>MT</td>\n",
       "      <td>Isaiah</td>\n",
       "      <td>47</td>\n",
       "      <td>9</td>\n",
       "      <td>B&gt;W</td>\n",
       "      <td>W TB&gt;NH LK CTJ &gt;LH RG&lt; B JWM &gt;XD CKWL W &gt;LMN K TMM B&gt;W &lt;LJK B RB KCPJK B &lt;YMT XBRJK M&gt;D</td>\n",
       "      <td></td>\n",
       "      <td>qal</td>\n",
       "      <td>perf</td>\n",
       "    </tr>\n",
       "  </tbody>\n",
       "</table>\n",
       "</div>"
      ],
      "text/plain": [
       "     verb_id   lex scroll    book  chapter  verse_num gcons_verb  \\\n",
       "966   228665  BW>[     MT  Isaiah       47          9        B>W   \n",
       "\n",
       "                                                                                 gcons_verse  \\\n",
       "966  W TB>NH LK CTJ >LH RG< B JWM >XD CKWL W >LMN K TMM B>W <LJK B RB KCPJK B <YMT XBRJK M>D   \n",
       "\n",
       "    sign_info stem tense  \n",
       "966            qal  perf  "
      ]
     },
     "metadata": {},
     "output_type": "display_data"
    },
    {
     "data": {
      "text/html": [
       "<div>\n",
       "<style scoped>\n",
       "    .dataframe tbody tr th:only-of-type {\n",
       "        vertical-align: middle;\n",
       "    }\n",
       "\n",
       "    .dataframe tbody tr th {\n",
       "        vertical-align: top;\n",
       "    }\n",
       "\n",
       "    .dataframe thead th {\n",
       "        text-align: right;\n",
       "    }\n",
       "</style>\n",
       "<table border=\"1\" class=\"dataframe\">\n",
       "  <thead>\n",
       "    <tr style=\"text-align: right;\">\n",
       "      <th></th>\n",
       "      <th>gcons_clause</th>\n",
       "      <th>subject</th>\n",
       "      <th>complement</th>\n",
       "      <th>cmpl_lex</th>\n",
       "      <th>cmpl_translation</th>\n",
       "      <th>dir_he</th>\n",
       "      <th>cmpl_constr</th>\n",
       "      <th>cmpl_nt</th>\n",
       "      <th>cmpl_anim</th>\n",
       "      <th>cmpl_det</th>\n",
       "      <th>cmpl_indiv</th>\n",
       "      <th>cmpl_complex</th>\n",
       "    </tr>\n",
       "  </thead>\n",
       "  <tbody>\n",
       "    <tr>\n",
       "      <th>966</th>\n",
       "      <td>K TMM B&gt;W &lt;LJK B RB KCPJK B &lt;YMT XBRJK M&gt;D</td>\n",
       "      <td></td>\n",
       "      <td>&lt;LJK</td>\n",
       "      <td>&lt;L</td>\n",
       "      <td>upon you</td>\n",
       "      <td>0</td>\n",
       "      <td>prep</td>\n",
       "      <td>prps</td>\n",
       "      <td>anim</td>\n",
       "      <td>det</td>\n",
       "      <td>prsf</td>\n",
       "      <td>simple</td>\n",
       "    </tr>\n",
       "  </tbody>\n",
       "</table>\n",
       "</div>"
      ],
      "text/plain": [
       "                                   gcons_clause subject complement cmpl_lex  \\\n",
       "966  K TMM B>W <LJK B RB KCPJK B <YMT XBRJK M>D               <LJK       <L   \n",
       "\n",
       "    cmpl_translation dir_he cmpl_constr cmpl_nt cmpl_anim cmpl_det cmpl_indiv  \\\n",
       "966         upon you      0        prep    prps      anim      det       prsf   \n",
       "\n",
       "    cmpl_complex  \n",
       "966       simple  "
      ]
     },
     "metadata": {},
     "output_type": "display_data"
    },
    {
     "data": {
      "text/html": [
       "<div>\n",
       "<style scoped>\n",
       "    .dataframe tbody tr th:only-of-type {\n",
       "        vertical-align: middle;\n",
       "    }\n",
       "\n",
       "    .dataframe tbody tr th {\n",
       "        vertical-align: top;\n",
       "    }\n",
       "\n",
       "    .dataframe thead th {\n",
       "        text-align: right;\n",
       "    }\n",
       "</style>\n",
       "<table border=\"1\" class=\"dataframe\">\n",
       "  <thead>\n",
       "    <tr style=\"text-align: right;\">\n",
       "      <th></th>\n",
       "      <th>motion_type</th>\n",
       "      <th>preposition_1</th>\n",
       "      <th>preposition_2</th>\n",
       "      <th>preposition_3</th>\n",
       "      <th>preposition_4</th>\n",
       "      <th>comments</th>\n",
       "    </tr>\n",
       "  </thead>\n",
       "  <tbody>\n",
       "    <tr>\n",
       "      <th>966</th>\n",
       "      <td>fictive</td>\n",
       "      <td>&lt;L</td>\n",
       "      <td></td>\n",
       "      <td></td>\n",
       "      <td></td>\n",
       "      <td></td>\n",
       "    </tr>\n",
       "  </tbody>\n",
       "</table>\n",
       "</div>"
      ],
      "text/plain": [
       "    motion_type preposition_1 preposition_2 preposition_3 preposition_4  \\\n",
       "966     fictive            <L                                             \n",
       "\n",
       "    comments  \n",
       "966           "
      ]
     },
     "metadata": {},
     "output_type": "display_data"
    },
    {
     "data": {
      "application/vnd.jupyter.widget-view+json": {
       "model_id": "1a234aa235874b098e03d91d29c82833",
       "version_major": 2,
       "version_minor": 0
      },
      "text/plain": [
       "HTML(value=\"<b>Annotate 'gcons_clause':</b>\")"
      ]
     },
     "metadata": {},
     "output_type": "display_data"
    },
    {
     "data": {
      "application/vnd.jupyter.widget-view+json": {
       "model_id": "7b767101c6ea4334ae4c2c995f73de09",
       "version_major": 2,
       "version_minor": 0
      },
      "text/plain": [
       "Textarea(value='K TMM B>W <LJK B RB KCPJK B <YMT XBRJK M>D', layout=Layout(height='100px', width='100%'), plac…"
      ]
     },
     "metadata": {},
     "output_type": "display_data"
    },
    {
     "data": {
      "application/vnd.jupyter.widget-view+json": {
       "model_id": "9cd848072f6045b9a7b9144f9eac647b",
       "version_major": 2,
       "version_minor": 0
      },
      "text/plain": [
       "HBox(children=(Button(button_style='primary', description='Previous Column', icon='arrow-left', style=ButtonSt…"
      ]
     },
     "metadata": {},
     "output_type": "display_data"
    },
    {
     "data": {
      "application/vnd.jupyter.widget-view+json": {
       "model_id": "ca133020eb44400d943e0b367511c11d",
       "version_major": 2,
       "version_minor": 0
      },
      "text/plain": [
       "HBox(children=(Button(button_style='warning', description='Previous Row', icon='arrow-left', style=ButtonStyle…"
      ]
     },
     "metadata": {},
     "output_type": "display_data"
    }
   ],
   "source": [
    "### Display the annotation tool\n",
    "start_index = 1\n",
    "annotation_tool.display()"
   ]
  },
  {
   "cell_type": "code",
   "execution_count": 7,
   "id": "3b7ad9ab",
   "metadata": {},
   "outputs": [],
   "source": [
    "current_index = annotation_tool.current_index"
   ]
  },
  {
   "cell_type": "code",
   "execution_count": 76,
   "id": "e36f6ffa",
   "metadata": {},
   "outputs": [
    {
     "data": {
      "text/html": [
       "<div>\n",
       "<style scoped>\n",
       "    .dataframe tbody tr th:only-of-type {\n",
       "        vertical-align: middle;\n",
       "    }\n",
       "\n",
       "    .dataframe tbody tr th {\n",
       "        vertical-align: top;\n",
       "    }\n",
       "\n",
       "    .dataframe thead th {\n",
       "        text-align: right;\n",
       "    }\n",
       "</style>\n",
       "<table border=\"1\" class=\"dataframe\">\n",
       "  <thead>\n",
       "    <tr style=\"text-align: right;\">\n",
       "      <th></th>\n",
       "      <th>verb_id</th>\n",
       "      <th>lex</th>\n",
       "      <th>scroll</th>\n",
       "      <th>book</th>\n",
       "      <th>chapter</th>\n",
       "      <th>verse_num</th>\n",
       "      <th>gcons_verb</th>\n",
       "      <th>gcons_verse</th>\n",
       "      <th>sign_info</th>\n",
       "      <th>stem</th>\n",
       "      <th>tense</th>\n",
       "      <th>gcons_clause</th>\n",
       "      <th>subject</th>\n",
       "      <th>complement</th>\n",
       "      <th>cmpl_lex</th>\n",
       "      <th>cmpl_translation</th>\n",
       "      <th>dir_he</th>\n",
       "      <th>cmpl_constr</th>\n",
       "      <th>cmpl_nt</th>\n",
       "      <th>cmpl_anim</th>\n",
       "      <th>cmpl_det</th>\n",
       "      <th>cmpl_indiv</th>\n",
       "      <th>cmpl_complex</th>\n",
       "      <th>motion_type</th>\n",
       "      <th>preposition_1</th>\n",
       "      <th>preposition_2</th>\n",
       "      <th>preposition_3</th>\n",
       "      <th>preposition_4</th>\n",
       "      <th>comments</th>\n",
       "    </tr>\n",
       "  </thead>\n",
       "  <tbody>\n",
       "    <tr>\n",
       "      <th>858</th>\n",
       "      <td>226972</td>\n",
       "      <td>HLK[</td>\n",
       "      <td>MT</td>\n",
       "      <td>Isaiah</td>\n",
       "      <td>43</td>\n",
       "      <td>2</td>\n",
       "      <td>TLK</td>\n",
       "      <td>KJ T&lt;BR B MJM &gt;TK &gt;NJ W B NHRWT L&gt; JCVPWK KJ TLK BMW &gt;C L&gt; TKWH W LHBH L&gt; TB&lt;R BK</td>\n",
       "      <td></td>\n",
       "      <td>qal</td>\n",
       "      <td>impf</td>\n",
       "      <td>KJ TLK BMW &gt;C</td>\n",
       "      <td></td>\n",
       "      <td>BMW &gt;C</td>\n",
       "      <td>BMW &gt;C/</td>\n",
       "      <td>in fire</td>\n",
       "      <td>0</td>\n",
       "      <td>prep</td>\n",
       "      <td>phen</td>\n",
       "      <td>inanim</td>\n",
       "      <td>und</td>\n",
       "      <td>subs</td>\n",
       "      <td>simple</td>\n",
       "      <td>factive</td>\n",
       "      <td>BMW</td>\n",
       "      <td></td>\n",
       "      <td></td>\n",
       "      <td></td>\n",
       "      <td></td>\n",
       "    </tr>\n",
       "  </tbody>\n",
       "</table>\n",
       "</div>"
      ],
      "text/plain": [
       "     verb_id   lex scroll    book  chapter  verse_num gcons_verb  \\\n",
       "858   226972  HLK[     MT  Isaiah       43          2        TLK   \n",
       "\n",
       "                                                                           gcons_verse  \\\n",
       "858  KJ T<BR B MJM >TK >NJ W B NHRWT L> JCVPWK KJ TLK BMW >C L> TKWH W LHBH L> TB<R BK   \n",
       "\n",
       "    sign_info stem tense   gcons_clause subject complement cmpl_lex  \\\n",
       "858            qal  impf  KJ TLK BMW >C             BMW >C  BMW >C/   \n",
       "\n",
       "    cmpl_translation dir_he cmpl_constr cmpl_nt cmpl_anim cmpl_det cmpl_indiv  \\\n",
       "858          in fire      0        prep    phen    inanim      und       subs   \n",
       "\n",
       "    cmpl_complex motion_type preposition_1 preposition_2 preposition_3  \\\n",
       "858       simple     factive           BMW                               \n",
       "\n",
       "    preposition_4 comments  \n",
       "858                         "
      ]
     },
     "metadata": {},
     "output_type": "display_data"
    }
   ],
   "source": [
    "matching_index = annotation_tool.find_matching_row()\n",
    "if matching_index:\n",
    "    df_row = annotation_tool.df.iloc[[matching_index]]\n",
    "    display(df_row)"
   ]
  },
  {
   "cell_type": "code",
   "execution_count": 63,
   "id": "a2c68e5c",
   "metadata": {},
   "outputs": [
    {
     "data": {
      "text/html": [
       "<div>\n",
       "<style scoped>\n",
       "    .dataframe tbody tr th:only-of-type {\n",
       "        vertical-align: middle;\n",
       "    }\n",
       "\n",
       "    .dataframe tbody tr th {\n",
       "        vertical-align: top;\n",
       "    }\n",
       "\n",
       "    .dataframe thead th {\n",
       "        text-align: right;\n",
       "    }\n",
       "</style>\n",
       "<table border=\"1\" class=\"dataframe\">\n",
       "  <thead>\n",
       "    <tr style=\"text-align: right;\">\n",
       "      <th></th>\n",
       "      <th>verb_id</th>\n",
       "      <th>lex</th>\n",
       "      <th>scroll</th>\n",
       "      <th>book</th>\n",
       "      <th>chapter</th>\n",
       "      <th>verse_num</th>\n",
       "      <th>gcons_verb</th>\n",
       "      <th>gcons_verse</th>\n",
       "      <th>sign_info</th>\n",
       "      <th>stem</th>\n",
       "      <th>tense</th>\n",
       "      <th>gcons_clause</th>\n",
       "      <th>subject</th>\n",
       "      <th>complement</th>\n",
       "      <th>cmpl_lex</th>\n",
       "      <th>cmpl_translation</th>\n",
       "      <th>dir_he</th>\n",
       "      <th>cmpl_constr</th>\n",
       "      <th>cmpl_nt</th>\n",
       "      <th>cmpl_anim</th>\n",
       "      <th>cmpl_det</th>\n",
       "      <th>cmpl_indiv</th>\n",
       "      <th>cmpl_complex</th>\n",
       "      <th>motion_type</th>\n",
       "      <th>preposition_1</th>\n",
       "      <th>preposition_2</th>\n",
       "      <th>preposition_3</th>\n",
       "      <th>preposition_4</th>\n",
       "      <th>comments</th>\n",
       "    </tr>\n",
       "  </thead>\n",
       "  <tbody>\n",
       "    <tr>\n",
       "      <th>662</th>\n",
       "      <td>1907473</td>\n",
       "      <td>BW&gt;[</td>\n",
       "      <td>1Qisaa</td>\n",
       "      <td>Isaiah</td>\n",
       "      <td>36</td>\n",
       "      <td>17</td>\n",
       "      <td>BW&gt;J</td>\n",
       "      <td>&lt;D BW&gt;J W LQXTJ &gt;TKMH &gt;L &gt;RY K &gt;RYKMH &gt;L &gt;RY DGN W TJRWC &gt;RY LXM W KRMJM</td>\n",
       "      <td>00 00000 0 00000 000000 00 000 0 0000000 00 000 000 0 00000 000 000 0 00000 00</td>\n",
       "      <td>qal</td>\n",
       "      <td>infc</td>\n",
       "      <td>&lt;D BW&gt;J</td>\n",
       "      <td></td>\n",
       "      <td>no complement</td>\n",
       "      <td>no complement</td>\n",
       "      <td></td>\n",
       "      <td></td>\n",
       "      <td></td>\n",
       "      <td></td>\n",
       "      <td></td>\n",
       "      <td></td>\n",
       "      <td></td>\n",
       "      <td></td>\n",
       "      <td></td>\n",
       "      <td></td>\n",
       "      <td></td>\n",
       "      <td></td>\n",
       "      <td></td>\n",
       "      <td></td>\n",
       "    </tr>\n",
       "  </tbody>\n",
       "</table>\n",
       "</div>"
      ],
      "text/plain": [
       "     verb_id   lex  scroll    book  chapter  verse_num gcons_verb  \\\n",
       "662  1907473  BW>[  1Qisaa  Isaiah       36         17       BW>J   \n",
       "\n",
       "                                                                  gcons_verse  \\\n",
       "662  <D BW>J W LQXTJ >TKMH >L >RY K >RYKMH >L >RY DGN W TJRWC >RY LXM W KRMJM   \n",
       "\n",
       "                                                                          sign_info  \\\n",
       "662  00 00000 0 00000 000000 00 000 0 0000000 00 000 000 0 00000 000 000 0 00000 00   \n",
       "\n",
       "    stem tense gcons_clause subject     complement       cmpl_lex  \\\n",
       "662  qal  infc      <D BW>J          no complement  no complement   \n",
       "\n",
       "    cmpl_translation dir_he cmpl_constr cmpl_nt cmpl_anim cmpl_det cmpl_indiv  \\\n",
       "662                                                                             \n",
       "\n",
       "    cmpl_complex motion_type preposition_1 preposition_2 preposition_3  \\\n",
       "662                                                                      \n",
       "\n",
       "    preposition_4 comments  \n",
       "662                         "
      ]
     },
     "metadata": {},
     "output_type": "display_data"
    }
   ],
   "source": [
    "# If no match\n",
    "df_row = annotation_tool.df.iloc[[current_index - 1]]\n",
    "display(df_row)"
   ]
  },
  {
   "cell_type": "markdown",
   "id": "57510887",
   "metadata": {},
   "source": [
    "#### Buttons legend\n",
    "\n",
    "\n",
    "<div style=\"text-align: center;\">Name types</div>\n",
    "\n",
    "\n",
    "| Button    | Description                                   |\n",
    "|-----------|:----------------------------------------------|\n",
    "| abs       | abstract nouns (freedom, judgments, etc)      |\n",
    "| adv       | adverb                                        |\n",
    "| bopa      | body part                                     |\n",
    "| dir       | direction                                     |\n",
    "| gens      | people                                        |\n",
    "| mens      | measurement unit                              |\n",
    "| na        | non applicable                                |\n",
    "| obj       | object, thing                                 |\n",
    "| occ       | occupation, work, activities, etc             |\n",
    "| other     | other                                         |\n",
    "| pers      | person                                        |\n",
    "| phen      | phenomenon (sound, light, weather, etc)       |\n",
    "| ppde      | demonstrative personal pronoun                |\n",
    "| ppin      | interrogative pronoun                         |\n",
    "| prps      | personal pronoun                              |\n",
    "| topo      | place                                         |\n",
    "\n",
    "***   \n",
    "\n",
    "<div style=\"text-align: center;\">Animacy</div>\n",
    "\n",
    "\n",
    "| Button       | Description             |\n",
    "| -------------|:------------------------|\n",
    "| anim         | animate                 |\n",
    "| inanim       | inanimate               |\n",
    "| anim inanim  | to be determined later  |\n",
    "\n",
    "***\n",
    "\n",
    "<div style=\"text-align: center;\">Individuation</div>\n",
    "\n",
    "\n",
    "| Button | Description           |\n",
    "|--------|:----------------------|\n",
    "| adv    | adverb                |\n",
    "| nmpr   | proper noun           |\n",
    "| ppin   | interrogative pronoun |\n",
    "| prsf   | pronominal suffix     |\n",
    "| subs   | substantive           |\n",
    "\n",
    "***\n",
    "\n",
    "<div style=\"text-align: center;\">Complexity</div>\n",
    "\n",
    "\n",
    "| Button   | Description                           |\n",
    "|----------|:--------------------------------------|\n",
    "| complex  | more than one morpheme                |\n",
    "| simple   | one morpheme (excluding prepositions) |\n",
    "\n",
    "\n",
    "***\n",
    "\n",
    "<div style=\"text-align: center;\">Motion types</div>\n",
    "\n",
    "\n",
    "| Button          | Description                            |\n",
    "|-----------------|----------------------------------------|\n",
    "| factive         | factive (actual) motion                |\n",
    "| fictive         | fictive (non actual) motion            |\n",
    "| factive fictive | unsure, to be determined later on      |\n",
    "\n",
    "\n",
    "#### Factive motion checklist:\n",
    "- something or someone *physical* in the expression goes through a change of position from a point A or to a point B (or both)\n",
    "\n",
    "#### Complexity:\n",
    "- noun + definite article : simple\n",
    "- noun + personal pronoun : complex\n",
    "\n",
    "#### Definiteness:\n",
    "- det: with definite article, with pronominal suffixes, in construct chain\n",
    "- und\n",
    "- na : non applicable (ex: for interrogative particle)"
   ]
  },
  {
   "cell_type": "code",
   "execution_count": 8,
   "id": "27fdfd24",
   "metadata": {},
   "outputs": [
    {
     "name": "stdout",
     "output_type": "stream",
     "text": [
      "DataFrame saved as data/annotation_df_history/isaiah_dataset_2024-02-07_12_01.csv and data/annotation_df_history/isaiah_dataset.csv.\n"
     ]
    }
   ],
   "source": [
    "# To save the annotated DataFrame\n",
    "annotation_tool.save_dataframe()\n",
    "\n",
    "# To save the annotation session details\n",
    "annotation_tool.save_annotation_details()"
   ]
  },
  {
   "cell_type": "code",
   "execution_count": 9,
   "id": "66904d2b",
   "metadata": {},
   "outputs": [
    {
     "data": {
      "text/plain": [
       "965"
      ]
     },
     "execution_count": 9,
     "metadata": {},
     "output_type": "execute_result"
    }
   ],
   "source": [
    "current_index - start_index"
   ]
  },
  {
   "cell_type": "code",
   "execution_count": 10,
   "id": "79dd24d9",
   "metadata": {},
   "outputs": [
    {
     "data": {
      "text/plain": [
       "438"
      ]
     },
     "execution_count": 10,
     "metadata": {},
     "output_type": "execute_result"
    }
   ],
   "source": [
    "len(annotation_tool.df) - current_index"
   ]
  },
  {
   "cell_type": "markdown",
   "id": "01bdc73f",
   "metadata": {},
   "source": [
    "#### Print some information about your dataset"
   ]
  },
  {
   "cell_type": "code",
   "execution_count": null,
   "id": "1a7c7d3c",
   "metadata": {},
   "outputs": [],
   "source": [
    "# Print the different values of the column \"comments\"\n",
    "#set(annotation_tool.df.comments)\n",
    "#set(annotation_tool.df.cmpl_translation)\n",
    "#set(annotation_tool.df.cmpl_constr)"
   ]
  },
  {
   "cell_type": "code",
   "execution_count": 6,
   "id": "ec153e2b",
   "metadata": {},
   "outputs": [
    {
     "data": {
      "text/html": [
       "<div>\n",
       "<style scoped>\n",
       "    .dataframe tbody tr th:only-of-type {\n",
       "        vertical-align: middle;\n",
       "    }\n",
       "\n",
       "    .dataframe tbody tr th {\n",
       "        vertical-align: top;\n",
       "    }\n",
       "\n",
       "    .dataframe thead th {\n",
       "        text-align: right;\n",
       "    }\n",
       "</style>\n",
       "<table border=\"1\" class=\"dataframe\">\n",
       "  <thead>\n",
       "    <tr style=\"text-align: right;\">\n",
       "      <th></th>\n",
       "      <th>verb_id</th>\n",
       "      <th>lex</th>\n",
       "      <th>scroll</th>\n",
       "      <th>book</th>\n",
       "      <th>chapter</th>\n",
       "      <th>verse_num</th>\n",
       "      <th>gcons_verb</th>\n",
       "      <th>gcons_verse</th>\n",
       "      <th>sign_info</th>\n",
       "      <th>stem</th>\n",
       "      <th>tense</th>\n",
       "      <th>gcons_clause</th>\n",
       "      <th>subject</th>\n",
       "      <th>complement</th>\n",
       "      <th>cmpl_lex</th>\n",
       "      <th>cmpl_translation</th>\n",
       "      <th>dir_he</th>\n",
       "      <th>cmpl_constr</th>\n",
       "      <th>cmpl_nt</th>\n",
       "      <th>cmpl_anim</th>\n",
       "      <th>cmpl_det</th>\n",
       "      <th>cmpl_indiv</th>\n",
       "      <th>cmpl_complex</th>\n",
       "      <th>motion_type</th>\n",
       "      <th>preposition_1</th>\n",
       "      <th>preposition_2</th>\n",
       "      <th>preposition_3</th>\n",
       "      <th>preposition_4</th>\n",
       "      <th>comments</th>\n",
       "    </tr>\n",
       "  </thead>\n",
       "  <tbody>\n",
       "    <tr>\n",
       "      <th>938</th>\n",
       "      <td>228449</td>\n",
       "      <td>CWB[</td>\n",
       "      <td>MT</td>\n",
       "      <td>Isaiah</td>\n",
       "      <td>46</td>\n",
       "      <td>8</td>\n",
       "      <td>HCJBW</td>\n",
       "      <td>ZKRW Z&gt;T W HT&gt;CCW HCJBW PWC&lt;JM &lt;L LB</td>\n",
       "      <td></td>\n",
       "      <td>hif</td>\n",
       "      <td>impv</td>\n",
       "      <td>HCJBW &lt;L LB</td>\n",
       "      <td></td>\n",
       "      <td>&lt;L LB</td>\n",
       "      <td>&lt;L LB/</td>\n",
       "      <td>to the heart/to the mind</td>\n",
       "      <td>0</td>\n",
       "      <td>prep</td>\n",
       "      <td>abs</td>\n",
       "      <td>inanim</td>\n",
       "      <td>und</td>\n",
       "      <td>subs</td>\n",
       "      <td>simple</td>\n",
       "      <td>fictive</td>\n",
       "      <td>&lt;L</td>\n",
       "      <td></td>\n",
       "      <td></td>\n",
       "      <td></td>\n",
       "      <td></td>\n",
       "    </tr>\n",
       "    <tr>\n",
       "      <th>939</th>\n",
       "      <td>1912059</td>\n",
       "      <td>CWB[</td>\n",
       "      <td>1Qisaa</td>\n",
       "      <td>Isaiah</td>\n",
       "      <td>46</td>\n",
       "      <td>8</td>\n",
       "      <td>HCJBW</td>\n",
       "      <td>ZKWRW ZW&gt;T W HT&gt;WCCW HCJBW PWC&lt;JM &lt;L LB</td>\n",
       "      <td>00000 0000 0 0000000 00000 000000 00 00 00</td>\n",
       "      <td>hifil</td>\n",
       "      <td>impv</td>\n",
       "      <td>HCJBW PWC&lt;JM &lt;L LB</td>\n",
       "      <td></td>\n",
       "      <td>&lt;L LB</td>\n",
       "      <td>&lt;L LB/</td>\n",
       "      <td>to the heart/to the mind</td>\n",
       "      <td>0</td>\n",
       "      <td>prep</td>\n",
       "      <td>abs</td>\n",
       "      <td>inanim</td>\n",
       "      <td>und</td>\n",
       "      <td>subs</td>\n",
       "      <td>simple</td>\n",
       "      <td>fictive</td>\n",
       "      <td>&lt;L</td>\n",
       "      <td></td>\n",
       "      <td></td>\n",
       "      <td></td>\n",
       "      <td></td>\n",
       "    </tr>\n",
       "    <tr>\n",
       "      <th>940</th>\n",
       "      <td>1923178</td>\n",
       "      <td>CWB[</td>\n",
       "      <td>1Q8</td>\n",
       "      <td>Isaiah</td>\n",
       "      <td>46</td>\n",
       "      <td>8</td>\n",
       "      <td>HCJBW</td>\n",
       "      <td>ZKRW Z&gt;T W HT&gt;CCW HCJBW PC&lt;JM &lt;L LB</td>\n",
       "      <td>0000 000 0 000000 00000 00000 00 00 00</td>\n",
       "      <td>hifil</td>\n",
       "      <td>impv</td>\n",
       "      <td>HCJBW PWC&lt;JM &lt;L LB</td>\n",
       "      <td></td>\n",
       "      <td>&lt;L LB</td>\n",
       "      <td>&lt;L LB/</td>\n",
       "      <td>to the heart/to the mind</td>\n",
       "      <td>0</td>\n",
       "      <td>prep</td>\n",
       "      <td>abs</td>\n",
       "      <td>inanim</td>\n",
       "      <td>und</td>\n",
       "      <td>subs</td>\n",
       "      <td>simple</td>\n",
       "      <td>fictive</td>\n",
       "      <td>&lt;L</td>\n",
       "      <td></td>\n",
       "      <td></td>\n",
       "      <td></td>\n",
       "      <td></td>\n",
       "    </tr>\n",
       "    <tr>\n",
       "      <th>1364</th>\n",
       "      <td>234301</td>\n",
       "      <td>&lt;LH[</td>\n",
       "      <td>MT</td>\n",
       "      <td>Isaiah</td>\n",
       "      <td>65</td>\n",
       "      <td>17</td>\n",
       "      <td>T&lt;LJNH</td>\n",
       "      <td>KJ HNNJ BWR&gt; CMJM XDCJM W &gt;RY XDCH W L&gt; TZKRNH H R&gt;CNWT W L&gt; T&lt;LJNH &lt;L LB</td>\n",
       "      <td></td>\n",
       "      <td>qal</td>\n",
       "      <td>impf</td>\n",
       "      <td>W L&gt; T&lt;LJNH &lt;L LB</td>\n",
       "      <td></td>\n",
       "      <td>&lt;L LB</td>\n",
       "      <td>&lt;L LB/</td>\n",
       "      <td>to the mind/to the heart</td>\n",
       "      <td>0</td>\n",
       "      <td>prep</td>\n",
       "      <td>abs</td>\n",
       "      <td>inanim</td>\n",
       "      <td>und</td>\n",
       "      <td>subs</td>\n",
       "      <td>simple</td>\n",
       "      <td>fictive</td>\n",
       "      <td>&lt;L</td>\n",
       "      <td></td>\n",
       "      <td></td>\n",
       "      <td></td>\n",
       "      <td></td>\n",
       "    </tr>\n",
       "    <tr>\n",
       "      <th>1365</th>\n",
       "      <td>1918207</td>\n",
       "      <td>&lt;LH[</td>\n",
       "      <td>1Qisaa</td>\n",
       "      <td>Isaiah</td>\n",
       "      <td>65</td>\n",
       "      <td>17</td>\n",
       "      <td>T&lt;LJN&gt;</td>\n",
       "      <td>KJ&gt; HNNJ BWR&gt; CMJM XDCJM W &gt;RY XDCH W LW&gt; TZKRNH H RJCWNWT W LW&gt; T&lt;LJN&gt; &lt;L LB</td>\n",
       "      <td>000 00000 0000 0000 00000 0 000 0000 0 000 000000 0 0000000 0 000 000000 00 00 00</td>\n",
       "      <td>qal</td>\n",
       "      <td>impf</td>\n",
       "      <td>W LW&gt; T&lt;LJN&gt; &lt;L LB</td>\n",
       "      <td></td>\n",
       "      <td>&lt;L LB</td>\n",
       "      <td>&lt;L LB/</td>\n",
       "      <td>to the mind/to the heart</td>\n",
       "      <td>0</td>\n",
       "      <td>prep</td>\n",
       "      <td>abs</td>\n",
       "      <td>inanim</td>\n",
       "      <td>und</td>\n",
       "      <td>subs</td>\n",
       "      <td>simple</td>\n",
       "      <td>fictive</td>\n",
       "      <td>&lt;L</td>\n",
       "      <td></td>\n",
       "      <td></td>\n",
       "      <td></td>\n",
       "      <td></td>\n",
       "    </tr>\n",
       "    <tr>\n",
       "      <th>1366</th>\n",
       "      <td>1926994</td>\n",
       "      <td>&lt;LH[</td>\n",
       "      <td>1Q8</td>\n",
       "      <td>Isaiah</td>\n",
       "      <td>65</td>\n",
       "      <td>17</td>\n",
       "      <td>T&lt;LJNH</td>\n",
       "      <td>BWR&gt; CMJM XDCJM W &gt;RY XDCH W L&gt; TZKRNH H R&gt;CNWT W L&gt; T&lt;LJNH &lt;L LB</td>\n",
       "      <td>0000 0000 00000 0 000 0000 0 00 000000 0 000000 0 00 000000 00 00 00</td>\n",
       "      <td>qal</td>\n",
       "      <td>impf</td>\n",
       "      <td>W LW&gt; T&lt;LJN&gt; &lt;L LB</td>\n",
       "      <td></td>\n",
       "      <td>&lt;L LB</td>\n",
       "      <td>&lt;L LB/</td>\n",
       "      <td>to the mind/to the heart</td>\n",
       "      <td>0</td>\n",
       "      <td>prep</td>\n",
       "      <td>abs</td>\n",
       "      <td>inanim</td>\n",
       "      <td>und</td>\n",
       "      <td>subs</td>\n",
       "      <td>simple</td>\n",
       "      <td>fictive</td>\n",
       "      <td>&lt;L</td>\n",
       "      <td></td>\n",
       "      <td></td>\n",
       "      <td></td>\n",
       "      <td></td>\n",
       "    </tr>\n",
       "  </tbody>\n",
       "</table>\n",
       "</div>"
      ],
      "text/plain": [
       "      verb_id   lex  scroll    book  chapter  verse_num gcons_verb  \\\n",
       "938    228449  CWB[      MT  Isaiah       46          8      HCJBW   \n",
       "939   1912059  CWB[  1Qisaa  Isaiah       46          8      HCJBW   \n",
       "940   1923178  CWB[     1Q8  Isaiah       46          8      HCJBW   \n",
       "1364   234301  <LH[      MT  Isaiah       65         17     T<LJNH   \n",
       "1365  1918207  <LH[  1Qisaa  Isaiah       65         17     T<LJN>   \n",
       "1366  1926994  <LH[     1Q8  Isaiah       65         17     T<LJNH   \n",
       "\n",
       "                                                                        gcons_verse  \\\n",
       "938                                            ZKRW Z>T W HT>CCW HCJBW PWC<JM <L LB   \n",
       "939                                         ZKWRW ZW>T W HT>WCCW HCJBW PWC<JM <L LB   \n",
       "940                                             ZKRW Z>T W HT>CCW HCJBW PC<JM <L LB   \n",
       "1364      KJ HNNJ BWR> CMJM XDCJM W >RY XDCH W L> TZKRNH H R>CNWT W L> T<LJNH <L LB   \n",
       "1365  KJ> HNNJ BWR> CMJM XDCJM W >RY XDCH W LW> TZKRNH H RJCWNWT W LW> T<LJN> <L LB   \n",
       "1366              BWR> CMJM XDCJM W >RY XDCH W L> TZKRNH H R>CNWT W L> T<LJNH <L LB   \n",
       "\n",
       "                                                                              sign_info  \\\n",
       "938                                                                                       \n",
       "939                                          00000 0000 0 0000000 00000 000000 00 00 00   \n",
       "940                                              0000 000 0 000000 00000 00000 00 00 00   \n",
       "1364                                                                                      \n",
       "1365  000 00000 0000 0000 00000 0 000 0000 0 000 000000 0 0000000 0 000 000000 00 00 00   \n",
       "1366               0000 0000 00000 0 000 0000 0 00 000000 0 000000 0 00 000000 00 00 00   \n",
       "\n",
       "       stem tense        gcons_clause subject complement cmpl_lex  \\\n",
       "938     hif  impv         HCJBW <L LB              <L LB   <L LB/   \n",
       "939   hifil  impv  HCJBW PWC<JM <L LB              <L LB   <L LB/   \n",
       "940   hifil  impv  HCJBW PWC<JM <L LB              <L LB   <L LB/   \n",
       "1364    qal  impf   W L> T<LJNH <L LB              <L LB   <L LB/   \n",
       "1365    qal  impf  W LW> T<LJN> <L LB              <L LB   <L LB/   \n",
       "1366    qal  impf  W LW> T<LJN> <L LB              <L LB   <L LB/   \n",
       "\n",
       "              cmpl_translation dir_he cmpl_constr cmpl_nt cmpl_anim cmpl_det  \\\n",
       "938   to the heart/to the mind      0        prep     abs    inanim      und   \n",
       "939   to the heart/to the mind      0        prep     abs    inanim      und   \n",
       "940   to the heart/to the mind      0        prep     abs    inanim      und   \n",
       "1364  to the mind/to the heart      0        prep     abs    inanim      und   \n",
       "1365  to the mind/to the heart      0        prep     abs    inanim      und   \n",
       "1366  to the mind/to the heart      0        prep     abs    inanim      und   \n",
       "\n",
       "     cmpl_indiv cmpl_complex motion_type preposition_1 preposition_2  \\\n",
       "938        subs       simple     fictive            <L                 \n",
       "939        subs       simple     fictive            <L                 \n",
       "940        subs       simple     fictive            <L                 \n",
       "1364       subs       simple     fictive            <L                 \n",
       "1365       subs       simple     fictive            <L                 \n",
       "1366       subs       simple     fictive            <L                 \n",
       "\n",
       "     preposition_3 preposition_4 comments  \n",
       "938                                        \n",
       "939                                        \n",
       "940                                        \n",
       "1364                                       \n",
       "1365                                       \n",
       "1366                                       "
      ]
     },
     "execution_count": 6,
     "metadata": {},
     "output_type": "execute_result"
    }
   ],
   "source": [
    "# Print some df lines\n",
    "\n",
    "#annotation_tool.df[annotation_tool.df.cmpl_lex == \"MN RXWQ/\"]>XR/\n",
    "annotation_tool.df[annotation_tool.df.cmpl_lex == \"<L LB/\"]\n",
    "#annotation_tool.df[annotation_tool.df.cmpl_constr == \"dir-he\"]\n",
    "#annotation_tool.df[annotation_tool.df.gcons_clause == \"SWRW\"]\n",
    "#annotation_tool.df[annotation_tool.df.motion_type == \"factive fictive\"]\n",
    "#annotation_tool.df[(annotation_tool.df.cmpl_anim != \"anim\") & (annotation_tool.df.cmpl_anim != \"inanim\") & (annotation_tool.df.cmpl_anim != \"\")]\n",
    "#len(annotation_tool.df)\n",
    "#annotation_tool.df[annotation_tool.df.comments != \"\"]"
   ]
  },
  {
   "cell_type": "code",
   "execution_count": null,
   "id": "8ed8e9a4",
   "metadata": {},
   "outputs": [],
   "source": [
    "#\tcmpl_complex"
   ]
  },
  {
   "cell_type": "code",
   "execution_count": 67,
   "id": "27be6e7b",
   "metadata": {},
   "outputs": [
    {
     "data": {
      "text/plain": [
       "{'', '0', '1'}"
      ]
     },
     "execution_count": 67,
     "metadata": {},
     "output_type": "execute_result"
    }
   ],
   "source": [
    "set(annotation_tool.df.dir_he)"
   ]
  },
  {
   "cell_type": "code",
   "execution_count": 68,
   "id": "1d56eade",
   "metadata": {},
   "outputs": [
    {
     "data": {
      "text/plain": [
       "{'', 'dir-he', 'prep', 'prep + dir-he', 'vc'}"
      ]
     },
     "execution_count": 68,
     "metadata": {},
     "output_type": "execute_result"
    }
   ],
   "source": [
    "set(annotation_tool.df.cmpl_constr)"
   ]
  },
  {
   "cell_type": "code",
   "execution_count": 69,
   "id": "417c9708",
   "metadata": {},
   "outputs": [
    {
     "data": {
      "text/plain": [
       "{'',\n",
       " 'abs',\n",
       " 'adv',\n",
       " 'bopa',\n",
       " 'dir',\n",
       " 'gens',\n",
       " 'mens',\n",
       " 'obj',\n",
       " 'occ',\n",
       " 'other',\n",
       " 'pers',\n",
       " 'pers,gens,topo',\n",
       " 'phen',\n",
       " 'ppin',\n",
       " 'prps',\n",
       " 'topo'}"
      ]
     },
     "execution_count": 69,
     "metadata": {},
     "output_type": "execute_result"
    }
   ],
   "source": [
    "set(annotation_tool.df.cmpl_nt)"
   ]
  },
  {
   "cell_type": "code",
   "execution_count": 70,
   "id": "be60c463",
   "metadata": {},
   "outputs": [
    {
     "data": {
      "text/plain": [
       "{'', 'anim', 'anim inanim', 'inanim', 'inanim anim'}"
      ]
     },
     "execution_count": 70,
     "metadata": {},
     "output_type": "execute_result"
    }
   ],
   "source": [
    "set(annotation_tool.df.cmpl_anim)"
   ]
  },
  {
   "cell_type": "code",
   "execution_count": 71,
   "id": "d2dc6e55",
   "metadata": {},
   "outputs": [
    {
     "data": {
      "text/plain": [
       "{'', 'det', 'na', 'und'}"
      ]
     },
     "execution_count": 71,
     "metadata": {},
     "output_type": "execute_result"
    }
   ],
   "source": [
    "set(annotation_tool.df.cmpl_det)"
   ]
  },
  {
   "cell_type": "code",
   "execution_count": 72,
   "id": "b33b4c99",
   "metadata": {},
   "outputs": [
    {
     "data": {
      "text/plain": [
       "{'', 'adj', 'adv', 'nmpr', 'ppin', 'prsf', 'subs'}"
      ]
     },
     "execution_count": 72,
     "metadata": {},
     "output_type": "execute_result"
    }
   ],
   "source": [
    "set(annotation_tool.df.cmpl_indiv)"
   ]
  },
  {
   "cell_type": "code",
   "execution_count": 73,
   "id": "76bd8b81",
   "metadata": {},
   "outputs": [
    {
     "data": {
      "text/plain": [
       "{'', 'complex', 'simple'}"
      ]
     },
     "execution_count": 73,
     "metadata": {},
     "output_type": "execute_result"
    }
   ],
   "source": [
    "set(annotation_tool.df.cmpl_complex)"
   ]
  },
  {
   "cell_type": "code",
   "execution_count": null,
   "id": "4c306d83",
   "metadata": {},
   "outputs": [],
   "source": []
  }
 ],
 "metadata": {
  "kernelspec": {
   "display_name": "Python 3 (ipykernel)",
   "language": "python",
   "name": "python3"
  },
  "language_info": {
   "codemirror_mode": {
    "name": "ipython",
    "version": 3
   },
   "file_extension": ".py",
   "mimetype": "text/x-python",
   "name": "python",
   "nbconvert_exporter": "python",
   "pygments_lexer": "ipython3",
   "version": "3.9.16"
  }
 },
 "nbformat": 4,
 "nbformat_minor": 5
}
