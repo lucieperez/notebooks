{
 "cells": [
  {
   "cell_type": "code",
   "execution_count": 1,
   "id": "fa0367e8",
   "metadata": {},
   "outputs": [],
   "source": [
    "from AnnotEasy import AnnotationTool\n",
    "import datetime"
   ]
  },
  {
   "cell_type": "code",
   "execution_count": 2,
   "id": "7fbd1986",
   "metadata": {},
   "outputs": [],
   "source": [
    "# Paths to your files\n",
    "csv_file_path = 'data/biblical_datasets/deuteronomy/annotation_df_history/Deuteronomy_dataset.csv'  # Update this path\n",
    "history_file_path = 'data/biblical_datasets/deuteronomy/annotation_df_history/annotation_tracks.txt'  # Update this path\n",
    "\n",
    "# Create an instance of the AnnotationTool\n",
    "annotation_tool = AnnotationTool(csv_file_path, history_file_path)\n",
    "start_index = 0"
   ]
  },
  {
   "cell_type": "code",
   "execution_count": 3,
   "id": "6b16075a",
   "metadata": {},
   "outputs": [
    {
     "data": {
      "application/vnd.jupyter.widget-view+json": {
       "model_id": "0747193c857e43068ac5a19829cc90a2",
       "version_major": 2,
       "version_minor": 0
      },
      "text/plain": [
       "HBox(children=(IntText(value=13, description='Index:', layout=Layout(width='200px')), Button(description='Jump…"
      ]
     },
     "metadata": {},
     "output_type": "display_data"
    }
   ],
   "source": [
    "annotation_tool.display_jump_widget()"
   ]
  },
  {
   "cell_type": "code",
   "execution_count": 4,
   "id": "570e2a68",
   "metadata": {},
   "outputs": [],
   "source": [
    "# Uncomment to add a extra row after the current row displayed\n",
    "#display(annotation_tool.user_inputs, annotation_tool.add_row_button)"
   ]
  },
  {
   "cell_type": "code",
   "execution_count": 5,
   "id": "bf6308c8",
   "metadata": {
    "scrolled": false
   },
   "outputs": [
    {
     "data": {
      "text/html": [
       "<div>\n",
       "<style scoped>\n",
       "    .dataframe tbody tr th:only-of-type {\n",
       "        vertical-align: middle;\n",
       "    }\n",
       "\n",
       "    .dataframe tbody tr th {\n",
       "        vertical-align: top;\n",
       "    }\n",
       "\n",
       "    .dataframe thead th {\n",
       "        text-align: right;\n",
       "    }\n",
       "</style>\n",
       "<table border=\"1\" class=\"dataframe\">\n",
       "  <thead>\n",
       "    <tr style=\"text-align: right;\">\n",
       "      <th></th>\n",
       "      <th>verb_id</th>\n",
       "      <th>lex</th>\n",
       "      <th>scroll</th>\n",
       "      <th>book</th>\n",
       "      <th>chapter</th>\n",
       "      <th>verse_num</th>\n",
       "      <th>gcons_verb</th>\n",
       "      <th>gcons_verse</th>\n",
       "      <th>sign_info</th>\n",
       "      <th>stem</th>\n",
       "      <th>tense</th>\n",
       "    </tr>\n",
       "  </thead>\n",
       "  <tbody>\n",
       "    <tr>\n",
       "      <th>45</th>\n",
       "      <td>93470</td>\n",
       "      <td>HLK[</td>\n",
       "      <td>MT</td>\n",
       "      <td>Deuteronomy</td>\n",
       "      <td>1</td>\n",
       "      <td>33</td>\n",
       "      <td>HLK</td>\n",
       "      <td>H HLK L PNJKM B DRK L TWR LKM MQWM L XNTKM B &gt;C LJLH L R&gt;TKM B DRK &gt;CR TLKW BH W B &lt;NN JWMM</td>\n",
       "      <td></td>\n",
       "      <td>qal</td>\n",
       "      <td>ptca</td>\n",
       "    </tr>\n",
       "  </tbody>\n",
       "</table>\n",
       "</div>"
      ],
      "text/plain": [
       "    verb_id   lex scroll         book  chapter  verse_num gcons_verb  \\\n",
       "45    93470  HLK[     MT  Deuteronomy        1         33        HLK   \n",
       "\n",
       "                                                                                    gcons_verse  \\\n",
       "45  H HLK L PNJKM B DRK L TWR LKM MQWM L XNTKM B >C LJLH L R>TKM B DRK >CR TLKW BH W B <NN JWMM   \n",
       "\n",
       "   sign_info stem tense  \n",
       "45            qal  ptca  "
      ]
     },
     "metadata": {},
     "output_type": "display_data"
    },
    {
     "data": {
      "text/html": [
       "<div>\n",
       "<style scoped>\n",
       "    .dataframe tbody tr th:only-of-type {\n",
       "        vertical-align: middle;\n",
       "    }\n",
       "\n",
       "    .dataframe tbody tr th {\n",
       "        vertical-align: top;\n",
       "    }\n",
       "\n",
       "    .dataframe thead th {\n",
       "        text-align: right;\n",
       "    }\n",
       "</style>\n",
       "<table border=\"1\" class=\"dataframe\">\n",
       "  <thead>\n",
       "    <tr style=\"text-align: right;\">\n",
       "      <th></th>\n",
       "      <th>gcons_clause</th>\n",
       "      <th>subject</th>\n",
       "      <th>complement</th>\n",
       "      <th>cmpl_lex</th>\n",
       "      <th>cmpl_translation</th>\n",
       "      <th>dir_he</th>\n",
       "      <th>cmpl_constr</th>\n",
       "      <th>cmpl_nt</th>\n",
       "      <th>cmpl_anim</th>\n",
       "      <th>cmpl_det</th>\n",
       "      <th>cmpl_indiv</th>\n",
       "      <th>cmpl_complex</th>\n",
       "    </tr>\n",
       "  </thead>\n",
       "  <tbody>\n",
       "    <tr>\n",
       "      <th>45</th>\n",
       "      <td>H HLK L PNJKM B DRK B &gt;C LJLH</td>\n",
       "      <td></td>\n",
       "      <td>L PNJKM</td>\n",
       "      <td>L PNH/</td>\n",
       "      <td></td>\n",
       "      <td>0</td>\n",
       "      <td>prep</td>\n",
       "      <td></td>\n",
       "      <td></td>\n",
       "      <td>det</td>\n",
       "      <td>subs</td>\n",
       "      <td>simple</td>\n",
       "    </tr>\n",
       "  </tbody>\n",
       "</table>\n",
       "</div>"
      ],
      "text/plain": [
       "                     gcons_clause subject complement cmpl_lex  \\\n",
       "45  H HLK L PNJKM B DRK B >C LJLH            L PNJKM   L PNH/   \n",
       "\n",
       "   cmpl_translation dir_he cmpl_constr cmpl_nt cmpl_anim cmpl_det cmpl_indiv  \\\n",
       "45                       0        prep                        det       subs   \n",
       "\n",
       "   cmpl_complex  \n",
       "45       simple  "
      ]
     },
     "metadata": {},
     "output_type": "display_data"
    },
    {
     "data": {
      "text/html": [
       "<div>\n",
       "<style scoped>\n",
       "    .dataframe tbody tr th:only-of-type {\n",
       "        vertical-align: middle;\n",
       "    }\n",
       "\n",
       "    .dataframe tbody tr th {\n",
       "        vertical-align: top;\n",
       "    }\n",
       "\n",
       "    .dataframe thead th {\n",
       "        text-align: right;\n",
       "    }\n",
       "</style>\n",
       "<table border=\"1\" class=\"dataframe\">\n",
       "  <thead>\n",
       "    <tr style=\"text-align: right;\">\n",
       "      <th></th>\n",
       "      <th>motion_type</th>\n",
       "      <th>preposition_1</th>\n",
       "      <th>preposition_2</th>\n",
       "      <th>preposition_3</th>\n",
       "      <th>preposition_4</th>\n",
       "      <th>preposition_5</th>\n",
       "      <th>preposition_6</th>\n",
       "      <th>preposition_7</th>\n",
       "      <th>comments</th>\n",
       "    </tr>\n",
       "  </thead>\n",
       "  <tbody>\n",
       "    <tr>\n",
       "      <th>45</th>\n",
       "      <td></td>\n",
       "      <td>L</td>\n",
       "      <td></td>\n",
       "      <td></td>\n",
       "      <td></td>\n",
       "      <td></td>\n",
       "      <td></td>\n",
       "      <td></td>\n",
       "      <td></td>\n",
       "    </tr>\n",
       "  </tbody>\n",
       "</table>\n",
       "</div>"
      ],
      "text/plain": [
       "   motion_type preposition_1 preposition_2 preposition_3 preposition_4  \\\n",
       "45                         L                                             \n",
       "\n",
       "   preposition_5 preposition_6 preposition_7 comments  \n",
       "45                                                     "
      ]
     },
     "metadata": {},
     "output_type": "display_data"
    },
    {
     "data": {
      "application/vnd.jupyter.widget-view+json": {
       "model_id": "3e2431df82a849cd8d148e872d1adcb0",
       "version_major": 2,
       "version_minor": 0
      },
      "text/plain": [
       "HTML(value='<b>Go to column:</b>')"
      ]
     },
     "metadata": {},
     "output_type": "display_data"
    },
    {
     "data": {
      "application/vnd.jupyter.widget-view+json": {
       "model_id": "2e6d249947244bd399c3a695a9348de0",
       "version_major": 2,
       "version_minor": 0
      },
      "text/plain": [
       "HBox(children=(Button(button_style='info', description='cmpl_translation', style=ButtonStyle(), tooltip='Go to…"
      ]
     },
     "metadata": {},
     "output_type": "display_data"
    },
    {
     "data": {
      "application/vnd.jupyter.widget-view+json": {
       "model_id": "505b0d0380ed41ea8144919754b462e7",
       "version_major": 2,
       "version_minor": 0
      },
      "text/plain": [
       "HTML(value=\"<b>Annotate 'gcons_clause':</b>\")"
      ]
     },
     "metadata": {},
     "output_type": "display_data"
    },
    {
     "data": {
      "application/vnd.jupyter.widget-view+json": {
       "model_id": "5e21780c437d45b288e09ff1bd393c6c",
       "version_major": 2,
       "version_minor": 0
      },
      "text/plain": [
       "Textarea(value='H HLK L PNJKM B DRK B >C LJLH', layout=Layout(height='100px', width='100%'), placeholder='Type…"
      ]
     },
     "metadata": {},
     "output_type": "display_data"
    },
    {
     "data": {
      "application/vnd.jupyter.widget-view+json": {
       "model_id": "71c9824686c34d358a9f069540f7c6c3",
       "version_major": 2,
       "version_minor": 0
      },
      "text/plain": [
       "HBox(children=(Button(button_style='primary', description='Previous Column', icon='arrow-left', style=ButtonSt…"
      ]
     },
     "metadata": {},
     "output_type": "display_data"
    },
    {
     "data": {
      "application/vnd.jupyter.widget-view+json": {
       "model_id": "f8c65010d78648e0b1fa4795e117bdba",
       "version_major": 2,
       "version_minor": 0
      },
      "text/plain": [
       "HBox(children=(Button(button_style='warning', description='Previous Row', icon='arrow-left', style=ButtonStyle…"
      ]
     },
     "metadata": {},
     "output_type": "display_data"
    }
   ],
   "source": [
    "### Display the annotation tool\n",
    "annotation_tool.display()\n",
    "\n",
    "matching_index = annotation_tool.find_matching_row()\n",
    "if matching_index:\n",
    "    df_row = annotation_tool.df.iloc[[matching_index]]\n",
    "    display(df_row)"
   ]
  },
  {
   "cell_type": "code",
   "execution_count": 10,
   "id": "e36f6ffa",
   "metadata": {},
   "outputs": [
    {
     "data": {
      "text/html": [
       "<div>\n",
       "<style scoped>\n",
       "    .dataframe tbody tr th:only-of-type {\n",
       "        vertical-align: middle;\n",
       "    }\n",
       "\n",
       "    .dataframe tbody tr th {\n",
       "        vertical-align: top;\n",
       "    }\n",
       "\n",
       "    .dataframe thead th {\n",
       "        text-align: right;\n",
       "    }\n",
       "</style>\n",
       "<table border=\"1\" class=\"dataframe\">\n",
       "  <thead>\n",
       "    <tr style=\"text-align: right;\">\n",
       "      <th></th>\n",
       "      <th>verb_id</th>\n",
       "      <th>lex</th>\n",
       "      <th>scroll</th>\n",
       "      <th>book</th>\n",
       "      <th>chapter</th>\n",
       "      <th>verse_num</th>\n",
       "      <th>gcons_verb</th>\n",
       "      <th>gcons_verse</th>\n",
       "      <th>sign_info</th>\n",
       "      <th>stem</th>\n",
       "      <th>tense</th>\n",
       "      <th>gcons_clause</th>\n",
       "      <th>subject</th>\n",
       "      <th>complement</th>\n",
       "      <th>cmpl_lex</th>\n",
       "      <th>cmpl_translation</th>\n",
       "      <th>dir_he</th>\n",
       "      <th>cmpl_constr</th>\n",
       "      <th>cmpl_nt</th>\n",
       "      <th>cmpl_anim</th>\n",
       "      <th>cmpl_det</th>\n",
       "      <th>cmpl_indiv</th>\n",
       "      <th>cmpl_complex</th>\n",
       "      <th>motion_type</th>\n",
       "      <th>preposition_1</th>\n",
       "      <th>preposition_2</th>\n",
       "      <th>preposition_3</th>\n",
       "      <th>preposition_4</th>\n",
       "      <th>preposition_5</th>\n",
       "      <th>preposition_6</th>\n",
       "      <th>preposition_7</th>\n",
       "      <th>comments</th>\n",
       "    </tr>\n",
       "  </thead>\n",
       "  <tbody>\n",
       "    <tr>\n",
       "      <th>42</th>\n",
       "      <td>93452</td>\n",
       "      <td>BW&gt;[</td>\n",
       "      <td>MT</td>\n",
       "      <td>Deuteronomy</td>\n",
       "      <td>1</td>\n",
       "      <td>31</td>\n",
       "      <td>B&gt;KM</td>\n",
       "      <td>W B MDBR &gt;CR R&gt;JT &gt;CR NF&gt;K JHWH &gt;LHJK K &gt;CR JF&gt; &gt;JC &gt;T BNW B KL H DRK &gt;CR HLKTM &lt;D B&gt;KM &lt;D H MQWM H ZH</td>\n",
       "      <td></td>\n",
       "      <td>qal</td>\n",
       "      <td>infc</td>\n",
       "      <td>&lt;D B&gt;KM &lt;D H MQWM H ZH</td>\n",
       "      <td></td>\n",
       "      <td>&lt;D H MQWM H ZH</td>\n",
       "      <td>&lt;D H MQWM/ H ZH</td>\n",
       "      <td>to this place</td>\n",
       "      <td>0</td>\n",
       "      <td>prep</td>\n",
       "      <td>topo</td>\n",
       "      <td>inanim</td>\n",
       "      <td>det</td>\n",
       "      <td>subs</td>\n",
       "      <td>complex</td>\n",
       "      <td>factive</td>\n",
       "      <td>&lt;D</td>\n",
       "      <td></td>\n",
       "      <td></td>\n",
       "      <td></td>\n",
       "      <td></td>\n",
       "      <td></td>\n",
       "      <td></td>\n",
       "      <td></td>\n",
       "    </tr>\n",
       "  </tbody>\n",
       "</table>\n",
       "</div>"
      ],
      "text/plain": [
       "    verb_id   lex scroll         book  chapter  verse_num gcons_verb  \\\n",
       "42    93452  BW>[     MT  Deuteronomy        1         31       B>KM   \n",
       "\n",
       "                                                                                               gcons_verse  \\\n",
       "42  W B MDBR >CR R>JT >CR NF>K JHWH >LHJK K >CR JF> >JC >T BNW B KL H DRK >CR HLKTM <D B>KM <D H MQWM H ZH   \n",
       "\n",
       "   sign_info stem tense            gcons_clause subject      complement  \\\n",
       "42            qal  infc  <D B>KM <D H MQWM H ZH          <D H MQWM H ZH   \n",
       "\n",
       "           cmpl_lex cmpl_translation dir_he cmpl_constr cmpl_nt cmpl_anim  \\\n",
       "42  <D H MQWM/ H ZH    to this place      0        prep    topo    inanim   \n",
       "\n",
       "   cmpl_det cmpl_indiv cmpl_complex motion_type preposition_1 preposition_2  \\\n",
       "42      det       subs      complex     factive            <D                 \n",
       "\n",
       "   preposition_3 preposition_4 preposition_5 preposition_6 preposition_7  \\\n",
       "42                                                                         \n",
       "\n",
       "   comments  \n",
       "42           "
      ]
     },
     "metadata": {},
     "output_type": "display_data"
    }
   ],
   "source": [
    "matching_index = annotation_tool.find_matching_row()\n",
    "if matching_index:\n",
    "    df_row = annotation_tool.df.iloc[[matching_index]]\n",
    "    display(df_row)"
   ]
  },
  {
   "cell_type": "code",
   "execution_count": null,
   "id": "a2c68e5c",
   "metadata": {},
   "outputs": [],
   "source": [
    "# If no match\n",
    "current_index = annotation_tool.current_index\n",
    "df_row = annotation_tool.df.iloc[[current_index - 2]]\n",
    "display(df_row)"
   ]
  },
  {
   "cell_type": "markdown",
   "id": "57510887",
   "metadata": {},
   "source": [
    "#### Buttons legend\n",
    "\n",
    "\n",
    "<div style=\"text-align: center;\">Name types</div>\n",
    "\n",
    "\n",
    "| Button    | Description                                   |\n",
    "|-----------|:----------------------------------------------|\n",
    "| abs       | abstract nouns (freedom, judgments, etc)      |\n",
    "| adv       | adverb                                        |\n",
    "| bopa      | body part                                     |\n",
    "| dir       | direction                                     |\n",
    "| gens      | people                                        |\n",
    "| mens      | measurement unit                              |\n",
    "| na        | non applicable                                |\n",
    "| obj       | object, thing                                 |\n",
    "| occ       | occupation, work, activities, etc             |\n",
    "| other     | other                                         |\n",
    "| pers      | person                                        |\n",
    "| phen      | phenomenon (sound, light, weather, etc)       |\n",
    "| ppde      | demonstrative personal pronoun                |\n",
    "| ppin      | interrogative pronoun                         |\n",
    "| prps      | personal pronoun                              |\n",
    "| topo      | place                                         |\n",
    "\n",
    "***   \n",
    "\n",
    "<div style=\"text-align: center;\">Animacy</div>\n",
    "\n",
    "\n",
    "| Button       | Description             |\n",
    "| -------------|:------------------------|\n",
    "| anim         | animate                 |\n",
    "| inanim       | inanimate               |\n",
    "| anim inanim  | to be determined later  |\n",
    "\n",
    "***\n",
    "\n",
    "<div style=\"text-align: center;\">Individuation</div>\n",
    "\n",
    "\n",
    "| Button | Description           |\n",
    "|--------|:----------------------|\n",
    "| adv    | adverb                |\n",
    "| nmpr   | proper noun           |\n",
    "| ppin   | interrogative pronoun |\n",
    "| prsf   | pronominal suffix     |\n",
    "| subs   | substantive           |\n",
    "| ptcl   | participle            |\n",
    "\n",
    "***\n",
    "\n",
    "<div style=\"text-align: center;\">Complexity</div>\n",
    "\n",
    "\n",
    "| Button   | Description                           |\n",
    "|----------|:--------------------------------------|\n",
    "| complex  | more than one morpheme                |\n",
    "| simple   | one morpheme (excluding prepositions) |\n",
    "\n",
    "\n",
    "***\n",
    "\n",
    "<div style=\"text-align: center;\">Motion types</div>\n",
    "\n",
    "\n",
    "| Button          | Description                            |\n",
    "|-----------------|----------------------------------------|\n",
    "| factive         | factive (actual) motion                |\n",
    "| fictive         | fictive (non actual) motion            |\n",
    "| factive fictive | unsure, to be determined later on      |\n",
    "\n",
    "\n",
    "#### Factive motion checklist:\n",
    "- something or someone *physical* in the expression goes through a change of position from a point A or to a point B (or both)\n",
    "\n",
    "#### Complexity:\n",
    "- noun + definite article : simple\n",
    "- noun + personal pronoun : complex\n",
    "\n",
    "#### Definiteness:\n",
    "- det: with definite article, with pronominal suffixes, in construct chain\n",
    "- und\n",
    "- na : non applicable (ex: for interrogative particle)"
   ]
  },
  {
   "cell_type": "code",
   "execution_count": 11,
   "id": "391465cb",
   "metadata": {},
   "outputs": [
    {
     "name": "stdout",
     "output_type": "stream",
     "text": [
      "DataFrame saved as data/biblical_datasets/deuteronomy/annotation_df_history/Deuteronomy_2024-03-08_14_39.csv and data/biblical_datasets/deuteronomy/annotation_df_history/Deuteronomy_dataset.csv.\n"
     ]
    }
   ],
   "source": [
    "current_index = annotation_tool.current_index\n",
    "current_date = datetime.datetime.now().strftime(\"%Y-%m-%d_%H_%M\")\n",
    "historical_filename = f\"data/biblical_datasets/deuteronomy/annotation_df_history/Deuteronomy_{current_date}.csv\"\n",
    "current_filename = csv_file_path\n",
    "\n",
    "# To save the annotated DataFrame with the appropriate path\n",
    "annotation_tool.save_dataframe(historical_filename, current_filename)\n",
    "\n",
    "# To save the annotation session details\n",
    "annotation_tool.save_annotation_details()"
   ]
  },
  {
   "cell_type": "code",
   "execution_count": 12,
   "id": "66904d2b",
   "metadata": {},
   "outputs": [
    {
     "name": "stdout",
     "output_type": "stream",
     "text": [
      "Size of the dataset: 970.\n",
      "46 rows are now annotated.\n",
      "You have 924 rows left to anntoate.\n"
     ]
    }
   ],
   "source": [
    "len_df = len(annotation_tool.df)\n",
    "annotated = current_index - start_index + 1\n",
    "left_to_annot = len(annotation_tool.df) - current_index - 1\n",
    "\n",
    "print(f\"Size of the dataset: {len_df}.\\n{annotated} rows are now annotated.\\nYou have {left_to_annot} rows left to anntoate.\")"
   ]
  },
  {
   "cell_type": "markdown",
   "id": "01bdc73f",
   "metadata": {},
   "source": [
    "### Print some information about your dataset"
   ]
  },
  {
   "cell_type": "code",
   "execution_count": null,
   "id": "1a7c7d3c",
   "metadata": {},
   "outputs": [],
   "source": [
    "# Print the different values of the column \"comments\"\n",
    "#set(annotation_tool.df.comments)\n",
    "#set(annotation_tool.df.cmpl_translation)\n",
    "#set(annotation_tool.df.cmpl_constr)"
   ]
  },
  {
   "cell_type": "code",
   "execution_count": null,
   "id": "722ffd4e",
   "metadata": {},
   "outputs": [],
   "source": [
    "annotation_tool.df.head(80)"
   ]
  },
  {
   "cell_type": "code",
   "execution_count": null,
   "id": "ec153e2b",
   "metadata": {
    "scrolled": true
   },
   "outputs": [],
   "source": [
    "# Print some df lines\n",
    "\n",
    "#annotation_tool.df[annotation_tool.df.cmpl_lex == \"MN RXWQ/\"]\n",
    "#annotation_tool.df[annotation_tool.df.cmpl_constr == \"vc\"]\n",
    "#annotation_tool.df[annotation_tool.df.cmpl_anim == \"inanim anim\"]\n",
    "#annotation_tool.df[annotation_tool.df.gcons_clause == \"SWRW\"]\n",
    "#annotation_tool.df[annotation_tool.df.motion_type == \"factive fictive\"]\n",
    "#annotation_tool.df[(annotation_tool.df.cmpl_anim != \"inanim\") & (annotation_tool.df.cmpl_constr == \"vc\")]\n",
    "#len(annotation_tool.df)\n",
    "annotation_tool.df[annotation_tool.df.preposition_2 == \">T==\"]\n",
    "#\n",
    "#filtered_df = annotation_tool.df[(annotation_tool.df['cmpl_translation'].str.contains(r'(?i)\\btabernacle\\b', na=False))]\n",
    "#filtered_df\n",
    "\n",
    "#annotation_tool.df[(annotation_tool.df.chapter == 14) & (annotation_tool.df.verse_num == 19)]\n",
    "# 276 278 281 282 300 302 303 358 376 377 378 379 380 399 401 402 527 528 604 655 656 731 766 799 803 815 828 832 838"
   ]
  },
  {
   "cell_type": "code",
   "execution_count": null,
   "id": "8ed8e9a4",
   "metadata": {
    "scrolled": false
   },
   "outputs": [],
   "source": [
    "# see 1130 \"to the waters\", topo?\n",
    "# see index 209 animate vc?\n",
    "annotation_tool.df[(annotation_tool.df.chapter == 13) & (annotation_tool.df.verse_num == 5)]"
   ]
  },
  {
   "cell_type": "code",
   "execution_count": null,
   "id": "27be6e7b",
   "metadata": {},
   "outputs": [],
   "source": [
    "set(annotation_tool.df.dir_he)"
   ]
  },
  {
   "cell_type": "code",
   "execution_count": null,
   "id": "1d56eade",
   "metadata": {},
   "outputs": [],
   "source": [
    "set(annotation_tool.df.cmpl_constr)"
   ]
  },
  {
   "cell_type": "code",
   "execution_count": null,
   "id": "417c9708",
   "metadata": {},
   "outputs": [],
   "source": [
    "set(annotation_tool.df.cmpl_nt)"
   ]
  },
  {
   "cell_type": "code",
   "execution_count": null,
   "id": "be60c463",
   "metadata": {},
   "outputs": [],
   "source": [
    "set(annotation_tool.df.cmpl_anim)"
   ]
  },
  {
   "cell_type": "code",
   "execution_count": null,
   "id": "d2dc6e55",
   "metadata": {},
   "outputs": [],
   "source": [
    "set(annotation_tool.df.cmpl_det)"
   ]
  },
  {
   "cell_type": "code",
   "execution_count": null,
   "id": "b33b4c99",
   "metadata": {},
   "outputs": [],
   "source": [
    "set(annotation_tool.df.cmpl_indiv)"
   ]
  },
  {
   "cell_type": "code",
   "execution_count": null,
   "id": "76bd8b81",
   "metadata": {},
   "outputs": [],
   "source": [
    "set(annotation_tool.df.cmpl_complex)"
   ]
  },
  {
   "cell_type": "code",
   "execution_count": null,
   "id": "c79d2728",
   "metadata": {},
   "outputs": [],
   "source": []
  }
 ],
 "metadata": {
  "kernelspec": {
   "display_name": "Python 3 (ipykernel)",
   "language": "python",
   "name": "python3"
  },
  "language_info": {
   "codemirror_mode": {
    "name": "ipython",
    "version": 3
   },
   "file_extension": ".py",
   "mimetype": "text/x-python",
   "name": "python",
   "nbconvert_exporter": "python",
   "pygments_lexer": "ipython3",
   "version": "3.9.16"
  }
 },
 "nbformat": 4,
 "nbformat_minor": 5
}
