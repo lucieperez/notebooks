{
 "cells": [
  {
   "cell_type": "code",
   "execution_count": 1,
   "id": "fa0367e8",
   "metadata": {},
   "outputs": [],
   "source": [
    "from AnnotEasy import AnnotationTool"
   ]
  },
  {
   "cell_type": "code",
   "execution_count": 16,
   "id": "7fbd1986",
   "metadata": {},
   "outputs": [],
   "source": [
    "# Paths to your files\n",
    "csv_file_path = 'data/annotation_df_history/isaiah_dataset.csv'  # Update this path\n",
    "history_file_path = 'data/annotation_df_history/annotation_tracks.txt'  # Update this path\n",
    "\n",
    "# Create an instance of the AnnotationTool\n",
    "annotation_tool = AnnotationTool(csv_file_path, history_file_path)"
   ]
  },
  {
   "cell_type": "code",
   "execution_count": 47,
   "id": "bf6308c8",
   "metadata": {
    "scrolled": false
   },
   "outputs": [
    {
     "data": {
      "text/html": [
       "<div>\n",
       "<style scoped>\n",
       "    .dataframe tbody tr th:only-of-type {\n",
       "        vertical-align: middle;\n",
       "    }\n",
       "\n",
       "    .dataframe tbody tr th {\n",
       "        vertical-align: top;\n",
       "    }\n",
       "\n",
       "    .dataframe thead th {\n",
       "        text-align: right;\n",
       "    }\n",
       "</style>\n",
       "<table border=\"1\" class=\"dataframe\">\n",
       "  <thead>\n",
       "    <tr style=\"text-align: right;\">\n",
       "      <th></th>\n",
       "      <th>verb_id</th>\n",
       "      <th>lex</th>\n",
       "      <th>scroll</th>\n",
       "      <th>book</th>\n",
       "      <th>chapter</th>\n",
       "      <th>verse_num</th>\n",
       "      <th>gcons_verb</th>\n",
       "      <th>gcons_verse</th>\n",
       "      <th>sign_info</th>\n",
       "      <th>stem</th>\n",
       "      <th>tense</th>\n",
       "    </tr>\n",
       "  </thead>\n",
       "  <tbody>\n",
       "    <tr>\n",
       "      <th>1219</th>\n",
       "      <td>232079</td>\n",
       "      <td>HLK[</td>\n",
       "      <td>MT</td>\n",
       "      <td>Isaiah</td>\n",
       "      <td>58</td>\n",
       "      <td>8</td>\n",
       "      <td>HLK</td>\n",
       "      <td>&gt;Z JBQ&lt; K CXR &gt;WRK W &gt;RKTK MHRH TYMX W HLK L PNJK YDQK KBWD JHWH J&gt;SPK</td>\n",
       "      <td></td>\n",
       "      <td>qal</td>\n",
       "      <td>perf</td>\n",
       "    </tr>\n",
       "  </tbody>\n",
       "</table>\n",
       "</div>"
      ],
      "text/plain": [
       "      verb_id   lex scroll    book  chapter  verse_num gcons_verb  \\\n",
       "1219   232079  HLK[     MT  Isaiah       58          8        HLK   \n",
       "\n",
       "                                                                 gcons_verse  \\\n",
       "1219  >Z JBQ< K CXR >WRK W >RKTK MHRH TYMX W HLK L PNJK YDQK KBWD JHWH J>SPK   \n",
       "\n",
       "     sign_info stem tense  \n",
       "1219            qal  perf  "
      ]
     },
     "metadata": {},
     "output_type": "display_data"
    },
    {
     "data": {
      "text/html": [
       "<div>\n",
       "<style scoped>\n",
       "    .dataframe tbody tr th:only-of-type {\n",
       "        vertical-align: middle;\n",
       "    }\n",
       "\n",
       "    .dataframe tbody tr th {\n",
       "        vertical-align: top;\n",
       "    }\n",
       "\n",
       "    .dataframe thead th {\n",
       "        text-align: right;\n",
       "    }\n",
       "</style>\n",
       "<table border=\"1\" class=\"dataframe\">\n",
       "  <thead>\n",
       "    <tr style=\"text-align: right;\">\n",
       "      <th></th>\n",
       "      <th>gcons_clause</th>\n",
       "      <th>subject</th>\n",
       "      <th>complement</th>\n",
       "      <th>cmpl_lex</th>\n",
       "      <th>cmpl_translation</th>\n",
       "      <th>dir_he</th>\n",
       "      <th>cmpl_constr</th>\n",
       "      <th>cmpl_nt</th>\n",
       "      <th>cmpl_anim</th>\n",
       "      <th>cmpl_det</th>\n",
       "      <th>cmpl_indiv</th>\n",
       "      <th>cmpl_complex</th>\n",
       "    </tr>\n",
       "  </thead>\n",
       "  <tbody>\n",
       "    <tr>\n",
       "      <th>1219</th>\n",
       "      <td>W HLK L PNJK YDQK</td>\n",
       "      <td>YDQK</td>\n",
       "      <td>L PNJK</td>\n",
       "      <td>L PNH/</td>\n",
       "      <td></td>\n",
       "      <td>0</td>\n",
       "      <td>prep</td>\n",
       "      <td></td>\n",
       "      <td></td>\n",
       "      <td>det</td>\n",
       "      <td>subs</td>\n",
       "      <td></td>\n",
       "    </tr>\n",
       "  </tbody>\n",
       "</table>\n",
       "</div>"
      ],
      "text/plain": [
       "           gcons_clause subject complement cmpl_lex cmpl_translation dir_he  \\\n",
       "1219  W HLK L PNJK YDQK    YDQK     L PNJK   L PNH/                       0   \n",
       "\n",
       "     cmpl_constr cmpl_nt cmpl_anim cmpl_det cmpl_indiv cmpl_complex  \n",
       "1219        prep                        det       subs               "
      ]
     },
     "metadata": {},
     "output_type": "display_data"
    },
    {
     "data": {
      "text/html": [
       "<div>\n",
       "<style scoped>\n",
       "    .dataframe tbody tr th:only-of-type {\n",
       "        vertical-align: middle;\n",
       "    }\n",
       "\n",
       "    .dataframe tbody tr th {\n",
       "        vertical-align: top;\n",
       "    }\n",
       "\n",
       "    .dataframe thead th {\n",
       "        text-align: right;\n",
       "    }\n",
       "</style>\n",
       "<table border=\"1\" class=\"dataframe\">\n",
       "  <thead>\n",
       "    <tr style=\"text-align: right;\">\n",
       "      <th></th>\n",
       "      <th>motion_type</th>\n",
       "      <th>preposition_1</th>\n",
       "      <th>preposition_2</th>\n",
       "      <th>preposition_3</th>\n",
       "      <th>preposition_4</th>\n",
       "      <th>comments</th>\n",
       "    </tr>\n",
       "  </thead>\n",
       "  <tbody>\n",
       "    <tr>\n",
       "      <th>1219</th>\n",
       "      <td></td>\n",
       "      <td>L</td>\n",
       "      <td></td>\n",
       "      <td></td>\n",
       "      <td></td>\n",
       "      <td></td>\n",
       "    </tr>\n",
       "  </tbody>\n",
       "</table>\n",
       "</div>"
      ],
      "text/plain": [
       "     motion_type preposition_1 preposition_2 preposition_3 preposition_4  \\\n",
       "1219                         L                                             \n",
       "\n",
       "     comments  \n",
       "1219           "
      ]
     },
     "metadata": {},
     "output_type": "display_data"
    },
    {
     "data": {
      "application/vnd.jupyter.widget-view+json": {
       "model_id": "c6b56f3510454e32b2c1a1be03952c3c",
       "version_major": 2,
       "version_minor": 0
      },
      "text/plain": [
       "HTML(value=\"<b>Annotate 'gcons_clause':</b>\")"
      ]
     },
     "metadata": {},
     "output_type": "display_data"
    },
    {
     "data": {
      "application/vnd.jupyter.widget-view+json": {
       "model_id": "7b8fe3568be5442a94855fe0bfe08fbb",
       "version_major": 2,
       "version_minor": 0
      },
      "text/plain": [
       "Textarea(value='W HLK L PNJK YDQK', layout=Layout(height='100px', width='100%'), placeholder='Type your annota…"
      ]
     },
     "metadata": {},
     "output_type": "display_data"
    },
    {
     "data": {
      "application/vnd.jupyter.widget-view+json": {
       "model_id": "3cf3914729a54c6189b912f2a3fb1f42",
       "version_major": 2,
       "version_minor": 0
      },
      "text/plain": [
       "HBox(children=(Button(button_style='primary', description='Previous Column', icon='arrow-left', style=ButtonSt…"
      ]
     },
     "metadata": {},
     "output_type": "display_data"
    },
    {
     "data": {
      "application/vnd.jupyter.widget-view+json": {
       "model_id": "be3341203f46439d82a7af731abfa429",
       "version_major": 2,
       "version_minor": 0
      },
      "text/plain": [
       "HBox(children=(Button(button_style='warning', description='Previous Row', icon='arrow-left', style=ButtonStyle…"
      ]
     },
     "metadata": {},
     "output_type": "display_data"
    }
   ],
   "source": [
    "### Display the annotation tool\n",
    "start_index = 1130\n",
    "annotation_tool.display()"
   ]
  },
  {
   "cell_type": "code",
   "execution_count": 87,
   "id": "3b7ad9ab",
   "metadata": {},
   "outputs": [],
   "source": [
    "current_index = annotation_tool.current_index"
   ]
  },
  {
   "cell_type": "code",
   "execution_count": 85,
   "id": "e36f6ffa",
   "metadata": {},
   "outputs": [],
   "source": [
    "matching_index = annotation_tool.find_matching_row()\n",
    "if matching_index:\n",
    "    df_row = annotation_tool.df.iloc[[matching_index]]\n",
    "    display(df_row)"
   ]
  },
  {
   "cell_type": "code",
   "execution_count": 86,
   "id": "a2c68e5c",
   "metadata": {},
   "outputs": [
    {
     "data": {
      "text/html": [
       "<div>\n",
       "<style scoped>\n",
       "    .dataframe tbody tr th:only-of-type {\n",
       "        vertical-align: middle;\n",
       "    }\n",
       "\n",
       "    .dataframe tbody tr th {\n",
       "        vertical-align: top;\n",
       "    }\n",
       "\n",
       "    .dataframe thead th {\n",
       "        text-align: right;\n",
       "    }\n",
       "</style>\n",
       "<table border=\"1\" class=\"dataframe\">\n",
       "  <thead>\n",
       "    <tr style=\"text-align: right;\">\n",
       "      <th></th>\n",
       "      <th>verb_id</th>\n",
       "      <th>lex</th>\n",
       "      <th>scroll</th>\n",
       "      <th>book</th>\n",
       "      <th>chapter</th>\n",
       "      <th>verse_num</th>\n",
       "      <th>gcons_verb</th>\n",
       "      <th>gcons_verse</th>\n",
       "      <th>sign_info</th>\n",
       "      <th>stem</th>\n",
       "      <th>tense</th>\n",
       "      <th>gcons_clause</th>\n",
       "      <th>subject</th>\n",
       "      <th>complement</th>\n",
       "      <th>cmpl_lex</th>\n",
       "      <th>cmpl_translation</th>\n",
       "      <th>dir_he</th>\n",
       "      <th>cmpl_constr</th>\n",
       "      <th>cmpl_nt</th>\n",
       "      <th>cmpl_anim</th>\n",
       "      <th>cmpl_det</th>\n",
       "      <th>cmpl_indiv</th>\n",
       "      <th>cmpl_complex</th>\n",
       "      <th>motion_type</th>\n",
       "      <th>preposition_1</th>\n",
       "      <th>preposition_2</th>\n",
       "      <th>preposition_3</th>\n",
       "      <th>preposition_4</th>\n",
       "      <th>comments</th>\n",
       "    </tr>\n",
       "  </thead>\n",
       "  <tbody>\n",
       "    <tr>\n",
       "      <th>1215</th>\n",
       "      <td>232056</td>\n",
       "      <td>BW&gt;[</td>\n",
       "      <td>MT</td>\n",
       "      <td>Isaiah</td>\n",
       "      <td>58</td>\n",
       "      <td>7</td>\n",
       "      <td>TBJ&gt;</td>\n",
       "      <td>H LW&gt; PRS L R&lt;B LXMK W &lt;NJJM MRWDJM TBJ&gt; BJT KJ TR&gt;H &lt;RM W KSJTW W M BFRK L&gt; TT&lt;LM</td>\n",
       "      <td></td>\n",
       "      <td>hif</td>\n",
       "      <td>impf</td>\n",
       "      <td>W &lt;NJJM MRWDJM TBJ&gt; BJT</td>\n",
       "      <td></td>\n",
       "      <td>BJT</td>\n",
       "      <td>BJT/</td>\n",
       "      <td>to the house</td>\n",
       "      <td>0</td>\n",
       "      <td>vc</td>\n",
       "      <td>topo</td>\n",
       "      <td>inanim</td>\n",
       "      <td>und</td>\n",
       "      <td>subs</td>\n",
       "      <td>simple</td>\n",
       "      <td>factive</td>\n",
       "      <td></td>\n",
       "      <td></td>\n",
       "      <td></td>\n",
       "      <td></td>\n",
       "      <td></td>\n",
       "    </tr>\n",
       "  </tbody>\n",
       "</table>\n",
       "</div>"
      ],
      "text/plain": [
       "      verb_id   lex scroll    book  chapter  verse_num gcons_verb  \\\n",
       "1215   232056  BW>[     MT  Isaiah       58          7       TBJ>   \n",
       "\n",
       "                                                                             gcons_verse  \\\n",
       "1215  H LW> PRS L R<B LXMK W <NJJM MRWDJM TBJ> BJT KJ TR>H <RM W KSJTW W M BFRK L> TT<LM   \n",
       "\n",
       "     sign_info stem tense             gcons_clause subject complement  \\\n",
       "1215            hif  impf  W <NJJM MRWDJM TBJ> BJT                BJT   \n",
       "\n",
       "     cmpl_lex cmpl_translation dir_he cmpl_constr cmpl_nt cmpl_anim cmpl_det  \\\n",
       "1215     BJT/     to the house      0          vc    topo    inanim      und   \n",
       "\n",
       "     cmpl_indiv cmpl_complex motion_type preposition_1 preposition_2  \\\n",
       "1215       subs       simple     factive                               \n",
       "\n",
       "     preposition_3 preposition_4 comments  \n",
       "1215                                       "
      ]
     },
     "metadata": {},
     "output_type": "display_data"
    }
   ],
   "source": [
    "# If no match\n",
    "df_row = annotation_tool.df.iloc[[current_index - 1]]\n",
    "display(df_row)"
   ]
  },
  {
   "cell_type": "markdown",
   "id": "57510887",
   "metadata": {},
   "source": [
    "#### Buttons legend\n",
    "\n",
    "\n",
    "<div style=\"text-align: center;\">Name types</div>\n",
    "\n",
    "\n",
    "| Button    | Description                                   |\n",
    "|-----------|:----------------------------------------------|\n",
    "| abs       | abstract nouns (freedom, judgments, etc)      |\n",
    "| adv       | adverb                                        |\n",
    "| bopa      | body part                                     |\n",
    "| dir       | direction                                     |\n",
    "| gens      | people                                        |\n",
    "| mens      | measurement unit                              |\n",
    "| na        | non applicable                                |\n",
    "| obj       | object, thing                                 |\n",
    "| occ       | occupation, work, activities, etc             |\n",
    "| other     | other                                         |\n",
    "| pers      | person                                        |\n",
    "| phen      | phenomenon (sound, light, weather, etc)       |\n",
    "| ppde      | demonstrative personal pronoun                |\n",
    "| ppin      | interrogative pronoun                         |\n",
    "| prps      | personal pronoun                              |\n",
    "| topo      | place                                         |\n",
    "\n",
    "***   \n",
    "\n",
    "<div style=\"text-align: center;\">Animacy</div>\n",
    "\n",
    "\n",
    "| Button       | Description             |\n",
    "| -------------|:------------------------|\n",
    "| anim         | animate                 |\n",
    "| inanim       | inanimate               |\n",
    "| anim inanim  | to be determined later  |\n",
    "\n",
    "***\n",
    "\n",
    "<div style=\"text-align: center;\">Individuation</div>\n",
    "\n",
    "\n",
    "| Button | Description           |\n",
    "|--------|:----------------------|\n",
    "| adv    | adverb                |\n",
    "| nmpr   | proper noun           |\n",
    "| ppin   | interrogative pronoun |\n",
    "| prsf   | pronominal suffix     |\n",
    "| subs   | substantive           |\n",
    "\n",
    "***\n",
    "\n",
    "<div style=\"text-align: center;\">Complexity</div>\n",
    "\n",
    "\n",
    "| Button   | Description                           |\n",
    "|----------|:--------------------------------------|\n",
    "| complex  | more than one morpheme                |\n",
    "| simple   | one morpheme (excluding prepositions) |\n",
    "\n",
    "\n",
    "***\n",
    "\n",
    "<div style=\"text-align: center;\">Motion types</div>\n",
    "\n",
    "\n",
    "| Button          | Description                            |\n",
    "|-----------------|----------------------------------------|\n",
    "| factive         | factive (actual) motion                |\n",
    "| fictive         | fictive (non actual) motion            |\n",
    "| factive fictive | unsure, to be determined later on      |\n",
    "\n",
    "\n",
    "#### Factive motion checklist:\n",
    "- something or someone *physical* in the expression goes through a change of position from a point A or to a point B (or both)\n",
    "\n",
    "#### Complexity:\n",
    "- noun + definite article : simple\n",
    "- noun + personal pronoun : complex\n",
    "\n",
    "#### Definiteness:\n",
    "- det\n",
    "- und\n",
    "- na : non applicable (ex: for interrogative particle)"
   ]
  },
  {
   "cell_type": "code",
   "execution_count": 91,
   "id": "27fdfd24",
   "metadata": {},
   "outputs": [
    {
     "name": "stdout",
     "output_type": "stream",
     "text": [
      "DataFrame saved as data/annotation_df_history/isaiah_dataset_2024-01-30_10_41.csv and data/annotation_df_history/isaiah_dataset.csv.\n"
     ]
    }
   ],
   "source": [
    "# To save the annotated DataFrame\n",
    "annotation_tool.save_dataframe()\n",
    "\n",
    "# To save the annotation session details\n",
    "annotation_tool.save_annotation_details()"
   ]
  },
  {
   "cell_type": "code",
   "execution_count": 92,
   "id": "66904d2b",
   "metadata": {},
   "outputs": [
    {
     "data": {
      "text/plain": [
       "89"
      ]
     },
     "execution_count": 92,
     "metadata": {},
     "output_type": "execute_result"
    }
   ],
   "source": [
    "current_index - start_index"
   ]
  },
  {
   "cell_type": "code",
   "execution_count": 93,
   "id": "79dd24d9",
   "metadata": {},
   "outputs": [
    {
     "data": {
      "text/plain": [
       "185"
      ]
     },
     "execution_count": 93,
     "metadata": {},
     "output_type": "execute_result"
    }
   ],
   "source": [
    "len(annotation_tool.df) - current_index"
   ]
  },
  {
   "cell_type": "markdown",
   "id": "01bdc73f",
   "metadata": {},
   "source": [
    "#### Print some information about your dataset"
   ]
  },
  {
   "cell_type": "code",
   "execution_count": 46,
   "id": "1a7c7d3c",
   "metadata": {},
   "outputs": [],
   "source": [
    "# Print the different values of the column \"comments\"\n",
    "#set(annotation_tool.df.comments)\n",
    "#set(annotation_tool.df.cmpl_translation)\n",
    "#set(annotation_tool.df.cmpl_constr)"
   ]
  },
  {
   "cell_type": "code",
   "execution_count": 63,
   "id": "ec153e2b",
   "metadata": {},
   "outputs": [
    {
     "data": {
      "text/html": [
       "<div>\n",
       "<style scoped>\n",
       "    .dataframe tbody tr th:only-of-type {\n",
       "        vertical-align: middle;\n",
       "    }\n",
       "\n",
       "    .dataframe tbody tr th {\n",
       "        vertical-align: top;\n",
       "    }\n",
       "\n",
       "    .dataframe thead th {\n",
       "        text-align: right;\n",
       "    }\n",
       "</style>\n",
       "<table border=\"1\" class=\"dataframe\">\n",
       "  <thead>\n",
       "    <tr style=\"text-align: right;\">\n",
       "      <th></th>\n",
       "      <th>verb_id</th>\n",
       "      <th>lex</th>\n",
       "      <th>scroll</th>\n",
       "      <th>book</th>\n",
       "      <th>chapter</th>\n",
       "      <th>verse_num</th>\n",
       "      <th>gcons_verb</th>\n",
       "      <th>gcons_verse</th>\n",
       "      <th>sign_info</th>\n",
       "      <th>stem</th>\n",
       "      <th>tense</th>\n",
       "      <th>gcons_clause</th>\n",
       "      <th>subject</th>\n",
       "      <th>complement</th>\n",
       "      <th>cmpl_lex</th>\n",
       "      <th>cmpl_translation</th>\n",
       "      <th>dir_he</th>\n",
       "      <th>cmpl_constr</th>\n",
       "      <th>cmpl_nt</th>\n",
       "      <th>cmpl_anim</th>\n",
       "      <th>cmpl_det</th>\n",
       "      <th>cmpl_indiv</th>\n",
       "      <th>cmpl_complex</th>\n",
       "      <th>motion_type</th>\n",
       "      <th>preposition_1</th>\n",
       "      <th>preposition_2</th>\n",
       "      <th>preposition_3</th>\n",
       "      <th>preposition_4</th>\n",
       "      <th>comments</th>\n",
       "    </tr>\n",
       "  </thead>\n",
       "  <tbody>\n",
       "    <tr>\n",
       "      <th>1194</th>\n",
       "      <td>231589</td>\n",
       "      <td>QRB[</td>\n",
       "      <td>MT</td>\n",
       "      <td>Isaiah</td>\n",
       "      <td>57</td>\n",
       "      <td>3</td>\n",
       "      <td>QRBW</td>\n",
       "      <td>W &gt;TM QRBW HNH BNJ &lt;NNH ZR&lt; MN&gt;P W TZNH</td>\n",
       "      <td></td>\n",
       "      <td>qal</td>\n",
       "      <td>impv</td>\n",
       "      <td>W &gt;TM QRBW HNH</td>\n",
       "      <td>&gt;TM</td>\n",
       "      <td>HNH</td>\n",
       "      <td>HNH==</td>\n",
       "      <td></td>\n",
       "      <td>0</td>\n",
       "      <td>vc</td>\n",
       "      <td></td>\n",
       "      <td></td>\n",
       "      <td></td>\n",
       "      <td></td>\n",
       "      <td></td>\n",
       "      <td></td>\n",
       "      <td></td>\n",
       "      <td></td>\n",
       "      <td></td>\n",
       "      <td></td>\n",
       "      <td></td>\n",
       "    </tr>\n",
       "    <tr>\n",
       "      <th>1195</th>\n",
       "      <td>1915389</td>\n",
       "      <td>QRB[</td>\n",
       "      <td>1Qisaa</td>\n",
       "      <td>Isaiah</td>\n",
       "      <td>57</td>\n",
       "      <td>3</td>\n",
       "      <td>QRWBW</td>\n",
       "      <td>W &gt;TMH QRWBW HNH BNJ &lt;NNH ZR&lt; MN&gt;P W TZNW</td>\n",
       "      <td>0 0000 00000 000 000 0000 000 0000 0 0000 00</td>\n",
       "      <td>qal</td>\n",
       "      <td>impv</td>\n",
       "      <td>W &gt;TMH QRWBW HNH</td>\n",
       "      <td>&gt;TMH</td>\n",
       "      <td>HNH</td>\n",
       "      <td>HNH==</td>\n",
       "      <td></td>\n",
       "      <td>0</td>\n",
       "      <td>vc</td>\n",
       "      <td></td>\n",
       "      <td></td>\n",
       "      <td></td>\n",
       "      <td></td>\n",
       "      <td></td>\n",
       "      <td></td>\n",
       "      <td></td>\n",
       "      <td></td>\n",
       "      <td></td>\n",
       "      <td></td>\n",
       "      <td></td>\n",
       "    </tr>\n",
       "    <tr>\n",
       "      <th>1196</th>\n",
       "      <td>1925238</td>\n",
       "      <td>QRB[</td>\n",
       "      <td>1Q8</td>\n",
       "      <td>Isaiah</td>\n",
       "      <td>57</td>\n",
       "      <td>3</td>\n",
       "      <td>QRBW</td>\n",
       "      <td>W &gt;TM QRBW HNH BNJ &lt;NNH ZR&lt; MN&gt;P W TZNH</td>\n",
       "      <td>0 000 0000 000 000 0000 000 0000 0 0000 00</td>\n",
       "      <td>qal</td>\n",
       "      <td>impv</td>\n",
       "      <td>W &gt;TMH QRWBW HNH</td>\n",
       "      <td>&gt;TMH</td>\n",
       "      <td>HNH</td>\n",
       "      <td>HNH==</td>\n",
       "      <td></td>\n",
       "      <td>0</td>\n",
       "      <td>vc</td>\n",
       "      <td></td>\n",
       "      <td></td>\n",
       "      <td></td>\n",
       "      <td></td>\n",
       "      <td></td>\n",
       "      <td></td>\n",
       "      <td></td>\n",
       "      <td></td>\n",
       "      <td></td>\n",
       "      <td></td>\n",
       "      <td></td>\n",
       "    </tr>\n",
       "  </tbody>\n",
       "</table>\n",
       "</div>"
      ],
      "text/plain": [
       "      verb_id   lex  scroll    book  chapter  verse_num gcons_verb  \\\n",
       "1194   231589  QRB[      MT  Isaiah       57          3       QRBW   \n",
       "1195  1915389  QRB[  1Qisaa  Isaiah       57          3      QRWBW   \n",
       "1196  1925238  QRB[     1Q8  Isaiah       57          3       QRBW   \n",
       "\n",
       "                                    gcons_verse  \\\n",
       "1194    W >TM QRBW HNH BNJ <NNH ZR< MN>P W TZNH   \n",
       "1195  W >TMH QRWBW HNH BNJ <NNH ZR< MN>P W TZNW   \n",
       "1196    W >TM QRBW HNH BNJ <NNH ZR< MN>P W TZNH   \n",
       "\n",
       "                                         sign_info stem tense  \\\n",
       "1194                                                qal  impv   \n",
       "1195  0 0000 00000 000 000 0000 000 0000 0 0000 00  qal  impv   \n",
       "1196    0 000 0000 000 000 0000 000 0000 0 0000 00  qal  impv   \n",
       "\n",
       "          gcons_clause subject complement cmpl_lex cmpl_translation dir_he  \\\n",
       "1194    W >TM QRBW HNH     >TM        HNH    HNH==                       0   \n",
       "1195  W >TMH QRWBW HNH    >TMH        HNH    HNH==                       0   \n",
       "1196  W >TMH QRWBW HNH    >TMH        HNH    HNH==                       0   \n",
       "\n",
       "     cmpl_constr cmpl_nt cmpl_anim cmpl_det cmpl_indiv cmpl_complex  \\\n",
       "1194          vc                                                      \n",
       "1195          vc                                                      \n",
       "1196          vc                                                      \n",
       "\n",
       "     motion_type preposition_1 preposition_2 preposition_3 preposition_4  \\\n",
       "1194                                                                       \n",
       "1195                                                                       \n",
       "1196                                                                       \n",
       "\n",
       "     comments  \n",
       "1194           \n",
       "1195           \n",
       "1196           "
      ]
     },
     "execution_count": 63,
     "metadata": {},
     "output_type": "execute_result"
    }
   ],
   "source": [
    "# Print some df lines\n",
    "\n",
    "annotation_tool.df[annotation_tool.df.cmpl_lex == \"HNH==\"]\n",
    "#annotation_tool.df[annotation_tool.df.cmpl_constr == \"dir-he\"]\n",
    "#annotation_tool.df[annotation_tool.df.gcons_clause == \"SWRW\"]\n",
    "#annotation_tool.df[annotation_tool.df.motion_type == \"factive fictive\"]"
   ]
  },
  {
   "cell_type": "code",
   "execution_count": null,
   "id": "be60c463",
   "metadata": {},
   "outputs": [],
   "source": []
  }
 ],
 "metadata": {
  "kernelspec": {
   "display_name": "Python 3 (ipykernel)",
   "language": "python",
   "name": "python3"
  },
  "language_info": {
   "codemirror_mode": {
    "name": "ipython",
    "version": 3
   },
   "file_extension": ".py",
   "mimetype": "text/x-python",
   "name": "python",
   "nbconvert_exporter": "python",
   "pygments_lexer": "ipython3",
   "version": "3.9.16"
  }
 },
 "nbformat": 4,
 "nbformat_minor": 5
}
