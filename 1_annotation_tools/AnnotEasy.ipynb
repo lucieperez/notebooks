{
 "cells": [
  {
   "cell_type": "code",
   "execution_count": 1,
   "id": "fa0367e8",
   "metadata": {},
   "outputs": [],
   "source": [
    "from AnnotEasy import AnnotationTool\n",
    "import datetime"
   ]
  },
  {
   "cell_type": "code",
   "execution_count": 2,
   "id": "7fbd1986",
   "metadata": {},
   "outputs": [],
   "source": [
    "# Paths to your files\n",
    "csv_file_path = 'data/biblical_datasets/exodus/annotation_df_history/Exodus_dataset.csv'  # Update this path\n",
    "history_file_path = 'data/biblical_datasets/exodus/annotation_df_history/annotation_tracks.txt'  # Update this path\n",
    "\n",
    "# Create an instance of the AnnotationTool\n",
    "annotation_tool = AnnotationTool(csv_file_path, history_file_path)\n",
    "start_index = 0"
   ]
  },
  {
   "cell_type": "code",
   "execution_count": 49,
   "id": "6b16075a",
   "metadata": {},
   "outputs": [
    {
     "data": {
      "application/vnd.jupyter.widget-view+json": {
       "model_id": "dd3752ac88b3495fb581b581275bafdc",
       "version_major": 2,
       "version_minor": 0
      },
      "text/plain": [
       "HBox(children=(IntText(value=838, description='Index:', layout=Layout(width='200px')), Button(description='Jum…"
      ]
     },
     "metadata": {},
     "output_type": "display_data"
    },
    {
     "name": "stdout",
     "output_type": "stream",
     "text": [
      "Set to row 632. Now, call the display method to view this row.\n",
      "Set to row 856. Now, call the display method to view this row.\n"
     ]
    }
   ],
   "source": [
    "annotation_tool.display_jump_widget()\n",
    "#766 799 803 815 828 832 838"
   ]
  },
  {
   "cell_type": "code",
   "execution_count": 4,
   "id": "570e2a68",
   "metadata": {},
   "outputs": [],
   "source": [
    "# Uncomment to add a extra row after the current row displayed\n",
    "#display(annotation_tool.user_inputs, annotation_tool.add_row_button)"
   ]
  },
  {
   "cell_type": "code",
   "execution_count": 56,
   "id": "bf6308c8",
   "metadata": {
    "scrolled": false
   },
   "outputs": [
    {
     "data": {
      "text/html": [
       "<div>\n",
       "<style scoped>\n",
       "    .dataframe tbody tr th:only-of-type {\n",
       "        vertical-align: middle;\n",
       "    }\n",
       "\n",
       "    .dataframe tbody tr th {\n",
       "        vertical-align: top;\n",
       "    }\n",
       "\n",
       "    .dataframe thead th {\n",
       "        text-align: right;\n",
       "    }\n",
       "</style>\n",
       "<table border=\"1\" class=\"dataframe\">\n",
       "  <thead>\n",
       "    <tr style=\"text-align: right;\">\n",
       "      <th></th>\n",
       "      <th>verb_id</th>\n",
       "      <th>lex</th>\n",
       "      <th>scroll</th>\n",
       "      <th>book</th>\n",
       "      <th>chapter</th>\n",
       "      <th>verse_num</th>\n",
       "      <th>gcons_verb</th>\n",
       "      <th>gcons_verse</th>\n",
       "      <th>sign_info</th>\n",
       "      <th>stem</th>\n",
       "      <th>tense</th>\n",
       "    </tr>\n",
       "  </thead>\n",
       "  <tbody>\n",
       "    <tr>\n",
       "      <th>917</th>\n",
       "      <td>52285</td>\n",
       "      <td>&lt;LH[</td>\n",
       "      <td>MT</td>\n",
       "      <td>Exodus</td>\n",
       "      <td>40</td>\n",
       "      <td>25</td>\n",
       "      <td>J&lt;L</td>\n",
       "      <td>W J&lt;L H NRT L PNJ JHWH K &gt;CR YWH JHWH &gt;T MCH</td>\n",
       "      <td></td>\n",
       "      <td>hif</td>\n",
       "      <td>wayq</td>\n",
       "    </tr>\n",
       "  </tbody>\n",
       "</table>\n",
       "</div>"
      ],
      "text/plain": [
       "     verb_id   lex scroll    book  chapter  verse_num gcons_verb  \\\n",
       "917    52285  <LH[     MT  Exodus       40         25        J<L   \n",
       "\n",
       "                                      gcons_verse sign_info stem tense  \n",
       "917  W J<L H NRT L PNJ JHWH K >CR YWH JHWH >T MCH            hif  wayq  "
      ]
     },
     "metadata": {},
     "output_type": "display_data"
    },
    {
     "data": {
      "text/html": [
       "<div>\n",
       "<style scoped>\n",
       "    .dataframe tbody tr th:only-of-type {\n",
       "        vertical-align: middle;\n",
       "    }\n",
       "\n",
       "    .dataframe tbody tr th {\n",
       "        vertical-align: top;\n",
       "    }\n",
       "\n",
       "    .dataframe thead th {\n",
       "        text-align: right;\n",
       "    }\n",
       "</style>\n",
       "<table border=\"1\" class=\"dataframe\">\n",
       "  <thead>\n",
       "    <tr style=\"text-align: right;\">\n",
       "      <th></th>\n",
       "      <th>gcons_clause</th>\n",
       "      <th>subject</th>\n",
       "      <th>complement</th>\n",
       "      <th>cmpl_lex</th>\n",
       "      <th>cmpl_translation</th>\n",
       "      <th>dir_he</th>\n",
       "      <th>cmpl_constr</th>\n",
       "      <th>cmpl_nt</th>\n",
       "      <th>cmpl_anim</th>\n",
       "      <th>cmpl_det</th>\n",
       "      <th>cmpl_indiv</th>\n",
       "      <th>cmpl_complex</th>\n",
       "    </tr>\n",
       "  </thead>\n",
       "  <tbody>\n",
       "    <tr>\n",
       "      <th>917</th>\n",
       "      <td>W J&lt;L H NRT L PNJ JHWH</td>\n",
       "      <td></td>\n",
       "      <td>no complement</td>\n",
       "      <td>no complement</td>\n",
       "      <td></td>\n",
       "      <td></td>\n",
       "      <td></td>\n",
       "      <td></td>\n",
       "      <td></td>\n",
       "      <td></td>\n",
       "      <td></td>\n",
       "      <td></td>\n",
       "    </tr>\n",
       "  </tbody>\n",
       "</table>\n",
       "</div>"
      ],
      "text/plain": [
       "               gcons_clause subject     complement       cmpl_lex  \\\n",
       "917  W J<L H NRT L PNJ JHWH          no complement  no complement   \n",
       "\n",
       "    cmpl_translation dir_he cmpl_constr cmpl_nt cmpl_anim cmpl_det cmpl_indiv  \\\n",
       "917                                                                             \n",
       "\n",
       "    cmpl_complex  \n",
       "917               "
      ]
     },
     "metadata": {},
     "output_type": "display_data"
    },
    {
     "data": {
      "text/html": [
       "<div>\n",
       "<style scoped>\n",
       "    .dataframe tbody tr th:only-of-type {\n",
       "        vertical-align: middle;\n",
       "    }\n",
       "\n",
       "    .dataframe tbody tr th {\n",
       "        vertical-align: top;\n",
       "    }\n",
       "\n",
       "    .dataframe thead th {\n",
       "        text-align: right;\n",
       "    }\n",
       "</style>\n",
       "<table border=\"1\" class=\"dataframe\">\n",
       "  <thead>\n",
       "    <tr style=\"text-align: right;\">\n",
       "      <th></th>\n",
       "      <th>motion_type</th>\n",
       "      <th>preposition_1</th>\n",
       "      <th>preposition_2</th>\n",
       "      <th>preposition_3</th>\n",
       "      <th>preposition_4</th>\n",
       "      <th>comments</th>\n",
       "    </tr>\n",
       "  </thead>\n",
       "  <tbody>\n",
       "    <tr>\n",
       "      <th>917</th>\n",
       "      <td></td>\n",
       "      <td></td>\n",
       "      <td></td>\n",
       "      <td></td>\n",
       "      <td></td>\n",
       "      <td></td>\n",
       "    </tr>\n",
       "  </tbody>\n",
       "</table>\n",
       "</div>"
      ],
      "text/plain": [
       "    motion_type preposition_1 preposition_2 preposition_3 preposition_4  \\\n",
       "917                                                                       \n",
       "\n",
       "    comments  \n",
       "917           "
      ]
     },
     "metadata": {},
     "output_type": "display_data"
    },
    {
     "data": {
      "application/vnd.jupyter.widget-view+json": {
       "model_id": "637aca0f55a34a9e9ec98383dd28bfa9",
       "version_major": 2,
       "version_minor": 0
      },
      "text/plain": [
       "HTML(value=\"<b>Annotate 'gcons_clause':</b>\")"
      ]
     },
     "metadata": {},
     "output_type": "display_data"
    },
    {
     "data": {
      "application/vnd.jupyter.widget-view+json": {
       "model_id": "f320278ed7df43b8881d4c43873e9eb8",
       "version_major": 2,
       "version_minor": 0
      },
      "text/plain": [
       "Textarea(value='W J<L H NRT L PNJ JHWH', layout=Layout(height='100px', width='100%'), placeholder='Type your a…"
      ]
     },
     "metadata": {},
     "output_type": "display_data"
    },
    {
     "data": {
      "application/vnd.jupyter.widget-view+json": {
       "model_id": "53c541f19f224dffabf40e4484e83bbf",
       "version_major": 2,
       "version_minor": 0
      },
      "text/plain": [
       "HBox(children=(Button(button_style='primary', description='Previous Column', icon='arrow-left', style=ButtonSt…"
      ]
     },
     "metadata": {},
     "output_type": "display_data"
    },
    {
     "data": {
      "application/vnd.jupyter.widget-view+json": {
       "model_id": "2c0a1497b94c4248a1966f30c68de0ce",
       "version_major": 2,
       "version_minor": 0
      },
      "text/plain": [
       "HBox(children=(Button(button_style='warning', description='Previous Row', icon='arrow-left', style=ButtonStyle…"
      ]
     },
     "metadata": {},
     "output_type": "display_data"
    }
   ],
   "source": [
    "### Display the annotation tool\n",
    "annotation_tool.display()\n",
    "\n",
    "matching_index = annotation_tool.find_matching_row()\n",
    "if matching_index:\n",
    "    df_row = annotation_tool.df.iloc[[matching_index]]\n",
    "    display(df_row)"
   ]
  },
  {
   "cell_type": "code",
   "execution_count": 81,
   "id": "e36f6ffa",
   "metadata": {},
   "outputs": [
    {
     "data": {
      "text/html": [
       "<div>\n",
       "<style scoped>\n",
       "    .dataframe tbody tr th:only-of-type {\n",
       "        vertical-align: middle;\n",
       "    }\n",
       "\n",
       "    .dataframe tbody tr th {\n",
       "        vertical-align: top;\n",
       "    }\n",
       "\n",
       "    .dataframe thead th {\n",
       "        text-align: right;\n",
       "    }\n",
       "</style>\n",
       "<table border=\"1\" class=\"dataframe\">\n",
       "  <thead>\n",
       "    <tr style=\"text-align: right;\">\n",
       "      <th></th>\n",
       "      <th>verb_id</th>\n",
       "      <th>lex</th>\n",
       "      <th>scroll</th>\n",
       "      <th>book</th>\n",
       "      <th>chapter</th>\n",
       "      <th>verse_num</th>\n",
       "      <th>gcons_verb</th>\n",
       "      <th>gcons_verse</th>\n",
       "      <th>sign_info</th>\n",
       "      <th>stem</th>\n",
       "      <th>tense</th>\n",
       "      <th>gcons_clause</th>\n",
       "      <th>subject</th>\n",
       "      <th>complement</th>\n",
       "      <th>cmpl_lex</th>\n",
       "      <th>cmpl_translation</th>\n",
       "      <th>dir_he</th>\n",
       "      <th>cmpl_constr</th>\n",
       "      <th>cmpl_nt</th>\n",
       "      <th>cmpl_anim</th>\n",
       "      <th>cmpl_det</th>\n",
       "      <th>cmpl_indiv</th>\n",
       "      <th>cmpl_complex</th>\n",
       "      <th>motion_type</th>\n",
       "      <th>preposition_1</th>\n",
       "      <th>preposition_2</th>\n",
       "      <th>preposition_3</th>\n",
       "      <th>preposition_4</th>\n",
       "      <th>comments</th>\n",
       "    </tr>\n",
       "  </thead>\n",
       "  <tbody>\n",
       "    <tr>\n",
       "      <th>915</th>\n",
       "      <td>52211</td>\n",
       "      <td>BW&gt;[</td>\n",
       "      <td>MT</td>\n",
       "      <td>Exodus</td>\n",
       "      <td>40</td>\n",
       "      <td>21</td>\n",
       "      <td>JB&gt;</td>\n",
       "      <td>W JB&gt; &gt;T H &gt;RN &gt;L H MCKN W JFM &gt;T PRKT H MSK W JSK &lt;L &gt;RWN H &lt;DWT K &gt;CR YWH JHWH &gt;T MCH</td>\n",
       "      <td></td>\n",
       "      <td>hif</td>\n",
       "      <td>wayq</td>\n",
       "      <td>W JB&gt; &gt;T H &gt;RN &gt;L H MCKN</td>\n",
       "      <td></td>\n",
       "      <td>&gt;L H MCKN</td>\n",
       "      <td>&gt;L H MCKN/</td>\n",
       "      <td>into the tabernacle</td>\n",
       "      <td>0</td>\n",
       "      <td>prep</td>\n",
       "      <td>topo</td>\n",
       "      <td>inanim</td>\n",
       "      <td>det</td>\n",
       "      <td>subs</td>\n",
       "      <td>simple</td>\n",
       "      <td>factive</td>\n",
       "      <td>&gt;L</td>\n",
       "      <td></td>\n",
       "      <td></td>\n",
       "      <td></td>\n",
       "      <td></td>\n",
       "    </tr>\n",
       "  </tbody>\n",
       "</table>\n",
       "</div>"
      ],
      "text/plain": [
       "     verb_id   lex scroll    book  chapter  verse_num gcons_verb  \\\n",
       "915    52211  BW>[     MT  Exodus       40         21        JB>   \n",
       "\n",
       "                                                                                 gcons_verse  \\\n",
       "915  W JB> >T H >RN >L H MCKN W JFM >T PRKT H MSK W JSK <L >RWN H <DWT K >CR YWH JHWH >T MCH   \n",
       "\n",
       "    sign_info stem tense              gcons_clause subject complement  \\\n",
       "915            hif  wayq  W JB> >T H >RN >L H MCKN          >L H MCKN   \n",
       "\n",
       "       cmpl_lex     cmpl_translation dir_he cmpl_constr cmpl_nt cmpl_anim  \\\n",
       "915  >L H MCKN/  into the tabernacle      0        prep    topo    inanim   \n",
       "\n",
       "    cmpl_det cmpl_indiv cmpl_complex motion_type preposition_1 preposition_2  \\\n",
       "915      det       subs       simple     factive            >L                 \n",
       "\n",
       "    preposition_3 preposition_4 comments  \n",
       "915                                       "
      ]
     },
     "metadata": {},
     "output_type": "display_data"
    }
   ],
   "source": [
    "matching_index = annotation_tool.find_matching_row()\n",
    "if matching_index:\n",
    "    df_row = annotation_tool.df.iloc[[matching_index]]\n",
    "    display(df_row)"
   ]
  },
  {
   "cell_type": "code",
   "execution_count": 80,
   "id": "a2c68e5c",
   "metadata": {},
   "outputs": [
    {
     "data": {
      "text/html": [
       "<div>\n",
       "<style scoped>\n",
       "    .dataframe tbody tr th:only-of-type {\n",
       "        vertical-align: middle;\n",
       "    }\n",
       "\n",
       "    .dataframe tbody tr th {\n",
       "        vertical-align: top;\n",
       "    }\n",
       "\n",
       "    .dataframe thead th {\n",
       "        text-align: right;\n",
       "    }\n",
       "</style>\n",
       "<table border=\"1\" class=\"dataframe\">\n",
       "  <thead>\n",
       "    <tr style=\"text-align: right;\">\n",
       "      <th></th>\n",
       "      <th>verb_id</th>\n",
       "      <th>lex</th>\n",
       "      <th>scroll</th>\n",
       "      <th>book</th>\n",
       "      <th>chapter</th>\n",
       "      <th>verse_num</th>\n",
       "      <th>gcons_verb</th>\n",
       "      <th>gcons_verse</th>\n",
       "      <th>sign_info</th>\n",
       "      <th>stem</th>\n",
       "      <th>tense</th>\n",
       "      <th>gcons_clause</th>\n",
       "      <th>subject</th>\n",
       "      <th>complement</th>\n",
       "      <th>cmpl_lex</th>\n",
       "      <th>cmpl_translation</th>\n",
       "      <th>dir_he</th>\n",
       "      <th>cmpl_constr</th>\n",
       "      <th>cmpl_nt</th>\n",
       "      <th>cmpl_anim</th>\n",
       "      <th>cmpl_det</th>\n",
       "      <th>cmpl_indiv</th>\n",
       "      <th>cmpl_complex</th>\n",
       "      <th>motion_type</th>\n",
       "      <th>preposition_1</th>\n",
       "      <th>preposition_2</th>\n",
       "      <th>preposition_3</th>\n",
       "      <th>preposition_4</th>\n",
       "      <th>comments</th>\n",
       "    </tr>\n",
       "  </thead>\n",
       "  <tbody>\n",
       "    <tr>\n",
       "      <th>914</th>\n",
       "      <td>1951640</td>\n",
       "      <td>JY&gt;[</td>\n",
       "      <td>4Q17</td>\n",
       "      <td>Exodus</td>\n",
       "      <td>40</td>\n",
       "      <td>17</td>\n",
       "      <td>Y&gt;TM</td>\n",
       "      <td>W JHJ B XDC H R&gt;CN B CNH H CNJT L Y&gt;TM M MYRJM B &gt;XD L XDC HWQM &gt;T H MCKN</td>\n",
       "      <td>0 000 0 000 0 0000 0 000 0 0000 0 0000 0 00000 0 000 0 000 0000 00 0 0000</td>\n",
       "      <td>qal</td>\n",
       "      <td>infc</td>\n",
       "      <td>L Y&gt;TM M MYRJM</td>\n",
       "      <td></td>\n",
       "      <td>M MYRJM</td>\n",
       "      <td>MN MYRJM/</td>\n",
       "      <td>out of Egypt</td>\n",
       "      <td>0</td>\n",
       "      <td>prep</td>\n",
       "      <td>topo</td>\n",
       "      <td>inanim</td>\n",
       "      <td>det</td>\n",
       "      <td>nmpr</td>\n",
       "      <td>simple</td>\n",
       "      <td>factive</td>\n",
       "      <td>MN</td>\n",
       "      <td></td>\n",
       "      <td></td>\n",
       "      <td></td>\n",
       "      <td>L Y&gt;TM M MYRJM is a plus compared to MT</td>\n",
       "    </tr>\n",
       "  </tbody>\n",
       "</table>\n",
       "</div>"
      ],
      "text/plain": [
       "     verb_id   lex scroll    book  chapter  verse_num gcons_verb  \\\n",
       "914  1951640  JY>[   4Q17  Exodus       40         17       Y>TM   \n",
       "\n",
       "                                                                   gcons_verse  \\\n",
       "914  W JHJ B XDC H R>CN B CNH H CNJT L Y>TM M MYRJM B >XD L XDC HWQM >T H MCKN   \n",
       "\n",
       "                                                                     sign_info  \\\n",
       "914  0 000 0 000 0 0000 0 000 0 0000 0 0000 0 00000 0 000 0 000 0000 00 0 0000   \n",
       "\n",
       "    stem tense    gcons_clause subject complement   cmpl_lex cmpl_translation  \\\n",
       "914  qal  infc  L Y>TM M MYRJM            M MYRJM  MN MYRJM/     out of Egypt   \n",
       "\n",
       "    dir_he cmpl_constr cmpl_nt cmpl_anim cmpl_det cmpl_indiv cmpl_complex  \\\n",
       "914      0        prep    topo    inanim      det       nmpr       simple   \n",
       "\n",
       "    motion_type preposition_1 preposition_2 preposition_3 preposition_4  \\\n",
       "914     factive            MN                                             \n",
       "\n",
       "                                    comments  \n",
       "914  L Y>TM M MYRJM is a plus compared to MT  "
      ]
     },
     "metadata": {},
     "output_type": "display_data"
    }
   ],
   "source": [
    "# If no match\n",
    "current_index = annotation_tool.current_index\n",
    "df_row = annotation_tool.df.iloc[[current_index - 1]]\n",
    "display(df_row)"
   ]
  },
  {
   "cell_type": "markdown",
   "id": "57510887",
   "metadata": {},
   "source": [
    "#### Buttons legend\n",
    "\n",
    "\n",
    "<div style=\"text-align: center;\">Name types</div>\n",
    "\n",
    "\n",
    "| Button    | Description                                   |\n",
    "|-----------|:----------------------------------------------|\n",
    "| abs       | abstract nouns (freedom, judgments, etc)      |\n",
    "| adv       | adverb                                        |\n",
    "| bopa      | body part                                     |\n",
    "| dir       | direction                                     |\n",
    "| gens      | people                                        |\n",
    "| mens      | measurement unit                              |\n",
    "| na        | non applicable                                |\n",
    "| obj       | object, thing                                 |\n",
    "| occ       | occupation, work, activities, etc             |\n",
    "| other     | other                                         |\n",
    "| pers      | person                                        |\n",
    "| phen      | phenomenon (sound, light, weather, etc)       |\n",
    "| ppde      | demonstrative personal pronoun                |\n",
    "| ppin      | interrogative pronoun                         |\n",
    "| prps      | personal pronoun                              |\n",
    "| topo      | place                                         |\n",
    "\n",
    "***   \n",
    "\n",
    "<div style=\"text-align: center;\">Animacy</div>\n",
    "\n",
    "\n",
    "| Button       | Description             |\n",
    "| -------------|:------------------------|\n",
    "| anim         | animate                 |\n",
    "| inanim       | inanimate               |\n",
    "| anim inanim  | to be determined later  |\n",
    "\n",
    "***\n",
    "\n",
    "<div style=\"text-align: center;\">Individuation</div>\n",
    "\n",
    "\n",
    "| Button | Description           |\n",
    "|--------|:----------------------|\n",
    "| adv    | adverb                |\n",
    "| nmpr   | proper noun           |\n",
    "| ppin   | interrogative pronoun |\n",
    "| prsf   | pronominal suffix     |\n",
    "| subs   | substantive           |\n",
    "| ptcl   | participle            |\n",
    "\n",
    "***\n",
    "\n",
    "<div style=\"text-align: center;\">Complexity</div>\n",
    "\n",
    "\n",
    "| Button   | Description                           |\n",
    "|----------|:--------------------------------------|\n",
    "| complex  | more than one morpheme                |\n",
    "| simple   | one morpheme (excluding prepositions) |\n",
    "\n",
    "\n",
    "***\n",
    "\n",
    "<div style=\"text-align: center;\">Motion types</div>\n",
    "\n",
    "\n",
    "| Button          | Description                            |\n",
    "|-----------------|----------------------------------------|\n",
    "| factive         | factive (actual) motion                |\n",
    "| fictive         | fictive (non actual) motion            |\n",
    "| factive fictive | unsure, to be determined later on      |\n",
    "\n",
    "\n",
    "#### Factive motion checklist:\n",
    "- something or someone *physical* in the expression goes through a change of position from a point A or to a point B (or both)\n",
    "\n",
    "#### Complexity:\n",
    "- noun + definite article : simple\n",
    "- noun + personal pronoun : complex\n",
    "\n",
    "#### Definiteness:\n",
    "- det: with definite article, with pronominal suffixes, in construct chain\n",
    "- und\n",
    "- na : non applicable (ex: for interrogative particle)"
   ]
  },
  {
   "cell_type": "code",
   "execution_count": 84,
   "id": "391465cb",
   "metadata": {},
   "outputs": [
    {
     "name": "stdout",
     "output_type": "stream",
     "text": [
      "DataFrame saved as data/biblical_datasets/exodus/annotation_df_history/Exodus_2024-03-06_16_18.csv and data/biblical_datasets/exodus/annotation_df_history/Exodus_dataset.csv.\n"
     ]
    }
   ],
   "source": [
    "current_index = annotation_tool.current_index\n",
    "current_date = datetime.datetime.now().strftime(\"%Y-%m-%d_%H_%M\")\n",
    "historical_filename = f\"data/biblical_datasets/exodus/annotation_df_history/Exodus_{current_date}.csv\"\n",
    "current_filename = csv_file_path\n",
    "\n",
    "# To save the annotated DataFrame with the appropriate path\n",
    "annotation_tool.save_dataframe(historical_filename, current_filename)\n",
    "\n",
    "# To save the annotation session details\n",
    "annotation_tool.save_annotation_details()"
   ]
  },
  {
   "cell_type": "code",
   "execution_count": 85,
   "id": "66904d2b",
   "metadata": {},
   "outputs": [
    {
     "name": "stdout",
     "output_type": "stream",
     "text": [
      "Size of the dataset: 1054.\n",
      "917 rows are now annotated.\n",
      "You have 137 rows left to anntoate.\n"
     ]
    }
   ],
   "source": [
    "annotated = current_index - start_index\n",
    "left_to_annot = len(annotation_tool.df) - current_index\n",
    "\n",
    "print(f\"Size of the dataset: {len(annotation_tool.df)}.\\n{annotated} rows are now annotated.\\nYou have {left_to_annot} rows left to anntoate.\")"
   ]
  },
  {
   "cell_type": "markdown",
   "id": "01bdc73f",
   "metadata": {},
   "source": [
    "### Print some information about your dataset"
   ]
  },
  {
   "cell_type": "code",
   "execution_count": null,
   "id": "1a7c7d3c",
   "metadata": {},
   "outputs": [],
   "source": [
    "# Print the different values of the column \"comments\"\n",
    "#set(annotation_tool.df.comments)\n",
    "#set(annotation_tool.df.cmpl_translation)\n",
    "#set(annotation_tool.df.cmpl_constr)"
   ]
  },
  {
   "cell_type": "code",
   "execution_count": null,
   "id": "722ffd4e",
   "metadata": {},
   "outputs": [],
   "source": [
    "annotation_tool.df.head(80)"
   ]
  },
  {
   "cell_type": "code",
   "execution_count": 70,
   "id": "ec153e2b",
   "metadata": {
    "scrolled": true
   },
   "outputs": [
    {
     "data": {
      "text/html": [
       "<div>\n",
       "<style scoped>\n",
       "    .dataframe tbody tr th:only-of-type {\n",
       "        vertical-align: middle;\n",
       "    }\n",
       "\n",
       "    .dataframe tbody tr th {\n",
       "        vertical-align: top;\n",
       "    }\n",
       "\n",
       "    .dataframe thead th {\n",
       "        text-align: right;\n",
       "    }\n",
       "</style>\n",
       "<table border=\"1\" class=\"dataframe\">\n",
       "  <thead>\n",
       "    <tr style=\"text-align: right;\">\n",
       "      <th></th>\n",
       "      <th>verb_id</th>\n",
       "      <th>lex</th>\n",
       "      <th>scroll</th>\n",
       "      <th>book</th>\n",
       "      <th>chapter</th>\n",
       "      <th>verse_num</th>\n",
       "      <th>gcons_verb</th>\n",
       "      <th>gcons_verse</th>\n",
       "      <th>sign_info</th>\n",
       "      <th>stem</th>\n",
       "      <th>tense</th>\n",
       "      <th>gcons_clause</th>\n",
       "      <th>subject</th>\n",
       "      <th>complement</th>\n",
       "      <th>cmpl_lex</th>\n",
       "      <th>cmpl_translation</th>\n",
       "      <th>dir_he</th>\n",
       "      <th>cmpl_constr</th>\n",
       "      <th>cmpl_nt</th>\n",
       "      <th>cmpl_anim</th>\n",
       "      <th>cmpl_det</th>\n",
       "      <th>cmpl_indiv</th>\n",
       "      <th>cmpl_complex</th>\n",
       "      <th>motion_type</th>\n",
       "      <th>preposition_1</th>\n",
       "      <th>preposition_2</th>\n",
       "      <th>preposition_3</th>\n",
       "      <th>preposition_4</th>\n",
       "      <th>comments</th>\n",
       "    </tr>\n",
       "  </thead>\n",
       "  <tbody>\n",
       "    <tr>\n",
       "      <th>667</th>\n",
       "      <td>44611</td>\n",
       "      <td>QRB[</td>\n",
       "      <td>MT</td>\n",
       "      <td>Exodus</td>\n",
       "      <td>29</td>\n",
       "      <td>4</td>\n",
       "      <td>TQRJB</td>\n",
       "      <td>W &gt;T &gt;HRN W &gt;T BNJW TQRJB &gt;L PTX &gt;HL MW&lt;D W RXYT &gt;TM B MJM</td>\n",
       "      <td></td>\n",
       "      <td>hif</td>\n",
       "      <td>impf</td>\n",
       "      <td>W &gt;T &gt;HRN W &gt;T BNJW TQRJB &gt;L PTX &gt;HL MW&lt;D</td>\n",
       "      <td></td>\n",
       "      <td>&gt;L PTX &gt;HL MW&lt;D</td>\n",
       "      <td>&gt;L PTX/ &gt;HL/ MW&lt;D/</td>\n",
       "      <td>to the entrance of the tent of the assembly</td>\n",
       "      <td>0</td>\n",
       "      <td>prep</td>\n",
       "      <td>topo</td>\n",
       "      <td>inanim</td>\n",
       "      <td>det</td>\n",
       "      <td>subs</td>\n",
       "      <td>complex</td>\n",
       "      <td>factive</td>\n",
       "      <td>&gt;L</td>\n",
       "      <td></td>\n",
       "      <td></td>\n",
       "      <td></td>\n",
       "      <td></td>\n",
       "    </tr>\n",
       "    <tr>\n",
       "      <th>668</th>\n",
       "      <td>1959459</td>\n",
       "      <td>QRB[</td>\n",
       "      <td>4Q22</td>\n",
       "      <td>Exodus</td>\n",
       "      <td>29</td>\n",
       "      <td>4</td>\n",
       "      <td>TQRJB</td>\n",
       "      <td>W &gt;T &gt;HRN W &gt;T BNJW TQRJB &gt;L PTX &gt;HL MW&lt;D W RXYT &gt;TM B MJM</td>\n",
       "      <td>0 00 0000 0 00 0000 00000 00 000 000 0000 0 0000 000 0 000</td>\n",
       "      <td>hif</td>\n",
       "      <td>impf</td>\n",
       "      <td>W &gt;T &gt;HRN W &gt;T BNJW TQRJB &gt;L PTX &gt;HL MW&lt;D</td>\n",
       "      <td></td>\n",
       "      <td>&gt;L PTX &gt;HL MW&lt;D</td>\n",
       "      <td>&gt;L PTX/ &gt;HL/ MW&lt;D/</td>\n",
       "      <td>to the entrance of the tent of the assembly</td>\n",
       "      <td>0</td>\n",
       "      <td>prep</td>\n",
       "      <td>topo</td>\n",
       "      <td>inanim</td>\n",
       "      <td>det</td>\n",
       "      <td>subs</td>\n",
       "      <td>complex</td>\n",
       "      <td>factive</td>\n",
       "      <td>&gt;L</td>\n",
       "      <td></td>\n",
       "      <td></td>\n",
       "      <td></td>\n",
       "      <td></td>\n",
       "    </tr>\n",
       "    <tr>\n",
       "      <th>910</th>\n",
       "      <td>52041</td>\n",
       "      <td>QRB[</td>\n",
       "      <td>MT</td>\n",
       "      <td>Exodus</td>\n",
       "      <td>40</td>\n",
       "      <td>12</td>\n",
       "      <td>HQRBT</td>\n",
       "      <td>W HQRBT &gt;T &gt;HRN W &gt;T BNJW &gt;L PTX &gt;HL MW&lt;D W RXYT &gt;TM B MJM</td>\n",
       "      <td></td>\n",
       "      <td>hif</td>\n",
       "      <td>perf</td>\n",
       "      <td>W HQRBT &gt;T &gt;HRN W &gt;T BNJW &gt;L PTX &gt;HL MW&lt;D</td>\n",
       "      <td></td>\n",
       "      <td>&gt;L PTX &gt;HL MW&lt;D</td>\n",
       "      <td>&gt;L PTX/ &gt;HL/ MW&lt;D/</td>\n",
       "      <td></td>\n",
       "      <td>0</td>\n",
       "      <td>prep</td>\n",
       "      <td></td>\n",
       "      <td></td>\n",
       "      <td>det</td>\n",
       "      <td>subs subs subs</td>\n",
       "      <td></td>\n",
       "      <td></td>\n",
       "      <td>&gt;L</td>\n",
       "      <td></td>\n",
       "      <td></td>\n",
       "      <td></td>\n",
       "      <td></td>\n",
       "    </tr>\n",
       "  </tbody>\n",
       "</table>\n",
       "</div>"
      ],
      "text/plain": [
       "     verb_id   lex scroll    book  chapter  verse_num gcons_verb  \\\n",
       "667    44611  QRB[     MT  Exodus       29          4      TQRJB   \n",
       "668  1959459  QRB[   4Q22  Exodus       29          4      TQRJB   \n",
       "910    52041  QRB[     MT  Exodus       40         12      HQRBT   \n",
       "\n",
       "                                                    gcons_verse  \\\n",
       "667  W >T >HRN W >T BNJW TQRJB >L PTX >HL MW<D W RXYT >TM B MJM   \n",
       "668  W >T >HRN W >T BNJW TQRJB >L PTX >HL MW<D W RXYT >TM B MJM   \n",
       "910  W HQRBT >T >HRN W >T BNJW >L PTX >HL MW<D W RXYT >TM B MJM   \n",
       "\n",
       "                                                      sign_info stem tense  \\\n",
       "667                                                              hif  impf   \n",
       "668  0 00 0000 0 00 0000 00000 00 000 000 0000 0 0000 000 0 000  hif  impf   \n",
       "910                                                              hif  perf   \n",
       "\n",
       "                                  gcons_clause subject       complement  \\\n",
       "667  W >T >HRN W >T BNJW TQRJB >L PTX >HL MW<D          >L PTX >HL MW<D   \n",
       "668  W >T >HRN W >T BNJW TQRJB >L PTX >HL MW<D          >L PTX >HL MW<D   \n",
       "910  W HQRBT >T >HRN W >T BNJW >L PTX >HL MW<D          >L PTX >HL MW<D   \n",
       "\n",
       "               cmpl_lex                             cmpl_translation dir_he  \\\n",
       "667  >L PTX/ >HL/ MW<D/  to the entrance of the tent of the assembly      0   \n",
       "668  >L PTX/ >HL/ MW<D/  to the entrance of the tent of the assembly      0   \n",
       "910  >L PTX/ >HL/ MW<D/                                                   0   \n",
       "\n",
       "    cmpl_constr cmpl_nt cmpl_anim cmpl_det      cmpl_indiv cmpl_complex  \\\n",
       "667        prep    topo    inanim      det            subs      complex   \n",
       "668        prep    topo    inanim      det            subs      complex   \n",
       "910        prep                        det  subs subs subs                \n",
       "\n",
       "    motion_type preposition_1 preposition_2 preposition_3 preposition_4  \\\n",
       "667     factive            >L                                             \n",
       "668     factive            >L                                             \n",
       "910                        >L                                             \n",
       "\n",
       "    comments  \n",
       "667           \n",
       "668           \n",
       "910           "
      ]
     },
     "execution_count": 70,
     "metadata": {},
     "output_type": "execute_result"
    }
   ],
   "source": [
    "# Print some df lines\n",
    "\n",
    "#annotation_tool.df[annotation_tool.df.cmpl_lex == \"MN RXWQ/\"]\n",
    "#annotation_tool.df[annotation_tool.df.cmpl_constr == \"vc\"]\n",
    "#annotation_tool.df[annotation_tool.df.cmpl_anim == \"inanim anim\"]\n",
    "#annotation_tool.df[annotation_tool.df.gcons_clause == \"SWRW\"]\n",
    "#annotation_tool.df[annotation_tool.df.motion_type == \"factive fictive\"]\n",
    "#annotation_tool.df[(annotation_tool.df.cmpl_anim != \"inanim\") & (annotation_tool.df.cmpl_constr == \"vc\")]\n",
    "#len(annotation_tool.df)\n",
    "#annotation_tool.df[annotation_tool.df.comments != \"\"]\n",
    "#\n",
    "filtered_df = annotation_tool.df[(annotation_tool.df['cmpl_lex'].str.contains(r'(?i)\\bL PTX\\b', na=False))]\n",
    "filtered_df\n",
    "\n",
    "#annotation_tool.df[(annotation_tool.df.chapter == 14) & (annotation_tool.df.verse_num == 19)]\n",
    "# 276 278 281 282 300 302 303 358 376 377 378 379 380 399 401 402 527 528 604 655 656 731 766 799 803 815 828 832 838"
   ]
  },
  {
   "cell_type": "code",
   "execution_count": null,
   "id": "8ed8e9a4",
   "metadata": {
    "scrolled": false
   },
   "outputs": [],
   "source": [
    "# see 1130 \"to the waters\", topo?\n",
    "# see index 209 animate vc?\n",
    "annotation_tool.df[(annotation_tool.df.chapter == 13) & (annotation_tool.df.verse_num == 5)]"
   ]
  },
  {
   "cell_type": "code",
   "execution_count": null,
   "id": "27be6e7b",
   "metadata": {},
   "outputs": [],
   "source": [
    "set(annotation_tool.df.dir_he)"
   ]
  },
  {
   "cell_type": "code",
   "execution_count": null,
   "id": "1d56eade",
   "metadata": {},
   "outputs": [],
   "source": [
    "set(annotation_tool.df.cmpl_constr)"
   ]
  },
  {
   "cell_type": "code",
   "execution_count": null,
   "id": "417c9708",
   "metadata": {},
   "outputs": [],
   "source": [
    "set(annotation_tool.df.cmpl_nt)"
   ]
  },
  {
   "cell_type": "code",
   "execution_count": null,
   "id": "be60c463",
   "metadata": {},
   "outputs": [],
   "source": [
    "set(annotation_tool.df.cmpl_anim)"
   ]
  },
  {
   "cell_type": "code",
   "execution_count": null,
   "id": "d2dc6e55",
   "metadata": {},
   "outputs": [],
   "source": [
    "set(annotation_tool.df.cmpl_det)"
   ]
  },
  {
   "cell_type": "code",
   "execution_count": null,
   "id": "b33b4c99",
   "metadata": {},
   "outputs": [],
   "source": [
    "set(annotation_tool.df.cmpl_indiv)"
   ]
  },
  {
   "cell_type": "code",
   "execution_count": null,
   "id": "76bd8b81",
   "metadata": {},
   "outputs": [],
   "source": [
    "set(annotation_tool.df.cmpl_complex)"
   ]
  },
  {
   "cell_type": "code",
   "execution_count": null,
   "id": "c79d2728",
   "metadata": {},
   "outputs": [],
   "source": []
  }
 ],
 "metadata": {
  "kernelspec": {
   "display_name": "Python 3 (ipykernel)",
   "language": "python",
   "name": "python3"
  },
  "language_info": {
   "codemirror_mode": {
    "name": "ipython",
    "version": 3
   },
   "file_extension": ".py",
   "mimetype": "text/x-python",
   "name": "python",
   "nbconvert_exporter": "python",
   "pygments_lexer": "ipython3",
   "version": "3.9.16"
  }
 },
 "nbformat": 4,
 "nbformat_minor": 5
}
