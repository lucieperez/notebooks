{
 "cells": [
  {
   "cell_type": "code",
   "execution_count": 1,
   "id": "b6d87286",
   "metadata": {},
   "outputs": [],
   "source": [
    "import pandas as pd"
   ]
  },
  {
   "cell_type": "code",
   "execution_count": 2,
   "id": "a941675f",
   "metadata": {},
   "outputs": [],
   "source": [
    "df = pd.read_csv(\"data/datasets_to_check/combined_datasets/combined_datasets.csv\").fillna(\"\")"
   ]
  },
  {
   "cell_type": "code",
   "execution_count": 3,
   "id": "2ad0342f",
   "metadata": {},
   "outputs": [
    {
     "data": {
      "text/plain": [
       "Index(['verb_id', 'lex', 'scroll', 'book', 'chapter', 'verse_num',\n",
       "       'gcons_verb', 'gcons_verse', 'sign_info', 'stem', 'tense',\n",
       "       'gcons_clause', 'subject', 'complement', 'cmpl_lex', 'cmpl_translation',\n",
       "       'dir_he', 'cmpl_constr', 'cmpl_nt', 'cmpl_anim', 'cmpl_det',\n",
       "       'cmpl_indiv', 'cmpl_complex', 'motion_type', 'spatial_arg_type',\n",
       "       'preposition_1', 'preposition_2', 'preposition_3', 'preposition_4',\n",
       "       'preposition_5', 'preposition_6', 'comments', 'reconstructed_verse',\n",
       "       'Study_Edition'],\n",
       "      dtype='object')"
      ]
     },
     "execution_count": 3,
     "metadata": {},
     "output_type": "execute_result"
    }
   ],
   "source": [
    "df.columns"
   ]
  },
  {
   "cell_type": "code",
   "execution_count": 4,
   "id": "359cf1e8",
   "metadata": {},
   "outputs": [
    {
     "data": {
      "text/plain": [
       "{'',\n",
       " 'abstract',\n",
       " 'adv',\n",
       " 'body part',\n",
       " 'direction',\n",
       " 'gens',\n",
       " 'group',\n",
       " 'interrogative pronoun',\n",
       " 'object',\n",
       " 'occupation',\n",
       " 'other',\n",
       " 'pers pers pers',\n",
       " 'person',\n",
       " 'phenomenon',\n",
       " 'place',\n",
       " 'ppde',\n",
       " 'prps',\n",
       " 'prps + ppin',\n",
       " 'prsf',\n",
       " 'toponym'}"
      ]
     },
     "execution_count": 4,
     "metadata": {},
     "output_type": "execute_result"
    }
   ],
   "source": [
    "set(df.cmpl_nt)"
   ]
  },
  {
   "cell_type": "code",
   "execution_count": 5,
   "id": "8699f1cc",
   "metadata": {},
   "outputs": [],
   "source": [
    "df.loc[(df[\"preposition_1\"] == \"MN\") & (df[\"preposition_2\"] == \"\"), \"comments\"] = \"min excluded\""
   ]
  },
  {
   "cell_type": "code",
   "execution_count": 6,
   "id": "86b6cd9c",
   "metadata": {},
   "outputs": [],
   "source": [
    "df = df[df[\"comments\"] != \"min excluded\"]"
   ]
  },
  {
   "cell_type": "code",
   "execution_count": 8,
   "id": "db8bb6f1",
   "metadata": {},
   "outputs": [
    {
     "data": {
      "text/plain": [
       "{'against me',\n",
       " 'on the mountain',\n",
       " 'to me',\n",
       " 'to me (Aaron)',\n",
       " 'to me (Achish)',\n",
       " 'to me (God)',\n",
       " 'to me (Goliath)',\n",
       " 'to me (Moses)',\n",
       " 'to me (Samuel)',\n",
       " 'to me (Saul)',\n",
       " 'to me (Yahweh)',\n",
       " 'to me (god)',\n",
       " 'to me (the king)',\n",
       " 'to me/to myself',\n",
       " 'to us'}"
      ]
     },
     "execution_count": 8,
     "metadata": {},
     "output_type": "execute_result"
    }
   ],
   "source": [
    "set(df[df.complement == \">LJ\"].cmpl_translation)"
   ]
  },
  {
   "cell_type": "code",
   "execution_count": null,
   "id": "6ce20233",
   "metadata": {},
   "outputs": [],
   "source": [
    "df.loc[(df[\"cmpl_indiv\"] == \"subs\") & (df[\"cmpl_nt\"] == \"toponym \")]"
   ]
  },
  {
   "cell_type": "code",
   "execution_count": 7,
   "id": "a52bb67c",
   "metadata": {},
   "outputs": [],
   "source": [
    "df.to_csv(\"data/datasets_to_check/combined_datasets/combined_datasets.csv\", index=False)"
   ]
  },
  {
   "cell_type": "code",
   "execution_count": null,
   "id": "0ca43912",
   "metadata": {},
   "outputs": [],
   "source": [
    "import json"
   ]
  },
  {
   "cell_type": "code",
   "execution_count": null,
   "id": "394f2dbd",
   "metadata": {},
   "outputs": [],
   "source": [
    "# Load the JSON file\n",
    "with open(\"data/biblical_datasets/auto_cache.json\", \"r\", encoding=\"utf-8\") as f:\n",
    "    data = json.load(f)\n",
    "\n",
    "# Modify the third element if it's \"topo\"\n",
    "for key, value in data.items():\n",
    "    if len(value) > 2 and value[2] == \"ppin\":\n",
    "        value[2] = \"interrogative pronoun\"\n",
    "\n",
    "# Save the modified data back to the file (or a new file)\n",
    "with open(\"data/biblical_datasets/auto_cache.json\", \"w\", encoding=\"utf-8\") as f:\n",
    "    json.dump(data, f, ensure_ascii=False, indent=2)"
   ]
  },
  {
   "cell_type": "code",
   "execution_count": null,
   "id": "03af452b",
   "metadata": {},
   "outputs": [],
   "source": [
    "third_elements = {value[2] for value in data.values() if len(value) > 2}\n",
    "print(third_elements)"
   ]
  },
  {
   "cell_type": "code",
   "execution_count": null,
   "id": "49608708",
   "metadata": {},
   "outputs": [],
   "source": []
  }
 ],
 "metadata": {
  "kernelspec": {
   "display_name": "Python 3 (ipykernel)",
   "language": "python",
   "name": "python3"
  },
  "language_info": {
   "codemirror_mode": {
    "name": "ipython",
    "version": 3
   },
   "file_extension": ".py",
   "mimetype": "text/x-python",
   "name": "python",
   "nbconvert_exporter": "python",
   "pygments_lexer": "ipython3",
   "version": "3.9.16"
  }
 },
 "nbformat": 4,
 "nbformat_minor": 5
}
