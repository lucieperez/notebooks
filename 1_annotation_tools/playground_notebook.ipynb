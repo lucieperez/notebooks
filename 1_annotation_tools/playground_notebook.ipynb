{
 "cells": [
  {
   "cell_type": "code",
   "execution_count": 1,
   "id": "b6d87286",
   "metadata": {},
   "outputs": [],
   "source": [
    "import pandas as pd"
   ]
  },
  {
   "cell_type": "code",
   "execution_count": 8,
   "id": "a941675f",
   "metadata": {},
   "outputs": [],
   "source": [
    "df = pd.read_csv(\"data/datasets_to_check/combined_datasets/combined_datasets.csv\").fillna(\"\")"
   ]
  },
  {
   "cell_type": "code",
   "execution_count": 9,
   "id": "2ad0342f",
   "metadata": {},
   "outputs": [
    {
     "data": {
      "text/plain": [
       "Index(['verb_id', 'lex', 'scroll', 'book', 'chapter', 'verse_num',\n",
       "       'gcons_verb', 'gcons_verse', 'sign_info', 'stem', 'tense',\n",
       "       'gcons_clause', 'subject', 'complement', 'cmpl_lex', 'cmpl_translation',\n",
       "       'dir_he', 'cmpl_constr', 'cmpl_nt', 'cmpl_anim', 'cmpl_det',\n",
       "       'cmpl_indiv', 'cmpl_complex', 'motion_type', 'spatial_arg_type',\n",
       "       'preposition_1', 'preposition_2', 'preposition_3', 'preposition_4',\n",
       "       'preposition_5', 'preposition_6', 'comments', 'reconstructed_verse',\n",
       "       'Study_Edition'],\n",
       "      dtype='object')"
      ]
     },
     "execution_count": 9,
     "metadata": {},
     "output_type": "execute_result"
    }
   ],
   "source": [
    "df.columns"
   ]
  },
  {
   "cell_type": "code",
   "execution_count": 10,
   "id": "359cf1e8",
   "metadata": {},
   "outputs": [
    {
     "data": {
      "text/plain": [
       "{'',\n",
       " 'abstract',\n",
       " 'adv',\n",
       " 'body part',\n",
       " 'direction',\n",
       " 'gens',\n",
       " 'group',\n",
       " 'interrogative pronoun',\n",
       " 'object',\n",
       " 'occupation',\n",
       " 'other',\n",
       " 'pers pers',\n",
       " 'pers pers pers',\n",
       " 'pers topo',\n",
       " 'pers,gens,topo',\n",
       " 'pers,gens,topo pers,gens,topo topo',\n",
       " 'pers,gens,topo topo',\n",
       " 'pers,gens,topo topo pers,gens,topo',\n",
       " 'person',\n",
       " 'phenomenon',\n",
       " 'place',\n",
       " 'ppde',\n",
       " 'prps',\n",
       " 'prps + ppin',\n",
       " 'prsf',\n",
       " 'topo topo',\n",
       " 'topo topo topo',\n",
       " 'topo topo topo topo topo',\n",
       " 'toponym'}"
      ]
     },
     "execution_count": 10,
     "metadata": {},
     "output_type": "execute_result"
    }
   ],
   "source": [
    "set(df.cmpl_nt)"
   ]
  },
  {
   "cell_type": "code",
   "execution_count": 6,
   "id": "8699f1cc",
   "metadata": {},
   "outputs": [],
   "source": [
    "df['cmpl_nt'] = df['cmpl_nt'].replace('abs', 'abstract')"
   ]
  },
  {
   "cell_type": "code",
   "execution_count": 13,
   "id": "db8bb6f1",
   "metadata": {},
   "outputs": [
    {
     "data": {
      "text/html": [
       "<div>\n",
       "<style scoped>\n",
       "    .dataframe tbody tr th:only-of-type {\n",
       "        vertical-align: middle;\n",
       "    }\n",
       "\n",
       "    .dataframe tbody tr th {\n",
       "        vertical-align: top;\n",
       "    }\n",
       "\n",
       "    .dataframe thead th {\n",
       "        text-align: right;\n",
       "    }\n",
       "</style>\n",
       "<table border=\"1\" class=\"dataframe\">\n",
       "  <thead>\n",
       "    <tr style=\"text-align: right;\">\n",
       "      <th></th>\n",
       "      <th>verb_id</th>\n",
       "      <th>lex</th>\n",
       "      <th>scroll</th>\n",
       "      <th>book</th>\n",
       "      <th>chapter</th>\n",
       "      <th>verse_num</th>\n",
       "      <th>gcons_verb</th>\n",
       "      <th>gcons_verse</th>\n",
       "      <th>sign_info</th>\n",
       "      <th>stem</th>\n",
       "      <th>...</th>\n",
       "      <th>spatial_arg_type</th>\n",
       "      <th>preposition_1</th>\n",
       "      <th>preposition_2</th>\n",
       "      <th>preposition_3</th>\n",
       "      <th>preposition_4</th>\n",
       "      <th>preposition_5</th>\n",
       "      <th>preposition_6</th>\n",
       "      <th>comments</th>\n",
       "      <th>reconstructed_verse</th>\n",
       "      <th>Study_Edition</th>\n",
       "    </tr>\n",
       "  </thead>\n",
       "  <tbody>\n",
       "  </tbody>\n",
       "</table>\n",
       "<p>0 rows × 34 columns</p>\n",
       "</div>"
      ],
      "text/plain": [
       "Empty DataFrame\n",
       "Columns: [verb_id, lex, scroll, book, chapter, verse_num, gcons_verb, gcons_verse, sign_info, stem, tense, gcons_clause, subject, complement, cmpl_lex, cmpl_translation, dir_he, cmpl_constr, cmpl_nt, cmpl_anim, cmpl_det, cmpl_indiv, cmpl_complex, motion_type, spatial_arg_type, preposition_1, preposition_2, preposition_3, preposition_4, preposition_5, preposition_6, comments, reconstructed_verse, Study_Edition]\n",
       "Index: []\n",
       "\n",
       "[0 rows x 34 columns]"
      ]
     },
     "execution_count": 13,
     "metadata": {},
     "output_type": "execute_result"
    }
   ],
   "source": [
    "df[df.cmpl_nt == \"bopa\"]"
   ]
  },
  {
   "cell_type": "code",
   "execution_count": 14,
   "id": "a52bb67c",
   "metadata": {},
   "outputs": [],
   "source": [
    "df.to_csv(\"data/datasets_to_check/combined_datasets/combined_datasets.csv\", index=False)"
   ]
  },
  {
   "cell_type": "code",
   "execution_count": 15,
   "id": "0ca43912",
   "metadata": {},
   "outputs": [],
   "source": [
    "import json"
   ]
  },
  {
   "cell_type": "code",
   "execution_count": 29,
   "id": "394f2dbd",
   "metadata": {},
   "outputs": [],
   "source": [
    "# Load the JSON file\n",
    "with open(\"data/biblical_datasets/auto_cache.json\", \"r\", encoding=\"utf-8\") as f:\n",
    "    data = json.load(f)\n",
    "\n",
    "# Modify the third element if it's \"topo\"\n",
    "for key, value in data.items():\n",
    "    if len(value) > 2 and value[2] == \"ppin\":\n",
    "        value[2] = \"interrogative pronoun\"\n",
    "\n",
    "# Save the modified data back to the file (or a new file)\n",
    "with open(\"data/biblical_datasets/auto_cache.json\", \"w\", encoding=\"utf-8\") as f:\n",
    "    json.dump(data, f, ensure_ascii=False, indent=2)"
   ]
  },
  {
   "cell_type": "code",
   "execution_count": 30,
   "id": "03af452b",
   "metadata": {},
   "outputs": [
    {
     "name": "stdout",
     "output_type": "stream",
     "text": [
      "{'gens', 'occupation', 'prps', 'group', 'phenomenon', 'ppde', 'person', 'direction', 'body part', 'prsf', 'other', 'adv', 'abstract', 'object', 'toponym', 'interrogative pronoun', 'place'}\n"
     ]
    }
   ],
   "source": [
    "third_elements = {value[2] for value in data.values() if len(value) > 2}\n",
    "print(third_elements)"
   ]
  },
  {
   "cell_type": "code",
   "execution_count": null,
   "id": "49608708",
   "metadata": {},
   "outputs": [],
   "source": []
  }
 ],
 "metadata": {
  "kernelspec": {
   "display_name": "Python 3 (ipykernel)",
   "language": "python",
   "name": "python3"
  },
  "language_info": {
   "codemirror_mode": {
    "name": "ipython",
    "version": 3
   },
   "file_extension": ".py",
   "mimetype": "text/x-python",
   "name": "python",
   "nbconvert_exporter": "python",
   "pygments_lexer": "ipython3",
   "version": "3.9.16"
  }
 },
 "nbformat": 4,
 "nbformat_minor": 5
}
