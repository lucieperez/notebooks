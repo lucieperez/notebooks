{
 "cells": [
  {
   "cell_type": "code",
   "execution_count": 1,
   "id": "b6d87286",
   "metadata": {},
   "outputs": [],
   "source": [
    "import pandas as pd"
   ]
  },
  {
   "cell_type": "code",
   "execution_count": 44,
   "id": "d28bf39d",
   "metadata": {},
   "outputs": [],
   "source": [
    "list_paths = [\n",
    "    \"data/biblical_datasets/1_samuel/annotation_df_history/1_samuel.csv\",\n",
    "    \"data/biblical_datasets/deuteronomy/annotation_df_history/Deuteronomy_dataset.csv\",\n",
    "    \"data/biblical_datasets/exodus/annotation_df_history/Exodus_dataset.csv\",\n",
    "    \"data/biblical_datasets/isaiah/annotation_df_history/isaiah_dataset.csv\",\n",
    "    \"data/biblical_datasets/jeremiah/annotation_df_history/Jeremiah_dataset.csv\",\n",
    "]\n",
    "\n",
    "columns = [\"cmpl_nt\", \"cmpl_anim\", \"cmpl_det\", \"cmpl_indiv\", \"cmpl_complex\"]\n",
    "\n"
   ]
  },
  {
   "cell_type": "code",
   "execution_count": 59,
   "id": "89dfd5d0",
   "metadata": {},
   "outputs": [],
   "source": [
    "errors = []\n",
    "cmpl_cache = {}\n",
    "cmpl_src = {}\n",
    "\n",
    "for path in list_paths:\n",
    "    df = pd.read_csv(path).fillna(\"\")\n",
    "    for idx, row in df.iterrows():\n",
    "        value = [row[column] for column in columns]\n",
    "        if set(value) == {\"\"} or row.cmpl_lex == \"L PNH/\" or row.comments.startswith(\"reconstructed\"):\n",
    "            continue\n",
    "        key = row.complement\n",
    "        if key in cmpl_cache and value != cmpl_cache[key]:\n",
    "            errors.append([key, cmpl_src[key], cmpl_cache[key], [idx, row.verb_id, row.book, row.chapter, row.verse_num], value])\n",
    "        else:\n",
    "            cmpl_cache[key] = value\n",
    "            cmpl_src[key] = [idx, row.verb_id, row.book, row.chapter, row.verse_num]"
   ]
  },
  {
   "cell_type": "code",
   "execution_count": 60,
   "id": "916799d9",
   "metadata": {},
   "outputs": [
    {
     "data": {
      "text/plain": [
       "[['HLM',\n",
       "  [324, 146715, '1_Samuel', 10, 22],\n",
       "  ['adv', 'inanim', 'det', 'adv', 'simple'],\n",
       "  [425, 149184, '1_Samuel', 14, 36],\n",
       "  ['adv', 'anim', 'det', 'adv', 'simple']],\n",
       " ['>XRJ C>WL',\n",
       "  [469, 150178, '1_Samuel', 15, 31],\n",
       "  ['pers', 'anim', 'det', 'subs', 'complex'],\n",
       "  [512, 151042, '1_Samuel', 17, 13],\n",
       "  ['pers', 'anim', 'det', 'subs', 'simple']],\n",
       " ['>XRJ C>WL',\n",
       "  [469, 150178, '1_Samuel', 15, 31],\n",
       "  ['pers', 'anim', 'det', 'subs', 'complex'],\n",
       "  [515, 151076, '1_Samuel', 17, 14],\n",
       "  ['pers', 'anim', 'det', 'subs', 'simple']],\n",
       " ['M PNJW',\n",
       "  [528, 151279, '1_Samuel', 17, 24],\n",
       "  ['prps', 'anim', 'det', 'subs', 'complex'],\n",
       "  [580, 152404, '1_Samuel', 18, 11],\n",
       "  ['abs', 'inanim', 'det', 'subs', 'simple']],\n",
       " ['M PNJW',\n",
       "  [528, 151279, '1_Samuel', 17, 24],\n",
       "  ['prps', 'anim', 'det', 'subs', 'complex'],\n",
       "  [595, 153021, '1_Samuel', 19, 8],\n",
       "  ['', '', 'det', 'subs', 'simple']],\n",
       " ['H GB<TH',\n",
       "  [314, 146461, '1_Samuel', 10, 10],\n",
       "  ['topo', 'inanim', 'det', 'subs', 'simple'],\n",
       "  [745, 155726, '1_Samuel', 23, 19],\n",
       "  ['topo', 'inanim', 'det', 'nmpr', 'simple']],\n",
       " ['M >XRJ PLCTJM',\n",
       "  [434, 149403, '1_Samuel', 14, 46],\n",
       "  ['gens', 'anim', 'det', 'subs', 'complex'],\n",
       "  [766, 155981, '1_Samuel', 24, 2],\n",
       "  ['', '', 'det', 'subs', 'complex']],\n",
       " ['B DRK',\n",
       "  [456, 149971, '1_Samuel', 15, 20],\n",
       "  ['topo', 'inanim', 'det', 'subs', 'simple'],\n",
       "  [773, 156156, '1_Samuel', 24, 8],\n",
       "  ['dir', 'inanim', 'det', 'subs', 'complex']],\n",
       " ['>XRJ DWD',\n",
       "  [706, 155269, '1_Samuel', 22, 20],\n",
       "  ['pers', 'anim', 'det', 'subs', 'complex'],\n",
       "  [799, 156783, '1_Samuel', 25, 13],\n",
       "  ['pers', 'anim', 'det', 'nmpr', 'simple']],\n",
       " ['H GB<TH',\n",
       "  [314, 146461, '1_Samuel', 10, 10],\n",
       "  ['topo', 'inanim', 'det', 'subs', 'simple'],\n",
       "  [837, 157555, '1_Samuel', 26, 1],\n",
       "  ['topo', 'inanim', 'det', 'nmpr', 'simple']]]"
      ]
     },
     "execution_count": 60,
     "metadata": {},
     "output_type": "execute_result"
    }
   ],
   "source": [
    "errors[:10]"
   ]
  },
  {
   "cell_type": "code",
   "execution_count": 58,
   "id": "b9fd53cd",
   "metadata": {},
   "outputs": [
    {
     "data": {
      "text/plain": [
       "294"
      ]
     },
     "execution_count": 58,
     "metadata": {},
     "output_type": "execute_result"
    }
   ],
   "source": [
    "len(errors)"
   ]
  },
  {
   "cell_type": "code",
   "execution_count": null,
   "id": "751310d4",
   "metadata": {},
   "outputs": [],
   "source": []
  },
  {
   "cell_type": "code",
   "execution_count": null,
   "id": "6d3b50a0",
   "metadata": {},
   "outputs": [],
   "source": []
  }
 ],
 "metadata": {
  "kernelspec": {
   "display_name": "Python 3 (ipykernel)",
   "language": "python",
   "name": "python3"
  },
  "language_info": {
   "codemirror_mode": {
    "name": "ipython",
    "version": 3
   },
   "file_extension": ".py",
   "mimetype": "text/x-python",
   "name": "python",
   "nbconvert_exporter": "python",
   "pygments_lexer": "ipython3",
   "version": "3.9.16"
  }
 },
 "nbformat": 4,
 "nbformat_minor": 5
}
