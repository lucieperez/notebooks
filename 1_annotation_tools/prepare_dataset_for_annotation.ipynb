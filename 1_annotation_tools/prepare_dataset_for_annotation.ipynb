{
 "cells": [
  {
   "cell_type": "markdown",
   "id": "75d4638e",
   "metadata": {},
   "source": [
    "## Description: prepare the notebook for manual annotation\n",
    "\n",
    "In this notebook, three elements are added to the previously generated dataset:\n",
    "- check that the chapter and verse_num columns are integers\n",
    "- sign_info column, based on a recent version of the function\n",
    "- reconstructed_verse column which is a gcons version of the verse with brackets indicating the reconstructed sections\n",
    "- the spatial_arg_type column for annotating goal, source, location, etc. \n",
    "- remove the rows which have \"MN\" in preposition_1 and no preposition_2"
   ]
  },
  {
   "cell_type": "code",
   "execution_count": 34,
   "id": "58a77831",
   "metadata": {},
   "outputs": [],
   "source": [
    "import pandas as pd\n",
    "\n",
    "from itertools import chain\n",
    "\n",
    "from tfob import TFOb,  get_dss, get_xb\n",
    "#DSS = get_dss()"
   ]
  },
  {
   "cell_type": "code",
   "execution_count": 35,
   "id": "bc001c27",
   "metadata": {},
   "outputs": [],
   "source": [
    "XB = get_xb()"
   ]
  },
  {
   "cell_type": "code",
   "execution_count": 36,
   "id": "334d121c",
   "metadata": {},
   "outputs": [],
   "source": [
    "PATH = 'data/extra_biblical_datasets/extra_biblical/annotation_df_history/1qs_1qm_1qh_all_verbs.csv' # Modify before executing the notebook"
   ]
  },
  {
   "cell_type": "code",
   "execution_count": 37,
   "id": "0efd6758",
   "metadata": {},
   "outputs": [],
   "source": [
    "#df_1 = pd.read_csv('../2_datasets/generate_datasets/data/biblical_datasets/Jeremiah_dataset.csv').fillna(\"\")\n",
    "df = pd.read_csv(PATH).fillna(\"\")"
   ]
  },
  {
   "cell_type": "code",
   "execution_count": 38,
   "id": "1333541b",
   "metadata": {},
   "outputs": [],
   "source": [
    "# Make the values in \"chapter\" and \"verse_num\" integers\n",
    "df['chapter'] = df['chapter'].astype(int)\n",
    "df['verse_num'] = df['verse_num'].astype(int)"
   ]
  },
  {
   "cell_type": "code",
   "execution_count": 39,
   "id": "a26017eb",
   "metadata": {},
   "outputs": [],
   "source": [
    "# Reorganise the dataset by chapter, verse_num and scroll\n",
    "\n",
    "# Custom sorting logic for \"scroll\" column\n",
    "#df['scroll_order'] = df['scroll'].apply(lambda x: 0 if x == \"MT\" else 1)\n",
    "\n",
    "# Sort by \"scroll_order\", \"chapter\", and \"verse_num\"\n",
    "df = df.sort_values(by=['book', 'chapter', 'verse_num'])\n",
    "\n",
    "# Drop the temporary 'scroll_order' column\n",
    "#df = df.drop(columns='scroll_order')\n",
    "\n",
    "df = df.reset_index(drop=True)"
   ]
  },
  {
   "cell_type": "code",
   "execution_count": 40,
   "id": "e71c6811",
   "metadata": {},
   "outputs": [],
   "source": [
    "pd.set_option(\"display.max_columns\", None)"
   ]
  },
  {
   "cell_type": "code",
   "execution_count": 41,
   "id": "8f92f046",
   "metadata": {
    "scrolled": false
   },
   "outputs": [
    {
     "data": {
      "text/html": [
       "<div>\n",
       "<style scoped>\n",
       "    .dataframe tbody tr th:only-of-type {\n",
       "        vertical-align: middle;\n",
       "    }\n",
       "\n",
       "    .dataframe tbody tr th {\n",
       "        vertical-align: top;\n",
       "    }\n",
       "\n",
       "    .dataframe thead th {\n",
       "        text-align: right;\n",
       "    }\n",
       "</style>\n",
       "<table border=\"1\" class=\"dataframe\">\n",
       "  <thead>\n",
       "    <tr style=\"text-align: right;\">\n",
       "      <th></th>\n",
       "      <th>index</th>\n",
       "      <th>verb_id</th>\n",
       "      <th>lex</th>\n",
       "      <th>scroll</th>\n",
       "      <th>book</th>\n",
       "      <th>chapter</th>\n",
       "      <th>verse_num</th>\n",
       "      <th>gcons_verb</th>\n",
       "      <th>gcons_verse</th>\n",
       "      <th>gcons_clause</th>\n",
       "      <th>subject</th>\n",
       "      <th>complement</th>\n",
       "      <th>cmpl_lex</th>\n",
       "      <th>cmpl_translation</th>\n",
       "      <th>dir_he</th>\n",
       "      <th>cmpl_constr</th>\n",
       "      <th>cmpl_det</th>\n",
       "      <th>cmpl_indiv</th>\n",
       "      <th>cmpl_complex</th>\n",
       "      <th>sign_info</th>\n",
       "      <th>stem</th>\n",
       "      <th>tense</th>\n",
       "      <th>motion_type</th>\n",
       "      <th>comments</th>\n",
       "      <th>preposition_1</th>\n",
       "      <th>preposition_2</th>\n",
       "      <th>preposition_3</th>\n",
       "      <th>preposition_4</th>\n",
       "    </tr>\n",
       "  </thead>\n",
       "  <tbody>\n",
       "    <tr>\n",
       "      <th>0</th>\n",
       "      <td>0</td>\n",
       "      <td>206</td>\n",
       "      <td>GLL</td>\n",
       "      <td>1QH</td>\n",
       "      <td>1QH</td>\n",
       "      <td>3</td>\n",
       "      <td>9</td>\n",
       "      <td>HTGWLLTJ</td>\n",
       "      <td>KJ B NDH HTGWLLTJ W M SWD RMH Y&gt;TJ W L&gt; NLWJTJ...</td>\n",
       "      <td>KJ B NDH HTGWLLTJ</td>\n",
       "      <td></td>\n",
       "      <td>B NDH</td>\n",
       "      <td>B NDH</td>\n",
       "      <td></td>\n",
       "      <td>0.0</td>\n",
       "      <td>prep</td>\n",
       "      <td>und</td>\n",
       "      <td>subs</td>\n",
       "      <td>simple</td>\n",
       "      <td></td>\n",
       "      <td>hit</td>\n",
       "      <td>perf</td>\n",
       "      <td></td>\n",
       "      <td></td>\n",
       "      <td>B</td>\n",
       "      <td></td>\n",
       "      <td></td>\n",
       "      <td></td>\n",
       "    </tr>\n",
       "    <tr>\n",
       "      <th>1</th>\n",
       "      <td>1</td>\n",
       "      <td>354</td>\n",
       "      <td>NPL</td>\n",
       "      <td>1QH</td>\n",
       "      <td>1QH</td>\n",
       "      <td>4</td>\n",
       "      <td>1</td>\n",
       "      <td>HTNPL</td>\n",
       "      <td>MZMWR L MFKJL L HTNPL L PNJ &gt;L M&lt;FJ &gt;L W L HBJ...</td>\n",
       "      <td>L HTNPL L PNJ &gt;L</td>\n",
       "      <td></td>\n",
       "      <td>L PNJ &gt;L</td>\n",
       "      <td>L PNH &gt;L==</td>\n",
       "      <td></td>\n",
       "      <td>0.0</td>\n",
       "      <td>prep</td>\n",
       "      <td>und</td>\n",
       "      <td>subs</td>\n",
       "      <td>complex</td>\n",
       "      <td></td>\n",
       "      <td>hit</td>\n",
       "      <td>infc</td>\n",
       "      <td></td>\n",
       "      <td></td>\n",
       "      <td>L</td>\n",
       "      <td></td>\n",
       "      <td></td>\n",
       "      <td></td>\n",
       "    </tr>\n",
       "  </tbody>\n",
       "</table>\n",
       "</div>"
      ],
      "text/plain": [
       "   index  verb_id  lex scroll book  chapter  verse_num gcons_verb  \\\n",
       "0      0      206  GLL    1QH  1QH        3          9   HTGWLLTJ   \n",
       "1      1      354  NPL    1QH  1QH        4          1      HTNPL   \n",
       "\n",
       "                                         gcons_verse       gcons_clause  \\\n",
       "0  KJ B NDH HTGWLLTJ W M SWD RMH Y>TJ W L> NLWJTJ...  KJ B NDH HTGWLLTJ   \n",
       "1  MZMWR L MFKJL L HTNPL L PNJ >L M<FJ >L W L HBJ...   L HTNPL L PNJ >L   \n",
       "\n",
       "  subject complement    cmpl_lex cmpl_translation dir_he cmpl_constr cmpl_det  \\\n",
       "0              B NDH       B NDH                     0.0        prep      und   \n",
       "1           L PNJ >L  L PNH >L==                     0.0        prep      und   \n",
       "\n",
       "  cmpl_indiv cmpl_complex sign_info stem tense motion_type comments  \\\n",
       "0       subs       simple            hit  perf                        \n",
       "1       subs      complex            hit  infc                        \n",
       "\n",
       "  preposition_1 preposition_2 preposition_3 preposition_4  \n",
       "0             B                                            \n",
       "1             L                                            "
      ]
     },
     "execution_count": 41,
     "metadata": {},
     "output_type": "execute_result"
    }
   ],
   "source": [
    "df.head(2)"
   ]
  },
  {
   "cell_type": "code",
   "execution_count": 42,
   "id": "c72faf26",
   "metadata": {},
   "outputs": [],
   "source": [
    "#df[(df.scroll != \"MT\") & (df.gcons_clause != \"None\")]"
   ]
  },
  {
   "cell_type": "code",
   "execution_count": 43,
   "id": "742fe437",
   "metadata": {
    "scrolled": true
   },
   "outputs": [
    {
     "data": {
      "text/plain": [
       "Index(['index', 'verb_id', 'lex', 'scroll', 'book', 'chapter', 'verse_num',\n",
       "       'gcons_verb', 'gcons_verse', 'gcons_clause', 'subject', 'complement',\n",
       "       'cmpl_lex', 'cmpl_translation', 'dir_he', 'cmpl_constr', 'cmpl_det',\n",
       "       'cmpl_indiv', 'cmpl_complex', 'sign_info', 'stem', 'tense',\n",
       "       'motion_type', 'comments', 'preposition_1', 'preposition_2',\n",
       "       'preposition_3', 'preposition_4'],\n",
       "      dtype='object')"
      ]
     },
     "execution_count": 43,
     "metadata": {},
     "output_type": "execute_result"
    }
   ],
   "source": [
    "df.columns"
   ]
  },
  {
   "cell_type": "code",
   "execution_count": 17,
   "id": "324d3cc1",
   "metadata": {},
   "outputs": [],
   "source": [
    "# This is the most recent sign_info function which uses the .rec (1 October 2024)\n",
    "\n",
    "def sign_info(verb):\n",
    "    sign_rec_words = []\n",
    "    \n",
    "    scroll = verb.to_scrolls.scroll[0]\n",
    "    verse = TFOb.section([verb.book[0], verb.chapter[0], verb.verse[0]], DSS, scroll)\n",
    "    \n",
    "    for word in verse.to_words:\n",
    "        signs = word.to_signs\n",
    "        sign_rec = []\n",
    "        for sign in signs:\n",
    "            if sign.type[0] == \"cons\": # only keeps consonants\n",
    "                if sign.rec[0]:\n",
    "                    sign_rec.append(\"1\")\n",
    "                else:\n",
    "                    sign_rec.append(\"0\")\n",
    "        if sign_rec:\n",
    "            sign_rec_words.append(\"\".join(sign_rec))\n",
    "        \n",
    "    return \" \".join(sign_rec_words).strip()"
   ]
  },
  {
   "cell_type": "code",
   "execution_count": 18,
   "id": "175e603e",
   "metadata": {},
   "outputs": [
    {
     "ename": "NameError",
     "evalue": "name 'dss_sections' is not defined",
     "output_type": "error",
     "traceback": [
      "\u001b[1;31m---------------------------------------------------------------------------\u001b[0m",
      "\u001b[1;31mNameError\u001b[0m                                 Traceback (most recent call last)",
      "Cell \u001b[1;32mIn[18], line 9\u001b[0m\n\u001b[0;32m      6\u001b[0m     \u001b[38;5;28;01mreturn\u001b[39;00m row[\u001b[38;5;124m'\u001b[39m\u001b[38;5;124msign_info\u001b[39m\u001b[38;5;124m'\u001b[39m]\n\u001b[0;32m      8\u001b[0m \u001b[38;5;66;03m# Apply the function to the dataframe\u001b[39;00m\n\u001b[1;32m----> 9\u001b[0m df[\u001b[38;5;124m'\u001b[39m\u001b[38;5;124msign_info\u001b[39m\u001b[38;5;124m'\u001b[39m] \u001b[38;5;241m=\u001b[39m \u001b[43mdf\u001b[49m\u001b[38;5;241;43m.\u001b[39;49m\u001b[43mapply\u001b[49m\u001b[43m(\u001b[49m\u001b[43mupdate_sign_info\u001b[49m\u001b[43m,\u001b[49m\u001b[43m \u001b[49m\u001b[43maxis\u001b[49m\u001b[38;5;241;43m=\u001b[39;49m\u001b[38;5;241;43m1\u001b[39;49m\u001b[43m)\u001b[49m\n",
      "File \u001b[1;32m~\\.conda\\envs\\annotation_env\\lib\\site-packages\\pandas\\core\\frame.py:9568\u001b[0m, in \u001b[0;36mDataFrame.apply\u001b[1;34m(self, func, axis, raw, result_type, args, **kwargs)\u001b[0m\n\u001b[0;32m   9557\u001b[0m \u001b[38;5;28;01mfrom\u001b[39;00m \u001b[38;5;21;01mpandas\u001b[39;00m\u001b[38;5;21;01m.\u001b[39;00m\u001b[38;5;21;01mcore\u001b[39;00m\u001b[38;5;21;01m.\u001b[39;00m\u001b[38;5;21;01mapply\u001b[39;00m \u001b[38;5;28;01mimport\u001b[39;00m frame_apply\n\u001b[0;32m   9559\u001b[0m op \u001b[38;5;241m=\u001b[39m frame_apply(\n\u001b[0;32m   9560\u001b[0m     \u001b[38;5;28mself\u001b[39m,\n\u001b[0;32m   9561\u001b[0m     func\u001b[38;5;241m=\u001b[39mfunc,\n\u001b[1;32m   (...)\u001b[0m\n\u001b[0;32m   9566\u001b[0m     kwargs\u001b[38;5;241m=\u001b[39mkwargs,\n\u001b[0;32m   9567\u001b[0m )\n\u001b[1;32m-> 9568\u001b[0m \u001b[38;5;28;01mreturn\u001b[39;00m \u001b[43mop\u001b[49m\u001b[38;5;241;43m.\u001b[39;49m\u001b[43mapply\u001b[49m\u001b[43m(\u001b[49m\u001b[43m)\u001b[49m\u001b[38;5;241m.\u001b[39m__finalize__(\u001b[38;5;28mself\u001b[39m, method\u001b[38;5;241m=\u001b[39m\u001b[38;5;124m\"\u001b[39m\u001b[38;5;124mapply\u001b[39m\u001b[38;5;124m\"\u001b[39m)\n",
      "File \u001b[1;32m~\\.conda\\envs\\annotation_env\\lib\\site-packages\\pandas\\core\\apply.py:764\u001b[0m, in \u001b[0;36mFrameApply.apply\u001b[1;34m(self)\u001b[0m\n\u001b[0;32m    761\u001b[0m \u001b[38;5;28;01melif\u001b[39;00m \u001b[38;5;28mself\u001b[39m\u001b[38;5;241m.\u001b[39mraw:\n\u001b[0;32m    762\u001b[0m     \u001b[38;5;28;01mreturn\u001b[39;00m \u001b[38;5;28mself\u001b[39m\u001b[38;5;241m.\u001b[39mapply_raw()\n\u001b[1;32m--> 764\u001b[0m \u001b[38;5;28;01mreturn\u001b[39;00m \u001b[38;5;28;43mself\u001b[39;49m\u001b[38;5;241;43m.\u001b[39;49m\u001b[43mapply_standard\u001b[49m\u001b[43m(\u001b[49m\u001b[43m)\u001b[49m\n",
      "File \u001b[1;32m~\\.conda\\envs\\annotation_env\\lib\\site-packages\\pandas\\core\\apply.py:891\u001b[0m, in \u001b[0;36mFrameApply.apply_standard\u001b[1;34m(self)\u001b[0m\n\u001b[0;32m    890\u001b[0m \u001b[38;5;28;01mdef\u001b[39;00m \u001b[38;5;21mapply_standard\u001b[39m(\u001b[38;5;28mself\u001b[39m):\n\u001b[1;32m--> 891\u001b[0m     results, res_index \u001b[38;5;241m=\u001b[39m \u001b[38;5;28;43mself\u001b[39;49m\u001b[38;5;241;43m.\u001b[39;49m\u001b[43mapply_series_generator\u001b[49m\u001b[43m(\u001b[49m\u001b[43m)\u001b[49m\n\u001b[0;32m    893\u001b[0m     \u001b[38;5;66;03m# wrap results\u001b[39;00m\n\u001b[0;32m    894\u001b[0m     \u001b[38;5;28;01mreturn\u001b[39;00m \u001b[38;5;28mself\u001b[39m\u001b[38;5;241m.\u001b[39mwrap_results(results, res_index)\n",
      "File \u001b[1;32m~\\.conda\\envs\\annotation_env\\lib\\site-packages\\pandas\\core\\apply.py:907\u001b[0m, in \u001b[0;36mFrameApply.apply_series_generator\u001b[1;34m(self)\u001b[0m\n\u001b[0;32m    904\u001b[0m \u001b[38;5;28;01mwith\u001b[39;00m option_context(\u001b[38;5;124m\"\u001b[39m\u001b[38;5;124mmode.chained_assignment\u001b[39m\u001b[38;5;124m\"\u001b[39m, \u001b[38;5;28;01mNone\u001b[39;00m):\n\u001b[0;32m    905\u001b[0m     \u001b[38;5;28;01mfor\u001b[39;00m i, v \u001b[38;5;129;01min\u001b[39;00m \u001b[38;5;28menumerate\u001b[39m(series_gen):\n\u001b[0;32m    906\u001b[0m         \u001b[38;5;66;03m# ignore SettingWithCopy here in case the user mutates\u001b[39;00m\n\u001b[1;32m--> 907\u001b[0m         results[i] \u001b[38;5;241m=\u001b[39m \u001b[38;5;28;43mself\u001b[39;49m\u001b[38;5;241;43m.\u001b[39;49m\u001b[43mf\u001b[49m\u001b[43m(\u001b[49m\u001b[43mv\u001b[49m\u001b[43m)\u001b[49m\n\u001b[0;32m    908\u001b[0m         \u001b[38;5;28;01mif\u001b[39;00m \u001b[38;5;28misinstance\u001b[39m(results[i], ABCSeries):\n\u001b[0;32m    909\u001b[0m             \u001b[38;5;66;03m# If we have a view on v, we need to make a copy because\u001b[39;00m\n\u001b[0;32m    910\u001b[0m             \u001b[38;5;66;03m#  series_generator will swap out the underlying data\u001b[39;00m\n\u001b[0;32m    911\u001b[0m             results[i] \u001b[38;5;241m=\u001b[39m results[i]\u001b[38;5;241m.\u001b[39mcopy(deep\u001b[38;5;241m=\u001b[39m\u001b[38;5;28;01mFalse\u001b[39;00m)\n",
      "Cell \u001b[1;32mIn[18], line 5\u001b[0m, in \u001b[0;36mupdate_sign_info\u001b[1;34m(row)\u001b[0m\n\u001b[0;32m      3\u001b[0m \u001b[38;5;28;01mdef\u001b[39;00m \u001b[38;5;21mupdate_sign_info\u001b[39m(row):\n\u001b[0;32m      4\u001b[0m     \u001b[38;5;28;01mif\u001b[39;00m row[\u001b[38;5;124m'\u001b[39m\u001b[38;5;124mscroll\u001b[39m\u001b[38;5;124m'\u001b[39m] \u001b[38;5;241m!=\u001b[39m \u001b[38;5;124m'\u001b[39m\u001b[38;5;124mMT\u001b[39m\u001b[38;5;124m'\u001b[39m:\n\u001b[1;32m----> 5\u001b[0m         \u001b[38;5;28;01mreturn\u001b[39;00m \u001b[43msign_info\u001b[49m\u001b[43m(\u001b[49m\u001b[43mTFOb\u001b[49m\u001b[43m(\u001b[49m\u001b[38;5;28;43mint\u001b[39;49m\u001b[43m(\u001b[49m\u001b[43mrow\u001b[49m\u001b[43m[\u001b[49m\u001b[38;5;124;43m'\u001b[39;49m\u001b[38;5;124;43mverb_id\u001b[39;49m\u001b[38;5;124;43m'\u001b[39;49m\u001b[43m]\u001b[49m\u001b[43m)\u001b[49m\u001b[43m,\u001b[49m\u001b[43m \u001b[49m\u001b[43mXB\u001b[49m\u001b[43m)\u001b[49m\u001b[43m)\u001b[49m\n\u001b[0;32m      6\u001b[0m     \u001b[38;5;28;01mreturn\u001b[39;00m row[\u001b[38;5;124m'\u001b[39m\u001b[38;5;124msign_info\u001b[39m\u001b[38;5;124m'\u001b[39m]\n",
      "Cell \u001b[1;32mIn[17], line 7\u001b[0m, in \u001b[0;36msign_info\u001b[1;34m(verb)\u001b[0m\n\u001b[0;32m      4\u001b[0m sign_rec_words \u001b[38;5;241m=\u001b[39m []\n\u001b[0;32m      6\u001b[0m scroll \u001b[38;5;241m=\u001b[39m verb\u001b[38;5;241m.\u001b[39mto_books\u001b[38;5;241m.\u001b[39mbook[\u001b[38;5;241m0\u001b[39m]\n\u001b[1;32m----> 7\u001b[0m verse \u001b[38;5;241m=\u001b[39m \u001b[43mTFOb\u001b[49m\u001b[38;5;241;43m.\u001b[39;49m\u001b[43msection\u001b[49m\u001b[43m(\u001b[49m\u001b[43m[\u001b[49m\u001b[43mverb\u001b[49m\u001b[38;5;241;43m.\u001b[39;49m\u001b[43mbook\u001b[49m\u001b[43m[\u001b[49m\u001b[38;5;241;43m0\u001b[39;49m\u001b[43m]\u001b[49m\u001b[43m,\u001b[49m\u001b[43m \u001b[49m\u001b[43mverb\u001b[49m\u001b[38;5;241;43m.\u001b[39;49m\u001b[43mchapter\u001b[49m\u001b[43m[\u001b[49m\u001b[38;5;241;43m0\u001b[39;49m\u001b[43m]\u001b[49m\u001b[43m,\u001b[49m\u001b[43m \u001b[49m\u001b[43mverb\u001b[49m\u001b[38;5;241;43m.\u001b[39;49m\u001b[43mverse\u001b[49m\u001b[43m[\u001b[49m\u001b[38;5;241;43m0\u001b[39;49m\u001b[43m]\u001b[49m\u001b[43m]\u001b[49m\u001b[43m,\u001b[49m\u001b[43m \u001b[49m\u001b[43mXB\u001b[49m\u001b[43m,\u001b[49m\u001b[43m \u001b[49m\u001b[43mscroll\u001b[49m\u001b[43m)\u001b[49m\n\u001b[0;32m      9\u001b[0m \u001b[38;5;28;01mfor\u001b[39;00m word \u001b[38;5;129;01min\u001b[39;00m verse\u001b[38;5;241m.\u001b[39mto_words:\n\u001b[0;32m     10\u001b[0m     signs \u001b[38;5;241m=\u001b[39m word\u001b[38;5;241m.\u001b[39mto_signs\n",
      "File \u001b[1;32m~\\Documents\\github\\notebooks\\1_annotation_tools\\tfob.py:74\u001b[0m, in \u001b[0;36mTFOb.section\u001b[1;34m(self, section, source, scroll)\u001b[0m\n\u001b[0;32m     71\u001b[0m     \u001b[38;5;28;01mreturn\u001b[39;00m TFOb(source\u001b[38;5;241m.\u001b[39mT\u001b[38;5;241m.\u001b[39mnodeFromSection(section), source)\n\u001b[0;32m     73\u001b[0m section \u001b[38;5;241m=\u001b[39m (section[\u001b[38;5;241m0\u001b[39m], \u001b[38;5;28mstr\u001b[39m(section[\u001b[38;5;241m1\u001b[39m]), \u001b[38;5;28mstr\u001b[39m(section[\u001b[38;5;241m2\u001b[39m]))\n\u001b[1;32m---> 74\u001b[0m dss_section \u001b[38;5;241m=\u001b[39m \u001b[43mdss_sections\u001b[49m[section]\n\u001b[0;32m     75\u001b[0m \u001b[38;5;28;01mif\u001b[39;00m scroll \u001b[38;5;129;01mis\u001b[39;00m \u001b[38;5;28;01mNone\u001b[39;00m:\n\u001b[0;32m     76\u001b[0m     scroll \u001b[38;5;241m=\u001b[39m \u001b[38;5;28mlist\u001b[39m(dss_section\u001b[38;5;241m.\u001b[39mkeys())[\u001b[38;5;241m0\u001b[39m]\n",
      "\u001b[1;31mNameError\u001b[0m: name 'dss_sections' is not defined"
     ]
    }
   ],
   "source": [
    "# Updates the dataframe (change the old sign_info column to one containing the return of the new function)\n",
    "\n",
    "def update_sign_info(row):\n",
    "    if row['scroll'] != 'MT':\n",
    "        return sign_info(TFOb(int(row['verb_id']), DSS))\n",
    "    return row['sign_info']\n",
    "\n",
    "# Apply the function to the dataframe\n",
    "df['sign_info'] = df.apply(update_sign_info, axis=1)"
   ]
  },
  {
   "cell_type": "code",
   "execution_count": null,
   "id": "682c7456",
   "metadata": {},
   "outputs": [],
   "source": [
    "# Initialize an empty list to collect mismatch information\n",
    "mismatches = []\n",
    "\n",
    "# Function to check the lengths of sign_info and gcons_verse\n",
    "def check_length(row):\n",
    "    if row['scroll'] != 'MT':\n",
    "        if len(row['sign_info']) != len(row['gcons_verse']):\n",
    "            mismatches.append(f\"Mismatch found in row {row.name}: sign_info='{row['sign_info']}' (len={len(row['sign_info'])}), gcons_verse='{row['gcons_verse']}' (len={len(row['gcons_verse'])})\")\n",
    "\n",
    "# Apply the function to the dataframe\n",
    "df.apply(check_length, axis=1)\n",
    "\n",
    "# Check if there are any mismatches and print them\n",
    "if mismatches:\n",
    "    print(\"Mismatches found:\")\n",
    "    for mismatch in mismatches:\n",
    "        print(mismatch)\n",
    "else:\n",
    "    print(\"No mismatches found.\")"
   ]
  },
  {
   "cell_type": "code",
   "execution_count": null,
   "id": "fd5214c5",
   "metadata": {},
   "outputs": [],
   "source": [
    "# The reconstruct_verse function adds a gcons version of the verse with brackets indicating the reconstructed sections\n",
    "\n",
    "# Add a column with the verse plus brackets indicating reconstructed letters\n",
    "\n",
    "def reconstruct_verse(sign_info, verse):\n",
    "    rec_verse = []\n",
    "    is_reconstructed = False\n",
    "\n",
    "    for c_verse, c_sign in zip(verse, sign_info):\n",
    "        if c_sign == \"1\" and not is_reconstructed:\n",
    "            is_reconstructed = True\n",
    "            rec_verse.append(\"[\")\n",
    "        if c_sign == \"0\" and is_reconstructed:\n",
    "            is_reconstructed = False\n",
    "            if rec_verse[-1] == \" \":\n",
    "                rec_verse.pop()\n",
    "                rec_verse.extend([\"]\", \" \"])\n",
    "            else:\n",
    "                rec_verse.append(\"]\")\n",
    "        rec_verse.append(c_verse)\n",
    "\n",
    "    if is_reconstructed:\n",
    "        rec_verse.append(\"]\")\n",
    "    return \"\".join(rec_verse)\n",
    "\n",
    "\n",
    "df[\"reconstructed_verse\"] = \"\"\n",
    "\n",
    "df[\"reconstructed_verse\"] = df.apply(lambda row: reconstruct_verse(row.sign_info, row.gcons_verse) if row.book != \"MT\" else \"\", axis=1)"
   ]
  },
  {
   "cell_type": "code",
   "execution_count": 45,
   "id": "783a7b8f",
   "metadata": {},
   "outputs": [],
   "source": [
    "# Delete the DSS duplicated\n",
    "\n",
    "verb_ids = df.verb_id.to_list()\n",
    "\n",
    "duplicates = set([verb_id for verb_id in verb_ids if verb_ids.count(verb_id) > 1])\n",
    "\n",
    "\n",
    "df = df[~((df.gcons_clause == \"None\") & (df.subject == \"None\") & (df.verb_id.isin(duplicates)))] # delete duplicates\n",
    "df.reset_index(drop=True, inplace=True) # reset the index for AnnotEasy"
   ]
  },
  {
   "cell_type": "code",
   "execution_count": 46,
   "id": "cf72d503",
   "metadata": {
    "scrolled": true
   },
   "outputs": [
    {
     "data": {
      "text/plain": [
       "Index(['index', 'verb_id', 'lex', 'scroll', 'book', 'chapter', 'verse_num',\n",
       "       'gcons_verb', 'gcons_verse', 'gcons_clause', 'subject', 'complement',\n",
       "       'cmpl_lex', 'cmpl_translation', 'dir_he', 'cmpl_constr', 'cmpl_det',\n",
       "       'cmpl_indiv', 'cmpl_complex', 'sign_info', 'stem', 'tense',\n",
       "       'motion_type', 'comments', 'preposition_1', 'preposition_2',\n",
       "       'preposition_3', 'preposition_4'],\n",
       "      dtype='object')"
      ]
     },
     "execution_count": 46,
     "metadata": {},
     "output_type": "execute_result"
    }
   ],
   "source": [
    "df.columns"
   ]
  },
  {
   "cell_type": "code",
   "execution_count": 47,
   "id": "fcde8e25",
   "metadata": {},
   "outputs": [],
   "source": [
    "# Add the spatial_arg_type column\n",
    "\n",
    "df[\"spatial_arg_type\"] = \"\"\n",
    "df[\"Study_Edition\"] = \"\"\n",
    "new_columns_list = ['cmpl_nt', 'cmpl_anim','reconstructed_verse']\n",
    "\n",
    "for column_name in new_columns_list:\n",
    "    df[column_name] = \"\""
   ]
  },
  {
   "cell_type": "code",
   "execution_count": 48,
   "id": "4122b456",
   "metadata": {},
   "outputs": [
    {
     "data": {
      "text/plain": [
       "Index(['index', 'verb_id', 'lex', 'scroll', 'book', 'chapter', 'verse_num',\n",
       "       'gcons_verb', 'gcons_verse', 'gcons_clause', 'subject', 'complement',\n",
       "       'cmpl_lex', 'cmpl_translation', 'dir_he', 'cmpl_constr', 'cmpl_det',\n",
       "       'cmpl_indiv', 'cmpl_complex', 'sign_info', 'stem', 'tense',\n",
       "       'motion_type', 'comments', 'preposition_1', 'preposition_2',\n",
       "       'preposition_3', 'preposition_4', 'spatial_arg_type', 'Study_Edition',\n",
       "       'cmpl_nt', 'cmpl_anim', 'reconstructed_verse'],\n",
       "      dtype='object')"
      ]
     },
     "execution_count": 48,
     "metadata": {},
     "output_type": "execute_result"
    }
   ],
   "source": [
    "df.columns"
   ]
  },
  {
   "cell_type": "code",
   "execution_count": null,
   "id": "860960f4",
   "metadata": {},
   "outputs": [],
   "source": [
    "# Remove the columns that have MN as preposition 1 and not other prepositions"
   ]
  },
  {
   "cell_type": "code",
   "execution_count": 49,
   "id": "246edddb",
   "metadata": {},
   "outputs": [
    {
     "data": {
      "text/html": [
       "<div>\n",
       "<style scoped>\n",
       "    .dataframe tbody tr th:only-of-type {\n",
       "        vertical-align: middle;\n",
       "    }\n",
       "\n",
       "    .dataframe tbody tr th {\n",
       "        vertical-align: top;\n",
       "    }\n",
       "\n",
       "    .dataframe thead th {\n",
       "        text-align: right;\n",
       "    }\n",
       "</style>\n",
       "<table border=\"1\" class=\"dataframe\">\n",
       "  <thead>\n",
       "    <tr style=\"text-align: right;\">\n",
       "      <th></th>\n",
       "      <th>index</th>\n",
       "      <th>verb_id</th>\n",
       "      <th>lex</th>\n",
       "      <th>scroll</th>\n",
       "      <th>book</th>\n",
       "      <th>chapter</th>\n",
       "      <th>verse_num</th>\n",
       "      <th>gcons_verb</th>\n",
       "      <th>gcons_verse</th>\n",
       "      <th>gcons_clause</th>\n",
       "      <th>subject</th>\n",
       "      <th>complement</th>\n",
       "      <th>cmpl_lex</th>\n",
       "      <th>cmpl_translation</th>\n",
       "      <th>dir_he</th>\n",
       "      <th>cmpl_constr</th>\n",
       "      <th>cmpl_det</th>\n",
       "      <th>cmpl_indiv</th>\n",
       "      <th>cmpl_complex</th>\n",
       "      <th>sign_info</th>\n",
       "      <th>stem</th>\n",
       "      <th>tense</th>\n",
       "      <th>motion_type</th>\n",
       "      <th>comments</th>\n",
       "      <th>preposition_1</th>\n",
       "      <th>preposition_2</th>\n",
       "      <th>preposition_3</th>\n",
       "      <th>preposition_4</th>\n",
       "      <th>spatial_arg_type</th>\n",
       "      <th>Study_Edition</th>\n",
       "      <th>cmpl_nt</th>\n",
       "      <th>cmpl_anim</th>\n",
       "      <th>reconstructed_verse</th>\n",
       "    </tr>\n",
       "  </thead>\n",
       "  <tbody>\n",
       "  </tbody>\n",
       "</table>\n",
       "</div>"
      ],
      "text/plain": [
       "Empty DataFrame\n",
       "Columns: [index, verb_id, lex, scroll, book, chapter, verse_num, gcons_verb, gcons_verse, gcons_clause, subject, complement, cmpl_lex, cmpl_translation, dir_he, cmpl_constr, cmpl_det, cmpl_indiv, cmpl_complex, sign_info, stem, tense, motion_type, comments, preposition_1, preposition_2, preposition_3, preposition_4, spatial_arg_type, Study_Edition, cmpl_nt, cmpl_anim, reconstructed_verse]\n",
       "Index: []"
      ]
     },
     "execution_count": 49,
     "metadata": {},
     "output_type": "execute_result"
    }
   ],
   "source": [
    "# have a look at the data\n",
    "df_test = df[(df.preposition_1 == \"MN\") & (df.preposition_2 == \"MN\")]\n",
    "df_test.head(5)\n",
    "#len(df_test)"
   ]
  },
  {
   "cell_type": "code",
   "execution_count": 50,
   "id": "734a336a",
   "metadata": {},
   "outputs": [
    {
     "data": {
      "text/plain": [
       "0"
      ]
     },
     "execution_count": 50,
     "metadata": {},
     "output_type": "execute_result"
    }
   ],
   "source": [
    "len(df_test)"
   ]
  },
  {
   "cell_type": "code",
   "execution_count": 51,
   "id": "b2dc8afe",
   "metadata": {},
   "outputs": [],
   "source": [
    "# Identify the rows to drop based on the condition\n",
    "index_to_drop = df[(df.preposition_1 == \"MN\") & (df.preposition_2 == \"\")].index\n",
    "index_to_drop_2 = df[(df.preposition_1 == \"MN\") & (df.preposition_2 == \"MN\") & (df.preposition_3 == \"\")].index\n",
    "index_to_drop_3 = df[(df.preposition_1 == \"MN\") & (df.preposition_2 == \"MN\") & (df.preposition_3 == \"MN\") & (df.preposition_4 == \"\")].index\n",
    "\n",
    "# Drop the rows by index\n",
    "df = df.drop(index_to_drop)\n",
    "df = df.drop(index_to_drop_2)\n",
    "df = df.drop(index_to_drop_3)\n",
    "\n",
    "# Reset the index\n",
    "df = df.reset_index(drop=True)"
   ]
  },
  {
   "cell_type": "code",
   "execution_count": 52,
   "id": "641d3f3b",
   "metadata": {},
   "outputs": [
    {
     "data": {
      "text/html": [
       "<div>\n",
       "<style scoped>\n",
       "    .dataframe tbody tr th:only-of-type {\n",
       "        vertical-align: middle;\n",
       "    }\n",
       "\n",
       "    .dataframe tbody tr th {\n",
       "        vertical-align: top;\n",
       "    }\n",
       "\n",
       "    .dataframe thead th {\n",
       "        text-align: right;\n",
       "    }\n",
       "</style>\n",
       "<table border=\"1\" class=\"dataframe\">\n",
       "  <thead>\n",
       "    <tr style=\"text-align: right;\">\n",
       "      <th></th>\n",
       "      <th>index</th>\n",
       "      <th>verb_id</th>\n",
       "      <th>lex</th>\n",
       "      <th>scroll</th>\n",
       "      <th>book</th>\n",
       "      <th>chapter</th>\n",
       "      <th>verse_num</th>\n",
       "      <th>gcons_verb</th>\n",
       "      <th>gcons_verse</th>\n",
       "      <th>gcons_clause</th>\n",
       "      <th>subject</th>\n",
       "      <th>complement</th>\n",
       "      <th>cmpl_lex</th>\n",
       "      <th>cmpl_translation</th>\n",
       "      <th>dir_he</th>\n",
       "      <th>cmpl_constr</th>\n",
       "      <th>cmpl_det</th>\n",
       "      <th>cmpl_indiv</th>\n",
       "      <th>cmpl_complex</th>\n",
       "      <th>sign_info</th>\n",
       "      <th>stem</th>\n",
       "      <th>tense</th>\n",
       "      <th>motion_type</th>\n",
       "      <th>comments</th>\n",
       "      <th>preposition_1</th>\n",
       "      <th>preposition_2</th>\n",
       "      <th>preposition_3</th>\n",
       "      <th>preposition_4</th>\n",
       "      <th>spatial_arg_type</th>\n",
       "      <th>Study_Edition</th>\n",
       "      <th>cmpl_nt</th>\n",
       "      <th>cmpl_anim</th>\n",
       "      <th>reconstructed_verse</th>\n",
       "    </tr>\n",
       "  </thead>\n",
       "  <tbody>\n",
       "  </tbody>\n",
       "</table>\n",
       "</div>"
      ],
      "text/plain": [
       "Empty DataFrame\n",
       "Columns: [index, verb_id, lex, scroll, book, chapter, verse_num, gcons_verb, gcons_verse, gcons_clause, subject, complement, cmpl_lex, cmpl_translation, dir_he, cmpl_constr, cmpl_det, cmpl_indiv, cmpl_complex, sign_info, stem, tense, motion_type, comments, preposition_1, preposition_2, preposition_3, preposition_4, spatial_arg_type, Study_Edition, cmpl_nt, cmpl_anim, reconstructed_verse]\n",
       "Index: []"
      ]
     },
     "execution_count": 52,
     "metadata": {},
     "output_type": "execute_result"
    }
   ],
   "source": [
    "# Verification\n",
    "df[(df.preposition_1 == \"MN\") & (df.preposition_2 == \"\")]"
   ]
  },
  {
   "cell_type": "code",
   "execution_count": 53,
   "id": "e71ff237",
   "metadata": {},
   "outputs": [
    {
     "data": {
      "text/plain": [
       "308"
      ]
     },
     "execution_count": 53,
     "metadata": {},
     "output_type": "execute_result"
    }
   ],
   "source": [
    "len(df)"
   ]
  },
  {
   "cell_type": "code",
   "execution_count": 54,
   "id": "ba8a2772",
   "metadata": {},
   "outputs": [
    {
     "data": {
      "text/plain": [
       "{'1QH', '1QM', '1QS'}"
      ]
     },
     "execution_count": 54,
     "metadata": {},
     "output_type": "execute_result"
    }
   ],
   "source": [
    "set(df.scroll)"
   ]
  },
  {
   "cell_type": "code",
   "execution_count": 55,
   "id": "1e175994",
   "metadata": {},
   "outputs": [],
   "source": [
    "# Reorganise the dataset by chapter, verse_num and scroll\n",
    "\n",
    "# Custom sorting logic for \"scroll\" column\n",
    "\n",
    "# Sort by \"scroll_order\", \"chapter\", and \"verse_num\"\n",
    "df = df.sort_values(by=['scroll','chapter', 'verse_num'])\n",
    "\n",
    "df = df.reset_index(drop=True)"
   ]
  },
  {
   "cell_type": "code",
   "execution_count": 56,
   "id": "92051bae",
   "metadata": {},
   "outputs": [
    {
     "data": {
      "text/html": [
       "<div>\n",
       "<style scoped>\n",
       "    .dataframe tbody tr th:only-of-type {\n",
       "        vertical-align: middle;\n",
       "    }\n",
       "\n",
       "    .dataframe tbody tr th {\n",
       "        vertical-align: top;\n",
       "    }\n",
       "\n",
       "    .dataframe thead th {\n",
       "        text-align: right;\n",
       "    }\n",
       "</style>\n",
       "<table border=\"1\" class=\"dataframe\">\n",
       "  <thead>\n",
       "    <tr style=\"text-align: right;\">\n",
       "      <th></th>\n",
       "      <th>index</th>\n",
       "      <th>verb_id</th>\n",
       "      <th>lex</th>\n",
       "      <th>scroll</th>\n",
       "      <th>book</th>\n",
       "      <th>chapter</th>\n",
       "      <th>verse_num</th>\n",
       "      <th>gcons_verb</th>\n",
       "      <th>gcons_verse</th>\n",
       "      <th>gcons_clause</th>\n",
       "      <th>subject</th>\n",
       "      <th>complement</th>\n",
       "      <th>cmpl_lex</th>\n",
       "      <th>cmpl_translation</th>\n",
       "      <th>dir_he</th>\n",
       "      <th>cmpl_constr</th>\n",
       "      <th>cmpl_det</th>\n",
       "      <th>cmpl_indiv</th>\n",
       "      <th>cmpl_complex</th>\n",
       "      <th>sign_info</th>\n",
       "      <th>stem</th>\n",
       "      <th>tense</th>\n",
       "      <th>motion_type</th>\n",
       "      <th>comments</th>\n",
       "      <th>preposition_1</th>\n",
       "      <th>preposition_2</th>\n",
       "      <th>preposition_3</th>\n",
       "      <th>preposition_4</th>\n",
       "      <th>spatial_arg_type</th>\n",
       "      <th>Study_Edition</th>\n",
       "      <th>cmpl_nt</th>\n",
       "      <th>cmpl_anim</th>\n",
       "      <th>reconstructed_verse</th>\n",
       "    </tr>\n",
       "  </thead>\n",
       "  <tbody>\n",
       "    <tr>\n",
       "      <th>0</th>\n",
       "      <td>0</td>\n",
       "      <td>206</td>\n",
       "      <td>GLL</td>\n",
       "      <td>1QH</td>\n",
       "      <td>1QH</td>\n",
       "      <td>3</td>\n",
       "      <td>9</td>\n",
       "      <td>HTGWLLTJ</td>\n",
       "      <td>KJ B NDH HTGWLLTJ W M SWD RMH Y&gt;TJ W L&gt; NLWJTJ...</td>\n",
       "      <td>KJ B NDH HTGWLLTJ</td>\n",
       "      <td></td>\n",
       "      <td>B NDH</td>\n",
       "      <td>B NDH</td>\n",
       "      <td></td>\n",
       "      <td>0.0</td>\n",
       "      <td>prep</td>\n",
       "      <td>und</td>\n",
       "      <td>subs</td>\n",
       "      <td>simple</td>\n",
       "      <td></td>\n",
       "      <td>hit</td>\n",
       "      <td>perf</td>\n",
       "      <td></td>\n",
       "      <td></td>\n",
       "      <td>B</td>\n",
       "      <td></td>\n",
       "      <td></td>\n",
       "      <td></td>\n",
       "      <td></td>\n",
       "      <td></td>\n",
       "      <td></td>\n",
       "      <td></td>\n",
       "      <td></td>\n",
       "    </tr>\n",
       "    <tr>\n",
       "      <th>1</th>\n",
       "      <td>1</td>\n",
       "      <td>354</td>\n",
       "      <td>NPL</td>\n",
       "      <td>1QH</td>\n",
       "      <td>1QH</td>\n",
       "      <td>4</td>\n",
       "      <td>1</td>\n",
       "      <td>HTNPL</td>\n",
       "      <td>MZMWR L MFKJL L HTNPL L PNJ &gt;L M&lt;FJ &gt;L W L HBJ...</td>\n",
       "      <td>L HTNPL L PNJ &gt;L</td>\n",
       "      <td></td>\n",
       "      <td>L PNJ &gt;L</td>\n",
       "      <td>L PNH &gt;L==</td>\n",
       "      <td></td>\n",
       "      <td>0.0</td>\n",
       "      <td>prep</td>\n",
       "      <td>und</td>\n",
       "      <td>subs</td>\n",
       "      <td>complex</td>\n",
       "      <td></td>\n",
       "      <td>hit</td>\n",
       "      <td>infc</td>\n",
       "      <td></td>\n",
       "      <td></td>\n",
       "      <td>L</td>\n",
       "      <td></td>\n",
       "      <td></td>\n",
       "      <td></td>\n",
       "      <td></td>\n",
       "      <td></td>\n",
       "      <td></td>\n",
       "      <td></td>\n",
       "      <td></td>\n",
       "    </tr>\n",
       "    <tr>\n",
       "      <th>2</th>\n",
       "      <td>2</td>\n",
       "      <td>376</td>\n",
       "      <td>HLK</td>\n",
       "      <td>1QH</td>\n",
       "      <td>1QH</td>\n",
       "      <td>4</td>\n",
       "      <td>1</td>\n",
       "      <td>HTHLKW</td>\n",
       "      <td>MZMWR L MFKJL L HTNPL L PNJ &gt;L M&lt;FJ &gt;L W L HBJ...</td>\n",
       "      <td>HTHLKW</td>\n",
       "      <td></td>\n",
       "      <td>no complement</td>\n",
       "      <td>no complement</td>\n",
       "      <td></td>\n",
       "      <td></td>\n",
       "      <td></td>\n",
       "      <td></td>\n",
       "      <td></td>\n",
       "      <td></td>\n",
       "      <td></td>\n",
       "      <td>hit</td>\n",
       "      <td>perf</td>\n",
       "      <td></td>\n",
       "      <td></td>\n",
       "      <td></td>\n",
       "      <td></td>\n",
       "      <td></td>\n",
       "      <td></td>\n",
       "      <td></td>\n",
       "      <td></td>\n",
       "      <td></td>\n",
       "      <td></td>\n",
       "      <td></td>\n",
       "    </tr>\n",
       "    <tr>\n",
       "      <th>3</th>\n",
       "      <td>3</td>\n",
       "      <td>447</td>\n",
       "      <td>GLH</td>\n",
       "      <td>1QH</td>\n",
       "      <td>1QH</td>\n",
       "      <td>4</td>\n",
       "      <td>4</td>\n",
       "      <td>GLJTH</td>\n",
       "      <td>&gt;TH HW&gt;L QDWCJM W B RZJ PL&gt; K HWD&lt; BWR KBWD K ...</td>\n",
       "      <td>&gt;TH GLJTH DRKJ &gt;MT W M&lt;FJ R&lt; XWKMH W &gt;WLT</td>\n",
       "      <td>&gt;TH</td>\n",
       "      <td>no complement</td>\n",
       "      <td>no complement</td>\n",
       "      <td></td>\n",
       "      <td></td>\n",
       "      <td></td>\n",
       "      <td></td>\n",
       "      <td></td>\n",
       "      <td></td>\n",
       "      <td></td>\n",
       "      <td>qal</td>\n",
       "      <td>perf</td>\n",
       "      <td></td>\n",
       "      <td></td>\n",
       "      <td></td>\n",
       "      <td></td>\n",
       "      <td></td>\n",
       "      <td></td>\n",
       "      <td></td>\n",
       "      <td></td>\n",
       "      <td></td>\n",
       "      <td></td>\n",
       "      <td></td>\n",
       "    </tr>\n",
       "  </tbody>\n",
       "</table>\n",
       "</div>"
      ],
      "text/plain": [
       "   index  verb_id  lex scroll book  chapter  verse_num gcons_verb  \\\n",
       "0      0      206  GLL    1QH  1QH        3          9   HTGWLLTJ   \n",
       "1      1      354  NPL    1QH  1QH        4          1      HTNPL   \n",
       "2      2      376  HLK    1QH  1QH        4          1     HTHLKW   \n",
       "3      3      447  GLH    1QH  1QH        4          4      GLJTH   \n",
       "\n",
       "                                         gcons_verse  \\\n",
       "0  KJ B NDH HTGWLLTJ W M SWD RMH Y>TJ W L> NLWJTJ...   \n",
       "1  MZMWR L MFKJL L HTNPL L PNJ >L M<FJ >L W L HBJ...   \n",
       "2  MZMWR L MFKJL L HTNPL L PNJ >L M<FJ >L W L HBJ...   \n",
       "3  >TH HW>L QDWCJM W B RZJ PL> K HWD< BWR KBWD K ...   \n",
       "\n",
       "                                gcons_clause subject     complement  \\\n",
       "0                          KJ B NDH HTGWLLTJ                  B NDH   \n",
       "1                           L HTNPL L PNJ >L               L PNJ >L   \n",
       "2                                     HTHLKW          no complement   \n",
       "3  >TH GLJTH DRKJ >MT W M<FJ R< XWKMH W >WLT     >TH  no complement   \n",
       "\n",
       "        cmpl_lex cmpl_translation dir_he cmpl_constr cmpl_det cmpl_indiv  \\\n",
       "0          B NDH                     0.0        prep      und       subs   \n",
       "1     L PNH >L==                     0.0        prep      und       subs   \n",
       "2  no complement                                                           \n",
       "3  no complement                                                           \n",
       "\n",
       "  cmpl_complex sign_info stem tense motion_type comments preposition_1  \\\n",
       "0       simple            hit  perf                                  B   \n",
       "1      complex            hit  infc                                  L   \n",
       "2                         hit  perf                                      \n",
       "3                         qal  perf                                      \n",
       "\n",
       "  preposition_2 preposition_3 preposition_4 spatial_arg_type Study_Edition  \\\n",
       "0                                                                            \n",
       "1                                                                            \n",
       "2                                                                            \n",
       "3                                                                            \n",
       "\n",
       "  cmpl_nt cmpl_anim reconstructed_verse  \n",
       "0                                        \n",
       "1                                        \n",
       "2                                        \n",
       "3                                        "
      ]
     },
     "execution_count": 56,
     "metadata": {},
     "output_type": "execute_result"
    }
   ],
   "source": [
    "df.head(4)"
   ]
  },
  {
   "cell_type": "code",
   "execution_count": 57,
   "id": "526a51fe",
   "metadata": {},
   "outputs": [],
   "source": [
    "df.to_csv(PATH, index=False)"
   ]
  },
  {
   "cell_type": "code",
   "execution_count": null,
   "id": "c23d0273",
   "metadata": {},
   "outputs": [],
   "source": []
  }
 ],
 "metadata": {
  "kernelspec": {
   "display_name": "Python 3 (ipykernel)",
   "language": "python",
   "name": "python3"
  },
  "language_info": {
   "codemirror_mode": {
    "name": "ipython",
    "version": 3
   },
   "file_extension": ".py",
   "mimetype": "text/x-python",
   "name": "python",
   "nbconvert_exporter": "python",
   "pygments_lexer": "ipython3",
   "version": "3.9.16"
  }
 },
 "nbformat": 4,
 "nbformat_minor": 5
}
