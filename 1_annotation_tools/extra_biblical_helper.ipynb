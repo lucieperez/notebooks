{
 "cells": [
  {
   "cell_type": "code",
   "execution_count": 1,
   "id": "602532a2",
   "metadata": {},
   "outputs": [],
   "source": [
    "from tfob import TFOb, get_xb"
   ]
  },
  {
   "cell_type": "code",
   "execution_count": 2,
   "id": "494fdc60",
   "metadata": {},
   "outputs": [],
   "source": [
    "XB = get_xb()"
   ]
  },
  {
   "cell_type": "code",
   "execution_count": 249,
   "id": "f67f4d39",
   "metadata": {},
   "outputs": [
    {
     "name": "stdout",
     "output_type": "stream",
     "text": [
      "יצאו \n"
     ]
    }
   ],
   "source": [
    "verb = TFOb(13356, XB)\n",
    "print(verb.text)"
   ]
  },
  {
   "cell_type": "code",
   "execution_count": 250,
   "id": "2858c16f",
   "metadata": {},
   "outputs": [
    {
     "data": {
      "text/plain": [
       "'ובסדר מערכות המלחמה לקראת אויב מערכה לקראת מערכה ויצאו מן השׁער התיכון אל בין המערכות שׁבעה כוהנים מבני אהרון לובשׁים בגדי שׁשׁ לבן כתונת בד ומכנסי בד וחוגרים באבנט בד שׁשׁ משׁוזר תכלת וארגמן ותולעת שׁני וצורת ריקמה מעשׂה חושׁב ופרי מגבעות בראשׁיהם בגדי מלחמה ואל המקדשׁ לוא יביאומ '"
      ]
     },
     "execution_count": 250,
     "metadata": {},
     "output_type": "execute_result"
    }
   ],
   "source": [
    "verse = verb.to_verses\n",
    "verse.text"
   ]
  },
  {
   "cell_type": "code",
   "execution_count": 251,
   "id": "81f0e499",
   "metadata": {},
   "outputs": [
    {
     "name": "stdout",
     "output_type": "stream",
     "text": [
      "ו\n",
      "בסדר מערכות המלחמה לקראת אויב מערכה לקראת מערכה \n",
      "ויצאו מן השׁער התיכון אל בין המערכות שׁבעה כוהנים מבני אהרון \n",
      "לובשׁים בגדי שׁשׁ לבן כתונת בד ומכנסי בד \n",
      "וחוגרים באבנט בד שׁשׁ משׁוזר תכלת וארגמן ותולעת שׁני וצורת ריקמה מעשׂה חושׁב \n",
      "ופרי מגבעות בראשׁיהם \n",
      "בגדי מלחמה \n",
      "ואל המקדשׁ לוא יביאומ \n"
     ]
    }
   ],
   "source": [
    "clauses = verse.to_clauses\n",
    "\n",
    "for clause in clauses:\n",
    "    print(clause.text)"
   ]
  },
  {
   "cell_type": "code",
   "execution_count": 252,
   "id": "beefaff1",
   "metadata": {},
   "outputs": [
    {
     "name": "stdout",
     "output_type": "stream",
     "text": [
      "ויצאו מן השׁער התיכון אל בין המערכות שׁבעה כוהנים מבני אהרון \n"
     ]
    }
   ],
   "source": [
    "clause = verb.to_clauses\n",
    "print(clause.text)"
   ]
  },
  {
   "cell_type": "code",
   "execution_count": 253,
   "id": "e16f6ce6",
   "metadata": {},
   "outputs": [
    {
     "name": "stdout",
     "output_type": "stream",
     "text": [
      "W , Conj , ו , ['ו']\n",
      "JY>W , Pred , יצאו  , ['יצא']\n",
      "MN H C<R H TJKWN , Cmpl , מן השׁער התיכון  , ['מן', 'ה', 'שׁער', 'ה', 'תיכון']\n",
      ">L BJN H M<RKWT , Cmpl , אל בין המערכות  , ['אל', 'בין', 'ה', 'מערכה']\n",
      "CB<H KWHNJM M BNJ >HRWN , Subj , שׁבעה כוהנים מבני אהרון  , ['שׁבע', 'כהן', 'מן', 'בן', 'אהרון']\n"
     ]
    }
   ],
   "source": [
    "phrases = clause.to_phrases\n",
    "\n",
    "for phrase in phrases:\n",
    "    print(phrase, \",\", phrase.function[0], \",\", phrase.text, \",\", phrase.to_words.lex_utf8)"
   ]
  },
  {
   "cell_type": "code",
   "execution_count": 254,
   "id": "330680e8",
   "metadata": {},
   "outputs": [
    {
     "data": {
      "text/plain": [
       "<phrase_2 \"MN H C<R H TJKWN >L BJN H M<RKWT\">"
      ]
     },
     "execution_count": 254,
     "metadata": {},
     "output_type": "execute_result"
    }
   ],
   "source": [
    "cmpl = verb.to_clauses.to_phrases.filter(function=\"Cmpl\")\n",
    "cmpl"
   ]
  },
  {
   "cell_type": "code",
   "execution_count": 255,
   "id": "6b22f404",
   "metadata": {},
   "outputs": [
    {
     "name": "stdout",
     "output_type": "stream",
     "text": [
      "מן השׁער התיכון אל בין המערכות \n"
     ]
    }
   ],
   "source": [
    "print(cmpl.text)"
   ]
  },
  {
   "cell_type": "code",
   "execution_count": 256,
   "id": "2d434db5",
   "metadata": {},
   "outputs": [
    {
     "name": "stdout",
     "output_type": "stream",
     "text": [
      "מן  prep מן\n",
      "ה art ה\n",
      "שׁער  subs שׁער\n",
      "ה art ה\n",
      "תיכון  adjv תיכון\n",
      "אל  prep אל\n",
      "בין  subs בין\n",
      "ה art ה\n",
      "מערכות  subs מערכה\n"
     ]
    }
   ],
   "source": [
    "for word in cmpl.to_words:\n",
    "    print(word.text, word.sp[0], word.lex_utf8[0])"
   ]
  },
  {
   "cell_type": "code",
   "execution_count": 257,
   "id": "a0bee777",
   "metadata": {},
   "outputs": [
    {
     "data": {
      "text/plain": [
       "<word_9 \"MN H C<R H TJKWN >L BJN H M<RKWT\">"
      ]
     },
     "execution_count": 257,
     "metadata": {},
     "output_type": "execute_result"
    }
   ],
   "source": [
    "cmpl.to_words"
   ]
  },
  {
   "cell_type": "code",
   "execution_count": null,
   "id": "57c366c8",
   "metadata": {},
   "outputs": [],
   "source": []
  },
  {
   "cell_type": "code",
   "execution_count": null,
   "id": "b1830383",
   "metadata": {},
   "outputs": [],
   "source": []
  },
  {
   "cell_type": "code",
   "execution_count": null,
   "id": "8fee1d79",
   "metadata": {},
   "outputs": [],
   "source": []
  }
 ],
 "metadata": {
  "kernelspec": {
   "display_name": "Python 3 (ipykernel)",
   "language": "python",
   "name": "python3"
  },
  "language_info": {
   "codemirror_mode": {
    "name": "ipython",
    "version": 3
   },
   "file_extension": ".py",
   "mimetype": "text/x-python",
   "name": "python",
   "nbconvert_exporter": "python",
   "pygments_lexer": "ipython3",
   "version": "3.9.16"
  }
 },
 "nbformat": 4,
 "nbformat_minor": 5
}
