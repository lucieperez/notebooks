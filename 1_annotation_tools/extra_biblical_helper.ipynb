{
 "cells": [
  {
   "cell_type": "code",
   "execution_count": 1,
   "id": "602532a2",
   "metadata": {},
   "outputs": [],
   "source": [
    "from tfob import TFOb, get_xb"
   ]
  },
  {
   "cell_type": "code",
   "execution_count": 2,
   "id": "494fdc60",
   "metadata": {},
   "outputs": [],
   "source": [
    "XB = get_xb()"
   ]
  },
  {
   "cell_type": "code",
   "execution_count": 190,
   "id": "f67f4d39",
   "metadata": {},
   "outputs": [
    {
     "data": {
      "text/plain": [
       "'תביא'"
      ]
     },
     "execution_count": 190,
     "metadata": {},
     "output_type": "execute_result"
    }
   ],
   "source": [
    "verb = TFOb(4911, XB)\n",
    "verb\n",
    "verb.text"
   ]
  },
  {
   "cell_type": "code",
   "execution_count": 191,
   "id": "2858c16f",
   "metadata": {},
   "outputs": [
    {
     "data": {
      "text/plain": [
       "'ותביאהו במצרף כזהב במעשׂי אשׁ וככסף מזוקק בכור נופחים לטהר שׁבעתים '"
      ]
     },
     "execution_count": 191,
     "metadata": {},
     "output_type": "execute_result"
    }
   ],
   "source": [
    "verse = verb.to_verses.text\n",
    "verse"
   ]
  },
  {
   "cell_type": "code",
   "execution_count": 192,
   "id": "beefaff1",
   "metadata": {},
   "outputs": [
    {
     "data": {
      "text/plain": [
       "'ותביאהו במצרף כזהב במעשׂי אשׁ וככסף '"
      ]
     },
     "execution_count": 192,
     "metadata": {},
     "output_type": "execute_result"
    }
   ],
   "source": [
    "clause = verb.to_clauses\n",
    "clause.text"
   ]
  },
  {
   "cell_type": "code",
   "execution_count": 193,
   "id": "e16f6ce6",
   "metadata": {},
   "outputs": [
    {
     "name": "stdout",
     "output_type": "stream",
     "text": [
      "W , Conj , ו W\n",
      "TBJ> , Pred , תביא TBJ>\n",
      "HW , Objc , הו  HW\n",
      "B MYRP , Cmpl , במצרף  B MYRP\n",
      "K ZHB B M<FJ >C W K KSP , Adju , כזהב במעשׂי אשׁ וככסף  K ZHB B M<FJ >C W K KSP\n"
     ]
    }
   ],
   "source": [
    "phrases = clause.to_phrases\n",
    "\n",
    "for phrase in phrases:\n",
    "    print(phrase, \",\", phrase.function[0], \",\", phrase.text, phrase)"
   ]
  },
  {
   "cell_type": "code",
   "execution_count": 194,
   "id": "330680e8",
   "metadata": {},
   "outputs": [
    {
     "data": {
      "text/plain": [
       "<phrase_1 \"B MYRP\">"
      ]
     },
     "execution_count": 194,
     "metadata": {},
     "output_type": "execute_result"
    }
   ],
   "source": [
    "cmpl = verb.to_clauses.to_phrases.filter(function=\"Cmpl\")\n",
    "cmpl"
   ]
  },
  {
   "cell_type": "code",
   "execution_count": 195,
   "id": "6b22f404",
   "metadata": {},
   "outputs": [
    {
     "data": {
      "text/plain": [
       "'במצרף '"
      ]
     },
     "execution_count": 195,
     "metadata": {},
     "output_type": "execute_result"
    }
   ],
   "source": [
    "cmpl.text"
   ]
  },
  {
   "cell_type": "code",
   "execution_count": 196,
   "id": "2d434db5",
   "metadata": {},
   "outputs": [
    {
     "name": "stdout",
     "output_type": "stream",
     "text": [
      "ב ['prep'] ['ב']\n",
      "מצרף  ['subs'] ['מצרף']\n"
     ]
    }
   ],
   "source": [
    "for word in cmpl.to_words:\n",
    "    print(word.text, word.sp, word.lex_utf8)"
   ]
  },
  {
   "cell_type": "code",
   "execution_count": 197,
   "id": "a0bee777",
   "metadata": {},
   "outputs": [
    {
     "data": {
      "text/plain": [
       "<word_2 \"B MYRP\">"
      ]
     },
     "execution_count": 197,
     "metadata": {},
     "output_type": "execute_result"
    }
   ],
   "source": [
    "cmpl.to_words"
   ]
  },
  {
   "cell_type": "code",
   "execution_count": null,
   "id": "57c366c8",
   "metadata": {},
   "outputs": [],
   "source": []
  },
  {
   "cell_type": "code",
   "execution_count": null,
   "id": "b1830383",
   "metadata": {},
   "outputs": [],
   "source": []
  }
 ],
 "metadata": {
  "kernelspec": {
   "display_name": "Python 3 (ipykernel)",
   "language": "python",
   "name": "python3"
  },
  "language_info": {
   "codemirror_mode": {
    "name": "ipython",
    "version": 3
   },
   "file_extension": ".py",
   "mimetype": "text/x-python",
   "name": "python",
   "nbconvert_exporter": "python",
   "pygments_lexer": "ipython3",
   "version": "3.9.16"
  }
 },
 "nbformat": 4,
 "nbformat_minor": 5
}
