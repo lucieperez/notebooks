{
 "cells": [
  {
   "cell_type": "code",
   "execution_count": 1,
   "id": "602532a2",
   "metadata": {},
   "outputs": [],
   "source": [
    "from tfob import TFOb, get_xb"
   ]
  },
  {
   "cell_type": "code",
   "execution_count": 2,
   "id": "494fdc60",
   "metadata": {},
   "outputs": [],
   "source": [
    "XB = get_xb()"
   ]
  },
  {
   "cell_type": "code",
   "execution_count": 377,
   "id": "f67f4d39",
   "metadata": {},
   "outputs": [
    {
     "name": "stdout",
     "output_type": "stream",
     "text": [
      "נס \n"
     ]
    }
   ],
   "source": [
    "verb = TFOb(9539, XB)\n",
    "print(verb.text)"
   ]
  },
  {
   "cell_type": "code",
   "execution_count": 378,
   "id": "2858c16f",
   "metadata": {},
   "outputs": [
    {
     "data": {
      "text/plain": [
       "'ונס חושׁך ות ל לאין סוף וקצי שׁלום לאין חקר '"
      ]
     },
     "execution_count": 378,
     "metadata": {},
     "output_type": "execute_result"
    }
   ],
   "source": [
    "verse = verb.to_verses\n",
    "verse.text"
   ]
  },
  {
   "cell_type": "code",
   "execution_count": 379,
   "id": "81f0e499",
   "metadata": {},
   "outputs": [
    {
     "name": "stdout",
     "output_type": "stream",
     "text": [
      "ונס חושׁך \n",
      "ות ל \n",
      "לאין סוף \n",
      "וקצי שׁלום לאין חקר \n"
     ]
    }
   ],
   "source": [
    "clauses = verse.to_clauses\n",
    "\n",
    "for clause in clauses:\n",
    "    print(clause.text)"
   ]
  },
  {
   "cell_type": "code",
   "execution_count": 380,
   "id": "beefaff1",
   "metadata": {},
   "outputs": [
    {
     "name": "stdout",
     "output_type": "stream",
     "text": [
      "ונס חושׁך \n"
     ]
    }
   ],
   "source": [
    "clause = verb.to_clauses\n",
    "print(clause.text)"
   ]
  },
  {
   "cell_type": "code",
   "execution_count": 381,
   "id": "e16f6ce6",
   "metadata": {},
   "outputs": [
    {
     "name": "stdout",
     "output_type": "stream",
     "text": [
      "W , Conj , ו , ['ו']\n",
      "NS , Pred , נס  , ['נוס']\n",
      "XWCK , Subj , חושׁך  , ['חשׁך']\n"
     ]
    }
   ],
   "source": [
    "phrases = clause.to_phrases\n",
    "\n",
    "for phrase in phrases:\n",
    "    print(phrase, \",\", phrase.function[0], \",\", phrase.text, \",\", phrase.to_words.lex_utf8)"
   ]
  },
  {
   "cell_type": "code",
   "execution_count": 382,
   "id": "330680e8",
   "metadata": {},
   "outputs": [
    {
     "data": {
      "text/plain": [
       "<none_0 \"\">"
      ]
     },
     "execution_count": 382,
     "metadata": {},
     "output_type": "execute_result"
    }
   ],
   "source": [
    "cmpl = verb.to_clauses.to_phrases.filter(function=\"Cmpl\")\n",
    "cmpl"
   ]
  },
  {
   "cell_type": "code",
   "execution_count": 383,
   "id": "6b22f404",
   "metadata": {},
   "outputs": [
    {
     "name": "stdout",
     "output_type": "stream",
     "text": [
      "\n"
     ]
    }
   ],
   "source": [
    "print(cmpl.text)"
   ]
  },
  {
   "cell_type": "code",
   "execution_count": 384,
   "id": "2d434db5",
   "metadata": {},
   "outputs": [],
   "source": [
    "for word in cmpl.to_words:\n",
    "    print(word.text, word.sp[0], word.lex_utf8[0])"
   ]
  },
  {
   "cell_type": "code",
   "execution_count": 385,
   "id": "a0bee777",
   "metadata": {},
   "outputs": [
    {
     "data": {
      "text/plain": [
       "<none_0 \"\">"
      ]
     },
     "execution_count": 385,
     "metadata": {},
     "output_type": "execute_result"
    }
   ],
   "source": [
    "cmpl.to_words"
   ]
  },
  {
   "cell_type": "code",
   "execution_count": null,
   "id": "57c366c8",
   "metadata": {},
   "outputs": [],
   "source": []
  },
  {
   "cell_type": "code",
   "execution_count": null,
   "id": "b1830383",
   "metadata": {},
   "outputs": [],
   "source": []
  },
  {
   "cell_type": "code",
   "execution_count": null,
   "id": "8fee1d79",
   "metadata": {},
   "outputs": [],
   "source": []
  }
 ],
 "metadata": {
  "kernelspec": {
   "display_name": "Python 3 (ipykernel)",
   "language": "python",
   "name": "python3"
  },
  "language_info": {
   "codemirror_mode": {
    "name": "ipython",
    "version": 3
   },
   "file_extension": ".py",
   "mimetype": "text/x-python",
   "name": "python",
   "nbconvert_exporter": "python",
   "pygments_lexer": "ipython3",
   "version": "3.9.16"
  }
 },
 "nbformat": 4,
 "nbformat_minor": 5
}
