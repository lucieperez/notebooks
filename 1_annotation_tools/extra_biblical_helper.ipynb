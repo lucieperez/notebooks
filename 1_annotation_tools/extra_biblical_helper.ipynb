{
 "cells": [
  {
   "cell_type": "code",
   "execution_count": 2,
   "id": "602532a2",
   "metadata": {},
   "outputs": [],
   "source": [
    "from tfob import TFOb, get_xb"
   ]
  },
  {
   "cell_type": "code",
   "execution_count": 3,
   "id": "494fdc60",
   "metadata": {},
   "outputs": [],
   "source": [
    "XB = get_xb()"
   ]
  },
  {
   "cell_type": "code",
   "execution_count": 417,
   "id": "f67f4d39",
   "metadata": {},
   "outputs": [
    {
     "name": "stdout",
     "output_type": "stream",
     "text": [
      "יבואו \n"
     ]
    }
   ],
   "source": [
    "verb = TFOb(16915, XB)\n",
    "print(verb.text)"
   ]
  },
  {
   "cell_type": "code",
   "execution_count": 418,
   "id": "2858c16f",
   "metadata": {},
   "outputs": [
    {
     "data": {
      "text/plain": [
       "'ובבוקר יבואו עד מקום המערכה גבורי כתיים והמון אשׁור וחיל כול הגוים הנקהלים אם חללים נפלו שׁם בחרב אל '"
      ]
     },
     "execution_count": 418,
     "metadata": {},
     "output_type": "execute_result"
    }
   ],
   "source": [
    "verse = verb.to_verses\n",
    "verse.text"
   ]
  },
  {
   "cell_type": "code",
   "execution_count": 419,
   "id": "81f0e499",
   "metadata": {
    "scrolled": true
   },
   "outputs": [
    {
     "name": "stdout",
     "output_type": "stream",
     "text": [
      "ובבוקר \n",
      "יבואו עד מקום המערכה גבורי כתיים והמון אשׁור וחיל כול הגוים \n",
      "הנקהלים \n",
      "אם \n",
      "חללים \n",
      "נפלו שׁם בחרב אל \n"
     ]
    }
   ],
   "source": [
    "clauses = verse.to_clauses\n",
    "\n",
    "for clause in clauses:\n",
    "    print(clause.text)"
   ]
  },
  {
   "cell_type": "code",
   "execution_count": 420,
   "id": "beefaff1",
   "metadata": {},
   "outputs": [
    {
     "name": "stdout",
     "output_type": "stream",
     "text": [
      "יבואו עד מקום המערכה גבורי כתיים והמון אשׁור וחיל כול הגוים \n"
     ]
    }
   ],
   "source": [
    "clause = verb.to_clauses\n",
    "print(clause.text)"
   ]
  },
  {
   "cell_type": "code",
   "execution_count": 421,
   "id": "e16f6ce6",
   "metadata": {},
   "outputs": [
    {
     "name": "stdout",
     "output_type": "stream",
     "text": [
      "JBW>W , Pred , יבואו  , ['בוא']\n",
      "<D MQWM H M<RKH , Cmpl , עד מקום המערכה  , ['עד', 'מקום', 'ה', 'מערכה']\n",
      "GBWRJ KTJJM W HMWN >CWR W XJL KWL H GWJM , Subj , גבורי כתיים והמון אשׁור וחיל כול הגוים  , ['גבור', 'כתי', 'ו', 'המון', 'אשׁור', 'ו', 'חיל', 'כל', 'ה', 'גוי']\n"
     ]
    }
   ],
   "source": [
    "phrases = clause.to_phrases\n",
    "\n",
    "for phrase in phrases:\n",
    "    print(phrase, \",\", phrase.function[0], \",\", phrase.text, \",\", phrase.to_words.lex_utf8)"
   ]
  },
  {
   "cell_type": "code",
   "execution_count": 422,
   "id": "330680e8",
   "metadata": {},
   "outputs": [
    {
     "data": {
      "text/plain": [
       "<phrase_1 \"<D MQWM H M<RKH\">"
      ]
     },
     "execution_count": 422,
     "metadata": {},
     "output_type": "execute_result"
    }
   ],
   "source": [
    "cmpl = verb.to_clauses.to_phrases.filter(function=\"Cmpl\")\n",
    "cmpl"
   ]
  },
  {
   "cell_type": "code",
   "execution_count": 423,
   "id": "6b22f404",
   "metadata": {},
   "outputs": [
    {
     "name": "stdout",
     "output_type": "stream",
     "text": [
      "עד מקום המערכה \n"
     ]
    }
   ],
   "source": [
    "print(cmpl.text)"
   ]
  },
  {
   "cell_type": "code",
   "execution_count": 424,
   "id": "2d434db5",
   "metadata": {},
   "outputs": [
    {
     "name": "stdout",
     "output_type": "stream",
     "text": [
      "עד  prep עד\n",
      "מקום  subs מקום\n",
      "ה art ה\n",
      "מערכה  subs מערכה\n"
     ]
    }
   ],
   "source": [
    "for word in cmpl.to_words:\n",
    "    print(word.text, word.sp[0], word.lex_utf8[0])"
   ]
  },
  {
   "cell_type": "code",
   "execution_count": 380,
   "id": "a0bee777",
   "metadata": {},
   "outputs": [
    {
     "data": {
      "text/plain": [
       "<none_0 \"\">"
      ]
     },
     "execution_count": 380,
     "metadata": {},
     "output_type": "execute_result"
    }
   ],
   "source": [
    "cmpl.to_words"
   ]
  },
  {
   "cell_type": "code",
   "execution_count": null,
   "id": "57c366c8",
   "metadata": {},
   "outputs": [],
   "source": []
  },
  {
   "cell_type": "code",
   "execution_count": null,
   "id": "b1830383",
   "metadata": {},
   "outputs": [],
   "source": []
  },
  {
   "cell_type": "code",
   "execution_count": null,
   "id": "8fee1d79",
   "metadata": {},
   "outputs": [],
   "source": []
  }
 ],
 "metadata": {
  "kernelspec": {
   "display_name": "Python 3 (ipykernel)",
   "language": "python",
   "name": "python3"
  },
  "language_info": {
   "codemirror_mode": {
    "name": "ipython",
    "version": 3
   },
   "file_extension": ".py",
   "mimetype": "text/x-python",
   "name": "python",
   "nbconvert_exporter": "python",
   "pygments_lexer": "ipython3",
   "version": "3.9.16"
  }
 },
 "nbformat": 4,
 "nbformat_minor": 5
}
