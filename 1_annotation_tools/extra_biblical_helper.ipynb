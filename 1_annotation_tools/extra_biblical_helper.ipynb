{
 "cells": [
  {
   "cell_type": "code",
   "execution_count": 1,
   "id": "602532a2",
   "metadata": {},
   "outputs": [],
   "source": [
    "from tfob import TFOb, get_xb"
   ]
  },
  {
   "cell_type": "code",
   "execution_count": 2,
   "id": "494fdc60",
   "metadata": {},
   "outputs": [],
   "source": [
    "XB = get_xb()"
   ]
  },
  {
   "cell_type": "code",
   "execution_count": 55,
   "id": "f67f4d39",
   "metadata": {},
   "outputs": [
    {
     "data": {
      "text/plain": [
       "'קרבתי '"
      ]
     },
     "execution_count": 55,
     "metadata": {},
     "output_type": "execute_result"
    }
   ],
   "source": [
    "verb = TFOb(2124, XB)\n",
    "verb\n",
    "verb.text"
   ]
  },
  {
   "cell_type": "code",
   "execution_count": 56,
   "id": "2858c16f",
   "metadata": {},
   "outputs": [
    {
     "data": {
      "text/plain": [
       "'ואני על דבריכ קרבתי ל ל '"
      ]
     },
     "execution_count": 56,
     "metadata": {},
     "output_type": "execute_result"
    }
   ],
   "source": [
    "verse = verb.to_verses.text\n",
    "verse"
   ]
  },
  {
   "cell_type": "code",
   "execution_count": 57,
   "id": "beefaff1",
   "metadata": {},
   "outputs": [
    {
     "data": {
      "text/plain": [
       "'ואני על דבריכ קרבתי '"
      ]
     },
     "execution_count": 57,
     "metadata": {},
     "output_type": "execute_result"
    }
   ],
   "source": [
    "clause = verb.to_clauses\n",
    "clause.text"
   ]
  },
  {
   "cell_type": "code",
   "execution_count": 58,
   "id": "e16f6ce6",
   "metadata": {},
   "outputs": [
    {
     "name": "stdout",
     "output_type": "stream",
     "text": [
      "W , Conj\n",
      ">NJ , Subj\n",
      "<L DBRJ K , Cmpl\n",
      "QRBTJ , Pred\n"
     ]
    }
   ],
   "source": [
    "phrases = clause.to_phrases\n",
    "\n",
    "for phrase in phrases:\n",
    "    print(phrase, \",\", phrase.function[0])"
   ]
  },
  {
   "cell_type": "code",
   "execution_count": 59,
   "id": "330680e8",
   "metadata": {},
   "outputs": [
    {
     "data": {
      "text/plain": [
       "<phrase_1 \"<L DBRJ K\">"
      ]
     },
     "execution_count": 59,
     "metadata": {},
     "output_type": "execute_result"
    }
   ],
   "source": [
    "cmpl = verb.to_clauses.to_phrases.filter(function=\"Cmpl\")\n",
    "cmpl"
   ]
  },
  {
   "cell_type": "code",
   "execution_count": 35,
   "id": "6b22f404",
   "metadata": {},
   "outputs": [
    {
     "data": {
      "text/plain": [
       "'בדרך '"
      ]
     },
     "execution_count": 35,
     "metadata": {},
     "output_type": "execute_result"
    }
   ],
   "source": [
    "cmpl.text"
   ]
  },
  {
   "cell_type": "code",
   "execution_count": null,
   "id": "2d434db5",
   "metadata": {},
   "outputs": [],
   "source": []
  },
  {
   "cell_type": "code",
   "execution_count": null,
   "id": "a0bee777",
   "metadata": {},
   "outputs": [],
   "source": []
  }
 ],
 "metadata": {
  "kernelspec": {
   "display_name": "Python 3 (ipykernel)",
   "language": "python",
   "name": "python3"
  },
  "language_info": {
   "codemirror_mode": {
    "name": "ipython",
    "version": 3
   },
   "file_extension": ".py",
   "mimetype": "text/x-python",
   "name": "python",
   "nbconvert_exporter": "python",
   "pygments_lexer": "ipython3",
   "version": "3.9.16"
  }
 },
 "nbformat": 4,
 "nbformat_minor": 5
}
