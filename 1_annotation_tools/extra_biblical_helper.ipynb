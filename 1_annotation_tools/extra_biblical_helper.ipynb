{
 "cells": [
  {
   "cell_type": "code",
   "execution_count": 1,
   "id": "602532a2",
   "metadata": {},
   "outputs": [],
   "source": [
    "from tfob import TFOb, get_xb"
   ]
  },
  {
   "cell_type": "code",
   "execution_count": 2,
   "id": "494fdc60",
   "metadata": {},
   "outputs": [],
   "source": [
    "XB = get_xb()"
   ]
  },
  {
   "cell_type": "code",
   "execution_count": 225,
   "id": "2c025709",
   "metadata": {},
   "outputs": [],
   "source": [
    "verb_id = 18668"
   ]
  },
  {
   "cell_type": "code",
   "execution_count": 226,
   "id": "f67f4d39",
   "metadata": {},
   "outputs": [
    {
     "name": "stdout",
     "output_type": "stream",
     "text": [
      "תצא \n"
     ]
    }
   ],
   "source": [
    "verb = TFOb(verb_id, XB)\n",
    "print(verb.text)"
   ]
  },
  {
   "cell_type": "code",
   "execution_count": 227,
   "id": "2858c16f",
   "metadata": {},
   "outputs": [
    {
     "data": {
      "text/plain": [
       "'ואז תצא לנצח אמת תבל כיא התגוללה בדרכי רשׁע בממשׁלת עולה עד מועד משׁפט נחרצה '"
      ]
     },
     "execution_count": 227,
     "metadata": {},
     "output_type": "execute_result"
    }
   ],
   "source": [
    "verse = verb.to_verses\n",
    "verse.text"
   ]
  },
  {
   "cell_type": "code",
   "execution_count": 228,
   "id": "81f0e499",
   "metadata": {
    "scrolled": true
   },
   "outputs": [
    {
     "name": "stdout",
     "output_type": "stream",
     "text": [
      "ואז תצא לנצח אמת תבל \n",
      "כיא התגוללה בדרכי רשׁע בממשׁלת עולה עד מועד משׁפט נחרצה \n"
     ]
    }
   ],
   "source": [
    "clauses = verse.to_clauses\n",
    "\n",
    "for clause in clauses:\n",
    "    print(clause.text)"
   ]
  },
  {
   "cell_type": "code",
   "execution_count": 229,
   "id": "beefaff1",
   "metadata": {},
   "outputs": [
    {
     "name": "stdout",
     "output_type": "stream",
     "text": [
      "ואז תצא לנצח אמת תבל \n"
     ]
    }
   ],
   "source": [
    "clause = verb.to_clauses\n",
    "print(clause.text)"
   ]
  },
  {
   "cell_type": "code",
   "execution_count": 230,
   "id": "e16f6ce6",
   "metadata": {},
   "outputs": [
    {
     "name": "stdout",
     "output_type": "stream",
     "text": [
      "W , Conj , ו , ['ו']\n",
      ">Z , Time , אז  , ['אז']\n",
      "TY> , Pred , תצא  , ['יצא']\n",
      "L NYX , Adju , לנצח  , ['ל', 'נצח']\n",
      ">MT , Subj , אמת  , ['אמת']\n",
      "TBL , Cmpl , תבל  , ['תבל']\n"
     ]
    }
   ],
   "source": [
    "phrases = clause.to_phrases\n",
    "\n",
    "for phrase in phrases:\n",
    "    print(phrase, \",\", phrase.function[0], \",\", phrase.text, \",\", phrase.to_words.lex_utf8)"
   ]
  },
  {
   "cell_type": "code",
   "execution_count": 231,
   "id": "330680e8",
   "metadata": {},
   "outputs": [
    {
     "data": {
      "text/plain": [
       "<phrase_1 \"TBL\">"
      ]
     },
     "execution_count": 231,
     "metadata": {},
     "output_type": "execute_result"
    }
   ],
   "source": [
    "cmpl = verb.to_clauses.to_phrases.filter(function=\"Cmpl\")\n",
    "cmpl"
   ]
  },
  {
   "cell_type": "code",
   "execution_count": 222,
   "id": "6b22f404",
   "metadata": {},
   "outputs": [
    {
     "name": "stdout",
     "output_type": "stream",
     "text": [
      "\n"
     ]
    }
   ],
   "source": [
    "print(cmpl.text)"
   ]
  },
  {
   "cell_type": "code",
   "execution_count": 223,
   "id": "2d434db5",
   "metadata": {},
   "outputs": [],
   "source": [
    "for word in cmpl.to_words:\n",
    "    print(word.text, word.sp[0], word.lex_utf8[0])"
   ]
  },
  {
   "cell_type": "code",
   "execution_count": 224,
   "id": "a0bee777",
   "metadata": {},
   "outputs": [
    {
     "data": {
      "text/plain": [
       "<none_0 \"\">"
      ]
     },
     "execution_count": 224,
     "metadata": {},
     "output_type": "execute_result"
    }
   ],
   "source": [
    "cmpl.to_words"
   ]
  },
  {
   "cell_type": "code",
   "execution_count": null,
   "id": "57c366c8",
   "metadata": {},
   "outputs": [],
   "source": []
  },
  {
   "cell_type": "code",
   "execution_count": null,
   "id": "b1830383",
   "metadata": {},
   "outputs": [],
   "source": []
  },
  {
   "cell_type": "code",
   "execution_count": null,
   "id": "8fee1d79",
   "metadata": {},
   "outputs": [],
   "source": []
  }
 ],
 "metadata": {
  "kernelspec": {
   "display_name": "Python 3 (ipykernel)",
   "language": "python",
   "name": "python3"
  },
  "language_info": {
   "codemirror_mode": {
    "name": "ipython",
    "version": 3
   },
   "file_extension": ".py",
   "mimetype": "text/x-python",
   "name": "python",
   "nbconvert_exporter": "python",
   "pygments_lexer": "ipython3",
   "version": "3.9.16"
  }
 },
 "nbformat": 4,
 "nbformat_minor": 5
}
