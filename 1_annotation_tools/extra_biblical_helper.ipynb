{
 "cells": [
  {
   "cell_type": "code",
   "execution_count": 1,
   "id": "602532a2",
   "metadata": {},
   "outputs": [],
   "source": [
    "from tfob import TFOb, get_xb"
   ]
  },
  {
   "cell_type": "code",
   "execution_count": 2,
   "id": "494fdc60",
   "metadata": {},
   "outputs": [],
   "source": [
    "XB = get_xb()"
   ]
  },
  {
   "cell_type": "code",
   "execution_count": 131,
   "id": "f67f4d39",
   "metadata": {},
   "outputs": [
    {
     "name": "stdout",
     "output_type": "stream",
     "text": [
      "השׁיב \n"
     ]
    }
   ],
   "source": [
    "verb = TFOb(10844, XB)\n",
    "print(verb.text)"
   ]
  },
  {
   "cell_type": "code",
   "execution_count": 132,
   "id": "2858c16f",
   "metadata": {},
   "outputs": [
    {
     "data": {
      "text/plain": [
       "'להשׁיב דבר כפיכה ו לרץ ה ב '"
      ]
     },
     "execution_count": 132,
     "metadata": {},
     "output_type": "execute_result"
    }
   ],
   "source": [
    "verse = verb.to_verses\n",
    "verse.text"
   ]
  },
  {
   "cell_type": "code",
   "execution_count": 133,
   "id": "81f0e499",
   "metadata": {},
   "outputs": [
    {
     "name": "stdout",
     "output_type": "stream",
     "text": [
      "להשׁיב דבר כפיכה \n",
      "ו \n",
      "לרץ ה \n",
      "ב \n"
     ]
    }
   ],
   "source": [
    "clauses = verse.to_clauses\n",
    "\n",
    "for clause in clauses:\n",
    "    print(clause.text)"
   ]
  },
  {
   "cell_type": "code",
   "execution_count": 134,
   "id": "beefaff1",
   "metadata": {},
   "outputs": [
    {
     "name": "stdout",
     "output_type": "stream",
     "text": [
      "להשׁיב דבר כפיכה \n"
     ]
    }
   ],
   "source": [
    "clause = verb.to_clauses\n",
    "print(clause.text)"
   ]
  },
  {
   "cell_type": "code",
   "execution_count": 135,
   "id": "e16f6ce6",
   "metadata": {},
   "outputs": [
    {
     "name": "stdout",
     "output_type": "stream",
     "text": [
      "L HCJB , Pred , להשׁיב  , ['ל', 'שׁוב']\n",
      "DBR , Objc , דבר  , ['דבר']\n",
      "K PJ KH , Adju , כפיכה  , ['כ', 'פה', 'כ']\n"
     ]
    }
   ],
   "source": [
    "phrases = clause.to_phrases\n",
    "\n",
    "for phrase in phrases:\n",
    "    print(phrase, \",\", phrase.function[0], \",\", phrase.text, \",\", phrase.to_words.lex_utf8)"
   ]
  },
  {
   "cell_type": "code",
   "execution_count": 136,
   "id": "330680e8",
   "metadata": {},
   "outputs": [
    {
     "data": {
      "text/plain": [
       "<none_0 \"\">"
      ]
     },
     "execution_count": 136,
     "metadata": {},
     "output_type": "execute_result"
    }
   ],
   "source": [
    "cmpl = verb.to_clauses.to_phrases.filter(function=\"Cmpl\")\n",
    "cmpl"
   ]
  },
  {
   "cell_type": "code",
   "execution_count": 137,
   "id": "6b22f404",
   "metadata": {},
   "outputs": [
    {
     "name": "stdout",
     "output_type": "stream",
     "text": [
      "\n"
     ]
    }
   ],
   "source": [
    "print(cmpl.text)"
   ]
  },
  {
   "cell_type": "code",
   "execution_count": 117,
   "id": "2d434db5",
   "metadata": {},
   "outputs": [],
   "source": [
    "for word in cmpl.to_words:\n",
    "    print(word.text, word.sp[0], word.lex_utf8[0])"
   ]
  },
  {
   "cell_type": "code",
   "execution_count": 109,
   "id": "a0bee777",
   "metadata": {},
   "outputs": [
    {
     "data": {
      "text/plain": [
       "<word_2 \"LB J\">"
      ]
     },
     "execution_count": 109,
     "metadata": {},
     "output_type": "execute_result"
    }
   ],
   "source": [
    "cmpl.to_words"
   ]
  },
  {
   "cell_type": "code",
   "execution_count": null,
   "id": "57c366c8",
   "metadata": {},
   "outputs": [],
   "source": []
  },
  {
   "cell_type": "code",
   "execution_count": null,
   "id": "b1830383",
   "metadata": {},
   "outputs": [],
   "source": []
  },
  {
   "cell_type": "code",
   "execution_count": null,
   "id": "8fee1d79",
   "metadata": {},
   "outputs": [],
   "source": []
  }
 ],
 "metadata": {
  "kernelspec": {
   "display_name": "Python 3 (ipykernel)",
   "language": "python",
   "name": "python3"
  },
  "language_info": {
   "codemirror_mode": {
    "name": "ipython",
    "version": 3
   },
   "file_extension": ".py",
   "mimetype": "text/x-python",
   "name": "python",
   "nbconvert_exporter": "python",
   "pygments_lexer": "ipython3",
   "version": "3.9.16"
  }
 },
 "nbformat": 4,
 "nbformat_minor": 5
}
