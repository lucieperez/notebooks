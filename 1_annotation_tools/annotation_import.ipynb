{
 "cells": [
  {
   "cell_type": "code",
   "execution_count": 1,
   "id": "0340e76a",
   "metadata": {},
   "outputs": [],
   "source": [
    "from annotation_widgets2 import (\n",
    "    get_session_start_index,\n",
    "    display_row,\n",
    "    save_annotation_details,\n",
    "    save_dataframe,\n",
    "    df,\n",
    "    df_name,\n",
    "    get_current_index,\n",
    ")"
   ]
  },
  {
   "cell_type": "code",
   "execution_count": 2,
   "id": "1ac8bfe6",
   "metadata": {},
   "outputs": [],
   "source": [
    "session_start_index = get_current_index()"
   ]
  },
  {
   "cell_type": "code",
   "execution_count": 3,
   "id": "812a0d4c",
   "metadata": {},
   "outputs": [
    {
     "data": {
      "text/html": [
       "<div>\n",
       "<style scoped>\n",
       "    .dataframe tbody tr th:only-of-type {\n",
       "        vertical-align: middle;\n",
       "    }\n",
       "\n",
       "    .dataframe tbody tr th {\n",
       "        vertical-align: top;\n",
       "    }\n",
       "\n",
       "    .dataframe thead th {\n",
       "        text-align: right;\n",
       "    }\n",
       "</style>\n",
       "<table border=\"1\" class=\"dataframe\">\n",
       "  <thead>\n",
       "    <tr style=\"text-align: right;\">\n",
       "      <th></th>\n",
       "      <th>verb_id</th>\n",
       "      <th>lex</th>\n",
       "      <th>scroll</th>\n",
       "      <th>book</th>\n",
       "      <th>chapter</th>\n",
       "      <th>verse_num</th>\n",
       "      <th>gcons_verb</th>\n",
       "      <th>gcons_verse</th>\n",
       "      <th>sign_info</th>\n",
       "      <th>stem</th>\n",
       "      <th>tense</th>\n",
       "    </tr>\n",
       "  </thead>\n",
       "  <tbody>\n",
       "    <tr>\n",
       "      <th>660</th>\n",
       "      <td>1907455</td>\n",
       "      <td>JY&gt;[</td>\n",
       "      <td>1Qisaa</td>\n",
       "      <td>Isaiah</td>\n",
       "      <td>36</td>\n",
       "      <td>16</td>\n",
       "      <td>Y&gt;W</td>\n",
       "      <td>&gt;L TCM&lt;W &gt;L XWZQJH KJ&gt; KWH &gt;MR MLK &gt;CWR &lt;FW &gt;TJ BRKH W Y&gt;W &gt;LJ W &gt;KWLW &gt;JC &gt;T GPNW W &gt;JC &gt;T TNTW W CTW &gt;JC MJ BWRW</td>\n",
       "      <td>00 00000 00 000000 000 000 000 000 0000 000 0000 0000 0 000 0000 0 00000 000 00 00000 0 000 00 00000 0 000 000 00 00000 00</td>\n",
       "      <td>qal</td>\n",
       "      <td>impv</td>\n",
       "    </tr>\n",
       "  </tbody>\n",
       "</table>\n",
       "</div>"
      ],
      "text/plain": [
       "     verb_id   lex  scroll    book  chapter  verse_num gcons_verb  \\\n",
       "660  1907455  JY>[  1Qisaa  Isaiah       36         16        Y>W   \n",
       "\n",
       "                                                                                                            gcons_verse  \\\n",
       "660  >L TCM<W >L XWZQJH KJ> KWH >MR MLK >CWR <FW >TJ BRKH W Y>W >LJ W >KWLW >JC >T GPNW W >JC >T TNTW W CTW >JC MJ BWRW   \n",
       "\n",
       "                                                                                                                      sign_info  \\\n",
       "660  00 00000 00 000000 000 000 000 000 0000 000 0000 0000 0 000 0000 0 00000 000 00 00000 0 000 00 00000 0 000 000 00 00000 00   \n",
       "\n",
       "    stem tense  \n",
       "660  qal  impv  "
      ]
     },
     "metadata": {},
     "output_type": "display_data"
    },
    {
     "data": {
      "text/html": [
       "<div>\n",
       "<style scoped>\n",
       "    .dataframe tbody tr th:only-of-type {\n",
       "        vertical-align: middle;\n",
       "    }\n",
       "\n",
       "    .dataframe tbody tr th {\n",
       "        vertical-align: top;\n",
       "    }\n",
       "\n",
       "    .dataframe thead th {\n",
       "        text-align: right;\n",
       "    }\n",
       "</style>\n",
       "<table border=\"1\" class=\"dataframe\">\n",
       "  <thead>\n",
       "    <tr style=\"text-align: right;\">\n",
       "      <th></th>\n",
       "      <th>gcons_clause</th>\n",
       "      <th>subject</th>\n",
       "      <th>complement</th>\n",
       "      <th>cmpl_lex</th>\n",
       "      <th>cmpl_translation</th>\n",
       "      <th>dir_he</th>\n",
       "      <th>cmpl_constr</th>\n",
       "      <th>cmpl_nt</th>\n",
       "      <th>cmpl_anim</th>\n",
       "      <th>cmpl_det</th>\n",
       "      <th>cmpl_indiv</th>\n",
       "      <th>cmpl_complex</th>\n",
       "    </tr>\n",
       "  </thead>\n",
       "  <tbody>\n",
       "    <tr>\n",
       "      <th>660</th>\n",
       "      <td>W Y&gt;W &gt;LJ</td>\n",
       "      <td></td>\n",
       "      <td>&gt;LJ</td>\n",
       "      <td>no complement</td>\n",
       "      <td></td>\n",
       "      <td>0</td>\n",
       "      <td></td>\n",
       "      <td></td>\n",
       "      <td></td>\n",
       "      <td></td>\n",
       "      <td></td>\n",
       "      <td></td>\n",
       "    </tr>\n",
       "  </tbody>\n",
       "</table>\n",
       "</div>"
      ],
      "text/plain": [
       "    gcons_clause subject complement       cmpl_lex cmpl_translation dir_he  \\\n",
       "660    W Y>W >LJ                >LJ  no complement                       0   \n",
       "\n",
       "    cmpl_constr cmpl_nt cmpl_anim cmpl_det cmpl_indiv cmpl_complex  \n",
       "660                                                                 "
      ]
     },
     "metadata": {},
     "output_type": "display_data"
    },
    {
     "data": {
      "text/html": [
       "<div>\n",
       "<style scoped>\n",
       "    .dataframe tbody tr th:only-of-type {\n",
       "        vertical-align: middle;\n",
       "    }\n",
       "\n",
       "    .dataframe tbody tr th {\n",
       "        vertical-align: top;\n",
       "    }\n",
       "\n",
       "    .dataframe thead th {\n",
       "        text-align: right;\n",
       "    }\n",
       "</style>\n",
       "<table border=\"1\" class=\"dataframe\">\n",
       "  <thead>\n",
       "    <tr style=\"text-align: right;\">\n",
       "      <th></th>\n",
       "      <th>motion_type</th>\n",
       "      <th>preposition_1</th>\n",
       "      <th>preposition_2</th>\n",
       "      <th>preposition_3</th>\n",
       "      <th>preposition_4</th>\n",
       "      <th>comments</th>\n",
       "    </tr>\n",
       "  </thead>\n",
       "  <tbody>\n",
       "    <tr>\n",
       "      <th>660</th>\n",
       "      <td></td>\n",
       "      <td>&gt;L</td>\n",
       "      <td></td>\n",
       "      <td></td>\n",
       "      <td></td>\n",
       "      <td></td>\n",
       "    </tr>\n",
       "  </tbody>\n",
       "</table>\n",
       "</div>"
      ],
      "text/plain": [
       "    motion_type preposition_1 preposition_2 preposition_3 preposition_4  \\\n",
       "660                        >L                                             \n",
       "\n",
       "    comments  \n",
       "660           "
      ]
     },
     "metadata": {},
     "output_type": "display_data"
    },
    {
     "data": {
      "application/vnd.jupyter.widget-view+json": {
       "model_id": "3bb12148533d473bb84408758adc4560",
       "version_major": 2,
       "version_minor": 0
      },
      "text/plain": [
       "HTML(value=\"<b>Annotate 'cmpl_translation':</b>\")"
      ]
     },
     "metadata": {},
     "output_type": "display_data"
    },
    {
     "data": {
      "application/vnd.jupyter.widget-view+json": {
       "model_id": "d0962c416c8a4e5d980e29ddf9e6f86a",
       "version_major": 2,
       "version_minor": 0
      },
      "text/plain": [
       "Textarea(value='', layout=Layout(height='100px', width='100%'), placeholder='Type your annotation here')"
      ]
     },
     "metadata": {},
     "output_type": "display_data"
    },
    {
     "data": {
      "application/vnd.jupyter.widget-view+json": {
       "model_id": "475019b8171f47188669379bc059c388",
       "version_major": 2,
       "version_minor": 0
      },
      "text/plain": [
       "HBox(children=(Button(button_style='primary', description='Previous Column', icon='arrow-left', style=ButtonSt…"
      ]
     },
     "metadata": {},
     "output_type": "display_data"
    },
    {
     "data": {
      "application/vnd.jupyter.widget-view+json": {
       "model_id": "cca16f3611dc4393bfbbfe3c4ad3eb28",
       "version_major": 2,
       "version_minor": 0
      },
      "text/plain": [
       "HBox(children=(Button(button_style='warning', description='Previous Row', icon='arrow-left', style=ButtonStyle…"
      ]
     },
     "metadata": {},
     "output_type": "display_data"
    }
   ],
   "source": [
    "display_row(get_current_index(), col_index=0)\n",
    "\n",
    "# return to Isaiajh 31:8 after discussion!"
   ]
  },
  {
   "cell_type": "code",
   "execution_count": null,
   "id": "0b0d51ca",
   "metadata": {},
   "outputs": [],
   "source": [
    "df.iloc[[get_current_index() - 2]]"
   ]
  },
  {
   "cell_type": "markdown",
   "id": "97f13ebe",
   "metadata": {},
   "source": [
    "#### Buttons legend\n",
    "\n",
    "\n",
    "<div style=\"text-align: center;\">Name types</div>\n",
    "\n",
    "\n",
    "| Button    | Description                                   |\n",
    "|-----------|:----------------------------------------------|\n",
    "| abs       | abstract nouns (freedom, judgments, etc)      |\n",
    "| adv       | adverb                                        |\n",
    "| bopa      | body part                                     |\n",
    "| dir       | direction                                     |\n",
    "| gens      | people                                        |\n",
    "| mens      | measurement unit                              |\n",
    "| na        | non applicable                                |\n",
    "| obj       | object, thing                                 |\n",
    "| occ       | occupation, work, activities, etc             |\n",
    "| other     | other                                         |\n",
    "| pers      | person                                        |\n",
    "| phen      | phenomenon (sound, light, weather, etc)       |\n",
    "| ppde      | demonstrative personal pronoun                |\n",
    "| ppin      | interrogative pronoun                         |\n",
    "| prps      | personal pronoun                              |\n",
    "| topo      | place                                         |\n",
    "\n",
    "***   \n",
    "\n",
    "<div style=\"text-align: center;\">Animacy</div>\n",
    "\n",
    "\n",
    "| Button       | Description             |\n",
    "| -------------|:------------------------|\n",
    "| anim         | animate                 |\n",
    "| inanim       | inanimate               |\n",
    "| anim inanim  | to be determined later  |\n",
    "\n",
    "***\n",
    "\n",
    "<div style=\"text-align: center;\">Individuation</div>\n",
    "\n",
    "\n",
    "| Button | Description           |\n",
    "|--------|:----------------------|\n",
    "| adv    | adverb                |\n",
    "| nmpr   | proper noun           |\n",
    "| ppin   | interrogative pronoun |\n",
    "| prsf   | pronominal suffix     |\n",
    "| subs   | substantive           |\n",
    "\n",
    "***\n",
    "\n",
    "<div style=\"text-align: center;\">Complexity</div>\n",
    "\n",
    "\n",
    "| Button   | Description                           |\n",
    "|----------|:--------------------------------------|\n",
    "| complex  | more than one morpheme                |\n",
    "| simple   | one morpheme (excluding prepositions) |\n",
    "\n",
    "\n",
    "***\n",
    "\n",
    "<div style=\"text-align: center;\">Motion types</div>\n",
    "\n",
    "\n",
    "| Button          | Description                            |\n",
    "|-----------------|----------------------------------------|\n",
    "| factive         | factive (actual) motion                |\n",
    "| fictive         | fictive (non actual) motion            |\n",
    "| factive fictive | unsure, to be determined later on      |\n",
    "\n",
    "\n",
    "#### Factive motion checklist:\n",
    "- something or someone *physical* in the expression goes through a change of position from a point A or to a point B (or both)\n",
    "\n",
    "#### Complexity:\n",
    "- noun + definite article : simple\n",
    "- noun + personal pronoun : complex\n"
   ]
  },
  {
   "cell_type": "code",
   "execution_count": null,
   "id": "1dbfefed",
   "metadata": {},
   "outputs": [],
   "source": [
    "#fully_annotated_rows = count_fully_annotated_rows(df, columns_to_annotate)\n",
    "save_annotation_details(df, get_current_index(), session_start_index)"
   ]
  },
  {
   "cell_type": "code",
   "execution_count": null,
   "id": "876437e3",
   "metadata": {},
   "outputs": [],
   "source": [
    "# Example call - replace 'df' and 'DataFrame_Name' with your actual DataFrame variable and its name\n",
    "save_dataframe(df, df_name)"
   ]
  },
  {
   "cell_type": "code",
   "execution_count": null,
   "id": "e5bb8ed6",
   "metadata": {},
   "outputs": [],
   "source": [
    "get_current_index() - session_start_index"
   ]
  },
  {
   "cell_type": "code",
   "execution_count": null,
   "id": "e9047eb0",
   "metadata": {},
   "outputs": [],
   "source": [
    "print(get_current_index())\n",
    "print(len(df))"
   ]
  },
  {
   "cell_type": "code",
   "execution_count": null,
   "id": "29119414",
   "metadata": {},
   "outputs": [],
   "source": []
  }
 ],
 "metadata": {
  "kernelspec": {
   "display_name": "Python 3 (ipykernel)",
   "language": "python",
   "name": "python3"
  },
  "language_info": {
   "codemirror_mode": {
    "name": "ipython",
    "version": 3
   },
   "file_extension": ".py",
   "mimetype": "text/x-python",
   "name": "python",
   "nbconvert_exporter": "python",
   "pygments_lexer": "ipython3",
   "version": "3.9.16"
  }
 },
 "nbformat": 4,
 "nbformat_minor": 5
}
