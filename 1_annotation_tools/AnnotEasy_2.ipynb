{
 "cells": [
  {
   "cell_type": "code",
   "execution_count": 1,
   "id": "fa0367e8",
   "metadata": {},
   "outputs": [],
   "source": [
    "from AnnotEasy import AnnotationTool\n",
    "import datetime"
   ]
  },
  {
   "cell_type": "code",
   "execution_count": 2,
   "id": "7fbd1986",
   "metadata": {},
   "outputs": [],
   "source": [
    "# Paths to your files\n",
    "csv_file_path = 'data/biblical_datasets/deuteronomy_locatives/annotation_df_history/deuteronomy_with_loca.csv'  # Update this path\n",
    "history_file_path = 'data/biblical_datasets/deuteronomy_locatives/annotation_df_history/annotation_tracks.txt'  # Update this path\n",
    "\n",
    "# Create an instance of the AnnotationTool\n",
    "annotation_tool = AnnotationTool(csv_file_path, history_file_path)\n",
    "start_index = 0"
   ]
  },
  {
   "cell_type": "code",
   "execution_count": 3,
   "id": "6b16075a",
   "metadata": {},
   "outputs": [
    {
     "data": {
      "application/vnd.jupyter.widget-view+json": {
       "model_id": "fddfb70c228149cf845736ecda98f8b4",
       "version_major": 2,
       "version_minor": 0
      },
      "text/plain": [
       "HBox(children=(IntText(value=650, description='Index:', layout=Layout(width='200px')), Button(description='Jum…"
      ]
     },
     "metadata": {},
     "output_type": "display_data"
    }
   ],
   "source": [
    "annotation_tool.display_jump_widget()"
   ]
  },
  {
   "cell_type": "code",
   "execution_count": 7,
   "id": "570e2a68",
   "metadata": {},
   "outputs": [
    {
     "data": {
      "application/vnd.jupyter.widget-view+json": {
       "model_id": "4208e32db7424a35b0a7815b67b557e9",
       "version_major": 2,
       "version_minor": 0
      },
      "text/plain": [
       "VBox(children=(Text(value='', description='verb_id:'), Text(value='', description='lex:'), Text(value='', desc…"
      ]
     },
     "metadata": {},
     "output_type": "display_data"
    },
    {
     "data": {
      "application/vnd.jupyter.widget-view+json": {
       "model_id": "9e3c66bb222e4d8989351067d676d334",
       "version_major": 2,
       "version_minor": 0
      },
      "text/plain": [
       "Button(button_style='success', description='Add row', style=ButtonStyle(), tooltip='Click to add a new row')"
      ]
     },
     "metadata": {},
     "output_type": "display_data"
    },
    {
     "name": "stdout",
     "output_type": "stream",
     "text": [
      "A new row has been added at index 708 with the following information:\n",
      "\n",
      "\n",
      "              verb_id: 1987423, \n",
      "              lex: JY>[, \n",
      "              gcons_verb: JY>T, \n",
      "              stem: qal, \n",
      "              tense: perf\n",
      "\n"
     ]
    }
   ],
   "source": [
    "# Uncomment to add a extra row after the current row displayed\n",
    "#display(annotation_tool.user_inputs, annotation_tool.add_row_button)"
   ]
  },
  {
   "cell_type": "code",
   "execution_count": 18,
   "id": "9b426a9f",
   "metadata": {},
   "outputs": [
    {
     "name": "stdout",
     "output_type": "stream",
     "text": [
      "Enter the index of the row to delete: 862\n",
      "Row at index 862 has been deleted.\n"
     ]
    }
   ],
   "source": [
    "# Uncomment to delete a row and specify the index\n",
    "index_to_delete = int(input(\"Enter the index of the row to delete: \"))\n",
    "annotation_tool.delete_row(index_to_delete)"
   ]
  },
  {
   "cell_type": "code",
   "execution_count": 19,
   "id": "87ffabc0",
   "metadata": {
    "scrolled": false
   },
   "outputs": [
    {
     "data": {
      "text/html": [
       "<div>\n",
       "<style scoped>\n",
       "    .dataframe tbody tr th:only-of-type {\n",
       "        vertical-align: middle;\n",
       "    }\n",
       "\n",
       "    .dataframe tbody tr th {\n",
       "        vertical-align: top;\n",
       "    }\n",
       "\n",
       "    .dataframe thead th {\n",
       "        text-align: right;\n",
       "    }\n",
       "</style>\n",
       "<table border=\"1\" class=\"dataframe\">\n",
       "  <thead>\n",
       "    <tr style=\"text-align: right;\">\n",
       "      <th></th>\n",
       "      <th>verb_id</th>\n",
       "      <th>lex</th>\n",
       "      <th>scroll</th>\n",
       "      <th>book</th>\n",
       "      <th>chapter</th>\n",
       "      <th>verse_num</th>\n",
       "      <th>gcons_verb</th>\n",
       "      <th>gcons_verse</th>\n",
       "      <th>sign_info</th>\n",
       "      <th>stem</th>\n",
       "      <th>tense</th>\n",
       "    </tr>\n",
       "  </thead>\n",
       "  <tbody>\n",
       "    <tr>\n",
       "      <th>903</th>\n",
       "      <td>110197</td>\n",
       "      <td>CWB[</td>\n",
       "      <td>MT</td>\n",
       "      <td>Deuteronomy</td>\n",
       "      <td>30</td>\n",
       "      <td>1</td>\n",
       "      <td>HCBT</td>\n",
       "      <td>W HJH KJ JB&gt;W &lt;LJK KL H DBRJM H &gt;LH H BRKH W H QLLH &gt;CR NTTJ L PNJK W HCBT &gt;L LBBK B KL H GWJM &gt;CR HDJXK JHWH &gt;LHJK CMH</td>\n",
       "      <td></td>\n",
       "      <td>hif</td>\n",
       "      <td>perf</td>\n",
       "    </tr>\n",
       "  </tbody>\n",
       "</table>\n",
       "</div>"
      ],
      "text/plain": [
       "    verb_id   lex scroll         book  chapter  verse_num gcons_verb  \\\n",
       "903  110197  CWB[     MT  Deuteronomy       30          1       HCBT   \n",
       "\n",
       "                                                                                                                 gcons_verse  \\\n",
       "903  W HJH KJ JB>W <LJK KL H DBRJM H >LH H BRKH W H QLLH >CR NTTJ L PNJK W HCBT >L LBBK B KL H GWJM >CR HDJXK JHWH >LHJK CMH   \n",
       "\n",
       "    sign_info stem tense  \n",
       "903            hif  perf  "
      ]
     },
     "metadata": {},
     "output_type": "display_data"
    },
    {
     "data": {
      "text/html": [
       "<div>\n",
       "<style scoped>\n",
       "    .dataframe tbody tr th:only-of-type {\n",
       "        vertical-align: middle;\n",
       "    }\n",
       "\n",
       "    .dataframe tbody tr th {\n",
       "        vertical-align: top;\n",
       "    }\n",
       "\n",
       "    .dataframe thead th {\n",
       "        text-align: right;\n",
       "    }\n",
       "</style>\n",
       "<table border=\"1\" class=\"dataframe\">\n",
       "  <thead>\n",
       "    <tr style=\"text-align: right;\">\n",
       "      <th></th>\n",
       "      <th>gcons_clause</th>\n",
       "      <th>subject</th>\n",
       "      <th>complement</th>\n",
       "      <th>cmpl_lex</th>\n",
       "      <th>cmpl_translation</th>\n",
       "      <th>dir_he</th>\n",
       "      <th>cmpl_constr</th>\n",
       "      <th>cmpl_nt</th>\n",
       "      <th>cmpl_anim</th>\n",
       "      <th>cmpl_det</th>\n",
       "      <th>cmpl_indiv</th>\n",
       "      <th>cmpl_complex</th>\n",
       "    </tr>\n",
       "  </thead>\n",
       "  <tbody>\n",
       "    <tr>\n",
       "      <th>903</th>\n",
       "      <td>W HCBT &gt;L LBBK B KL H GWJM</td>\n",
       "      <td></td>\n",
       "      <td>&gt;L LBBK</td>\n",
       "      <td>&gt;L LBB/</td>\n",
       "      <td>to your mind</td>\n",
       "      <td>0</td>\n",
       "      <td>prep</td>\n",
       "      <td>abs</td>\n",
       "      <td>inanim</td>\n",
       "      <td>det</td>\n",
       "      <td>subs</td>\n",
       "      <td>complex</td>\n",
       "    </tr>\n",
       "  </tbody>\n",
       "</table>\n",
       "</div>"
      ],
      "text/plain": [
       "                   gcons_clause subject complement cmpl_lex cmpl_translation  \\\n",
       "903  W HCBT >L LBBK B KL H GWJM            >L LBBK  >L LBB/     to your mind   \n",
       "\n",
       "    dir_he cmpl_constr cmpl_nt cmpl_anim cmpl_det cmpl_indiv cmpl_complex  \n",
       "903      0        prep     abs    inanim      det       subs      complex  "
      ]
     },
     "metadata": {},
     "output_type": "display_data"
    },
    {
     "data": {
      "text/html": [
       "<div>\n",
       "<style scoped>\n",
       "    .dataframe tbody tr th:only-of-type {\n",
       "        vertical-align: middle;\n",
       "    }\n",
       "\n",
       "    .dataframe tbody tr th {\n",
       "        vertical-align: top;\n",
       "    }\n",
       "\n",
       "    .dataframe thead th {\n",
       "        text-align: right;\n",
       "    }\n",
       "</style>\n",
       "<table border=\"1\" class=\"dataframe\">\n",
       "  <thead>\n",
       "    <tr style=\"text-align: right;\">\n",
       "      <th></th>\n",
       "      <th>motion_type</th>\n",
       "      <th>preposition_1</th>\n",
       "      <th>preposition_2</th>\n",
       "      <th>preposition_3</th>\n",
       "      <th>preposition_4</th>\n",
       "      <th>preposition_5</th>\n",
       "      <th>preposition_6</th>\n",
       "      <th>comments</th>\n",
       "      <th>reconstructed_verse</th>\n",
       "    </tr>\n",
       "  </thead>\n",
       "  <tbody>\n",
       "    <tr>\n",
       "      <th>903</th>\n",
       "      <td>fictive</td>\n",
       "      <td>&gt;L</td>\n",
       "      <td></td>\n",
       "      <td></td>\n",
       "      <td></td>\n",
       "      <td></td>\n",
       "      <td></td>\n",
       "      <td>bring them back to your mind, fictive</td>\n",
       "      <td></td>\n",
       "    </tr>\n",
       "  </tbody>\n",
       "</table>\n",
       "</div>"
      ],
      "text/plain": [
       "    motion_type preposition_1 preposition_2 preposition_3 preposition_4  \\\n",
       "903     fictive            >L                                             \n",
       "\n",
       "    preposition_5 preposition_6                               comments  \\\n",
       "903                              bring them back to your mind, fictive   \n",
       "\n",
       "    reconstructed_verse  \n",
       "903                      "
      ]
     },
     "metadata": {},
     "output_type": "display_data"
    },
    {
     "data": {
      "application/vnd.jupyter.widget-view+json": {
       "model_id": "f8222f5a4fde49d0bc6a381d2fece13e",
       "version_major": 2,
       "version_minor": 0
      },
      "text/plain": [
       "HTML(value='<b>Go to column:</b>')"
      ]
     },
     "metadata": {},
     "output_type": "display_data"
    },
    {
     "data": {
      "application/vnd.jupyter.widget-view+json": {
       "model_id": "bcc6b6b41dfa479690b5518beb00976a",
       "version_major": 2,
       "version_minor": 0
      },
      "text/plain": [
       "HBox(children=(Button(button_style='info', description='cmpl_lex', style=ButtonStyle(), tooltip='Go to the cmp…"
      ]
     },
     "metadata": {},
     "output_type": "display_data"
    },
    {
     "data": {
      "application/vnd.jupyter.widget-view+json": {
       "model_id": "3ae25bc3ec174fca80c1da45bd48e78f",
       "version_major": 2,
       "version_minor": 0
      },
      "text/plain": [
       "HTML(value=\"<b>Annotate 'gcons_clause':</b>\")"
      ]
     },
     "metadata": {},
     "output_type": "display_data"
    },
    {
     "data": {
      "application/vnd.jupyter.widget-view+json": {
       "model_id": "4410c0a66fd040e08f626f1e84608fb4",
       "version_major": 2,
       "version_minor": 0
      },
      "text/plain": [
       "Textarea(value='W HCBT >L LBBK B KL H GWJM', layout=Layout(height='100px', width='100%'), placeholder='Type yo…"
      ]
     },
     "metadata": {},
     "output_type": "display_data"
    },
    {
     "data": {
      "application/vnd.jupyter.widget-view+json": {
       "model_id": "71b423f9a9644b93aa7c9bb253aa3830",
       "version_major": 2,
       "version_minor": 0
      },
      "text/plain": [
       "HBox(children=(Button(button_style='primary', description='Previous Column', icon='arrow-left', style=ButtonSt…"
      ]
     },
     "metadata": {},
     "output_type": "display_data"
    },
    {
     "data": {
      "application/vnd.jupyter.widget-view+json": {
       "model_id": "cea6673f4c8441a0bc87483582673955",
       "version_major": 2,
       "version_minor": 0
      },
      "text/plain": [
       "HBox(children=(Button(button_style='warning', description='Previous Row', icon='arrow-left', style=ButtonStyle…"
      ]
     },
     "metadata": {},
     "output_type": "display_data"
    }
   ],
   "source": [
    "##### Display the annotation tool\n",
    "annotation_tool.display()"
   ]
  },
  {
   "cell_type": "code",
   "execution_count": 13,
   "id": "03aaa5e4",
   "metadata": {},
   "outputs": [
    {
     "data": {
      "text/html": [
       "<div>\n",
       "<style scoped>\n",
       "    .dataframe tbody tr th:only-of-type {\n",
       "        vertical-align: middle;\n",
       "    }\n",
       "\n",
       "    .dataframe tbody tr th {\n",
       "        vertical-align: top;\n",
       "    }\n",
       "\n",
       "    .dataframe thead th {\n",
       "        text-align: right;\n",
       "    }\n",
       "</style>\n",
       "<table border=\"1\" class=\"dataframe\">\n",
       "  <thead>\n",
       "    <tr style=\"text-align: right;\">\n",
       "      <th></th>\n",
       "      <th>verb_id</th>\n",
       "      <th>lex</th>\n",
       "      <th>scroll</th>\n",
       "      <th>book</th>\n",
       "      <th>chapter</th>\n",
       "      <th>verse_num</th>\n",
       "      <th>gcons_verb</th>\n",
       "      <th>gcons_verse</th>\n",
       "      <th>sign_info</th>\n",
       "      <th>stem</th>\n",
       "      <th>tense</th>\n",
       "      <th>gcons_clause</th>\n",
       "      <th>subject</th>\n",
       "      <th>complement</th>\n",
       "      <th>cmpl_lex</th>\n",
       "      <th>cmpl_translation</th>\n",
       "      <th>dir_he</th>\n",
       "      <th>cmpl_constr</th>\n",
       "      <th>cmpl_nt</th>\n",
       "      <th>cmpl_anim</th>\n",
       "      <th>cmpl_det</th>\n",
       "      <th>cmpl_indiv</th>\n",
       "      <th>cmpl_complex</th>\n",
       "      <th>motion_type</th>\n",
       "      <th>preposition_1</th>\n",
       "      <th>preposition_2</th>\n",
       "      <th>preposition_3</th>\n",
       "      <th>preposition_4</th>\n",
       "      <th>preposition_5</th>\n",
       "      <th>preposition_6</th>\n",
       "      <th>comments</th>\n",
       "      <th>reconstructed_verse</th>\n",
       "    </tr>\n",
       "  </thead>\n",
       "  <tbody>\n",
       "    <tr>\n",
       "      <th>810</th>\n",
       "      <td>107722</td>\n",
       "      <td>BW&gt;[</td>\n",
       "      <td>MT</td>\n",
       "      <td>Deuteronomy</td>\n",
       "      <td>27</td>\n",
       "      <td>3</td>\n",
       "      <td>TB&gt;</td>\n",
       "      <td>W KTBT &lt;LJHN &gt;T KL DBRJ H TWRH H Z&gt;T B &lt;BRK LM&lt;N &gt;CR TB&gt; &gt;L H &gt;RY &gt;CR JHWH &gt;LHJK NTN LK &gt;RY ZBT XLB W DBC K &gt;CR DBR JHWH &gt;LHJ &gt;BTJK LK</td>\n",
       "      <td></td>\n",
       "      <td>qal</td>\n",
       "      <td>impf</td>\n",
       "      <td>LM&lt;N &gt;CR TB&gt; &gt;L H &gt;RY &gt;RY ZBT XLB W DBC</td>\n",
       "      <td></td>\n",
       "      <td>&gt;L H &gt;RY &gt;RY ZBT XLB W DBC</td>\n",
       "      <td>&gt;L H &gt;RY/ &gt;RY/ ZWB[ XLB/ W DBC/</td>\n",
       "      <td>into the land, a land flowing with milk and honey</td>\n",
       "      <td>0</td>\n",
       "      <td>prep</td>\n",
       "      <td>topo</td>\n",
       "      <td>inanim</td>\n",
       "      <td>det</td>\n",
       "      <td>subs</td>\n",
       "      <td>complex</td>\n",
       "      <td>factive</td>\n",
       "      <td>&gt;L</td>\n",
       "      <td></td>\n",
       "      <td></td>\n",
       "      <td></td>\n",
       "      <td></td>\n",
       "      <td></td>\n",
       "      <td></td>\n",
       "      <td></td>\n",
       "    </tr>\n",
       "  </tbody>\n",
       "</table>\n",
       "</div>"
      ],
      "text/plain": [
       "    verb_id   lex scroll         book  chapter  verse_num gcons_verb  \\\n",
       "810  107722  BW>[     MT  Deuteronomy       27          3        TB>   \n",
       "\n",
       "                                                                                                                                gcons_verse  \\\n",
       "810  W KTBT <LJHN >T KL DBRJ H TWRH H Z>T B <BRK LM<N >CR TB> >L H >RY >CR JHWH >LHJK NTN LK >RY ZBT XLB W DBC K >CR DBR JHWH >LHJ >BTJK LK   \n",
       "\n",
       "    sign_info stem tense                             gcons_clause subject  \\\n",
       "810            qal  impf  LM<N >CR TB> >L H >RY >RY ZBT XLB W DBC           \n",
       "\n",
       "                     complement                         cmpl_lex  \\\n",
       "810  >L H >RY >RY ZBT XLB W DBC  >L H >RY/ >RY/ ZWB[ XLB/ W DBC/   \n",
       "\n",
       "                                      cmpl_translation dir_he cmpl_constr  \\\n",
       "810  into the land, a land flowing with milk and honey      0        prep   \n",
       "\n",
       "    cmpl_nt cmpl_anim cmpl_det cmpl_indiv cmpl_complex motion_type  \\\n",
       "810    topo    inanim      det       subs      complex     factive   \n",
       "\n",
       "    preposition_1 preposition_2 preposition_3 preposition_4 preposition_5  \\\n",
       "810            >L                                                           \n",
       "\n",
       "    preposition_6 comments reconstructed_verse  \n",
       "810                                             "
      ]
     },
     "metadata": {},
     "output_type": "display_data"
    }
   ],
   "source": [
    "matching_index = annotation_tool.find_matching_row()\n",
    "if matching_index:\n",
    "    df_row = annotation_tool.df.iloc[[matching_index]]\n",
    "    display(df_row)"
   ]
  },
  {
   "cell_type": "code",
   "execution_count": 10,
   "id": "a2c68e5c",
   "metadata": {},
   "outputs": [
    {
     "data": {
      "text/html": [
       "<div>\n",
       "<style scoped>\n",
       "    .dataframe tbody tr th:only-of-type {\n",
       "        vertical-align: middle;\n",
       "    }\n",
       "\n",
       "    .dataframe tbody tr th {\n",
       "        vertical-align: top;\n",
       "    }\n",
       "\n",
       "    .dataframe thead th {\n",
       "        text-align: right;\n",
       "    }\n",
       "</style>\n",
       "<table border=\"1\" class=\"dataframe\">\n",
       "  <thead>\n",
       "    <tr style=\"text-align: right;\">\n",
       "      <th></th>\n",
       "      <th>verb_id</th>\n",
       "      <th>lex</th>\n",
       "      <th>scroll</th>\n",
       "      <th>book</th>\n",
       "      <th>chapter</th>\n",
       "      <th>verse_num</th>\n",
       "      <th>gcons_verb</th>\n",
       "      <th>gcons_verse</th>\n",
       "      <th>sign_info</th>\n",
       "      <th>stem</th>\n",
       "      <th>tense</th>\n",
       "      <th>gcons_clause</th>\n",
       "      <th>subject</th>\n",
       "      <th>complement</th>\n",
       "      <th>cmpl_lex</th>\n",
       "      <th>cmpl_translation</th>\n",
       "      <th>dir_he</th>\n",
       "      <th>cmpl_constr</th>\n",
       "      <th>cmpl_nt</th>\n",
       "      <th>cmpl_anim</th>\n",
       "      <th>cmpl_det</th>\n",
       "      <th>cmpl_indiv</th>\n",
       "      <th>cmpl_complex</th>\n",
       "      <th>motion_type</th>\n",
       "      <th>preposition_1</th>\n",
       "      <th>preposition_2</th>\n",
       "      <th>preposition_3</th>\n",
       "      <th>preposition_4</th>\n",
       "      <th>preposition_5</th>\n",
       "      <th>preposition_6</th>\n",
       "      <th>comments</th>\n",
       "      <th>reconstructed_verse</th>\n",
       "    </tr>\n",
       "  </thead>\n",
       "  <tbody>\n",
       "    <tr>\n",
       "      <th>705</th>\n",
       "      <td>106108</td>\n",
       "      <td>JY&gt;[</td>\n",
       "      <td>MT</td>\n",
       "      <td>Deuteronomy</td>\n",
       "      <td>23</td>\n",
       "      <td>13</td>\n",
       "      <td>JY&gt;T</td>\n",
       "      <td>W JD THJH LK M XWY L MXNH W JY&gt;T CMH XWY</td>\n",
       "      <td></td>\n",
       "      <td>qal</td>\n",
       "      <td>perf</td>\n",
       "      <td>W JY&gt;T CMH XWY</td>\n",
       "      <td></td>\n",
       "      <td>XWY</td>\n",
       "      <td>XWY/</td>\n",
       "      <td>outside</td>\n",
       "      <td>0</td>\n",
       "      <td>vc</td>\n",
       "      <td>topo</td>\n",
       "      <td>inanim</td>\n",
       "      <td>det</td>\n",
       "      <td>subs</td>\n",
       "      <td>simple</td>\n",
       "      <td>factive</td>\n",
       "      <td></td>\n",
       "      <td></td>\n",
       "      <td></td>\n",
       "      <td></td>\n",
       "      <td></td>\n",
       "      <td></td>\n",
       "      <td></td>\n",
       "      <td></td>\n",
       "    </tr>\n",
       "  </tbody>\n",
       "</table>\n",
       "</div>"
      ],
      "text/plain": [
       "    verb_id   lex scroll         book  chapter  verse_num gcons_verb  \\\n",
       "705  106108  JY>[     MT  Deuteronomy       23         13       JY>T   \n",
       "\n",
       "                                  gcons_verse sign_info stem tense  \\\n",
       "705  W JD THJH LK M XWY L MXNH W JY>T CMH XWY            qal  perf   \n",
       "\n",
       "       gcons_clause subject complement cmpl_lex cmpl_translation dir_he  \\\n",
       "705  W JY>T CMH XWY                XWY     XWY/          outside      0   \n",
       "\n",
       "    cmpl_constr cmpl_nt cmpl_anim cmpl_det cmpl_indiv cmpl_complex  \\\n",
       "705          vc    topo    inanim      det       subs       simple   \n",
       "\n",
       "    motion_type preposition_1 preposition_2 preposition_3 preposition_4  \\\n",
       "705     factive                                                           \n",
       "\n",
       "    preposition_5 preposition_6 comments reconstructed_verse  \n",
       "705                                                           "
      ]
     },
     "metadata": {},
     "output_type": "display_data"
    }
   ],
   "source": [
    "# If no match\n",
    "current_index = annotation_tool.current_index\n",
    "df_row = annotation_tool.df.iloc[[current_index - 3]]\n",
    "display(df_row)"
   ]
  },
  {
   "cell_type": "markdown",
   "id": "7ab576f4",
   "metadata": {},
   "source": [
    "Locatives in Deuteronomy \n",
    "\n",
    "HLK Deuteronomy 1 33\n",
    "JY> Deuteronomy 2 32\n",
    "JY> Deuteronomy 3 1\n",
    "HLJKK Deuteronomy 8 2\n",
    "HWYJ>W Deuteronomy 22 15\n",
    "JY>T Deuteronomy 23 13\n",
    "HNJX Deuteronomy 25 19\n",
    "RDT Deuteronomy 28 52\n",
    "HCJBK Deuteronomy 28 68\n",
    "HCBT Deuteronomy 30 1\n",
    "B> Deuteronomy 31 16"
   ]
  },
  {
   "cell_type": "code",
   "execution_count": null,
   "id": "84263789",
   "metadata": {},
   "outputs": [],
   "source": [
    "annotation_tool.df[(annotation_tool.df.chapter == 8) & (annotation_tool.df.verse_num == 21)]"
   ]
  },
  {
   "cell_type": "markdown",
   "id": "57510887",
   "metadata": {},
   "source": [
    "#### Buttons legend\n",
    "\n",
    "\n",
    "<div style=\"text-align: center;\">Name types</div>\n",
    "\n",
    "\n",
    "| Button    | Description                                   |\n",
    "|-----------|:----------------------------------------------|\n",
    "| abs       | abstract nouns (freedom, judgments, etc)      |\n",
    "| adv       | adverb                                        |\n",
    "| bopa      | body part                                     |\n",
    "| dir       | direction                                     |\n",
    "| gens      | people                                        |\n",
    "| mens      | measurement unit                              |\n",
    "| na        | non applicable                                |\n",
    "| obj       | object, thing                                 |\n",
    "| occ       | occupation, work, activities, etc             |\n",
    "| other     | other                                         |\n",
    "| pers      | person                                        |\n",
    "| phen      | phenomenon (sound, light, weather, etc)       |\n",
    "| ppde      | demonstrative personal pronoun                |\n",
    "| ppin      | interrogative pronoun                         |\n",
    "| prps      | personal pronoun                              |\n",
    "| topo      | place                                         |\n",
    "\n",
    "***   \n",
    "\n",
    "<div style=\"text-align: center;\">Animacy</div>\n",
    "\n",
    "\n",
    "| Button       | Description             |\n",
    "| -------------|:------------------------|\n",
    "| anim         | animate                 |\n",
    "| inanim       | inanimate               |\n",
    "| anim inanim  | to be determined later  |\n",
    "\n",
    "***\n",
    "\n",
    "<div style=\"text-align: center;\">Individuation</div>\n",
    "\n",
    "\n",
    "| Button | Description           |\n",
    "|--------|:----------------------|\n",
    "| adv    | adverb                |\n",
    "| nmpr   | proper noun           |\n",
    "| ppin   | interrogative pronoun |\n",
    "| prsf   | pronominal suffix     |\n",
    "| subs   | substantive           |\n",
    "| ptcl   | participle            |\n",
    "\n",
    "***\n",
    "\n",
    "<div style=\"text-align: center;\">Complexity</div>\n",
    "\n",
    "\n",
    "| Button   | Description                           |\n",
    "|----------|:--------------------------------------|\n",
    "| complex  | more than one morpheme                |\n",
    "| simple   | one morpheme (excluding prepositions) |\n",
    "\n",
    "\n",
    "***\n",
    "\n",
    "<div style=\"text-align: center;\">Motion types</div>\n",
    "\n",
    "\n",
    "| Button          | Description                            |\n",
    "|-----------------|----------------------------------------|\n",
    "| factive         | factive (actual) motion                |\n",
    "| fictive         | fictive (non actual) motion            |\n",
    "| factive fictive | unsure, to be determined later on      |\n",
    "\n",
    "\n",
    "#### Factive motion checklist:\n",
    "- something or someone *physical* in the expression goes through a change of position from a point A or to a point B (or both)\n",
    "\n",
    "#### Complexity:\n",
    "- noun + definite article : simple\n",
    "- noun + personal pronoun : complex\n",
    "\n",
    "#### Definiteness:\n",
    "- det: with definite article, with pronominal suffixes, in construct chain\n",
    "- und\n",
    "- na : non applicable (ex: for interrogative particle)\n",
    "\n",
    "#### Reconstruction\n",
    "- reconstructed : all or part (prep, dir-he space) of the complement or the motion verb are reconstructed\n",
    "- reconstructed? : when the complement or the verb are not reconstructed, but parts of the clause are"
   ]
  },
  {
   "cell_type": "code",
   "execution_count": 20,
   "id": "391465cb",
   "metadata": {},
   "outputs": [
    {
     "name": "stdout",
     "output_type": "stream",
     "text": [
      "DataFrame saved as data/biblical_datasets/deuteronomy_locatives/annotation_df_history/deuteronomy_with_loca_2024-06-10_11_35.csv and data/biblical_datasets/deuteronomy_locatives/annotation_df_history/deuteronomy_with_loca.csv.\n"
     ]
    }
   ],
   "source": [
    "current_index = annotation_tool.current_index\n",
    "current_date = datetime.datetime.now().strftime(\"%Y-%m-%d_%H_%M\")\n",
    "historical_filename = f\"data/biblical_datasets/deuteronomy_locatives/annotation_df_history/deuteronomy_with_loca_{current_date}.csv\"\n",
    "current_filename = csv_file_path\n",
    "\n",
    "# To save the annotated DataFrame with the appropriate path\n",
    "annotation_tool.save_dataframe(historical_filename, current_filename)\n",
    "\n",
    "# To save the annotation session details\n",
    "annotation_tool.save_annotation_details()"
   ]
  },
  {
   "cell_type": "code",
   "execution_count": 21,
   "id": "66904d2b",
   "metadata": {},
   "outputs": [
    {
     "name": "stdout",
     "output_type": "stream",
     "text": [
      "Size of the dataset: 1004.\n",
      "904 rows are now annotated.\n",
      "You have 100 rows left to anntoate.\n"
     ]
    }
   ],
   "source": [
    "len_df = len(annotation_tool.df)\n",
    "annotated = current_index - start_index + 1\n",
    "left_to_annot = len(annotation_tool.df) - current_index - 1\n",
    "\n",
    "print(f\"Size of the dataset: {len_df}.\\n{annotated} rows are now annotated.\\nYou have {left_to_annot} rows left to anntoate.\")"
   ]
  },
  {
   "cell_type": "markdown",
   "id": "01bdc73f",
   "metadata": {},
   "source": [
    "### Print some information about your dataset"
   ]
  },
  {
   "cell_type": "code",
   "execution_count": null,
   "id": "1a7c7d3c",
   "metadata": {},
   "outputs": [],
   "source": [
    "# Print the different values of the column \"comments\"\n",
    "#set(annotation_tool.df.comments)\n",
    "#set(annotation_tool.df.cmpl_translation)\n",
    "#set(annotation_tool.df.cmpl_constr)"
   ]
  },
  {
   "cell_type": "code",
   "execution_count": null,
   "id": "722ffd4e",
   "metadata": {},
   "outputs": [],
   "source": [
    "annotation_tool.df.head(80)"
   ]
  },
  {
   "cell_type": "code",
   "execution_count": null,
   "id": "ec153e2b",
   "metadata": {
    "scrolled": true
   },
   "outputs": [],
   "source": [
    "# Print some df lines\n",
    "\n",
    "#annotation_tool.df[annotation_tool.df.cmpl_lex == \"MN RXWQ/\"]\n",
    "#annotation_tool.df[annotation_tool.df.cmpl_constr == \"vc\"]\n",
    "#annotation_tool.df[annotation_tool.df.cmpl_anim == \"inanim anim\"]\n",
    "#annotation_tool.df[annotation_tool.df.gcons_clause == \"SWRW\"]\n",
    "#annotation_tool.df[annotation_tool.df.motion_type == \"factive fictive\"]\n",
    "annotation_tool.df[(annotation_tool.df.complement != \"no complement\") & (annotation_tool.df.cmpl_translation == \"\")]\n",
    "#len(annotation_tool.df)\n",
    "#annotation_tool.df[annotation_tool.df.preposition_1 == \">XR/\"]\n",
    "#\n",
    "#filtered_df = annotation_tool.df[(annotation_tool.df['cmpl_lex'].str.contains(r'(?i)\\bMZBX\\b', na=False))]\n",
    "#filtered_df \n",
    "\n",
    "#annotation_tool.df[(annotation_tool.df.chapter == 14) & (annotation_tool.df.verse_num == 19)]\n",
    "# 276 278 281 282 300 302 303 358 376 377 378 379 380 399 401 402 527 528 604 655 656 731 766 799 803 815 828 832 838"
   ]
  },
  {
   "cell_type": "code",
   "execution_count": null,
   "id": "8ed8e9a4",
   "metadata": {
    "scrolled": false
   },
   "outputs": [],
   "source": [
    "# see 1130 \"to the waters\", topo?\n",
    "# see index 209 animate vc?\n",
    "annotation_tool.df[(annotation_tool.df.chapter == 21) & (annotation_tool.df.verse_num == 1)]"
   ]
  },
  {
   "cell_type": "code",
   "execution_count": null,
   "id": "1d56eade",
   "metadata": {},
   "outputs": [],
   "source": [
    "set(annotation_tool.df.cmpl_constr)"
   ]
  },
  {
   "cell_type": "code",
   "execution_count": null,
   "id": "27be6e7b",
   "metadata": {},
   "outputs": [],
   "source": [
    "set(annotation_tool.df.dir_he)"
   ]
  },
  {
   "cell_type": "code",
   "execution_count": null,
   "id": "417c9708",
   "metadata": {},
   "outputs": [],
   "source": [
    "set(annotation_tool.df.cmpl_nt)"
   ]
  },
  {
   "cell_type": "code",
   "execution_count": null,
   "id": "be60c463",
   "metadata": {},
   "outputs": [],
   "source": [
    "set(annotation_tool.df.cmpl_anim)"
   ]
  },
  {
   "cell_type": "code",
   "execution_count": null,
   "id": "d2dc6e55",
   "metadata": {},
   "outputs": [],
   "source": [
    "set(annotation_tool.df.cmpl_det)"
   ]
  },
  {
   "cell_type": "code",
   "execution_count": null,
   "id": "b33b4c99",
   "metadata": {},
   "outputs": [],
   "source": [
    "set(annotation_tool.df.cmpl_indiv)"
   ]
  },
  {
   "cell_type": "code",
   "execution_count": null,
   "id": "76bd8b81",
   "metadata": {},
   "outputs": [],
   "source": [
    "set(annotation_tool.df.cmpl_complex)"
   ]
  },
  {
   "cell_type": "code",
   "execution_count": null,
   "id": "0c11be67",
   "metadata": {},
   "outputs": [],
   "source": [
    "df.columns"
   ]
  },
  {
   "cell_type": "code",
   "execution_count": null,
   "id": "c79d2728",
   "metadata": {},
   "outputs": [],
   "source": [
    "set(annotation_tool.df.lex)"
   ]
  },
  {
   "cell_type": "raw",
   "id": "e3f34508",
   "metadata": {},
   "source": [
    "# Add a column with the verse plus brackets indicating reconstructed letters\n",
    "\n",
    "def reconstruct_verse(sign_info, verse):\n",
    "    rec_verse = []\n",
    "    is_reconstructed = False\n",
    "\n",
    "    for c_verse, c_sign in zip(verse, sign_info):\n",
    "        if c_sign == \"1\" and not is_reconstructed:\n",
    "            is_reconstructed = True\n",
    "            rec_verse.append(\"[\")\n",
    "        if c_sign == \"0\" and is_reconstructed:\n",
    "            is_reconstructed = False\n",
    "            if rec_verse[-1] == \" \":\n",
    "                rec_verse.pop()\n",
    "                rec_verse.extend([\"]\", \" \"])\n",
    "            else:\n",
    "                rec_verse.append(\"]\")\n",
    "        rec_verse.append(c_verse)\n",
    "\n",
    "    if is_reconstructed:\n",
    "        rec_verse.append(\"]\")\n",
    "    return \"\".join(rec_verse)\n",
    "\n",
    "df = annotation_tool.df\n",
    "df[\"reconstructed_verse\"] = \"\"\n",
    "\n",
    "df[\"reconstructed_verse\"] = df.apply(lambda row: reconstruct_verse(row.sign_info, row.gcons_verse) if row.book != \"MT\" else \"\", axis=1)\n",
    "\n",
    "df = annotation_tool.df"
   ]
  },
  {
   "cell_type": "code",
   "execution_count": null,
   "id": "d1d9d219",
   "metadata": {},
   "outputs": [],
   "source": [
    "annotation_tool.df"
   ]
  },
  {
   "cell_type": "raw",
   "id": "bae95dc4",
   "metadata": {},
   "source": [
    "# Delete the DSS duplicated\n",
    "\n",
    "verb_ids = df.verb_id.to_list()\n",
    "\n",
    "duplicates = set([verb_id for verb_id in verb_ids if verb_ids.count(verb_id) > 1])\n",
    "\n",
    "df = annotation_tool.df\n",
    "annotation_tool.df = df[~((df.gcons_clause == \"None\") & (df.subject == \"None\") & (df.verb_id.isin(duplicates)))] # delete duplicates\n",
    "annotation_tool.df.reset_index(drop=True, inplace=True) # reset the index for AnnotEasy\n",
    "df = annotation_tool.df"
   ]
  },
  {
   "cell_type": "code",
   "execution_count": null,
   "id": "f3d00c45",
   "metadata": {},
   "outputs": [],
   "source": []
  }
 ],
 "metadata": {
  "kernelspec": {
   "display_name": "Python 3 (ipykernel)",
   "language": "python",
   "name": "python3"
  },
  "language_info": {
   "codemirror_mode": {
    "name": "ipython",
    "version": 3
   },
   "file_extension": ".py",
   "mimetype": "text/x-python",
   "name": "python",
   "nbconvert_exporter": "python",
   "pygments_lexer": "ipython3",
   "version": "3.9.16"
  }
 },
 "nbformat": 4,
 "nbformat_minor": 5
}
