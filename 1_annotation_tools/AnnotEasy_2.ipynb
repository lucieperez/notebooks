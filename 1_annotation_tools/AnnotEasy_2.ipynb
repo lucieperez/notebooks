{
 "cells": [
  {
   "cell_type": "code",
   "execution_count": 1,
   "id": "fa0367e8",
   "metadata": {},
   "outputs": [],
   "source": [
    "from AnnotEasy import AnnotationTool\n",
    "import datetime"
   ]
  },
  {
   "cell_type": "code",
   "execution_count": 2,
   "id": "7fbd1986",
   "metadata": {},
   "outputs": [],
   "source": [
    "# Paths to your files\n",
    "csv_file_path = 'data/biblical_datasets/1_samuel/annotation_df_history/1_samuel.csv'  # Update this path\n",
    "history_file_path = 'data/biblical_datasets/1_samuel/annotation_df_history/annotation_tracks.txt'  # Update this path\n",
    "\n",
    "# Create an instance of the AnnotationTool\n",
    "annotation_tool = AnnotationTool(csv_file_path, history_file_path)\n",
    "start_index = 0"
   ]
  },
  {
   "cell_type": "code",
   "execution_count": 3,
   "id": "6b16075a",
   "metadata": {},
   "outputs": [
    {
     "data": {
      "application/vnd.jupyter.widget-view+json": {
       "model_id": "41197ba489e744c8995203671515a8a4",
       "version_major": 2,
       "version_minor": 0
      },
      "text/plain": [
       "HBox(children=(IntText(value=292, description='Index:', layout=Layout(width='200px')), Button(description='Jum…"
      ]
     },
     "metadata": {},
     "output_type": "display_data"
    }
   ],
   "source": [
    "annotation_tool.display_jump_widget()"
   ]
  },
  {
   "cell_type": "code",
   "execution_count": 4,
   "id": "570e2a68",
   "metadata": {},
   "outputs": [],
   "source": [
    "# Uncomment to add a extra row after the current row displayed\n",
    "#display(annotation_tool.user_inputs, annotation_tool.add_row_button)"
   ]
  },
  {
   "cell_type": "code",
   "execution_count": 5,
   "id": "9b426a9f",
   "metadata": {},
   "outputs": [],
   "source": [
    "# Uncomment to delete a row and specify the index\n",
    "#index_to_delete = int(input(\"Enter the index of the row to delete: \"))\n",
    "#annotation_tool.delete_row(index_to_delete)"
   ]
  },
  {
   "cell_type": "code",
   "execution_count": 7,
   "id": "87ffabc0",
   "metadata": {},
   "outputs": [
    {
     "data": {
      "text/html": [
       "<div>\n",
       "<style scoped>\n",
       "    .dataframe tbody tr th:only-of-type {\n",
       "        vertical-align: middle;\n",
       "    }\n",
       "\n",
       "    .dataframe tbody tr th {\n",
       "        vertical-align: top;\n",
       "    }\n",
       "\n",
       "    .dataframe thead th {\n",
       "        text-align: right;\n",
       "    }\n",
       "</style>\n",
       "<table border=\"1\" class=\"dataframe\">\n",
       "  <thead>\n",
       "    <tr style=\"text-align: right;\">\n",
       "      <th></th>\n",
       "      <th>verb_id</th>\n",
       "      <th>lex</th>\n",
       "      <th>scroll</th>\n",
       "      <th>book</th>\n",
       "      <th>chapter</th>\n",
       "      <th>verse_num</th>\n",
       "      <th>gcons_verb</th>\n",
       "      <th>gcons_verse</th>\n",
       "      <th>sign_info</th>\n",
       "      <th>stem</th>\n",
       "      <th>tense</th>\n",
       "    </tr>\n",
       "  </thead>\n",
       "  <tbody>\n",
       "    <tr>\n",
       "      <th>296</th>\n",
       "      <td>146387</td>\n",
       "      <td>BW&gt;[</td>\n",
       "      <td>MT</td>\n",
       "      <td>1_Samuel</td>\n",
       "      <td>10</td>\n",
       "      <td>7</td>\n",
       "      <td>TB&gt;JNH</td>\n",
       "      <td>W HJH KJ TB&gt;JNH H &gt;TWT H &gt;LH LK &lt;FH LK &gt;CR TMY&gt; JDK KJ H &gt;LHJM &lt;MK</td>\n",
       "      <td></td>\n",
       "      <td>qal</td>\n",
       "      <td>impf</td>\n",
       "    </tr>\n",
       "  </tbody>\n",
       "</table>\n",
       "</div>"
      ],
      "text/plain": [
       "     verb_id   lex scroll      book  chapter  verse_num gcons_verb  \\\n",
       "296   146387  BW>[     MT  1_Samuel       10          7     TB>JNH   \n",
       "\n",
       "                                                            gcons_verse  \\\n",
       "296  W HJH KJ TB>JNH H >TWT H >LH LK <FH LK >CR TMY> JDK KJ H >LHJM <MK   \n",
       "\n",
       "    sign_info stem tense  \n",
       "296            qal  impf  "
      ]
     },
     "metadata": {},
     "output_type": "display_data"
    },
    {
     "data": {
      "text/html": [
       "<div>\n",
       "<style scoped>\n",
       "    .dataframe tbody tr th:only-of-type {\n",
       "        vertical-align: middle;\n",
       "    }\n",
       "\n",
       "    .dataframe tbody tr th {\n",
       "        vertical-align: top;\n",
       "    }\n",
       "\n",
       "    .dataframe thead th {\n",
       "        text-align: right;\n",
       "    }\n",
       "</style>\n",
       "<table border=\"1\" class=\"dataframe\">\n",
       "  <thead>\n",
       "    <tr style=\"text-align: right;\">\n",
       "      <th></th>\n",
       "      <th>gcons_clause</th>\n",
       "      <th>subject</th>\n",
       "      <th>complement</th>\n",
       "      <th>cmpl_lex</th>\n",
       "      <th>cmpl_translation</th>\n",
       "      <th>dir_he</th>\n",
       "      <th>cmpl_constr</th>\n",
       "      <th>cmpl_nt</th>\n",
       "      <th>cmpl_anim</th>\n",
       "      <th>cmpl_det</th>\n",
       "      <th>cmpl_indiv</th>\n",
       "      <th>cmpl_complex</th>\n",
       "    </tr>\n",
       "  </thead>\n",
       "  <tbody>\n",
       "    <tr>\n",
       "      <th>296</th>\n",
       "      <td>KJ TB&gt;JNH H &gt;TWT H &gt;LH LK</td>\n",
       "      <td>H &gt;TWT H &gt;LH</td>\n",
       "      <td>LK</td>\n",
       "      <td>L</td>\n",
       "      <td></td>\n",
       "      <td>0</td>\n",
       "      <td>prep</td>\n",
       "      <td></td>\n",
       "      <td></td>\n",
       "      <td>det</td>\n",
       "      <td></td>\n",
       "      <td>simple</td>\n",
       "    </tr>\n",
       "  </tbody>\n",
       "</table>\n",
       "</div>"
      ],
      "text/plain": [
       "                  gcons_clause       subject complement cmpl_lex  \\\n",
       "296  KJ TB>JNH H >TWT H >LH LK  H >TWT H >LH         LK        L   \n",
       "\n",
       "    cmpl_translation dir_he cmpl_constr cmpl_nt cmpl_anim cmpl_det cmpl_indiv  \\\n",
       "296                       0        prep                        det              \n",
       "\n",
       "    cmpl_complex  \n",
       "296       simple  "
      ]
     },
     "metadata": {},
     "output_type": "display_data"
    },
    {
     "data": {
      "text/html": [
       "<div>\n",
       "<style scoped>\n",
       "    .dataframe tbody tr th:only-of-type {\n",
       "        vertical-align: middle;\n",
       "    }\n",
       "\n",
       "    .dataframe tbody tr th {\n",
       "        vertical-align: top;\n",
       "    }\n",
       "\n",
       "    .dataframe thead th {\n",
       "        text-align: right;\n",
       "    }\n",
       "</style>\n",
       "<table border=\"1\" class=\"dataframe\">\n",
       "  <thead>\n",
       "    <tr style=\"text-align: right;\">\n",
       "      <th></th>\n",
       "      <th>motion_type</th>\n",
       "      <th>preposition_1</th>\n",
       "      <th>preposition_2</th>\n",
       "      <th>preposition_3</th>\n",
       "      <th>preposition_4</th>\n",
       "      <th>preposition_5</th>\n",
       "      <th>preposition_6</th>\n",
       "      <th>comments</th>\n",
       "      <th>reconstructed_verse</th>\n",
       "    </tr>\n",
       "  </thead>\n",
       "  <tbody>\n",
       "    <tr>\n",
       "      <th>296</th>\n",
       "      <td></td>\n",
       "      <td>L</td>\n",
       "      <td></td>\n",
       "      <td></td>\n",
       "      <td></td>\n",
       "      <td></td>\n",
       "      <td></td>\n",
       "      <td></td>\n",
       "      <td></td>\n",
       "    </tr>\n",
       "  </tbody>\n",
       "</table>\n",
       "</div>"
      ],
      "text/plain": [
       "    motion_type preposition_1 preposition_2 preposition_3 preposition_4  \\\n",
       "296                         L                                             \n",
       "\n",
       "    preposition_5 preposition_6 comments reconstructed_verse  \n",
       "296                                                           "
      ]
     },
     "metadata": {},
     "output_type": "display_data"
    },
    {
     "data": {
      "application/vnd.jupyter.widget-view+json": {
       "model_id": "1a25f21e19444761aca9e3e0878a3deb",
       "version_major": 2,
       "version_minor": 0
      },
      "text/plain": [
       "HTML(value='<b>Go to column:</b>')"
      ]
     },
     "metadata": {},
     "output_type": "display_data"
    },
    {
     "data": {
      "application/vnd.jupyter.widget-view+json": {
       "model_id": "6b212a0986894ae284202d386d932c57",
       "version_major": 2,
       "version_minor": 0
      },
      "text/plain": [
       "HBox(children=(Button(button_style='info', description='cmpl_lex', style=ButtonStyle(), tooltip='Go to the cmp…"
      ]
     },
     "metadata": {},
     "output_type": "display_data"
    },
    {
     "data": {
      "application/vnd.jupyter.widget-view+json": {
       "model_id": "99644492f3194c5f9f4abd3e31943a49",
       "version_major": 2,
       "version_minor": 0
      },
      "text/plain": [
       "HTML(value=\"<b>Annotate 'gcons_clause':</b>\")"
      ]
     },
     "metadata": {},
     "output_type": "display_data"
    },
    {
     "data": {
      "application/vnd.jupyter.widget-view+json": {
       "model_id": "8eaf4ce7267042999f78caf093061803",
       "version_major": 2,
       "version_minor": 0
      },
      "text/plain": [
       "Textarea(value='KJ TB>JNH H >TWT H >LH LK', layout=Layout(height='100px', width='100%'), placeholder='Type you…"
      ]
     },
     "metadata": {},
     "output_type": "display_data"
    },
    {
     "data": {
      "application/vnd.jupyter.widget-view+json": {
       "model_id": "20be2ce7673642fdad75dcd0c3ada75f",
       "version_major": 2,
       "version_minor": 0
      },
      "text/plain": [
       "HBox(children=(Button(button_style='primary', description='Previous Column', icon='arrow-left', style=ButtonSt…"
      ]
     },
     "metadata": {},
     "output_type": "display_data"
    },
    {
     "data": {
      "application/vnd.jupyter.widget-view+json": {
       "model_id": "9e3916a98de94c56bc4cb27928020b18",
       "version_major": 2,
       "version_minor": 0
      },
      "text/plain": [
       "HBox(children=(Button(button_style='warning', description='Previous Row', icon='arrow-left', style=ButtonStyle…"
      ]
     },
     "metadata": {},
     "output_type": "display_data"
    }
   ],
   "source": [
    "##### Display the annotation tool\n",
    "annotation_tool.display()"
   ]
  },
  {
   "cell_type": "code",
   "execution_count": 8,
   "id": "03aaa5e4",
   "metadata": {},
   "outputs": [],
   "source": [
    "matching_index = annotation_tool.find_matching_row()\n",
    "if matching_index:\n",
    "    df_row = annotation_tool.df.iloc[[matching_index]]\n",
    "    display(df_row)"
   ]
  },
  {
   "cell_type": "code",
   "execution_count": 9,
   "id": "a2c68e5c",
   "metadata": {},
   "outputs": [
    {
     "data": {
      "text/html": [
       "<div>\n",
       "<style scoped>\n",
       "    .dataframe tbody tr th:only-of-type {\n",
       "        vertical-align: middle;\n",
       "    }\n",
       "\n",
       "    .dataframe tbody tr th {\n",
       "        vertical-align: top;\n",
       "    }\n",
       "\n",
       "    .dataframe thead th {\n",
       "        text-align: right;\n",
       "    }\n",
       "</style>\n",
       "<table border=\"1\" class=\"dataframe\">\n",
       "  <thead>\n",
       "    <tr style=\"text-align: right;\">\n",
       "      <th></th>\n",
       "      <th>verb_id</th>\n",
       "      <th>lex</th>\n",
       "      <th>scroll</th>\n",
       "      <th>book</th>\n",
       "      <th>chapter</th>\n",
       "      <th>verse_num</th>\n",
       "      <th>gcons_verb</th>\n",
       "      <th>gcons_verse</th>\n",
       "      <th>sign_info</th>\n",
       "      <th>stem</th>\n",
       "      <th>tense</th>\n",
       "      <th>gcons_clause</th>\n",
       "      <th>subject</th>\n",
       "      <th>complement</th>\n",
       "      <th>cmpl_lex</th>\n",
       "      <th>cmpl_translation</th>\n",
       "      <th>dir_he</th>\n",
       "      <th>cmpl_constr</th>\n",
       "      <th>cmpl_nt</th>\n",
       "      <th>cmpl_anim</th>\n",
       "      <th>cmpl_det</th>\n",
       "      <th>cmpl_indiv</th>\n",
       "      <th>cmpl_complex</th>\n",
       "      <th>motion_type</th>\n",
       "      <th>preposition_1</th>\n",
       "      <th>preposition_2</th>\n",
       "      <th>preposition_3</th>\n",
       "      <th>preposition_4</th>\n",
       "      <th>preposition_5</th>\n",
       "      <th>preposition_6</th>\n",
       "      <th>comments</th>\n",
       "      <th>reconstructed_verse</th>\n",
       "    </tr>\n",
       "  </thead>\n",
       "  <tbody>\n",
       "    <tr>\n",
       "      <th>295</th>\n",
       "      <td>1999403</td>\n",
       "      <td>JRD[</td>\n",
       "      <td>4Q51</td>\n",
       "      <td>1_Samuel</td>\n",
       "      <td>10</td>\n",
       "      <td>5</td>\n",
       "      <td>JRDJM</td>\n",
       "      <td>W &gt;XR KN TBW&gt; GB&lt;T H &gt;LWHJM &gt;CR CM NYJB PLCTJ W HJH K BW&gt;K CM H &lt;JR W PG&lt;T XBL NB&gt;JM JRDJM M H BMH W L PNJHM NBL W TWP W KNWR W HMH MTNB&gt;JM</td>\n",
       "      <td>1 111 11 1111 1111 1 111111 111 11 1111 11100 0 000 1 1111 11 1 111 1 1111 111 10000 00000 1 1 111 1 1 11100 000 0 000 1 1111 1 111 1111111</td>\n",
       "      <td>qal</td>\n",
       "      <td>ptca</td>\n",
       "      <td>None</td>\n",
       "      <td>None</td>\n",
       "      <td></td>\n",
       "      <td></td>\n",
       "      <td></td>\n",
       "      <td></td>\n",
       "      <td></td>\n",
       "      <td></td>\n",
       "      <td></td>\n",
       "      <td></td>\n",
       "      <td></td>\n",
       "      <td></td>\n",
       "      <td></td>\n",
       "      <td></td>\n",
       "      <td></td>\n",
       "      <td></td>\n",
       "      <td></td>\n",
       "      <td></td>\n",
       "      <td></td>\n",
       "      <td>reconstructed</td>\n",
       "      <td>[W &gt;XR KN TBW&gt; GB&lt;T H &gt;LWHJM &gt;CR CM NYJB PLC]TJ W HJH [K BW&gt;K CM H &lt;JR W PG&lt;T XBL N]B&gt;JM JRDJM [M H BMH W L PNJ]HM NBL W TWP [W KNWR W HMH MTNB&gt;JM]</td>\n",
       "    </tr>\n",
       "  </tbody>\n",
       "</table>\n",
       "</div>"
      ],
      "text/plain": [
       "     verb_id   lex scroll      book  chapter  verse_num gcons_verb  \\\n",
       "295  1999403  JRD[   4Q51  1_Samuel       10          5      JRDJM   \n",
       "\n",
       "                                                                                                                                     gcons_verse  \\\n",
       "295  W >XR KN TBW> GB<T H >LWHJM >CR CM NYJB PLCTJ W HJH K BW>K CM H <JR W PG<T XBL NB>JM JRDJM M H BMH W L PNJHM NBL W TWP W KNWR W HMH MTNB>JM   \n",
       "\n",
       "                                                                                                                                       sign_info  \\\n",
       "295  1 111 11 1111 1111 1 111111 111 11 1111 11100 0 000 1 1111 11 1 111 1 1111 111 10000 00000 1 1 111 1 1 11100 000 0 000 1 1111 1 111 1111111   \n",
       "\n",
       "    stem tense gcons_clause subject complement cmpl_lex cmpl_translation  \\\n",
       "295  qal  ptca         None    None                                        \n",
       "\n",
       "    dir_he cmpl_constr cmpl_nt cmpl_anim cmpl_det cmpl_indiv cmpl_complex  \\\n",
       "295                                                                         \n",
       "\n",
       "    motion_type preposition_1 preposition_2 preposition_3 preposition_4  \\\n",
       "295                                                                       \n",
       "\n",
       "    preposition_5 preposition_6       comments  \\\n",
       "295                              reconstructed   \n",
       "\n",
       "                                                                                                                                     reconstructed_verse  \n",
       "295  [W >XR KN TBW> GB<T H >LWHJM >CR CM NYJB PLC]TJ W HJH [K BW>K CM H <JR W PG<T XBL N]B>JM JRDJM [M H BMH W L PNJ]HM NBL W TWP [W KNWR W HMH MTNB>JM]  "
      ]
     },
     "metadata": {},
     "output_type": "display_data"
    }
   ],
   "source": [
    "# If no match\n",
    "current_index = annotation_tool.current_index\n",
    "df_row = annotation_tool.df.iloc[[current_index - 1]]\n",
    "display(df_row)"
   ]
  },
  {
   "cell_type": "markdown",
   "id": "7ab576f4",
   "metadata": {},
   "source": [
    "Locatives in Deuteronomy \n",
    "\n",
    "HLK Deuteronomy 1 33\n",
    "JY> Deuteronomy 2 32\n",
    "JY> Deuteronomy 3 1\n",
    "HLJKK Deuteronomy 8 2\n",
    "HWYJ>W Deuteronomy 22 15\n",
    "JY>T Deuteronomy 23 13\n",
    "HNJX Deuteronomy 25 19\n",
    "RDT Deuteronomy 28 52\n",
    "HCJBK Deuteronomy 28 68\n",
    "HCBT Deuteronomy 30 1\n",
    "B> Deuteronomy 31 16"
   ]
  },
  {
   "cell_type": "code",
   "execution_count": 10,
   "id": "84263789",
   "metadata": {},
   "outputs": [
    {
     "data": {
      "text/html": [
       "<div>\n",
       "<style scoped>\n",
       "    .dataframe tbody tr th:only-of-type {\n",
       "        vertical-align: middle;\n",
       "    }\n",
       "\n",
       "    .dataframe tbody tr th {\n",
       "        vertical-align: top;\n",
       "    }\n",
       "\n",
       "    .dataframe thead th {\n",
       "        text-align: right;\n",
       "    }\n",
       "</style>\n",
       "<table border=\"1\" class=\"dataframe\">\n",
       "  <thead>\n",
       "    <tr style=\"text-align: right;\">\n",
       "      <th></th>\n",
       "      <th>verb_id</th>\n",
       "      <th>lex</th>\n",
       "      <th>scroll</th>\n",
       "      <th>book</th>\n",
       "      <th>chapter</th>\n",
       "      <th>verse_num</th>\n",
       "      <th>gcons_verb</th>\n",
       "      <th>gcons_verse</th>\n",
       "      <th>sign_info</th>\n",
       "      <th>stem</th>\n",
       "      <th>tense</th>\n",
       "      <th>gcons_clause</th>\n",
       "      <th>subject</th>\n",
       "      <th>complement</th>\n",
       "      <th>cmpl_lex</th>\n",
       "      <th>cmpl_translation</th>\n",
       "      <th>dir_he</th>\n",
       "      <th>cmpl_constr</th>\n",
       "      <th>cmpl_nt</th>\n",
       "      <th>cmpl_anim</th>\n",
       "      <th>cmpl_det</th>\n",
       "      <th>cmpl_indiv</th>\n",
       "      <th>cmpl_complex</th>\n",
       "      <th>motion_type</th>\n",
       "      <th>preposition_1</th>\n",
       "      <th>preposition_2</th>\n",
       "      <th>preposition_3</th>\n",
       "      <th>preposition_4</th>\n",
       "      <th>preposition_5</th>\n",
       "      <th>preposition_6</th>\n",
       "      <th>comments</th>\n",
       "      <th>reconstructed_verse</th>\n",
       "    </tr>\n",
       "  </thead>\n",
       "  <tbody>\n",
       "  </tbody>\n",
       "</table>\n",
       "</div>"
      ],
      "text/plain": [
       "Empty DataFrame\n",
       "Columns: [verb_id, lex, scroll, book, chapter, verse_num, gcons_verb, gcons_verse, sign_info, stem, tense, gcons_clause, subject, complement, cmpl_lex, cmpl_translation, dir_he, cmpl_constr, cmpl_nt, cmpl_anim, cmpl_det, cmpl_indiv, cmpl_complex, motion_type, preposition_1, preposition_2, preposition_3, preposition_4, preposition_5, preposition_6, comments, reconstructed_verse]\n",
       "Index: []"
      ]
     },
     "execution_count": 10,
     "metadata": {},
     "output_type": "execute_result"
    }
   ],
   "source": [
    "annotation_tool.df[(annotation_tool.df.chapter == 8) & (annotation_tool.df.verse_num == 21)]"
   ]
  },
  {
   "cell_type": "markdown",
   "id": "57510887",
   "metadata": {},
   "source": [
    "#### Buttons legend\n",
    "\n",
    "\n",
    "<div style=\"text-align: center;\">Name types</div>\n",
    "\n",
    "\n",
    "| Button    | Description                                   |\n",
    "|-----------|:----------------------------------------------|\n",
    "| abs       | abstract nouns (freedom, judgments, etc)      |\n",
    "| adv       | adverb                                        |\n",
    "| bopa      | body part                                     |\n",
    "| dir       | direction                                     |\n",
    "| gens      | people                                        |\n",
    "| mens      | measurement unit                              |\n",
    "| na        | non applicable                                |\n",
    "| obj       | object, thing                                 |\n",
    "| occ       | occupation, work, activities, etc             |\n",
    "| other     | other                                         |\n",
    "| pers      | person                                        |\n",
    "| phen      | phenomenon (sound, light, weather, etc)       |\n",
    "| ppde      | demonstrative personal pronoun                |\n",
    "| ppin      | interrogative pronoun                         |\n",
    "| prps      | personal pronoun                              |\n",
    "| topo      | place                                         |\n",
    "\n",
    "***   \n",
    "\n",
    "<div style=\"text-align: center;\">Animacy</div>\n",
    "\n",
    "\n",
    "| Button       | Description             |\n",
    "| -------------|:------------------------|\n",
    "| anim         | animate                 |\n",
    "| inanim       | inanimate               |\n",
    "| anim inanim  | to be determined later  |\n",
    "\n",
    "***\n",
    "\n",
    "<div style=\"text-align: center;\">Individuation</div>\n",
    "\n",
    "\n",
    "| Button | Description           |\n",
    "|--------|:----------------------|\n",
    "| adv    | adverb                |\n",
    "| nmpr   | proper noun           |\n",
    "| ppin   | interrogative pronoun |\n",
    "| prsf   | pronominal suffix     |\n",
    "| subs   | substantive           |\n",
    "| ptcl   | participle            |\n",
    "\n",
    "***\n",
    "\n",
    "<div style=\"text-align: center;\">Complexity</div>\n",
    "\n",
    "\n",
    "| Button   | Description                           |\n",
    "|----------|:--------------------------------------|\n",
    "| complex  | more than one morpheme                |\n",
    "| simple   | one morpheme (excluding prepositions) |\n",
    "\n",
    "\n",
    "***\n",
    "\n",
    "<div style=\"text-align: center;\">Motion types</div>\n",
    "\n",
    "\n",
    "| Button          | Description                            |\n",
    "|-----------------|----------------------------------------|\n",
    "| factive         | factive (actual) motion                |\n",
    "| fictive         | fictive (non actual) motion            |\n",
    "| factive fictive | unsure, to be determined later on      |\n",
    "\n",
    "\n",
    "#### Factive motion checklist:\n",
    "- something or someone *physical* in the expression goes through a change of position from a point A or to a point B (or both)\n",
    "\n",
    "#### Complexity:\n",
    "- noun + definite article : simple\n",
    "- noun + personal pronoun : complex\n",
    "\n",
    "#### Definiteness:\n",
    "- det: with definite article, with pronominal suffixes, in construct chain\n",
    "- und\n",
    "- na : non applicable (ex: for interrogative particle)\n",
    "\n",
    "#### Reconstruction\n",
    "- reconstructed : all or part (prep, dir-he space) of the complement or the motion verb are reconstructed\n",
    "- reconstructed? : when the complement or the verb are not reconstructed, but parts of the clause are"
   ]
  },
  {
   "cell_type": "code",
   "execution_count": 11,
   "id": "391465cb",
   "metadata": {},
   "outputs": [
    {
     "name": "stdout",
     "output_type": "stream",
     "text": [
      "DataFrame saved as data/biblical_datasets/1_samuel/annotation_df_history/1_samuel_2024-06-18_10_42.csv and data/biblical_datasets/1_samuel/annotation_df_history/1_samuel.csv.\n"
     ]
    }
   ],
   "source": [
    "current_index = annotation_tool.current_index\n",
    "current_date = datetime.datetime.now().strftime(\"%Y-%m-%d_%H_%M\")\n",
    "historical_filename = f\"data/biblical_datasets/1_samuel/annotation_df_history/1_samuel_{current_date}.csv\"\n",
    "current_filename = csv_file_path\n",
    "\n",
    "# To save the annotated DataFrame with the appropriate path\n",
    "annotation_tool.save_dataframe(historical_filename, current_filename)\n",
    "\n",
    "# To save the annotation session details\n",
    "annotation_tool.save_annotation_details()"
   ]
  },
  {
   "cell_type": "code",
   "execution_count": 12,
   "id": "66904d2b",
   "metadata": {},
   "outputs": [
    {
     "name": "stdout",
     "output_type": "stream",
     "text": [
      "Size of the dataset: 963.\n",
      "297 rows are now annotated.\n",
      "You have 666 rows left to anntoate.\n"
     ]
    }
   ],
   "source": [
    "len_df = len(annotation_tool.df)\n",
    "annotated = current_index - start_index + 1\n",
    "left_to_annot = len(annotation_tool.df) - current_index - 1\n",
    "\n",
    "print(f\"Size of the dataset: {len_df}.\\n{annotated} rows are now annotated.\\nYou have {left_to_annot} rows left to anntoate.\")"
   ]
  },
  {
   "cell_type": "markdown",
   "id": "01bdc73f",
   "metadata": {},
   "source": [
    "### Print some information about your dataset"
   ]
  },
  {
   "cell_type": "code",
   "execution_count": null,
   "id": "1a7c7d3c",
   "metadata": {},
   "outputs": [],
   "source": [
    "# Print the different values of the column \"comments\"\n",
    "#set(annotation_tool.df.comments)\n",
    "#set(annotation_tool.df.cmpl_translation)\n",
    "#set(annotation_tool.df.cmpl_constr)"
   ]
  },
  {
   "cell_type": "code",
   "execution_count": null,
   "id": "722ffd4e",
   "metadata": {},
   "outputs": [],
   "source": [
    "annotation_tool.df.head(80)"
   ]
  },
  {
   "cell_type": "code",
   "execution_count": null,
   "id": "ec153e2b",
   "metadata": {
    "scrolled": true
   },
   "outputs": [],
   "source": [
    "# Print some df lines\n",
    "\n",
    "#annotation_tool.df[annotation_tool.df.cmpl_lex == \"MN RXWQ/\"]\n",
    "#annotation_tool.df[annotation_tool.df.cmpl_constr == \"vc\"]\n",
    "#annotation_tool.df[annotation_tool.df.cmpl_anim == \"inanim anim\"]\n",
    "#annotation_tool.df[annotation_tool.df.gcons_clause == \"SWRW\"]\n",
    "#annotation_tool.df[annotation_tool.df.motion_type == \"factive fictive\"]\n",
    "#annotation_tool.df[(annotation_tool.df.complement != \"no complement\") & (annotation_tool.df.cmpl_translation == \"\")]\n",
    "#len(annotation_tool.df)\n",
    "#annotation_tool.df[annotation_tool.df.preposition_1 == \">XR/\"]\n",
    "#\n",
    "filtered_df = annotation_tool.df[(annotation_tool.df['cmpl_lex'].str.contains(r'(?i)\\bB QRB\\b', na=False))]\n",
    "filtered_df \n",
    "\n",
    "#annotation_tool.df[(annotation_tool.df.chapter == 14) & (annotation_tool.df.verse_num == 19)]\n",
    "# 276 278 281 282 300 302 303 358 376 377 378 379 380 399 401 402 527 528 604 655 656 731 766 799 803 815 828 832 838"
   ]
  },
  {
   "cell_type": "code",
   "execution_count": null,
   "id": "8ed8e9a4",
   "metadata": {
    "scrolled": false
   },
   "outputs": [],
   "source": [
    "# see 1130 \"to the waters\", topo?\n",
    "# see index 209 animate vc?\n",
    "annotation_tool.df[(annotation_tool.df.chapter == 21) & (annotation_tool.df.verse_num == 1)]"
   ]
  },
  {
   "cell_type": "code",
   "execution_count": null,
   "id": "1d56eade",
   "metadata": {},
   "outputs": [],
   "source": [
    "set(annotation_tool.df.cmpl_constr)"
   ]
  },
  {
   "cell_type": "code",
   "execution_count": null,
   "id": "27be6e7b",
   "metadata": {},
   "outputs": [],
   "source": [
    "set(annotation_tool.df.dir_he)"
   ]
  },
  {
   "cell_type": "code",
   "execution_count": null,
   "id": "417c9708",
   "metadata": {},
   "outputs": [],
   "source": [
    "set(annotation_tool.df.cmpl_nt)"
   ]
  },
  {
   "cell_type": "code",
   "execution_count": null,
   "id": "be60c463",
   "metadata": {},
   "outputs": [],
   "source": [
    "set(annotation_tool.df.cmpl_anim)"
   ]
  },
  {
   "cell_type": "code",
   "execution_count": null,
   "id": "d2dc6e55",
   "metadata": {},
   "outputs": [],
   "source": [
    "set(annotation_tool.df.cmpl_det)"
   ]
  },
  {
   "cell_type": "code",
   "execution_count": null,
   "id": "b33b4c99",
   "metadata": {},
   "outputs": [],
   "source": [
    "set(annotation_tool.df.cmpl_indiv)"
   ]
  },
  {
   "cell_type": "code",
   "execution_count": null,
   "id": "76bd8b81",
   "metadata": {},
   "outputs": [],
   "source": [
    "set(annotation_tool.df.cmpl_complex)"
   ]
  },
  {
   "cell_type": "code",
   "execution_count": null,
   "id": "0c11be67",
   "metadata": {},
   "outputs": [],
   "source": [
    "df.columns"
   ]
  },
  {
   "cell_type": "code",
   "execution_count": null,
   "id": "c79d2728",
   "metadata": {},
   "outputs": [],
   "source": [
    "set(annotation_tool.df.lex)"
   ]
  }
 ],
 "metadata": {
  "kernelspec": {
   "display_name": "Python 3 (ipykernel)",
   "language": "python",
   "name": "python3"
  },
  "language_info": {
   "codemirror_mode": {
    "name": "ipython",
    "version": 3
   },
   "file_extension": ".py",
   "mimetype": "text/x-python",
   "name": "python",
   "nbconvert_exporter": "python",
   "pygments_lexer": "ipython3",
   "version": "3.9.16"
  }
 },
 "nbformat": 4,
 "nbformat_minor": 5
}
