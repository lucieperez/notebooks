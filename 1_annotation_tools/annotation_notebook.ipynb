{
 "cells": [
  {
   "cell_type": "code",
   "execution_count": 1,
   "id": "bd052a60",
   "metadata": {},
   "outputs": [],
   "source": [
    "import ipywidgets as widgets\n",
    "import pandas as pd\n",
    "import datetime\n",
    "\n",
    "from IPython.display import display, clear_output"
   ]
  },
  {
   "cell_type": "code",
   "execution_count": 2,
   "id": "c84d67e8",
   "metadata": {},
   "outputs": [],
   "source": [
    "### This notebook has been created with the help of ChatGPT. ###"
   ]
  },
  {
   "cell_type": "code",
   "execution_count": 3,
   "id": "fe064990",
   "metadata": {},
   "outputs": [],
   "source": [
    "pd.set_option('display.max_colwidth', None)  # For older versions of pandas, use -1 instead of None\n",
    "pd.set_option('display.max_columns', None)   # Ensure all columns are shown"
   ]
  },
  {
   "cell_type": "code",
   "execution_count": 4,
   "id": "21e3a380",
   "metadata": {},
   "outputs": [
    {
     "ename": "FileNotFoundError",
     "evalue": "[Errno 2] No such file or directory: 'data/full_isaiah_dataset.csv'",
     "output_type": "error",
     "traceback": [
      "\u001b[1;31m---------------------------------------------------------------------------\u001b[0m",
      "\u001b[1;31mFileNotFoundError\u001b[0m                         Traceback (most recent call last)",
      "Cell \u001b[1;32mIn[4], line 1\u001b[0m\n\u001b[1;32m----> 1\u001b[0m df \u001b[38;5;241m=\u001b[39m \u001b[43mpd\u001b[49m\u001b[38;5;241;43m.\u001b[39;49m\u001b[43mread_csv\u001b[49m\u001b[43m(\u001b[49m\u001b[38;5;124;43m'\u001b[39;49m\u001b[38;5;124;43mdata/full_isaiah_dataset.csv\u001b[39;49m\u001b[38;5;124;43m'\u001b[39;49m\u001b[43m)\u001b[49m  \u001b[38;5;66;03m# Replace with your DataFrame\u001b[39;00m\n\u001b[0;32m      2\u001b[0m df \u001b[38;5;241m=\u001b[39m df\u001b[38;5;241m.\u001b[39mfillna(\u001b[38;5;124m\"\u001b[39m\u001b[38;5;124m\"\u001b[39m)\n\u001b[0;32m      4\u001b[0m \u001b[38;5;66;03m# converting 'dir_he' and 'dir_he_dss' from float to int \u001b[39;00m\n",
      "File \u001b[1;32m~\\anaconda3\\envs\\annotation_env\\lib\\site-packages\\pandas\\util\\_decorators.py:211\u001b[0m, in \u001b[0;36mdeprecate_kwarg.<locals>._deprecate_kwarg.<locals>.wrapper\u001b[1;34m(*args, **kwargs)\u001b[0m\n\u001b[0;32m    209\u001b[0m     \u001b[38;5;28;01melse\u001b[39;00m:\n\u001b[0;32m    210\u001b[0m         kwargs[new_arg_name] \u001b[38;5;241m=\u001b[39m new_arg_value\n\u001b[1;32m--> 211\u001b[0m \u001b[38;5;28;01mreturn\u001b[39;00m func(\u001b[38;5;241m*\u001b[39margs, \u001b[38;5;241m*\u001b[39m\u001b[38;5;241m*\u001b[39mkwargs)\n",
      "File \u001b[1;32m~\\anaconda3\\envs\\annotation_env\\lib\\site-packages\\pandas\\util\\_decorators.py:331\u001b[0m, in \u001b[0;36mdeprecate_nonkeyword_arguments.<locals>.decorate.<locals>.wrapper\u001b[1;34m(*args, **kwargs)\u001b[0m\n\u001b[0;32m    325\u001b[0m \u001b[38;5;28;01mif\u001b[39;00m \u001b[38;5;28mlen\u001b[39m(args) \u001b[38;5;241m>\u001b[39m num_allow_args:\n\u001b[0;32m    326\u001b[0m     warnings\u001b[38;5;241m.\u001b[39mwarn(\n\u001b[0;32m    327\u001b[0m         msg\u001b[38;5;241m.\u001b[39mformat(arguments\u001b[38;5;241m=\u001b[39m_format_argument_list(allow_args)),\n\u001b[0;32m    328\u001b[0m         \u001b[38;5;167;01mFutureWarning\u001b[39;00m,\n\u001b[0;32m    329\u001b[0m         stacklevel\u001b[38;5;241m=\u001b[39mfind_stack_level(),\n\u001b[0;32m    330\u001b[0m     )\n\u001b[1;32m--> 331\u001b[0m \u001b[38;5;28;01mreturn\u001b[39;00m func(\u001b[38;5;241m*\u001b[39margs, \u001b[38;5;241m*\u001b[39m\u001b[38;5;241m*\u001b[39mkwargs)\n",
      "File \u001b[1;32m~\\anaconda3\\envs\\annotation_env\\lib\\site-packages\\pandas\\io\\parsers\\readers.py:950\u001b[0m, in \u001b[0;36mread_csv\u001b[1;34m(filepath_or_buffer, sep, delimiter, header, names, index_col, usecols, squeeze, prefix, mangle_dupe_cols, dtype, engine, converters, true_values, false_values, skipinitialspace, skiprows, skipfooter, nrows, na_values, keep_default_na, na_filter, verbose, skip_blank_lines, parse_dates, infer_datetime_format, keep_date_col, date_parser, dayfirst, cache_dates, iterator, chunksize, compression, thousands, decimal, lineterminator, quotechar, quoting, doublequote, escapechar, comment, encoding, encoding_errors, dialect, error_bad_lines, warn_bad_lines, on_bad_lines, delim_whitespace, low_memory, memory_map, float_precision, storage_options)\u001b[0m\n\u001b[0;32m    935\u001b[0m kwds_defaults \u001b[38;5;241m=\u001b[39m _refine_defaults_read(\n\u001b[0;32m    936\u001b[0m     dialect,\n\u001b[0;32m    937\u001b[0m     delimiter,\n\u001b[1;32m   (...)\u001b[0m\n\u001b[0;32m    946\u001b[0m     defaults\u001b[38;5;241m=\u001b[39m{\u001b[38;5;124m\"\u001b[39m\u001b[38;5;124mdelimiter\u001b[39m\u001b[38;5;124m\"\u001b[39m: \u001b[38;5;124m\"\u001b[39m\u001b[38;5;124m,\u001b[39m\u001b[38;5;124m\"\u001b[39m},\n\u001b[0;32m    947\u001b[0m )\n\u001b[0;32m    948\u001b[0m kwds\u001b[38;5;241m.\u001b[39mupdate(kwds_defaults)\n\u001b[1;32m--> 950\u001b[0m \u001b[38;5;28;01mreturn\u001b[39;00m \u001b[43m_read\u001b[49m\u001b[43m(\u001b[49m\u001b[43mfilepath_or_buffer\u001b[49m\u001b[43m,\u001b[49m\u001b[43m \u001b[49m\u001b[43mkwds\u001b[49m\u001b[43m)\u001b[49m\n",
      "File \u001b[1;32m~\\anaconda3\\envs\\annotation_env\\lib\\site-packages\\pandas\\io\\parsers\\readers.py:605\u001b[0m, in \u001b[0;36m_read\u001b[1;34m(filepath_or_buffer, kwds)\u001b[0m\n\u001b[0;32m    602\u001b[0m _validate_names(kwds\u001b[38;5;241m.\u001b[39mget(\u001b[38;5;124m\"\u001b[39m\u001b[38;5;124mnames\u001b[39m\u001b[38;5;124m\"\u001b[39m, \u001b[38;5;28;01mNone\u001b[39;00m))\n\u001b[0;32m    604\u001b[0m \u001b[38;5;66;03m# Create the parser.\u001b[39;00m\n\u001b[1;32m--> 605\u001b[0m parser \u001b[38;5;241m=\u001b[39m TextFileReader(filepath_or_buffer, \u001b[38;5;241m*\u001b[39m\u001b[38;5;241m*\u001b[39mkwds)\n\u001b[0;32m    607\u001b[0m \u001b[38;5;28;01mif\u001b[39;00m chunksize \u001b[38;5;129;01mor\u001b[39;00m iterator:\n\u001b[0;32m    608\u001b[0m     \u001b[38;5;28;01mreturn\u001b[39;00m parser\n",
      "File \u001b[1;32m~\\anaconda3\\envs\\annotation_env\\lib\\site-packages\\pandas\\io\\parsers\\readers.py:1442\u001b[0m, in \u001b[0;36mTextFileReader.__init__\u001b[1;34m(self, f, engine, **kwds)\u001b[0m\n\u001b[0;32m   1439\u001b[0m     \u001b[38;5;28mself\u001b[39m\u001b[38;5;241m.\u001b[39moptions[\u001b[38;5;124m\"\u001b[39m\u001b[38;5;124mhas_index_names\u001b[39m\u001b[38;5;124m\"\u001b[39m] \u001b[38;5;241m=\u001b[39m kwds[\u001b[38;5;124m\"\u001b[39m\u001b[38;5;124mhas_index_names\u001b[39m\u001b[38;5;124m\"\u001b[39m]\n\u001b[0;32m   1441\u001b[0m \u001b[38;5;28mself\u001b[39m\u001b[38;5;241m.\u001b[39mhandles: IOHandles \u001b[38;5;241m|\u001b[39m \u001b[38;5;28;01mNone\u001b[39;00m \u001b[38;5;241m=\u001b[39m \u001b[38;5;28;01mNone\u001b[39;00m\n\u001b[1;32m-> 1442\u001b[0m \u001b[38;5;28mself\u001b[39m\u001b[38;5;241m.\u001b[39m_engine \u001b[38;5;241m=\u001b[39m \u001b[38;5;28;43mself\u001b[39;49m\u001b[38;5;241;43m.\u001b[39;49m\u001b[43m_make_engine\u001b[49m\u001b[43m(\u001b[49m\u001b[43mf\u001b[49m\u001b[43m,\u001b[49m\u001b[43m \u001b[49m\u001b[38;5;28;43mself\u001b[39;49m\u001b[38;5;241;43m.\u001b[39;49m\u001b[43mengine\u001b[49m\u001b[43m)\u001b[49m\n",
      "File \u001b[1;32m~\\anaconda3\\envs\\annotation_env\\lib\\site-packages\\pandas\\io\\parsers\\readers.py:1735\u001b[0m, in \u001b[0;36mTextFileReader._make_engine\u001b[1;34m(self, f, engine)\u001b[0m\n\u001b[0;32m   1733\u001b[0m     \u001b[38;5;28;01mif\u001b[39;00m \u001b[38;5;124m\"\u001b[39m\u001b[38;5;124mb\u001b[39m\u001b[38;5;124m\"\u001b[39m \u001b[38;5;129;01mnot\u001b[39;00m \u001b[38;5;129;01min\u001b[39;00m mode:\n\u001b[0;32m   1734\u001b[0m         mode \u001b[38;5;241m+\u001b[39m\u001b[38;5;241m=\u001b[39m \u001b[38;5;124m\"\u001b[39m\u001b[38;5;124mb\u001b[39m\u001b[38;5;124m\"\u001b[39m\n\u001b[1;32m-> 1735\u001b[0m \u001b[38;5;28mself\u001b[39m\u001b[38;5;241m.\u001b[39mhandles \u001b[38;5;241m=\u001b[39m \u001b[43mget_handle\u001b[49m\u001b[43m(\u001b[49m\n\u001b[0;32m   1736\u001b[0m \u001b[43m    \u001b[49m\u001b[43mf\u001b[49m\u001b[43m,\u001b[49m\n\u001b[0;32m   1737\u001b[0m \u001b[43m    \u001b[49m\u001b[43mmode\u001b[49m\u001b[43m,\u001b[49m\n\u001b[0;32m   1738\u001b[0m \u001b[43m    \u001b[49m\u001b[43mencoding\u001b[49m\u001b[38;5;241;43m=\u001b[39;49m\u001b[38;5;28;43mself\u001b[39;49m\u001b[38;5;241;43m.\u001b[39;49m\u001b[43moptions\u001b[49m\u001b[38;5;241;43m.\u001b[39;49m\u001b[43mget\u001b[49m\u001b[43m(\u001b[49m\u001b[38;5;124;43m\"\u001b[39;49m\u001b[38;5;124;43mencoding\u001b[39;49m\u001b[38;5;124;43m\"\u001b[39;49m\u001b[43m,\u001b[49m\u001b[43m \u001b[49m\u001b[38;5;28;43;01mNone\u001b[39;49;00m\u001b[43m)\u001b[49m\u001b[43m,\u001b[49m\n\u001b[0;32m   1739\u001b[0m \u001b[43m    \u001b[49m\u001b[43mcompression\u001b[49m\u001b[38;5;241;43m=\u001b[39;49m\u001b[38;5;28;43mself\u001b[39;49m\u001b[38;5;241;43m.\u001b[39;49m\u001b[43moptions\u001b[49m\u001b[38;5;241;43m.\u001b[39;49m\u001b[43mget\u001b[49m\u001b[43m(\u001b[49m\u001b[38;5;124;43m\"\u001b[39;49m\u001b[38;5;124;43mcompression\u001b[39;49m\u001b[38;5;124;43m\"\u001b[39;49m\u001b[43m,\u001b[49m\u001b[43m \u001b[49m\u001b[38;5;28;43;01mNone\u001b[39;49;00m\u001b[43m)\u001b[49m\u001b[43m,\u001b[49m\n\u001b[0;32m   1740\u001b[0m \u001b[43m    \u001b[49m\u001b[43mmemory_map\u001b[49m\u001b[38;5;241;43m=\u001b[39;49m\u001b[38;5;28;43mself\u001b[39;49m\u001b[38;5;241;43m.\u001b[39;49m\u001b[43moptions\u001b[49m\u001b[38;5;241;43m.\u001b[39;49m\u001b[43mget\u001b[49m\u001b[43m(\u001b[49m\u001b[38;5;124;43m\"\u001b[39;49m\u001b[38;5;124;43mmemory_map\u001b[39;49m\u001b[38;5;124;43m\"\u001b[39;49m\u001b[43m,\u001b[49m\u001b[43m \u001b[49m\u001b[38;5;28;43;01mFalse\u001b[39;49;00m\u001b[43m)\u001b[49m\u001b[43m,\u001b[49m\n\u001b[0;32m   1741\u001b[0m \u001b[43m    \u001b[49m\u001b[43mis_text\u001b[49m\u001b[38;5;241;43m=\u001b[39;49m\u001b[43mis_text\u001b[49m\u001b[43m,\u001b[49m\n\u001b[0;32m   1742\u001b[0m \u001b[43m    \u001b[49m\u001b[43merrors\u001b[49m\u001b[38;5;241;43m=\u001b[39;49m\u001b[38;5;28;43mself\u001b[39;49m\u001b[38;5;241;43m.\u001b[39;49m\u001b[43moptions\u001b[49m\u001b[38;5;241;43m.\u001b[39;49m\u001b[43mget\u001b[49m\u001b[43m(\u001b[49m\u001b[38;5;124;43m\"\u001b[39;49m\u001b[38;5;124;43mencoding_errors\u001b[39;49m\u001b[38;5;124;43m\"\u001b[39;49m\u001b[43m,\u001b[49m\u001b[43m \u001b[49m\u001b[38;5;124;43m\"\u001b[39;49m\u001b[38;5;124;43mstrict\u001b[39;49m\u001b[38;5;124;43m\"\u001b[39;49m\u001b[43m)\u001b[49m\u001b[43m,\u001b[49m\n\u001b[0;32m   1743\u001b[0m \u001b[43m    \u001b[49m\u001b[43mstorage_options\u001b[49m\u001b[38;5;241;43m=\u001b[39;49m\u001b[38;5;28;43mself\u001b[39;49m\u001b[38;5;241;43m.\u001b[39;49m\u001b[43moptions\u001b[49m\u001b[38;5;241;43m.\u001b[39;49m\u001b[43mget\u001b[49m\u001b[43m(\u001b[49m\u001b[38;5;124;43m\"\u001b[39;49m\u001b[38;5;124;43mstorage_options\u001b[39;49m\u001b[38;5;124;43m\"\u001b[39;49m\u001b[43m,\u001b[49m\u001b[43m \u001b[49m\u001b[38;5;28;43;01mNone\u001b[39;49;00m\u001b[43m)\u001b[49m\u001b[43m,\u001b[49m\n\u001b[0;32m   1744\u001b[0m \u001b[43m\u001b[49m\u001b[43m)\u001b[49m\n\u001b[0;32m   1745\u001b[0m \u001b[38;5;28;01massert\u001b[39;00m \u001b[38;5;28mself\u001b[39m\u001b[38;5;241m.\u001b[39mhandles \u001b[38;5;129;01mis\u001b[39;00m \u001b[38;5;129;01mnot\u001b[39;00m \u001b[38;5;28;01mNone\u001b[39;00m\n\u001b[0;32m   1746\u001b[0m f \u001b[38;5;241m=\u001b[39m \u001b[38;5;28mself\u001b[39m\u001b[38;5;241m.\u001b[39mhandles\u001b[38;5;241m.\u001b[39mhandle\n",
      "File \u001b[1;32m~\\anaconda3\\envs\\annotation_env\\lib\\site-packages\\pandas\\io\\common.py:856\u001b[0m, in \u001b[0;36mget_handle\u001b[1;34m(path_or_buf, mode, encoding, compression, memory_map, is_text, errors, storage_options)\u001b[0m\n\u001b[0;32m    851\u001b[0m \u001b[38;5;28;01melif\u001b[39;00m \u001b[38;5;28misinstance\u001b[39m(handle, \u001b[38;5;28mstr\u001b[39m):\n\u001b[0;32m    852\u001b[0m     \u001b[38;5;66;03m# Check whether the filename is to be opened in binary mode.\u001b[39;00m\n\u001b[0;32m    853\u001b[0m     \u001b[38;5;66;03m# Binary mode does not support 'encoding' and 'newline'.\u001b[39;00m\n\u001b[0;32m    854\u001b[0m     \u001b[38;5;28;01mif\u001b[39;00m ioargs\u001b[38;5;241m.\u001b[39mencoding \u001b[38;5;129;01mand\u001b[39;00m \u001b[38;5;124m\"\u001b[39m\u001b[38;5;124mb\u001b[39m\u001b[38;5;124m\"\u001b[39m \u001b[38;5;129;01mnot\u001b[39;00m \u001b[38;5;129;01min\u001b[39;00m ioargs\u001b[38;5;241m.\u001b[39mmode:\n\u001b[0;32m    855\u001b[0m         \u001b[38;5;66;03m# Encoding\u001b[39;00m\n\u001b[1;32m--> 856\u001b[0m         handle \u001b[38;5;241m=\u001b[39m \u001b[38;5;28;43mopen\u001b[39;49m\u001b[43m(\u001b[49m\n\u001b[0;32m    857\u001b[0m \u001b[43m            \u001b[49m\u001b[43mhandle\u001b[49m\u001b[43m,\u001b[49m\n\u001b[0;32m    858\u001b[0m \u001b[43m            \u001b[49m\u001b[43mioargs\u001b[49m\u001b[38;5;241;43m.\u001b[39;49m\u001b[43mmode\u001b[49m\u001b[43m,\u001b[49m\n\u001b[0;32m    859\u001b[0m \u001b[43m            \u001b[49m\u001b[43mencoding\u001b[49m\u001b[38;5;241;43m=\u001b[39;49m\u001b[43mioargs\u001b[49m\u001b[38;5;241;43m.\u001b[39;49m\u001b[43mencoding\u001b[49m\u001b[43m,\u001b[49m\n\u001b[0;32m    860\u001b[0m \u001b[43m            \u001b[49m\u001b[43merrors\u001b[49m\u001b[38;5;241;43m=\u001b[39;49m\u001b[43merrors\u001b[49m\u001b[43m,\u001b[49m\n\u001b[0;32m    861\u001b[0m \u001b[43m            \u001b[49m\u001b[43mnewline\u001b[49m\u001b[38;5;241;43m=\u001b[39;49m\u001b[38;5;124;43m\"\u001b[39;49m\u001b[38;5;124;43m\"\u001b[39;49m\u001b[43m,\u001b[49m\n\u001b[0;32m    862\u001b[0m \u001b[43m        \u001b[49m\u001b[43m)\u001b[49m\n\u001b[0;32m    863\u001b[0m     \u001b[38;5;28;01melse\u001b[39;00m:\n\u001b[0;32m    864\u001b[0m         \u001b[38;5;66;03m# Binary mode\u001b[39;00m\n\u001b[0;32m    865\u001b[0m         handle \u001b[38;5;241m=\u001b[39m \u001b[38;5;28mopen\u001b[39m(handle, ioargs\u001b[38;5;241m.\u001b[39mmode)\n",
      "\u001b[1;31mFileNotFoundError\u001b[0m: [Errno 2] No such file or directory: 'data/full_isaiah_dataset.csv'"
     ]
    }
   ],
   "source": [
    "df = pd.read_csv('data/full_isaiah_dataset.csv')  # Replace with your DataFrame\n",
    "df = df.fillna(\"\")\n",
    "\n",
    "# converting 'dir_he' and 'dir_he_dss' from float to int \n",
    "\n",
    "df[\"dir_he\"] = df[\"dir_he\"].astype(str)\n",
    "df[\"dir_he\"] = df[\"dir_he\"].replace(\"1.0\", \"1\").replace(\"0.0\", \"0\")\n",
    "\n",
    "df[\"dir_he_dss\"] = df[\"dir_he_dss\"].astype(str)\n",
    "df[\"dir_he_dss\"] = df[\"dir_he_dss\"].replace(\"1.0\", \"1\").replace(\"0.0\", \"0\")\n",
    "\n",
    "df.columns"
   ]
  },
  {
   "cell_type": "markdown",
   "id": "e7d056ff",
   "metadata": {},
   "source": [
    "### Step 3: Define Columns to Annotate and Create Widgets"
   ]
  },
  {
   "cell_type": "code",
   "execution_count": 5,
   "id": "f1099d98",
   "metadata": {},
   "outputs": [],
   "source": [
    "# List of columns of interest\n",
    "columns = df.columns.to_list()\n",
    "columns_for_info = [\n",
    "    'verb_id',\n",
    "    'lex',\n",
    "    'scroll',\n",
    "    'book',\n",
    "    'chapter',\n",
    "    'verse_num',\n",
    "    'gcons_verb',\n",
    "    'gcons_verse',\n",
    "    'sign_info',\n",
    "    'stem',\n",
    "    'tense',\n",
    "]\n",
    "columns_to_annotate = [\n",
    "    'gcons_clause',\n",
    "    'subject',\n",
    "    'complement',\n",
    "    'cmpl_lex',\n",
    "    'dir_he',\n",
    "    'cmpl_constr', \n",
    "    'cmpl_nt', \n",
    "    'cmpl_anim', \n",
    "    'cmpl_det', \n",
    "    'cmpl_indiv',\n",
    "    'motion_type',\n",
    "    'preposition_1',\n",
    "    'preposition_2',\n",
    "    'preposition_3',\n",
    "    'preposition_4',\n",
    "]"
   ]
  },
  {
   "cell_type": "code",
   "execution_count": 6,
   "id": "5efa3d7f",
   "metadata": {},
   "outputs": [],
   "source": [
    "annotation_input = widgets.Textarea(\n",
    "    value='',\n",
    "    placeholder='Type your annotation here',\n",
    "    description='',\n",
    "    disabled=False,\n",
    "    layout=widgets.Layout(width='100%', height='100px')  # Adjust width and height as needed\n",
    ")\n",
    "\n",
    "submit_button = widgets.Button(\n",
    "    description='Submit',\n",
    "    disabled=False,\n",
    "    button_style='',\n",
    "    tooltip='Click to submit annotation',\n",
    "    icon='check'\n",
    ")\n",
    "\n",
    "prev_row_button = widgets.Button(\n",
    "    description='Previous Row',\n",
    "    disabled=False,\n",
    "    button_style='',\n",
    "    tooltip='Go to the previous row',\n",
    "    icon='arrow-left'\n",
    ")\n",
    "\n",
    "next_row_button = widgets.Button(\n",
    "    description='Next Row',\n",
    "    disabled=False,\n",
    "    button_style='',\n",
    "    tooltip='Go to the next row',\n",
    "    icon='arrow-right'\n",
    ")"
   ]
  },
  {
   "cell_type": "markdown",
   "id": "eb555ecf",
   "metadata": {},
   "source": [
    "### Step 4.1 Add function for tracking your progress"
   ]
  },
  {
   "cell_type": "code",
   "execution_count": 7,
   "id": "1c338f07",
   "metadata": {},
   "outputs": [],
   "source": [
    "# Today's dataframe\n",
    "df_name = \"biblical_dss\""
   ]
  },
  {
   "cell_type": "code",
   "execution_count": 8,
   "id": "ecb55069",
   "metadata": {},
   "outputs": [],
   "source": [
    "def save_annotation_details(df, current_index, fully_annotated_rows):\n",
    "    file_path = 'data/annotation_df_history/annotation_tracks.txt'\n",
    "    \n",
    "    # Get the current date and time\n",
    "    current_datetime = datetime.datetime.now().strftime(\"%Y-%m-%d %H:%M\")\n",
    "\n",
    "    current_row_index = df.index[current_index]\n",
    "\n",
    "    details = f\"Date and Time: {current_datetime}\\nDataFrame: {df_name}\\nCurrent Index: {current_index}\\nCurrent Row Index: {current_row_index}\\nFully Annotated Rows: {fully_annotated_rows}\\n\\n\"\n",
    "\n",
    "    with open(file_path, 'a') as file:\n",
    "        file.write(details)\n",
    "\n",
    "        \n",
    "def count_fully_annotated_rows(df, columns_to_annotate):\n",
    "    return df[columns_to_annotate].dropna().shape[0]\n",
    "\n",
    "\n",
    "def save_dataframe(df, df_name):\n",
    "    # Get the current date in YYYY-MM-DD format\n",
    "    current_date = datetime.datetime.now().strftime(\"%Y-%m-%d_%H_%M\")\n",
    "\n",
    "    # Construct the filename\n",
    "    filename = f\"data/annotation_df_history/{df_name}_{current_date}.csv\"\n",
    "\n",
    "    # Save the DataFrame to a CSV file\n",
    "    df.to_csv(filename, index=False)  # Set index=False if you don't want to save the index\n",
    "\n",
    "    print(f\"DataFrame saved as {filename}\")"
   ]
  },
  {
   "cell_type": "markdown",
   "id": "4956450f",
   "metadata": {},
   "source": [
    "### Step 4.2 Functions to Display Data and Widgets with Navigation and Iteration Logic"
   ]
  },
  {
   "cell_type": "code",
   "execution_count": 9,
   "id": "3bed8c9b",
   "metadata": {},
   "outputs": [],
   "source": [
    "current_index = 0  # Start with the first row\n",
    "current_column_index = 0  # Start with the first column to annotate\n",
    "\n",
    "def display_row(row_index, col_index):\n",
    "    global current_index, current_column_index\n",
    "    current_index, current_column_index = row_index, col_index\n",
    "    \n",
    "    # Get the value from the DataFrame, convert NaN or non-string values to string\n",
    "    cell_value = df.at[row_index, columns_to_annotate[col_index]]\n",
    "    if pd.isna(cell_value):\n",
    "        cell_value = ''  # Convert NaN to an empty string\n",
    "    else:\n",
    "        cell_value = str(cell_value)  # Convert non-string values to string\n",
    "\n",
    "    clear_output(wait=True)\n",
    "\n",
    "    # Set the value of the annotation input and display it along with other elements\n",
    "    annotation_input.value = cell_value\n",
    "    display(df.iloc[row_index][columns_for_info])\n",
    "    display(df.iloc[row_index][columns_to_annotate])\n",
    "    display(widgets.HTML(value=f\"<b>Annotate '{columns_to_annotate[col_index]}':</b>\"))\n",
    "    display(annotation_input, submit_button)\n",
    "    display(widgets.HBox([prev_row_button, next_row_button]))\n",
    "\n",
    "def navigate_row(offset):\n",
    "    new_index = current_index + offset\n",
    "    if 0 <= new_index < len(df):\n",
    "        display_row(new_index, 0)"
   ]
  },
  {
   "cell_type": "markdown",
   "id": "39cd782f",
   "metadata": {},
   "source": [
    "### Step 5: Handle Annotation Submission and Row Navigation"
   ]
  },
  {
   "cell_type": "code",
   "execution_count": 10,
   "id": "0cc78d1f",
   "metadata": {},
   "outputs": [],
   "source": [
    "def on_submit_clicked(b):\n",
    "    df.at[current_index, columns_to_annotate[current_column_index]] = annotation_input.value\n",
    "    if current_column_index + 1 < len(columns_to_annotate):\n",
    "        display_row(current_index, current_column_index + 1)\n",
    "    else:\n",
    "        print(\"All annotations for this row are complete.\")\n",
    "\n",
    "def on_prev_row_clicked(b):\n",
    "    navigate_row(-1)\n",
    "\n",
    "def on_next_row_clicked(b):\n",
    "    navigate_row(1)\n",
    "\n",
    "submit_button.on_click(on_submit_clicked)\n",
    "prev_row_button.on_click(on_prev_row_clicked)\n",
    "next_row_button.on_click(on_next_row_clicked)"
   ]
  },
  {
   "cell_type": "markdown",
   "id": "4e70f882",
   "metadata": {},
   "source": [
    "### Step 6: Annotate!"
   ]
  },
  {
   "cell_type": "code",
   "execution_count": 11,
   "id": "c8d5e425",
   "metadata": {},
   "outputs": [
    {
     "data": {
      "text/plain": [
       "verb_id                                                         1895129\n",
       "lex                                                                SWR[\n",
       "scroll                                                           1Qisaa\n",
       "book                                                             Isaiah\n",
       "chapter                                                               1\n",
       "verse_num                                                            16\n",
       "gcons_verb                                                        HSJRW\n",
       "gcons_verse         RXYW W HZKW W HSJRW RW< M<LLJKM M NGD <JNJ XDLW HR<\n",
       "sign_info      0000 0 0000 0 00000 000 00000000 0 000 00000 0000 000 00\n",
       "stem                                                              hifil\n",
       "tense                                                              impv\n",
       "Name: 5, dtype: object"
      ]
     },
     "metadata": {},
     "output_type": "display_data"
    },
    {
     "data": {
      "text/plain": [
       "gcons_clause     W HSJRW RW< M<LLJKM M NGD <JNJ\n",
       "subject                                        \n",
       "complement                           M NGD <JNJ\n",
       "cmpl_lex                          no complement\n",
       "dir_he                                        0\n",
       "cmpl_constr                                    \n",
       "cmpl_nt                                        \n",
       "cmpl_anim                                      \n",
       "cmpl_det                                       \n",
       "cmpl_indiv                                     \n",
       "motion_type                                    \n",
       "preposition_1                                MN\n",
       "preposition_2                                  \n",
       "preposition_3                                  \n",
       "preposition_4                                  \n",
       "Name: 5, dtype: object"
      ]
     },
     "metadata": {},
     "output_type": "display_data"
    },
    {
     "data": {
      "application/vnd.jupyter.widget-view+json": {
       "model_id": "ffcc06f4ebc34c148ee984f798a32364",
       "version_major": 2,
       "version_minor": 0
      },
      "text/plain": [
       "HTML(value=\"<b>Annotate 'cmpl_lex':</b>\")"
      ]
     },
     "metadata": {},
     "output_type": "display_data"
    },
    {
     "data": {
      "application/vnd.jupyter.widget-view+json": {
       "model_id": "7abe9529f0cd4df593152729560aa3a9",
       "version_major": 2,
       "version_minor": 0
      },
      "text/plain": [
       "Textarea(value='no complement', layout=Layout(height='100px', width='100%'), placeholder='Type your annotation…"
      ]
     },
     "metadata": {},
     "output_type": "display_data"
    },
    {
     "data": {
      "application/vnd.jupyter.widget-view+json": {
       "model_id": "17b6fa5323484a68be05cd3155456df2",
       "version_major": 2,
       "version_minor": 0
      },
      "text/plain": [
       "Button(description='Submit', icon='check', style=ButtonStyle(), tooltip='Click to submit annotation')"
      ]
     },
     "metadata": {},
     "output_type": "display_data"
    },
    {
     "data": {
      "application/vnd.jupyter.widget-view+json": {
       "model_id": "0ee3c10eafe5476b9704d88c3d9ae222",
       "version_major": 2,
       "version_minor": 0
      },
      "text/plain": [
       "HBox(children=(Button(description='Previous Row', icon='arrow-left', style=ButtonStyle(), tooltip='Go to the p…"
      ]
     },
     "metadata": {},
     "output_type": "display_data"
    }
   ],
   "source": [
    "display_row(current_index, current_column_index)"
   ]
  },
  {
   "cell_type": "markdown",
   "id": "577aba9b",
   "metadata": {},
   "source": [
    "### Step 7: Save your progress in a text file"
   ]
  },
  {
   "cell_type": "code",
   "execution_count": 12,
   "id": "b5f9c9b9",
   "metadata": {},
   "outputs": [],
   "source": [
    "fully_annotated_rows = count_fully_annotated_rows(df, columns_to_annotate)\n",
    "save_annotation_details(df, current_index, fully_annotated_rows)"
   ]
  },
  {
   "cell_type": "code",
   "execution_count": 13,
   "id": "e6f3075a",
   "metadata": {},
   "outputs": [
    {
     "name": "stdout",
     "output_type": "stream",
     "text": [
      "DataFrame saved as data/annotation_df_history/biblical_dss_2023-11-30_16_58.csv\n"
     ]
    }
   ],
   "source": [
    "# Example call - replace 'df' and 'DataFrame_Name' with your actual DataFrame variable and its name\n",
    "save_dataframe(df, df_name)"
   ]
  },
  {
   "cell_type": "code",
   "execution_count": null,
   "id": "58e3c576",
   "metadata": {},
   "outputs": [],
   "source": []
  }
 ],
 "metadata": {
  "kernelspec": {
   "display_name": "Python 3 (ipykernel)",
   "language": "python",
   "name": "python3"
  },
  "language_info": {
   "codemirror_mode": {
    "name": "ipython",
    "version": 3
   },
   "file_extension": ".py",
   "mimetype": "text/x-python",
   "name": "python",
   "nbconvert_exporter": "python",
   "pygments_lexer": "ipython3",
   "version": "3.9.16"
  }
 },
 "nbformat": 4,
 "nbformat_minor": 5
}
