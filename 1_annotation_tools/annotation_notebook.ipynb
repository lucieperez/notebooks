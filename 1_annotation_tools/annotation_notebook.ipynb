{
 "cells": [
  {
   "cell_type": "code",
   "execution_count": 1,
   "id": "bd052a60",
   "metadata": {},
   "outputs": [],
   "source": [
    "import ipywidgets as widgets\n",
    "import pandas as pd\n",
    "import datetime\n",
    "\n",
    "from IPython.display import display, clear_output"
   ]
  },
  {
   "cell_type": "code",
   "execution_count": 2,
   "id": "c84d67e8",
   "metadata": {},
   "outputs": [],
   "source": [
    "### This notebook has been created with the help of ChatGPT. ###"
   ]
  },
  {
   "cell_type": "code",
   "execution_count": 3,
   "id": "fe064990",
   "metadata": {},
   "outputs": [],
   "source": [
    "pd.set_option('display.max_colwidth', None)  # For older versions of pandas, use -1 instead of None\n",
    "pd.set_option('display.max_columns', None)   # Ensure all columns are shown"
   ]
  },
  {
   "cell_type": "code",
   "execution_count": 4,
   "id": "21e3a380",
   "metadata": {},
   "outputs": [
    {
     "data": {
      "text/plain": [
       "Index(['verb_id', 'lex', 'scroll', 'book', 'chapter', 'verse_num',\n",
       "       'gcons_verb', 'gcons_verse', 'gcons_clause', 'subject', 'complement',\n",
       "       'dir_he', 'dir_he_dss', 'sign_info', 'stem', 'tense', 'preposition_1',\n",
       "       'preposition_2', 'preposition_3', 'preposition_4', 'cmpl_lex',\n",
       "       'cmpl_constr', 'cmpl_nt', 'cmpl_anim', 'cmpl_det', 'cmpl_indiv',\n",
       "       'motion_type'],\n",
       "      dtype='object')"
      ]
     },
     "execution_count": 4,
     "metadata": {},
     "output_type": "execute_result"
    }
   ],
   "source": [
    "df = pd.read_csv('data/full_isaiah_dataset.csv')  # Replace with your DataFrame\n",
    "df = df.fillna(\"\")\n",
    "\n",
    "# converting 'dir_he' and 'dir_he_dss' from float to int \n",
    "\n",
    "df[\"dir_he\"] = df[\"dir_he\"].astype(str)\n",
    "df[\"dir_he\"] = df[\"dir_he\"].replace(\"1.0\", \"1\").replace(\"0.0\", \"0\")\n",
    "\n",
    "df[\"dir_he_dss\"] = df[\"dir_he_dss\"].astype(str)\n",
    "df[\"dir_he_dss\"] = df[\"dir_he_dss\"].replace(\"1.0\", \"1\").replace(\"0.0\", \"0\")\n",
    "\n",
    "df.columns"
   ]
  },
  {
   "cell_type": "markdown",
   "id": "e7d056ff",
   "metadata": {},
   "source": [
    "### Step 3: Define Columns to Annotate and Create Widgets"
   ]
  },
  {
   "cell_type": "code",
   "execution_count": 5,
   "id": "f1099d98",
   "metadata": {},
   "outputs": [],
   "source": [
    "# List of columns of interest\n",
    "columns = df.columns.to_list()\n",
    "columns_for_info = [\n",
    "    'verb_id',\n",
    "    'lex',\n",
    "    'scroll',\n",
    "    'book',\n",
    "    'chapter',\n",
    "    'verse_num',\n",
    "    'gcons_verb',\n",
    "    'gcons_verse',\n",
    "    'sign_info',\n",
    "    'stem',\n",
    "    'tense',\n",
    "]\n",
    "columns_to_annotate = [\n",
    "    'gcons_clause',\n",
    "    'subject',\n",
    "    'complement',\n",
    "    'cmpl_lex',\n",
    "    'dir_he',\n",
    "    'cmpl_constr', \n",
    "    'cmpl_nt', \n",
    "    'cmpl_anim', \n",
    "    'cmpl_det', \n",
    "    'cmpl_indiv',\n",
    "    'motion_type',\n",
    "    'preposition_1',\n",
    "    'preposition_2',\n",
    "    'preposition_3',\n",
    "    'preposition_4',\n",
    "]"
   ]
  },
  {
   "cell_type": "code",
   "execution_count": 6,
   "id": "5efa3d7f",
   "metadata": {},
   "outputs": [],
   "source": [
    "annotation_input = widgets.Textarea(\n",
    "    value='',\n",
    "    placeholder='Type your annotation here',\n",
    "    description='',\n",
    "    disabled=False,\n",
    "    layout=widgets.Layout(width='100%', height='100px')  # Adjust width and height as needed\n",
    ")\n",
    "\n",
    "submit_button = widgets.Button(\n",
    "    description='Submit',\n",
    "    disabled=False,\n",
    "    button_style='',\n",
    "    tooltip='Click to submit annotation',\n",
    "    icon='check'\n",
    ")\n",
    "\n",
    "prev_row_button = widgets.Button(\n",
    "    description='Previous Row',\n",
    "    disabled=False,\n",
    "    button_style='',\n",
    "    tooltip='Go to the previous row',\n",
    "    icon='arrow-left'\n",
    ")\n",
    "\n",
    "next_row_button = widgets.Button(\n",
    "    description='Next Row',\n",
    "    disabled=False,\n",
    "    button_style='',\n",
    "    tooltip='Go to the next row',\n",
    "    icon='arrow-right'\n",
    ")"
   ]
  },
  {
   "cell_type": "markdown",
   "id": "eb555ecf",
   "metadata": {},
   "source": [
    "### Step 4.1 Add function for tracking your progress"
   ]
  },
  {
   "cell_type": "code",
   "execution_count": 7,
   "id": "1c338f07",
   "metadata": {},
   "outputs": [],
   "source": [
    "# Today's dataframe\n",
    "df_name = \"biblical_dss\""
   ]
  },
  {
   "cell_type": "code",
   "execution_count": 8,
   "id": "ecb55069",
   "metadata": {},
   "outputs": [],
   "source": [
    "def save_annotation_details(df, current_index, fully_annotated_rows):\n",
    "    file_path = 'data/annotation_df_history/annotation_tracks.txt'\n",
    "    \n",
    "    # Get the current date and time\n",
    "    current_datetime = datetime.datetime.now().strftime(\"%Y-%m-%d %H:%M\")\n",
    "\n",
    "    current_row_index = df.index[current_index]\n",
    "\n",
    "    details = f\"Date and Time: {current_datetime}\\nDataFrame: {df_name}\\nCurrent Index: {current_index}\\nCurrent Row Index: {current_row_index}\\nFully Annotated Rows: {fully_annotated_rows}\\n\\n\"\n",
    "\n",
    "    with open(file_path, 'a') as file:\n",
    "        file.write(details)\n",
    "\n",
    "        \n",
    "def count_fully_annotated_rows(df, columns_to_annotate):\n",
    "    return df[columns_to_annotate].dropna().shape[0]\n",
    "\n",
    "\n",
    "def save_dataframe(df, df_name):\n",
    "    # Get the current date in YYYY-MM-DD format\n",
    "    current_date = datetime.datetime.now().strftime(\"%Y-%m-%d_%H_%M\")\n",
    "\n",
    "    # Construct the filename\n",
    "    filename = f\"data/annotation_df_history/{df_name}_{current_date}.csv\"\n",
    "\n",
    "    # Save the DataFrame to a CSV file\n",
    "    df.to_csv(filename, index=False)  # Set index=False if you don't want to save the index\n",
    "\n",
    "    print(f\"DataFrame saved as {filename}\")"
   ]
  },
  {
   "cell_type": "markdown",
   "id": "4956450f",
   "metadata": {},
   "source": [
    "### Step 4.2 Functions to Display Data and Widgets with Navigation and Iteration Logic"
   ]
  },
  {
   "cell_type": "code",
   "execution_count": 9,
   "id": "3bed8c9b",
   "metadata": {},
   "outputs": [],
   "source": [
    "current_index = 0  # Start with the first row\n",
    "current_column_index = 0  # Start with the first column to annotate\n",
    "\n",
    "def display_row(row_index, col_index):\n",
    "    global current_index, current_column_index\n",
    "    current_index, current_column_index = row_index, col_index\n",
    "    \n",
    "    # Get the value from the DataFrame, convert NaN or non-string values to string\n",
    "    cell_value = df.at[row_index, columns_to_annotate[col_index]]\n",
    "    if pd.isna(cell_value):\n",
    "        cell_value = ''  # Convert NaN to an empty string\n",
    "    else:\n",
    "        cell_value = str(cell_value)  # Convert non-string values to string\n",
    "\n",
    "    clear_output(wait=True)\n",
    "\n",
    "    # Set the value of the annotation input and display it along with other elements\n",
    "    annotation_input.value = cell_value\n",
    "    display(df.iloc[row_index][columns_for_info])\n",
    "    display(df.iloc[row_index][columns_to_annotate])\n",
    "    display(widgets.HTML(value=f\"<b>Annotate '{columns_to_annotate[col_index]}':</b>\"))\n",
    "    display(annotation_input, submit_button)\n",
    "    display(widgets.HBox([prev_row_button, next_row_button]))\n",
    "\n",
    "def navigate_row(offset):\n",
    "    new_index = current_index + offset\n",
    "    if 0 <= new_index < len(df):\n",
    "        display_row(new_index, 0)"
   ]
  },
  {
   "cell_type": "markdown",
   "id": "39cd782f",
   "metadata": {},
   "source": [
    "### Step 5: Handle Annotation Submission and Row Navigation"
   ]
  },
  {
   "cell_type": "code",
   "execution_count": 10,
   "id": "0cc78d1f",
   "metadata": {},
   "outputs": [],
   "source": [
    "def on_submit_clicked(b):\n",
    "    df.at[current_index, columns_to_annotate[current_column_index]] = annotation_input.value\n",
    "    if current_column_index + 1 < len(columns_to_annotate):\n",
    "        display_row(current_index, current_column_index + 1)\n",
    "    else:\n",
    "        print(\"All annotations for this row are complete.\")\n",
    "\n",
    "def on_prev_row_clicked(b):\n",
    "    navigate_row(-1)\n",
    "\n",
    "def on_next_row_clicked(b):\n",
    "    navigate_row(1)\n",
    "\n",
    "submit_button.on_click(on_submit_clicked)\n",
    "prev_row_button.on_click(on_prev_row_clicked)\n",
    "next_row_button.on_click(on_next_row_clicked)"
   ]
  },
  {
   "cell_type": "markdown",
   "id": "4e70f882",
   "metadata": {},
   "source": [
    "### Step 6: Annotate!"
   ]
  },
  {
   "cell_type": "code",
   "execution_count": 11,
   "id": "c8d5e425",
   "metadata": {},
   "outputs": [
    {
     "data": {
      "text/plain": [
       "verb_id                                                         1895129\n",
       "lex                                                                SWR[\n",
       "scroll                                                           1Qisaa\n",
       "book                                                             Isaiah\n",
       "chapter                                                               1\n",
       "verse_num                                                            16\n",
       "gcons_verb                                                        HSJRW\n",
       "gcons_verse         RXYW W HZKW W HSJRW RW< M<LLJKM M NGD <JNJ XDLW HR<\n",
       "sign_info      0000 0 0000 0 00000 000 00000000 0 000 00000 0000 000 00\n",
       "stem                                                              hifil\n",
       "tense                                                              impv\n",
       "Name: 5, dtype: object"
      ]
     },
     "metadata": {},
     "output_type": "display_data"
    },
    {
     "data": {
      "text/plain": [
       "gcons_clause     W HSJRW RW< M<LLJKM M NGD <JNJ\n",
       "subject                                        \n",
       "complement                           M NGD <JNJ\n",
       "cmpl_lex                          no complement\n",
       "dir_he                                        0\n",
       "cmpl_constr                                    \n",
       "cmpl_nt                                        \n",
       "cmpl_anim                                      \n",
       "cmpl_det                                       \n",
       "cmpl_indiv                                     \n",
       "motion_type                                    \n",
       "preposition_1                                MN\n",
       "preposition_2                                  \n",
       "preposition_3                                  \n",
       "preposition_4                                  \n",
       "Name: 5, dtype: object"
      ]
     },
     "metadata": {},
     "output_type": "display_data"
    },
    {
     "data": {
      "application/vnd.jupyter.widget-view+json": {
       "model_id": "ffcc06f4ebc34c148ee984f798a32364",
       "version_major": 2,
       "version_minor": 0
      },
      "text/plain": [
       "HTML(value=\"<b>Annotate 'cmpl_lex':</b>\")"
      ]
     },
     "metadata": {},
     "output_type": "display_data"
    },
    {
     "data": {
      "application/vnd.jupyter.widget-view+json": {
       "model_id": "7abe9529f0cd4df593152729560aa3a9",
       "version_major": 2,
       "version_minor": 0
      },
      "text/plain": [
       "Textarea(value='no complement', layout=Layout(height='100px', width='100%'), placeholder='Type your annotation…"
      ]
     },
     "metadata": {},
     "output_type": "display_data"
    },
    {
     "data": {
      "application/vnd.jupyter.widget-view+json": {
       "model_id": "17b6fa5323484a68be05cd3155456df2",
       "version_major": 2,
       "version_minor": 0
      },
      "text/plain": [
       "Button(description='Submit', icon='check', style=ButtonStyle(), tooltip='Click to submit annotation')"
      ]
     },
     "metadata": {},
     "output_type": "display_data"
    },
    {
     "data": {
      "application/vnd.jupyter.widget-view+json": {
       "model_id": "0ee3c10eafe5476b9704d88c3d9ae222",
       "version_major": 2,
       "version_minor": 0
      },
      "text/plain": [
       "HBox(children=(Button(description='Previous Row', icon='arrow-left', style=ButtonStyle(), tooltip='Go to the p…"
      ]
     },
     "metadata": {},
     "output_type": "display_data"
    }
   ],
   "source": [
    "display_row(current_index, current_column_index)"
   ]
  },
  {
   "cell_type": "markdown",
   "id": "577aba9b",
   "metadata": {},
   "source": [
    "### Step 7: Save your progress in a text file"
   ]
  },
  {
   "cell_type": "code",
   "execution_count": 12,
   "id": "b5f9c9b9",
   "metadata": {},
   "outputs": [],
   "source": [
    "fully_annotated_rows = count_fully_annotated_rows(df, columns_to_annotate)\n",
    "save_annotation_details(df, current_index, fully_annotated_rows)"
   ]
  },
  {
   "cell_type": "code",
   "execution_count": 13,
   "id": "e6f3075a",
   "metadata": {},
   "outputs": [
    {
     "name": "stdout",
     "output_type": "stream",
     "text": [
      "DataFrame saved as data/annotation_df_history/biblical_dss_2023-11-30_16_58.csv\n"
     ]
    }
   ],
   "source": [
    "# Example call - replace 'df' and 'DataFrame_Name' with your actual DataFrame variable and its name\n",
    "save_dataframe(df, df_name)"
   ]
  },
  {
   "cell_type": "code",
   "execution_count": null,
   "id": "58e3c576",
   "metadata": {},
   "outputs": [],
   "source": []
  }
 ],
 "metadata": {
  "kernelspec": {
   "display_name": "Python 3 (ipykernel)",
   "language": "python",
   "name": "python3"
  },
  "language_info": {
   "codemirror_mode": {
    "name": "ipython",
    "version": 3
   },
   "file_extension": ".py",
   "mimetype": "text/x-python",
   "name": "python",
   "nbconvert_exporter": "python",
   "pygments_lexer": "ipython3",
   "version": "3.9.16"
  }
 },
 "nbformat": 4,
 "nbformat_minor": 5
}
