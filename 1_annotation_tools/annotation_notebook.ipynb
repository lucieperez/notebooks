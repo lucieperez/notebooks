{
 "cells": [
  {
   "cell_type": "code",
   "execution_count": 1,
   "id": "bd052a60",
   "metadata": {},
   "outputs": [],
   "source": [
    "import ipywidgets as widgets\n",
    "import pandas as pd\n",
    "import datetime\n",
    "from time import time\n",
    "\n",
    "from IPython.display import display, clear_output"
   ]
  },
  {
   "cell_type": "code",
   "execution_count": 2,
   "id": "c84d67e8",
   "metadata": {},
   "outputs": [],
   "source": [
    "### This notebook has been created with the help of ChatGPT. ###"
   ]
  },
  {
   "cell_type": "code",
   "execution_count": 3,
   "id": "fe064990",
   "metadata": {},
   "outputs": [],
   "source": [
    "pd.set_option('display.max_colwidth', None)  # For older versions of pandas, use -1 instead of None\n",
    "pd.set_option('display.max_columns', None)   # Ensure all columns are shown\n",
    "pd.set_option('display.max_rows', None)   "
   ]
  },
  {
   "cell_type": "code",
   "execution_count": 4,
   "id": "21e3a380",
   "metadata": {},
   "outputs": [],
   "source": [
    "df = pd.read_csv('data/annotation_df_history/isaiah_dataset.csv')  # Replace with your DataFrame\n",
    "df = df.fillna(\"\")\n",
    "\n",
    "# converting 'dir_he' and 'dir_he_dss' from float to int \n",
    "\n",
    "df[\"dir_he\"] = df[\"dir_he\"].astype(str)\n",
    "df[\"dir_he\"] = df[\"dir_he\"].replace(\"1.0\", \"1\").replace(\"0.0\", \"0\")\n",
    "\n",
    "df = df[[ \n",
    "    'verb_id',\n",
    "    'lex',\n",
    "    'scroll',\n",
    "    'book',\n",
    "    'chapter',\n",
    "    'verse_num',\n",
    "    'gcons_verb',\n",
    "    'gcons_verse',\n",
    "    'sign_info',\n",
    "    'stem',\n",
    "    'tense','gcons_clause',\n",
    "    'subject',\n",
    "    'complement',\n",
    "    'cmpl_lex',\n",
    "    \"cmpl_translation\",\n",
    "    'dir_he',\n",
    "    'cmpl_constr', \n",
    "    'cmpl_nt', \n",
    "    'cmpl_anim', \n",
    "    'cmpl_det', \n",
    "    'cmpl_indiv',\n",
    "    'cmpl_complex',\n",
    "    'motion_type',\n",
    "    'preposition_1',\n",
    "    'preposition_2',\n",
    "    'preposition_3',\n",
    "    'preposition_4',]]\n",
    "#df"
   ]
  },
  {
   "cell_type": "markdown",
   "id": "e7d056ff",
   "metadata": {},
   "source": [
    "### Step 3: Define Columns to Annotate and Create Widgets"
   ]
  },
  {
   "cell_type": "code",
   "execution_count": 5,
   "id": "f1099d98",
   "metadata": {},
   "outputs": [],
   "source": [
    "# List of columns of interest\n",
    "columns = df.columns.to_list()\n",
    "columns_for_info = [\n",
    "    'verb_id',\n",
    "    'lex',\n",
    "    'scroll',\n",
    "    'book',\n",
    "    'chapter',\n",
    "    'verse_num',\n",
    "    'gcons_verb',\n",
    "    'gcons_verse',\n",
    "    'sign_info',\n",
    "    'stem',\n",
    "    'tense',\n",
    "]\n",
    "columns_line2 = [\n",
    "    'gcons_clause',\n",
    "    'subject',\n",
    "    'complement',\n",
    "    'cmpl_lex',\n",
    "    \"cmpl_translation\",\n",
    "    'dir_he',\n",
    "    'cmpl_constr', \n",
    "    'cmpl_nt', \n",
    "    'cmpl_anim', \n",
    "    'cmpl_det', \n",
    "    'cmpl_indiv',\n",
    "    'cmpl_complex',\n",
    "    \n",
    "]\n",
    "\n",
    "columns_line3 = [   \n",
    "    'motion_type',\n",
    "    'preposition_1',\n",
    "    'preposition_2',\n",
    "    'preposition_3',\n",
    "    'preposition_4',   \n",
    "]\n",
    "\n",
    "columns_to_annotate = columns_line2 + columns_line3"
   ]
  },
  {
   "cell_type": "code",
   "execution_count": 6,
   "id": "5efa3d7f",
   "metadata": {},
   "outputs": [],
   "source": [
    "annotation_input = widgets.Textarea(\n",
    "    value='',\n",
    "    placeholder='Type your annotation here',\n",
    "    description='',\n",
    "    disabled=False,\n",
    "    layout=widgets.Layout(width='100%', height='100px')  # Adjust width and height as needed\n",
    ")\n",
    "\n",
    "prev_col_button = widgets.Button(\n",
    "    description='Previous Column',\n",
    "    disabled=False,\n",
    "    button_style='primary',\n",
    "    tooltip='Go to the previous column',\n",
    "    icon='arrow-left'\n",
    ")\n",
    "\n",
    "next_col_button = widgets.Button(\n",
    "    description='Next Column',\n",
    "    disabled=False,\n",
    "    button_style='info',\n",
    "    tooltip='Go to the next column',\n",
    "    icon='arrow-right',\n",
    ")\n",
    "\n",
    "prev_row_button = widgets.Button(\n",
    "    description='Previous Row',\n",
    "    disabled=False,\n",
    "    button_style='warning',\n",
    "    tooltip='Go to the previous row',\n",
    "    icon='arrow-left'\n",
    ")\n",
    "\n",
    "next_row_button = widgets.Button(\n",
    "    description='Next Row',\n",
    "    disabled=False,\n",
    "    button_style='success',\n",
    "    tooltip='Go to the next row',\n",
    "    icon='arrow-right'\n",
    ")"
   ]
  },
  {
   "cell_type": "code",
   "execution_count": 7,
   "id": "77772d04",
   "metadata": {},
   "outputs": [],
   "source": [
    "# Get session start index\n",
    "\n",
    "def get_session_start_index():\n",
    "    with open('data/annotation_df_history/annotation_tracks.txt') as annotation_file:\n",
    "        lines = annotation_file.readlines()\n",
    "        lines_with_index = [line for line in lines if line.startswith(\"Current Row Index: \")]\n",
    "        line = lines_with_index[-1]\n",
    "        return int(line.split()[-1])"
   ]
  },
  {
   "cell_type": "markdown",
   "id": "eb555ecf",
   "metadata": {},
   "source": [
    "### Step 4.1 Add function for tracking your progress"
   ]
  },
  {
   "cell_type": "code",
   "execution_count": 8,
   "id": "1c338f07",
   "metadata": {},
   "outputs": [],
   "source": [
    "# Today's dataframe\n",
    "df_name = \"isaiah_dataset\"\n",
    "\n",
    "# Global variable to store the start index of the annotation session\n",
    "session_start_index = get_session_start_index()\n",
    "#print(session_start_index)"
   ]
  },
  {
   "cell_type": "code",
   "execution_count": 9,
   "id": "ecb55069",
   "metadata": {},
   "outputs": [],
   "source": [
    "def save_annotation_details(df, current_index, session_start_index):\n",
    "    file_path = 'data/annotation_df_history/annotation_tracks.txt'\n",
    "    current_datetime = datetime.datetime.now().strftime(\"%Y-%m-%d %H:%M\")\n",
    "    current_row_index = df.index[current_index]\n",
    "\n",
    "    # Calculate the number of rows annotated in this session\n",
    "    rows_annotated_this_session = current_index - session_start_index + 1\n",
    "\n",
    "    details = f\"Date and Time: {current_datetime}\\nDataFrame: {df_name}\\nCurrent Row Index: {current_row_index}\\nRows Annotated This Session: {rows_annotated_this_session}\\n\\n\"\n",
    "\n",
    "    with open(file_path, 'a') as file:\n",
    "        file.write(details)\n",
    "\n",
    "        \n",
    "#def count_fully_annotated_rows(df, columns_to_annotate):\n",
    "    #return df[columns_to_annotate].dropna().shape[0]\n",
    "\n",
    "\n",
    "def save_dataframe(df, df_name):\n",
    "    # Get the current date in YYYY-MM-DD format\n",
    "    current_date = datetime.datetime.now().strftime(\"%Y-%m-%d_%H_%M\")\n",
    "\n",
    "    # Construct the filename\n",
    "    filename = f\"data/annotation_df_history/{df_name}_{current_date}.csv\"\n",
    "    current_file_name = f\"data/annotation_df_history/{df_name}.csv\"\n",
    "\n",
    "    # Save the DataFrame to a CSV file\n",
    "    df.to_csv(filename, index=False)  # Set index=False if you don't want to save the index\n",
    "    df.to_csv(current_file_name, index=False)\n",
    "\n",
    "    print(f\"DataFrame saved as {filename} and {current_file_name}.\")"
   ]
  },
  {
   "cell_type": "markdown",
   "id": "4956450f",
   "metadata": {},
   "source": [
    "### Step 4.2 Functions to Display Data and Widgets with Navigation and Iteration Logic"
   ]
  },
  {
   "cell_type": "code",
   "execution_count": 10,
   "id": "3bed8c9b",
   "metadata": {},
   "outputs": [],
   "source": [
    "def display_row(row_index, col_index):\n",
    "    global current_index, current_column_index\n",
    "    current_index, current_column_index = row_index, col_index\n",
    "    \n",
    "    # Get the value from the DataFrame, convert NaN or non-string values to string\n",
    "    cell_value = df.at[row_index, columns_to_annotate[col_index]]\n",
    "    if pd.isna(cell_value):\n",
    "        cell_value = ''  # Convert NaN to an empty string\n",
    "    else:\n",
    "        cell_value = str(cell_value)  # Convert non-string values to string\n",
    "\n",
    "    clear_output(wait=True)\n",
    "\n",
    "    # Set the value of the annotation input and display it along with other elements\n",
    "    annotation_input.value = cell_value\n",
    "    display(df.iloc[row_index:row_index+1][columns_for_info])\n",
    "    display(df.iloc[row_index:row_index+1][columns_line2])\n",
    "    display(df.iloc[row_index:row_index+1][columns_line3])\n",
    "    #display(df.iloc[row_index][columns_for_info])\n",
    "    #display(df.iloc[row_index][columns_to_annotate])\n",
    "    display(widgets.HTML(value=f\"<b>Annotate '{columns_to_annotate[col_index]}':</b>\"))\n",
    "    display(annotation_input)\n",
    "    display(widgets.HBox([prev_col_button, next_col_button]))\n",
    "    display(widgets.HBox([prev_row_button, next_row_button]))\n",
    "\n",
    "def navigate_row(offset):\n",
    "    new_index = current_index + offset\n",
    "    if 0 <= new_index < len(df):\n",
    "        display_row(new_index, 0)"
   ]
  },
  {
   "cell_type": "markdown",
   "id": "39cd782f",
   "metadata": {},
   "source": [
    "### Step 5: Handle Annotation Submission and Row Navigation"
   ]
  },
  {
   "cell_type": "code",
   "execution_count": 11,
   "id": "0cc78d1f",
   "metadata": {},
   "outputs": [],
   "source": [
    "def on_prev_col_clicked(b):    \n",
    "    global current_column_index\n",
    "    # Save the current annotation\n",
    "    df.at[current_index, columns_to_annotate[current_column_index]] = annotation_input.value\n",
    "\n",
    "    # Navigate to the previous column\n",
    "    if current_column_index > 0:\n",
    "        current_column_index -= 1\n",
    "        display_row(current_index, current_column_index)\n",
    "\n",
    "        \n",
    "def on_next_col_clicked(b):\n",
    "    global current_column_index\n",
    "    # Save the current annotation\n",
    "    df.at[current_index, columns_to_annotate[current_column_index]] = annotation_input.value\n",
    "\n",
    "    # Check if the current column is the last one in the row\n",
    "    if current_column_index + 1 < len(columns_to_annotate):\n",
    "        # Not the last column, move to the next column\n",
    "        current_column_index += 1\n",
    "        display_row(current_index, current_column_index)\n",
    "    else:\n",
    "        # Last column, all annotations for this row are complete\n",
    "        print(\"All annotations for this row are complete.\")\n",
    "        # Optional: Reset column index or navigate to the next row\n",
    "\n",
    "        \n",
    "def on_prev_row_clicked(b):\n",
    "    navigate_row(-1)\n",
    "\n",
    "def on_next_row_clicked(b):\n",
    "    navigate_row(1)"
   ]
  },
  {
   "cell_type": "code",
   "execution_count": 12,
   "id": "be540e95",
   "metadata": {},
   "outputs": [],
   "source": [
    "if \"on_click_defined\" not in globals():\n",
    "    on_click_defined = True\n",
    "    prev_col_button.on_click(on_prev_col_clicked)\n",
    "    next_col_button.on_click(on_next_col_clicked)\n",
    "\n",
    "    prev_row_button.on_click(on_prev_row_clicked)\n",
    "    next_row_button.on_click(on_next_row_clicked)"
   ]
  },
  {
   "cell_type": "markdown",
   "id": "4e70f882",
   "metadata": {},
   "source": [
    "### Step 6: Annotate!"
   ]
  },
  {
   "cell_type": "code",
   "execution_count": 13,
   "id": "c8d5e425",
   "metadata": {},
   "outputs": [
    {
     "data": {
      "text/html": [
       "<div>\n",
       "<style scoped>\n",
       "    .dataframe tbody tr th:only-of-type {\n",
       "        vertical-align: middle;\n",
       "    }\n",
       "\n",
       "    .dataframe tbody tr th {\n",
       "        vertical-align: top;\n",
       "    }\n",
       "\n",
       "    .dataframe thead th {\n",
       "        text-align: right;\n",
       "    }\n",
       "</style>\n",
       "<table border=\"1\" class=\"dataframe\">\n",
       "  <thead>\n",
       "    <tr style=\"text-align: right;\">\n",
       "      <th></th>\n",
       "      <th>verb_id</th>\n",
       "      <th>lex</th>\n",
       "      <th>scroll</th>\n",
       "      <th>book</th>\n",
       "      <th>chapter</th>\n",
       "      <th>verse_num</th>\n",
       "      <th>gcons_verb</th>\n",
       "      <th>gcons_verse</th>\n",
       "      <th>sign_info</th>\n",
       "      <th>stem</th>\n",
       "      <th>tense</th>\n",
       "    </tr>\n",
       "  </thead>\n",
       "  <tbody>\n",
       "    <tr>\n",
       "      <th>186</th>\n",
       "      <td>1898844</td>\n",
       "      <td>CWB[</td>\n",
       "      <td>1Qisaa</td>\n",
       "      <td>Isaiah</td>\n",
       "      <td>10</td>\n",
       "      <td>22</td>\n",
       "      <td>JCWB</td>\n",
       "      <td>KJ&gt; &gt;M JHJH &lt;MK JFR&gt;L K XWL H JM C&gt;R JCWB BW KLJWN XRWY CWVP YDQH</td>\n",
       "      <td>000 00 0000 0000 00000 0 000 0 00 000 0000 000 00000 0000 0000 0000 00</td>\n",
       "      <td>qal</td>\n",
       "      <td>impf</td>\n",
       "    </tr>\n",
       "  </tbody>\n",
       "</table>\n",
       "</div>"
      ],
      "text/plain": [
       "     verb_id   lex  scroll    book  chapter  verse_num gcons_verb  \\\n",
       "186  1898844  CWB[  1Qisaa  Isaiah       10         22       JCWB   \n",
       "\n",
       "                                                           gcons_verse  \\\n",
       "186  KJ> >M JHJH <MK JFR>L K XWL H JM C>R JCWB BW KLJWN XRWY CWVP YDQH   \n",
       "\n",
       "                                                                  sign_info  \\\n",
       "186  000 00 0000 0000 00000 0 000 0 00 000 0000 000 00000 0000 0000 0000 00   \n",
       "\n",
       "    stem tense  \n",
       "186  qal  impf  "
      ]
     },
     "metadata": {},
     "output_type": "display_data"
    },
    {
     "data": {
      "text/html": [
       "<div>\n",
       "<style scoped>\n",
       "    .dataframe tbody tr th:only-of-type {\n",
       "        vertical-align: middle;\n",
       "    }\n",
       "\n",
       "    .dataframe tbody tr th {\n",
       "        vertical-align: top;\n",
       "    }\n",
       "\n",
       "    .dataframe thead th {\n",
       "        text-align: right;\n",
       "    }\n",
       "</style>\n",
       "<table border=\"1\" class=\"dataframe\">\n",
       "  <thead>\n",
       "    <tr style=\"text-align: right;\">\n",
       "      <th></th>\n",
       "      <th>gcons_clause</th>\n",
       "      <th>subject</th>\n",
       "      <th>complement</th>\n",
       "      <th>cmpl_lex</th>\n",
       "      <th>cmpl_translation</th>\n",
       "      <th>dir_he</th>\n",
       "      <th>cmpl_constr</th>\n",
       "      <th>cmpl_nt</th>\n",
       "      <th>cmpl_anim</th>\n",
       "      <th>cmpl_det</th>\n",
       "      <th>cmpl_indiv</th>\n",
       "      <th>cmpl_complex</th>\n",
       "    </tr>\n",
       "  </thead>\n",
       "  <tbody>\n",
       "    <tr>\n",
       "      <th>186</th>\n",
       "      <td>KJ&gt; &gt;M JHJH &lt;MK JFR&gt;L K XWL H JM C&gt;R JCWB BW</td>\n",
       "      <td>C&gt;R</td>\n",
       "      <td>BW</td>\n",
       "      <td>B</td>\n",
       "      <td>to him</td>\n",
       "      <td>0</td>\n",
       "      <td>prep</td>\n",
       "      <td>prps</td>\n",
       "      <td>anim</td>\n",
       "      <td>det</td>\n",
       "      <td>prsf</td>\n",
       "      <td>simple</td>\n",
       "    </tr>\n",
       "  </tbody>\n",
       "</table>\n",
       "</div>"
      ],
      "text/plain": [
       "                                     gcons_clause subject complement cmpl_lex  \\\n",
       "186  KJ> >M JHJH <MK JFR>L K XWL H JM C>R JCWB BW     C>R         BW        B   \n",
       "\n",
       "    cmpl_translation dir_he cmpl_constr cmpl_nt cmpl_anim cmpl_det cmpl_indiv  \\\n",
       "186           to him      0        prep    prps      anim      det       prsf   \n",
       "\n",
       "    cmpl_complex  \n",
       "186       simple  "
      ]
     },
     "metadata": {},
     "output_type": "display_data"
    },
    {
     "data": {
      "text/html": [
       "<div>\n",
       "<style scoped>\n",
       "    .dataframe tbody tr th:only-of-type {\n",
       "        vertical-align: middle;\n",
       "    }\n",
       "\n",
       "    .dataframe tbody tr th {\n",
       "        vertical-align: top;\n",
       "    }\n",
       "\n",
       "    .dataframe thead th {\n",
       "        text-align: right;\n",
       "    }\n",
       "</style>\n",
       "<table border=\"1\" class=\"dataframe\">\n",
       "  <thead>\n",
       "    <tr style=\"text-align: right;\">\n",
       "      <th></th>\n",
       "      <th>motion_type</th>\n",
       "      <th>preposition_1</th>\n",
       "      <th>preposition_2</th>\n",
       "      <th>preposition_3</th>\n",
       "      <th>preposition_4</th>\n",
       "    </tr>\n",
       "  </thead>\n",
       "  <tbody>\n",
       "    <tr>\n",
       "      <th>186</th>\n",
       "      <td>fictive</td>\n",
       "      <td>B</td>\n",
       "      <td></td>\n",
       "      <td></td>\n",
       "      <td></td>\n",
       "    </tr>\n",
       "  </tbody>\n",
       "</table>\n",
       "</div>"
      ],
      "text/plain": [
       "    motion_type preposition_1 preposition_2 preposition_3 preposition_4\n",
       "186     fictive             B                                          "
      ]
     },
     "metadata": {},
     "output_type": "display_data"
    },
    {
     "data": {
      "application/vnd.jupyter.widget-view+json": {
       "model_id": "57367c8201aa4dbd8b55694757a63eac",
       "version_major": 2,
       "version_minor": 0
      },
      "text/plain": [
       "HTML(value=\"<b>Annotate 'gcons_clause':</b>\")"
      ]
     },
     "metadata": {},
     "output_type": "display_data"
    },
    {
     "data": {
      "application/vnd.jupyter.widget-view+json": {
       "model_id": "199779ce5f59408893ee5203bf21e97d",
       "version_major": 2,
       "version_minor": 0
      },
      "text/plain": [
       "Textarea(value='KJ> >M JHJH <MK JFR>L K XWL H JM C>R JCWB BW', layout=Layout(height='100px', width='100%'), pl…"
      ]
     },
     "metadata": {},
     "output_type": "display_data"
    },
    {
     "data": {
      "application/vnd.jupyter.widget-view+json": {
       "model_id": "045b124b80b24c3e9f9946c4b14e02ca",
       "version_major": 2,
       "version_minor": 0
      },
      "text/plain": [
       "HBox(children=(Button(button_style='primary', description='Previous Column', icon='arrow-left', style=ButtonSt…"
      ]
     },
     "metadata": {},
     "output_type": "display_data"
    },
    {
     "data": {
      "application/vnd.jupyter.widget-view+json": {
       "model_id": "786ac13cb6c349d88f902e9e332e1400",
       "version_major": 2,
       "version_minor": 0
      },
      "text/plain": [
       "HBox(children=(Button(button_style='warning', description='Previous Row', icon='arrow-left', style=ButtonStyle…"
      ]
     },
     "metadata": {},
     "output_type": "display_data"
    }
   ],
   "source": [
    "current_index = get_session_start_index()\n",
    "current_column_index = 0  # Start with the first column to annotate\n",
    "display_row(current_index, current_column_index)"
   ]
  },
  {
   "cell_type": "code",
   "execution_count": null,
   "id": "82fff768",
   "metadata": {},
   "outputs": [],
   "source": [
    "current_index"
   ]
  },
  {
   "cell_type": "code",
   "execution_count": 38,
   "id": "185ab3c9",
   "metadata": {},
   "outputs": [
    {
     "data": {
      "text/html": [
       "<div>\n",
       "<style scoped>\n",
       "    .dataframe tbody tr th:only-of-type {\n",
       "        vertical-align: middle;\n",
       "    }\n",
       "\n",
       "    .dataframe tbody tr th {\n",
       "        vertical-align: top;\n",
       "    }\n",
       "\n",
       "    .dataframe thead th {\n",
       "        text-align: right;\n",
       "    }\n",
       "</style>\n",
       "<table border=\"1\" class=\"dataframe\">\n",
       "  <thead>\n",
       "    <tr style=\"text-align: right;\">\n",
       "      <th></th>\n",
       "      <th>verb_id</th>\n",
       "      <th>lex</th>\n",
       "      <th>scroll</th>\n",
       "      <th>book</th>\n",
       "      <th>chapter</th>\n",
       "      <th>verse_num</th>\n",
       "      <th>gcons_verb</th>\n",
       "      <th>gcons_verse</th>\n",
       "      <th>sign_info</th>\n",
       "      <th>stem</th>\n",
       "      <th>tense</th>\n",
       "      <th>gcons_clause</th>\n",
       "      <th>subject</th>\n",
       "      <th>complement</th>\n",
       "      <th>cmpl_lex</th>\n",
       "      <th>cmpl_translation</th>\n",
       "      <th>dir_he</th>\n",
       "      <th>cmpl_constr</th>\n",
       "      <th>cmpl_nt</th>\n",
       "      <th>cmpl_anim</th>\n",
       "      <th>cmpl_det</th>\n",
       "      <th>cmpl_indiv</th>\n",
       "      <th>cmpl_complex</th>\n",
       "      <th>motion_type</th>\n",
       "      <th>preposition_1</th>\n",
       "      <th>preposition_2</th>\n",
       "      <th>preposition_3</th>\n",
       "      <th>preposition_4</th>\n",
       "    </tr>\n",
       "  </thead>\n",
       "  <tbody>\n",
       "    <tr>\n",
       "      <th>184</th>\n",
       "      <td>215910</td>\n",
       "      <td>CWB[</td>\n",
       "      <td>MT</td>\n",
       "      <td>Isaiah</td>\n",
       "      <td>10</td>\n",
       "      <td>22</td>\n",
       "      <td>JCWB</td>\n",
       "      <td>KJ &gt;M JHJH &lt;MK JFR&gt;L K XWL H JM C&gt;R JCWB BW KLJWN XRWY CWVP YDQH</td>\n",
       "      <td></td>\n",
       "      <td>qal</td>\n",
       "      <td>impf</td>\n",
       "      <td>KJ C&gt;R JCWB BW</td>\n",
       "      <td>C&gt;R</td>\n",
       "      <td>BW</td>\n",
       "      <td>B</td>\n",
       "      <td>to him</td>\n",
       "      <td>0</td>\n",
       "      <td>prep</td>\n",
       "      <td>prps</td>\n",
       "      <td>anim</td>\n",
       "      <td>det</td>\n",
       "      <td>prsf</td>\n",
       "      <td>simple</td>\n",
       "      <td>fictive</td>\n",
       "      <td>B</td>\n",
       "      <td></td>\n",
       "      <td></td>\n",
       "      <td></td>\n",
       "    </tr>\n",
       "  </tbody>\n",
       "</table>\n",
       "</div>"
      ],
      "text/plain": [
       "     verb_id   lex scroll    book  chapter  verse_num gcons_verb  \\\n",
       "184   215910  CWB[     MT  Isaiah       10         22       JCWB   \n",
       "\n",
       "                                                          gcons_verse  \\\n",
       "184  KJ >M JHJH <MK JFR>L K XWL H JM C>R JCWB BW KLJWN XRWY CWVP YDQH   \n",
       "\n",
       "    sign_info stem tense    gcons_clause subject complement cmpl_lex  \\\n",
       "184            qal  impf  KJ C>R JCWB BW     C>R         BW        B   \n",
       "\n",
       "    cmpl_translation dir_he cmpl_constr cmpl_nt cmpl_anim cmpl_det cmpl_indiv  \\\n",
       "184           to him      0        prep    prps      anim      det       prsf   \n",
       "\n",
       "    cmpl_complex motion_type preposition_1 preposition_2 preposition_3  \\\n",
       "184       simple     fictive             B                               \n",
       "\n",
       "    preposition_4  \n",
       "184                "
      ]
     },
     "execution_count": 38,
     "metadata": {},
     "output_type": "execute_result"
    }
   ],
   "source": [
    "df.iloc[[184]]"
   ]
  },
  {
   "cell_type": "markdown",
   "id": "1b7d6566",
   "metadata": {},
   "source": [
    "### Name types:\n",
    "- pers    person\n",
    "- god     god\n",
    "- mens    measurement unit\n",
    "- gens    people\n",
    "- topo    place\n",
    "- dir     direction \n",
    "- ppde    demonstrative personal pronoun\n",
    "- ppin    interrogative pronoun\n",
    "- bopa    body part\n",
    "- prps    personal pronoun\n",
    "- abs     abstract nouns (freedom, judgments, etc)\n",
    "- adv     adverb\n",
    "- obj     object, thing\n",
    "- other   other\n",
    "- na      non applicable\n",
    "\n",
    "### Animacy:\n",
    "- anim\n",
    "- inanim\n",
    "- anim inanim (for names like Judah which can be either a people or a place or both\n",
    "- unknown\n",
    "\n",
    "### Individuation\n",
    "- subs    substantive\n",
    "- nmpr    proper noun\n",
    "- prsf    pronominal suffix\n",
    "- ppin    interrogative pronoun\n",
    "- adv     adverb\n",
    "\n",
    "### Motion type\n",
    "- factive\n",
    "- fictive\n",
    "- factive fictive : I do not know! (interpretation needed)\n",
    "- unknown: other reason"
   ]
  },
  {
   "cell_type": "markdown",
   "id": "0c90c123",
   "metadata": {},
   "source": [
    "### Factive motion checklist:\n",
    "- something or someone *physical* in the expression goes through a change of position from a point A or to a point B (or both)\n"
   ]
  },
  {
   "cell_type": "markdown",
   "id": "577aba9b",
   "metadata": {},
   "source": [
    "### Step 7: Save your progress in a text file"
   ]
  },
  {
   "cell_type": "code",
   "execution_count": 42,
   "id": "b5f9c9b9",
   "metadata": {},
   "outputs": [],
   "source": [
    "#fully_annotated_rows = count_fully_annotated_rows(df, columns_to_annotate)\n",
    "save_annotation_details(df, current_index, session_start_index)"
   ]
  },
  {
   "cell_type": "code",
   "execution_count": 43,
   "id": "e6f3075a",
   "metadata": {},
   "outputs": [
    {
     "name": "stdout",
     "output_type": "stream",
     "text": [
      "DataFrame saved as data/annotation_df_history/isaiah_dataset_2023-12-07_17_03.csv and data/annotation_df_history/isaiah_dataset.csv.\n"
     ]
    }
   ],
   "source": [
    "# Example call - replace 'df' and 'DataFrame_Name' with your actual DataFrame variable and its name\n",
    "save_dataframe(df, df_name)"
   ]
  },
  {
   "cell_type": "code",
   "execution_count": 44,
   "id": "58e3c576",
   "metadata": {},
   "outputs": [
    {
     "data": {
      "text/plain": [
       "31"
      ]
     },
     "execution_count": 44,
     "metadata": {},
     "output_type": "execute_result"
    }
   ],
   "source": [
    "current_index - session_start_index"
   ]
  },
  {
   "cell_type": "code",
   "execution_count": null,
   "id": "b2164780",
   "metadata": {},
   "outputs": [],
   "source": []
  }
 ],
 "metadata": {
  "kernelspec": {
   "display_name": "Python 3 (ipykernel)",
   "language": "python",
   "name": "python3"
  },
  "language_info": {
   "codemirror_mode": {
    "name": "ipython",
    "version": 3
   },
   "file_extension": ".py",
   "mimetype": "text/x-python",
   "name": "python",
   "nbconvert_exporter": "python",
   "pygments_lexer": "ipython3",
   "version": "3.9.16"
  }
 },
 "nbformat": 4,
 "nbformat_minor": 5
}
