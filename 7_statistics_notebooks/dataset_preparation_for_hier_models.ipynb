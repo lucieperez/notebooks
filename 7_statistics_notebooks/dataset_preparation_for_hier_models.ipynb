{
 "cells": [
  {
   "cell_type": "code",
   "execution_count": 12,
   "id": "43e51fb8-4361-4db7-b5d0-670a5365b106",
   "metadata": {},
   "outputs": [],
   "source": [
    "import pandas as pd"
   ]
  },
  {
   "cell_type": "code",
   "execution_count": 13,
   "id": "6c329553-394e-426f-a532-5e44da01a2c0",
   "metadata": {},
   "outputs": [],
   "source": [
    "data_path = \"../1_annotation_tools/data/datasets_to_check/combined_datasets/combined_datasets.csv\""
   ]
  },
  {
   "cell_type": "code",
   "execution_count": 14,
   "id": "a318d48e-1bd4-4548-8d1d-ad973e114322",
   "metadata": {},
   "outputs": [],
   "source": [
    "df = pd.read_csv(data_path).fillna(\"\")"
   ]
  },
  {
   "cell_type": "code",
   "execution_count": 15,
   "id": "e87277dc-bf00-4e82-a65e-e957a81cfd79",
   "metadata": {},
   "outputs": [],
   "source": [
    "pd.set_option(\"display.max_columns\", None)\n",
    "pd.set_option(\"display.max_rows\", None)"
   ]
  },
  {
   "cell_type": "code",
   "execution_count": 16,
   "id": "daf5f7aa-257d-4517-b339-dc8ad02d3fad",
   "metadata": {},
   "outputs": [],
   "source": [
    "# Create a new column containing the level \"book_scroll\"\n",
    "df[\"book_scroll\"] = df[\"book\"].astype(str) + \"_\" + df[\"scroll\"].astype(str)"
   ]
  },
  {
   "cell_type": "code",
   "execution_count": 17,
   "id": "e6fc1fef-4a3e-4a62-b893-3b8318f39577",
   "metadata": {},
   "outputs": [],
   "source": [
    "# Data cleaning\n",
    "df_model = df.copy()\n",
    "df_model = df_model.loc[df_model[\"cmpl_constr\"] != \"no complement\"].copy()\n",
    "df_model = df_model.loc[df_model[\"comments\"] != \"min excluded\"].copy()\n",
    "df_model = df_model.loc[df_model[\"comments\"] != \"reconstructed\"].copy()\n",
    "df_model = df_model.loc[df_model[\"comments\"] != \"reconstructed?\"].copy()\n",
    "df_model = df_model.loc[df_model[\"spatial_arg_type\"] == \"goal\"].copy()\n",
    "df_model = df_model.loc[df_model[\"motion_type\"] != \"posture/not motion\"].copy()\n",
    "df_model = df_model.loc[df_model[\"motion_type\"] != \"vertical\"].copy()"
   ]
  },
  {
   "cell_type": "code",
   "execution_count": 18,
   "id": "f147b0ab-0592-401e-b5c3-14fe5fe03797",
   "metadata": {},
   "outputs": [],
   "source": [
    "# some prepositions have spaces, fix:\n",
    "\n",
    "# list of target columns\n",
    "preposition_cols = [f\"preposition_{i}\" for i in range(1, 7)]\n",
    "\n",
    "# strip whitespace in each column\n",
    "df_model[preposition_cols] = df_model[preposition_cols].apply(lambda col: col.str.strip()).copy()"
   ]
  },
  {
   "cell_type": "code",
   "execution_count": 19,
   "id": "757a7dd2-28c6-4f11-9210-b0516e8b154e",
   "metadata": {},
   "outputs": [],
   "source": [
    "# Clean the lexemes\n",
    "\n",
    "df_model[\"lex\"] = (\n",
    "    df_model[\"lex\"]\n",
    "    .str.strip()\n",
    "    .str.replace(r\"\\[+$\", \"\", regex=True)\n",
    "    + \"[\"\n",
    ")"
   ]
  },
  {
   "cell_type": "code",
   "execution_count": 20,
   "id": "5bac8e28-b270-4b12-8e34-bc8a531611ff",
   "metadata": {},
   "outputs": [],
   "source": [
    "# Modify the cmpl_constr with multiple prepositions into \"prep\"\n",
    "\n",
    "df_model.loc[df_model[\"cmpl_constr\"].isin([\"prep + prep\", \"prep + prep + prep\", \"prep + prep + prep + prep\"]), \"cmpl_constr\"] = \"prep\""
   ]
  },
  {
   "cell_type": "code",
   "execution_count": 21,
   "id": "6d6c17d6-93d7-46d2-9358-c05d6661a23f",
   "metadata": {},
   "outputs": [],
   "source": [
    "# Save to a new csv file\n",
    "\n",
    "df_model.to_csv(\"data/playground_data.csv\", index=False)"
   ]
  },
  {
   "cell_type": "code",
   "execution_count": null,
   "id": "a6bb8541-5c3b-4b0e-845d-6d89019b2701",
   "metadata": {},
   "outputs": [],
   "source": []
  }
 ],
 "metadata": {
  "kernelspec": {
   "display_name": "Python 3 (ipykernel)",
   "language": "python",
   "name": "python3"
  },
  "language_info": {
   "codemirror_mode": {
    "name": "ipython",
    "version": 3
   },
   "file_extension": ".py",
   "mimetype": "text/x-python",
   "name": "python",
   "nbconvert_exporter": "python",
   "pygments_lexer": "ipython3",
   "version": "3.13.5"
  }
 },
 "nbformat": 4,
 "nbformat_minor": 5
}
