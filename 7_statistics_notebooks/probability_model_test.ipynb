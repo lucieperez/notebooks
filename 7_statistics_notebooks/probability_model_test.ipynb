{
 "cells": [
  {
   "cell_type": "code",
   "execution_count": 70,
   "id": "d1119fa7-b3ce-405d-b192-a97908ffad8f",
   "metadata": {},
   "outputs": [],
   "source": [
    "import numpy as np\n",
    "import pandas as pd\n",
    "import pymc as pm\n",
    "import pytensor.tensor as pt\n",
    "import arviz as az\n",
    "import matplotlib.pyplot as plt"
   ]
  },
  {
   "cell_type": "code",
   "execution_count": 89,
   "id": "2d8683c0-e36f-4d89-9e93-77909b7efd55",
   "metadata": {},
   "outputs": [],
   "source": [
    "data = pd.read_csv(\"data/playground_data.csv\").fillna(\"\")"
   ]
  },
  {
   "cell_type": "code",
   "execution_count": 90,
   "id": "5188b2cb-2422-42b4-b203-fd5edb16e15c",
   "metadata": {},
   "outputs": [],
   "source": [
    "books = data.book_scroll.unique()\n",
    "n_books = len(books)\n",
    "book_lookup = dict(zip(books, range(n_books)))"
   ]
  },
  {
   "cell_type": "code",
   "execution_count": 97,
   "id": "e7542f64-6535-4333-b99e-61b07499e1b4",
   "metadata": {},
   "outputs": [],
   "source": [
    "book = data[\"book_scroll\"] = data.book_scroll.replace(book_lookup).values # county in example\n",
    "cmpl_constr = data[\"cmpl_constr\"].map({\"vc\": 0, \"prep\": 1, \"dir-he\": 2, \"prep + dir-he\":3}).astype(int).values # maize yield in example\n",
    "cmpl_det = data[\"cmpl_det\"].map({\"und\": 0, \"det\": 1}).astype(int).values # hybrid seeds in example"
   ]
  },
  {
   "cell_type": "code",
   "execution_count": 99,
   "id": "c789daf5-6587-462c-9e3a-f973921b1484",
   "metadata": {},
   "outputs": [],
   "source": [
    "#Note: this code is only playaround, the cmpl_constr is not numerical and should not be trated as such for real statistical analysis\n",
    "\n",
    "data[\"log_cmpl_constr\"] = log_cmpl_constr = np.log(cmpl_constr + 0.1)"
   ]
  },
  {
   "cell_type": "code",
   "execution_count": 105,
   "id": "5668e46f-1766-43d0-a6af-b93b83ffcb20",
   "metadata": {},
   "outputs": [
    {
     "data": {
      "text/plain": [
       "<Axes: >"
      ]
     },
     "execution_count": 105,
     "metadata": {},
     "output_type": "execute_result"
    },
    {
     "data": {
      "image/png": "[encoded data removed]",
      "text/plain": [
       "<Figure size 640x480 with 1 Axes>"
      ]
     },
     "metadata": {},
     "output_type": "display_data"
    }
   ],
   "source": [
    "data.cmpl_constr.hist(bins=15)"
   ]
  },
  {
   "cell_type": "code",
   "execution_count": 106,
   "id": "b2794883-4a1e-476f-99bc-5d01f282ff90",
   "metadata": {},
   "outputs": [
    {
     "data": {
      "text/plain": [
       "<Axes: >"
      ]
     },
     "execution_count": 106,
     "metadata": {},
     "output_type": "execute_result"
    },
    {
     "data": {
      "image/png": "[encoded data removed]",
      "text/plain": [
       "<Figure size 640x480 with 1 Axes>"
      ]
     },
     "metadata": {},
     "output_type": "display_data"
    }
   ],
   "source": [
    "data.log_cmpl_constr.hist(bins=15)"
   ]
  },
  {
   "cell_type": "code",
   "execution_count": 100,
   "id": "cedb69e2-89e3-4885-83d0-775920fb2011",
   "metadata": {},
   "outputs": [
    {
     "data": {
      "text/plain": [
       "{np.int64(0), np.int64(1), np.int64(2), np.int64(3)}"
      ]
     },
     "execution_count": 100,
     "metadata": {},
     "output_type": "execute_result"
    }
   ],
   "source": [
    "set(cmpl_constr)"
   ]
  },
  {
   "cell_type": "code",
   "execution_count": 93,
   "id": "4878e594-8fa5-4f5c-b990-19f6b44a90aa",
   "metadata": {},
   "outputs": [],
   "source": [
    "# Pooled model"
   ]
  },
  {
   "cell_type": "code",
   "execution_count": 94,
   "id": "b7eb258a-0e56-4084-8eb4-1d0772648442",
   "metadata": {},
   "outputs": [],
   "source": [
    "coords = {\"cmpl_det\": [\"und\", \"det\"], \"obs_id\": np.arange(cmpl_det.size)}"
   ]
  },
  {
   "cell_type": "code",
   "execution_count": 101,
   "id": "d6249204-846c-4522-8872-be69dc22ffec",
   "metadata": {},
   "outputs": [],
   "source": [
    "with pm.Model(coords=coords) as pooled_model:\n",
    "    cmpl_det_idx = pm.Data(\"cmpl_det_idx\", cmpl_det, dims=\"obs_id\")\n",
    "    \n",
    "    a = pm.Normal(\"a\", mu=0, sigma=1.0, dims=\"cmpl_det\")\n",
    "\n",
    "    theta = a[cmpl_det_idx]\n",
    "    sigma = pm.HalfCauchy(\"sigma\", 1)\n",
    "\n",
    "    y = pm.Normal(\"y\", mu=theta, sigma=sigma, observed=log_cmpl_constr, dims=\"obs_id\")"
   ]
  },
  {
   "cell_type": "code",
   "execution_count": 102,
   "id": "4e86830c-cd3e-4529-a87f-8979226840fc",
   "metadata": {},
   "outputs": [
    {
     "data": {
      "image/svg+xml": [
       "<?xml version=\"1.0\" encoding=\"UTF-8\" standalone=\"no\"?>\n",
       "<!DOCTYPE svg PUBLIC \"-//W3C//DTD SVG 1.1//EN\"\n",
       " \"http://www.w3.org/Graphics/SVG/1.1/DTD/svg11.dtd\">\n",
       "<!-- Generated by graphviz version 13.1.2 (0)\n",
       " -->\n",
       "<!-- Pages: 1 -->\n",
       "<svg width=\"350pt\" height=\"268pt\"\n",
       " viewBox=\"0.00 0.00 350.00 268.00\" xmlns=\"http://www.w3.org/2000/svg\" xmlns:xlink=\"http://www.w3.org/1999/xlink\">\n",
       "<g id=\"graph0\" class=\"graph\" transform=\"scale(1 1) rotate(0) translate(4 263.63)\">\n",
       "<polygon fill=\"white\" stroke=\"none\" points=\"-4,4 -4,-263.63 346.33,-263.63 346.33,4 -4,4\"/>\n",
       "<g id=\"clust1\" class=\"cluster\">\n",
       "<title>clusterobs_id (4109)</title>\n",
       "<path fill=\"none\" stroke=\"black\" d=\"M20,-8C20,-8 104,-8 104,-8 110,-8 116,-14 116,-20 116,-20 116,-227.73 116,-227.73 116,-233.73 110,-239.73 104,-239.73 104,-239.73 20,-239.73 20,-239.73 14,-239.73 8,-233.73 8,-227.73 8,-227.73 8,-20 8,-20 8,-14 14,-8 20,-8\"/>\n",
       "<text xml:space=\"preserve\" text-anchor=\"middle\" x=\"70.12\" y=\"-15.2\" font-family=\"Times New Roman,serif\" font-size=\"14.00\">obs_id (4109)</text>\n",
       "</g>\n",
       "<g id=\"clust2\" class=\"cluster\">\n",
       "<title>clustercmpl_det (2)</title>\n",
       "<path fill=\"none\" stroke=\"black\" d=\"M136,-129.82C136,-129.82 210,-129.82 210,-129.82 216,-129.82 222,-135.82 222,-141.82 222,-141.82 222,-239.63 222,-239.63 222,-245.63 216,-251.63 210,-251.63 210,-251.63 136,-251.63 136,-251.63 130,-251.63 124,-245.63 124,-239.63 124,-239.63 124,-141.82 124,-141.82 124,-135.82 130,-129.82 136,-129.82\"/>\n",
       "<text xml:space=\"preserve\" text-anchor=\"middle\" x=\"178.75\" y=\"-137.02\" font-family=\"Times New Roman,serif\" font-size=\"14.00\">cmpl_det (2)</text>\n",
       "</g>\n",
       "<!-- cmpl_det_idx -->\n",
       "<g id=\"node1\" class=\"node\">\n",
       "<title>cmpl_det_idx</title>\n",
       "<path fill=\"lightgrey\" stroke=\"black\" d=\"M95.5,-231.73C95.5,-231.73 28.5,-231.73 28.5,-231.73 22.5,-231.73 16.5,-225.73 16.5,-219.73 16.5,-219.73 16.5,-186.23 16.5,-186.23 16.5,-180.23 22.5,-174.23 28.5,-174.23 28.5,-174.23 95.5,-174.23 95.5,-174.23 101.5,-174.23 107.5,-180.23 107.5,-186.23 107.5,-186.23 107.5,-219.73 107.5,-219.73 107.5,-225.73 101.5,-231.73 95.5,-231.73\"/>\n",
       "<text xml:space=\"preserve\" text-anchor=\"middle\" x=\"62\" y=\"-214.43\" font-family=\"Times New Roman,serif\" font-size=\"14.00\">cmpl_det_idx</text>\n",
       "<text xml:space=\"preserve\" text-anchor=\"middle\" x=\"62\" y=\"-197.93\" font-family=\"Times New Roman,serif\" font-size=\"14.00\">~</text>\n",
       "<text xml:space=\"preserve\" text-anchor=\"middle\" x=\"62\" y=\"-181.43\" font-family=\"Times New Roman,serif\" font-size=\"14.00\">Data</text>\n",
       "</g>\n",
       "<!-- y -->\n",
       "<g id=\"node2\" class=\"node\">\n",
       "<title>y</title>\n",
       "<ellipse fill=\"lightgrey\" stroke=\"black\" cx=\"67\" cy=\"-81.16\" rx=\"41.01\" ry=\"40.66\"/>\n",
       "<text xml:space=\"preserve\" text-anchor=\"middle\" x=\"67\" y=\"-92.61\" font-family=\"Times New Roman,serif\" font-size=\"14.00\">y</text>\n",
       "<text xml:space=\"preserve\" text-anchor=\"middle\" x=\"67\" y=\"-76.11\" font-family=\"Times New Roman,serif\" font-size=\"14.00\">~</text>\n",
       "<text xml:space=\"preserve\" text-anchor=\"middle\" x=\"67\" y=\"-59.61\" font-family=\"Times New Roman,serif\" font-size=\"14.00\">Normal</text>\n",
       "</g>\n",
       "<!-- cmpl_det_idx&#45;&gt;y -->\n",
       "<g id=\"edge2\" class=\"edge\">\n",
       "<title>cmpl_det_idx&#45;&gt;y</title>\n",
       "<path fill=\"none\" stroke=\"black\" d=\"M63.17,-173.88C63.68,-161.78 64.28,-147.23 64.86,-133.33\"/>\n",
       "<polygon fill=\"black\" stroke=\"black\" points=\"68.36,-133.52 65.28,-123.38 61.37,-133.23 68.36,-133.52\"/>\n",
       "</g>\n",
       "<!-- a -->\n",
       "<g id=\"node3\" class=\"node\">\n",
       "<title>a</title>\n",
       "<ellipse fill=\"none\" stroke=\"black\" cx=\"173\" cy=\"-202.98\" rx=\"41.01\" ry=\"40.66\"/>\n",
       "<text xml:space=\"preserve\" text-anchor=\"middle\" x=\"173\" y=\"-214.43\" font-family=\"Times New Roman,serif\" font-size=\"14.00\">a</text>\n",
       "<text xml:space=\"preserve\" text-anchor=\"middle\" x=\"173\" y=\"-197.93\" font-family=\"Times New Roman,serif\" font-size=\"14.00\">~</text>\n",
       "<text xml:space=\"preserve\" text-anchor=\"middle\" x=\"173\" y=\"-181.43\" font-family=\"Times New Roman,serif\" font-size=\"14.00\">Normal</text>\n",
       "</g>\n",
       "<!-- a&#45;&gt;y -->\n",
       "<g id=\"edge1\" class=\"edge\">\n",
       "<title>a&#45;&gt;y</title>\n",
       "<path fill=\"none\" stroke=\"black\" d=\"M150.61,-168.54C141.63,-155.95 130.85,-141.8 120,-129.82 115.69,-125.06 110.95,-120.27 106.13,-115.66\"/>\n",
       "<polygon fill=\"black\" stroke=\"black\" points=\"108.82,-113.38 99.12,-109.14 104.06,-118.51 108.82,-113.38\"/>\n",
       "</g>\n",
       "<!-- sigma -->\n",
       "<g id=\"node4\" class=\"node\">\n",
       "<title>sigma</title>\n",
       "<ellipse fill=\"none\" stroke=\"black\" cx=\"287\" cy=\"-202.98\" rx=\"55.33\" ry=\"40.66\"/>\n",
       "<text xml:space=\"preserve\" text-anchor=\"middle\" x=\"287\" y=\"-214.43\" font-family=\"Times New Roman,serif\" font-size=\"14.00\">sigma</text>\n",
       "<text xml:space=\"preserve\" text-anchor=\"middle\" x=\"287\" y=\"-197.93\" font-family=\"Times New Roman,serif\" font-size=\"14.00\">~</text>\n",
       "<text xml:space=\"preserve\" text-anchor=\"middle\" x=\"287\" y=\"-181.43\" font-family=\"Times New Roman,serif\" font-size=\"14.00\">Halfcauchy</text>\n",
       "</g>\n",
       "<!-- sigma&#45;&gt;y -->\n",
       "<g id=\"edge3\" class=\"edge\">\n",
       "<title>sigma&#45;&gt;y</title>\n",
       "<path fill=\"none\" stroke=\"black\" d=\"M263.4,-166.13C253.26,-153.09 240.41,-139.26 226,-129.82 193.77,-108.69 151.82,-96.63 119.1,-89.93\"/>\n",
       "<polygon fill=\"black\" stroke=\"black\" points=\"119.92,-86.53 109.44,-88.07 118.59,-93.4 119.92,-86.53\"/>\n",
       "</g>\n",
       "</g>\n",
       "</svg>\n"
      ],
      "text/plain": [
       "<graphviz.graphs.Digraph at 0x2a45e80bd90>"
      ]
     },
     "execution_count": 102,
     "metadata": {},
     "output_type": "execute_result"
    }
   ],
   "source": [
    "pm.model_to_graphviz(pooled_model)\n",
    "\n",
    "# grey: observed data\n",
    "# white: priors"
   ]
  },
  {
   "cell_type": "code",
   "execution_count": null,
   "id": "7becf30c-d134-468e-96c0-b3e1dcf92cb5",
   "metadata": {},
   "outputs": [],
   "source": [
    "with pm.Model(coords=coords) as pooled_model:\n",
    "    cmpl_det_idx = pm.Data(\"cmpl_det_idx\", cmpl_det, dims=\"obs_id\")\n",
    "    \n",
    "    a = pm.Normal(\"a\", mu=0, sigma=1.0, dims=\"cmpl_det\")\n",
    "\n",
    "    theta = a[cmpl_det_idx]\n",
    "    sigma = pm.HalfCauchy(\"sigma\", 1)\n",
    "\n",
    "    y = pm.Normal(\"y\", mu=theta, sigma=sigma, observed=log_cmpl_constr, dims=\"obs_id\")"
   ]
  },
  {
   "cell_type": "code",
   "execution_count": 107,
   "id": "e6612578-6ce7-4add-b077-994c1dd340bb",
   "metadata": {},
   "outputs": [],
   "source": [
    "# Unpooled model"
   ]
  },
  {
   "cell_type": "code",
   "execution_count": 108,
   "id": "346cca3c-55cb-415a-a8e9-29bd8614c617",
   "metadata": {},
   "outputs": [],
   "source": [
    "coords[\"Book\"] = books"
   ]
  },
  {
   "cell_type": "code",
   "execution_count": 110,
   "id": "0fb38663-c346-48aa-83ff-35b994c3fb88",
   "metadata": {},
   "outputs": [],
   "source": [
    "with pm.Model(coords=coords) as unpooled_model:\n",
    "    cmpl_det_idx = pm.Data(\"cmpl_det_idx\", cmpl_det, dims=\"obs_id\")\n",
    "    book_idx = pm.Data(\"books_idx\", book, dims=\"obs_id\")\n",
    "    a = pm.Normal(\"a\", 2.3, sigma=1.0, dims=(\"Book\", \"cmpl_det\"))\n",
    "\n",
    "    theta = a[book_idx, cmpl_det_idx]\n",
    "    sigma = pm.HalfCauchy(\"sigma\", 1)\n",
    "\n",
    "    y = pm.Normal(\"y\", mu=theta, sigma=sigma, observed=log_cmpl_constr, dims=\"obs_id\")"
   ]
  },
  {
   "cell_type": "code",
   "execution_count": 111,
   "id": "fe66fe6d-bb55-4151-9cdb-8f1a93299569",
   "metadata": {},
   "outputs": [
    {
     "data": {
      "image/svg+xml": [
       "<?xml version=\"1.0\" encoding=\"UTF-8\" standalone=\"no\"?>\n",
       "<!DOCTYPE svg PUBLIC \"-//W3C//DTD SVG 1.1//EN\"\n",
       " \"http://www.w3.org/Graphics/SVG/1.1/DTD/svg11.dtd\">\n",
       "<!-- Generated by graphviz version 13.1.2 (0)\n",
       " -->\n",
       "<!-- Pages: 1 -->\n",
       "<svg width=\"503pt\" height=\"268pt\"\n",
       " viewBox=\"0.00 0.00 503.00 268.00\" xmlns=\"http://www.w3.org/2000/svg\" xmlns:xlink=\"http://www.w3.org/1999/xlink\">\n",
       "<g id=\"graph0\" class=\"graph\" transform=\"scale(1 1) rotate(0) translate(4 263.63)\">\n",
       "<polygon fill=\"white\" stroke=\"none\" points=\"-4,4 -4,-263.63 499.33,-263.63 499.33,4 -4,4\"/>\n",
       "<g id=\"clust1\" class=\"cluster\">\n",
       "<title>clusterobs_id (4109)</title>\n",
       "<path fill=\"none\" stroke=\"black\" d=\"M20,-8C20,-8 194,-8 194,-8 200,-8 206,-14 206,-20 206,-20 206,-227.73 206,-227.73 206,-233.73 200,-239.73 194,-239.73 194,-239.73 20,-239.73 20,-239.73 14,-239.73 8,-233.73 8,-227.73 8,-227.73 8,-20 8,-20 8,-14 14,-8 20,-8\"/>\n",
       "<text xml:space=\"preserve\" text-anchor=\"middle\" x=\"160.12\" y=\"-15.2\" font-family=\"Times New Roman,serif\" font-size=\"14.00\">obs_id (4109)</text>\n",
       "</g>\n",
       "<g id=\"clust2\" class=\"cluster\">\n",
       "<title>clusterBook (158) x cmpl_det (2)</title>\n",
       "<path fill=\"none\" stroke=\"black\" d=\"M226,-129.82C226,-129.82 365,-129.82 365,-129.82 371,-129.82 377,-135.82 377,-141.82 377,-141.82 377,-239.63 377,-239.63 377,-245.63 371,-251.63 365,-251.63 365,-251.63 226,-251.63 226,-251.63 220,-251.63 214,-245.63 214,-239.63 214,-239.63 214,-141.82 214,-141.82 214,-135.82 220,-129.82 226,-129.82\"/>\n",
       "<text xml:space=\"preserve\" text-anchor=\"middle\" x=\"295.5\" y=\"-137.02\" font-family=\"Times New Roman,serif\" font-size=\"14.00\">Book (158) x cmpl_det (2)</text>\n",
       "</g>\n",
       "<!-- books_idx -->\n",
       "<g id=\"node1\" class=\"node\">\n",
       "<title>books_idx</title>\n",
       "<path fill=\"lightgrey\" stroke=\"black\" d=\"M76.12,-231.73C76.12,-231.73 27.88,-231.73 27.88,-231.73 21.88,-231.73 15.88,-225.73 15.88,-219.73 15.88,-219.73 15.88,-186.23 15.88,-186.23 15.88,-180.23 21.88,-174.23 27.88,-174.23 27.88,-174.23 76.12,-174.23 76.12,-174.23 82.12,-174.23 88.12,-180.23 88.12,-186.23 88.12,-186.23 88.12,-219.73 88.12,-219.73 88.12,-225.73 82.12,-231.73 76.12,-231.73\"/>\n",
       "<text xml:space=\"preserve\" text-anchor=\"middle\" x=\"52\" y=\"-214.43\" font-family=\"Times New Roman,serif\" font-size=\"14.00\">books_idx</text>\n",
       "<text xml:space=\"preserve\" text-anchor=\"middle\" x=\"52\" y=\"-197.93\" font-family=\"Times New Roman,serif\" font-size=\"14.00\">~</text>\n",
       "<text xml:space=\"preserve\" text-anchor=\"middle\" x=\"52\" y=\"-181.43\" font-family=\"Times New Roman,serif\" font-size=\"14.00\">Data</text>\n",
       "</g>\n",
       "<!-- y -->\n",
       "<g id=\"node3\" class=\"node\">\n",
       "<title>y</title>\n",
       "<ellipse fill=\"lightgrey\" stroke=\"black\" cx=\"154\" cy=\"-81.16\" rx=\"41.01\" ry=\"40.66\"/>\n",
       "<text xml:space=\"preserve\" text-anchor=\"middle\" x=\"154\" y=\"-92.61\" font-family=\"Times New Roman,serif\" font-size=\"14.00\">y</text>\n",
       "<text xml:space=\"preserve\" text-anchor=\"middle\" x=\"154\" y=\"-76.11\" font-family=\"Times New Roman,serif\" font-size=\"14.00\">~</text>\n",
       "<text xml:space=\"preserve\" text-anchor=\"middle\" x=\"154\" y=\"-59.61\" font-family=\"Times New Roman,serif\" font-size=\"14.00\">Normal</text>\n",
       "</g>\n",
       "<!-- books_idx&#45;&gt;y -->\n",
       "<g id=\"edge2\" class=\"edge\">\n",
       "<title>books_idx&#45;&gt;y</title>\n",
       "<path fill=\"none\" stroke=\"black\" d=\"M67.24,-173.9C75.45,-159.96 86.29,-143.26 98,-129.82 102.62,-124.51 107.85,-119.28 113.21,-114.34\"/>\n",
       "<polygon fill=\"black\" stroke=\"black\" points=\"115.37,-117.1 120.54,-107.84 110.73,-111.86 115.37,-117.1\"/>\n",
       "</g>\n",
       "<!-- cmpl_det_idx -->\n",
       "<g id=\"node2\" class=\"node\">\n",
       "<title>cmpl_det_idx</title>\n",
       "<path fill=\"lightgrey\" stroke=\"black\" d=\"M185.5,-231.73C185.5,-231.73 118.5,-231.73 118.5,-231.73 112.5,-231.73 106.5,-225.73 106.5,-219.73 106.5,-219.73 106.5,-186.23 106.5,-186.23 106.5,-180.23 112.5,-174.23 118.5,-174.23 118.5,-174.23 185.5,-174.23 185.5,-174.23 191.5,-174.23 197.5,-180.23 197.5,-186.23 197.5,-186.23 197.5,-219.73 197.5,-219.73 197.5,-225.73 191.5,-231.73 185.5,-231.73\"/>\n",
       "<text xml:space=\"preserve\" text-anchor=\"middle\" x=\"152\" y=\"-214.43\" font-family=\"Times New Roman,serif\" font-size=\"14.00\">cmpl_det_idx</text>\n",
       "<text xml:space=\"preserve\" text-anchor=\"middle\" x=\"152\" y=\"-197.93\" font-family=\"Times New Roman,serif\" font-size=\"14.00\">~</text>\n",
       "<text xml:space=\"preserve\" text-anchor=\"middle\" x=\"152\" y=\"-181.43\" font-family=\"Times New Roman,serif\" font-size=\"14.00\">Data</text>\n",
       "</g>\n",
       "<!-- cmpl_det_idx&#45;&gt;y -->\n",
       "<g id=\"edge3\" class=\"edge\">\n",
       "<title>cmpl_det_idx&#45;&gt;y</title>\n",
       "<path fill=\"none\" stroke=\"black\" d=\"M152.47,-173.88C152.67,-161.78 152.91,-147.23 153.15,-133.33\"/>\n",
       "<polygon fill=\"black\" stroke=\"black\" points=\"156.64,-133.44 153.31,-123.38 149.65,-133.32 156.64,-133.44\"/>\n",
       "</g>\n",
       "<!-- a -->\n",
       "<g id=\"node4\" class=\"node\">\n",
       "<title>a</title>\n",
       "<ellipse fill=\"none\" stroke=\"black\" cx=\"263\" cy=\"-202.98\" rx=\"41.01\" ry=\"40.66\"/>\n",
       "<text xml:space=\"preserve\" text-anchor=\"middle\" x=\"263\" y=\"-214.43\" font-family=\"Times New Roman,serif\" font-size=\"14.00\">a</text>\n",
       "<text xml:space=\"preserve\" text-anchor=\"middle\" x=\"263\" y=\"-197.93\" font-family=\"Times New Roman,serif\" font-size=\"14.00\">~</text>\n",
       "<text xml:space=\"preserve\" text-anchor=\"middle\" x=\"263\" y=\"-181.43\" font-family=\"Times New Roman,serif\" font-size=\"14.00\">Normal</text>\n",
       "</g>\n",
       "<!-- a&#45;&gt;y -->\n",
       "<g id=\"edge1\" class=\"edge\">\n",
       "<title>a&#45;&gt;y</title>\n",
       "<path fill=\"none\" stroke=\"black\" d=\"M240.78,-168.38C231.83,-155.78 221.01,-141.65 210,-129.82 205.21,-124.67 199.88,-119.52 194.47,-114.62\"/>\n",
       "<polygon fill=\"black\" stroke=\"black\" points=\"196.93,-112.13 187.11,-108.16 192.31,-117.39 196.93,-112.13\"/>\n",
       "</g>\n",
       "<!-- sigma -->\n",
       "<g id=\"node5\" class=\"node\">\n",
       "<title>sigma</title>\n",
       "<ellipse fill=\"none\" stroke=\"black\" cx=\"440\" cy=\"-202.98\" rx=\"55.33\" ry=\"40.66\"/>\n",
       "<text xml:space=\"preserve\" text-anchor=\"middle\" x=\"440\" y=\"-214.43\" font-family=\"Times New Roman,serif\" font-size=\"14.00\">sigma</text>\n",
       "<text xml:space=\"preserve\" text-anchor=\"middle\" x=\"440\" y=\"-197.93\" font-family=\"Times New Roman,serif\" font-size=\"14.00\">~</text>\n",
       "<text xml:space=\"preserve\" text-anchor=\"middle\" x=\"440\" y=\"-181.43\" font-family=\"Times New Roman,serif\" font-size=\"14.00\">Halfcauchy</text>\n",
       "</g>\n",
       "<!-- sigma&#45;&gt;y -->\n",
       "<g id=\"edge4\" class=\"edge\">\n",
       "<title>sigma&#45;&gt;y</title>\n",
       "<path fill=\"none\" stroke=\"black\" d=\"M417.79,-165.49C408.05,-152.37 395.52,-138.64 381,-129.82 327.43,-97.26 255.08,-86.67 206.59,-83.38\"/>\n",
       "<polygon fill=\"black\" stroke=\"black\" points=\"206.81,-79.89 196.62,-82.79 206.4,-86.87 206.81,-79.89\"/>\n",
       "</g>\n",
       "</g>\n",
       "</svg>\n"
      ],
      "text/plain": [
       "<graphviz.graphs.Digraph at 0x2a45f064b90>"
      ]
     },
     "execution_count": 111,
     "metadata": {},
     "output_type": "execute_result"
    }
   ],
   "source": [
    "pm.model_to_graphviz(unpooled_model)"
   ]
  },
  {
   "cell_type": "code",
   "execution_count": 112,
   "id": "f33332c8-edec-4521-80b9-3919a62357e2",
   "metadata": {},
   "outputs": [],
   "source": [
    "# Hierarchical model"
   ]
  },
  {
   "cell_type": "code",
   "execution_count": 117,
   "id": "21f987ee-f1d7-42cf-988c-86055013fb71",
   "metadata": {},
   "outputs": [],
   "source": [
    "coords = {\"cmpl_det\": [\"und\", \"det\"], \"obs_id\": np.arange(cmpl_det.size), \"Book\" : books}"
   ]
  },
  {
   "cell_type": "code",
   "execution_count": 118,
   "id": "f60b4fcf-0b36-4836-97bb-ecc1a185b1e6",
   "metadata": {},
   "outputs": [],
   "source": [
    "with pm.Model(coords=coords) as varying_intercept:\n",
    "    cmpl_det_idx = pm.Data(\"cmpl_det_idx\", cmpl_det, dims=\"obs_id\")\n",
    "    book_idx = pm.Data(\"books_idx\", book, dims=\"obs_id\")\n",
    "\n",
    "    ic_mu = pm.Normal(\"ic_mu\", mu=2, sigma=1)\n",
    "    ic_sigma = pm.HalfCauchy(\"ic_sigma\", 1.0)\n",
    "\n",
    "    # Varying intercept\n",
    "    book_intercept = pm.Normal(\"book_intercept\", mu=ic_mu, sigma=ic_sigma, dims=\"Book\")\n",
    "\n",
    "    # Common slope\n",
    "    b = pm.Normal(\"b\", mu=2, sigma=1)\n",
    "\n",
    "    # Expected value per book\n",
    "    theta = book_intercept[book_idx] + b * cmpl_det_idx\n",
    "\n",
    "    # Model error:\n",
    "    sigma = pm.HalfCauchy(\"sigma\", 1.0)\n",
    "\n",
    "    y = pm.Normal(\"y\", theta, sigma=sigma, observed=log_cmpl_constr, dims=\"obs_id\")"
   ]
  },
  {
   "cell_type": "code",
   "execution_count": 119,
   "id": "4f5cc24e-d237-4e0e-b12d-72e8c684d19f",
   "metadata": {},
   "outputs": [
    {
     "data": {
      "image/svg+xml": [
       "<?xml version=\"1.0\" encoding=\"UTF-8\" standalone=\"no\"?>\n",
       "<!DOCTYPE svg PUBLIC \"-//W3C//DTD SVG 1.1//EN\"\n",
       " \"http://www.w3.org/Graphics/SVG/1.1/DTD/svg11.dtd\">\n",
       "<!-- Generated by graphviz version 13.1.2 (0)\n",
       " -->\n",
       "<!-- Pages: 1 -->\n",
       "<svg width=\"633pt\" height=\"369pt\"\n",
       " viewBox=\"0.00 0.00 633.00 369.00\" xmlns=\"http://www.w3.org/2000/svg\" xmlns:xlink=\"http://www.w3.org/1999/xlink\">\n",
       "<g id=\"graph0\" class=\"graph\" transform=\"scale(1 1) rotate(0) translate(4 364.95)\">\n",
       "<polygon fill=\"white\" stroke=\"none\" points=\"-4,4 -4,-364.95 629.33,-364.95 629.33,4 -4,4\"/>\n",
       "<g id=\"clust1\" class=\"cluster\">\n",
       "<title>clusterobs_id (4109)</title>\n",
       "<path fill=\"none\" stroke=\"black\" d=\"M20,-8C20,-8 194,-8 194,-8 200,-8 206,-14 206,-20 206,-20 206,-227.73 206,-227.73 206,-233.73 200,-239.73 194,-239.73 194,-239.73 20,-239.73 20,-239.73 14,-239.73 8,-233.73 8,-227.73 8,-227.73 8,-20 8,-20 8,-14 14,-8 20,-8\"/>\n",
       "<text xml:space=\"preserve\" text-anchor=\"middle\" x=\"160.12\" y=\"-15.2\" font-family=\"Times New Roman,serif\" font-size=\"14.00\">obs_id (4109)</text>\n",
       "</g>\n",
       "<g id=\"clust2\" class=\"cluster\">\n",
       "<title>clusterBook (158)</title>\n",
       "<path fill=\"none\" stroke=\"black\" d=\"M448,-129.82C448,-129.82 578,-129.82 578,-129.82 584,-129.82 590,-135.82 590,-141.82 590,-141.82 590,-239.63 590,-239.63 590,-245.63 584,-251.63 578,-251.63 578,-251.63 448,-251.63 448,-251.63 442,-251.63 436,-245.63 436,-239.63 436,-239.63 436,-141.82 436,-141.82 436,-135.82 442,-129.82 448,-129.82\"/>\n",
       "<text xml:space=\"preserve\" text-anchor=\"middle\" x=\"550.88\" y=\"-137.02\" font-family=\"Times New Roman,serif\" font-size=\"14.00\">Book (158)</text>\n",
       "</g>\n",
       "<!-- books_idx -->\n",
       "<g id=\"node1\" class=\"node\">\n",
       "<title>books_idx</title>\n",
       "<path fill=\"lightgrey\" stroke=\"black\" d=\"M76.12,-231.73C76.12,-231.73 27.88,-231.73 27.88,-231.73 21.88,-231.73 15.88,-225.73 15.88,-219.73 15.88,-219.73 15.88,-186.23 15.88,-186.23 15.88,-180.23 21.88,-174.23 27.88,-174.23 27.88,-174.23 76.12,-174.23 76.12,-174.23 82.12,-174.23 88.12,-180.23 88.12,-186.23 88.12,-186.23 88.12,-219.73 88.12,-219.73 88.12,-225.73 82.12,-231.73 76.12,-231.73\"/>\n",
       "<text xml:space=\"preserve\" text-anchor=\"middle\" x=\"52\" y=\"-214.43\" font-family=\"Times New Roman,serif\" font-size=\"14.00\">books_idx</text>\n",
       "<text xml:space=\"preserve\" text-anchor=\"middle\" x=\"52\" y=\"-197.93\" font-family=\"Times New Roman,serif\" font-size=\"14.00\">~</text>\n",
       "<text xml:space=\"preserve\" text-anchor=\"middle\" x=\"52\" y=\"-181.43\" font-family=\"Times New Roman,serif\" font-size=\"14.00\">Data</text>\n",
       "</g>\n",
       "<!-- y -->\n",
       "<g id=\"node3\" class=\"node\">\n",
       "<title>y</title>\n",
       "<ellipse fill=\"lightgrey\" stroke=\"black\" cx=\"157\" cy=\"-81.16\" rx=\"41.01\" ry=\"40.66\"/>\n",
       "<text xml:space=\"preserve\" text-anchor=\"middle\" x=\"157\" y=\"-92.61\" font-family=\"Times New Roman,serif\" font-size=\"14.00\">y</text>\n",
       "<text xml:space=\"preserve\" text-anchor=\"middle\" x=\"157\" y=\"-76.11\" font-family=\"Times New Roman,serif\" font-size=\"14.00\">~</text>\n",
       "<text xml:space=\"preserve\" text-anchor=\"middle\" x=\"157\" y=\"-59.61\" font-family=\"Times New Roman,serif\" font-size=\"14.00\">Normal</text>\n",
       "</g>\n",
       "<!-- books_idx&#45;&gt;y -->\n",
       "<g id=\"edge6\" class=\"edge\">\n",
       "<title>books_idx&#45;&gt;y</title>\n",
       "<path fill=\"none\" stroke=\"black\" d=\"M67.09,-173.77C75.27,-159.79 86.12,-143.11 98,-129.82 103.31,-123.88 109.4,-118.08 115.62,-112.7\"/>\n",
       "<polygon fill=\"black\" stroke=\"black\" points=\"117.49,-115.69 122.94,-106.6 113.01,-110.31 117.49,-115.69\"/>\n",
       "</g>\n",
       "<!-- cmpl_det_idx -->\n",
       "<g id=\"node2\" class=\"node\">\n",
       "<title>cmpl_det_idx</title>\n",
       "<path fill=\"lightgrey\" stroke=\"black\" d=\"M185.5,-231.73C185.5,-231.73 118.5,-231.73 118.5,-231.73 112.5,-231.73 106.5,-225.73 106.5,-219.73 106.5,-219.73 106.5,-186.23 106.5,-186.23 106.5,-180.23 112.5,-174.23 118.5,-174.23 118.5,-174.23 185.5,-174.23 185.5,-174.23 191.5,-174.23 197.5,-180.23 197.5,-186.23 197.5,-186.23 197.5,-219.73 197.5,-219.73 197.5,-225.73 191.5,-231.73 185.5,-231.73\"/>\n",
       "<text xml:space=\"preserve\" text-anchor=\"middle\" x=\"152\" y=\"-214.43\" font-family=\"Times New Roman,serif\" font-size=\"14.00\">cmpl_det_idx</text>\n",
       "<text xml:space=\"preserve\" text-anchor=\"middle\" x=\"152\" y=\"-197.93\" font-family=\"Times New Roman,serif\" font-size=\"14.00\">~</text>\n",
       "<text xml:space=\"preserve\" text-anchor=\"middle\" x=\"152\" y=\"-181.43\" font-family=\"Times New Roman,serif\" font-size=\"14.00\">Data</text>\n",
       "</g>\n",
       "<!-- cmpl_det_idx&#45;&gt;y -->\n",
       "<g id=\"edge7\" class=\"edge\">\n",
       "<title>cmpl_det_idx&#45;&gt;y</title>\n",
       "<path fill=\"none\" stroke=\"black\" d=\"M153.17,-173.88C153.68,-161.78 154.28,-147.23 154.86,-133.33\"/>\n",
       "<polygon fill=\"black\" stroke=\"black\" points=\"158.36,-133.52 155.28,-123.38 151.37,-133.23 158.36,-133.52\"/>\n",
       "</g>\n",
       "<!-- b -->\n",
       "<g id=\"node4\" class=\"node\">\n",
       "<title>b</title>\n",
       "<ellipse fill=\"none\" stroke=\"black\" cx=\"257\" cy=\"-202.98\" rx=\"41.01\" ry=\"40.66\"/>\n",
       "<text xml:space=\"preserve\" text-anchor=\"middle\" x=\"257\" y=\"-214.43\" font-family=\"Times New Roman,serif\" font-size=\"14.00\">b</text>\n",
       "<text xml:space=\"preserve\" text-anchor=\"middle\" x=\"257\" y=\"-197.93\" font-family=\"Times New Roman,serif\" font-size=\"14.00\">~</text>\n",
       "<text xml:space=\"preserve\" text-anchor=\"middle\" x=\"257\" y=\"-181.43\" font-family=\"Times New Roman,serif\" font-size=\"14.00\">Normal</text>\n",
       "</g>\n",
       "<!-- b&#45;&gt;y -->\n",
       "<g id=\"edge3\" class=\"edge\">\n",
       "<title>b&#45;&gt;y</title>\n",
       "<path fill=\"none\" stroke=\"black\" d=\"M236.97,-167.27C229.21,-154.94 219.82,-141.29 210,-129.82 205.82,-124.94 201.16,-120.08 196.39,-115.43\"/>\n",
       "<polygon fill=\"black\" stroke=\"black\" points=\"199.09,-113.17 189.41,-108.88 194.3,-118.28 199.09,-113.17\"/>\n",
       "</g>\n",
       "<!-- ic_mu -->\n",
       "<g id=\"node5\" class=\"node\">\n",
       "<title>ic_mu</title>\n",
       "<ellipse fill=\"none\" stroke=\"black\" cx=\"456\" cy=\"-320.29\" rx=\"41.01\" ry=\"40.66\"/>\n",
       "<text xml:space=\"preserve\" text-anchor=\"middle\" x=\"456\" y=\"-331.74\" font-family=\"Times New Roman,serif\" font-size=\"14.00\">ic_mu</text>\n",
       "<text xml:space=\"preserve\" text-anchor=\"middle\" x=\"456\" y=\"-315.24\" font-family=\"Times New Roman,serif\" font-size=\"14.00\">~</text>\n",
       "<text xml:space=\"preserve\" text-anchor=\"middle\" x=\"456\" y=\"-298.74\" font-family=\"Times New Roman,serif\" font-size=\"14.00\">Normal</text>\n",
       "</g>\n",
       "<!-- book_intercept -->\n",
       "<g id=\"node8\" class=\"node\">\n",
       "<title>book_intercept</title>\n",
       "<ellipse fill=\"none\" stroke=\"black\" cx=\"513\" cy=\"-202.98\" rx=\"68.59\" ry=\"40.66\"/>\n",
       "<text xml:space=\"preserve\" text-anchor=\"middle\" x=\"513\" y=\"-214.43\" font-family=\"Times New Roman,serif\" font-size=\"14.00\">book_intercept</text>\n",
       "<text xml:space=\"preserve\" text-anchor=\"middle\" x=\"513\" y=\"-197.93\" font-family=\"Times New Roman,serif\" font-size=\"14.00\">~</text>\n",
       "<text xml:space=\"preserve\" text-anchor=\"middle\" x=\"513\" y=\"-181.43\" font-family=\"Times New Roman,serif\" font-size=\"14.00\">Normal</text>\n",
       "</g>\n",
       "<!-- ic_mu&#45;&gt;book_intercept -->\n",
       "<g id=\"edge1\" class=\"edge\">\n",
       "<title>ic_mu&#45;&gt;book_intercept</title>\n",
       "<path fill=\"none\" stroke=\"black\" d=\"M473.72,-283.44C478.58,-273.62 483.92,-262.81 489.06,-252.42\"/>\n",
       "<polygon fill=\"black\" stroke=\"black\" points=\"492.14,-254.08 493.43,-243.56 485.86,-250.98 492.14,-254.08\"/>\n",
       "</g>\n",
       "<!-- ic_sigma -->\n",
       "<g id=\"node6\" class=\"node\">\n",
       "<title>ic_sigma</title>\n",
       "<ellipse fill=\"none\" stroke=\"black\" cx=\"570\" cy=\"-320.29\" rx=\"55.33\" ry=\"40.66\"/>\n",
       "<text xml:space=\"preserve\" text-anchor=\"middle\" x=\"570\" y=\"-331.74\" font-family=\"Times New Roman,serif\" font-size=\"14.00\">ic_sigma</text>\n",
       "<text xml:space=\"preserve\" text-anchor=\"middle\" x=\"570\" y=\"-315.24\" font-family=\"Times New Roman,serif\" font-size=\"14.00\">~</text>\n",
       "<text xml:space=\"preserve\" text-anchor=\"middle\" x=\"570\" y=\"-298.74\" font-family=\"Times New Roman,serif\" font-size=\"14.00\">Halfcauchy</text>\n",
       "</g>\n",
       "<!-- ic_sigma&#45;&gt;book_intercept -->\n",
       "<g id=\"edge2\" class=\"edge\">\n",
       "<title>ic_sigma&#45;&gt;book_intercept</title>\n",
       "<path fill=\"none\" stroke=\"black\" d=\"M551.34,-281.53C546.71,-272.17 541.69,-262.02 536.85,-252.23\"/>\n",
       "<polygon fill=\"black\" stroke=\"black\" points=\"540.14,-250.99 532.57,-243.57 533.87,-254.09 540.14,-250.99\"/>\n",
       "</g>\n",
       "<!-- sigma -->\n",
       "<g id=\"node7\" class=\"node\">\n",
       "<title>sigma</title>\n",
       "<ellipse fill=\"none\" stroke=\"black\" cx=\"371\" cy=\"-202.98\" rx=\"55.33\" ry=\"40.66\"/>\n",
       "<text xml:space=\"preserve\" text-anchor=\"middle\" x=\"371\" y=\"-214.43\" font-family=\"Times New Roman,serif\" font-size=\"14.00\">sigma</text>\n",
       "<text xml:space=\"preserve\" text-anchor=\"middle\" x=\"371\" y=\"-197.93\" font-family=\"Times New Roman,serif\" font-size=\"14.00\">~</text>\n",
       "<text xml:space=\"preserve\" text-anchor=\"middle\" x=\"371\" y=\"-181.43\" font-family=\"Times New Roman,serif\" font-size=\"14.00\">Halfcauchy</text>\n",
       "</g>\n",
       "<!-- sigma&#45;&gt;y -->\n",
       "<g id=\"edge4\" class=\"edge\">\n",
       "<title>sigma&#45;&gt;y</title>\n",
       "<path fill=\"none\" stroke=\"black\" d=\"M345.85,-166.28C335.16,-153.26 321.74,-139.4 307,-129.82 277.34,-110.54 239.32,-98.57 208.98,-91.45\"/>\n",
       "<polygon fill=\"black\" stroke=\"black\" points=\"209.76,-88.04 199.24,-89.28 208.24,-94.87 209.76,-88.04\"/>\n",
       "</g>\n",
       "<!-- book_intercept&#45;&gt;y -->\n",
       "<g id=\"edge5\" class=\"edge\">\n",
       "<title>book_intercept&#45;&gt;y</title>\n",
       "<path fill=\"none\" stroke=\"black\" d=\"M482.85,-166.34C469.54,-152.85 452.87,-138.63 435,-129.82 362.48,-94.05 267.85,-84.6 209.81,-82.39\"/>\n",
       "<polygon fill=\"black\" stroke=\"black\" points=\"209.97,-78.9 199.87,-82.08 209.75,-85.89 209.97,-78.9\"/>\n",
       "</g>\n",
       "</g>\n",
       "</svg>\n"
      ],
      "text/plain": [
       "<graphviz.graphs.Digraph at 0x2a45f067cf0>"
      ]
     },
     "execution_count": 119,
     "metadata": {},
     "output_type": "execute_result"
    }
   ],
   "source": [
    "pm.model_to_graphviz(varying_intercept)"
   ]
  },
  {
   "cell_type": "code",
   "execution_count": null,
   "id": "b8e46e9e-dc05-43d3-a4bc-f5ff50fce6ea",
   "metadata": {},
   "outputs": [],
   "source": []
  }
 ],
 "metadata": {
  "kernelspec": {
   "display_name": "Python 3 (ipykernel)",
   "language": "python",
   "name": "python3"
  },
  "language_info": {
   "codemirror_mode": {
    "name": "ipython",
    "version": 3
   },
   "file_extension": ".py",
   "mimetype": "text/x-python",
   "name": "python",
   "nbconvert_exporter": "python",
   "pygments_lexer": "ipython3",
   "version": "3.13.5"
  }
 },
 "nbformat": 4,
 "nbformat_minor": 5
}
