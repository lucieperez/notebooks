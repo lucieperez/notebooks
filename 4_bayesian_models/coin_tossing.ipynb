{
 "cells": [
  {
   "cell_type": "code",
   "execution_count": 60,
   "id": "717894c4",
   "metadata": {},
   "outputs": [],
   "source": [
    "import pymc as pm\n",
    "import scipy\n",
    "import matplotlib.pyplot as plt\n",
    "import pandas as pd\n",
    "import random\n",
    "import seaborn as sns\n",
    "import numpy as np"
   ]
  },
  {
   "cell_type": "markdown",
   "id": "030e5a0c",
   "metadata": {},
   "source": [
    "### Determine if a coin is biaised: Frequentist approach\n",
    "\n",
    "\n",
    "**Null hypothesis**: the coin is not biaised, so it has a 0.5 probability of giving heads when tossed.\n",
    "\n",
    "**Alternative hypothesis**: the coin is biased, the probability that it gives heads might be higher or lower than 50%.\n",
    "\n",
    "---\n",
    "\n",
    "**Spoiler alert**: it is biaised, 75% chance of heads, 25% of tails"
   ]
  },
  {
   "cell_type": "markdown",
   "id": "efa3bfb2",
   "metadata": {},
   "source": [
    "### Conduct a Binomial test\n",
    "\n",
    "Reference: https://docs.scipy.org/doc/scipy/reference/generated/scipy.stats.binom_test.html\n",
    "\n",
    "`scipy.stats.binom_test(x, n=None, p=0.5, alternative='two-sided')`\n",
    "\n",
    "---\n",
    "\n",
    "#### Parameters:\n",
    "\n",
    "1. x: int or array_like\n",
    "The number of successes. \n",
    "> **_Here_** I use the number of tosses that gave HEADS, saved in the variable *successes*.\n",
    "\n",
    "2. n: int\n",
    "The number of trials. This is ignored if x gives both the number of successes and failures. \n",
    "> **_Here_** it is the *total_tosses*.\n",
    "\n",
    "3. p: float, optional\n",
    "The hypothesized probability of success. 0 <= p <= 1. The default value is p = 0.5. \n",
    "> **_Here_** my hypothesis is that the coin is not biaised, so I hypothesize that there is a 50% chance that the toss gives heads and a 50% that it gives tails.\n",
    "\n",
    "4. alternative: {‘two-sided’, ‘greater’, ‘less’}, optional\n",
    "Indicates the alternative hypothesis. The default value is ‘two-sided’.\n",
    "\n",
    "> Two-tailed: if the estimated value is **greater or less than a certain range of values** (Wikipedia, One- and two-tailed tests).\n",
    "Ex: a test taker may score below or above a given result.\n",
    "Used for null hypothesis testing.\n",
    "\n",
    "> One-tailed: appropriate if the estimated value may depart from the reference value in **only one direction**. \n",
    "Ex: if a machine can produce more than 1% of defective products.\n",
    "\n",
    "> **_Here_**, as my coin could actually be biased towards both heads (so, it would have more than 0.5 probability of giving heads) or towards tails (less than 0.5 probability of giving heads), I chose the two-tailed or two-sided version.\n",
    "\n",
    "---\n",
    "\n",
    "#### Returns:\n",
    "##### p-value: float \n",
    "The p-value of the hypothesis test."
   ]
  },
  {
   "cell_type": "code",
   "execution_count": 127,
   "id": "34f85318",
   "metadata": {},
   "outputs": [],
   "source": [
    "# Determine your test arguments\n",
    "\n",
    "## Number of trials\n",
    "number_of_trials = 10\n",
    "\n",
    "## Probability that the coin gives heads (we know that it is biased)\n",
    "pi = 0.75 \n",
    "\n",
    "# Create a list of n trials, where Heads is 1, tails is 0\n",
    "tosses_list = random.choices([1, 0], [pi, 1 - pi], k=number_of_trials)\n",
    "\n",
    "# total amount of tosses\n",
    "total_tosses = len(tosses_list)\n",
    "\n",
    "# Add the successes from the tosses_list\n",
    "successes = sum(tosses_list)"
   ]
  },
  {
   "cell_type": "code",
   "execution_count": 128,
   "id": "241574b5",
   "metadata": {},
   "outputs": [
    {
     "name": "stdout",
     "output_type": "stream",
     "text": [
      "[1, 1, 1, 1, 1, 1, 0, 1, 1, 1]\n"
     ]
    }
   ],
   "source": [
    "# Print the result as a list\n",
    "print(tosses_list)"
   ]
  },
  {
   "cell_type": "code",
   "execution_count": 129,
   "id": "5f2ae77b",
   "metadata": {},
   "outputs": [
    {
     "name": "stdout",
     "output_type": "stream",
     "text": [
      "You got 9 heads for 10 tosses.\n"
     ]
    }
   ],
   "source": [
    "print(f\"You got {successes} heads for {total_tosses} tosses.\")"
   ]
  },
  {
   "cell_type": "code",
   "execution_count": 130,
   "id": "ac5ed4e2",
   "metadata": {},
   "outputs": [],
   "source": [
    "### Conduct the analysis\n",
    "result = scipy.stats.binomtest(successes, n=total_tosses, p=0.5, alternative='two-sided')"
   ]
  },
  {
   "cell_type": "code",
   "execution_count": 131,
   "id": "ed5a3339",
   "metadata": {},
   "outputs": [
    {
     "name": "stdout",
     "output_type": "stream",
     "text": [
      "BinomTestResult(k=9, n=10, alternative='two-sided', statistic=0.9, pvalue=0.021484375)\n"
     ]
    }
   ],
   "source": [
    "### print the result \n",
    "print(result)"
   ]
  },
  {
   "cell_type": "code",
   "execution_count": 132,
   "id": "2b9d298e",
   "metadata": {},
   "outputs": [
    {
     "name": "stdout",
     "output_type": "stream",
     "text": [
      "Your p-value is 0.021484375, which is less than 0.05. \n",
      "You can reject the null hypothesis.\n"
     ]
    }
   ],
   "source": [
    "### Give an indication about the result\n",
    "\n",
    "chosen_alpha = 0.05\n",
    "\n",
    "if result.pvalue > chosen_alpha:\n",
    "    print(f\"Your p-value is {result.pvalue}, which is greater than 0.05. \\nYou cannot reject the null hypothesis.\")\n",
    "else:\n",
    "    print(f\"Your p-value is {result.pvalue}, which is less than 0.05. \\nYou can reject the null hypothesis.\")"
   ]
  },
  {
   "cell_type": "markdown",
   "id": "db5ad010",
   "metadata": {},
   "source": [
    "### Determine if a coin is biaised: Bayesian approach\n",
    "\n",
    "\n",
    "**Hypothesis**: the coin is not biaised, so it has a 0.5 probability of giving heads when tossed.\n",
    "\n",
    "---\n",
    "\n",
    "**Spoiler alert**: it is biaised, 75% chance of heads, 25% of tails"
   ]
  },
  {
   "cell_type": "code",
   "execution_count": 133,
   "id": "26c4a1bc",
   "metadata": {},
   "outputs": [],
   "source": [
    "# Define the data, here binary outcome of my observed data as the tosses_list\n",
    "\n",
    "data = np.array([tosses_list])"
   ]
  },
  {
   "cell_type": "markdown",
   "id": "8428ae3d",
   "metadata": {},
   "source": [
    "#### Example 1"
   ]
  },
  {
   "cell_type": "code",
   "execution_count": 134,
   "id": "ea680d63",
   "metadata": {},
   "outputs": [],
   "source": [
    "# define the probabilistic model: \n",
    "# here, estimate the probability of success (p) for a Bernoulli distribution\n",
    "\n",
    "def bayesian_model(data, alpha=1, beta=1):\n",
    "    \"\"\"Estimates the probabbility of success for a Bernouilli distribution. Default: uninformed priors (alpha=1 and beta=1).\"\"\"\n",
    "    with pm.Model() as model:\n",
    "        p = pm.Beta('p', alpha, beta)\n",
    "        y = pm.Bernoulli('y', p, observed=data)\n",
    "        trace = pm.sample(1000, tune=1000)  # Perform MCMC sampling\n",
    "        return trace"
   ]
  },
  {
   "cell_type": "code",
   "execution_count": 135,
   "id": "e746eb8b",
   "metadata": {},
   "outputs": [
    {
     "name": "stderr",
     "output_type": "stream",
     "text": [
      "Auto-assigning NUTS sampler...\n",
      "Initializing NUTS using jitter+adapt_diag...\n",
      "Multiprocess sampling (4 chains in 4 jobs)\n",
      "NUTS: [p]\n"
     ]
    },
    {
     "data": {
      "text/html": [
       "\n",
       "<style>\n",
       "    /* Turns off some styling */\n",
       "    progress {\n",
       "        /* gets rid of default border in Firefox and Opera. */\n",
       "        border: none;\n",
       "        /* Needs to be in here for Safari polyfill so background images work as expected. */\n",
       "        background-size: auto;\n",
       "    }\n",
       "    progress:not([value]), progress:not([value])::-webkit-progress-bar {\n",
       "        background: repeating-linear-gradient(45deg, #7e7e7e, #7e7e7e 10px, #5c5c5c 10px, #5c5c5c 20px);\n",
       "    }\n",
       "    .progress-bar-interrupted, .progress-bar-interrupted::-webkit-progress-bar {\n",
       "        background: #F44336;\n",
       "    }\n",
       "</style>\n"
      ],
      "text/plain": [
       "<IPython.core.display.HTML object>"
      ]
     },
     "metadata": {},
     "output_type": "display_data"
    },
    {
     "data": {
      "text/html": [
       "\n",
       "    <div>\n",
       "      <progress value='8000' class='' max='8000' style='width:300px; height:20px; vertical-align: middle;'></progress>\n",
       "      100.00% [8000/8000 00:21&lt;00:00 Sampling 4 chains, 0 divergences]\n",
       "    </div>\n",
       "    "
      ],
      "text/plain": [
       "<IPython.core.display.HTML object>"
      ]
     },
     "metadata": {},
     "output_type": "display_data"
    },
    {
     "name": "stderr",
     "output_type": "stream",
     "text": [
      "Sampling 4 chains for 1_000 tune and 1_000 draw iterations (4_000 + 4_000 draws total) took 79 seconds.\n"
     ]
    },
    {
     "data": {
      "text/plain": [
       "<Axes: title={'center': 'p'}>"
      ]
     },
     "execution_count": 135,
     "metadata": {},
     "output_type": "execute_result"
    },
    {
     "data": {
      "image/png": "[encoded data removed]",
      "text/plain": [
       "<Figure size 640x480 with 1 Axes>"
      ]
     },
     "metadata": {},
     "output_type": "display_data"
    }
   ],
   "source": [
    "# Plot and analyse the result: uninformed prior\n",
    "\n",
    "trace = bayesian_model(data)\n",
    "\n",
    "pm.plot_posterior(trace, var_names=['p'])  # Plot posterior distribution of p"
   ]
  },
  {
   "cell_type": "code",
   "execution_count": 136,
   "id": "ddb2d086",
   "metadata": {},
   "outputs": [
    {
     "name": "stderr",
     "output_type": "stream",
     "text": [
      "Auto-assigning NUTS sampler...\n",
      "Initializing NUTS using jitter+adapt_diag...\n",
      "Multiprocess sampling (4 chains in 4 jobs)\n",
      "NUTS: [p]\n"
     ]
    },
    {
     "data": {
      "text/html": [
       "\n",
       "<style>\n",
       "    /* Turns off some styling */\n",
       "    progress {\n",
       "        /* gets rid of default border in Firefox and Opera. */\n",
       "        border: none;\n",
       "        /* Needs to be in here for Safari polyfill so background images work as expected. */\n",
       "        background-size: auto;\n",
       "    }\n",
       "    progress:not([value]), progress:not([value])::-webkit-progress-bar {\n",
       "        background: repeating-linear-gradient(45deg, #7e7e7e, #7e7e7e 10px, #5c5c5c 10px, #5c5c5c 20px);\n",
       "    }\n",
       "    .progress-bar-interrupted, .progress-bar-interrupted::-webkit-progress-bar {\n",
       "        background: #F44336;\n",
       "    }\n",
       "</style>\n"
      ],
      "text/plain": [
       "<IPython.core.display.HTML object>"
      ]
     },
     "metadata": {},
     "output_type": "display_data"
    },
    {
     "data": {
      "text/html": [
       "\n",
       "    <div>\n",
       "      <progress value='8000' class='' max='8000' style='width:300px; height:20px; vertical-align: middle;'></progress>\n",
       "      100.00% [8000/8000 00:14&lt;00:00 Sampling 4 chains, 0 divergences]\n",
       "    </div>\n",
       "    "
      ],
      "text/plain": [
       "<IPython.core.display.HTML object>"
      ]
     },
     "metadata": {},
     "output_type": "display_data"
    },
    {
     "name": "stderr",
     "output_type": "stream",
     "text": [
      "Sampling 4 chains for 1_000 tune and 1_000 draw iterations (4_000 + 4_000 draws total) took 68 seconds.\n"
     ]
    },
    {
     "data": {
      "text/plain": [
       "<Axes: title={'center': 'p'}>"
      ]
     },
     "execution_count": 136,
     "metadata": {},
     "output_type": "execute_result"
    },
    {
     "data": {
      "image/png": "[encoded data removed]",
      "text/plain": [
       "<Figure size 640x480 with 1 Axes>"
      ]
     },
     "metadata": {},
     "output_type": "display_data"
    }
   ],
   "source": [
    "# Plot and analyse the result: weakly informed prior\n",
    "\n",
    "trace = bayesian_model(data, alpha=3, beta=3)\n",
    "\n",
    "pm.plot_posterior(trace, var_names=['p'])  # Plot posterior distribution of p"
   ]
  },
  {
   "cell_type": "markdown",
   "id": "f6ed78bd",
   "metadata": {},
   "source": [
    "### A few notes on the Bayes factor\n",
    "\n",
    "- Basic understanding: the Bayes factor is a measure of how the evidence (data collected, observed) support a model compared to another model (somehow an alternative to the significance measure)\n",
    "\n",
    "- \"it is a model comparison procedure\" (Speekenbrink)\n",
    "\n",
    "- in Bayesian hypothesis testing, we compare two models, a general model(G) and a more restricted model (R)\n",
    "\n",
    "- the restricted model R is a special case of the general model G\n",
    "\n",
    "> if BF of R, G = 12\n",
    "> it means that the data that we observe is 12 times more likely to be observed under the restricted model R, compared to general model G\n",
    "> this means that the evidence is strong for the restricted model\n",
    "> our belief in model R is increase\n",
    "\n",
    "____\n",
    "\n",
    "\n",
    "### Credible intervals\n",
    "\n",
    "- credible interval: \"an interval in the posterior distribution which contains a given proportion of the probability mass\"\n",
    "\n",
    "- they indicate a portion of the probability æasss within which we think that the true value of a parameter lies\n",
    "\n",
    "> Example of highest density interval:  a 95% HDI contains 95% of the probability mass\n",
    "> it means that we think that the true value of a parameter is situated within these 95% "
   ]
  },
  {
   "cell_type": "markdown",
   "id": "710426e2",
   "metadata": {},
   "source": [
    "### Understanding the beta distribution with scipy\n",
    "\n",
    "- Beta distribution: a probability distribution\n",
    "\n",
    "- Interval: [0, 1]\n",
    "\n",
    "- Two positive parameters: alpha and beta\n",
    "\n",
    "- Application: model the behavior of random variables with intervals of limited length\n",
    "\n",
    "- Used as prior distribution for Bernoulli, binomial, negative binomial and geometric distribution\n",
    "\n",
    "#### 1. The Beta Prior model\n",
    "\n",
    "- a continuous prior probability model (pi): probability density function\n",
    "- the PDF *f(pi)* specifies all the values of pi and the relative plausibility of each value (Bayes Rules, 3.1), NB: *f(pi)* is not a probability, but \"can be used to compare the plausibility of two different values of pi\" (bayes Rules, 3.1) (the greater *f(pi)*, the more plausible the value of pi)\n",
    "\n",
    "#### 2. Proprieties of the beta probability model\n",
    "\n",
    "- **Hyperparameter**: \"a parameter used in a prior\" (BR, 3.1.1)\n",
    "- Hyperparameters of the Beta model: alpha and beta, with alpha > 0 and beta > 0\n",
    "> pi ∼ Beta(aplha, beta)\n",
    "\n",
    "- the Beta distribution can be \"tuned\" to best reflect your priors\n",
    "- ex: if alpha = beta = 1, it is a uniform prior, flat, pi ∼ \n",
    "\n",
    "- **Measures of central tendency**: mean (average value of pi) and mode (most plausible value of pi)\n",
    "\n",
    "- if alpha > beta : curve is right skewed\n",
    "- if alpha < beta : curve left skewed\n",
    "- if alpha = beta : curve symmetric (except uniform)\n",
    "\n",
    "- **Variance**: \"measures the typical *squared* distance of pi values from the mean\", usually we use the standard deviation to avoid the squared units of the variance\n",
    "- **standard deviation**: square root of the variance\n",
    "\n",
    "#### 3. Tuning the beta prior\n",
    "\n",
    "Michelle example: her average support is 45%, her highest score is 55% support. So, they chose alpha = 45 and beta = 55 (the curve will be left skewed)\n",
    "\n",
    "- Trial and error process to obtain a distribution that looks like the obtained pools\n",
    "\n",
    "- prior model for Michelle: pi ∼ Beta(45, 55)\n",
    "\n",
    "- calculate the prior mean and the prior mode\n",
    "- evaluate the prior standard deviation (square roots of the variance)"
   ]
  },
  {
   "cell_type": "markdown",
   "id": "29c0651a",
   "metadata": {},
   "source": [
    "#### How do we define a prior and why do we define it this way?\n",
    "\n",
    "- two extreme types of prior: certain and vague\n",
    "- \"the more **certain** the prior information, the *smaller* the prior variability\"\n",
    "- \"the more **vague** the prior information, the *greater* the prior variability\"\n",
    "(Bayes Rules, 4.1)\n",
    "\n",
    "- **Informative prior**: a prior which \"reflects specific infirmation about the unknown variable with high certainty\"\n",
    "\n",
    "- **Vague prior**:\"reflects little specific information of the unknowm variable\"\n",
    "\n",
    "> a special case of vague prior is the uniform prior distribution (Beta(alpha=1, beta=1) \"assigns equal prior plausibility to each value or pi between 0 and 1\""
   ]
  },
  {
   "cell_type": "code",
   "execution_count": 142,
   "id": "b7498b0f",
   "metadata": {},
   "outputs": [],
   "source": [
    "# beta distribution\n",
    "from scipy.stats import beta\n",
    "\n",
    "x = np.linspace(0, 1, 100)\n",
    "y = beta.pdf(x, 1, 1)\n",
    "\n",
    "a = np.linspace(0, 1, 100)\n",
    "b = beta.pdf(x, 5, 5)\n",
    "\n",
    "e = np.linspace(0, 1, 100)\n",
    "f = beta.pdf(x, 20, 20)\n",
    "\n",
    "# pdf(x, a, b, loc=0, scale=1)"
   ]
  },
  {
   "cell_type": "code",
   "execution_count": 143,
   "id": "9ab61533",
   "metadata": {},
   "outputs": [
    {
     "data": {
      "image/png": "[encoded data removed]",
      "text/plain": [
       "<Figure size 640x480 with 1 Axes>"
      ]
     },
     "metadata": {},
     "output_type": "display_data"
    }
   ],
   "source": [
    "# plot\n",
    "\n",
    "plt.plot(x, y)\n",
    "plt.plot(a, b)\n",
    "plt.plot(e, f)\n",
    "plt.xlabel(\"x\")\n",
    "plt.ylabel(\"y-Prob.\")\n",
    "plt.title(\"Beta Distribution\")\n",
    "plt.show()"
   ]
  },
  {
   "cell_type": "code",
   "execution_count": null,
   "id": "fda6b6ee",
   "metadata": {},
   "outputs": [],
   "source": []
  },
  {
   "cell_type": "code",
   "execution_count": 77,
   "id": "9154330c",
   "metadata": {},
   "outputs": [
    {
     "data": {
      "text/plain": [
       "45"
      ]
     },
     "execution_count": 77,
     "metadata": {},
     "output_type": "execute_result"
    }
   ],
   "source": []
  },
  {
   "cell_type": "code",
   "execution_count": null,
   "id": "6e4cf8aa",
   "metadata": {},
   "outputs": [],
   "source": []
  }
 ],
 "metadata": {
  "kernelspec": {
   "display_name": "Python (pymc_env)",
   "language": "python",
   "name": "pymc_env"
  },
  "language_info": {
   "codemirror_mode": {
    "name": "ipython",
    "version": 3
   },
   "file_extension": ".py",
   "mimetype": "text/x-python",
   "name": "python",
   "nbconvert_exporter": "python",
   "pygments_lexer": "ipython3",
   "version": "3.11.4"
  }
 },
 "nbformat": 4,
 "nbformat_minor": 5
}
