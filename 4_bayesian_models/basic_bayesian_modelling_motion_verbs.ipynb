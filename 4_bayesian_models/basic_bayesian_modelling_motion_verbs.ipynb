{
 "cells": [
  {
   "cell_type": "markdown",
   "id": "cd18b0c0",
   "metadata": {},
   "source": [
    "NB: This code can only be used if you have the required dataset, which is not public.\n",
    "Thus, the original dataset is not included."
   ]
  },
  {
   "cell_type": "code",
   "execution_count": 66,
   "id": "4e39b7c6",
   "metadata": {},
   "outputs": [],
   "source": [
    "import pandas as pd\n",
    "from matplotlib import pyplot as plt\n",
    "%matplotlib inline\n",
    "import pymc as pm\n",
    "import numpy as np\n",
    "\n",
    "import arviz as az\n",
    "# NB: user needs to install xlrd"
   ]
  },
  {
   "cell_type": "code",
   "execution_count": 23,
   "id": "6a05a21c",
   "metadata": {},
   "outputs": [],
   "source": [
    "verbs_dataset = pd.read_excel(\"verbs_dataset.xls\") # needs the original dataset to go on"
   ]
  },
  {
   "cell_type": "code",
   "execution_count": 24,
   "id": "674abcf0",
   "metadata": {},
   "outputs": [
    {
     "data": {
      "text/plain": [
       "(3125, 54)"
      ]
     },
     "execution_count": 24,
     "metadata": {},
     "output_type": "execute_result"
    }
   ],
   "source": [
    "verbs_dataset.shape"
   ]
  },
  {
   "cell_type": "code",
   "execution_count": 25,
   "id": "027555b7",
   "metadata": {},
   "outputs": [
    {
     "data": {
      "text/html": [
       "<div>\n",
       "<style scoped>\n",
       "    .dataframe tbody tr th:only-of-type {\n",
       "        vertical-align: middle;\n",
       "    }\n",
       "\n",
       "    .dataframe tbody tr th {\n",
       "        vertical-align: top;\n",
       "    }\n",
       "\n",
       "    .dataframe thead th {\n",
       "        text-align: right;\n",
       "    }\n",
       "</style>\n",
       "<table border=\"1\" class=\"dataframe\">\n",
       "  <thead>\n",
       "    <tr style=\"text-align: right;\">\n",
       "      <th></th>\n",
       "      <th>id</th>\n",
       "      <th>book</th>\n",
       "      <th>info_refer</th>\n",
       "      <th>info_reads</th>\n",
       "      <th>info_means</th>\n",
       "      <th>texttype</th>\n",
       "      <th>syn_vbinit</th>\n",
       "      <th>syn_gcb4vb</th>\n",
       "      <th>syn_realis</th>\n",
       "      <th>syn_affneg</th>\n",
       "      <th>...</th>\n",
       "      <th>soc_north</th>\n",
       "      <th>gc2</th>\n",
       "      <th>book2</th>\n",
       "      <th>vb_aspect</th>\n",
       "      <th>obj_def2</th>\n",
       "      <th>gc_samesame2</th>\n",
       "      <th>gc_parsame2</th>\n",
       "      <th>verse</th>\n",
       "      <th>gc3binary</th>\n",
       "      <th>unique</th>\n",
       "    </tr>\n",
       "  </thead>\n",
       "  <tbody>\n",
       "    <tr>\n",
       "      <th>0</th>\n",
       "      <td>1.0</td>\n",
       "      <td>genesis</td>\n",
       "      <td>Gen 01:09</td>\n",
       "      <td>?el ma:qom exad</td>\n",
       "      <td>to one place</td>\n",
       "      <td>narrative</td>\n",
       "      <td>verb first</td>\n",
       "      <td>GC not before vb</td>\n",
       "      <td>irrealis</td>\n",
       "      <td>affirm</td>\n",
       "      <td>...</td>\n",
       "      <td>not yet</td>\n",
       "      <td>prep or prep plus prep</td>\n",
       "      <td>genesis</td>\n",
       "      <td>imperfective</td>\n",
       "      <td>NaN</td>\n",
       "      <td>NaN</td>\n",
       "      <td>NaN</td>\n",
       "      <td>prose</td>\n",
       "      <td>1</td>\n",
       "      <td>unique or representative</td>\n",
       "    </tr>\n",
       "    <tr>\n",
       "      <th>1</th>\n",
       "      <td>2.0</td>\n",
       "      <td>genesis</td>\n",
       "      <td>Gen 02:19</td>\n",
       "      <td>?el ha?adam</td>\n",
       "      <td>to the man</td>\n",
       "      <td>narrative</td>\n",
       "      <td>verb first</td>\n",
       "      <td>GC not before vb</td>\n",
       "      <td>realis</td>\n",
       "      <td>affirm</td>\n",
       "      <td>...</td>\n",
       "      <td>not yet</td>\n",
       "      <td>prep or prep plus prep</td>\n",
       "      <td>genesis</td>\n",
       "      <td>perfective</td>\n",
       "      <td>not explicit</td>\n",
       "      <td>NaN</td>\n",
       "      <td>NaN</td>\n",
       "      <td>prose</td>\n",
       "      <td>1</td>\n",
       "      <td>unique or representative</td>\n",
       "    </tr>\n",
       "    <tr>\n",
       "      <th>2</th>\n",
       "      <td>3.0</td>\n",
       "      <td>genesis</td>\n",
       "      <td>Gen 02:22</td>\n",
       "      <td>?el ha?adam</td>\n",
       "      <td>to the man</td>\n",
       "      <td>narrative</td>\n",
       "      <td>verb first</td>\n",
       "      <td>GC not before vb</td>\n",
       "      <td>realis</td>\n",
       "      <td>affirm</td>\n",
       "      <td>...</td>\n",
       "      <td>not yet</td>\n",
       "      <td>prep or prep plus prep</td>\n",
       "      <td>genesis</td>\n",
       "      <td>perfective</td>\n",
       "      <td>pronoun</td>\n",
       "      <td>NaN</td>\n",
       "      <td>NaN</td>\n",
       "      <td>prose</td>\n",
       "      <td>1</td>\n",
       "      <td>unique or representative</td>\n",
       "    </tr>\n",
       "    <tr>\n",
       "      <th>3</th>\n",
       "      <td>4.0</td>\n",
       "      <td>genesis</td>\n",
       "      <td>Gen 04:03</td>\n",
       "      <td>le-YHWH</td>\n",
       "      <td>to YHWH</td>\n",
       "      <td>narrative</td>\n",
       "      <td>verb first</td>\n",
       "      <td>GC not before vb</td>\n",
       "      <td>realis</td>\n",
       "      <td>affirm</td>\n",
       "      <td>...</td>\n",
       "      <td>not yet</td>\n",
       "      <td>prep or prep plus prep</td>\n",
       "      <td>genesis</td>\n",
       "      <td>perfective</td>\n",
       "      <td>indef NP</td>\n",
       "      <td>NaN</td>\n",
       "      <td>NaN</td>\n",
       "      <td>prose</td>\n",
       "      <td>1</td>\n",
       "      <td>unique or representative</td>\n",
       "    </tr>\n",
       "    <tr>\n",
       "      <th>4</th>\n",
       "      <td>5.0</td>\n",
       "      <td>genesis</td>\n",
       "      <td>Gen 06:18</td>\n",
       "      <td>?el hate:bah</td>\n",
       "      <td>to the ark</td>\n",
       "      <td>n/sp</td>\n",
       "      <td>verb first</td>\n",
       "      <td>GC not before vb</td>\n",
       "      <td>irrealis</td>\n",
       "      <td>affirm</td>\n",
       "      <td>...</td>\n",
       "      <td>not yet</td>\n",
       "      <td>prep or prep plus prep</td>\n",
       "      <td>genesis</td>\n",
       "      <td>imperfective</td>\n",
       "      <td>NaN</td>\n",
       "      <td>NaN</td>\n",
       "      <td>NaN</td>\n",
       "      <td>prose</td>\n",
       "      <td>1</td>\n",
       "      <td>unique or representative</td>\n",
       "    </tr>\n",
       "  </tbody>\n",
       "</table>\n",
       "<p>5 rows × 54 columns</p>\n",
       "</div>"
      ],
      "text/plain": [
       "    id     book info_refer       info_reads    info_means   texttype  \\\n",
       "0  1.0  genesis  Gen 01:09  ?el ma:qom exad  to one place  narrative   \n",
       "1  2.0  genesis  Gen 02:19      ?el ha?adam    to the man  narrative   \n",
       "2  3.0  genesis  Gen 02:22      ?el ha?adam    to the man  narrative   \n",
       "3  4.0  genesis  Gen 04:03          le-YHWH       to YHWH  narrative   \n",
       "4  5.0  genesis  Gen 06:18     ?el hate:bah    to the ark       n/sp   \n",
       "\n",
       "   syn_vbinit        syn_gcb4vb syn_realis syn_affneg  ... soc_north  \\\n",
       "0  verb first  GC not before vb   irrealis     affirm  ...   not yet   \n",
       "1  verb first  GC not before vb     realis     affirm  ...   not yet   \n",
       "2  verb first  GC not before vb     realis     affirm  ...   not yet   \n",
       "3  verb first  GC not before vb     realis     affirm  ...   not yet   \n",
       "4  verb first  GC not before vb   irrealis     affirm  ...   not yet   \n",
       "\n",
       "                      gc2    book2     vb_aspect      obj_def2 gc_samesame2  \\\n",
       "0  prep or prep plus prep  genesis  imperfective           NaN          NaN   \n",
       "1  prep or prep plus prep  genesis    perfective  not explicit          NaN   \n",
       "2  prep or prep plus prep  genesis    perfective       pronoun          NaN   \n",
       "3  prep or prep plus prep  genesis    perfective      indef NP          NaN   \n",
       "4  prep or prep plus prep  genesis  imperfective           NaN          NaN   \n",
       "\n",
       "  gc_parsame2  verse gc3binary                    unique  \n",
       "0         NaN  prose         1  unique or representative  \n",
       "1         NaN  prose         1  unique or representative  \n",
       "2         NaN  prose         1  unique or representative  \n",
       "3         NaN  prose         1  unique or representative  \n",
       "4         NaN  prose         1  unique or representative  \n",
       "\n",
       "[5 rows x 54 columns]"
      ]
     },
     "execution_count": 25,
     "metadata": {},
     "output_type": "execute_result"
    }
   ],
   "source": [
    "verbs_dataset.head()"
   ]
  },
  {
   "cell_type": "code",
   "execution_count": 26,
   "id": "49b73ffe",
   "metadata": {},
   "outputs": [
    {
     "data": {
      "text/plain": [
       "Index(['id', 'book', 'info_refer', 'info_reads', 'info_means', 'texttype',\n",
       "       'syn_vbinit', 'syn_gcb4vb', 'syn_realis', 'syn_affneg', 'sub_explicit',\n",
       "       'sub_anim', 'sub_def', 'sub_num', 'obj_reflexive', 'obj_anim',\n",
       "       'obj_def', 'obj_num', 'info_verbroot', 'verbid', 'construction',\n",
       "       'sub_affected', 'sub_affect2', 'vb_binyan', 'vb_passive', 'vb_particip',\n",
       "       'vb_parse', 'gc_sgpl', 'gc_sameclseq', 'gc_samesame', 'gc_parclseq',\n",
       "       'gc_parsame', 'info_gcorder', 'gc', 'gc_end', 'gc_def', 'gc_add',\n",
       "       'gc_proper', 'gc_anim', 'gc_complex', 'gc_prep', 'source', 'era',\n",
       "       'soc_oral', 'soc_north', 'gc2', 'book2', 'vb_aspect', 'obj_def2',\n",
       "       'gc_samesame2', 'gc_parsame2', 'verse', 'gc3binary', 'unique'],\n",
       "      dtype='object')"
      ]
     },
     "execution_count": 26,
     "metadata": {},
     "output_type": "execute_result"
    }
   ],
   "source": [
    "verbs_dataset.columns"
   ]
  },
  {
   "cell_type": "code",
   "execution_count": 27,
   "id": "0655c80d",
   "metadata": {},
   "outputs": [
    {
     "data": {
      "text/plain": [
       "gc\n",
       "prep                2088\n",
       "hey                  495\n",
       "acc of direction     493\n",
       "prep and prep         39\n",
       "prep and hey          10\n",
       "Name: count, dtype: int64"
      ]
     },
     "execution_count": 27,
     "metadata": {},
     "output_type": "execute_result"
    }
   ],
   "source": [
    "verbs_dataset.gc.value_counts()"
   ]
  },
  {
   "cell_type": "code",
   "execution_count": 28,
   "id": "fdce2a51",
   "metadata": {},
   "outputs": [
    {
     "data": {
      "text/plain": [
       "gc_prep\n",
       "?el        1576\n",
       "no prep     990\n",
       "l           282\n",
       "al          103\n",
       "ad           94\n",
       "b            75\n",
       "?et           5\n",
       "Name: count, dtype: int64"
      ]
     },
     "execution_count": 28,
     "metadata": {},
     "output_type": "execute_result"
    }
   ],
   "source": [
    "verbs_dataset.gc_prep.value_counts()"
   ]
  },
  {
   "cell_type": "code",
   "execution_count": 29,
   "id": "0fb0353a",
   "metadata": {},
   "outputs": [
    {
     "data": {
      "text/plain": [
       "obj_anim\n",
       "animate/extended animate    601\n",
       "inanimate                   309\n",
       "impersonal                   78\n",
       "Name: count, dtype: int64"
      ]
     },
     "execution_count": 29,
     "metadata": {},
     "output_type": "execute_result"
    }
   ],
   "source": [
    "verbs_dataset.obj_anim.value_counts()"
   ]
  },
  {
   "cell_type": "code",
   "execution_count": 103,
   "id": "7e1b7d62",
   "metadata": {},
   "outputs": [
    {
     "data": {
      "text/plain": [
       "gc\n",
       "prep    2088\n",
       "hey      495\n",
       "Name: count, dtype: int64"
      ]
     },
     "execution_count": 103,
     "metadata": {},
     "output_type": "execute_result"
    }
   ],
   "source": [
    "gc_obj_anim = verbs_dataset[(verbs_dataset.gc.isin([\"prep\", \"hey\"]))]\n",
    "gc_obj_anim.gc.value_counts()"
   ]
  },
  {
   "cell_type": "code",
   "execution_count": 104,
   "id": "025bf174",
   "metadata": {},
   "outputs": [
    {
     "data": {
      "text/plain": [
       "obj_anim\n",
       "animate/extended animate    531\n",
       "inanimate                   261\n",
       "Name: count, dtype: int64"
      ]
     },
     "execution_count": 104,
     "metadata": {},
     "output_type": "execute_result"
    }
   ],
   "source": [
    "gc_obj_anim2 = gc_obj_anim[(gc_obj_anim.obj_anim.isin([\"animate/extended animate\", \"inanimate\"]))]\n",
    "gc_obj_anim2.obj_anim.value_counts()"
   ]
  },
  {
   "cell_type": "code",
   "execution_count": 106,
   "id": "920cda1c",
   "metadata": {},
   "outputs": [
    {
     "data": {
      "text/plain": [
       "(792, 54)"
      ]
     },
     "execution_count": 106,
     "metadata": {},
     "output_type": "execute_result"
    }
   ],
   "source": [
    "gc_obj_anim2.shape"
   ]
  },
  {
   "cell_type": "code",
   "execution_count": 107,
   "id": "ddcc85cd",
   "metadata": {},
   "outputs": [
    {
     "data": {
      "text/plain": [
       "gc\n",
       "prep    666\n",
       "hey     126\n",
       "Name: count, dtype: int64"
      ]
     },
     "execution_count": 107,
     "metadata": {},
     "output_type": "execute_result"
    }
   ],
   "source": [
    "gc_obj_anim2.gc.value_counts()"
   ]
  },
  {
   "cell_type": "code",
   "execution_count": 108,
   "id": "5dcdf910",
   "metadata": {},
   "outputs": [
    {
     "data": {
      "text/plain": [
       "obj_anim\n",
       "animate/extended animate    531\n",
       "inanimate                   261\n",
       "Name: count, dtype: int64"
      ]
     },
     "execution_count": 108,
     "metadata": {},
     "output_type": "execute_result"
    }
   ],
   "source": [
    "gc_obj_anim2.obj_anim.value_counts()"
   ]
  },
  {
   "cell_type": "code",
   "execution_count": 109,
   "id": "ff109939",
   "metadata": {
    "scrolled": true
   },
   "outputs": [
    {
     "name": "stderr",
     "output_type": "stream",
     "text": [
      "C:\\Users\\zht702\\AppData\\Local\\Temp\\ipykernel_14488\\2048802569.py:1: SettingWithCopyWarning: \n",
      "A value is trying to be set on a copy of a slice from a DataFrame.\n",
      "Try using .loc[row_indexer,col_indexer] = value instead\n",
      "\n",
      "See the caveats in the documentation: https://pandas.pydata.org/pandas-docs/stable/user_guide/indexing.html#returning-a-view-versus-a-copy\n",
      "  gc_obj_anim2.gc = gc_obj_anim2.gc.astype('category')\n",
      "C:\\Users\\zht702\\AppData\\Local\\Temp\\ipykernel_14488\\2048802569.py:2: SettingWithCopyWarning: \n",
      "A value is trying to be set on a copy of a slice from a DataFrame.\n",
      "Try using .loc[row_indexer,col_indexer] = value instead\n",
      "\n",
      "See the caveats in the documentation: https://pandas.pydata.org/pandas-docs/stable/user_guide/indexing.html#returning-a-view-versus-a-copy\n",
      "  gc_obj_anim2.obj_anim = gc_obj_anim2.obj_anim.astype('category')\n"
     ]
    }
   ],
   "source": [
    "gc_obj_anim2.gc = gc_obj_anim2.gc.astype('category')\n",
    "gc_obj_anim2.obj_anim = gc_obj_anim2.obj_anim.astype('category')"
   ]
  },
  {
   "cell_type": "code",
   "execution_count": 101,
   "id": "5b6f81ae",
   "metadata": {},
   "outputs": [
    {
     "name": "stderr",
     "output_type": "stream",
     "text": [
      "C:\\Users\\zht702\\AppData\\Local\\Temp\\ipykernel_14488\\2916761095.py:1: SettingWithCopyWarning: \n",
      "A value is trying to be set on a copy of a slice from a DataFrame.\n",
      "Try using .loc[row_indexer,col_indexer] = value instead\n",
      "\n",
      "See the caveats in the documentation: https://pandas.pydata.org/pandas-docs/stable/user_guide/indexing.html#returning-a-view-versus-a-copy\n",
      "  gc_obj_anim2['gc_num'] = np.where(gc_obj_anim2.gc=='prep', 0, 1)\n"
     ]
    }
   ],
   "source": [
    "gc_obj_anim2['gc_num'] = np.where(gc_obj_anim2.gc=='prep', 0, 1) "
   ]
  },
  {
   "cell_type": "code",
   "execution_count": 102,
   "id": "fde1e7d4",
   "metadata": {},
   "outputs": [
    {
     "data": {
      "text/html": [
       "<div>\n",
       "<style scoped>\n",
       "    .dataframe tbody tr th:only-of-type {\n",
       "        vertical-align: middle;\n",
       "    }\n",
       "\n",
       "    .dataframe tbody tr th {\n",
       "        vertical-align: top;\n",
       "    }\n",
       "\n",
       "    .dataframe thead th {\n",
       "        text-align: right;\n",
       "    }\n",
       "</style>\n",
       "<table border=\"1\" class=\"dataframe\">\n",
       "  <thead>\n",
       "    <tr style=\"text-align: right;\">\n",
       "      <th>gc_num</th>\n",
       "      <th>0</th>\n",
       "      <th>1</th>\n",
       "    </tr>\n",
       "    <tr>\n",
       "      <th>gc</th>\n",
       "      <th></th>\n",
       "      <th></th>\n",
       "    </tr>\n",
       "  </thead>\n",
       "  <tbody>\n",
       "    <tr>\n",
       "      <th>hey</th>\n",
       "      <td>0</td>\n",
       "      <td>126</td>\n",
       "    </tr>\n",
       "    <tr>\n",
       "      <th>prep</th>\n",
       "      <td>666</td>\n",
       "      <td>0</td>\n",
       "    </tr>\n",
       "  </tbody>\n",
       "</table>\n",
       "</div>"
      ],
      "text/plain": [
       "gc_num    0    1\n",
       "gc              \n",
       "hey       0  126\n",
       "prep    666    0"
      ]
     },
     "execution_count": 102,
     "metadata": {},
     "output_type": "execute_result"
    }
   ],
   "source": [
    "pd.crosstab(gc_obj_anim2.gc, gc_obj_anim2.gc_num)"
   ]
  },
  {
   "cell_type": "code",
   "execution_count": 81,
   "id": "a919e3c7",
   "metadata": {},
   "outputs": [
    {
     "name": "stderr",
     "output_type": "stream",
     "text": [
      "C:\\Users\\zht702\\AppData\\Local\\Temp\\ipykernel_14488\\1601122754.py:1: SettingWithCopyWarning: \n",
      "A value is trying to be set on a copy of a slice from a DataFrame.\n",
      "Try using .loc[row_indexer,col_indexer] = value instead\n",
      "\n",
      "See the caveats in the documentation: https://pandas.pydata.org/pandas-docs/stable/user_guide/indexing.html#returning-a-view-versus-a-copy\n",
      "  gc_obj_anim2['anim_num'] = np.where(gc_obj_anim2.obj_anim=='animate/extended animate', 0, 1)\n"
     ]
    }
   ],
   "source": [
    "gc_obj_anim2['anim_num'] = np.where(gc_obj_anim2.obj_anim=='animate/extended animate', 0, 1) "
   ]
  },
  {
   "cell_type": "code",
   "execution_count": 95,
   "id": "e45b1f64",
   "metadata": {},
   "outputs": [
    {
     "data": {
      "text/html": [
       "<div>\n",
       "<style scoped>\n",
       "    .dataframe tbody tr th:only-of-type {\n",
       "        vertical-align: middle;\n",
       "    }\n",
       "\n",
       "    .dataframe tbody tr th {\n",
       "        vertical-align: top;\n",
       "    }\n",
       "\n",
       "    .dataframe thead th {\n",
       "        text-align: right;\n",
       "    }\n",
       "</style>\n",
       "<table border=\"1\" class=\"dataframe\">\n",
       "  <thead>\n",
       "    <tr style=\"text-align: right;\">\n",
       "      <th>anim_num</th>\n",
       "      <th>0</th>\n",
       "      <th>1</th>\n",
       "    </tr>\n",
       "    <tr>\n",
       "      <th>obj_anim</th>\n",
       "      <th></th>\n",
       "      <th></th>\n",
       "    </tr>\n",
       "  </thead>\n",
       "  <tbody>\n",
       "    <tr>\n",
       "      <th>animate/extended animate</th>\n",
       "      <td>531</td>\n",
       "      <td>0</td>\n",
       "    </tr>\n",
       "    <tr>\n",
       "      <th>inanimate</th>\n",
       "      <td>0</td>\n",
       "      <td>261</td>\n",
       "    </tr>\n",
       "  </tbody>\n",
       "</table>\n",
       "</div>"
      ],
      "text/plain": [
       "anim_num                    0    1\n",
       "obj_anim                          \n",
       "animate/extended animate  531    0\n",
       "inanimate                   0  261"
      ]
     },
     "execution_count": 95,
     "metadata": {},
     "output_type": "execute_result"
    }
   ],
   "source": [
    "pd.crosstab(gc_obj_anim2.obj_anim, gc_obj_anim2.anim_num)"
   ]
  },
  {
   "cell_type": "code",
   "execution_count": 96,
   "id": "82805286",
   "metadata": {},
   "outputs": [
    {
     "data": {
      "text/html": [
       "<div>\n",
       "<style scoped>\n",
       "    .dataframe tbody tr th:only-of-type {\n",
       "        vertical-align: middle;\n",
       "    }\n",
       "\n",
       "    .dataframe tbody tr th {\n",
       "        vertical-align: top;\n",
       "    }\n",
       "\n",
       "    .dataframe thead th {\n",
       "        text-align: right;\n",
       "    }\n",
       "</style>\n",
       "<table border=\"1\" class=\"dataframe\">\n",
       "  <thead>\n",
       "    <tr style=\"text-align: right;\">\n",
       "      <th>gc_num</th>\n",
       "      <th>0</th>\n",
       "      <th>1</th>\n",
       "    </tr>\n",
       "    <tr>\n",
       "      <th>anim_num</th>\n",
       "      <th></th>\n",
       "      <th></th>\n",
       "    </tr>\n",
       "  </thead>\n",
       "  <tbody>\n",
       "    <tr>\n",
       "      <th>0</th>\n",
       "      <td>440</td>\n",
       "      <td>91</td>\n",
       "    </tr>\n",
       "    <tr>\n",
       "      <th>1</th>\n",
       "      <td>226</td>\n",
       "      <td>35</td>\n",
       "    </tr>\n",
       "  </tbody>\n",
       "</table>\n",
       "</div>"
      ],
      "text/plain": [
       "gc_num      0   1\n",
       "anim_num         \n",
       "0         440  91\n",
       "1         226  35"
      ]
     },
     "execution_count": 96,
     "metadata": {},
     "output_type": "execute_result"
    }
   ],
   "source": [
    "pd.crosstab(gc_obj_anim2.anim_num, gc_obj_anim2.gc_num)"
   ]
  },
  {
   "cell_type": "code",
   "execution_count": 82,
   "id": "aebf6755",
   "metadata": {},
   "outputs": [
    {
     "data": {
      "text/plain": [
       "gc_num\n",
       "0    666\n",
       "1    126\n",
       "Name: count, dtype: int64"
      ]
     },
     "execution_count": 82,
     "metadata": {},
     "output_type": "execute_result"
    }
   ],
   "source": [
    "gc_obj_anim2.gc_num.value_counts()"
   ]
  },
  {
   "cell_type": "code",
   "execution_count": 83,
   "id": "3a1b296a",
   "metadata": {},
   "outputs": [
    {
     "data": {
      "text/plain": [
       "anim_num\n",
       "0    531\n",
       "1    261\n",
       "Name: count, dtype: int64"
      ]
     },
     "execution_count": 83,
     "metadata": {},
     "output_type": "execute_result"
    }
   ],
   "source": [
    "gc_obj_anim2.anim_num.value_counts()"
   ]
  },
  {
   "cell_type": "code",
   "execution_count": 84,
   "id": "79a2b86b",
   "metadata": {},
   "outputs": [
    {
     "name": "stderr",
     "output_type": "stream",
     "text": [
      "C:\\Users\\zht702\\Anaconda3\\envs\\pymc_env\\Lib\\site-packages\\pymc\\data.py:428: UserWarning: The `mutable` kwarg was not specified. Before v4.1.0 it defaulted to `pm.Data(mutable=True)`, which is equivalent to using `pm.MutableData()`. In v4.1.0 the default changed to `pm.Data(mutable=False)`, equivalent to `pm.ConstantData`. Use `pm.ConstantData`/`pm.MutableData` or pass `pm.Data(..., mutable=False/True)` to avoid this warning.\n",
      "  warnings.warn(\n",
      "Auto-assigning NUTS sampler...\n",
      "Initializing NUTS using jitter+adapt_diag...\n",
      "Multiprocess sampling (4 chains in 4 jobs)\n",
      "NUTS: [alpha, beta]\n"
     ]
    },
    {
     "data": {
      "text/html": [
       "\n",
       "<style>\n",
       "    /* Turns off some styling */\n",
       "    progress {\n",
       "        /* gets rid of default border in Firefox and Opera. */\n",
       "        border: none;\n",
       "        /* Needs to be in here for Safari polyfill so background images work as expected. */\n",
       "        background-size: auto;\n",
       "    }\n",
       "    progress:not([value]), progress:not([value])::-webkit-progress-bar {\n",
       "        background: repeating-linear-gradient(45deg, #7e7e7e, #7e7e7e 10px, #5c5c5c 10px, #5c5c5c 20px);\n",
       "    }\n",
       "    .progress-bar-interrupted, .progress-bar-interrupted::-webkit-progress-bar {\n",
       "        background: #F44336;\n",
       "    }\n",
       "</style>\n"
      ],
      "text/plain": [
       "<IPython.core.display.HTML object>"
      ]
     },
     "metadata": {},
     "output_type": "display_data"
    },
    {
     "data": {
      "text/html": [
       "\n",
       "    <div>\n",
       "      <progress value='8000' class='' max='8000' style='width:300px; height:20px; vertical-align: middle;'></progress>\n",
       "      100.00% [8000/8000 00:10&lt;00:00 Sampling 4 chains, 0 divergences]\n",
       "    </div>\n",
       "    "
      ],
      "text/plain": [
       "<IPython.core.display.HTML object>"
      ]
     },
     "metadata": {},
     "output_type": "display_data"
    },
    {
     "name": "stderr",
     "output_type": "stream",
     "text": [
      "Sampling 4 chains for 1_000 tune and 1_000 draw iterations (4_000 + 4_000 draws total) took 37 seconds.\n"
     ]
    }
   ],
   "source": [
    "basic_model = pm.Model()\n",
    "\n",
    "def logistic(l):\n",
    "    return 1 / (1 + np.exp(-l))\n",
    "\n",
    "with basic_model:\n",
    "    Y = pm.Data('Y', gc_obj_anim2.gc_num.values)\n",
    "    X = pm.Data('X', gc_obj_anim2.anim_num.values)\n",
    "    \n",
    "    # Priors for unknown model parameters\n",
    "    alpha = pm.Normal('alpha', mu=0, sigma=1)\n",
    "    beta = pm.Normal('beta', mu=0, sigma=1)\n",
    "\n",
    "    # Expected value of outcome\n",
    "    mu = alpha + beta*X\n",
    "\n",
    "    # Likelihood (sampling distribution) of observations\n",
    "    Y_obs = pm.Bernoulli('Y_obs', p=logistic(mu), observed=Y)\n",
    "    \n",
    "    # Start sampling\n",
    "    idata = pm.sample()"
   ]
  },
  {
   "cell_type": "code",
   "execution_count": 85,
   "id": "6e5111cf",
   "metadata": {},
   "outputs": [
    {
     "data": {
      "text/html": [
       "<div>\n",
       "<style scoped>\n",
       "    .dataframe tbody tr th:only-of-type {\n",
       "        vertical-align: middle;\n",
       "    }\n",
       "\n",
       "    .dataframe tbody tr th {\n",
       "        vertical-align: top;\n",
       "    }\n",
       "\n",
       "    .dataframe thead th {\n",
       "        text-align: right;\n",
       "    }\n",
       "</style>\n",
       "<table border=\"1\" class=\"dataframe\">\n",
       "  <thead>\n",
       "    <tr style=\"text-align: right;\">\n",
       "      <th></th>\n",
       "      <th>mean</th>\n",
       "      <th>sd</th>\n",
       "      <th>hdi_3%</th>\n",
       "      <th>hdi_97%</th>\n",
       "      <th>mcse_mean</th>\n",
       "      <th>mcse_sd</th>\n",
       "      <th>ess_bulk</th>\n",
       "      <th>ess_tail</th>\n",
       "      <th>r_hat</th>\n",
       "    </tr>\n",
       "  </thead>\n",
       "  <tbody>\n",
       "    <tr>\n",
       "      <th>alpha</th>\n",
       "      <td>-1.566</td>\n",
       "      <td>0.112</td>\n",
       "      <td>-1.774</td>\n",
       "      <td>-1.353</td>\n",
       "      <td>0.002</td>\n",
       "      <td>0.002</td>\n",
       "      <td>2276.0</td>\n",
       "      <td>2164.0</td>\n",
       "      <td>1.0</td>\n",
       "    </tr>\n",
       "    <tr>\n",
       "      <th>beta</th>\n",
       "      <td>-0.297</td>\n",
       "      <td>0.208</td>\n",
       "      <td>-0.704</td>\n",
       "      <td>0.077</td>\n",
       "      <td>0.004</td>\n",
       "      <td>0.003</td>\n",
       "      <td>2309.0</td>\n",
       "      <td>2483.0</td>\n",
       "      <td>1.0</td>\n",
       "    </tr>\n",
       "  </tbody>\n",
       "</table>\n",
       "</div>"
      ],
      "text/plain": [
       "        mean     sd  hdi_3%  hdi_97%  mcse_mean  mcse_sd  ess_bulk  ess_tail  \\\n",
       "alpha -1.566  0.112  -1.774   -1.353      0.002    0.002    2276.0    2164.0   \n",
       "beta  -0.297  0.208  -0.704    0.077      0.004    0.003    2309.0    2483.0   \n",
       "\n",
       "       r_hat  \n",
       "alpha    1.0  \n",
       "beta     1.0  "
      ]
     },
     "execution_count": 85,
     "metadata": {},
     "output_type": "execute_result"
    }
   ],
   "source": [
    "az.summary(idata)"
   ]
  },
  {
   "cell_type": "code",
   "execution_count": 86,
   "id": "12ab40d8",
   "metadata": {},
   "outputs": [
    {
     "data": {
      "text/plain": [
       "array([<Axes: title={'center': '94.0% HDI'}>], dtype=object)"
      ]
     },
     "execution_count": 86,
     "metadata": {},
     "output_type": "execute_result"
    },
    {
     "data": {
      "image/png": "[encoded data removed]",
      "text/plain": [
       "<Figure size 600x520 with 1 Axes>"
      ]
     },
     "metadata": {},
     "output_type": "display_data"
    }
   ],
   "source": [
    "az.plot_forest(idata, var_names=['alpha', 'beta'], combined=True)"
   ]
  },
  {
   "cell_type": "code",
   "execution_count": 87,
   "id": "9c1e8367",
   "metadata": {},
   "outputs": [
    {
     "data": {
      "text/plain": [
       "0.17278737122805557"
      ]
     },
     "execution_count": 87,
     "metadata": {},
     "output_type": "execute_result"
    }
   ],
   "source": [
    "np.exp(-1.566)/(1+np.exp(-1.566))"
   ]
  },
  {
   "cell_type": "code",
   "execution_count": null,
   "id": "6f38df50",
   "metadata": {},
   "outputs": [],
   "source": [
    "# the probability that the output (gc) is equal to 0 when all the input variables (animacy) is equal to 0"
   ]
  },
  {
   "cell_type": "code",
   "execution_count": 88,
   "id": "f9a25daa",
   "metadata": {},
   "outputs": [
    {
     "data": {
      "text/plain": [
       "0.13273383990287108"
      ]
     },
     "execution_count": 88,
     "metadata": {},
     "output_type": "execute_result"
    }
   ],
   "source": [
    "np.exp(-1.58-0.297)/(1+np.exp(-1.58-0.297))"
   ]
  },
  {
   "cell_type": "code",
   "execution_count": 98,
   "id": "3bf70b11",
   "metadata": {},
   "outputs": [
    {
     "data": {
      "text/html": [
       "<div>\n",
       "<style scoped>\n",
       "    .dataframe tbody tr th:only-of-type {\n",
       "        vertical-align: middle;\n",
       "    }\n",
       "\n",
       "    .dataframe tbody tr th {\n",
       "        vertical-align: top;\n",
       "    }\n",
       "\n",
       "    .dataframe thead th {\n",
       "        text-align: right;\n",
       "    }\n",
       "</style>\n",
       "<table border=\"1\" class=\"dataframe\">\n",
       "  <thead>\n",
       "    <tr style=\"text-align: right;\">\n",
       "      <th>gc_num</th>\n",
       "      <th>0</th>\n",
       "      <th>1</th>\n",
       "    </tr>\n",
       "    <tr>\n",
       "      <th>anim_num</th>\n",
       "      <th></th>\n",
       "      <th></th>\n",
       "    </tr>\n",
       "  </thead>\n",
       "  <tbody>\n",
       "    <tr>\n",
       "      <th>0</th>\n",
       "      <td>440</td>\n",
       "      <td>91</td>\n",
       "    </tr>\n",
       "    <tr>\n",
       "      <th>1</th>\n",
       "      <td>226</td>\n",
       "      <td>35</td>\n",
       "    </tr>\n",
       "  </tbody>\n",
       "</table>\n",
       "</div>"
      ],
      "text/plain": [
       "gc_num      0   1\n",
       "anim_num         \n",
       "0         440  91\n",
       "1         226  35"
      ]
     },
     "execution_count": 98,
     "metadata": {},
     "output_type": "execute_result"
    }
   ],
   "source": [
    "pd.crosstab(gc_obj_anim2.anim_num, gc_obj_anim2.gc_num)"
   ]
  },
  {
   "cell_type": "code",
   "execution_count": 99,
   "id": "d2d5d18c",
   "metadata": {
    "scrolled": true
   },
   "outputs": [
    {
     "data": {
      "text/html": [
       "<div>\n",
       "<style scoped>\n",
       "    .dataframe tbody tr th:only-of-type {\n",
       "        vertical-align: middle;\n",
       "    }\n",
       "\n",
       "    .dataframe tbody tr th {\n",
       "        vertical-align: top;\n",
       "    }\n",
       "\n",
       "    .dataframe thead th {\n",
       "        text-align: right;\n",
       "    }\n",
       "</style>\n",
       "<table border=\"1\" class=\"dataframe\">\n",
       "  <thead>\n",
       "    <tr style=\"text-align: right;\">\n",
       "      <th>gc</th>\n",
       "      <th>acc of direction</th>\n",
       "      <th>hey</th>\n",
       "      <th>prep</th>\n",
       "      <th>prep and hey</th>\n",
       "      <th>prep and prep</th>\n",
       "    </tr>\n",
       "    <tr>\n",
       "      <th>gc_anim</th>\n",
       "      <th></th>\n",
       "      <th></th>\n",
       "      <th></th>\n",
       "      <th></th>\n",
       "      <th></th>\n",
       "    </tr>\n",
       "  </thead>\n",
       "  <tbody>\n",
       "    <tr>\n",
       "      <th>animate</th>\n",
       "      <td>6</td>\n",
       "      <td>0</td>\n",
       "      <td>916</td>\n",
       "      <td>0</td>\n",
       "      <td>1</td>\n",
       "    </tr>\n",
       "    <tr>\n",
       "      <th>inanimate</th>\n",
       "      <td>487</td>\n",
       "      <td>495</td>\n",
       "      <td>1172</td>\n",
       "      <td>10</td>\n",
       "      <td>38</td>\n",
       "    </tr>\n",
       "  </tbody>\n",
       "</table>\n",
       "</div>"
      ],
      "text/plain": [
       "gc         acc of direction  hey  prep  prep and hey  prep and prep\n",
       "gc_anim                                                            \n",
       "animate                   6    0   916             0              1\n",
       "inanimate               487  495  1172            10             38"
      ]
     },
     "execution_count": 99,
     "metadata": {},
     "output_type": "execute_result"
    }
   ],
   "source": [
    "pd.crosstab(verbs_dataset.gc_anim, verbs_dataset.gc)"
   ]
  },
  {
   "cell_type": "code",
   "execution_count": null,
   "id": "c3990eca",
   "metadata": {},
   "outputs": [],
   "source": []
  },
  {
   "cell_type": "code",
   "execution_count": 91,
   "id": "a9ab7bb3",
   "metadata": {},
   "outputs": [
    {
     "data": {
      "text/plain": [
       "0.1713747645951036"
      ]
     },
     "execution_count": 91,
     "metadata": {},
     "output_type": "execute_result"
    }
   ],
   "source": [
    "91/(91+440)"
   ]
  },
  {
   "cell_type": "code",
   "execution_count": 92,
   "id": "f04957cd",
   "metadata": {},
   "outputs": [
    {
     "data": {
      "text/plain": [
       "0.13409961685823754"
      ]
     },
     "execution_count": 92,
     "metadata": {},
     "output_type": "execute_result"
    }
   ],
   "source": [
    "35/ (35+226)"
   ]
  }
 ],
 "metadata": {
  "kernelspec": {
   "display_name": "Python 3 (ipykernel)",
   "language": "python",
   "name": "python3"
  },
  "language_info": {
   "codemirror_mode": {
    "name": "ipython",
    "version": 3
   },
   "file_extension": ".py",
   "mimetype": "text/x-python",
   "name": "python",
   "nbconvert_exporter": "python",
   "pygments_lexer": "ipython3",
   "version": "3.9.16"
  }
 },
 "nbformat": 4,
 "nbformat_minor": 5
}
