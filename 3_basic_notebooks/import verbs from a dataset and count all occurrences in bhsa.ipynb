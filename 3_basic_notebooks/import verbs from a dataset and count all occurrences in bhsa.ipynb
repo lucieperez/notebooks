{
 "cells": [
  {
   "cell_type": "code",
   "execution_count": null,
   "id": "96c4e91b",
   "metadata": {},
   "outputs": [],
   "source": [
    "from collections import defaultdict\n",
    "import pandas as pd\n",
    "import seaborn as sns\n",
    "from matplotlib import pyplot as plt\n",
    "%matplotlib inline"
   ]
  },
  {
   "cell_type": "code",
   "execution_count": null,
   "id": "0dcf7ad3",
   "metadata": {},
   "outputs": [],
   "source": [
    "from tf.app import use\n",
    "A = use(\"etcbc/bhsa\", hoist=globals())"
   ]
  },
  {
   "cell_type": "code",
   "execution_count": null,
   "id": "eeb81d1a",
   "metadata": {},
   "outputs": [],
   "source": [
    "df = pd.read_csv(\"verb_count_medill.csv\", sep=\";\")\n",
    "df"
   ]
  },
  {
   "cell_type": "code",
   "execution_count": null,
   "id": "45e5d621",
   "metadata": {},
   "outputs": [],
   "source": [
    "verbs_list = list(df.bhsa_lex)"
   ]
  },
  {
   "cell_type": "code",
   "execution_count": null,
   "id": "3d6344a0",
   "metadata": {},
   "outputs": [],
   "source": [
    "counts = {}\n",
    "\n",
    "for word in F.otype.s(\"word\"):\n",
    "    lex = F.lex.v(word)\n",
    "    if lex in verbs_list:\n",
    "        if lex in counts:\n",
    "            counts[lex] += 1\n",
    "        else:\n",
    "            counts[lex] = 1\n",
    "print(counts)  "
   ]
  },
  {
   "cell_type": "code",
   "execution_count": null,
   "id": "36f96440",
   "metadata": {},
   "outputs": [],
   "source": [
    "pd.DataFrame({\"lex\": counts.keys(), \"counts\":counts.values()}).sort_values(\"counts\", ascending=False)"
   ]
  }
 ],
 "metadata": {
  "kernelspec": {
   "display_name": "Python 3 (ipykernel)",
   "language": "python",
   "name": "python3"
  },
  "language_info": {
   "codemirror_mode": {
    "name": "ipython",
    "version": 3
   },
   "file_extension": ".py",
   "mimetype": "text/x-python",
   "name": "python",
   "nbconvert_exporter": "python",
   "pygments_lexer": "ipython3",
   "version": "3.9.16"
  }
 },
 "nbformat": 4,
 "nbformat_minor": 5
}
