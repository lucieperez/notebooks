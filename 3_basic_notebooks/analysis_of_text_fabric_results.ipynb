{
 "cells": [
  {
   "cell_type": "code",
   "execution_count": 85,
   "id": "5505e35e",
   "metadata": {},
   "outputs": [],
   "source": [
    "import pandas as pd\n",
    "from io import StringIO"
   ]
  },
  {
   "cell_type": "code",
   "execution_count": 86,
   "id": "a4182f9b",
   "metadata": {},
   "outputs": [],
   "source": [
    "with open('data/alah_with_complement/resultsx.tsv', encoding='utf-16') as f:\n",
    "    contents = f.read()"
   ]
  },
  {
   "cell_type": "code",
   "execution_count": 87,
   "id": "684d1ad0-4248-4877-9879-577e7b2d4ce6",
   "metadata": {},
   "outputs": [],
   "source": [
    "pd.set_option('display.max_columns', None)\n",
    "pd.set_option('display.max_colwidth', None)"
   ]
  },
  {
   "cell_type": "code",
   "execution_count": 88,
   "id": "3dac0269",
   "metadata": {},
   "outputs": [],
   "source": [
    "df = pd.read_csv(StringIO(contents), sep=\"\\t\")"
   ]
  },
  {
   "cell_type": "code",
   "execution_count": 89,
   "id": "1bb91c5e-8ea7-4048-84c5-7e8b1ae34b46",
   "metadata": {},
   "outputs": [
    {
     "data": {
      "text/html": [
       "<div>\n",
       "<style scoped>\n",
       "    .dataframe tbody tr th:only-of-type {\n",
       "        vertical-align: middle;\n",
       "    }\n",
       "\n",
       "    .dataframe tbody tr th {\n",
       "        vertical-align: top;\n",
       "    }\n",
       "\n",
       "    .dataframe thead th {\n",
       "        text-align: right;\n",
       "    }\n",
       "</style>\n",
       "<table border=\"1\" class=\"dataframe\">\n",
       "  <thead>\n",
       "    <tr style=\"text-align: right;\">\n",
       "      <th></th>\n",
       "      <th>R</th>\n",
       "      <th>S1</th>\n",
       "      <th>S2</th>\n",
       "      <th>S3</th>\n",
       "      <th>NODE1</th>\n",
       "      <th>TYPE1</th>\n",
       "      <th>TEXT1</th>\n",
       "      <th>NODE2</th>\n",
       "      <th>TYPE2</th>\n",
       "      <th>TEXT2</th>\n",
       "      <th>lex2</th>\n",
       "      <th>NODE3</th>\n",
       "      <th>TYPE3</th>\n",
       "      <th>TEXT3</th>\n",
       "      <th>function3</th>\n",
       "      <th>NODE4</th>\n",
       "      <th>TYPE4</th>\n",
       "      <th>TEXT4</th>\n",
       "      <th>lex4</th>\n",
       "      <th>sp4</th>\n",
       "    </tr>\n",
       "  </thead>\n",
       "  <tbody>\n",
       "    <tr>\n",
       "      <th>0</th>\n",
       "      <td>1</td>\n",
       "      <td>Genesis</td>\n",
       "      <td>2</td>\n",
       "      <td>6</td>\n",
       "      <td>427704</td>\n",
       "      <td>clause</td>\n",
       "      <td>וְאֵ֖ד יַֽעֲלֶ֣ה מִן־הָאָ֑רֶץ</td>\n",
       "      <td>780</td>\n",
       "      <td>word</td>\n",
       "      <td>יַֽעֲלֶ֣ה</td>\n",
       "      <td>&lt;LH[</td>\n",
       "      <td>652008</td>\n",
       "      <td>phrase</td>\n",
       "      <td>מִן־הָאָ֑רֶץ</td>\n",
       "      <td>Cmpl</td>\n",
       "      <td>781</td>\n",
       "      <td>word</td>\n",
       "      <td>מִן־</td>\n",
       "      <td>MN</td>\n",
       "      <td>prep</td>\n",
       "    </tr>\n",
       "    <tr>\n",
       "      <th>1</th>\n",
       "      <td>2</td>\n",
       "      <td>Genesis</td>\n",
       "      <td>2</td>\n",
       "      <td>6</td>\n",
       "      <td>427704</td>\n",
       "      <td>clause</td>\n",
       "      <td>וְאֵ֖ד יַֽעֲלֶ֣ה מִן־הָאָ֑רֶץ</td>\n",
       "      <td>780</td>\n",
       "      <td>word</td>\n",
       "      <td>יַֽעֲלֶ֣ה</td>\n",
       "      <td>&lt;LH[</td>\n",
       "      <td>652008</td>\n",
       "      <td>phrase</td>\n",
       "      <td>מִן־הָאָ֑רֶץ</td>\n",
       "      <td>Cmpl</td>\n",
       "      <td>782</td>\n",
       "      <td>word</td>\n",
       "      <td>הָ</td>\n",
       "      <td>H</td>\n",
       "      <td>art</td>\n",
       "    </tr>\n",
       "  </tbody>\n",
       "</table>\n",
       "</div>"
      ],
      "text/plain": [
       "   R       S1  S2  S3   NODE1   TYPE1                           TEXT1  NODE2  \\\n",
       "0  1  Genesis   2   6  427704  clause  וְאֵ֖ד יַֽעֲלֶ֣ה מִן־הָאָ֑רֶץ     780   \n",
       "1  2  Genesis   2   6  427704  clause  וְאֵ֖ד יַֽעֲלֶ֣ה מִן־הָאָ֑רֶץ     780   \n",
       "\n",
       "  TYPE2       TEXT2  lex2   NODE3   TYPE3          TEXT3 function3  NODE4  \\\n",
       "0  word  יַֽעֲלֶ֣ה   <LH[  652008  phrase  מִן־הָאָ֑רֶץ       Cmpl    781   \n",
       "1  word  יַֽעֲלֶ֣ה   <LH[  652008  phrase  מִן־הָאָ֑רֶץ       Cmpl    782   \n",
       "\n",
       "  TYPE4 TEXT4 lex4   sp4  \n",
       "0  word  מִן־   MN  prep  \n",
       "1  word    הָ    H   art  "
      ]
     },
     "execution_count": 89,
     "metadata": {},
     "output_type": "execute_result"
    }
   ],
   "source": [
    "df.head(2)"
   ]
  },
  {
   "cell_type": "code",
   "execution_count": 90,
   "id": "e318de1a",
   "metadata": {},
   "outputs": [],
   "source": [
    "# 'verb with complements\n",
    "df = df.drop_duplicates(subset=[\"NODE1\"])"
   ]
  },
  {
   "cell_type": "code",
   "execution_count": 101,
   "id": "b046bab3",
   "metadata": {},
   "outputs": [],
   "source": [
    "#df.head(10)"
   ]
  },
  {
   "cell_type": "code",
   "execution_count": 91,
   "id": "0bc7fd63-840f-4a06-8e7b-fd5a12c8b10a",
   "metadata": {},
   "outputs": [
    {
     "data": {
      "text/plain": [
       "580"
      ]
     },
     "execution_count": 91,
     "metadata": {},
     "output_type": "execute_result"
    }
   ],
   "source": [
    "len(df)"
   ]
  },
  {
   "cell_type": "code",
   "execution_count": 92,
   "id": "36205d85-7b2b-48e5-bb75-7d1f0fc7784c",
   "metadata": {},
   "outputs": [],
   "source": [
    "# 'verb with verbal complement\n",
    "df_vc = df[df.sp4 != \"prep\"]"
   ]
  },
  {
   "cell_type": "code",
   "execution_count": 93,
   "id": "0e71707a-c5d8-4274-a727-60948bdfb36a",
   "metadata": {},
   "outputs": [],
   "source": [
    "sp4_counts_vc = df_vc[\"sp4\"].value_counts()"
   ]
  },
  {
   "cell_type": "code",
   "execution_count": 94,
   "id": "78440aa6-64fb-4d25-8534-c2ad587f53c9",
   "metadata": {},
   "outputs": [],
   "source": [
    "lex4_counts_vc = df_vc[\"lex4\"].value_counts()"
   ]
  },
  {
   "cell_type": "code",
   "execution_count": 28,
   "id": "f1c0b01f-45ab-40a4-9d44-dc7131e534f3",
   "metadata": {},
   "outputs": [],
   "source": [
    "#df_vc"
   ]
  },
  {
   "cell_type": "code",
   "execution_count": 96,
   "id": "d49aa7e0-fb88-4ae1-ad68-2da0679885e2",
   "metadata": {},
   "outputs": [
    {
     "data": {
      "text/plain": [
       "108"
      ]
     },
     "execution_count": 96,
     "metadata": {},
     "output_type": "execute_result"
    }
   ],
   "source": [
    "#lex4_counts_vc\n",
    "len(df_vc)"
   ]
  },
  {
   "cell_type": "code",
   "execution_count": 102,
   "id": "98db6866-2705-4632-a252-2762725d3b45",
   "metadata": {},
   "outputs": [
    {
     "data": {
      "text/plain": [
       "subs    37\n",
       "nmpr    33\n",
       "art     30\n",
       "advb     8\n",
       "Name: sp4, dtype: int64"
      ]
     },
     "execution_count": 102,
     "metadata": {},
     "output_type": "execute_result"
    }
   ],
   "source": [
    "sp4_counts_vc"
   ]
  },
  {
   "cell_type": "code",
   "execution_count": 103,
   "id": "9d0a1a54",
   "metadata": {},
   "outputs": [],
   "source": [
    "# verb with all complement types"
   ]
  },
  {
   "cell_type": "code",
   "execution_count": 104,
   "id": "c93b283f-b6fd-42b7-953c-98defc42b4f8",
   "metadata": {},
   "outputs": [
    {
     "data": {
      "text/plain": [
       "prep    472\n",
       "subs     37\n",
       "nmpr     33\n",
       "art      30\n",
       "advb      8\n",
       "Name: sp4, dtype: int64"
      ]
     },
     "execution_count": 104,
     "metadata": {},
     "output_type": "execute_result"
    }
   ],
   "source": [
    "sp4_counts = df[\"sp4\"].value_counts()\n",
    "sp4_counts"
   ]
  },
  {
   "cell_type": "code",
   "execution_count": 105,
   "id": "5d49226b-1d39-42cd-a9a3-e2a377b4ba55",
   "metadata": {},
   "outputs": [
    {
     "data": {
      "text/plain": [
       "prep    81.379310\n",
       "subs     6.379310\n",
       "nmpr     5.689655\n",
       "art      5.172414\n",
       "advb     1.379310\n",
       "Name: sp4, dtype: float64"
      ]
     },
     "execution_count": 105,
     "metadata": {},
     "output_type": "execute_result"
    }
   ],
   "source": [
    "sp4_percentage = df[\"sp4\"].value_counts(normalize=True) * 100\n",
    "sp4_percentage"
   ]
  },
  {
   "cell_type": "code",
   "execution_count": 106,
   "id": "3cb8af53",
   "metadata": {},
   "outputs": [],
   "source": [
    "isaiah_df = df[df[\"S1\"] == \"Isaiah\"]"
   ]
  },
  {
   "cell_type": "code",
   "execution_count": 123,
   "id": "e5b57201",
   "metadata": {},
   "outputs": [
    {
     "data": {
      "text/plain": [
       "25"
      ]
     },
     "execution_count": 123,
     "metadata": {},
     "output_type": "execute_result"
    }
   ],
   "source": [
    "len(isaiah_df)"
   ]
  },
  {
   "cell_type": "code",
   "execution_count": 108,
   "id": "29815afd",
   "metadata": {},
   "outputs": [
    {
     "data": {
      "text/plain": [
       "prep    18\n",
       "subs     4\n",
       "art      2\n",
       "nmpr     1\n",
       "Name: sp4, dtype: int64"
      ]
     },
     "execution_count": 108,
     "metadata": {},
     "output_type": "execute_result"
    }
   ],
   "source": [
    "sp4_counts_isaiah = isaiah_df[\"sp4\"].value_counts()\n",
    "sp4_counts_isaiah"
   ]
  },
  {
   "cell_type": "code",
   "execution_count": 109,
   "id": "2743b109",
   "metadata": {},
   "outputs": [],
   "source": [
    "isaiah_prep_df = isaiah_df[isaiah_df[\"sp4\"] == \"prep\"]"
   ]
  },
  {
   "cell_type": "code",
   "execution_count": 110,
   "id": "deda580f",
   "metadata": {},
   "outputs": [
    {
     "data": {
      "text/plain": [
       "<L    8\n",
       "B     3\n",
       "MN    3\n",
       ">L    2\n",
       "L     2\n",
       "Name: lex4, dtype: int64"
      ]
     },
     "execution_count": 110,
     "metadata": {},
     "output_type": "execute_result"
    }
   ],
   "source": [
    "isaiah_prep_df[\"lex4\"].value_counts()"
   ]
  },
  {
   "cell_type": "code",
   "execution_count": 111,
   "id": "c076ebb2",
   "metadata": {},
   "outputs": [],
   "source": [
    "book_counts = df[\"S1\"].value_counts()\n",
    "#book_counts"
   ]
  },
  {
   "cell_type": "code",
   "execution_count": 112,
   "id": "64c2fabb",
   "metadata": {},
   "outputs": [],
   "source": [
    "filtered_df = df[df.sp4 == \"prep\"]"
   ]
  },
  {
   "cell_type": "code",
   "execution_count": 113,
   "id": "436e6a3e",
   "metadata": {},
   "outputs": [],
   "source": [
    "lex4_count_prep = filtered_df[\"lex4\"].value_counts()"
   ]
  },
  {
   "cell_type": "code",
   "execution_count": 114,
   "id": "97206fad-0e08-4560-b7e4-9d56d9523b55",
   "metadata": {},
   "outputs": [],
   "source": [
    "lex4_percentage_prep = filtered_df[\"lex4\"].value_counts(normalize=True) * 100"
   ]
  },
  {
   "cell_type": "code",
   "execution_count": 116,
   "id": "21ad3973",
   "metadata": {},
   "outputs": [
    {
     "data": {
      "text/plain": [
       "MN      161\n",
       "<L      126\n",
       ">L       78\n",
       "B        56\n",
       "L        40\n",
       "<M        8\n",
       ">T==      2\n",
       "<D        1\n",
       "Name: lex4, dtype: int64"
      ]
     },
     "execution_count": 116,
     "metadata": {},
     "output_type": "execute_result"
    }
   ],
   "source": [
    "lex4_count_prep"
   ]
  },
  {
   "cell_type": "code",
   "execution_count": 118,
   "id": "54a2b8cb-af8a-4041-9298-0dbc6e968df9",
   "metadata": {},
   "outputs": [
    {
     "data": {
      "text/plain": [
       "MN      34.110169\n",
       "<L      26.694915\n",
       ">L      16.525424\n",
       "B       11.864407\n",
       "L        8.474576\n",
       "<M       1.694915\n",
       ">T==     0.423729\n",
       "<D       0.211864\n",
       "Name: lex4, dtype: float64"
      ]
     },
     "execution_count": 118,
     "metadata": {},
     "output_type": "execute_result"
    }
   ],
   "source": [
    "lex4_percentage_prep"
   ]
  },
  {
   "cell_type": "code",
   "execution_count": 119,
   "id": "af887453",
   "metadata": {},
   "outputs": [],
   "source": [
    "prep_book_counts = filtered_df[\"S1\"].value_counts()"
   ]
  },
  {
   "cell_type": "code",
   "execution_count": 120,
   "id": "da6d155c-32e9-4f26-8ea9-bf893ec055dc",
   "metadata": {},
   "outputs": [],
   "source": [
    "prep_book_percentage_prep = filtered_df[\"lex4\"].value_counts(normalize=True) * 100"
   ]
  },
  {
   "cell_type": "code",
   "execution_count": 121,
   "id": "662a3b9f-e058-4cdd-9493-f0d33902a0e6",
   "metadata": {
    "scrolled": true
   },
   "outputs": [
    {
     "name": "stdout",
     "output_type": "stream",
     "text": [
      "Genesis 30\n",
      "MN      14\n",
      ">L       4\n",
      "B        3\n",
      "<L       3\n",
      "L        2\n",
      "<M       2\n",
      ">T==     2\n",
      "Name: lex4, dtype: int64\n",
      "MN      46.666667\n",
      ">L      13.333333\n",
      "B       10.000000\n",
      "<L      10.000000\n",
      "L        6.666667\n",
      "<M       6.666667\n",
      ">T==     6.666667\n",
      "Name: lex4, dtype: float64\n",
      "\n",
      "Exodus 38\n",
      "MN    14\n",
      ">L    13\n",
      "<L     7\n",
      "B      3\n",
      "<M     1\n",
      "Name: lex4, dtype: int64\n",
      "MN    36.842105\n",
      ">L    34.210526\n",
      "<L    18.421053\n",
      "B      7.894737\n",
      "<M     2.631579\n",
      "Name: lex4, dtype: float64\n",
      "\n",
      "Leviticus 5\n",
      "<L    3\n",
      ">L    1\n",
      "MN    1\n",
      "Name: lex4, dtype: int64\n",
      "<L    60.0\n",
      ">L    20.0\n",
      "MN    20.0\n",
      "Name: lex4, dtype: float64\n",
      "\n",
      "Numbers 22\n",
      "MN    9\n",
      ">L    8\n",
      "B     2\n",
      "<M    1\n",
      "<L    1\n",
      "<D    1\n",
      "Name: lex4, dtype: int64\n",
      "MN    40.909091\n",
      ">L    36.363636\n",
      "B      9.090909\n",
      "<M     4.545455\n",
      "<L     4.545455\n",
      "<D     4.545455\n",
      "Name: lex4, dtype: float64\n",
      "\n",
      "Deuteronomy 12\n",
      "B     4\n",
      ">L    3\n",
      "<L    3\n",
      "MN    2\n",
      "Name: lex4, dtype: int64\n",
      "B     33.333333\n",
      ">L    25.000000\n",
      "<L    25.000000\n",
      "MN    16.666667\n",
      "Name: lex4, dtype: float64\n",
      "\n",
      "Joshua 26\n",
      "MN    12\n",
      "<L     6\n",
      ">L     4\n",
      "L      2\n",
      "<M     1\n",
      "B      1\n",
      "Name: lex4, dtype: int64\n",
      "MN    46.153846\n",
      "<L    23.076923\n",
      ">L    15.384615\n",
      "L      7.692308\n",
      "<M     3.846154\n",
      "B      3.846154\n",
      "Name: lex4, dtype: float64\n",
      "\n",
      "Judges 41\n",
      "MN    16\n",
      ">L    10\n",
      "<L     6\n",
      "L      5\n",
      "B      3\n",
      "<M     1\n",
      "Name: lex4, dtype: int64\n",
      "MN    39.024390\n",
      ">L    24.390244\n",
      "<L    14.634146\n",
      "L     12.195122\n",
      "B      7.317073\n",
      "<M     2.439024\n",
      "Name: lex4, dtype: float64\n",
      "\n",
      "1_Samuel 39\n",
      "MN    11\n",
      ">L     9\n",
      "L      8\n",
      "<L     6\n",
      "B      4\n",
      "<M     1\n",
      "Name: lex4, dtype: int64\n",
      "MN    28.205128\n",
      ">L    23.076923\n",
      "L     20.512821\n",
      "<L    15.384615\n",
      "B     10.256410\n",
      "<M     2.564103\n",
      "Name: lex4, dtype: float64\n",
      "\n",
      "2_Samuel 14\n",
      "MN    6\n",
      "B     3\n",
      "<L    2\n",
      "L     2\n",
      ">L    1\n",
      "Name: lex4, dtype: int64\n",
      "MN    42.857143\n",
      "B     21.428571\n",
      "<L    14.285714\n",
      "L     14.285714\n",
      ">L     7.142857\n",
      "Name: lex4, dtype: float64\n",
      "\n",
      "1_Kings 24\n",
      "<L    12\n",
      "MN     8\n",
      ">L     2\n",
      "L      1\n",
      "B      1\n",
      "Name: lex4, dtype: int64\n",
      "<L    50.000000\n",
      "MN    33.333333\n",
      ">L     8.333333\n",
      "L      4.166667\n",
      "B      4.166667\n",
      "Name: lex4, dtype: float64\n",
      "\n",
      "2_Kings 25\n",
      "<L    10\n",
      ">L     6\n",
      "MN     5\n",
      "B      3\n",
      "L      1\n",
      "Name: lex4, dtype: int64\n",
      "<L    40.0\n",
      ">L    24.0\n",
      "MN    20.0\n",
      "B     12.0\n",
      "L      4.0\n",
      "Name: lex4, dtype: float64\n",
      "\n",
      "Isaiah 18\n",
      "<L    8\n",
      "B     3\n",
      "MN    3\n",
      ">L    2\n",
      "L     2\n",
      "Name: lex4, dtype: int64\n",
      "<L    44.444444\n",
      "B     16.666667\n",
      "MN    16.666667\n",
      ">L    11.111111\n",
      "L     11.111111\n",
      "Name: lex4, dtype: float64\n",
      "\n",
      "Jeremiah 41\n",
      "MN    19\n",
      "<L    10\n",
      "B      5\n",
      ">L     5\n",
      "L      2\n",
      "Name: lex4, dtype: int64\n",
      "MN    46.341463\n",
      "<L    24.390244\n",
      "B     12.195122\n",
      ">L    12.195122\n",
      "L      4.878049\n",
      "Name: lex4, dtype: float64\n",
      "\n",
      "Ezekiel 29\n",
      "<L    14\n",
      "MN     7\n",
      "B      4\n",
      ">L     3\n",
      "L      1\n",
      "Name: lex4, dtype: int64\n",
      "<L    48.275862\n",
      "MN    24.137931\n",
      "B     13.793103\n",
      ">L    10.344828\n",
      "L      3.448276\n",
      "Name: lex4, dtype: float64\n",
      "\n",
      "Hosea 5\n",
      "MN    4\n",
      "<L    1\n",
      "Name: lex4, dtype: int64\n",
      "MN    80.0\n",
      "<L    20.0\n",
      "Name: lex4, dtype: float64\n",
      "\n",
      "Joel 3\n",
      "<L    1\n",
      "B     1\n",
      ">L    1\n",
      "Name: lex4, dtype: int64\n",
      "<L    33.333333\n",
      "B     33.333333\n",
      ">L    33.333333\n",
      "Name: lex4, dtype: float64\n",
      "\n",
      "Amos 6\n",
      "MN    4\n",
      "L     1\n",
      "<L    1\n",
      "Name: lex4, dtype: int64\n",
      "MN    66.666667\n",
      "L     16.666667\n",
      "<L    16.666667\n",
      "Name: lex4, dtype: float64\n",
      "\n",
      "Obadiah 1\n",
      "B    1\n",
      "Name: lex4, dtype: int64\n",
      "B    100.0\n",
      "Name: lex4, dtype: float64\n",
      "\n",
      "Jonah 2\n",
      "L     1\n",
      "MN    1\n",
      "Name: lex4, dtype: int64\n",
      "L     50.0\n",
      "MN    50.0\n",
      "Name: lex4, dtype: float64\n",
      "\n",
      "Micah 3\n",
      "L     1\n",
      ">L    1\n",
      "MN    1\n",
      "Name: lex4, dtype: int64\n",
      "L     33.333333\n",
      ">L    33.333333\n",
      "MN    33.333333\n",
      "Name: lex4, dtype: float64\n",
      "\n",
      "Nahum 1\n",
      "<L    1\n",
      "Name: lex4, dtype: int64\n",
      "<L    100.0\n",
      "Name: lex4, dtype: float64\n",
      "\n",
      "Zechariah 2\n",
      "<L    1\n",
      ">L    1\n",
      "Name: lex4, dtype: int64\n",
      "<L    50.0\n",
      ">L    50.0\n",
      "Name: lex4, dtype: float64\n",
      "\n",
      "Psalms 15\n",
      "MN    5\n",
      "B     4\n",
      "<L    4\n",
      "L     2\n",
      "Name: lex4, dtype: int64\n",
      "MN    33.333333\n",
      "B     26.666667\n",
      "<L    26.666667\n",
      "L     13.333333\n",
      "Name: lex4, dtype: float64\n",
      "\n",
      "Job 3\n",
      "B     1\n",
      "L     1\n",
      "<L    1\n",
      "Name: lex4, dtype: int64\n",
      "B     33.333333\n",
      "L     33.333333\n",
      "<L    33.333333\n",
      "Name: lex4, dtype: float64\n",
      "\n",
      "Proverbs 2\n",
      "B     1\n",
      "<L    1\n",
      "Name: lex4, dtype: int64\n",
      "B     50.0\n",
      "<L    50.0\n",
      "Name: lex4, dtype: float64\n",
      "\n",
      "Song_of_songs 5\n",
      "MN    4\n",
      "B     1\n",
      "Name: lex4, dtype: int64\n",
      "MN    80.0\n",
      "B     20.0\n",
      "Name: lex4, dtype: float64\n",
      "\n",
      "Ecclesiastes 1\n",
      "<L    1\n",
      "Name: lex4, dtype: int64\n",
      "<L    100.0\n",
      "Name: lex4, dtype: float64\n",
      "\n",
      "Lamentations 2\n",
      "<L    2\n",
      "Name: lex4, dtype: int64\n",
      "<L    100.0\n",
      "Name: lex4, dtype: float64\n",
      "\n",
      "Ezra 10\n",
      "MN    5\n",
      "<L    2\n",
      "L     1\n",
      ">L    1\n",
      "<M    1\n",
      "Name: lex4, dtype: int64\n",
      "MN    50.0\n",
      "<L    20.0\n",
      "L     10.0\n",
      ">L    10.0\n",
      "<M    10.0\n",
      "Name: lex4, dtype: float64\n",
      "\n",
      "Nehemiah 7\n",
      "MN    4\n",
      "B     1\n",
      "L     1\n",
      "<L    1\n",
      "Name: lex4, dtype: int64\n",
      "MN    57.142857\n",
      "B     14.285714\n",
      "L     14.285714\n",
      "<L    14.285714\n",
      "Name: lex4, dtype: float64\n",
      "\n",
      "1_Chronicles 9\n",
      "L     3\n",
      "MN    2\n",
      "B     2\n",
      "<L    1\n",
      ">L    1\n",
      "Name: lex4, dtype: int64\n",
      "L     33.333333\n",
      "MN    22.222222\n",
      "B     22.222222\n",
      "<L    11.111111\n",
      ">L    11.111111\n",
      "Name: lex4, dtype: float64\n",
      "\n",
      "2_Chronicles 31\n",
      "<L    17\n",
      "B      5\n",
      "MN     4\n",
      "L      3\n",
      ">L     2\n",
      "Name: lex4, dtype: int64\n",
      "<L    54.838710\n",
      "B     16.129032\n",
      "MN    12.903226\n",
      "L      9.677419\n",
      ">L     6.451613\n",
      "Name: lex4, dtype: float64\n",
      "\n"
     ]
    }
   ],
   "source": [
    "for book in filtered_df.S1.unique():\n",
    "    book_df = filtered_df[filtered_df.S1 == book]\n",
    "    print(book, len(book_df))\n",
    "    print(book_df[\"lex4\"].value_counts())\n",
    "    print(book_df[\"lex4\"].value_counts(normalize=True) * 100)\n",
    "    print(\"\")"
   ]
  },
  {
   "cell_type": "code",
   "execution_count": 122,
   "id": "ecda435e",
   "metadata": {},
   "outputs": [
    {
     "data": {
      "text/plain": [
       "Judges           41\n",
       "Jeremiah         41\n",
       "1_Samuel         39\n",
       "Exodus           38\n",
       "2_Chronicles     31\n",
       "Genesis          30\n",
       "Ezekiel          29\n",
       "Joshua           26\n",
       "2_Kings          25\n",
       "1_Kings          24\n",
       "Numbers          22\n",
       "Isaiah           18\n",
       "Psalms           15\n",
       "2_Samuel         14\n",
       "Deuteronomy      12\n",
       "Ezra             10\n",
       "1_Chronicles      9\n",
       "Nehemiah          7\n",
       "Amos              6\n",
       "Song_of_songs     5\n",
       "Leviticus         5\n",
       "Hosea             5\n",
       "Job               3\n",
       "Joel              3\n",
       "Micah             3\n",
       "Jonah             2\n",
       "Zechariah         2\n",
       "Proverbs          2\n",
       "Lamentations      2\n",
       "Nahum             1\n",
       "Obadiah           1\n",
       "Ecclesiastes      1\n",
       "Name: S1, dtype: int64"
      ]
     },
     "execution_count": 122,
     "metadata": {},
     "output_type": "execute_result"
    }
   ],
   "source": [
    "prep_book_counts"
   ]
  },
  {
   "cell_type": "code",
   "execution_count": 82,
   "id": "69e9d7b3-67de-46cc-a385-b0c7a735a5dc",
   "metadata": {},
   "outputs": [
    {
     "data": {
      "text/plain": [
       "B       35.483871\n",
       "<L      21.774194\n",
       "L       16.129032\n",
       "MN      13.306452\n",
       ">L      10.483871\n",
       ">T==     1.209677\n",
       "<M       0.806452\n",
       "<D       0.403226\n",
       "K        0.403226\n",
       "Name: lex4, dtype: float64"
      ]
     },
     "execution_count": 82,
     "metadata": {},
     "output_type": "execute_result"
    }
   ],
   "source": [
    "prep_book_percentage_prep"
   ]
  },
  {
   "cell_type": "code",
   "execution_count": 65,
   "id": "52d281ad",
   "metadata": {},
   "outputs": [],
   "source": [
    "df_b = df[df.lex4 == \"B\"]"
   ]
  },
  {
   "cell_type": "code",
   "execution_count": 69,
   "id": "b4d6c81a",
   "metadata": {},
   "outputs": [],
   "source": [
    "book_counts_b = df_b[\"S1\"].value_counts()\n",
    "#book_counts_b"
   ]
  },
  {
   "cell_type": "markdown",
   "id": "e93ecd4d",
   "metadata": {},
   "source": [
    "#### Check my annotated version of the Isaiah dataset"
   ]
  },
  {
   "cell_type": "code",
   "execution_count": 75,
   "id": "22b3ff33",
   "metadata": {},
   "outputs": [],
   "source": [
    "isaiah = pd.read_csv(\"data/isaiah_dataset.csv\").fillna(\"\")"
   ]
  },
  {
   "cell_type": "code",
   "execution_count": 77,
   "id": "cff638c1-2ef6-4d95-bdaf-d07d9cbefadd",
   "metadata": {},
   "outputs": [],
   "source": [
    "#isaiah_abar = isaiah[(isaiah[\"lex\"] == \"<BR[\") & (isaiah[\"complement\"] != \"no complement\")]\n",
    "#isaiah_abar"
   ]
  },
  {
   "cell_type": "code",
   "execution_count": 63,
   "id": "05f22b05-04d3-4155-b161-0e7bbf7e5510",
   "metadata": {},
   "outputs": [],
   "source": [
    "#isaiah_abar.to_csv(\"data/isaiah_abar.csv\", index=False)"
   ]
  }
 ],
 "metadata": {
  "kernelspec": {
   "display_name": "Python 3 (ipykernel)",
   "language": "python",
   "name": "python3"
  },
  "language_info": {
   "codemirror_mode": {
    "name": "ipython",
    "version": 3
   },
   "file_extension": ".py",
   "mimetype": "text/x-python",
   "name": "python",
   "nbconvert_exporter": "python",
   "pygments_lexer": "ipython3",
   "version": "3.9.16"
  }
 },
 "nbformat": 4,
 "nbformat_minor": 5
}
