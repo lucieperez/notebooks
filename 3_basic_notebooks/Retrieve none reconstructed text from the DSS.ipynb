{
 "cells": [
  {
   "cell_type": "code",
   "execution_count": null,
   "id": "961c122c",
   "metadata": {
    "scrolled": true
   },
   "outputs": [],
   "source": [
    "from tf.app import use\n",
    "B = use(\"etcbc/dss\", checkout=\"clone\", version=\"1.8\", hoist=globals())"
   ]
  },
  {
   "cell_type": "code",
   "execution_count": null,
   "id": "14adc4e5",
   "metadata": {},
   "outputs": [],
   "source": [
    "rec_set = set()\n",
    "\n",
    "for word in F.otype.s(\"word\"):\n",
    "    book = F.book_etcbc.v(word)\n",
    "    if book == \"1_Kings\":\n",
    "        chapter = F.chapter.v(word)\n",
    "        verse = F.verse.v(word)\n",
    "        g_cons = F.g_cons.v(word)\n",
    "        scroll = L.u(word, \"scroll\")[0]\n",
    "        scroll_name = T.scrollName(scroll)\n",
    "        if scroll_name == \"4Q54\" and chapter == \"8\":\n",
    "            signs = L.d(word, \"sign\")\n",
    "            sign_recs = [F.rec.v(sign) for sign in signs]\n",
    "            if g_cons: \n",
    "                true_text = \"\".join([char for char, rec_state in zip(g_cons, sign_recs) if rec_state is None])\n",
    "                rec_string = \"\".join([\"1\" if sign else \"0\" for sign in sign_recs])\n",
    "                for value in sign_recs:\n",
    "                    rec_set.add(value)\n",
    "                if true_text:\n",
    "                    lexeme = F.lex_etcbc.v(word)\n",
    "                    print(word, chapter, verse, scroll_name, lexeme, true_text)\n",
    "                    print(signs, rec_string)\n",
    "                    print()\n"
   ]
  },
  {
   "cell_type": "code",
   "execution_count": null,
   "id": "d18a8cd6",
   "metadata": {},
   "outputs": [],
   "source": [
    "# see the possible values of a feature, here the rec feature\n",
    "\n",
    "print(rec_set)"
   ]
  }
 ],
 "metadata": {
  "kernelspec": {
   "display_name": "Python 3 (ipykernel)",
   "language": "python",
   "name": "python3"
  },
  "language_info": {
   "codemirror_mode": {
    "name": "ipython",
    "version": 3
   },
   "file_extension": ".py",
   "mimetype": "text/x-python",
   "name": "python",
   "nbconvert_exporter": "python",
   "pygments_lexer": "ipython3",
   "version": "3.9.16"
  }
 },
 "nbformat": 4,
 "nbformat_minor": 5
}
