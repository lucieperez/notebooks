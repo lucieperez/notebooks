{
 "cells": [
  {
   "cell_type": "code",
   "execution_count": 4,
   "id": "14d05f3d-cfa5-42c5-a70f-5737ea32c7d2",
   "metadata": {},
   "outputs": [],
   "source": [
    "import pandas as pd\n",
    "\n",
    "from tfob import TFOb, BHSA, DSS"
   ]
  },
  {
   "cell_type": "markdown",
   "id": "7ef72210-4173-4054-b230-a81458df9edc",
   "metadata": {},
   "source": [
    "### Introduction\n",
    "\n",
    "The goal of the notebook is to create an input and an output dataset to train a transformer model for parsing clause atoms in Biblical Hebrew based on POS-only input.\n",
    "Each dataset should contain four columns separated by TABS: book, chapter, verse, text\n",
    "\n",
    "#### What is needed in the text column:\n",
    "- input file: the POS of the verse (POS represented by 1 letter)\n",
    "- output file: POS letters with the end of the clause atom marked by a capital A"
   ]
  },
  {
   "cell_type": "code",
   "execution_count": 4,
   "id": "b2dd2c42-a15a-48d3-92af-432d42e8a69f",
   "metadata": {},
   "outputs": [],
   "source": [
    "# Create a DataFrame by columns\n",
    "#pd.DataFrame({\"A\": [1, 2, 3], \"B\": [4, 5, 6]})\n",
    "\n",
    "# Create a DataFrame line by line\n",
    "#pd.DataFrame([{\"A\":1, \"B\":4}, {\"A\":2, \"B\":5}, {\"A\":3, \"B\":6}, ])"
   ]
  },
  {
   "cell_type": "code",
   "execution_count": 100,
   "id": "a1a044ee-6037-452f-a0c7-6748195a7214",
   "metadata": {},
   "outputs": [],
   "source": [
    "# Gathering all the verses in BHSA\n",
    "verses_bhsa = TFOb.all(\"verse\", BHSA)"
   ]
  },
  {
   "cell_type": "markdown",
   "id": "71aa62f6-bab7-4593-834e-8a56994001ed",
   "metadata": {},
   "source": [
    "### PART 1. Creating the INPUT DATASET"
   ]
  },
  {
   "cell_type": "raw",
   "id": "f97e17df",
   "metadata": {},
   "source": [
    "# ETCBC POS (sp)\n",
    "\n",
    "code\tdescription\n",
    "art\t    article\n",
    "verb\tverb\n",
    "subs\tnoun\n",
    "nmpr\tproper noun\n",
    "advb\tadverb\n",
    "prep\tpreposition\n",
    "conj\tconjunction\n",
    "prps\tpersonal pronoun\n",
    "prde\tdemonstrative pronoun\n",
    "prin\tinterrogative pronoun\n",
    "intj\tinterjection\n",
    "nega\tnegative particle\n",
    "inrg\tinterrogative particle\n",
    "adjv\tadjective"
   ]
  },
  {
   "cell_type": "code",
   "execution_count": 101,
   "id": "7c1b9815",
   "metadata": {},
   "outputs": [],
   "source": [
    "# POS dictionary\n",
    "\n",
    "pos_dict = {\"art\": \"D\",\n",
    "            \"verb\": \"V\",\n",
    "            \"subs\": \"S\",\n",
    "            \"noun\": \"N\",\n",
    "            \"nmpr\": \"n\",\n",
    "            \"advb\": \"A\",\n",
    "            \"prep\": \"P\",\n",
    "            \"conj\": \"c\",\n",
    "            \"prps\": \"p\",\n",
    "            \"prde\": \"d\",\n",
    "            \"prin\": \"i\",\n",
    "            \"intj\": \"I\",\n",
    "            \"nega\": \"g\",\n",
    "            \"inrg\": \"?\",\n",
    "            \"adjv\": \"a\"\n",
    "           }"
   ]
  },
  {
   "cell_type": "code",
   "execution_count": 102,
   "id": "3c49a5e5",
   "metadata": {},
   "outputs": [],
   "source": [
    "# Define a function for getting POS\n",
    "\n",
    "def get_pos(verse):\n",
    "    \"\"\"Returns the POS from a each word of a given verse joined with space.\"\"\"\n",
    "    \n",
    "    verse_pos = [pos_dict[word.sp[0]] for word in verse.to_words]\n",
    "    joined_pos = \" \".join(verse_pos)\n",
    "    return joined_pos"
   ]
  },
  {
   "cell_type": "code",
   "execution_count": 103,
   "id": "cbb773e8",
   "metadata": {},
   "outputs": [],
   "source": [
    "### TEST AREA ###"
   ]
  },
  {
   "cell_type": "code",
   "execution_count": 81,
   "id": "f78025f6",
   "metadata": {},
   "outputs": [],
   "source": [
    "verse = verses_bhsa[0]"
   ]
  },
  {
   "cell_type": "code",
   "execution_count": 82,
   "id": "a657c5cf",
   "metadata": {},
   "outputs": [
    {
     "name": "stdout",
     "output_type": "stream",
     "text": [
      "P S V S P D S c P D S\n"
     ]
    }
   ],
   "source": [
    "print(get_pos(verse))"
   ]
  },
  {
   "cell_type": "code",
   "execution_count": 83,
   "id": "676caaa1",
   "metadata": {},
   "outputs": [],
   "source": [
    "poss = [pos_dict[word.sp[0]] for word in verse.to_words]"
   ]
  },
  {
   "cell_type": "code",
   "execution_count": 85,
   "id": "75c1a269",
   "metadata": {},
   "outputs": [
    {
     "data": {
      "text/plain": [
       "<verse_1 \"B R>CJT BR> >LHJM >T H CMJM W >T H >RY\">"
      ]
     },
     "execution_count": 85,
     "metadata": {},
     "output_type": "execute_result"
    }
   ],
   "source": [
    "verse"
   ]
  },
  {
   "cell_type": "code",
   "execution_count": 84,
   "id": "8f4f8a09",
   "metadata": {},
   "outputs": [
    {
     "data": {
      "text/plain": [
       "['P', 'S', 'V', 'S', 'P', 'D', 'S', 'c', 'P', 'D', 'S']"
      ]
     },
     "execution_count": 84,
     "metadata": {},
     "output_type": "execute_result"
    }
   ],
   "source": [
    "poss"
   ]
  },
  {
   "cell_type": "code",
   "execution_count": null,
   "id": "73e820e7",
   "metadata": {},
   "outputs": [],
   "source": [
    "### END OF TEST AREA ###"
   ]
  },
  {
   "cell_type": "code",
   "execution_count": 112,
   "id": "58052eeb-6d8d-4f6a-8031-202939c18461",
   "metadata": {},
   "outputs": [],
   "source": [
    "# Generate the input file\n",
    "\n",
    "books = verses_bhsa.book\n",
    "chapters = verses_bhsa.chapter\n",
    "verses_num = verses_bhsa.verse\n",
    "verse_pos = [get_pos(verse) for verse in verses_bhsa]"
   ]
  },
  {
   "cell_type": "code",
   "execution_count": 113,
   "id": "6e31acf3-e420-4c95-9a30-cfd562d24ed6",
   "metadata": {},
   "outputs": [],
   "source": [
    "input_df = pd.DataFrame({\"book\": books, \"chapter\": chapters, \"verse\": verses_num, \"text\": verse_pos})"
   ]
  },
  {
   "cell_type": "code",
   "execution_count": 114,
   "id": "44d3d6e2-4811-40a8-a277-1fefeb816b3a",
   "metadata": {},
   "outputs": [
    {
     "data": {
      "text/html": [
       "<div>\n",
       "<style scoped>\n",
       "    .dataframe tbody tr th:only-of-type {\n",
       "        vertical-align: middle;\n",
       "    }\n",
       "\n",
       "    .dataframe tbody tr th {\n",
       "        vertical-align: top;\n",
       "    }\n",
       "\n",
       "    .dataframe thead th {\n",
       "        text-align: right;\n",
       "    }\n",
       "</style>\n",
       "<table border=\"1\" class=\"dataframe\">\n",
       "  <thead>\n",
       "    <tr style=\"text-align: right;\">\n",
       "      <th></th>\n",
       "      <th>book</th>\n",
       "      <th>chapter</th>\n",
       "      <th>verse</th>\n",
       "      <th>text</th>\n",
       "    </tr>\n",
       "  </thead>\n",
       "  <tbody>\n",
       "    <tr>\n",
       "      <th>0</th>\n",
       "      <td>Genesis</td>\n",
       "      <td>1</td>\n",
       "      <td>1</td>\n",
       "      <td>P S V S P D S c P D S</td>\n",
       "    </tr>\n",
       "    <tr>\n",
       "      <th>1</th>\n",
       "      <td>Genesis</td>\n",
       "      <td>1</td>\n",
       "      <td>2</td>\n",
       "      <td>c D S V S c S c S P S S c S S V P S D S</td>\n",
       "    </tr>\n",
       "    <tr>\n",
       "      <th>2</th>\n",
       "      <td>Genesis</td>\n",
       "      <td>1</td>\n",
       "      <td>3</td>\n",
       "      <td>c V S V S c V S</td>\n",
       "    </tr>\n",
       "    <tr>\n",
       "      <th>3</th>\n",
       "      <td>Genesis</td>\n",
       "      <td>1</td>\n",
       "      <td>4</td>\n",
       "      <td>c V S P D S c V c V S S D S c S D S</td>\n",
       "    </tr>\n",
       "    <tr>\n",
       "      <th>4</th>\n",
       "      <td>Genesis</td>\n",
       "      <td>1</td>\n",
       "      <td>5</td>\n",
       "      <td>c V S P D S S c P D S V S c V S c V S S S</td>\n",
       "    </tr>\n",
       "    <tr>\n",
       "      <th>...</th>\n",
       "      <td>...</td>\n",
       "      <td>...</td>\n",
       "      <td>...</td>\n",
       "      <td>...</td>\n",
       "    </tr>\n",
       "    <tr>\n",
       "      <th>23208</th>\n",
       "      <td>2_Chronicles</td>\n",
       "      <td>36</td>\n",
       "      <td>19</td>\n",
       "      <td>c V P S D S c V P S n c S S V P D S c S S S P V</td>\n",
       "    </tr>\n",
       "    <tr>\n",
       "      <th>23209</th>\n",
       "      <td>2_Chronicles</td>\n",
       "      <td>36</td>\n",
       "      <td>20</td>\n",
       "      <td>c V D S P D S P n c V P c P S P S P V S n</td>\n",
       "    </tr>\n",
       "    <tr>\n",
       "      <th>23210</th>\n",
       "      <td>2_Chronicles</td>\n",
       "      <td>36</td>\n",
       "      <td>21</td>\n",
       "      <td>P V S n P S n P V D S P S S S D S V P V S S</td>\n",
       "    </tr>\n",
       "    <tr>\n",
       "      <th>23211</th>\n",
       "      <td>2_Chronicles</td>\n",
       "      <td>36</td>\n",
       "      <td>22</td>\n",
       "      <td>c P S S P n S n P V S n P S n V n P S n S n c ...</td>\n",
       "    </tr>\n",
       "    <tr>\n",
       "      <th>23212</th>\n",
       "      <td>2_Chronicles</td>\n",
       "      <td>36</td>\n",
       "      <td>23</td>\n",
       "      <td>A V n S n S S D S V P n S D S c p V P P V P S ...</td>\n",
       "    </tr>\n",
       "  </tbody>\n",
       "</table>\n",
       "<p>23213 rows × 4 columns</p>\n",
       "</div>"
      ],
      "text/plain": [
       "               book chapter verse  \\\n",
       "0           Genesis       1     1   \n",
       "1           Genesis       1     2   \n",
       "2           Genesis       1     3   \n",
       "3           Genesis       1     4   \n",
       "4           Genesis       1     5   \n",
       "...             ...     ...   ...   \n",
       "23208  2_Chronicles      36    19   \n",
       "23209  2_Chronicles      36    20   \n",
       "23210  2_Chronicles      36    21   \n",
       "23211  2_Chronicles      36    22   \n",
       "23212  2_Chronicles      36    23   \n",
       "\n",
       "                                                    text  \n",
       "0                                  P S V S P D S c P D S  \n",
       "1                c D S V S c S c S P S S c S S V P S D S  \n",
       "2                                        c V S V S c V S  \n",
       "3                    c V S P D S c V c V S S D S c S D S  \n",
       "4              c V S P D S S c P D S V S c V S c V S S S  \n",
       "...                                                  ...  \n",
       "23208    c V P S D S c V P S n c S S V P D S c S S S P V  \n",
       "23209          c V D S P D S P n c V P c P S P S P V S n  \n",
       "23210        P V S n P S n P V D S P S S S D S V P V S S  \n",
       "23211  c P S S P n S n P V S n P S n V n P S n S n c ...  \n",
       "23212  A V n S n S S D S V P n S D S c p V P P V P S ...  \n",
       "\n",
       "[23213 rows x 4 columns]"
      ]
     },
     "execution_count": 114,
     "metadata": {},
     "output_type": "execute_result"
    }
   ],
   "source": [
    "input_df"
   ]
  },
  {
   "cell_type": "code",
   "execution_count": 115,
   "id": "c9099bc3-e460-46f2-b1f4-164c381cf951",
   "metadata": {},
   "outputs": [],
   "source": [
    "# Save input with POS\n",
    "input_df.to_csv(\"data/cl_pos_in.csv\", sep=\"\\t\", header=False, index=False)"
   ]
  },
  {
   "cell_type": "markdown",
   "id": "057d4c9a-4244-4393-89f7-0a2054f1068a",
   "metadata": {},
   "source": [
    "### PART 2: Creating the OUTPUT DATASET"
   ]
  },
  {
   "cell_type": "code",
   "execution_count": 106,
   "id": "125a07f5-5776-422a-bf06-2904944a1c5f",
   "metadata": {},
   "outputs": [],
   "source": [
    "# Define a function to parse the clause atom\n",
    "\n",
    "def parse_cl_atom(verse):\n",
    "    \"\"\"Takes a verse (TFOb object) and returns a parsed version with the POS of each word \n",
    "    and the end of the clause_atom indicated by a \"#\". \"\"\"\n",
    "\n",
    "    # Parse the clause atoms in POS and indicating the end of the clause atom with an \"#\" \n",
    "    parsed_verses = []\n",
    "    \n",
    "    for clause_atom in verse.to_clause_atoms:\n",
    "        pos_clause = get_pos(clause_atom)\n",
    "        def_end_cl = str(pos_clause) + \"#\"\n",
    "        parsed_verses.append(def_end_cl)\n",
    "        \n",
    "    parsed_verse = \" \".join(parsed_verses) \n",
    "     \n",
    "    return \"\".join(parsed_verse)"
   ]
  },
  {
   "cell_type": "code",
   "execution_count": 107,
   "id": "24705784-ce85-4aba-8b1c-3f93d568d7a7",
   "metadata": {},
   "outputs": [
    {
     "name": "stdout",
     "output_type": "stream",
     "text": [
      "The verse is: \n",
      "\n",
      "c V S P D S S c P D S V S c V S c V S S S\n",
      "\n",
      "\n",
      "The parsed version of the verse is: \n",
      "\n",
      "c V S P D S S# c P D S V S# c V S# c V S# S S#.\n"
     ]
    }
   ],
   "source": [
    "# Testing the function\n",
    "verse = verses_bhsa[4]\n",
    "\n",
    "print(f\"The verse is: \\n\\n{get_pos(verse)}\\n\\n\")\n",
    "print(f\"The parsed version of the verse is: \\n\\n{parse_cl_atom(verse)}.\")"
   ]
  },
  {
   "cell_type": "code",
   "execution_count": 108,
   "id": "4157493e-0cd9-41d2-bb50-442df684eb52",
   "metadata": {},
   "outputs": [],
   "source": [
    "# Create a list of parsed verses\n",
    "\n",
    "books = verses_bhsa.book\n",
    "chapters = verses_bhsa.chapter\n",
    "verses_num = verses_bhsa.verse\n",
    "parsed_verses = [parse_cl_atom(verse) for verse in verses_bhsa]"
   ]
  },
  {
   "cell_type": "code",
   "execution_count": 109,
   "id": "be539078-7b95-4ea4-a97e-7f8baa269779",
   "metadata": {},
   "outputs": [],
   "source": [
    "output_df = pd.DataFrame({\"book\": books, \"chapter\": chapters, \"verse\": verses_num, \"text\": parsed_verses})"
   ]
  },
  {
   "cell_type": "code",
   "execution_count": 110,
   "id": "6613f46d-3ebb-4902-8004-38873c44e100",
   "metadata": {},
   "outputs": [
    {
     "data": {
      "text/html": [
       "<div>\n",
       "<style scoped>\n",
       "    .dataframe tbody tr th:only-of-type {\n",
       "        vertical-align: middle;\n",
       "    }\n",
       "\n",
       "    .dataframe tbody tr th {\n",
       "        vertical-align: top;\n",
       "    }\n",
       "\n",
       "    .dataframe thead th {\n",
       "        text-align: right;\n",
       "    }\n",
       "</style>\n",
       "<table border=\"1\" class=\"dataframe\">\n",
       "  <thead>\n",
       "    <tr style=\"text-align: right;\">\n",
       "      <th></th>\n",
       "      <th>book</th>\n",
       "      <th>chapter</th>\n",
       "      <th>verse</th>\n",
       "      <th>text</th>\n",
       "    </tr>\n",
       "  </thead>\n",
       "  <tbody>\n",
       "    <tr>\n",
       "      <th>0</th>\n",
       "      <td>Genesis</td>\n",
       "      <td>1</td>\n",
       "      <td>1</td>\n",
       "      <td>P S V S P D S c P D S#</td>\n",
       "    </tr>\n",
       "    <tr>\n",
       "      <th>1</th>\n",
       "      <td>Genesis</td>\n",
       "      <td>1</td>\n",
       "      <td>2</td>\n",
       "      <td>c D S V S c S# c S P S S# c S S V P S D S#</td>\n",
       "    </tr>\n",
       "    <tr>\n",
       "      <th>2</th>\n",
       "      <td>Genesis</td>\n",
       "      <td>1</td>\n",
       "      <td>3</td>\n",
       "      <td>c V S# V S# c V S#</td>\n",
       "    </tr>\n",
       "    <tr>\n",
       "      <th>3</th>\n",
       "      <td>Genesis</td>\n",
       "      <td>1</td>\n",
       "      <td>4</td>\n",
       "      <td>c V S P D S# c V# c V S S D S c S D S#</td>\n",
       "    </tr>\n",
       "    <tr>\n",
       "      <th>4</th>\n",
       "      <td>Genesis</td>\n",
       "      <td>1</td>\n",
       "      <td>5</td>\n",
       "      <td>c V S P D S S# c P D S V S# c V S# c V S# S S#</td>\n",
       "    </tr>\n",
       "    <tr>\n",
       "      <th>...</th>\n",
       "      <td>...</td>\n",
       "      <td>...</td>\n",
       "      <td>...</td>\n",
       "      <td>...</td>\n",
       "    </tr>\n",
       "    <tr>\n",
       "      <th>23208</th>\n",
       "      <td>2_Chronicles</td>\n",
       "      <td>36</td>\n",
       "      <td>19</td>\n",
       "      <td>c V P S D S# c V P S n# c S S V P D S# c S S S...</td>\n",
       "    </tr>\n",
       "    <tr>\n",
       "      <th>23209</th>\n",
       "      <td>2_Chronicles</td>\n",
       "      <td>36</td>\n",
       "      <td>20</td>\n",
       "      <td>c V D S P D S P n# c V P c P S P S# P V S n#</td>\n",
       "    </tr>\n",
       "    <tr>\n",
       "      <th>23210</th>\n",
       "      <td>2_Chronicles</td>\n",
       "      <td>36</td>\n",
       "      <td>21</td>\n",
       "      <td>P V S n P S n# P V D S P S# S S D S V# P V S S#</td>\n",
       "    </tr>\n",
       "    <tr>\n",
       "      <th>23211</th>\n",
       "      <td>2_Chronicles</td>\n",
       "      <td>36</td>\n",
       "      <td>22</td>\n",
       "      <td>c P S S P n S n# P V S n P S n# V n P S n S n#...</td>\n",
       "    </tr>\n",
       "    <tr>\n",
       "      <th>23212</th>\n",
       "      <td>2_Chronicles</td>\n",
       "      <td>36</td>\n",
       "      <td>23</td>\n",
       "      <td>A V n S n# S S D S V P n S D S# c p V P# P V P...</td>\n",
       "    </tr>\n",
       "  </tbody>\n",
       "</table>\n",
       "<p>23213 rows × 4 columns</p>\n",
       "</div>"
      ],
      "text/plain": [
       "               book chapter verse  \\\n",
       "0           Genesis       1     1   \n",
       "1           Genesis       1     2   \n",
       "2           Genesis       1     3   \n",
       "3           Genesis       1     4   \n",
       "4           Genesis       1     5   \n",
       "...             ...     ...   ...   \n",
       "23208  2_Chronicles      36    19   \n",
       "23209  2_Chronicles      36    20   \n",
       "23210  2_Chronicles      36    21   \n",
       "23211  2_Chronicles      36    22   \n",
       "23212  2_Chronicles      36    23   \n",
       "\n",
       "                                                    text  \n",
       "0                                 P S V S P D S c P D S#  \n",
       "1             c D S V S c S# c S P S S# c S S V P S D S#  \n",
       "2                                     c V S# V S# c V S#  \n",
       "3                 c V S P D S# c V# c V S S D S c S D S#  \n",
       "4         c V S P D S S# c P D S V S# c V S# c V S# S S#  \n",
       "...                                                  ...  \n",
       "23208  c V P S D S# c V P S n# c S S V P D S# c S S S...  \n",
       "23209       c V D S P D S P n# c V P c P S P S# P V S n#  \n",
       "23210    P V S n P S n# P V D S P S# S S D S V# P V S S#  \n",
       "23211  c P S S P n S n# P V S n P S n# V n P S n S n#...  \n",
       "23212  A V n S n# S S D S V P n S D S# c p V P# P V P...  \n",
       "\n",
       "[23213 rows x 4 columns]"
      ]
     },
     "execution_count": 110,
     "metadata": {},
     "output_type": "execute_result"
    }
   ],
   "source": [
    "output_df"
   ]
  },
  {
   "cell_type": "code",
   "execution_count": 111,
   "id": "970680e8-fa59-42eb-ad8d-7beda8970a33",
   "metadata": {},
   "outputs": [],
   "source": [
    "# Save output POS and \"#\"\n",
    "\n",
    "output_df.to_csv(\"data/cl_pos_out.csv\", sep=\"\\t\", header=False, index=False)"
   ]
  },
  {
   "cell_type": "raw",
   "id": "9bbd6b48",
   "metadata": {},
   "source": [
    "# line for model training\n",
    "\n",
    "python main.py -mo=train -i=cl_pos_in.csv -o=cl_pos_out.csv -ep=15 -l=15 -lr=0.0001 -et=True"
   ]
  }
 ],
 "metadata": {
  "kernelspec": {
   "display_name": "Python 3 (ipykernel)",
   "language": "python",
   "name": "python3"
  },
  "language_info": {
   "codemirror_mode": {
    "name": "ipython",
    "version": 3
   },
   "file_extension": ".py",
   "mimetype": "text/x-python",
   "name": "python",
   "nbconvert_exporter": "python",
   "pygments_lexer": "ipython3",
   "version": "3.9.16"
  }
 },
 "nbformat": 4,
 "nbformat_minor": 5
}
