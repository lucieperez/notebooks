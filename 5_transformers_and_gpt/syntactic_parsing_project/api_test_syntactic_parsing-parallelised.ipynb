{
 "cells": [
  {
   "cell_type": "code",
   "execution_count": 1,
   "id": "5071aaec-d141-47d1-a375-aa603220439e",
   "metadata": {},
   "outputs": [],
   "source": [
    "from IPython.display import Markdown, display\n",
    "from openai import OpenAI\n",
    "import json\n",
    "import os\n",
    "from time import sleep\n",
    "import multiprocessing\n",
    "from multiprocessing.pool import ThreadPool"
   ]
  },
  {
   "cell_type": "code",
   "execution_count": 2,
   "id": "61765033-032f-4e6e-bf0a-d32babea9478",
   "metadata": {},
   "outputs": [],
   "source": [
    "client = OpenAI()"
   ]
  },
  {
   "cell_type": "code",
   "execution_count": 3,
   "id": "fd2d7f36-46cf-4bc0-8dd5-08a90052e65b",
   "metadata": {},
   "outputs": [],
   "source": [
    "gpt4o = \"gpt-4o-2024-08-06\"\n",
    "gpt4o_mini = \"gpt-4o-mini-2024-07-18\"\n",
    "gpt_o1 = \"o1-preview\"\n",
    "\n",
    "small_dataset_model = \"ft:gpt-4o-mini-2024-07-18:researcher-access-university-of-copenhagen:random-small-dataset:AYDdDFb6\"\n",
    "medium_dataset_model = \"ft:gpt-4o-mini-2024-07-18:researcher-access-university-of-copenhagen:random-medium-dataset:AYE8fROA\"\n",
    "large_dataset_model = \"ft:gpt-4o-mini-2024-07-18:researcher-access-university-of-copenhagen:random-large-dataset:AYEAuS9Z\"\n",
    "large_dataset_model_ckpt_1046 = \"ft:gpt-4o-mini-2024-07-18:researcher-access-university-of-copenhagen:random-large-dataset:AYEAuIM0:ckpt-step-1046\"\n",
    "\n",
    "small_simple_dataset_model = \"ft:gpt-4o-mini-2024-07-18:researcher-access-university-of-copenhagen:simple-small-dataset:AYWlgHow\"\n",
    "medium_simple_dataset_model = \"ft:gpt-4o-mini-2024-07-18:researcher-access-university-of-copenhagen:simple-medium-dataset:AYWlf8C2\"\n",
    "large_simple_dataset_model = \"ft:gpt-4o-mini-2024-07-18:researcher-access-university-of-copenhagen:simple-large-dataset:AYWqFlro\"\n",
    "\n",
    "large_2_epochs_dataset_model = \"ft:gpt-4o-mini-2024-07-18:researcher-access-university-of-copenhagen:large-dataset-2-epochs:AYWvOBRa\"\n",
    "\n",
    "large_2_steps_dataset_model_ckpt_860 = \"ft:gpt-4o-mini-2024-07-18:researcher-access-university-of-copenhagen:two-step-large-dataset-4-epochs:AYbrCyE1:ckpt-step-860\""
   ]
  },
  {
   "cell_type": "code",
   "execution_count": 12,
   "id": "2fdb1c90-f6ee-4fa2-afc3-629fbf0c9be8",
   "metadata": {},
   "outputs": [],
   "source": [
    "model_used = gpt4o"
   ]
  },
  {
   "cell_type": "code",
   "execution_count": 13,
   "id": "a89507da-13b2-4405-8459-82109757f47f",
   "metadata": {},
   "outputs": [],
   "source": [
    "# Create the system_prompt\n",
    "example_simple = \"\"\"User input: \"חזון ישעיהו בןאמוץ אשר חזה עליהודה וירושלם בימי עזיהו יותם אחז יחזקיהו מלכי יהודה\"\n",
    "Expected output: [\"חזון ישעיהו בןאמוץ\",\"אשר חזה עליהודה וירושלם בימי עזיהו יותם אחז יחזקיהו מלכי יהודה\"]\"\"\"\n",
    "\n",
    "example_complex = \"\"\"User input: \"יביא יהוה עליך ועלעמך ועלבית אביך ימים אשר לאבאו למיום סוראפרים מעל יהודה את מלך אשור פ\"\n",
    "Expected output: [\"יביא יהוה עליך ועלעמך ועלבית אביך ימים את מלך אשור פ\" ,\"אשר לאבאו למיום\" ,\"סוראפרים מעל יהודה\"]\"\"\"\n",
    "\n",
    "\n",
    "SYSTEM_PROMPT = f\"Identify clauses in this Biblical Hebrew verse and return a JSON list containing the clauses, as shown in the following examples. Do not write anything else than the JSON list in your output. Example 1 {example_simple} Example 2 {example_complex}\""
   ]
  },
  {
   "cell_type": "code",
   "execution_count": null,
   "id": "89612968-b22e-42e2-814e-ec55b4b089ce",
   "metadata": {},
   "outputs": [],
   "source": []
  },
  {
   "cell_type": "code",
   "execution_count": 16,
   "id": "a39c3940-8b94-4b45-8412-c174f6902fd4",
   "metadata": {},
   "outputs": [],
   "source": [
    "# Functions\n",
    "\n",
    "parsed_data = []\n",
    "\n",
    "def parse_verse(verse):\n",
    "    \"\"\"Send a request to the chosen OpenAI model to parse a Biblical Hebrew verse into clauses.\"\"\"\n",
    "    print(\"Parsing verse:\", verse)\n",
    "    for _ in range(10):\n",
    "        try:\n",
    "            response = client.chat.completions.create(\n",
    "                model=model_used,\n",
    "                messages=[\n",
    "                    {\"role\": \"system\", \"content\": SYSTEM_PROMPT},\n",
    "                    {\"role\": \"user\", \n",
    "                     \"content\": f\"{verse}\"}\n",
    "                ],\n",
    "                temperature=0,\n",
    "            )\n",
    "            # Extract and return the response\n",
    "            result = response.choices[0].message.content\n",
    "            parsed_data.append((verse, result))\n",
    "            return verse, result\n",
    "        except Exception as e:\n",
    "            print(f\"Error processing verse: {verse}\")\n",
    "            print(e)\n",
    "            sleep(5)\n",
    "            print(\"Failed to call OpenAI. Retrying.\")\n",
    "\n",
    "\n",
    "def process_file(input_file, output_file):\n",
    "    \"\"\"Read a JSONL file containing verses, process them and save results to another JSONL file.\"\"\"\n",
    "    global parsed_data\n",
    "    parsed_data = []\n",
    "    verses = []\n",
    "    with open(input_file, \"r\", encoding=\"utf-8\") as infile:\n",
    "        for line in infile:\n",
    "            data = json.loads(line)\n",
    "            verses.append(data[\"messages\"][1][\"content\"])\n",
    "    pool = ThreadPool(processes=5)\n",
    "    results = pool.map(parse_verse, verses)\n",
    "    \n",
    "    with open(output_file, \"w\", encoding=\"utf_8\") as outfile:\n",
    "        for verse, result in results:\n",
    "            if result:\n",
    "                output = {\"verse\": verse, \"parsed_clauses\": result}\n",
    "                outfile.write(json.dumps(output, ensure_ascii=False) + \"\\n\")"
   ]
  },
  {
   "cell_type": "code",
   "execution_count": 18,
   "id": "8d889053-6258-4c74-80d8-bc2325dbfdf4",
   "metadata": {},
   "outputs": [],
   "source": [
    "# Input and output files\n",
    "input_jsonl_file = \"data/fine_tuning_datasets/trial_1/validation_small.jsonl\"\n",
    "output_jsonl_file = \"data/fine_tuning_datasets/basic_models_outputs/output_validation_small_gpt4o.jsonl.jsonl\""
   ]
  },
  {
   "cell_type": "code",
   "execution_count": 19,
   "id": "6c069246-d0ab-437b-8503-41441dbb4446",
   "metadata": {},
   "outputs": [
    {
     "name": "stdout",
     "output_type": "stream",
     "text": [
      "gpt-4o-2024-08-06\n"
     ]
    }
   ],
   "source": [
    "print(model_used)"
   ]
  },
  {
   "cell_type": "code",
   "execution_count": null,
   "id": "45a2e4c1-883d-418a-ab72-c002bc15636d",
   "metadata": {
    "scrolled": true
   },
   "outputs": [
    {
     "name": "stdout",
     "output_type": "stream",
     "text": [
      "Parsing verse:Parsing verse: Parse this verse: ויאמר אלהם הוא אשר דבר יהוה שבתון שבתקדש ליהוה מחר את אשרתאפו אפו ואת אשרתבשלו בשלו ואת כלהעדף הניחו לכם למשמרת עדהבקר\n",
      " Parse this verse: ויאמר שמואל אלשאול אתי שלח יהוה למשחך למלך עלעמו עלישראל ועתה שמע לקול דברי יהוה ס\n",
      "Parsing verse: Parse this verse: וירד שמשון תמנתה וירא אשה בתמנתה מבנות פלשתים\n",
      "Parsing verse: Parse this verse: היום הזה אחל תת פחדך ויראתך עלפני העמים תחת כלהשמים אשר ישמעון שמעך ורגזו וחלו מפניך\n",
      "Parsing verse: Parse this verse: ולאכגמל עליו השיב יחזקיהו כי גבה לבו ויהי עליו קצף ועליהודה וירושלם\n",
      "Parsing verse: Parse this verse: וישמע משה אתהעם בכה למשפחתיו איש לפתח אהלו ויחראף יהוה מאד ובעיני משה רע\n",
      "Parsing verse: Parse this verse: וימת חזאל מלךארם וימלך בןהדד בנו תחתיו\n",
      "Parsing verse: Parse this verse: כי יהיה נערה בתולה מארשה לאיש ומצאה איש בעיר ושכב עמה\n",
      "Parsing verse: Parse this verse: כי אםבמקום אשריבחר יהוה באחד שבטיך שם תעלה עלתיך ושם תעשה כל אשר אנכי מצוך\n",
      "Parsing verse: Parse this verse: וגם ללוים איןלשאת אתהמשכן ואתכלכליו לעבדתו\n",
      "Parsing verse: Parse this verse: ויחר לדויד כיפרץ יהוה פרץ בעזא ויקרא למקום ההוא פרץ עזא עד היום הזה\n",
      "Parsing verse: Parse this verse: ועתה הנה נתן יהוה רוח שקר בפי נביאיך אלה ויהוה דבר עליך רעה ס\n",
      "Parsing verse: Parse this verse: בעצם היום הזה בא נח ושםוחם ויפת בנינח ואשת נח ושלשת נשיבניו אתם אלהתבה\n",
      "Parsing verse: Parse this verse: ואתיהושוע צויתי בעת ההוא לאמר עיניך הראת את כלאשר עשה יהוה אלהיכם לשני המלכים האלה כןיעשה יהוה לכלהממלכות אשר אתה עבר שמה\n",
      "Parsing verse: Parse this verse: ועל ראש העמודים מעשה שושן ותתם מלאכת העמודים\n",
      "Parsing verse: Parse this verse: כי המגיד לי לאמר הנהמת שאול והואהיה כמבשר בעיניו ואחזה בו ואהרגהו בצקלג אשר לתתילו בשרה\n",
      "Parsing verse: Parse this verse: והיה כאשר דמיתי לעשות להם אעשה לכם פ\n",
      "Parsing verse: Parse this verse: ואתאופיר ואתחוילה ואתיובב כלאלה בני יקטן ס\n",
      "Parsing verse: Parse this verse: וישב ארצו ברכוש גדול ולבבו עלברית קדש ועשה ושב לארצו\n",
      "Error processing verse: Parse this verse: ואתיהושוע צויתי בעת ההוא לאמר עיניך הראת את כלאשר עשה יהוה אלהיכם לשני המלכים האלה כןיעשה יהוה לכלהממלכות אשר אתה עבר שמה\n",
      "Error code: 429 - {'error': {'message': 'You exceeded your current quota, please check your plan and billing details. For more information on this error, read the docs: https://platform.openai.com/docs/guides/error-codes/api-errors.', 'type': 'insufficient_quota', 'param': None, 'code': 'insufficient_quota'}}\n",
      "Parsing verse: Parse this verse: ורחצו ממנו משה ואהרן ובניו אתידיהם ואתרגליהם\n",
      "Parsing verse: Parse this verse: ואתיעוץ ואתשכיה ואתמרמה אלה בניו ראשי אבות\n",
      "Error processing verse: Parse this verse: והיה כאשר דמיתי לעשות להם אעשה לכם פ\n",
      "Error code: 429 - {'error': {'message': 'You exceeded your current quota, please check your plan and billing details. For more information on this error, read the docs: https://platform.openai.com/docs/guides/error-codes/api-errors.', 'type': 'insufficient_quota', 'param': None, 'code': 'insufficient_quota'}}\n",
      "Error processing verse: Parse this verse: כי המגיד לי לאמר הנהמת שאול והואהיה כמבשר בעיניו ואחזה בו ואהרגהו בצקלג אשר לתתילו בשרה\n",
      "Error code: 429 - {'error': {'message': 'You exceeded your current quota, please check your plan and billing details. For more information on this error, read the docs: https://platform.openai.com/docs/guides/error-codes/api-errors.', 'type': 'insufficient_quota', 'param': None, 'code': 'insufficient_quota'}}\n",
      "Error processing verse: Parse this verse: ורחצו ממנו משה ואהרן ובניו אתידיהם ואתרגליהם\n",
      "Error code: 429 - {'error': {'message': 'You exceeded your current quota, please check your plan and billing details. For more information on this error, read the docs: https://platform.openai.com/docs/guides/error-codes/api-errors.', 'type': 'insufficient_quota', 'param': None, 'code': 'insufficient_quota'}}\n",
      "Parsing verse: Parse this verse: ואמרתם זבחפסח הוא ליהוה אשר פסח עלבתי בניישראל במצרים בנגפו אתמצרים ואתבתינו הציל ויקד העם וישתחוו\n",
      "Failed to call OpenAI. Retrying.\n",
      "Failed to call OpenAI. Retrying.\n",
      "Failed to call OpenAI. Retrying.\n"
     ]
    }
   ],
   "source": [
    "%%time\n",
    "process_file(input_jsonl_file, output_jsonl_file)"
   ]
  },
  {
   "cell_type": "code",
   "execution_count": null,
   "id": "1f3be31e-292f-41bc-b85b-9ee8577135e0",
   "metadata": {},
   "outputs": [],
   "source": []
  }
 ],
 "metadata": {
  "kernelspec": {
   "display_name": "Python 3 (ipykernel)",
   "language": "python",
   "name": "python3"
  },
  "language_info": {
   "codemirror_mode": {
    "name": "ipython",
    "version": 3
   },
   "file_extension": ".py",
   "mimetype": "text/x-python",
   "name": "python",
   "nbconvert_exporter": "python",
   "pygments_lexer": "ipython3",
   "version": "3.12.3"
  }
 },
 "nbformat": 4,
 "nbformat_minor": 5
}
