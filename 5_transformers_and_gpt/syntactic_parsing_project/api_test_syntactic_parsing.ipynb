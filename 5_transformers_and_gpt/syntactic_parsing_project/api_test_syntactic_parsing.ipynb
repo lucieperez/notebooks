{
 "cells": [
  {
   "cell_type": "code",
   "execution_count": 36,
   "id": "5071aaec-d141-47d1-a375-aa603220439e",
   "metadata": {},
   "outputs": [],
   "source": [
    "from IPython.display import Markdown, display\n",
    "from openai import OpenAI\n",
    "import json\n",
    "import os\n",
    "from time import sleep"
   ]
  },
  {
   "cell_type": "code",
   "execution_count": 24,
   "id": "61765033-032f-4e6e-bf0a-d32babea9478",
   "metadata": {},
   "outputs": [],
   "source": [
    "client = OpenAI(\n",
    "  api_key=os.environ['OPENAI_API_KEY'],  # this is also the default, it can be omitted\n",
    ")"
   ]
  },
  {
   "cell_type": "code",
   "execution_count": 25,
   "id": "2fdb1c90-f6ee-4fa2-afc3-629fbf0c9be8",
   "metadata": {},
   "outputs": [],
   "source": [
    "model_used = \"gpt-4o-mini-2024-07-18\"\n",
    "#\"gpt-4o-mini-2024-07-18\""
   ]
  },
  {
   "cell_type": "code",
   "execution_count": 26,
   "id": "a89507da-13b2-4405-8459-82109757f47f",
   "metadata": {},
   "outputs": [],
   "source": [
    "# Create the system_prompt\n",
    "example_simple = \"\"\"User input: \"חזון ישעיהו בןאמוץ אשר חזה עליהודה וירושלם בימי עזיהו יותם אחז יחזקיהו מלכי יהודה\"\n",
    "Expected output: [\"חזון ישעיהו בןאמוץ\",\"אשר חזה עליהודה וירושלם בימי עזיהו יותם אחז יחזקיהו מלכי יהודה\"]\"\"\"\n",
    "\n",
    "example_complex = \"\"\"User input: \"יביא יהוה עליך ועלעמך ועלבית אביך ימים אשר לאבאו למיום סוראפרים מעל יהודה את מלך אשור פ\"\n",
    "Expected output: [\"יביא יהוה עליך ועלעמך ועלבית אביך ימים את מלך אשור פ\" ,\"אשר לאבאו למיום\" ,\"סוראפרים מעל יהודה\"]\"\"\"\n",
    "\n",
    "\n",
    "SYSTEM_PROMPT = f\"Identify clauses in this Biblical Hebrew verse and return a JSON list containing the clauses, as shown in the following examples. Do not write anything else than the JSON list in your output. Example 1 {example_simple} Example 2 {example_complex}\""
   ]
  },
  {
   "cell_type": "code",
   "execution_count": 40,
   "id": "a39c3940-8b94-4b45-8412-c174f6902fd4",
   "metadata": {},
   "outputs": [],
   "source": [
    "# Functions\n",
    "\n",
    "def parse_verse (verse):\n",
    "    \"\"\"Send a request to the chosen OpenAI model to parse a Biblical Hebrew verse into clauses.\"\"\"\n",
    "    try:\n",
    "        response = client.chat.completions.create(\n",
    "            model=model_used,\n",
    "            messages=[\n",
    "                {\"role\": \"system\", \"content\": SYSTEM_PROMPT},\n",
    "                {\"role\": \"user\", \"content\": f\"{verse}\"}\n",
    "            ]\n",
    "        )\n",
    "        # Extract and return the response\n",
    "        return response.choices[0].message\n",
    "    except Exception as e:\n",
    "        print(f\"Error processing verse: {verse}\")\n",
    "        print(e)\n",
    "        return None\n",
    "\n",
    "\n",
    "def process_file(input_file, output_file):\n",
    "    \"\"\"Read a JSONL file containing verses, process them and save results to another JSONL file.\"\"\"\n",
    "    with open(input_file, \"r\", encoding=\"utf-8\") as infile, open(output_file, \"w\", encoding=\"utf_8\") as outfile:\n",
    "        for line in infile:\n",
    "            data=json.loads(line)\n",
    "            verse = data[\"verse\"]\n",
    "            while True:\n",
    "                result = parse_verse(verse).content\n",
    "                if result:\n",
    "                    break\n",
    "                else:\n",
    "                    sleep(5)\n",
    "                    print(\"Failed to call OpenAI. Retrying.\")\n",
    "            if result:\n",
    "                output = {\"verse\": verse, \"parsed_clauses\": result}\n",
    "                outfile.write(json.dumps(output, ensure_ascii=False) + \"\\n\")\n",
    "\n",
    "# Input and output files\n",
    "input_jsonl_file = \"data/all_verses_dataset.jsonl\"\n",
    "output_jsonl_file = \"data/all_parsed_clauses_gpt4o-mini_try2.jsonl\""
   ]
  },
  {
   "cell_type": "code",
   "execution_count": 38,
   "id": "d0e67e91-1d09-4023-8097-dbcaf811f53b",
   "metadata": {},
   "outputs": [],
   "source": [
    "# Process test file\n",
    "result = parse_verse(\"Parse this verse: ויהישם עםיהוה ארבעים יום וארבעים לילה לחם לא אכל ומים לא שתה ויכתב עלהלחת את דברי הברית עשרת הדברים\")"
   ]
  },
  {
   "cell_type": "code",
   "execution_count": 39,
   "id": "310eb97a-a195-42a0-87e8-3c5163382552",
   "metadata": {},
   "outputs": [
    {
     "name": "stdout",
     "output_type": "stream",
     "text": [
      "ChatCompletionMessage(content='[\"ויהישם עםיהוה ארבעים יום וארבעים לילה\",\"לחם לא אכל ומים לא שתה\",\"וייך כתב עלהלחת את דברי הברית עשרת הדברים\"]', refusal=None, role='assistant', audio=None, function_call=None, tool_calls=None)\n"
     ]
    }
   ],
   "source": [
    "print(result)"
   ]
  },
  {
   "cell_type": "code",
   "execution_count": 31,
   "id": "7dc37129-98a6-46af-a4ce-ea7b427c280c",
   "metadata": {},
   "outputs": [
    {
     "data": {
      "text/plain": [
       "'[\"ויהישם עםיהוה ארבעים יום וארבעים לילה\",\"לחם לא אכל ומים לא שתה\",\"ויקתב עלהלחת את דברי הברית עשרת הדברים\"]'"
      ]
     },
     "execution_count": 31,
     "metadata": {},
     "output_type": "execute_result"
    }
   ],
   "source": [
    "result.content"
   ]
  },
  {
   "cell_type": "code",
   "execution_count": 42,
   "id": "45a2e4c1-883d-418a-ab72-c002bc15636d",
   "metadata": {},
   "outputs": [
    {
     "name": "stdout",
     "output_type": "stream",
     "text": [
      "Error processing verse: Parse this verse: וראה אתה הכהן והנה נהפך שער לבן בבהרת ומראה עמק מןהעור צרעת הוא במכוה פרחה וטמא אתו הכהן נגע צרעת הוא\n",
      "<html>\n",
      "<head><title>503 Service Temporarily Unavailable</title></head>\n",
      "<body>\n",
      "<center><h1>503 Service Temporarily Unavailable</h1></center>\n",
      "<hr><center>nginx</center>\n",
      "</body>\n",
      "</html>\n"
     ]
    },
    {
     "ename": "AttributeError",
     "evalue": "'NoneType' object has no attribute 'content'",
     "output_type": "error",
     "traceback": [
      "\u001b[1;31m---------------------------------------------------------------------------\u001b[0m",
      "\u001b[1;31mAttributeError\u001b[0m                            Traceback (most recent call last)",
      "Cell \u001b[1;32mIn[42], line 1\u001b[0m\n\u001b[1;32m----> 1\u001b[0m process_file(input_jsonl_file, output_jsonl_file)\n",
      "Cell \u001b[1;32mIn[40], line 28\u001b[0m, in \u001b[0;36mprocess_file\u001b[1;34m(input_file, output_file)\u001b[0m\n\u001b[0;32m     26\u001b[0m verse \u001b[38;5;241m=\u001b[39m data[\u001b[38;5;124m\"\u001b[39m\u001b[38;5;124mverse\u001b[39m\u001b[38;5;124m\"\u001b[39m]\n\u001b[0;32m     27\u001b[0m \u001b[38;5;28;01mwhile\u001b[39;00m \u001b[38;5;28;01mTrue\u001b[39;00m:\n\u001b[1;32m---> 28\u001b[0m     result \u001b[38;5;241m=\u001b[39m parse_verse(verse)\u001b[38;5;241m.\u001b[39mcontent\n\u001b[0;32m     29\u001b[0m     \u001b[38;5;28;01mif\u001b[39;00m result:\n\u001b[0;32m     30\u001b[0m         \u001b[38;5;28;01mbreak\u001b[39;00m\n",
      "\u001b[1;31mAttributeError\u001b[0m: 'NoneType' object has no attribute 'content'"
     ]
    }
   ],
   "source": [
    "process_file(input_jsonl_file, output_jsonl_file)"
   ]
  },
  {
   "cell_type": "code",
   "execution_count": null,
   "id": "6a43a682-107e-4896-9851-d81edba2572d",
   "metadata": {},
   "outputs": [],
   "source": []
  }
 ],
 "metadata": {
  "kernelspec": {
   "display_name": "Python 3 (ipykernel)",
   "language": "python",
   "name": "python3"
  },
  "language_info": {
   "codemirror_mode": {
    "name": "ipython",
    "version": 3
   },
   "file_extension": ".py",
   "mimetype": "text/x-python",
   "name": "python",
   "nbconvert_exporter": "python",
   "pygments_lexer": "ipython3",
   "version": "3.12.3"
  }
 },
 "nbformat": 4,
 "nbformat_minor": 5
}
