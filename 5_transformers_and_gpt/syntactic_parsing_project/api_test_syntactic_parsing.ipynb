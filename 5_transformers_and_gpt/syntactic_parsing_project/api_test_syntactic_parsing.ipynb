{
 "cells": [
  {
   "cell_type": "code",
   "execution_count": 1,
   "id": "5071aaec-d141-47d1-a375-aa603220439e",
   "metadata": {},
   "outputs": [],
   "source": [
    "from IPython.display import Markdown, display\n",
    "from openai import OpenAI\n",
    "import json\n",
    "import os\n",
    "from time import sleep"
   ]
  },
  {
   "cell_type": "code",
   "execution_count": 14,
   "id": "61765033-032f-4e6e-bf0a-d32babea9478",
   "metadata": {},
   "outputs": [],
   "source": [
    "client = OpenAI()\n",
    "small_dataset_model = \"ft:gpt-4o-mini-2024-07-18:researcher-access-university-of-copenhagen:random-small-dataset:AYDdDFb6\""
   ]
  },
  {
   "cell_type": "code",
   "execution_count": 15,
   "id": "2fdb1c90-f6ee-4fa2-afc3-629fbf0c9be8",
   "metadata": {},
   "outputs": [],
   "source": [
    "model_used= small_dataset_model"
   ]
  },
  {
   "cell_type": "code",
   "execution_count": 16,
   "id": "a89507da-13b2-4405-8459-82109757f47f",
   "metadata": {},
   "outputs": [],
   "source": [
    "# Create the system_prompt\n",
    "example_simple = \"\"\"User input: \"חזון ישעיהו בןאמוץ אשר חזה עליהודה וירושלם בימי עזיהו יותם אחז יחזקיהו מלכי יהודה\"\n",
    "Expected output: [\"חזון ישעיהו בןאמוץ\",\"אשר חזה עליהודה וירושלם בימי עזיהו יותם אחז יחזקיהו מלכי יהודה\"]\"\"\"\n",
    "\n",
    "example_complex = \"\"\"User input: \"יביא יהוה עליך ועלעמך ועלבית אביך ימים אשר לאבאו למיום סוראפרים מעל יהודה את מלך אשור פ\"\n",
    "Expected output: [\"יביא יהוה עליך ועלעמך ועלבית אביך ימים את מלך אשור פ\" ,\"אשר לאבאו למיום\" ,\"סוראפרים מעל יהודה\"]\"\"\"\n",
    "\n",
    "\n",
    "SYSTEM_PROMPT = f\"Identify clauses in this Biblical Hebrew verse and return a JSON list containing the clauses, as shown in the following examples. Do not write anything else than the JSON list in your output. Example 1 {example_simple} Example 2 {example_complex}\""
   ]
  },
  {
   "cell_type": "code",
   "execution_count": 17,
   "id": "f201d5bc-ee1e-428c-bff1-ebb7a7c38c65",
   "metadata": {},
   "outputs": [
    {
     "data": {
      "text/plain": [
       "'Identify clauses in this Biblical Hebrew verse and return a JSON list containing the clauses, as shown in the following examples. Do not write anything else than the JSON list in your output. Example 1 User input: \"חזון ישעיהו בןאמוץ אשר חזה עליהודה וירושלם בימי עזיהו יותם אחז יחזקיהו מלכי יהודה\"\\nExpected output: [\"חזון ישעיהו בןאמוץ\",\"אשר חזה עליהודה וירושלם בימי עזיהו יותם אחז יחזקיהו מלכי יהודה\"] Example 2 User input: \"יביא יהוה עליך ועלעמך ועלבית אביך ימים אשר לאבאו למיום סוראפרים מעל יהודה את מלך אשור פ\"\\nExpected output: [\"יביא יהוה עליך ועלעמך ועלבית אביך ימים את מלך אשור פ\" ,\"אשר לאבאו למיום\" ,\"סוראפרים מעל יהודה\"]'"
      ]
     },
     "execution_count": 17,
     "metadata": {},
     "output_type": "execute_result"
    }
   ],
   "source": [
    "SYSTEM_PROMPT"
   ]
  },
  {
   "cell_type": "code",
   "execution_count": 22,
   "id": "a39c3940-8b94-4b45-8412-c174f6902fd4",
   "metadata": {},
   "outputs": [],
   "source": [
    "# Functions\n",
    "\n",
    "def parse_verse (verse):\n",
    "    \"\"\"Send a request to the chosen OpenAI model to parse a Biblical Hebrew verse into clauses.\"\"\"\n",
    "    try:\n",
    "        response = client.chat.completions.create(\n",
    "            model=model_used,\n",
    "            messages=[\n",
    "                {\"role\": \"system\", \"content\": SYSTEM_PROMPT},\n",
    "                {\"role\": \"user\", \"content\": f\"{verse}\"}\n",
    "            ]\n",
    "        )\n",
    "        # Extract and return the response\n",
    "        \n",
    "        return response.choices[0].message\n",
    "    except Exception as e:\n",
    "        print(f\"Error processing verse: {verse}\")\n",
    "        print(e)\n",
    "        return None\n",
    "\n",
    "\n",
    "def process_file(input_file, output_file):\n",
    "    \"\"\"Read a JSONL file containing verses, process them and save results to another JSONL file.\"\"\"\n",
    "    with open(input_file, \"r\", encoding=\"utf-8\") as infile, open(output_file, \"w\", encoding=\"utf_8\") as outfile:\n",
    "        for line in infile:\n",
    "            data=json.loads(line)\n",
    "            verse = data[\"messages\"][1][\"content\"]\n",
    "            #print(verse)\n",
    "            while True:\n",
    "                result = parse_verse(verse).content\n",
    "                if result:\n",
    "                    break\n",
    "                else:\n",
    "                    sleep(5)\n",
    "                    print(\"Failed to call OpenAI. Retrying.\")\n",
    "            if result:\n",
    "                output = {\"verse\": verse, \"parsed_clauses\": result}\n",
    "                outfile.write(json.dumps(output, ensure_ascii=False) + \"\\n\")\n",
    "            \n",
    "            \n",
    "\n",
    "# Input and output files\n",
    "input_jsonl_file = \"data/fine_tuning_datasets/trial_1/validation_small.jsonl\"\n",
    "output_jsonl_file = \"data/fine_tuning_datasets/trial_1/model_outputs/output_validation_small.jsonl\""
   ]
  },
  {
   "cell_type": "code",
   "execution_count": 23,
   "id": "f3b74772-419e-4783-95b1-96b829fe6760",
   "metadata": {},
   "outputs": [
    {
     "data": {
      "text/plain": [
       "ChatCompletionMessage(content='[\"Tralala\"]', refusal=None, role='assistant', audio=None, function_call=None, tool_calls=None)"
      ]
     },
     "execution_count": 23,
     "metadata": {},
     "output_type": "execute_result"
    }
   ],
   "source": [
    "parse_verse(\"Tralala\")"
   ]
  },
  {
   "cell_type": "code",
   "execution_count": 24,
   "id": "45a2e4c1-883d-418a-ab72-c002bc15636d",
   "metadata": {},
   "outputs": [],
   "source": [
    "process_file(input_jsonl_file, output_jsonl_file)"
   ]
  },
  {
   "cell_type": "code",
   "execution_count": null,
   "id": "6a43a682-107e-4896-9851-d81edba2572d",
   "metadata": {},
   "outputs": [],
   "source": []
  },
  {
   "cell_type": "code",
   "execution_count": null,
   "id": "1f3be31e-292f-41bc-b85b-9ee8577135e0",
   "metadata": {},
   "outputs": [],
   "source": []
  }
 ],
 "metadata": {
  "kernelspec": {
   "display_name": "Python 3 (ipykernel)",
   "language": "python",
   "name": "python3"
  },
  "language_info": {
   "codemirror_mode": {
    "name": "ipython",
    "version": 3
   },
   "file_extension": ".py",
   "mimetype": "text/x-python",
   "name": "python",
   "nbconvert_exporter": "python",
   "pygments_lexer": "ipython3",
   "version": "3.11.5"
  }
 },
 "nbformat": 4,
 "nbformat_minor": 5
}
