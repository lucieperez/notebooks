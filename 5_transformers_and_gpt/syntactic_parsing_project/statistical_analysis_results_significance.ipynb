{
 "cells": [
  {
   "cell_type": "code",
   "execution_count": 3,
   "id": "313d4e5e-cda8-4152-8aa6-6e66a42e9357",
   "metadata": {},
   "outputs": [],
   "source": [
    "from scipy.stats import norm\n",
    "import numpy as np"
   ]
  },
  {
   "cell_type": "code",
   "execution_count": 4,
   "id": "d10a4e7b-df3e-4391-9343-ecb64d0652da",
   "metadata": {},
   "outputs": [
    {
     "name": "stdout",
     "output_type": "stream",
     "text": [
      "Model 1 Accuracy: 0.3742\n",
      "Model 2 Accuracy: 0.3986\n",
      "z-score: -3.5797\n",
      "p-value: 0.0003\n"
     ]
    }
   ],
   "source": [
    "# GPT-4o mini: 3818 correct out of 10204\n",
    "# GPT-4o: 4067 correct out of 10204\n",
    "\n",
    "success_a, n_a = 3818, 10204\n",
    "success_b, n_b = 4067, 10204\n",
    "\n",
    "# Proportions\n",
    "p1 = success_a / n_a\n",
    "p2 = success_b / n_b\n",
    "\n",
    "# Pooled proportion\n",
    "p_pool = (success_a + success_b) / (n_a + n_b)\n",
    "\n",
    "# Standard error\n",
    "se = np.sqrt(p_pool * (1 - p_pool) * (1/n_a + 1/n_b))\n",
    "\n",
    "# Z-score\n",
    "z = (p1 - p2) / se\n",
    "\n",
    "# Two-tailed p-value\n",
    "p_value = 2 * (1 - norm.cdf(abs(z)))\n",
    "\n",
    "print(f\"Model 1 Accuracy: {p1:.4f}\")\n",
    "print(f\"Model 2 Accuracy: {p2:.4f}\")\n",
    "print(f\"z-score: {z:.4f}\")\n",
    "print(f\"p-value: {p_value:.4f}\")"
   ]
  },
  {
   "cell_type": "code",
   "execution_count": null,
   "id": "130d95cd-ea49-4567-beb3-77e497e0e4c5",
   "metadata": {},
   "outputs": [],
   "source": []
  }
 ],
 "metadata": {
  "kernelspec": {
   "display_name": "Python 3 (ipykernel)",
   "language": "python",
   "name": "python3"
  },
  "language_info": {
   "codemirror_mode": {
    "name": "ipython",
    "version": 3
   },
   "file_extension": ".py",
   "mimetype": "text/x-python",
   "name": "python",
   "nbconvert_exporter": "python",
   "pygments_lexer": "ipython3",
   "version": "3.9.16"
  }
 },
 "nbformat": 4,
 "nbformat_minor": 5
}
