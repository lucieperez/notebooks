{
 "cells": [
  {
   "cell_type": "code",
   "execution_count": 8,
   "id": "643c7f58-2e02-42d0-afa3-5ed576d509de",
   "metadata": {},
   "outputs": [],
   "source": [
    "from openai import OpenAI"
   ]
  },
  {
   "cell_type": "code",
   "execution_count": 9,
   "id": "67475490-cccd-4f28-acd0-668e84c77a39",
   "metadata": {},
   "outputs": [],
   "source": [
    "client = OpenAI()"
   ]
  },
  {
   "cell_type": "code",
   "execution_count": 11,
   "id": "a47625e4-4554-4fd6-adcc-66e4a8564311",
   "metadata": {},
   "outputs": [
    {
     "data": {
      "text/plain": [
       "FineTuningJob(id='ftjob-vdhOVyhFZLWDirSJ6JvgrQd5', created_at=1732718373, error=Error(code=None, message=None, param=None), fine_tuned_model=None, finished_at=None, hyperparameters=Hyperparameters(n_epochs='auto', batch_size='auto', learning_rate_multiplier='auto'), model='gpt-4o-mini-2024-07-18', object='fine_tuning.job', organization_id='org-r8BiyqLNAbBrdccvP6uExObo', result_files=[], seed=1, status='validating_files', trained_tokens=None, training_file='file-Un6DBth6KU4mPhiDeDytnD', validation_file='file-C3461paCa7e76833L7eS62', estimated_finish=None, integrations=[], user_provided_suffix='random_small_dataset')"
      ]
     },
     "execution_count": 11,
     "metadata": {},
     "output_type": "execute_result"
    }
   ],
   "source": [
    "client.fine_tuning.jobs.create(\n",
    "    training_file=\"file-Un6DBth6KU4mPhiDeDytnD\",\n",
    "    suffix=\"random_small_dataset\",\n",
    "    validation_file=\"file-C3461paCa7e76833L7eS62\",\n",
    "    model=\"gpt-4o-mini-2024-07-18\",\n",
    "    seed=1,\n",
    ")"
   ]
  },
  {
   "cell_type": "code",
   "execution_count": 12,
   "id": "2e397cb4-87ee-4fd0-9791-377ec950d125",
   "metadata": {},
   "outputs": [
    {
     "data": {
      "text/plain": [
       "FineTuningJob(id='ftjob-Cnt4UvD7oIhnbudaMfovTDT5', created_at=1732718816, error=Error(code=None, message=None, param=None), fine_tuned_model=None, finished_at=None, hyperparameters=Hyperparameters(n_epochs='auto', batch_size='auto', learning_rate_multiplier='auto'), model='gpt-4o-mini-2024-07-18', object='fine_tuning.job', organization_id='org-r8BiyqLNAbBrdccvP6uExObo', result_files=[], seed=1, status='validating_files', trained_tokens=None, training_file='file-7qEdpoeu9fLgJQxHXa3Dgg', validation_file='file-W9AtR53aUYV2HmcNtPe1ot', estimated_finish=None, integrations=[], user_provided_suffix='random_medium_dataset')"
      ]
     },
     "execution_count": 12,
     "metadata": {},
     "output_type": "execute_result"
    }
   ],
   "source": [
    "client.fine_tuning.jobs.create(\n",
    "    training_file=\"file-7qEdpoeu9fLgJQxHXa3Dgg\",\n",
    "    suffix=\"random_medium_dataset\",\n",
    "    validation_file=\"file-W9AtR53aUYV2HmcNtPe1ot\",\n",
    "    model=\"gpt-4o-mini-2024-07-18\",\n",
    "    seed=1,\n",
    ")"
   ]
  },
  {
   "cell_type": "code",
   "execution_count": 13,
   "id": "acb27d84-991d-42ca-896f-74ae5507ed8c",
   "metadata": {},
   "outputs": [
    {
     "data": {
      "text/plain": [
       "FineTuningJob(id='ftjob-CQJMVHBTGvgJx9KX76gKQxSM', created_at=1732718873, error=Error(code=None, message=None, param=None), fine_tuned_model=None, finished_at=None, hyperparameters=Hyperparameters(n_epochs='auto', batch_size='auto', learning_rate_multiplier='auto'), model='gpt-4o-mini-2024-07-18', object='fine_tuning.job', organization_id='org-r8BiyqLNAbBrdccvP6uExObo', result_files=[], seed=1, status='validating_files', trained_tokens=None, training_file='file-MKJKJffdBmFHvWjLTVp7yM', validation_file='file-YV7YP4tuu8Mx7Z9ZmH1Qdr', estimated_finish=None, integrations=[], user_provided_suffix='random_large_dataset')"
      ]
     },
     "execution_count": 13,
     "metadata": {},
     "output_type": "execute_result"
    }
   ],
   "source": [
    "client.fine_tuning.jobs.create(\n",
    "    training_file=\"file-MKJKJffdBmFHvWjLTVp7yM\",\n",
    "    suffix=\"random_large_dataset\",\n",
    "    validation_file=\"file-YV7YP4tuu8Mx7Z9ZmH1Qdr\",\n",
    "    model=\"gpt-4o-mini-2024-07-18\",\n",
    "    seed=1,\n",
    ")"
   ]
  },
  {
   "cell_type": "code",
   "execution_count": null,
   "id": "91f14064-3e31-4b77-bdbc-07ce09d3a83b",
   "metadata": {},
   "outputs": [],
   "source": []
  }
 ],
 "metadata": {
  "kernelspec": {
   "display_name": "Python 3 (ipykernel)",
   "language": "python",
   "name": "python3"
  },
  "language_info": {
   "codemirror_mode": {
    "name": "ipython",
    "version": 3
   },
   "file_extension": ".py",
   "mimetype": "text/x-python",
   "name": "python",
   "nbconvert_exporter": "python",
   "pygments_lexer": "ipython3",
   "version": "3.12.3"
  }
 },
 "nbformat": 4,
 "nbformat_minor": 5
}
