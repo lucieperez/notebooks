{
 "cells": [
  {
   "cell_type": "code",
   "execution_count": 18,
   "id": "643c7f58-2e02-42d0-afa3-5ed576d509de",
   "metadata": {},
   "outputs": [],
   "source": [
    "from openai import OpenAI"
   ]
  },
  {
   "cell_type": "code",
   "execution_count": 19,
   "id": "67475490-cccd-4f28-acd0-668e84c77a39",
   "metadata": {},
   "outputs": [],
   "source": [
    "client = OpenAI()"
   ]
  },
  {
   "cell_type": "code",
   "execution_count": 20,
   "id": "2bdc443c-ecc9-403f-a918-a4fc23037870",
   "metadata": {},
   "outputs": [],
   "source": [
    "gpt_4o = \"gpt-4o-2024-08-06\""
   ]
  },
  {
   "cell_type": "code",
   "execution_count": 23,
   "id": "e628b7d4-8406-492c-98eb-5e92df1c8966",
   "metadata": {},
   "outputs": [],
   "source": [
    "large_training_file = \"file-MKJKJffdBmFHvWjLTVp7yM\"\n",
    "large_validation_file = \"file-YV7YP4tuu8Mx7Z9ZmH1Qdr\"\n",
    "\n",
    "medium_training_file = \"file-7qEdpoeu9fLgJQxHXa3Dgg\"\n",
    "medium_validation_file = \"file-W9AtR53aUYV2HmcNtPe1ot\"\n",
    "\n",
    "small_training_file = \"file-Un6DBth6KU4mPhiDeDytnD\"\n",
    "small_validation_file = \"file-C3461paCa7e76833L7eS62\""
   ]
  },
  {
   "cell_type": "code",
   "execution_count": 22,
   "id": "a47625e4-4554-4fd6-adcc-66e4a8564311",
   "metadata": {},
   "outputs": [
    {
     "data": {
      "text/plain": [
       "FineTuningJob(id='ftjob-oHPxi6KteIPAW56gAjASXO8f', created_at=1732975801, error=Error(code=None, message=None, param=None), fine_tuned_model=None, finished_at=None, hyperparameters=Hyperparameters(n_epochs=3, batch_size='auto', learning_rate_multiplier='auto'), model='gpt-4o-2024-08-06', object='fine_tuning.job', organization_id='org-r8BiyqLNAbBrdccvP6uExObo', result_files=[], seed=1, status='validating_files', trained_tokens=None, training_file='file-7qEdpoeu9fLgJQxHXa3Dgg', validation_file='file-W9AtR53aUYV2HmcNtPe1ot', estimated_finish=None, integrations=[], user_provided_suffix='4o-medium-full-syntax')"
      ]
     },
     "execution_count": 22,
     "metadata": {},
     "output_type": "execute_result"
    }
   ],
   "source": [
    "# Fine tuning a gpt-40 model on a medium full syntax dataset\n",
    "\n",
    "client.fine_tuning.jobs.create(\n",
    "    training_file=medium_training_file,\n",
    "    suffix=\"4o-medium-full-syntax\",\n",
    "    validation_file=medium_validation_file,\n",
    "    model=gpt_4o,\n",
    "    seed=1,\n",
    "    hyperparameters={\"n_epochs\": 3},\n",
    ")"
   ]
  },
  {
   "cell_type": "code",
   "execution_count": 25,
   "id": "2e397cb4-87ee-4fd0-9791-377ec950d125",
   "metadata": {},
   "outputs": [
    {
     "data": {
      "text/plain": [
       "FineTuningJob(id='ftjob-WGD3ffx0Pt2EjqBpGYPBZtkH', created_at=1732977022, error=Error(code=None, message=None, param=None), fine_tuned_model=None, finished_at=None, hyperparameters=Hyperparameters(n_epochs='auto', batch_size='auto', learning_rate_multiplier='auto'), model='gpt-4o-2024-08-06', object='fine_tuning.job', organization_id='org-r8BiyqLNAbBrdccvP6uExObo', result_files=[], seed=1, status='validating_files', trained_tokens=None, training_file='file-Un6DBth6KU4mPhiDeDytnD', validation_file='file-C3461paCa7e76833L7eS62', estimated_finish=None, integrations=[], user_provided_suffix='4o-small-full-syntax2')"
      ]
     },
     "execution_count": 25,
     "metadata": {},
     "output_type": "execute_result"
    }
   ],
   "source": [
    "#  Fine tuning a gpt-4o model on a small full syntax dataset\n",
    "\n",
    "client.fine_tuning.jobs.create(\n",
    "    training_file=small_training_file,\n",
    "    suffix=\"4o-small-full-syntax2\",\n",
    "    validation_file=small_validation_file,\n",
    "    model=gpt_4o,\n",
    "    seed=1,\n",
    ")"
   ]
  },
  {
   "cell_type": "code",
   "execution_count": 6,
   "id": "acb27d84-991d-42ca-896f-74ae5507ed8c",
   "metadata": {},
   "outputs": [
    {
     "data": {
      "text/plain": [
       "FineTuningJob(id='ftjob-z12xkqkbdoKD0bq0Qs5vA57r', created_at=1732791702, error=Error(code=None, message=None, param=None), fine_tuned_model=None, finished_at=None, hyperparameters=Hyperparameters(n_epochs='auto', batch_size='auto', learning_rate_multiplier='auto'), model='gpt-4o-mini-2024-07-18', object='fine_tuning.job', organization_id='org-r8BiyqLNAbBrdccvP6uExObo', result_files=[], seed=1, status='validating_files', trained_tokens=None, training_file='file-WSizPRvs3eP3n8SnPej51x', validation_file='file-H2cxx7UFvu53cSgVUPUBZK', estimated_finish=None, integrations=[], user_provided_suffix='simple_large_dataset')"
      ]
     },
     "execution_count": 6,
     "metadata": {},
     "output_type": "execute_result"
    }
   ],
   "source": [
    "# Fine tuning on large size dataset\n",
    "\n",
    "client.fine_tuning.jobs.create(\n",
    "    training_file=\"file-WSizPRvs3eP3n8SnPej51x\",\n",
    "    suffix=\"simple_large_dataset\",\n",
    "    validation_file=\"file-H2cxx7UFvu53cSgVUPUBZK\",\n",
    "    model=\"gpt-4o-mini-2024-07-18\",\n",
    "    seed=1,\n",
    ")"
   ]
  },
  {
   "cell_type": "code",
   "execution_count": 10,
   "id": "91f14064-3e31-4b77-bdbc-07ce09d3a83b",
   "metadata": {},
   "outputs": [
    {
     "data": {
      "text/plain": [
       "FineTuningJob(id='ftjob-IrtZZUck8Pk1SlT7AFUiiqBB', created_at=1732792194, error=Error(code=None, message=None, param=None), fine_tuned_model=None, finished_at=None, hyperparameters=Hyperparameters(n_epochs=2, batch_size='auto', learning_rate_multiplier='auto'), model='gpt-4o-mini-2024-07-18', object='fine_tuning.job', organization_id='org-r8BiyqLNAbBrdccvP6uExObo', result_files=[], seed=1, status='validating_files', trained_tokens=None, training_file='file-MKJKJffdBmFHvWjLTVp7yM', validation_file='file-YV7YP4tuu8Mx7Z9ZmH1Qdr', estimated_finish=None, integrations=[], user_provided_suffix='large_dataset_2_epochs')"
      ]
     },
     "execution_count": 10,
     "metadata": {},
     "output_type": "execute_result"
    }
   ],
   "source": [
    "# Fine tuning large dataset 2 epochs\n",
    "\n",
    "client.fine_tuning.jobs.create(\n",
    "    training_file=\"file-MKJKJffdBmFHvWjLTVp7yM\",\n",
    "    suffix=\"large_dataset_2_epochs\",\n",
    "    validation_file=\"file-YV7YP4tuu8Mx7Z9ZmH1Qdr\",\n",
    "    model=\"gpt-4o-mini-2024-07-18\",\n",
    "    seed=1,\n",
    "    hyperparameters={\"n_epochs\": 2},\n",
    ")"
   ]
  },
  {
   "cell_type": "code",
   "execution_count": 11,
   "id": "969a7038-9aef-4f56-a53f-310caa0417c3",
   "metadata": {},
   "outputs": [],
   "source": [
    "#client.fine_tuning.jobs.create?"
   ]
  },
  {
   "cell_type": "code",
   "execution_count": null,
   "id": "c93fde1e-bba4-4fb5-bcf5-480a20471739",
   "metadata": {},
   "outputs": [],
   "source": []
  }
 ],
 "metadata": {
  "kernelspec": {
   "display_name": "Python 3 (ipykernel)",
   "language": "python",
   "name": "python3"
  },
  "language_info": {
   "codemirror_mode": {
    "name": "ipython",
    "version": 3
   },
   "file_extension": ".py",
   "mimetype": "text/x-python",
   "name": "python",
   "nbconvert_exporter": "python",
   "pygments_lexer": "ipython3",
   "version": "3.12.3"
  }
 },
 "nbformat": 4,
 "nbformat_minor": 5
}
