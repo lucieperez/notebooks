{
 "cells": [
  {
   "cell_type": "code",
   "execution_count": 2,
   "id": "643c7f58-2e02-42d0-afa3-5ed576d509de",
   "metadata": {},
   "outputs": [],
   "source": [
    "from openai import OpenAI"
   ]
  },
  {
   "cell_type": "code",
   "execution_count": 3,
   "id": "67475490-cccd-4f28-acd0-668e84c77a39",
   "metadata": {},
   "outputs": [],
   "source": [
    "client = OpenAI()"
   ]
  },
  {
   "cell_type": "code",
   "execution_count": 4,
   "id": "a47625e4-4554-4fd6-adcc-66e4a8564311",
   "metadata": {},
   "outputs": [
    {
     "data": {
      "text/plain": [
       "FineTuningJob(id='ftjob-2kqxYjDLWfGNLT3fCLG9SjMl', created_at=1732791611, error=Error(code=None, message=None, param=None), fine_tuned_model=None, finished_at=None, hyperparameters=Hyperparameters(n_epochs='auto', batch_size='auto', learning_rate_multiplier='auto'), model='gpt-4o-mini-2024-07-18', object='fine_tuning.job', organization_id='org-r8BiyqLNAbBrdccvP6uExObo', result_files=[], seed=1, status='validating_files', trained_tokens=None, training_file='file-5X4TbVWFjEDC3XNwtanZwp', validation_file='file-HUbPUP5zuTwYnaqZXkoLVb', estimated_finish=None, integrations=[], user_provided_suffix='simple_small_dataset')"
      ]
     },
     "execution_count": 4,
     "metadata": {},
     "output_type": "execute_result"
    }
   ],
   "source": [
    "# Fine tuning on small size dataset\n",
    "\n",
    "client.fine_tuning.jobs.create(\n",
    "    training_file=\"file-5X4TbVWFjEDC3XNwtanZwp\",\n",
    "    suffix=\"simple_small_dataset\",\n",
    "    validation_file=\"file-HUbPUP5zuTwYnaqZXkoLVb\",\n",
    "    model=\"gpt-4o-mini-2024-07-18\",\n",
    "    seed=1,\n",
    ")"
   ]
  },
  {
   "cell_type": "code",
   "execution_count": 5,
   "id": "2e397cb4-87ee-4fd0-9791-377ec950d125",
   "metadata": {},
   "outputs": [
    {
     "data": {
      "text/plain": [
       "FineTuningJob(id='ftjob-BGo7tMl61hv8xIfzHR4HDbLm', created_at=1732791645, error=Error(code=None, message=None, param=None), fine_tuned_model=None, finished_at=None, hyperparameters=Hyperparameters(n_epochs='auto', batch_size='auto', learning_rate_multiplier='auto'), model='gpt-4o-mini-2024-07-18', object='fine_tuning.job', organization_id='org-r8BiyqLNAbBrdccvP6uExObo', result_files=[], seed=1, status='validating_files', trained_tokens=None, training_file='file-LMaDR4xbFXmzAZibpnUDYR', validation_file='file-3TnZrZt6vdMBkdt4DvfMbJ', estimated_finish=None, integrations=[], user_provided_suffix='simple_medium_dataset')"
      ]
     },
     "execution_count": 5,
     "metadata": {},
     "output_type": "execute_result"
    }
   ],
   "source": [
    "# Fine tuning on medium size dataset\n",
    "\n",
    "client.fine_tuning.jobs.create(\n",
    "    training_file=\"file-LMaDR4xbFXmzAZibpnUDYR\",\n",
    "    suffix=\"simple_medium_dataset\",\n",
    "    validation_file=\"file-3TnZrZt6vdMBkdt4DvfMbJ\",\n",
    "    model=\"gpt-4o-mini-2024-07-18\",\n",
    "    seed=1,\n",
    ")"
   ]
  },
  {
   "cell_type": "code",
   "execution_count": 6,
   "id": "acb27d84-991d-42ca-896f-74ae5507ed8c",
   "metadata": {},
   "outputs": [
    {
     "data": {
      "text/plain": [
       "FineTuningJob(id='ftjob-z12xkqkbdoKD0bq0Qs5vA57r', created_at=1732791702, error=Error(code=None, message=None, param=None), fine_tuned_model=None, finished_at=None, hyperparameters=Hyperparameters(n_epochs='auto', batch_size='auto', learning_rate_multiplier='auto'), model='gpt-4o-mini-2024-07-18', object='fine_tuning.job', organization_id='org-r8BiyqLNAbBrdccvP6uExObo', result_files=[], seed=1, status='validating_files', trained_tokens=None, training_file='file-WSizPRvs3eP3n8SnPej51x', validation_file='file-H2cxx7UFvu53cSgVUPUBZK', estimated_finish=None, integrations=[], user_provided_suffix='simple_large_dataset')"
      ]
     },
     "execution_count": 6,
     "metadata": {},
     "output_type": "execute_result"
    }
   ],
   "source": [
    "# Fine tuning on large size dataset\n",
    "\n",
    "client.fine_tuning.jobs.create(\n",
    "    training_file=\"file-WSizPRvs3eP3n8SnPej51x\",\n",
    "    suffix=\"simple_large_dataset\",\n",
    "    validation_file=\"file-H2cxx7UFvu53cSgVUPUBZK\",\n",
    "    model=\"gpt-4o-mini-2024-07-18\",\n",
    "    seed=1,\n",
    ")"
   ]
  },
  {
   "cell_type": "code",
   "execution_count": 10,
   "id": "91f14064-3e31-4b77-bdbc-07ce09d3a83b",
   "metadata": {},
   "outputs": [
    {
     "data": {
      "text/plain": [
       "FineTuningJob(id='ftjob-IrtZZUck8Pk1SlT7AFUiiqBB', created_at=1732792194, error=Error(code=None, message=None, param=None), fine_tuned_model=None, finished_at=None, hyperparameters=Hyperparameters(n_epochs=2, batch_size='auto', learning_rate_multiplier='auto'), model='gpt-4o-mini-2024-07-18', object='fine_tuning.job', organization_id='org-r8BiyqLNAbBrdccvP6uExObo', result_files=[], seed=1, status='validating_files', trained_tokens=None, training_file='file-MKJKJffdBmFHvWjLTVp7yM', validation_file='file-YV7YP4tuu8Mx7Z9ZmH1Qdr', estimated_finish=None, integrations=[], user_provided_suffix='large_dataset_2_epochs')"
      ]
     },
     "execution_count": 10,
     "metadata": {},
     "output_type": "execute_result"
    }
   ],
   "source": [
    "# Fine tuning large dataset 2 epochs\n",
    "\n",
    "client.fine_tuning.jobs.create(\n",
    "    training_file=\"file-MKJKJffdBmFHvWjLTVp7yM\",\n",
    "    suffix=\"large_dataset_2_epochs\",\n",
    "    validation_file=\"file-YV7YP4tuu8Mx7Z9ZmH1Qdr\",\n",
    "    model=\"gpt-4o-mini-2024-07-18\",\n",
    "    seed=1,\n",
    "    hyperparameters={\"n_epochs\": 2},\n",
    ")"
   ]
  },
  {
   "cell_type": "code",
   "execution_count": 11,
   "id": "969a7038-9aef-4f56-a53f-310caa0417c3",
   "metadata": {},
   "outputs": [],
   "source": [
    "#client.fine_tuning.jobs.create?"
   ]
  },
  {
   "cell_type": "code",
   "execution_count": null,
   "id": "c93fde1e-bba4-4fb5-bcf5-480a20471739",
   "metadata": {},
   "outputs": [],
   "source": []
  }
 ],
 "metadata": {
  "kernelspec": {
   "display_name": "Python 3 (ipykernel)",
   "language": "python",
   "name": "python3"
  },
  "language_info": {
   "codemirror_mode": {
    "name": "ipython",
    "version": 3
   },
   "file_extension": ".py",
   "mimetype": "text/x-python",
   "name": "python",
   "nbconvert_exporter": "python",
   "pygments_lexer": "ipython3",
   "version": "3.12.3"
  }
 },
 "nbformat": 4,
 "nbformat_minor": 5
}
