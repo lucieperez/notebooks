{
 "cells": [
  {
   "cell_type": "code",
   "execution_count": 4,
   "id": "79bced26-7c33-4c6c-9449-e7e6d0256691",
   "metadata": {},
   "outputs": [],
   "source": [
    "from openai import OpenAI\n",
    "import os"
   ]
  },
  {
   "cell_type": "code",
   "execution_count": 7,
   "id": "f0a3ba38-ab62-4009-b285-1886ae0f6262",
   "metadata": {},
   "outputs": [],
   "source": [
    "client = OpenAI()"
   ]
  },
  {
   "cell_type": "code",
   "execution_count": 10,
   "id": "10fd5e9e-8279-4793-858d-00993621fa8e",
   "metadata": {},
   "outputs": [],
   "source": [
    "# Create the system_prompt\n",
    "example_simple = \"\"\"User input: \"חזון ישעיהו בןאמוץ אשר חזה עליהודה וירושלם בימי עזיהו יותם אחז יחזקיהו מלכי יהודה\"\n",
    "Expected output: [\"חזון ישעיהו בןאמוץ\",\"אשר חזה עליהודה וירושלם בימי עזיהו יותם אחז יחזקיהו מלכי יהודה\"]\"\"\"\n",
    "\n",
    "example_complex = \"\"\"User input: \"יביא יהוה עליך ועלעמך ועלבית אביך ימים אשר לאבאו למיום סוראפרים מעל יהודה את מלך אשור פ\"\n",
    "Expected output: [\"יביא יהוה עליך ועלעמך ועלבית אביך ימים את מלך אשור פ\" ,\"אשר לאבאו למיום\" ,\"סוראפרים מעל יהודה\"]\"\"\"\n",
    "\n",
    "\n",
    "SYSTEM_PROMPT = f\"Identify clauses in this Biblical Hebrew verse and return a JSON list containing the clauses, as shown in the following examples. Do not write anything else than the JSON list in your output. Example 1 {example_simple} Example 2 {example_complex}\""
   ]
  },
  {
   "cell_type": "code",
   "execution_count": 11,
   "id": "a010524e-11cf-4168-821a-8e440b96ace3",
   "metadata": {},
   "outputs": [],
   "source": [
    "USER_INPUT = \"Parse this verse: כלהמנחה אשר תקריבו ליהוה לא תעשה חמץ כי כלשאר וכלדבש לאתקטירו ממנו אשה ליהוה\""
   ]
  },
  {
   "cell_type": "code",
   "execution_count": 12,
   "id": "97134f4f-cc40-4401-8881-482b2995426d",
   "metadata": {},
   "outputs": [
    {
     "name": "stdout",
     "output_type": "stream",
     "text": [
      "ChatCompletionMessage(content='[\"כלהמנחה לא תעשה חמץ\", \"אשר תקריבו ליהוה\", \"כי כלשאר וכלדבש לאתקטירו ממנו אשה ליהוה\"]', refusal=None, role='assistant', audio=None, function_call=None, tool_calls=None)\n"
     ]
    }
   ],
   "source": [
    "completion = client.chat.completions.create(\n",
    "  model=\"ft:gpt-4o-mini-2024-07-18:researcher-access-university-of-copenhagen:syntactic-parsing-small-dataset-fine-tuning:AY962Eja\",\n",
    "  messages=[\n",
    "    {\"role\": \"system\", \"content\": SYSTEM_PROMPT},\n",
    "    {\"role\": \"user\", \"content\": USER_INPUT}\n",
    "  ]\n",
    ")\n",
    "print(completion.choices[0].message)"
   ]
  },
  {
   "cell_type": "raw",
   "id": "9990c7b6-dc58-444a-b29c-900153a0c67e",
   "metadata": {},
   "source": [
    "{\"role\": \"user\", \"content\": \"Parse this verse: כלהמנחה אשר תקריבו ליהוה לא תעשה חמץ כי כלשאר וכלדבש לאתקטירו ממנו אשה ליהוה\"}, \n",
    "{\"role\": \"assistant\", \"content\": \"[\\\"כלהמנחה לא תעשה חמץ\\\", \\\"אשר תקריבו ליהוה\\\", \\\"כי כלשאר וכלדבש\\\", \\\"לאתקטירו ממנו אשה ליהוה\\\"]\"}]}"
   ]
  }
 ],
 "metadata": {
  "kernelspec": {
   "display_name": "Python 3 (ipykernel)",
   "language": "python",
   "name": "python3"
  },
  "language_info": {
   "codemirror_mode": {
    "name": "ipython",
    "version": 3
   },
   "file_extension": ".py",
   "mimetype": "text/x-python",
   "name": "python",
   "nbconvert_exporter": "python",
   "pygments_lexer": "ipython3",
   "version": "3.12.3"
  }
 },
 "nbformat": 4,
 "nbformat_minor": 5
}
