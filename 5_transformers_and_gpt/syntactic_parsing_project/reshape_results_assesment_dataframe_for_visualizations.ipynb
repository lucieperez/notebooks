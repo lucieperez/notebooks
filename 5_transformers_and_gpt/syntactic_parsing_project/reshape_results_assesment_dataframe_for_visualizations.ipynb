{
 "cells": [
  {
   "cell_type": "code",
   "execution_count": 18,
   "id": "2e9ffdaa-2758-4f94-8a97-0894b89fb2e8",
   "metadata": {},
   "outputs": [],
   "source": [
    "import pandas as pd\n",
    "import numpy as np"
   ]
  },
  {
   "cell_type": "code",
   "execution_count": 19,
   "id": "cca1720c-8dbd-4afa-ab34-ee42f85f2928",
   "metadata": {},
   "outputs": [],
   "source": [
    "pd.set_option(\"display.max_rows\", None)\n",
    "pd.set_option(\"display.max_columns\", None)\n",
    "pd.set_option(\"display.max_colwidth\", None)"
   ]
  },
  {
   "cell_type": "code",
   "execution_count": 20,
   "id": "8c753531-c678-44de-9cfd-dadaddfd62ea",
   "metadata": {},
   "outputs": [],
   "source": [
    "df1 = pd.read_csv(\"data/all_models_metrics_for_paper.csv\").fillna(\"\")"
   ]
  },
  {
   "cell_type": "code",
   "execution_count": 21,
   "id": "41286a23-8bbf-4062-bd6a-4098a1485917",
   "metadata": {},
   "outputs": [],
   "source": [
    "df1[\"model_temp\"] = df1[\"model\"] + \" (T=\" + df1[\"temperature\"].astype(str) + \")\""
   ]
  },
  {
   "cell_type": "code",
   "execution_count": 22,
   "id": "87c0c71e-04ed-48d2-907f-41ab3c505ae6",
   "metadata": {},
   "outputs": [
    {
     "data": {
      "text/plain": [
       "Index(['model', 'dataset_size', 'temperature', 'fine_tuned', 'total_clauses',\n",
       "       'total_found', 'total_cut_clauses', 'total_embedded', 'found_embedded',\n",
       "       'total_non_embedded', 'found_non_embedded', 'found_cut_clauses',\n",
       "       'total_other_clauses', 'found_other_clauses', 'total_non_cut_clauses',\n",
       "       'found_non_cut_clauses', 'total_verses', 'correct_verses',\n",
       "       'simple_correct', 'complex_correct', 'total_simple_clauses',\n",
       "       'total_simple_found', 'total_complex_clauses', 'total_complex_found',\n",
       "       'model_temp'],\n",
       "      dtype='object')"
      ]
     },
     "execution_count": 22,
     "metadata": {},
     "output_type": "execute_result"
    }
   ],
   "source": [
    "df1.columns"
   ]
  },
  {
   "cell_type": "code",
   "execution_count": 23,
   "id": "1807b2a9-734c-4277-8d70-b9c840624533",
   "metadata": {},
   "outputs": [],
   "source": [
    "df2 = pd.read_csv(\"data/clause_number_results_assessment.csv\")"
   ]
  },
  {
   "cell_type": "code",
   "execution_count": 24,
   "id": "d5e0629e-3e53-4297-946d-e08dd10fa7d2",
   "metadata": {},
   "outputs": [
    {
     "data": {
      "text/html": [
       "<div>\n",
       "<style scoped>\n",
       "    .dataframe tbody tr th:only-of-type {\n",
       "        vertical-align: middle;\n",
       "    }\n",
       "\n",
       "    .dataframe tbody tr th {\n",
       "        vertical-align: top;\n",
       "    }\n",
       "\n",
       "    .dataframe thead th {\n",
       "        text-align: right;\n",
       "    }\n",
       "</style>\n",
       "<table border=\"1\" class=\"dataframe\">\n",
       "  <thead>\n",
       "    <tr style=\"text-align: right;\">\n",
       "      <th></th>\n",
       "      <th>model</th>\n",
       "      <th>dataset_size</th>\n",
       "      <th>temperature</th>\n",
       "      <th>fine_tuned</th>\n",
       "      <th>total_clauses</th>\n",
       "      <th>total_found</th>\n",
       "      <th>total_cut_clauses</th>\n",
       "      <th>total_embedded</th>\n",
       "      <th>found_embedded</th>\n",
       "      <th>total_non_embedded</th>\n",
       "      <th>found_non_embedded</th>\n",
       "      <th>found_cut_clauses</th>\n",
       "      <th>total_other_clauses</th>\n",
       "      <th>found_other_clauses</th>\n",
       "      <th>total_non_cut_clauses</th>\n",
       "      <th>found_non_cut_clauses</th>\n",
       "      <th>total_verses</th>\n",
       "      <th>correct_verses</th>\n",
       "      <th>simple_correct</th>\n",
       "      <th>complex_correct</th>\n",
       "      <th>total_simple_clauses</th>\n",
       "      <th>total_simple_found</th>\n",
       "      <th>total_complex_clauses</th>\n",
       "      <th>total_complex_found</th>\n",
       "      <th>model_temp</th>\n",
       "    </tr>\n",
       "  </thead>\n",
       "  <tbody>\n",
       "    <tr>\n",
       "      <th>0</th>\n",
       "      <td>GPT-4o mini</td>\n",
       "      <td>medium</td>\n",
       "      <td>0</td>\n",
       "      <td>no</td>\n",
       "      <td>3827</td>\n",
       "      <td>1444</td>\n",
       "      <td>114</td>\n",
       "      <td>127</td>\n",
       "      <td>7</td>\n",
       "      <td>3700</td>\n",
       "      <td>1437</td>\n",
       "      <td>0</td>\n",
       "      <td>3586</td>\n",
       "      <td>1437</td>\n",
       "      <td>3713</td>\n",
       "      <td>1444</td>\n",
       "      <td>1000</td>\n",
       "      <td>209</td>\n",
       "      <td>209</td>\n",
       "      <td>0</td>\n",
       "      <td>3301</td>\n",
       "      <td>1350</td>\n",
       "      <td>526</td>\n",
       "      <td>94</td>\n",
       "      <td>GPT-4o mini (T=0)</td>\n",
       "    </tr>\n",
       "    <tr>\n",
       "      <th>1</th>\n",
       "      <td>GPT-4o mini</td>\n",
       "      <td>large</td>\n",
       "      <td>0</td>\n",
       "      <td>no</td>\n",
       "      <td>10204</td>\n",
       "      <td>3818</td>\n",
       "      <td>306</td>\n",
       "      <td>341</td>\n",
       "      <td>18</td>\n",
       "      <td>9858</td>\n",
       "      <td>3800</td>\n",
       "      <td>0</td>\n",
       "      <td>9553</td>\n",
       "      <td>3800</td>\n",
       "      <td>9898</td>\n",
       "      <td>3818</td>\n",
       "      <td>2616</td>\n",
       "      <td>527</td>\n",
       "      <td>527</td>\n",
       "      <td>0</td>\n",
       "      <td>8805</td>\n",
       "      <td>3560</td>\n",
       "      <td>1399</td>\n",
       "      <td>258</td>\n",
       "      <td>GPT-4o mini (T=0)</td>\n",
       "    </tr>\n",
       "  </tbody>\n",
       "</table>\n",
       "</div>"
      ],
      "text/plain": [
       "         model dataset_size  temperature fine_tuned  total_clauses  \\\n",
       "0  GPT-4o mini       medium            0         no           3827   \n",
       "1  GPT-4o mini        large            0         no          10204   \n",
       "\n",
       "   total_found  total_cut_clauses  total_embedded  found_embedded  \\\n",
       "0         1444                114             127               7   \n",
       "1         3818                306             341              18   \n",
       "\n",
       "   total_non_embedded  found_non_embedded  found_cut_clauses  \\\n",
       "0                3700                1437                  0   \n",
       "1                9858                3800                  0   \n",
       "\n",
       "   total_other_clauses  found_other_clauses  total_non_cut_clauses  \\\n",
       "0                 3586                 1437                   3713   \n",
       "1                 9553                 3800                   9898   \n",
       "\n",
       "   found_non_cut_clauses  total_verses  correct_verses  simple_correct  \\\n",
       "0                   1444          1000             209             209   \n",
       "1                   3818          2616             527             527   \n",
       "\n",
       "   complex_correct  total_simple_clauses  total_simple_found  \\\n",
       "0                0                  3301                1350   \n",
       "1                0                  8805                3560   \n",
       "\n",
       "   total_complex_clauses  total_complex_found         model_temp  \n",
       "0                    526                   94  GPT-4o mini (T=0)  \n",
       "1                   1399                  258  GPT-4o mini (T=0)  "
      ]
     },
     "execution_count": 24,
     "metadata": {},
     "output_type": "execute_result"
    }
   ],
   "source": [
    "df1.head(2)"
   ]
  },
  {
   "cell_type": "code",
   "execution_count": 25,
   "id": "7b8e0558-c963-42b7-8253-994cb85b7f73",
   "metadata": {},
   "outputs": [
    {
     "data": {
      "text/html": [
       "<div>\n",
       "<style scoped>\n",
       "    .dataframe tbody tr th:only-of-type {\n",
       "        vertical-align: middle;\n",
       "    }\n",
       "\n",
       "    .dataframe tbody tr th {\n",
       "        vertical-align: top;\n",
       "    }\n",
       "\n",
       "    .dataframe thead th {\n",
       "        text-align: right;\n",
       "    }\n",
       "</style>\n",
       "<table border=\"1\" class=\"dataframe\">\n",
       "  <thead>\n",
       "    <tr style=\"text-align: right;\">\n",
       "      <th></th>\n",
       "      <th>category</th>\n",
       "      <th>False</th>\n",
       "      <th>True</th>\n",
       "      <th>percentage</th>\n",
       "      <th>model_temp</th>\n",
       "      <th>size</th>\n",
       "      <th>status</th>\n",
       "    </tr>\n",
       "  </thead>\n",
       "  <tbody>\n",
       "    <tr>\n",
       "      <th>0</th>\n",
       "      <td>complex</td>\n",
       "      <td>286</td>\n",
       "      <td>0</td>\n",
       "      <td>0.0</td>\n",
       "      <td>GPT-4o mini (T=0)</td>\n",
       "      <td>large</td>\n",
       "      <td>base</td>\n",
       "    </tr>\n",
       "    <tr>\n",
       "      <th>1</th>\n",
       "      <td>simple_1_clause</td>\n",
       "      <td>237</td>\n",
       "      <td>27</td>\n",
       "      <td>10.2</td>\n",
       "      <td>GPT-4o mini (T=0)</td>\n",
       "      <td>large</td>\n",
       "      <td>base</td>\n",
       "    </tr>\n",
       "  </tbody>\n",
       "</table>\n",
       "</div>"
      ],
      "text/plain": [
       "          category  False  True  percentage         model_temp   size status\n",
       "0          complex    286     0         0.0  GPT-4o mini (T=0)  large   base\n",
       "1  simple_1_clause    237    27        10.2  GPT-4o mini (T=0)  large   base"
      ]
     },
     "execution_count": 25,
     "metadata": {},
     "output_type": "execute_result"
    }
   ],
   "source": [
    "df2.head(2)"
   ]
  },
  {
   "cell_type": "code",
   "execution_count": 38,
   "id": "ecc36ca3-b1fc-416f-b0e8-9a0e90fe6193",
   "metadata": {},
   "outputs": [],
   "source": [
    "# --- 1) Prep metadata to match df2 ---\n",
    "df = df1.copy()\n",
    "\n",
    "df[\"model_temp\"] = df[\"model\"].astype(str) + \" (T=\" + df[\"temperature\"].astype(str) + \")\"\n",
    "df[\"size\"] = df[\"dataset_size\"]\n",
    "\n",
    "# Map fine_tuned -> status like df2 (\"base\" vs \"fine-tuned\")\n",
    "status_map = {\"no\": \"base\", \"yes\": \"fine-tuned\", \"false\": \"base\", \"true\": \"fine-tuned\", \"0\": \"base\", \"1\": \"fine-tuned\"}\n",
    "df[\"status\"] = (\n",
    "    df[\"fine_tuned\"].astype(str).str.strip().str.lower().map(status_map).fillna(df[\"fine_tuned\"])\n",
    ")\n",
    "\n",
    "id_vars = [\"model_temp\", \"size\", \"status\"]\n",
    "\n",
    "# --- 2) Explicit pairs for the requested categories only ---\n",
    "pairs = {\n",
    "    \"other_clauses\":   (\"found_other_clauses\", \"total_other_clauses\"),\n",
    "    \"embedded_clauses\":(\"found_embedded\",      \"total_embedded\"),\n",
    "    \"cut_clauses\":     (\"found_cut_clauses\",   \"total_cut_clauses\"),\n",
    "}\n",
    "\n",
    "# Optional: validate columns exist\n",
    "missing = [col for (f,t) in pairs.values() for col in (f,t) if col not in df.columns]\n",
    "if missing:\n",
    "    raise KeyError(f\"Missing expected columns in df1: {missing}\")\n",
    "\n",
    "# --- 3) Stack into long with True / False / percentage ---\n",
    "frames = []\n",
    "for category, (found_col, total_col) in pairs.items():\n",
    "    sub = df[id_vars + [found_col, total_col]].copy()\n",
    "    sub[\"category\"] = category\n",
    "\n",
    "    # ensure numeric\n",
    "    sub[found_col] = pd.to_numeric(sub[found_col], errors=\"coerce\")\n",
    "    sub[total_col] = pd.to_numeric(sub[total_col], errors=\"coerce\")\n",
    "\n",
    "    sub = sub.rename(columns={found_col: \"True\", total_col: \"Total\"})\n",
    "    sub[\"False\"] = sub[\"Total\"] - sub[\"True\"]\n",
    "    sub[\"percentage\"] = np.where(\n",
    "        sub[\"Total\"] > 0,\n",
    "        np.round((sub[\"True\"] / sub[\"Total\"]) * 100, 1),\n",
    "        0.0\n",
    "    )\n",
    "\n",
    "    frames.append(sub)\n",
    "\n",
    "df_long = pd.concat(frames, ignore_index=True)\n",
    "\n",
    "# --- 4) Final column order to mirror df2 ---\n",
    "df_long = df_long[[\"category\", \"False\", \"True\", \"percentage\", \"model_temp\", \"size\", \"status\"]]\n",
    "\n",
    "# Optional: sort for readability (preserves your three categories grouped per model/size/status)\n",
    "df_long = df_long.sort_values([\"model_temp\", \"size\", \"status\", \"category\"], ignore_index=True)"
   ]
  },
  {
   "cell_type": "code",
   "execution_count": 43,
   "id": "af73cf5c-c8ef-4d7e-bd9c-9d9692285b30",
   "metadata": {},
   "outputs": [
    {
     "data": {
      "text/plain": [
       "Index(['category', 'False', 'True', 'percentage', 'model_temp', 'size',\n",
       "       'status'],\n",
       "      dtype='object')"
      ]
     },
     "execution_count": 43,
     "metadata": {},
     "output_type": "execute_result"
    }
   ],
   "source": [
    "df_long.columns"
   ]
  },
  {
   "cell_type": "code",
   "execution_count": 41,
   "id": "60532c2a-3e38-4ec8-859a-13ea69f563a0",
   "metadata": {},
   "outputs": [],
   "source": [
    "df_long.to_csv(\"data/clause_categories_models_results.csv\", index=False)"
   ]
  },
  {
   "cell_type": "code",
   "execution_count": null,
   "id": "601f9d4e-302c-4dd4-9a84-5fdb3deded1c",
   "metadata": {},
   "outputs": [],
   "source": []
  }
 ],
 "metadata": {
  "kernelspec": {
   "display_name": "Python 3 (ipykernel)",
   "language": "python",
   "name": "python3"
  },
  "language_info": {
   "codemirror_mode": {
    "name": "ipython",
    "version": 3
   },
   "file_extension": ".py",
   "mimetype": "text/x-python",
   "name": "python",
   "nbconvert_exporter": "python",
   "pygments_lexer": "ipython3",
   "version": "3.9.16"
  }
 },
 "nbformat": 4,
 "nbformat_minor": 5
}
