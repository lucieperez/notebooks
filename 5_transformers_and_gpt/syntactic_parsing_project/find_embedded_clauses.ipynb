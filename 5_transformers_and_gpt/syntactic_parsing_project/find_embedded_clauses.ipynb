{
 "cells": [
  {
   "cell_type": "code",
   "execution_count": 17,
   "id": "c0e1fafc-5fd5-40ec-9133-4b1eb23106b1",
   "metadata": {},
   "outputs": [],
   "source": [
    "verse = \"יביא יהוה עליך ועלעמך ועלבית אביך ימים אשר לאבאו למיום סוראפרים מעל יהודה את מלך אשור פ\"\n",
    "clauses = [\"יביא יהוה עליך ועלעמך ועלבית אביך ימים את מלך אשור פ\" ,\"אשר לאבאו למיום\" ,\"סוראפרים מעל יהודה\"]"
   ]
  },
  {
   "cell_type": "code",
   "execution_count": 18,
   "id": "e8671d10-a465-476c-9603-623fb8a1c12d",
   "metadata": {},
   "outputs": [],
   "source": [
    "def find_embedded_clauses(verse, clauses):\n",
    "\n",
    "    cut_clauses = [clause for clause in clauses if clause not in verse]\n",
    "    embedded_clauses = set()\n",
    "    \n",
    "    for cut_clause in cut_clauses:\n",
    "        for i in range(len(cut_clause)):\n",
    "            first_part = cut_clause[:i]\n",
    "            second_part = cut_clause[i:]\n",
    "            if first_part in verse and second_part in verse:\n",
    "                j = verse.index(first_part) + len(first_part)\n",
    "                k = verse.index(second_part)\n",
    "                for clause in clauses:\n",
    "                    if clause in verse:\n",
    "                        l = verse.index(clause)\n",
    "                        if j <= l < k:\n",
    "                            embedded_clauses.add(clause)   \n",
    "    return embedded_clauses"
   ]
  },
  {
   "cell_type": "code",
   "execution_count": 19,
   "id": "9a486cd7-11b5-483a-86c3-23aaa4b0ce7d",
   "metadata": {},
   "outputs": [
    {
     "data": {
      "text/plain": [
       "{'אשר לאבאו למיום', 'סוראפרים מעל יהודה'}"
      ]
     },
     "execution_count": 19,
     "metadata": {},
     "output_type": "execute_result"
    }
   ],
   "source": [
    "find_embedded_clauses(verse, clauses)"
   ]
  },
  {
   "cell_type": "code",
   "execution_count": null,
   "id": "8319bb73-0e3a-4130-9d20-d0def5c947cb",
   "metadata": {},
   "outputs": [],
   "source": []
  }
 ],
 "metadata": {
  "kernelspec": {
   "display_name": "Python 3 (ipykernel)",
   "language": "python",
   "name": "python3"
  },
  "language_info": {
   "codemirror_mode": {
    "name": "ipython",
    "version": 3
   },
   "file_extension": ".py",
   "mimetype": "text/x-python",
   "name": "python",
   "nbconvert_exporter": "python",
   "pygments_lexer": "ipython3",
   "version": "3.9.16"
  }
 },
 "nbformat": 4,
 "nbformat_minor": 5
}
