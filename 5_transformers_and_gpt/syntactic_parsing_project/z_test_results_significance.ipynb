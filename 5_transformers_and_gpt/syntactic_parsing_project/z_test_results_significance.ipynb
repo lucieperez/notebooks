{
 "cells": [
  {
   "cell_type": "code",
   "execution_count": 16,
   "id": "313d4e5e-cda8-4152-8aa6-6e66a42e9357",
   "metadata": {},
   "outputs": [],
   "source": [
    "import numpy as np\n",
    "from statsmodels.stats.proportion import proportions_ztest"
   ]
  },
  {
   "cell_type": "code",
   "execution_count": 18,
   "id": "d10a4e7b-df3e-4391-9343-ecb64d0652da",
   "metadata": {},
   "outputs": [
    {
     "name": "stdout",
     "output_type": "stream",
     "text": [
      "p-value: 0.000344\n",
      "The difference is statistically significant.\n"
     ]
    }
   ],
   "source": [
    "# GPT-4o mini: 3818 correct out of 10204\n",
    "# GPT-4o: 4067 correct out of 10204\n",
    "\n",
    "count = np.array([3818, 4067])\n",
    "nobs = np.array([10204, 10204])\n",
    "stat, pval = proportions_ztest(count, nobs)\n",
    "\n",
    "# Print p-value and interpretation\n",
    "alpha = 0.05  # significance level\n",
    "print(f'p-value: {pval:.6f}')\n",
    "if pval < alpha:\n",
    "    print(\"The difference is statistically significant.\")\n",
    "else:\n",
    "    print(\"The difference is not statistically significant.\")"
   ]
  },
  {
   "cell_type": "code",
   "execution_count": null,
   "id": "130d95cd-ea49-4567-beb3-77e497e0e4c5",
   "metadata": {},
   "outputs": [],
   "source": []
  }
 ],
 "metadata": {
  "kernelspec": {
   "display_name": "Python 3 (ipykernel)",
   "language": "python",
   "name": "python3"
  },
  "language_info": {
   "codemirror_mode": {
    "name": "ipython",
    "version": 3
   },
   "file_extension": ".py",
   "mimetype": "text/x-python",
   "name": "python",
   "nbconvert_exporter": "python",
   "pygments_lexer": "ipython3",
   "version": "3.9.16"
  }
 },
 "nbformat": 4,
 "nbformat_minor": 5
}
