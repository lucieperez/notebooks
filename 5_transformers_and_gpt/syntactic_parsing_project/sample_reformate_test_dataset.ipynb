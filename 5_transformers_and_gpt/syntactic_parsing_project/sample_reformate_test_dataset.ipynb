{
 "cells": [
  {
   "cell_type": "code",
   "execution_count": 1,
   "id": "5698493c-88b7-40ee-b174-67962666b33d",
   "metadata": {},
   "outputs": [],
   "source": [
    "import json\n",
    "import random"
   ]
  },
  {
   "cell_type": "code",
   "execution_count": 8,
   "id": "b33413f0-e8ad-49d7-8de1-68cdf5022182",
   "metadata": {},
   "outputs": [],
   "source": [
    "def sample_and_reformat_jsonl(input_file, output_file, sample_size):\n",
    "    \"\"\"Sample lines from a JSONL file, extract 'user' role content, reformat, and save.\"\"\"\n",
    "    # Read all lines from the input file\n",
    "    with open(input_file, \"r\", encoding=\"utf-8\") as infile:\n",
    "        lines = infile.readlines()\n",
    "    \n",
    "    # Check if the file has enough lines\n",
    "    if len(lines) < sample_size:\n",
    "        raise ValueError(f\"The file contains only {len(lines)} lines, but {sample_size} lines were requested.\")\n",
    "    \n",
    "    # Randomly sample the specified number of lines\n",
    "    sampled_lines = random.sample(lines, sample_size)\n",
    "    \n",
    "    # Process sampled lines\n",
    "    reformatted_lines = []\n",
    "    for line in sampled_lines:\n",
    "        # Parse the JSON line\n",
    "        data = json.loads(line)\n",
    "        \n",
    "        # Find the 'user' role content\n",
    "        user_message = next(\n",
    "            (msg for msg in data[\"messages\"] if msg[\"role\"] == \"user\"),\n",
    "            None\n",
    "        )\n",
    "        \n",
    "        if user_message:\n",
    "            # Reformat to the desired structure\n",
    "            reformatted_lines.append({\"verse\": user_message[\"content\"]})\n",
    "    \n",
    "    # Write the reformatted lines to the output file\n",
    "    with open(output_file, \"w\", encoding=\"utf-8\") as outfile:\n",
    "        for reformatted_line in reformatted_lines:\n",
    "            outfile.write(json.dumps(reformatted_line, ensure_ascii=False) + \"\\n\")"
   ]
  },
  {
   "cell_type": "code",
   "execution_count": 9,
   "id": "febc045e-6606-40af-8a28-5fb4aeed5563",
   "metadata": {},
   "outputs": [
    {
     "data": {
      "text/plain": [
       "39"
      ]
     },
     "execution_count": 9,
     "metadata": {},
     "output_type": "execute_result"
    }
   ],
   "source": [
    "len(input_jsonl_file)"
   ]
  },
  {
   "cell_type": "code",
   "execution_count": 10,
   "id": "550d075e-fb2b-49bf-b62a-d3a704da0cef",
   "metadata": {},
   "outputs": [],
   "source": [
    "# Define the input and output file paths\n",
    "input_jsonl_file = \"data/fine_tuning_complete_dataset.jsonl\"  \n",
    "output_jsonl_file = \"data/all_verses_dataset.jsonl\"  \n",
    "sample_size = 13084 "
   ]
  },
  {
   "cell_type": "code",
   "execution_count": 11,
   "id": "514248d9-89b3-4349-8b94-6c7e5c2a59ec",
   "metadata": {},
   "outputs": [],
   "source": [
    "# Execute the sampling\n",
    "sample_and_reformat_jsonl(input_jsonl_file, output_jsonl_file, sample_size)"
   ]
  },
  {
   "cell_type": "code",
   "execution_count": null,
   "id": "3f4367cd-e46f-4a5a-8c3d-d50ca234d468",
   "metadata": {},
   "outputs": [],
   "source": []
  }
 ],
 "metadata": {
  "kernelspec": {
   "display_name": "Python 3 (ipykernel)",
   "language": "python",
   "name": "python3"
  },
  "language_info": {
   "codemirror_mode": {
    "name": "ipython",
    "version": 3
   },
   "file_extension": ".py",
   "mimetype": "text/x-python",
   "name": "python",
   "nbconvert_exporter": "python",
   "pygments_lexer": "ipython3",
   "version": "3.9.16"
  }
 },
 "nbformat": 4,
 "nbformat_minor": 5
}
