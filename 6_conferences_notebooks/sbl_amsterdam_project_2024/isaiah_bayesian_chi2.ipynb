{
 "cells": [
  {
   "cell_type": "code",
   "execution_count": 1,
   "id": "54742c25-86a0-4696-8e09-693f48e6a09f",
   "metadata": {
    "scrolled": true
   },
   "outputs": [
    {
     "name": "stderr",
     "output_type": "stream",
     "text": [
      "C:\\Users\\zht702\\Anaconda3\\envs\\pymc3_env\\lib\\site-packages\\theano\\scalar\\basic.py:2412: FutureWarning: In the future `np.bool` will be defined as the corresponding NumPy scalar.\n",
      "  self.ctor = getattr(np, o_type.dtype)\n"
     ]
    },
    {
     "ename": "AttributeError",
     "evalue": "module 'numpy' has no attribute 'bool'.\n`np.bool` was a deprecated alias for the builtin `bool`. To avoid this error in existing code, use `bool` by itself. Doing this will not modify any behavior and is safe. If you specifically wanted the numpy scalar type, use `np.bool_` here.\nThe aliases was originally deprecated in NumPy 1.20; for more details and guidance see the original release note at:\n    https://numpy.org/devdocs/release/1.20.0-notes.html#deprecations",
     "output_type": "error",
     "traceback": [
      "\u001b[1;31m---------------------------------------------------------------------------\u001b[0m",
      "\u001b[1;31mAttributeError\u001b[0m                            Traceback (most recent call last)",
      "Cell \u001b[1;32mIn[1], line 2\u001b[0m\n\u001b[0;32m      1\u001b[0m \u001b[38;5;28;01mimport\u001b[39;00m \u001b[38;5;21;01mpandas\u001b[39;00m \u001b[38;5;28;01mas\u001b[39;00m \u001b[38;5;21;01mpd\u001b[39;00m\n\u001b[1;32m----> 2\u001b[0m \u001b[38;5;28;01mimport\u001b[39;00m \u001b[38;5;21;01mpymc3\u001b[39;00m \u001b[38;5;28;01mas\u001b[39;00m \u001b[38;5;21;01mpm\u001b[39;00m\n\u001b[0;32m      3\u001b[0m \u001b[38;5;28;01mimport\u001b[39;00m \u001b[38;5;21;01mnumpy\u001b[39;00m \u001b[38;5;28;01mas\u001b[39;00m \u001b[38;5;21;01mnp\u001b[39;00m\n",
      "File \u001b[1;32m~\\Anaconda3\\envs\\pymc3_env\\lib\\site-packages\\pymc3\\__init__.py:23\u001b[0m\n\u001b[0;32m     20\u001b[0m \u001b[38;5;28;01mimport\u001b[39;00m \u001b[38;5;21;01mplatform\u001b[39;00m\n\u001b[0;32m     22\u001b[0m \u001b[38;5;28;01mimport\u001b[39;00m \u001b[38;5;21;01msemver\u001b[39;00m\n\u001b[1;32m---> 23\u001b[0m \u001b[38;5;28;01mimport\u001b[39;00m \u001b[38;5;21;01mtheano\u001b[39;00m\n\u001b[0;32m     25\u001b[0m _log \u001b[38;5;241m=\u001b[39m logging\u001b[38;5;241m.\u001b[39mgetLogger(\u001b[38;5;124m\"\u001b[39m\u001b[38;5;124mpymc3\u001b[39m\u001b[38;5;124m\"\u001b[39m)\n\u001b[0;32m     27\u001b[0m \u001b[38;5;28;01mif\u001b[39;00m \u001b[38;5;129;01mnot\u001b[39;00m logging\u001b[38;5;241m.\u001b[39mroot\u001b[38;5;241m.\u001b[39mhandlers:\n",
      "File \u001b[1;32m~\\Anaconda3\\envs\\pymc3_env\\lib\\site-packages\\theano\\__init__.py:83\u001b[0m\n\u001b[0;32m     75\u001b[0m \u001b[38;5;66;03m# This is the api version for ops that generate C code.  External ops\u001b[39;00m\n\u001b[0;32m     76\u001b[0m \u001b[38;5;66;03m# might need manual changes if this number goes up.  An undefined\u001b[39;00m\n\u001b[0;32m     77\u001b[0m \u001b[38;5;66;03m# __api_version__ can be understood to mean api version 0.\u001b[39;00m\n\u001b[0;32m     78\u001b[0m \u001b[38;5;66;03m#\u001b[39;00m\n\u001b[0;32m     79\u001b[0m \u001b[38;5;66;03m# This number is not tied to the release version and should change\u001b[39;00m\n\u001b[0;32m     80\u001b[0m \u001b[38;5;66;03m# very rarely.\u001b[39;00m\n\u001b[0;32m     81\u001b[0m __api_version__ \u001b[38;5;241m=\u001b[39m \u001b[38;5;241m1\u001b[39m\n\u001b[1;32m---> 83\u001b[0m \u001b[38;5;28;01mfrom\u001b[39;00m \u001b[38;5;21;01mtheano\u001b[39;00m \u001b[38;5;28;01mimport\u001b[39;00m scalar, tensor\n\u001b[0;32m     84\u001b[0m \u001b[38;5;28;01mfrom\u001b[39;00m \u001b[38;5;21;01mtheano\u001b[39;00m\u001b[38;5;21;01m.\u001b[39;00m\u001b[38;5;21;01mcompile\u001b[39;00m \u001b[38;5;28;01mimport\u001b[39;00m (\n\u001b[0;32m     85\u001b[0m     In,\n\u001b[0;32m     86\u001b[0m     Mode,\n\u001b[1;32m   (...)\u001b[0m\n\u001b[0;32m     93\u001b[0m     shared,\n\u001b[0;32m     94\u001b[0m )\n\u001b[0;32m     95\u001b[0m \u001b[38;5;28;01mfrom\u001b[39;00m \u001b[38;5;21;01mtheano\u001b[39;00m\u001b[38;5;21;01m.\u001b[39;00m\u001b[38;5;21;01mcompile\u001b[39;00m\u001b[38;5;21;01m.\u001b[39;00m\u001b[38;5;21;01mfunction\u001b[39;00m \u001b[38;5;28;01mimport\u001b[39;00m function, function_dump\n",
      "File \u001b[1;32m~\\Anaconda3\\envs\\pymc3_env\\lib\\site-packages\\theano\\scalar\\__init__.py:1\u001b[0m\n\u001b[1;32m----> 1\u001b[0m \u001b[38;5;28;01mfrom\u001b[39;00m \u001b[38;5;21;01m.\u001b[39;00m\u001b[38;5;21;01mbasic\u001b[39;00m \u001b[38;5;28;01mimport\u001b[39;00m \u001b[38;5;241m*\u001b[39m\n\u001b[0;32m      2\u001b[0m \u001b[38;5;28;01mfrom\u001b[39;00m \u001b[38;5;21;01m.\u001b[39;00m\u001b[38;5;21;01mbasic_scipy\u001b[39;00m \u001b[38;5;28;01mimport\u001b[39;00m \u001b[38;5;241m*\u001b[39m\n",
      "File \u001b[1;32m~\\Anaconda3\\envs\\pymc3_env\\lib\\site-packages\\theano\\scalar\\basic.py:2460\u001b[0m\n\u001b[0;32m   2456\u001b[0m         \u001b[38;5;28;01melse\u001b[39;00m:\n\u001b[0;32m   2457\u001b[0m             \u001b[38;5;28;01mreturn\u001b[39;00m s\n\u001b[1;32m-> 2460\u001b[0m convert_to_bool \u001b[38;5;241m=\u001b[39m \u001b[43mCast\u001b[49m\u001b[43m(\u001b[49m\u001b[38;5;28;43mbool\u001b[39;49m\u001b[43m,\u001b[49m\u001b[43m \u001b[49m\u001b[43mname\u001b[49m\u001b[38;5;241;43m=\u001b[39;49m\u001b[38;5;124;43m\"\u001b[39;49m\u001b[38;5;124;43mconvert_to_bool\u001b[39;49m\u001b[38;5;124;43m\"\u001b[39;49m\u001b[43m)\u001b[49m\n\u001b[0;32m   2461\u001b[0m convert_to_int8 \u001b[38;5;241m=\u001b[39m Cast(int8, name\u001b[38;5;241m=\u001b[39m\u001b[38;5;124m\"\u001b[39m\u001b[38;5;124mconvert_to_int8\u001b[39m\u001b[38;5;124m\"\u001b[39m)\n\u001b[0;32m   2462\u001b[0m convert_to_int16 \u001b[38;5;241m=\u001b[39m Cast(int16, name\u001b[38;5;241m=\u001b[39m\u001b[38;5;124m\"\u001b[39m\u001b[38;5;124mconvert_to_int16\u001b[39m\u001b[38;5;124m\"\u001b[39m)\n",
      "File \u001b[1;32m~\\Anaconda3\\envs\\pymc3_env\\lib\\site-packages\\theano\\scalar\\basic.py:2412\u001b[0m, in \u001b[0;36mCast.__init__\u001b[1;34m(self, o_type, name)\u001b[0m\n\u001b[0;32m   2410\u001b[0m \u001b[38;5;28msuper\u001b[39m()\u001b[38;5;241m.\u001b[39m\u001b[38;5;21m__init__\u001b[39m(specific_out(o_type), name\u001b[38;5;241m=\u001b[39mname)\n\u001b[0;32m   2411\u001b[0m \u001b[38;5;28mself\u001b[39m\u001b[38;5;241m.\u001b[39mo_type \u001b[38;5;241m=\u001b[39m o_type\n\u001b[1;32m-> 2412\u001b[0m \u001b[38;5;28mself\u001b[39m\u001b[38;5;241m.\u001b[39mctor \u001b[38;5;241m=\u001b[39m \u001b[38;5;28;43mgetattr\u001b[39;49m\u001b[43m(\u001b[49m\u001b[43mnp\u001b[49m\u001b[43m,\u001b[49m\u001b[43m \u001b[49m\u001b[43mo_type\u001b[49m\u001b[38;5;241;43m.\u001b[39;49m\u001b[43mdtype\u001b[49m\u001b[43m)\u001b[49m\n",
      "File \u001b[1;32m~\\Anaconda3\\envs\\pymc3_env\\lib\\site-packages\\numpy\\__init__.py:305\u001b[0m, in \u001b[0;36m__getattr__\u001b[1;34m(attr)\u001b[0m\n\u001b[0;32m    300\u001b[0m     warnings\u001b[38;5;241m.\u001b[39mwarn(\n\u001b[0;32m    301\u001b[0m         \u001b[38;5;124mf\u001b[39m\u001b[38;5;124m\"\u001b[39m\u001b[38;5;124mIn the future `np.\u001b[39m\u001b[38;5;132;01m{\u001b[39;00mattr\u001b[38;5;132;01m}\u001b[39;00m\u001b[38;5;124m` will be defined as the \u001b[39m\u001b[38;5;124m\"\u001b[39m\n\u001b[0;32m    302\u001b[0m         \u001b[38;5;124m\"\u001b[39m\u001b[38;5;124mcorresponding NumPy scalar.\u001b[39m\u001b[38;5;124m\"\u001b[39m, \u001b[38;5;167;01mFutureWarning\u001b[39;00m, stacklevel\u001b[38;5;241m=\u001b[39m\u001b[38;5;241m2\u001b[39m)\n\u001b[0;32m    304\u001b[0m \u001b[38;5;28;01mif\u001b[39;00m attr \u001b[38;5;129;01min\u001b[39;00m __former_attrs__:\n\u001b[1;32m--> 305\u001b[0m     \u001b[38;5;28;01mraise\u001b[39;00m \u001b[38;5;167;01mAttributeError\u001b[39;00m(__former_attrs__[attr])\n\u001b[0;32m    307\u001b[0m \u001b[38;5;66;03m# Importing Tester requires importing all of UnitTest which is not a\u001b[39;00m\n\u001b[0;32m    308\u001b[0m \u001b[38;5;66;03m# cheap import Since it is mainly used in test suits, we lazy import it\u001b[39;00m\n\u001b[0;32m    309\u001b[0m \u001b[38;5;66;03m# here to save on the order of 10 ms of import time for most users\u001b[39;00m\n\u001b[0;32m    310\u001b[0m \u001b[38;5;66;03m#\u001b[39;00m\n\u001b[0;32m    311\u001b[0m \u001b[38;5;66;03m# The previous way Tester was imported also had a side effect of adding\u001b[39;00m\n\u001b[0;32m    312\u001b[0m \u001b[38;5;66;03m# the full `numpy.testing` namespace\u001b[39;00m\n\u001b[0;32m    313\u001b[0m \u001b[38;5;28;01mif\u001b[39;00m attr \u001b[38;5;241m==\u001b[39m \u001b[38;5;124m'\u001b[39m\u001b[38;5;124mtesting\u001b[39m\u001b[38;5;124m'\u001b[39m:\n",
      "\u001b[1;31mAttributeError\u001b[0m: module 'numpy' has no attribute 'bool'.\n`np.bool` was a deprecated alias for the builtin `bool`. To avoid this error in existing code, use `bool` by itself. Doing this will not modify any behavior and is safe. If you specifically wanted the numpy scalar type, use `np.bool_` here.\nThe aliases was originally deprecated in NumPy 1.20; for more details and guidance see the original release note at:\n    https://numpy.org/devdocs/release/1.20.0-notes.html#deprecations"
     ]
    }
   ],
   "source": [
    "import pandas as pd\n",
    "import pymc3 as pm\n",
    "import numpy as np"
   ]
  },
  {
   "cell_type": "code",
   "execution_count": null,
   "id": "6417ffff-c2f2-42af-af08-eabfa9c00315",
   "metadata": {},
   "outputs": [],
   "source": [
    "#from PIL import Image"
   ]
  },
  {
   "cell_type": "code",
   "execution_count": null,
   "id": "27b010a1-a741-4a0a-91f0-d0347863e014",
   "metadata": {},
   "outputs": [],
   "source": [
    "# Import the original dataset\n",
    "\n",
    "df = pd.read_csv(\"data/sbl_isaiah_cmpls.csv\").fillna(\"\")"
   ]
  },
  {
   "cell_type": "code",
   "execution_count": null,
   "id": "e1249bd1-c131-4e13-9a31-74aea4218564",
   "metadata": {},
   "outputs": [],
   "source": [
    "# Define the contingency table\n",
    "\n",
    "contingency_table_anim = pd.crosstab(df['construction'], df['cmpl_anim'])\n",
    "contingency_table_anim"
   ]
  },
  {
   "cell_type": "code",
   "execution_count": null,
   "id": "138bacd8-60c7-4b9a-8b33-9b100bb65c77",
   "metadata": {},
   "outputs": [],
   "source": [
    "df = contingency_table_anim"
   ]
  },
  {
   "cell_type": "markdown",
   "id": "330301a0-ffc9-4f47-a99b-972b324e3a50",
   "metadata": {},
   "source": [
    "#### Establishing priors\n",
    "\n",
    "Priors = our beliefs about the parameters before seeing the data\n",
    "Priors are combined with the likelihood of the observed data\n",
    "\n",
    "##### Different types of priors\n",
    "- Uniform priors: I assume no prior knowledge, equal probability to all outcomes\n",
    "- Informative Priors: Based on previous knowledge or literature, assign more weight to certain outcomes\n",
    "- Weakly Informative Priors: assign broad probability, allow prior knowledge with a limited impact\n",
    "\n",
    "##### Define the necessary probabilities, here for informative priors (important impact of literature):\n",
    "- Probability of a complement being prepositional: P(prep) = 0.68\n",
    "    - Medill, 2020, p.41, Strategies for Goal Markings:\n",
    "        - 3125 observations, 2125 prep (68%)\n",
    "- Probability of a complement being animate: P(anim) = 0.295\n",
    "    - Medill, 2020, p.174, Goal-Marking Strategies by Goal Animacy\n",
    "        - 3125 observations, 923 animate goals (29.5%)"
   ]
  },
  {
   "cell_type": "code",
   "execution_count": null,
   "id": "d375fcb4-4f28-41a5-903e-92d5de25b063",
   "metadata": {},
   "outputs": [],
   "source": [
    "# I use the value from the contingency table\n",
    "observed = df.values"
   ]
  },
  {
   "cell_type": "code",
   "execution_count": null,
   "id": "0bb11d3a-2258-4328-ac54-69cc994400c0",
   "metadata": {},
   "outputs": [],
   "source": [
    "# Establishing the priors for the model\n",
    "\n",
    "alpha_preps = np.array([6.8, 3.2]) # P(prep) = 0.68, P(non-prep) 0 0.32\n",
    "alpha_anim = np.array([2.95, 7.05]) # P(anim) = 0.295, P(inanim) = 0.705"
   ]
  },
  {
   "cell_type": "code",
   "execution_count": null,
   "id": "579606e1-791e-438e-a576-a1a976a62f26",
   "metadata": {},
   "outputs": [],
   "source": [
    "# Model\n",
    "with pm.Model() as model:\n",
    "    # Dirichlet priors for the two categorical variables\n",
    "    probs_preps = pm.Dirichlet('probs_preps', a=alpha_preps)\n",
    "    probs_anim = pm.Dirichlet('probs_anim', a=alpha_anim)\n",
    "    \n",
    "    # Combining the probabilities to form a joint distribution\n",
    "    # Using the outer product to get joint probabilities\n",
    "    probs = pm.Deterministic('probs', tt.outer(probs_preps, probs_anim).ravel())\n",
    "    \n",
    "    # Reshape to match observed data dimensions\n",
    "    probs = probs.reshape(observed.shape)\n",
    "    \n",
    "    # Expected counts\n",
    "    n = observed.sum(axis=1)[:, None]\n",
    "    expected = n * probs\n",
    "    \n",
    "    # Likelihood (sampling distribution) of observed data\n",
    "    observed_data = pm.Multinomial('observed_data', n=n, p=probs, observed=observed)\n",
    "    \n",
    "    # Sample from the posterior\n",
    "    trace = pm.sample(1000, tune=1000, return_inferencedata=True)"
   ]
  },
  {
   "cell_type": "code",
   "execution_count": null,
   "id": "43108e55-0a9b-4bda-b879-c3b28e082c8f",
   "metadata": {},
   "outputs": [],
   "source": [
    "import pymc3 as pm\n",
    "import numpy as np\n",
    "import theano.tensor as tt\n",
    "\n",
    "# Sample Data\n",
    "data = {\n",
    "    'Category A': [10, 20, 30],\n",
    "    'Category B': [20, 30, 40]\n",
    "}\n",
    "\n",
    "df = pd.DataFrame(data, index=['Group 1', 'Group 2', 'Group 3'])\n",
    "observed = df.values\n",
    "\n",
    "# Establishing priors based on given probabilities\n",
    "alpha_preps = np.array([6.8, 3.2])  # P(prep) = 0.68, P(non-prep) = 0.32\n",
    "alpha_anim = np.array([2.95, 7.05]) # P(anim) = 0.295, P(inanim) = 0.705\n",
    "\n",
    "# Model\n",
    "with pm.Model() as model:\n",
    "    # Dirichlet priors for the two categorical variables\n",
    "    probs_preps = pm.Dirichlet('probs_preps', a=alpha_preps)\n",
    "    probs_anim = pm.Dirichlet('probs_anim', a=alpha_anim)\n",
    "    \n",
    "    # Combining the probabilities to form a joint distribution\n",
    "    probs = pm.math.outer(probs_preps, probs_anim)\n",
    "    \n",
    "    # Reshape to match observed data dimensions\n",
    "    probs = probs.reshape(observed.shape)\n",
    "    \n",
    "    # Expected counts\n",
    "    n = observed.sum(axis=1)[:, None]\n",
    "    expected = n * probs\n",
    "    \n",
    "    # Likelihood (sampling distribution) of observed data\n",
    "    observed_data = pm.Multinomial('observed_data', n=n, p=probs, observed=observed)\n",
    "    \n",
    "    # Sample from the posterior\n",
    "    trace = pm.sample(1000, tune=1000, return_inferencedata=True)\n",
    "\n",
    "# Display results\n",
    "import arviz as az\n",
    "az.plot_trace(trace)"
   ]
  },
  {
   "cell_type": "code",
   "execution_count": null,
   "id": "8f540302-4450-4c76-af07-29ee5d92a5dc",
   "metadata": {},
   "outputs": [],
   "source": []
  }
 ],
 "metadata": {
  "kernelspec": {
   "display_name": "Python 3 (ipykernel)",
   "language": "python",
   "name": "python3"
  },
  "language_info": {
   "codemirror_mode": {
    "name": "ipython",
    "version": 3
   },
   "file_extension": ".py",
   "mimetype": "text/x-python",
   "name": "python",
   "nbconvert_exporter": "python",
   "pygments_lexer": "ipython3",
   "version": "3.9.16"
  }
 },
 "nbformat": 4,
 "nbformat_minor": 5
}
