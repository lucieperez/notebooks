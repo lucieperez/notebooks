{
 "cells": [
  {
   "cell_type": "code",
   "execution_count": 1,
   "id": "c620a3ca",
   "metadata": {},
   "outputs": [],
   "source": [
    "import pandas as pd"
   ]
  },
  {
   "cell_type": "code",
   "execution_count": 2,
   "id": "afb4dafe",
   "metadata": {},
   "outputs": [],
   "source": [
    "# Import the Isaiah dataset\n",
    "df1 = pd.read_csv(\"../../1_annotation_tools/data/biblical_datasets/isaiah/annotation_df_history/isaiah_dataset.csv\").fillna(\"\")"
   ]
  },
  {
   "cell_type": "code",
   "execution_count": 3,
   "id": "fb56413b",
   "metadata": {},
   "outputs": [],
   "source": [
    "# Set options to visualise all the columns\n",
    "pd.set_option('display.max_columns', None)\n",
    "#pd.set_option('display.max_rows', None)"
   ]
  },
  {
   "cell_type": "code",
   "execution_count": 4,
   "id": "cb6cb6f8",
   "metadata": {
    "scrolled": true
   },
   "outputs": [],
   "source": [
    "# Display the dataframe\n",
    "#df1"
   ]
  },
  {
   "cell_type": "code",
   "execution_count": 5,
   "id": "bc8883dd",
   "metadata": {
    "scrolled": true
   },
   "outputs": [
    {
     "data": {
      "text/plain": [
       "179"
      ]
     },
     "execution_count": 5,
     "metadata": {},
     "output_type": "execute_result"
    }
   ],
   "source": [
    "# Select only the desired part of the dataframe: Masoretic Text and Verbs having a complement (excluding sources with MN)\n",
    "df = df1[(df1.scroll == \"MT\") & (df1.complement != \"no complement\") & (df1.cmpl_anim != \"anim inanim\") &(df1.preposition_1 != \"MN\")].reset_index()\n",
    "\n",
    "len(df)"
   ]
  },
  {
   "cell_type": "code",
   "execution_count": 6,
   "id": "33d4634e",
   "metadata": {},
   "outputs": [
    {
     "name": "stdout",
     "output_type": "stream",
     "text": [
      "Set of cmpl_constr for prep construction:  {'prep', 'prep + dir-he'}\n",
      "Set of cmpl_constr for non-prep construction:  {'vc', 'dir-he'}\n"
     ]
    }
   ],
   "source": [
    "# Add a new variable: construction (prepositional vs non prepositional, prep / non_prep)\n",
    "set(df.cmpl_constr)\n",
    "\n",
    "# Create a mapping dictionary\n",
    "mapping = {\n",
    "    'dir-he': 'non-prep',\n",
    "    'vc': 'non-prep',\n",
    "    'prep': 'prep',\n",
    "    'prep + dir-he': 'prep'\n",
    "}\n",
    "\n",
    "# Create the new column 'construction' using the map function\n",
    "df['construction'] = df['cmpl_constr'].map(mapping)\n",
    "\n",
    "# Verification\n",
    "print(\"Set of cmpl_constr for prep construction: \", set(df[df.construction == \"prep\"].cmpl_constr))\n",
    "print(\"Set of cmpl_constr for non-prep construction: \", set(df[df.construction == \"non-prep\"].cmpl_constr))"
   ]
  },
  {
   "cell_type": "code",
   "execution_count": 7,
   "id": "fdc787d4",
   "metadata": {},
   "outputs": [
    {
     "name": "stdout",
     "output_type": "stream",
     "text": [
      "Values for complement animacy variables:  {'inanim', 'anim'}\n",
      "Values for complement definiteness variables:  {'det', 'und'}\n"
     ]
    }
   ],
   "source": [
    "# Display sets of the values for each variable of interest\n",
    "\n",
    "# Animacy\n",
    "print(\"Values for complement animacy variables: \", set(df.cmpl_anim))\n",
    "\n",
    "# Definiteness\n",
    "print(\"Values for complement definiteness variables: \", set(df.cmpl_det))"
   ]
  },
  {
   "cell_type": "code",
   "execution_count": 8,
   "id": "d8150078",
   "metadata": {},
   "outputs": [],
   "source": [
    "df.to_csv(\"data/sbl_isaiah_cmpls.csv\", index=False)"
   ]
  },
  {
   "cell_type": "code",
   "execution_count": null,
   "id": "e9755fee",
   "metadata": {},
   "outputs": [],
   "source": []
  }
 ],
 "metadata": {
  "kernelspec": {
   "display_name": "Python 3 (ipykernel)",
   "language": "python",
   "name": "python3"
  },
  "language_info": {
   "codemirror_mode": {
    "name": "ipython",
    "version": 3
   },
   "file_extension": ".py",
   "mimetype": "text/x-python",
   "name": "python",
   "nbconvert_exporter": "python",
   "pygments_lexer": "ipython3",
   "version": "3.9.16"
  }
 },
 "nbformat": 4,
 "nbformat_minor": 5
}
