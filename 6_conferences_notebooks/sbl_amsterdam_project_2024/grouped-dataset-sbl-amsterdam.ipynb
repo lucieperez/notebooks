{
 "cells": [
  {
   "cell_type": "code",
   "execution_count": 50,
   "id": "50f1f2e6",
   "metadata": {},
   "outputs": [],
   "source": [
    "import pandas as pd"
   ]
  },
  {
   "cell_type": "code",
   "execution_count": 51,
   "id": "eed5596c",
   "metadata": {},
   "outputs": [],
   "source": [
    "# Import the Isaiah dataset\n",
    "df1 = pd.read_csv(\"../../1_annotation_tools/data/biblical_datasets/isaiah/annotation_df_history/isaiah_dataset.csv\").fillna(\"\")\n",
    "df2 = pd.read_csv(\"../../1_annotation_tools/data/biblical_datasets/deuteronomy/annotation_df_history/Deuteronomy_dataset.csv\").fillna(\"\")\n",
    "df3 = pd.read_csv(\"../../1_annotation_tools/data/biblical_datasets/exodus/annotation_df_history/Exodus_dataset.csv\").fillna(\"\")"
   ]
  },
  {
   "cell_type": "code",
   "execution_count": 52,
   "id": "55ff3a2c",
   "metadata": {},
   "outputs": [],
   "source": [
    "pd.set_option(\"display.max_columns\", None)"
   ]
  },
  {
   "cell_type": "code",
   "execution_count": 53,
   "id": "48534605",
   "metadata": {},
   "outputs": [],
   "source": [
    "frames = [df1, df2, df3]\n",
    "df = pd.concat(frames)"
   ]
  },
  {
   "cell_type": "code",
   "execution_count": 54,
   "id": "e7ce1b4a",
   "metadata": {},
   "outputs": [
    {
     "data": {
      "text/plain": [
       "3444"
      ]
     },
     "execution_count": 54,
     "metadata": {},
     "output_type": "execute_result"
    }
   ],
   "source": [
    "len(df)"
   ]
  },
  {
   "cell_type": "code",
   "execution_count": 55,
   "id": "de86ceaa",
   "metadata": {},
   "outputs": [
    {
     "data": {
      "text/plain": [
       "659"
      ]
     },
     "execution_count": 55,
     "metadata": {},
     "output_type": "execute_result"
    }
   ],
   "source": [
    "# Select only the desired part of the dataframe: Masoretic Text and Verbs having a complement (excluding sources with MN)\n",
    "df = df[(df.scroll == \"MT\") & (df.complement != \"no complement\") & (df.cmpl_anim != \"anim inanim\") & (df.preposition_1 != \"MN\")]\n",
    "\n",
    "len(df)"
   ]
  },
  {
   "cell_type": "code",
   "execution_count": 56,
   "id": "06106778",
   "metadata": {},
   "outputs": [
    {
     "name": "stdout",
     "output_type": "stream",
     "text": [
      "Set of cmpl_constr for prep construction:  {'prep + dir-he', 'prep', 'prep + prep + prep', 'prep + prep'}\n",
      "Set of cmpl_constr for non-prep construction:  {'vc', 'dir-he', 'dir_he'}\n"
     ]
    }
   ],
   "source": [
    "# Add a new variable: construction (prepositional vs non prepositional, prep / non_prep)\n",
    "set(df.cmpl_constr)\n",
    "\n",
    "# Create a mapping dictionary\n",
    "mapping = {\n",
    "    'dir-he': 'non-prep',\n",
    "    'dir_he': 'non-prep',\n",
    "    'vc': 'non-prep',\n",
    "    'prep': 'prep',\n",
    "    'prep + dir-he': 'prep',\n",
    "    'prep + prep': 'prep',\n",
    "    'prep + prep + prep': 'prep',\n",
    "}\n",
    "\n",
    "# Create the new column 'construction' using the map function\n",
    "df['construction'] = df['cmpl_constr'].map(mapping)\n",
    "\n",
    "# Verification\n",
    "print(\"Set of cmpl_constr for prep construction: \", set(df[df.construction == \"prep\"].cmpl_constr))\n",
    "print(\"Set of cmpl_constr for non-prep construction: \", set(df[df.construction == \"non-prep\"].cmpl_constr))"
   ]
  },
  {
   "cell_type": "code",
   "execution_count": 57,
   "id": "9c317548",
   "metadata": {},
   "outputs": [
    {
     "name": "stdout",
     "output_type": "stream",
     "text": [
      "Values for complement animacy variables:  {'anim', 'inanim'}\n",
      "Values for complement definiteness variables:  {'det', 'und'}\n"
     ]
    }
   ],
   "source": [
    "# Display sets of the values for each variable of interest\n",
    "\n",
    "# Animacy\n",
    "print(\"Values for complement animacy variables: \", set(df.cmpl_anim))\n",
    "\n",
    "# Definiteness\n",
    "print(\"Values for complement definiteness variables: \", set(df.cmpl_det))"
   ]
  },
  {
   "cell_type": "code",
   "execution_count": 58,
   "id": "8d1307ca",
   "metadata": {},
   "outputs": [
    {
     "data": {
      "text/html": [
       "<div>\n",
       "<style scoped>\n",
       "    .dataframe tbody tr th:only-of-type {\n",
       "        vertical-align: middle;\n",
       "    }\n",
       "\n",
       "    .dataframe tbody tr th {\n",
       "        vertical-align: top;\n",
       "    }\n",
       "\n",
       "    .dataframe thead th {\n",
       "        text-align: right;\n",
       "    }\n",
       "</style>\n",
       "<table border=\"1\" class=\"dataframe\">\n",
       "  <thead>\n",
       "    <tr style=\"text-align: right;\">\n",
       "      <th></th>\n",
       "      <th>verb_id</th>\n",
       "      <th>lex</th>\n",
       "      <th>scroll</th>\n",
       "      <th>book</th>\n",
       "      <th>chapter</th>\n",
       "      <th>verse_num</th>\n",
       "      <th>gcons_verb</th>\n",
       "      <th>gcons_verse</th>\n",
       "      <th>sign_info</th>\n",
       "      <th>stem</th>\n",
       "      <th>tense</th>\n",
       "      <th>gcons_clause</th>\n",
       "      <th>subject</th>\n",
       "      <th>complement</th>\n",
       "      <th>cmpl_lex</th>\n",
       "      <th>cmpl_translation</th>\n",
       "      <th>dir_he</th>\n",
       "      <th>cmpl_constr</th>\n",
       "      <th>cmpl_nt</th>\n",
       "      <th>cmpl_anim</th>\n",
       "      <th>cmpl_det</th>\n",
       "      <th>cmpl_indiv</th>\n",
       "      <th>cmpl_complex</th>\n",
       "      <th>motion_type</th>\n",
       "      <th>preposition_1</th>\n",
       "      <th>preposition_2</th>\n",
       "      <th>preposition_3</th>\n",
       "      <th>preposition_4</th>\n",
       "      <th>comments</th>\n",
       "      <th>reconstructed_verse</th>\n",
       "      <th>construction</th>\n",
       "    </tr>\n",
       "  </thead>\n",
       "  <tbody>\n",
       "  </tbody>\n",
       "</table>\n",
       "</div>"
      ],
      "text/plain": [
       "Empty DataFrame\n",
       "Columns: [verb_id, lex, scroll, book, chapter, verse_num, gcons_verb, gcons_verse, sign_info, stem, tense, gcons_clause, subject, complement, cmpl_lex, cmpl_translation, dir_he, cmpl_constr, cmpl_nt, cmpl_anim, cmpl_det, cmpl_indiv, cmpl_complex, motion_type, preposition_1, preposition_2, preposition_3, preposition_4, comments, reconstructed_verse, construction]\n",
       "Index: []"
      ]
     },
     "execution_count": 58,
     "metadata": {},
     "output_type": "execute_result"
    }
   ],
   "source": [
    "df[(df.construction != \"prep\") & (df.construction != \"non-prep\")]"
   ]
  },
  {
   "cell_type": "code",
   "execution_count": 59,
   "id": "37ba803b",
   "metadata": {},
   "outputs": [],
   "source": [
    "df.to_csv(\"data/sbl_grouped_cmpls.csv\", index=False)"
   ]
  },
  {
   "cell_type": "code",
   "execution_count": null,
   "id": "2232663b",
   "metadata": {},
   "outputs": [],
   "source": []
  },
  {
   "cell_type": "code",
   "execution_count": null,
   "id": "71d7b6a3",
   "metadata": {},
   "outputs": [],
   "source": []
  }
 ],
 "metadata": {
  "kernelspec": {
   "display_name": "Python 3 (ipykernel)",
   "language": "python",
   "name": "python3"
  },
  "language_info": {
   "codemirror_mode": {
    "name": "ipython",
    "version": 3
   },
   "file_extension": ".py",
   "mimetype": "text/x-python",
   "name": "python",
   "nbconvert_exporter": "python",
   "pygments_lexer": "ipython3",
   "version": "3.9.16"
  }
 },
 "nbformat": 4,
 "nbformat_minor": 5
}
