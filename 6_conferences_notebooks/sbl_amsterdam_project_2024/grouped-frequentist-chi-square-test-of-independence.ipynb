{
 "cells": [
  {
   "cell_type": "code",
   "execution_count": 2,
   "id": "d01d47ff",
   "metadata": {},
   "outputs": [],
   "source": [
    "import pandas as pd\n",
    "import numpy as np\n",
    "from scipy.stats import chi2_contingency"
   ]
  },
  {
   "cell_type": "markdown",
   "id": "cf7ee636",
   "metadata": {},
   "source": [
    "## 1. Data"
   ]
  },
  {
   "cell_type": "code",
   "execution_count": 3,
   "id": "59e37a9a",
   "metadata": {},
   "outputs": [],
   "source": [
    "# Import the original dataset\n",
    "\n",
    "df = pd.read_csv(\"data/sbl_grouped_cmpls.csv\").fillna(\"\")"
   ]
  },
  {
   "cell_type": "code",
   "execution_count": 4,
   "id": "943d8f8a",
   "metadata": {},
   "outputs": [
    {
     "data": {
      "text/plain": [
       "659"
      ]
     },
     "execution_count": 4,
     "metadata": {},
     "output_type": "execute_result"
    }
   ],
   "source": [
    "len(df)"
   ]
  },
  {
   "cell_type": "code",
   "execution_count": 4,
   "id": "6ee246f9",
   "metadata": {},
   "outputs": [],
   "source": [
    "pd.set_option(\"display.max_columns\", None)"
   ]
  },
  {
   "cell_type": "code",
   "execution_count": 5,
   "id": "36d994bf",
   "metadata": {
    "scrolled": true
   },
   "outputs": [
    {
     "data": {
      "text/html": [
       "<div>\n",
       "<style scoped>\n",
       "    .dataframe tbody tr th:only-of-type {\n",
       "        vertical-align: middle;\n",
       "    }\n",
       "\n",
       "    .dataframe tbody tr th {\n",
       "        vertical-align: top;\n",
       "    }\n",
       "\n",
       "    .dataframe thead th {\n",
       "        text-align: right;\n",
       "    }\n",
       "</style>\n",
       "<table border=\"1\" class=\"dataframe\">\n",
       "  <thead>\n",
       "    <tr style=\"text-align: right;\">\n",
       "      <th></th>\n",
       "      <th>verb_id</th>\n",
       "      <th>lex</th>\n",
       "      <th>scroll</th>\n",
       "      <th>book</th>\n",
       "      <th>chapter</th>\n",
       "      <th>verse_num</th>\n",
       "      <th>gcons_verb</th>\n",
       "      <th>gcons_verse</th>\n",
       "      <th>sign_info</th>\n",
       "      <th>stem</th>\n",
       "      <th>tense</th>\n",
       "      <th>gcons_clause</th>\n",
       "      <th>subject</th>\n",
       "      <th>complement</th>\n",
       "      <th>cmpl_lex</th>\n",
       "      <th>cmpl_translation</th>\n",
       "      <th>dir_he</th>\n",
       "      <th>cmpl_constr</th>\n",
       "      <th>cmpl_nt</th>\n",
       "      <th>cmpl_anim</th>\n",
       "      <th>cmpl_det</th>\n",
       "      <th>cmpl_indiv</th>\n",
       "      <th>cmpl_complex</th>\n",
       "      <th>motion_type</th>\n",
       "      <th>preposition_1</th>\n",
       "      <th>preposition_2</th>\n",
       "      <th>preposition_3</th>\n",
       "      <th>preposition_4</th>\n",
       "      <th>comments</th>\n",
       "      <th>reconstructed_verse</th>\n",
       "      <th>construction</th>\n",
       "    </tr>\n",
       "  </thead>\n",
       "  <tbody>\n",
       "    <tr>\n",
       "      <th>33</th>\n",
       "      <td>216346</td>\n",
       "      <td>&lt;WP[</td>\n",
       "      <td>MT</td>\n",
       "      <td>Isaiah</td>\n",
       "      <td>11</td>\n",
       "      <td>14</td>\n",
       "      <td>&lt;PW</td>\n",
       "      <td>W &lt;PW B KTP PLCTJM JMH JXDW JBZW &gt;T BNJ QDM &gt;D...</td>\n",
       "      <td></td>\n",
       "      <td>qal</td>\n",
       "      <td>perf</td>\n",
       "      <td>W &lt;PW B KTP PLCTJM JMH</td>\n",
       "      <td></td>\n",
       "      <td>PLCTJM</td>\n",
       "      <td>PLCTJ/</td>\n",
       "      <td>towards the Philistines</td>\n",
       "      <td>0.0</td>\n",
       "      <td>vc</td>\n",
       "      <td>gens</td>\n",
       "      <td>anim</td>\n",
       "      <td>und</td>\n",
       "      <td>nmpr</td>\n",
       "      <td>simple</td>\n",
       "      <td>factive</td>\n",
       "      <td></td>\n",
       "      <td></td>\n",
       "      <td></td>\n",
       "      <td></td>\n",
       "      <td></td>\n",
       "      <td></td>\n",
       "      <td>non-prep</td>\n",
       "    </tr>\n",
       "  </tbody>\n",
       "</table>\n",
       "</div>"
      ],
      "text/plain": [
       "    verb_id   lex scroll    book  chapter  verse_num gcons_verb  \\\n",
       "33   216346  <WP[     MT  Isaiah       11         14        <PW   \n",
       "\n",
       "                                          gcons_verse sign_info stem tense  \\\n",
       "33  W <PW B KTP PLCTJM JMH JXDW JBZW >T BNJ QDM >D...            qal  perf   \n",
       "\n",
       "              gcons_clause subject complement cmpl_lex  \\\n",
       "33  W <PW B KTP PLCTJM JMH             PLCTJM   PLCTJ/   \n",
       "\n",
       "           cmpl_translation  dir_he cmpl_constr cmpl_nt cmpl_anim cmpl_det  \\\n",
       "33  towards the Philistines     0.0          vc    gens      anim      und   \n",
       "\n",
       "   cmpl_indiv cmpl_complex motion_type preposition_1 preposition_2  \\\n",
       "33       nmpr       simple     factive                               \n",
       "\n",
       "   preposition_3 preposition_4 comments reconstructed_verse construction  \n",
       "33                                                              non-prep  "
      ]
     },
     "execution_count": 5,
     "metadata": {},
     "output_type": "execute_result"
    }
   ],
   "source": [
    "df[(df.construction==\"non-prep\") & (df.cmpl_anim ==\"anim\")]"
   ]
  },
  {
   "cell_type": "markdown",
   "id": "d5e33693",
   "metadata": {},
   "source": [
    "## 2. Chi Square Test of Independence: Cmpl Construction and Cmpl Animacy"
   ]
  },
  {
   "cell_type": "code",
   "execution_count": 11,
   "id": "8fd6beb4",
   "metadata": {},
   "outputs": [
    {
     "name": "stdout",
     "output_type": "stream",
     "text": [
      "Chi-Square Statistic: 58.96218036195984\n",
      "P-value: 1.6073179256695774e-14\n",
      "Degrees of Freedom: 1\n",
      "Expected Frequencies: the expected frequencies should all be >= 5 for the Chi2 test to be appropriate\n",
      " [[ 36.53869499  84.46130501]\n",
      " [162.46130501 375.53869499]]\n"
     ]
    }
   ],
   "source": [
    "# Contingency table\n",
    "contingency_table_anim = pd.crosstab(df['construction'], df['cmpl_anim'])\n",
    "\n",
    "# Convert the contingency table to a numpy array\n",
    "observed = contingency_table_anim.values\n",
    "\n",
    "# Perform the chi-square test\n",
    "chi2, p, dof, expected = chi2_contingency(observed)\n",
    "\n",
    "# Output the results\n",
    "print(\"Chi-Square Statistic:\", chi2)\n",
    "print(\"P-value:\", p)\n",
    "print(\"Degrees of Freedom:\", dof)\n",
    "print(\"Expected Frequencies: the expected frequencies should all be >= 5 for the Chi2 test to be appropriate\\n\", expected)\n",
    "\n"
   ]
  },
  {
   "cell_type": "code",
   "execution_count": 12,
   "id": "e0b8c4cb",
   "metadata": {},
   "outputs": [
    {
     "data": {
      "text/html": [
       "<div>\n",
       "<style scoped>\n",
       "    .dataframe tbody tr th:only-of-type {\n",
       "        vertical-align: middle;\n",
       "    }\n",
       "\n",
       "    .dataframe tbody tr th {\n",
       "        vertical-align: top;\n",
       "    }\n",
       "\n",
       "    .dataframe thead th {\n",
       "        text-align: right;\n",
       "    }\n",
       "</style>\n",
       "<table border=\"1\" class=\"dataframe\">\n",
       "  <thead>\n",
       "    <tr style=\"text-align: right;\">\n",
       "      <th>cmpl_anim</th>\n",
       "      <th>anim</th>\n",
       "      <th>inanim</th>\n",
       "    </tr>\n",
       "    <tr>\n",
       "      <th>construction</th>\n",
       "      <th></th>\n",
       "      <th></th>\n",
       "    </tr>\n",
       "  </thead>\n",
       "  <tbody>\n",
       "    <tr>\n",
       "      <th>non-prep</th>\n",
       "      <td>1</td>\n",
       "      <td>120</td>\n",
       "    </tr>\n",
       "    <tr>\n",
       "      <th>prep</th>\n",
       "      <td>198</td>\n",
       "      <td>340</td>\n",
       "    </tr>\n",
       "  </tbody>\n",
       "</table>\n",
       "</div>"
      ],
      "text/plain": [
       "cmpl_anim     anim  inanim\n",
       "construction              \n",
       "non-prep         1     120\n",
       "prep           198     340"
      ]
     },
     "execution_count": 12,
     "metadata": {},
     "output_type": "execute_result"
    }
   ],
   "source": [
    "contingency_table_anim"
   ]
  },
  {
   "cell_type": "markdown",
   "id": "d93f5b3f",
   "metadata": {},
   "source": [
    "## 3. Chi Square Test of Independence: Cmpl Construction and Cmpl Definiteness"
   ]
  },
  {
   "cell_type": "code",
   "execution_count": 13,
   "id": "c523c885",
   "metadata": {},
   "outputs": [
    {
     "name": "stdout",
     "output_type": "stream",
     "text": [
      "Chi-Square Statistic: 2.624187150649214\n",
      "P-value: 0.10524638986744972\n",
      "Degrees of Freedom: 1\n",
      "Expected Frequencies: the expected frequencies should all be >= 5 for the Chi2 test to be appropriate\n",
      " [[114.20637329   6.79362671]\n",
      " [507.79362671  30.20637329]]\n"
     ]
    }
   ],
   "source": [
    "# Contingency table\n",
    "contingency_table_det = pd.crosstab(df['construction'], df['cmpl_det'])\n",
    "\n",
    "# Convert the contingency table to a numpy array\n",
    "observed = contingency_table_det.values\n",
    "\n",
    "# Perform the chi-square test\n",
    "chi2, p, dof, expected = chi2_contingency(observed)\n",
    "\n",
    "# Output the results\n",
    "print(\"Chi-Square Statistic:\", chi2)\n",
    "print(\"P-value:\", p)\n",
    "print(\"Degrees of Freedom:\", dof)\n",
    "print(\"Expected Frequencies: the expected frequencies should all be >= 5 for the Chi2 test to be appropriate\\n\", expected)"
   ]
  },
  {
   "cell_type": "code",
   "execution_count": 14,
   "id": "7613f928",
   "metadata": {},
   "outputs": [
    {
     "data": {
      "text/html": [
       "<div>\n",
       "<style scoped>\n",
       "    .dataframe tbody tr th:only-of-type {\n",
       "        vertical-align: middle;\n",
       "    }\n",
       "\n",
       "    .dataframe tbody tr th {\n",
       "        vertical-align: top;\n",
       "    }\n",
       "\n",
       "    .dataframe thead th {\n",
       "        text-align: right;\n",
       "    }\n",
       "</style>\n",
       "<table border=\"1\" class=\"dataframe\">\n",
       "  <thead>\n",
       "    <tr style=\"text-align: right;\">\n",
       "      <th>cmpl_det</th>\n",
       "      <th>det</th>\n",
       "      <th>und</th>\n",
       "    </tr>\n",
       "    <tr>\n",
       "      <th>construction</th>\n",
       "      <th></th>\n",
       "      <th></th>\n",
       "    </tr>\n",
       "  </thead>\n",
       "  <tbody>\n",
       "    <tr>\n",
       "      <th>non-prep</th>\n",
       "      <td>110</td>\n",
       "      <td>11</td>\n",
       "    </tr>\n",
       "    <tr>\n",
       "      <th>prep</th>\n",
       "      <td>512</td>\n",
       "      <td>26</td>\n",
       "    </tr>\n",
       "  </tbody>\n",
       "</table>\n",
       "</div>"
      ],
      "text/plain": [
       "cmpl_det      det  und\n",
       "construction          \n",
       "non-prep      110   11\n",
       "prep          512   26"
      ]
     },
     "execution_count": 14,
     "metadata": {},
     "output_type": "execute_result"
    }
   ],
   "source": [
    "contingency_table_det"
   ]
  },
  {
   "cell_type": "code",
   "execution_count": null,
   "id": "0e329e74",
   "metadata": {},
   "outputs": [],
   "source": []
  }
 ],
 "metadata": {
  "kernelspec": {
   "display_name": "Python 3 (ipykernel)",
   "language": "python",
   "name": "python3"
  },
  "language_info": {
   "codemirror_mode": {
    "name": "ipython",
    "version": 3
   },
   "file_extension": ".py",
   "mimetype": "text/x-python",
   "name": "python",
   "nbconvert_exporter": "python",
   "pygments_lexer": "ipython3",
   "version": "3.9.16"
  }
 },
 "nbformat": 4,
 "nbformat_minor": 5
}
