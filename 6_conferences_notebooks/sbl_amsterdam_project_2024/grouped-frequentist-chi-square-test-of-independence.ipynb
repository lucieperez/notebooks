{
 "cells": [
  {
   "cell_type": "code",
   "execution_count": 1,
   "id": "d01d47ff",
   "metadata": {},
   "outputs": [],
   "source": [
    "import pandas as pd\n",
    "import numpy as np\n",
    "from scipy.stats import chi2_contingency"
   ]
  },
  {
   "cell_type": "markdown",
   "id": "cf7ee636",
   "metadata": {},
   "source": [
    "## 1. Data"
   ]
  },
  {
   "cell_type": "code",
   "execution_count": 2,
   "id": "59e37a9a",
   "metadata": {},
   "outputs": [],
   "source": [
    "# Import the original dataset\n",
    "\n",
    "df_complete = pd.read_csv(\"data/sbl_grouped_cmpls_for_annot.csv\").fillna(\"\")"
   ]
  },
  {
   "cell_type": "code",
   "execution_count": 3,
   "id": "943d8f8a",
   "metadata": {},
   "outputs": [
    {
     "data": {
      "text/plain": [
       "660"
      ]
     },
     "execution_count": 3,
     "metadata": {},
     "output_type": "execute_result"
    }
   ],
   "source": [
    "len(df_complete)"
   ]
  },
  {
   "cell_type": "code",
   "execution_count": 4,
   "id": "6ee246f9",
   "metadata": {},
   "outputs": [],
   "source": [
    "pd.set_option(\"display.max_columns\", None)"
   ]
  },
  {
   "cell_type": "code",
   "execution_count": 5,
   "id": "816aedef",
   "metadata": {},
   "outputs": [
    {
     "data": {
      "text/html": [
       "<div>\n",
       "<style scoped>\n",
       "    .dataframe tbody tr th:only-of-type {\n",
       "        vertical-align: middle;\n",
       "    }\n",
       "\n",
       "    .dataframe tbody tr th {\n",
       "        vertical-align: top;\n",
       "    }\n",
       "\n",
       "    .dataframe thead th {\n",
       "        text-align: right;\n",
       "    }\n",
       "</style>\n",
       "<table border=\"1\" class=\"dataframe\">\n",
       "  <thead>\n",
       "    <tr style=\"text-align: right;\">\n",
       "      <th></th>\n",
       "      <th>verb_id</th>\n",
       "      <th>lex</th>\n",
       "      <th>scroll</th>\n",
       "      <th>book</th>\n",
       "      <th>chapter</th>\n",
       "      <th>verse_num</th>\n",
       "      <th>gcons_verb</th>\n",
       "      <th>gcons_verse</th>\n",
       "      <th>sign_info</th>\n",
       "      <th>stem</th>\n",
       "      <th>tense</th>\n",
       "      <th>gcons_clause</th>\n",
       "      <th>subject</th>\n",
       "      <th>complement</th>\n",
       "      <th>cmpl_lex</th>\n",
       "      <th>cmpl_translation</th>\n",
       "      <th>dir_he</th>\n",
       "      <th>cmpl_constr</th>\n",
       "      <th>cmpl_nt</th>\n",
       "      <th>cmpl_anim</th>\n",
       "      <th>cmpl_det</th>\n",
       "      <th>cmpl_indiv</th>\n",
       "      <th>cmpl_complex</th>\n",
       "      <th>motion_type</th>\n",
       "      <th>spatial_arg_type</th>\n",
       "      <th>preposition_1</th>\n",
       "      <th>preposition_2</th>\n",
       "      <th>preposition_3</th>\n",
       "      <th>preposition_4</th>\n",
       "      <th>comments</th>\n",
       "      <th>reconstructed_verse</th>\n",
       "    </tr>\n",
       "  </thead>\n",
       "  <tbody>\n",
       "    <tr>\n",
       "      <th>0</th>\n",
       "      <td>212418</td>\n",
       "      <td>BW&gt;[</td>\n",
       "      <td>MT</td>\n",
       "      <td>Isaiah</td>\n",
       "      <td>1</td>\n",
       "      <td>23</td>\n",
       "      <td>JBW&gt;</td>\n",
       "      <td>FRJK SWRRJM W XBRJ GNBJM KLW &gt;HB CXD W RDP CLM...</td>\n",
       "      <td></td>\n",
       "      <td>qal</td>\n",
       "      <td>impf</td>\n",
       "      <td>W RJB &gt;LMNH L&gt; JBW&gt; &gt;LJHM</td>\n",
       "      <td>RJB &gt;LMNH</td>\n",
       "      <td>&gt;LJHM</td>\n",
       "      <td>&gt;L</td>\n",
       "      <td>to them</td>\n",
       "      <td>0.0</td>\n",
       "      <td>prep</td>\n",
       "      <td>prps</td>\n",
       "      <td>anim</td>\n",
       "      <td>det</td>\n",
       "      <td>prsf</td>\n",
       "      <td>simple</td>\n",
       "      <td>fictive</td>\n",
       "      <td>goal</td>\n",
       "      <td>&gt;L</td>\n",
       "      <td></td>\n",
       "      <td></td>\n",
       "      <td></td>\n",
       "      <td>the cause of the widow does not come to them, ...</td>\n",
       "      <td></td>\n",
       "    </tr>\n",
       "    <tr>\n",
       "      <th>1</th>\n",
       "      <td>212437</td>\n",
       "      <td>CWB[</td>\n",
       "      <td>MT</td>\n",
       "      <td>Isaiah</td>\n",
       "      <td>1</td>\n",
       "      <td>25</td>\n",
       "      <td>&gt;CJBH</td>\n",
       "      <td>W &gt;CJBH JDJ &lt;LJK W &gt;YRP K BR SJGJK W &gt;SJRH KL ...</td>\n",
       "      <td></td>\n",
       "      <td>hif</td>\n",
       "      <td>impf</td>\n",
       "      <td>W &gt;CJBH JDJ &lt;LJK</td>\n",
       "      <td></td>\n",
       "      <td>&lt;LJK</td>\n",
       "      <td>&lt;L</td>\n",
       "      <td>against you</td>\n",
       "      <td>0.0</td>\n",
       "      <td>prep</td>\n",
       "      <td>prps</td>\n",
       "      <td>anim</td>\n",
       "      <td>det</td>\n",
       "      <td>prsf</td>\n",
       "      <td>simple</td>\n",
       "      <td>posture/not motion</td>\n",
       "      <td>goal/recipient</td>\n",
       "      <td>&lt;L</td>\n",
       "      <td></td>\n",
       "      <td></td>\n",
       "      <td></td>\n",
       "      <td></td>\n",
       "      <td></td>\n",
       "    </tr>\n",
       "    <tr>\n",
       "      <th>2</th>\n",
       "      <td>212564</td>\n",
       "      <td>NHR[</td>\n",
       "      <td>MT</td>\n",
       "      <td>Isaiah</td>\n",
       "      <td>2</td>\n",
       "      <td>2</td>\n",
       "      <td>NHRW</td>\n",
       "      <td>W HJH B &gt;XRJT H JMJM NKWN JHJH HR BJT JHWH B R...</td>\n",
       "      <td></td>\n",
       "      <td>qal</td>\n",
       "      <td>perf</td>\n",
       "      <td>W NHRW &gt;LJW KL H GWJM</td>\n",
       "      <td>KL H GWJM</td>\n",
       "      <td>&gt;LJW</td>\n",
       "      <td>&gt;L</td>\n",
       "      <td>to it (the mountain)</td>\n",
       "      <td>0.0</td>\n",
       "      <td>prep</td>\n",
       "      <td>prps</td>\n",
       "      <td>inanim</td>\n",
       "      <td>det</td>\n",
       "      <td>prsf</td>\n",
       "      <td>simple</td>\n",
       "      <td>factive</td>\n",
       "      <td>goal</td>\n",
       "      <td>&gt;L</td>\n",
       "      <td></td>\n",
       "      <td></td>\n",
       "      <td></td>\n",
       "      <td></td>\n",
       "      <td></td>\n",
       "    </tr>\n",
       "    <tr>\n",
       "      <th>3</th>\n",
       "      <td>212577</td>\n",
       "      <td>&lt;LH[</td>\n",
       "      <td>MT</td>\n",
       "      <td>Isaiah</td>\n",
       "      <td>2</td>\n",
       "      <td>3</td>\n",
       "      <td>N&lt;LH</td>\n",
       "      <td>W HLKW &lt;MJM RBJM W &gt;MRW LKW W N&lt;LH &gt;L HR JHWH ...</td>\n",
       "      <td></td>\n",
       "      <td>qal</td>\n",
       "      <td>impf</td>\n",
       "      <td>W N&lt;LH &gt;L HR JHWH &gt;L BJT &gt;LHJ J&lt;QB</td>\n",
       "      <td></td>\n",
       "      <td>&gt;L HR JHWH &gt;L BJT &gt;LHJ J&lt;QB</td>\n",
       "      <td>&gt;L HR/ JHWH/ &gt;L BJT/ &gt;LHJM/ J&lt;QB/</td>\n",
       "      <td>to the mountain of Yahwe to the house of the G...</td>\n",
       "      <td>0.0</td>\n",
       "      <td>prep</td>\n",
       "      <td>topo</td>\n",
       "      <td>inanim</td>\n",
       "      <td>det</td>\n",
       "      <td>subs</td>\n",
       "      <td>complex</td>\n",
       "      <td>factive</td>\n",
       "      <td>goal</td>\n",
       "      <td>&gt;L</td>\n",
       "      <td>&gt;L</td>\n",
       "      <td></td>\n",
       "      <td></td>\n",
       "      <td></td>\n",
       "      <td></td>\n",
       "    </tr>\n",
       "  </tbody>\n",
       "</table>\n",
       "</div>"
      ],
      "text/plain": [
       "   verb_id   lex scroll    book  chapter  verse_num gcons_verb  \\\n",
       "0   212418  BW>[     MT  Isaiah        1         23       JBW>   \n",
       "1   212437  CWB[     MT  Isaiah        1         25      >CJBH   \n",
       "2   212564  NHR[     MT  Isaiah        2          2       NHRW   \n",
       "3   212577  <LH[     MT  Isaiah        2          3       N<LH   \n",
       "\n",
       "                                         gcons_verse sign_info stem tense  \\\n",
       "0  FRJK SWRRJM W XBRJ GNBJM KLW >HB CXD W RDP CLM...            qal  impf   \n",
       "1  W >CJBH JDJ <LJK W >YRP K BR SJGJK W >SJRH KL ...            hif  impf   \n",
       "2  W HJH B >XRJT H JMJM NKWN JHJH HR BJT JHWH B R...            qal  perf   \n",
       "3  W HLKW <MJM RBJM W >MRW LKW W N<LH >L HR JHWH ...            qal  impf   \n",
       "\n",
       "                         gcons_clause    subject                   complement  \\\n",
       "0           W RJB >LMNH L> JBW> >LJHM  RJB >LMNH                        >LJHM   \n",
       "1                    W >CJBH JDJ <LJK                                    <LJK   \n",
       "2               W NHRW >LJW KL H GWJM  KL H GWJM                         >LJW   \n",
       "3  W N<LH >L HR JHWH >L BJT >LHJ J<QB             >L HR JHWH >L BJT >LHJ J<QB   \n",
       "\n",
       "                            cmpl_lex  \\\n",
       "0                                 >L   \n",
       "1                                 <L   \n",
       "2                                 >L   \n",
       "3  >L HR/ JHWH/ >L BJT/ >LHJM/ J<QB/   \n",
       "\n",
       "                                    cmpl_translation dir_he cmpl_constr  \\\n",
       "0                                            to them    0.0        prep   \n",
       "1                                        against you    0.0        prep   \n",
       "2                               to it (the mountain)    0.0        prep   \n",
       "3  to the mountain of Yahwe to the house of the G...    0.0        prep   \n",
       "\n",
       "  cmpl_nt cmpl_anim cmpl_det cmpl_indiv cmpl_complex         motion_type  \\\n",
       "0    prps      anim      det       prsf       simple             fictive   \n",
       "1    prps      anim      det       prsf       simple  posture/not motion   \n",
       "2    prps    inanim      det       prsf       simple             factive   \n",
       "3    topo    inanim      det       subs      complex             factive   \n",
       "\n",
       "  spatial_arg_type preposition_1 preposition_2 preposition_3 preposition_4  \\\n",
       "0             goal            >L                                             \n",
       "1   goal/recipient            <L                                             \n",
       "2             goal            >L                                             \n",
       "3             goal            >L            >L                               \n",
       "\n",
       "                                            comments reconstructed_verse  \n",
       "0  the cause of the widow does not come to them, ...                      \n",
       "1                                                                         \n",
       "2                                                                         \n",
       "3                                                                         "
      ]
     },
     "execution_count": 5,
     "metadata": {},
     "output_type": "execute_result"
    }
   ],
   "source": [
    "df_complete.head(4)"
   ]
  },
  {
   "cell_type": "code",
   "execution_count": 6,
   "id": "36d994bf",
   "metadata": {
    "scrolled": true
   },
   "outputs": [],
   "source": [
    "# Select only the rows of goals"
   ]
  },
  {
   "cell_type": "code",
   "execution_count": 7,
   "id": "8c353103",
   "metadata": {},
   "outputs": [],
   "source": [
    "df = df_complete[df_complete.spatial_arg_type == \"goal\"].copy()"
   ]
  },
  {
   "cell_type": "code",
   "execution_count": 8,
   "id": "4096a7d9",
   "metadata": {},
   "outputs": [
    {
     "data": {
      "text/plain": [
       "412"
      ]
     },
     "execution_count": 8,
     "metadata": {},
     "output_type": "execute_result"
    }
   ],
   "source": [
    "len(df)"
   ]
  },
  {
   "cell_type": "code",
   "execution_count": 9,
   "id": "1c2f84cc",
   "metadata": {},
   "outputs": [
    {
     "data": {
      "text/plain": [
       "{'dir-he',\n",
       " 'dir_he',\n",
       " 'prep',\n",
       " 'prep + dir-he',\n",
       " 'prep + prep',\n",
       " 'prep + prep + prep',\n",
       " 'vc'}"
      ]
     },
     "execution_count": 9,
     "metadata": {},
     "output_type": "execute_result"
    }
   ],
   "source": [
    "set(df.cmpl_constr)"
   ]
  },
  {
   "cell_type": "code",
   "execution_count": 10,
   "id": "534e0201",
   "metadata": {},
   "outputs": [
    {
     "data": {
      "text/html": [
       "<div>\n",
       "<style scoped>\n",
       "    .dataframe tbody tr th:only-of-type {\n",
       "        vertical-align: middle;\n",
       "    }\n",
       "\n",
       "    .dataframe tbody tr th {\n",
       "        vertical-align: top;\n",
       "    }\n",
       "\n",
       "    .dataframe thead th {\n",
       "        text-align: right;\n",
       "    }\n",
       "</style>\n",
       "<table border=\"1\" class=\"dataframe\">\n",
       "  <thead>\n",
       "    <tr style=\"text-align: right;\">\n",
       "      <th></th>\n",
       "      <th>verb_id</th>\n",
       "      <th>lex</th>\n",
       "      <th>scroll</th>\n",
       "      <th>book</th>\n",
       "      <th>chapter</th>\n",
       "      <th>verse_num</th>\n",
       "      <th>gcons_verb</th>\n",
       "      <th>gcons_verse</th>\n",
       "      <th>sign_info</th>\n",
       "      <th>stem</th>\n",
       "      <th>tense</th>\n",
       "      <th>gcons_clause</th>\n",
       "      <th>subject</th>\n",
       "      <th>complement</th>\n",
       "      <th>cmpl_lex</th>\n",
       "      <th>cmpl_translation</th>\n",
       "      <th>dir_he</th>\n",
       "      <th>cmpl_constr</th>\n",
       "      <th>cmpl_nt</th>\n",
       "      <th>cmpl_anim</th>\n",
       "      <th>cmpl_det</th>\n",
       "      <th>cmpl_indiv</th>\n",
       "      <th>cmpl_complex</th>\n",
       "      <th>motion_type</th>\n",
       "      <th>spatial_arg_type</th>\n",
       "      <th>preposition_1</th>\n",
       "      <th>preposition_2</th>\n",
       "      <th>preposition_3</th>\n",
       "      <th>preposition_4</th>\n",
       "      <th>comments</th>\n",
       "      <th>reconstructed_verse</th>\n",
       "    </tr>\n",
       "  </thead>\n",
       "  <tbody>\n",
       "    <tr>\n",
       "      <th>24</th>\n",
       "      <td>215112</td>\n",
       "      <td>PNH[</td>\n",
       "      <td>MT</td>\n",
       "      <td>Isaiah</td>\n",
       "      <td>8</td>\n",
       "      <td>21</td>\n",
       "      <td>PNH</td>\n",
       "      <td>W &lt;BR BH NQCH W R&lt;B W HJH KJ JR&lt;B W HTQYP W QL...</td>\n",
       "      <td></td>\n",
       "      <td>qal</td>\n",
       "      <td>perf</td>\n",
       "      <td>W PNH L M&lt;LH</td>\n",
       "      <td></td>\n",
       "      <td>L M&lt;LH</td>\n",
       "      <td>L M&lt;L/</td>\n",
       "      <td>upwards</td>\n",
       "      <td>1.0</td>\n",
       "      <td>prep + dir-he</td>\n",
       "      <td>dir</td>\n",
       "      <td>inanim</td>\n",
       "      <td>und</td>\n",
       "      <td>subs</td>\n",
       "      <td>simple</td>\n",
       "      <td>posture/not motion</td>\n",
       "      <td>goal</td>\n",
       "      <td>L</td>\n",
       "      <td></td>\n",
       "      <td></td>\n",
       "      <td></td>\n",
       "      <td></td>\n",
       "      <td></td>\n",
       "    </tr>\n",
       "    <tr>\n",
       "      <th>654</th>\n",
       "      <td>32836</td>\n",
       "      <td>BW&gt;[</td>\n",
       "      <td>MT</td>\n",
       "      <td>Exodus</td>\n",
       "      <td>8</td>\n",
       "      <td>20</td>\n",
       "      <td>JB&gt;</td>\n",
       "      <td>W J&lt;F JHWH KN W JB&gt; &lt;RB KBD BJTH PR&lt;H W BJT &lt;B...</td>\n",
       "      <td></td>\n",
       "      <td>qal</td>\n",
       "      <td>wayq</td>\n",
       "      <td>W JB&gt; &lt;RB KBD BJTH PR&lt;H W BJT &lt;BDJW W B KL &gt;RY...</td>\n",
       "      <td>&lt;RB KBD</td>\n",
       "      <td>BJTH PR&lt;H W BJT &lt;BDJW W B KL &gt;RY MYRJM</td>\n",
       "      <td>BJT/ PR&lt;H/ W BJT/ &lt;BD/ W B KL/ &gt;RY/ MYRJM/</td>\n",
       "      <td>in the house of Pharaoh and the house of his s...</td>\n",
       "      <td>1.0</td>\n",
       "      <td>prep + dir-he</td>\n",
       "      <td>topo</td>\n",
       "      <td>inanim</td>\n",
       "      <td>det</td>\n",
       "      <td>subs</td>\n",
       "      <td>complex</td>\n",
       "      <td>factive</td>\n",
       "      <td>goal</td>\n",
       "      <td>B</td>\n",
       "      <td></td>\n",
       "      <td></td>\n",
       "      <td></td>\n",
       "      <td></td>\n",
       "      <td></td>\n",
       "    </tr>\n",
       "  </tbody>\n",
       "</table>\n",
       "</div>"
      ],
      "text/plain": [
       "     verb_id   lex scroll    book  chapter  verse_num gcons_verb  \\\n",
       "24    215112  PNH[     MT  Isaiah        8         21        PNH   \n",
       "654    32836  BW>[     MT  Exodus        8         20        JB>   \n",
       "\n",
       "                                           gcons_verse sign_info stem tense  \\\n",
       "24   W <BR BH NQCH W R<B W HJH KJ JR<B W HTQYP W QL...            qal  perf   \n",
       "654  W J<F JHWH KN W JB> <RB KBD BJTH PR<H W BJT <B...            qal  wayq   \n",
       "\n",
       "                                          gcons_clause  subject  \\\n",
       "24                                        W PNH L M<LH            \n",
       "654  W JB> <RB KBD BJTH PR<H W BJT <BDJW W B KL >RY...  <RB KBD   \n",
       "\n",
       "                                 complement  \\\n",
       "24                                   L M<LH   \n",
       "654  BJTH PR<H W BJT <BDJW W B KL >RY MYRJM   \n",
       "\n",
       "                                       cmpl_lex  \\\n",
       "24                                       L M<L/   \n",
       "654  BJT/ PR<H/ W BJT/ <BD/ W B KL/ >RY/ MYRJM/   \n",
       "\n",
       "                                      cmpl_translation dir_he    cmpl_constr  \\\n",
       "24                                             upwards    1.0  prep + dir-he   \n",
       "654  in the house of Pharaoh and the house of his s...    1.0  prep + dir-he   \n",
       "\n",
       "    cmpl_nt cmpl_anim cmpl_det cmpl_indiv cmpl_complex         motion_type  \\\n",
       "24      dir    inanim      und       subs       simple  posture/not motion   \n",
       "654    topo    inanim      det       subs      complex             factive   \n",
       "\n",
       "    spatial_arg_type preposition_1 preposition_2 preposition_3 preposition_4  \\\n",
       "24              goal             L                                             \n",
       "654             goal             B                                             \n",
       "\n",
       "    comments reconstructed_verse  \n",
       "24                                \n",
       "654                               "
      ]
     },
     "execution_count": 10,
     "metadata": {},
     "output_type": "execute_result"
    }
   ],
   "source": [
    "df[df.cmpl_constr == \"prep + dir-he\"]"
   ]
  },
  {
   "cell_type": "code",
   "execution_count": 11,
   "id": "b4c6c140",
   "metadata": {},
   "outputs": [
    {
     "name": "stdout",
     "output_type": "stream",
     "text": [
      "Set of cmpl_constr for prep construction:  {'prep + prep', 'prep + dir-he', 'prep + prep + prep', 'prep'}\n",
      "Set of cmpl_constr for non_prep construction:  {'vc', 'dir-he', 'dir_he'}\n"
     ]
    }
   ],
   "source": [
    "# Add a new variable: construction (prepositional vs non prepositional, prep / non_prep)\n",
    "set(df.cmpl_constr)\n",
    "\n",
    "# Create a mapping dictionary\n",
    "mapping = {\n",
    "    'dir-he': 'non_prep',\n",
    "    'dir_he': 'non_prep',\n",
    "    'vc': 'non_prep',\n",
    "    'prep': 'prep',\n",
    "    'prep + dir-he': 'prep',\n",
    "    'prep + prep': 'prep',\n",
    "    'prep + prep + prep': 'prep',\n",
    "}\n",
    "\n",
    "# Create the new column 'construction' using the map function\n",
    "df['construction'] = df['cmpl_constr'].map(mapping)\n",
    "\n",
    "# Verification\n",
    "print(\"Set of cmpl_constr for prep construction: \", set(df[df.construction == \"prep\"].cmpl_constr))\n",
    "print(\"Set of cmpl_constr for non_prep construction: \", set(df[df.construction == \"non_prep\"].cmpl_constr))"
   ]
  },
  {
   "cell_type": "markdown",
   "id": "d5e33693",
   "metadata": {},
   "source": [
    "## 2. Chi Square Test of Independence: Cmpl Construction and Cmpl Animacy"
   ]
  },
  {
   "cell_type": "code",
   "execution_count": 12,
   "id": "8fd6beb4",
   "metadata": {},
   "outputs": [
    {
     "name": "stdout",
     "output_type": "stream",
     "text": [
      "Chi-Square Statistic: 48.89837235291553\n",
      "P-value: 2.695743590669114e-12\n",
      "Degrees of Freedom: 1\n",
      "Expected Frequencies: the expected frequencies should all be >= 5 for the Chi2 test to be appropriate\n",
      " [[ 27.78883495  79.21116505]\n",
      " [ 79.21116505 225.78883495]]\n"
     ]
    }
   ],
   "source": [
    "# Contingency table\n",
    "contingency_table_anim = pd.crosstab(df['construction'], df['cmpl_anim'])\n",
    "\n",
    "# Convert the contingency table to a numpy array\n",
    "observed = contingency_table_anim.values\n",
    "\n",
    "# Perform the chi-square test\n",
    "chi2, p, dof, expected = chi2_contingency(observed)\n",
    "\n",
    "# Output the results\n",
    "print(\"Chi-Square Statistic:\", chi2)\n",
    "print(\"P-value:\", p)\n",
    "print(\"Degrees of Freedom:\", dof)\n",
    "print(\"Expected Frequencies: the expected frequencies should all be >= 5 for the Chi2 test to be appropriate\\n\", expected)"
   ]
  },
  {
   "cell_type": "code",
   "execution_count": 13,
   "id": "e0b8c4cb",
   "metadata": {},
   "outputs": [
    {
     "data": {
      "text/html": [
       "<div>\n",
       "<style scoped>\n",
       "    .dataframe tbody tr th:only-of-type {\n",
       "        vertical-align: middle;\n",
       "    }\n",
       "\n",
       "    .dataframe tbody tr th {\n",
       "        vertical-align: top;\n",
       "    }\n",
       "\n",
       "    .dataframe thead th {\n",
       "        text-align: right;\n",
       "    }\n",
       "</style>\n",
       "<table border=\"1\" class=\"dataframe\">\n",
       "  <thead>\n",
       "    <tr style=\"text-align: right;\">\n",
       "      <th>cmpl_anim</th>\n",
       "      <th>anim</th>\n",
       "      <th>inanim</th>\n",
       "    </tr>\n",
       "    <tr>\n",
       "      <th>construction</th>\n",
       "      <th></th>\n",
       "      <th></th>\n",
       "    </tr>\n",
       "  </thead>\n",
       "  <tbody>\n",
       "    <tr>\n",
       "      <th>non_prep</th>\n",
       "      <td>0</td>\n",
       "      <td>107</td>\n",
       "    </tr>\n",
       "    <tr>\n",
       "      <th>prep</th>\n",
       "      <td>107</td>\n",
       "      <td>198</td>\n",
       "    </tr>\n",
       "  </tbody>\n",
       "</table>\n",
       "</div>"
      ],
      "text/plain": [
       "cmpl_anim     anim  inanim\n",
       "construction              \n",
       "non_prep         0     107\n",
       "prep           107     198"
      ]
     },
     "execution_count": 13,
     "metadata": {},
     "output_type": "execute_result"
    }
   ],
   "source": [
    "contingency_table_anim"
   ]
  },
  {
   "cell_type": "code",
   "execution_count": 14,
   "id": "b7bc9742",
   "metadata": {},
   "outputs": [
    {
     "data": {
      "text/plain": [
       "198"
      ]
     },
     "execution_count": 14,
     "metadata": {},
     "output_type": "execute_result"
    }
   ],
   "source": [
    "len(df[(df.construction == \"prep\") & (df.cmpl_anim == \"inanim\")])"
   ]
  },
  {
   "cell_type": "code",
   "execution_count": 15,
   "id": "155f2f1c",
   "metadata": {},
   "outputs": [
    {
     "data": {
      "text/plain": [
       "107"
      ]
     },
     "execution_count": 15,
     "metadata": {},
     "output_type": "execute_result"
    }
   ],
   "source": [
    "len(df[(df.construction == \"prep\") & (df.cmpl_anim == \"anim\")])"
   ]
  },
  {
   "cell_type": "code",
   "execution_count": 16,
   "id": "a99c72b7",
   "metadata": {},
   "outputs": [],
   "source": [
    "#df[(df.construction == \"prep\") & (df.cmpl_anim == \"anim\")].head(3)"
   ]
  },
  {
   "cell_type": "code",
   "execution_count": 17,
   "id": "5edc2d8a",
   "metadata": {},
   "outputs": [
    {
     "data": {
      "text/plain": [
       "107"
      ]
     },
     "execution_count": 17,
     "metadata": {},
     "output_type": "execute_result"
    }
   ],
   "source": [
    "len(df[(df.construction == \"non_prep\") & (df.cmpl_anim == \"inanim\")])"
   ]
  },
  {
   "cell_type": "markdown",
   "id": "d93f5b3f",
   "metadata": {},
   "source": [
    "## 3. Chi Square Test of Independence: Cmpl Construction and Cmpl Definiteness"
   ]
  },
  {
   "cell_type": "code",
   "execution_count": 18,
   "id": "c523c885",
   "metadata": {},
   "outputs": [
    {
     "name": "stdout",
     "output_type": "stream",
     "text": [
      "Chi-Square Statistic: 0.23746666204667752\n",
      "P-value: 0.6260418421354075\n",
      "Degrees of Freedom: 1\n",
      "Expected Frequencies: the expected frequencies should all be >= 5 for the Chi2 test to be appropriate\n",
      " [[101.5461165   5.4538835]\n",
      " [289.4538835  15.5461165]]\n"
     ]
    }
   ],
   "source": [
    "# Contingency table\n",
    "contingency_table_det = pd.crosstab(df['construction'], df['cmpl_det'])\n",
    "\n",
    "# Convert the contingency table to a numpy array\n",
    "observed = contingency_table_det.values\n",
    "\n",
    "# Perform the chi-square test\n",
    "chi2, p, dof, expected = chi2_contingency(observed)\n",
    "\n",
    "# Output the results\n",
    "print(\"Chi-Square Statistic:\", chi2)\n",
    "print(\"P-value:\", p)\n",
    "print(\"Degrees of Freedom:\", dof)\n",
    "print(\"Expected Frequencies: the expected frequencies should all be >= 5 for the Chi2 test to be appropriate\\n\", expected)"
   ]
  },
  {
   "cell_type": "code",
   "execution_count": 19,
   "id": "54b390e2",
   "metadata": {},
   "outputs": [
    {
     "data": {
      "text/plain": [
       "array([[103,   4],\n",
       "       [288,  17]], dtype=int64)"
      ]
     },
     "execution_count": 19,
     "metadata": {},
     "output_type": "execute_result"
    }
   ],
   "source": [
    "observed"
   ]
  },
  {
   "cell_type": "code",
   "execution_count": 20,
   "id": "7613f928",
   "metadata": {},
   "outputs": [
    {
     "data": {
      "text/html": [
       "<div>\n",
       "<style scoped>\n",
       "    .dataframe tbody tr th:only-of-type {\n",
       "        vertical-align: middle;\n",
       "    }\n",
       "\n",
       "    .dataframe tbody tr th {\n",
       "        vertical-align: top;\n",
       "    }\n",
       "\n",
       "    .dataframe thead th {\n",
       "        text-align: right;\n",
       "    }\n",
       "</style>\n",
       "<table border=\"1\" class=\"dataframe\">\n",
       "  <thead>\n",
       "    <tr style=\"text-align: right;\">\n",
       "      <th>cmpl_det</th>\n",
       "      <th>det</th>\n",
       "      <th>und</th>\n",
       "    </tr>\n",
       "    <tr>\n",
       "      <th>construction</th>\n",
       "      <th></th>\n",
       "      <th></th>\n",
       "    </tr>\n",
       "  </thead>\n",
       "  <tbody>\n",
       "    <tr>\n",
       "      <th>non_prep</th>\n",
       "      <td>103</td>\n",
       "      <td>4</td>\n",
       "    </tr>\n",
       "    <tr>\n",
       "      <th>prep</th>\n",
       "      <td>288</td>\n",
       "      <td>17</td>\n",
       "    </tr>\n",
       "  </tbody>\n",
       "</table>\n",
       "</div>"
      ],
      "text/plain": [
       "cmpl_det      det  und\n",
       "construction          \n",
       "non_prep      103    4\n",
       "prep          288   17"
      ]
     },
     "execution_count": 20,
     "metadata": {},
     "output_type": "execute_result"
    }
   ],
   "source": [
    "contingency_table_det"
   ]
  },
  {
   "cell_type": "markdown",
   "id": "1300b4d9",
   "metadata": {},
   "source": [
    "## 4. Different approach to constructions: prep / dir-he / vc"
   ]
  },
  {
   "cell_type": "code",
   "execution_count": 21,
   "id": "f660b346",
   "metadata": {},
   "outputs": [
    {
     "name": "stdout",
     "output_type": "stream",
     "text": [
      "Set of cmpl_constr for prep construction:  {'prep + prep', 'prep + dir-he', 'prep + prep + prep', 'prep'}\n",
      "Set of cmpl_constr for vc construction:  {'vc'}\n",
      "Set of cmpl_constr for dir-he construction:  {'dir-he', 'dir_he'}\n"
     ]
    }
   ],
   "source": [
    "# Add a new variable: construction_2 (dir-he, vc, prep)\n",
    "set(df.cmpl_constr)\n",
    "\n",
    "# Create a mapping dictionary\n",
    "mapping_2 = {\n",
    "    'dir-he': 'dir-he',\n",
    "    'dir_he': 'dir-he',\n",
    "    'vc': 'vc',\n",
    "    'prep': 'prep',\n",
    "    'prep + dir-he': 'prep',\n",
    "    'prep + prep': 'prep',\n",
    "    'prep + prep + prep': 'prep',\n",
    "}\n",
    "\n",
    "# Create the new column 'construction' using the map function\n",
    "df['construction_2'] = df['cmpl_constr'].map(mapping_2)\n",
    "\n",
    "# Verification\n",
    "print(\"Set of cmpl_constr for prep construction: \", set(df[df.construction_2 == \"prep\"].cmpl_constr))\n",
    "print(\"Set of cmpl_constr for vc construction: \", set(df[df.construction_2 == \"vc\"].cmpl_constr))\n",
    "print(\"Set of cmpl_constr for dir-he construction: \", set(df[df.construction_2 == \"dir-he\"].cmpl_constr))"
   ]
  },
  {
   "cell_type": "markdown",
   "id": "0c551017",
   "metadata": {},
   "source": [
    "## 5. Chi Square Test of independence Definiteness and Construction2"
   ]
  },
  {
   "cell_type": "code",
   "execution_count": 22,
   "id": "fe32c510",
   "metadata": {},
   "outputs": [
    {
     "name": "stdout",
     "output_type": "stream",
     "text": [
      "Chi-Square Statistic: 6.164724712708357\n",
      "P-value: 0.04585081264918512\n",
      "Degrees of Freedom: 2\n",
      "Expected Frequencies: the expected frequencies should all be >= 5 for the Chi2 test to be appropriate\n",
      " [[ 65.48300971   3.51699029]\n",
      " [289.4538835   15.5461165 ]\n",
      " [ 36.0631068    1.9368932 ]]\n"
     ]
    }
   ],
   "source": [
    "# Contingency table\n",
    "contingency_table_det = pd.crosstab(df['construction_2'], df['cmpl_det'])\n",
    "\n",
    "# Convert the contingency table to a numpy array\n",
    "observed = contingency_table_det.values\n",
    "\n",
    "# Perform the chi-square test\n",
    "chi2, p, dof, expected = chi2_contingency(observed)\n",
    "\n",
    "# Output the results\n",
    "print(\"Chi-Square Statistic:\", chi2)\n",
    "print(\"P-value:\", p)\n",
    "print(\"Degrees of Freedom:\", dof)\n",
    "print(\"Expected Frequencies: the expected frequencies should all be >= 5 for the Chi2 test to be appropriate\\n\", expected)"
   ]
  },
  {
   "cell_type": "code",
   "execution_count": 23,
   "id": "9e172d9d",
   "metadata": {},
   "outputs": [
    {
     "data": {
      "text/plain": [
       "array([[ 69,   0],\n",
       "       [288,  17],\n",
       "       [ 34,   4]], dtype=int64)"
      ]
     },
     "execution_count": 23,
     "metadata": {},
     "output_type": "execute_result"
    }
   ],
   "source": [
    "observed"
   ]
  },
  {
   "cell_type": "code",
   "execution_count": 24,
   "id": "094f01e6",
   "metadata": {},
   "outputs": [
    {
     "data": {
      "text/html": [
       "<div>\n",
       "<style scoped>\n",
       "    .dataframe tbody tr th:only-of-type {\n",
       "        vertical-align: middle;\n",
       "    }\n",
       "\n",
       "    .dataframe tbody tr th {\n",
       "        vertical-align: top;\n",
       "    }\n",
       "\n",
       "    .dataframe thead th {\n",
       "        text-align: right;\n",
       "    }\n",
       "</style>\n",
       "<table border=\"1\" class=\"dataframe\">\n",
       "  <thead>\n",
       "    <tr style=\"text-align: right;\">\n",
       "      <th>cmpl_det</th>\n",
       "      <th>det</th>\n",
       "      <th>und</th>\n",
       "    </tr>\n",
       "    <tr>\n",
       "      <th>construction_2</th>\n",
       "      <th></th>\n",
       "      <th></th>\n",
       "    </tr>\n",
       "  </thead>\n",
       "  <tbody>\n",
       "    <tr>\n",
       "      <th>dir-he</th>\n",
       "      <td>69</td>\n",
       "      <td>0</td>\n",
       "    </tr>\n",
       "    <tr>\n",
       "      <th>prep</th>\n",
       "      <td>288</td>\n",
       "      <td>17</td>\n",
       "    </tr>\n",
       "    <tr>\n",
       "      <th>vc</th>\n",
       "      <td>34</td>\n",
       "      <td>4</td>\n",
       "    </tr>\n",
       "  </tbody>\n",
       "</table>\n",
       "</div>"
      ],
      "text/plain": [
       "cmpl_det        det  und\n",
       "construction_2          \n",
       "dir-he           69    0\n",
       "prep            288   17\n",
       "vc               34    4"
      ]
     },
     "execution_count": 24,
     "metadata": {},
     "output_type": "execute_result"
    }
   ],
   "source": [
    "contingency_table_det"
   ]
  },
  {
   "cell_type": "code",
   "execution_count": 25,
   "id": "9d97b1fb",
   "metadata": {},
   "outputs": [
    {
     "data": {
      "text/html": [
       "<div>\n",
       "<style scoped>\n",
       "    .dataframe tbody tr th:only-of-type {\n",
       "        vertical-align: middle;\n",
       "    }\n",
       "\n",
       "    .dataframe tbody tr th {\n",
       "        vertical-align: top;\n",
       "    }\n",
       "\n",
       "    .dataframe thead th {\n",
       "        text-align: right;\n",
       "    }\n",
       "</style>\n",
       "<table border=\"1\" class=\"dataframe\">\n",
       "  <thead>\n",
       "    <tr style=\"text-align: right;\">\n",
       "      <th></th>\n",
       "      <th>verb_id</th>\n",
       "      <th>lex</th>\n",
       "      <th>scroll</th>\n",
       "      <th>book</th>\n",
       "      <th>chapter</th>\n",
       "      <th>verse_num</th>\n",
       "      <th>gcons_verb</th>\n",
       "      <th>gcons_verse</th>\n",
       "      <th>sign_info</th>\n",
       "      <th>stem</th>\n",
       "      <th>tense</th>\n",
       "      <th>gcons_clause</th>\n",
       "      <th>subject</th>\n",
       "      <th>complement</th>\n",
       "      <th>cmpl_lex</th>\n",
       "      <th>cmpl_translation</th>\n",
       "      <th>dir_he</th>\n",
       "      <th>cmpl_constr</th>\n",
       "      <th>cmpl_nt</th>\n",
       "      <th>cmpl_anim</th>\n",
       "      <th>cmpl_det</th>\n",
       "      <th>cmpl_indiv</th>\n",
       "      <th>cmpl_complex</th>\n",
       "      <th>motion_type</th>\n",
       "      <th>spatial_arg_type</th>\n",
       "      <th>preposition_1</th>\n",
       "      <th>preposition_2</th>\n",
       "      <th>preposition_3</th>\n",
       "      <th>preposition_4</th>\n",
       "      <th>comments</th>\n",
       "      <th>reconstructed_verse</th>\n",
       "      <th>construction</th>\n",
       "      <th>construction_2</th>\n",
       "    </tr>\n",
       "  </thead>\n",
       "  <tbody>\n",
       "    <tr>\n",
       "      <th>39</th>\n",
       "      <td>216991</td>\n",
       "      <td>JRD[</td>\n",
       "      <td>MT</td>\n",
       "      <td>Isaiah</td>\n",
       "      <td>14</td>\n",
       "      <td>11</td>\n",
       "      <td>HWRD</td>\n",
       "      <td>HWRD C&gt;WL G&gt;WNK HMJT NBLJK TXTJK JY&lt; RMH W MKS...</td>\n",
       "      <td></td>\n",
       "      <td>hof</td>\n",
       "      <td>perf</td>\n",
       "      <td>HWRD C&gt;WL G&gt;WNK HMJT NBLJK</td>\n",
       "      <td>G&gt;WNK HMJT NBLJK</td>\n",
       "      <td>C&gt;WL</td>\n",
       "      <td>C&gt;WL/</td>\n",
       "      <td>to the underworld</td>\n",
       "      <td>0.0</td>\n",
       "      <td>vc</td>\n",
       "      <td>topo</td>\n",
       "      <td>inanim</td>\n",
       "      <td>und</td>\n",
       "      <td>subs</td>\n",
       "      <td>simple</td>\n",
       "      <td>fictive</td>\n",
       "      <td>goal</td>\n",
       "      <td></td>\n",
       "      <td></td>\n",
       "      <td></td>\n",
       "      <td></td>\n",
       "      <td></td>\n",
       "      <td></td>\n",
       "      <td>non_prep</td>\n",
       "      <td>vc</td>\n",
       "    </tr>\n",
       "    <tr>\n",
       "      <th>59</th>\n",
       "      <td>219565</td>\n",
       "      <td>&lt;BR[</td>\n",
       "      <td>MT</td>\n",
       "      <td>Isaiah</td>\n",
       "      <td>23</td>\n",
       "      <td>12</td>\n",
       "      <td>&lt;BRJ</td>\n",
       "      <td>W J&gt;MR L&gt; TWSJPJ &lt;WD L &lt;LWZ H M&lt;CQH BTWLT BT Y...</td>\n",
       "      <td></td>\n",
       "      <td>qal</td>\n",
       "      <td>impv</td>\n",
       "      <td>KTJJM &lt;BRJ</td>\n",
       "      <td></td>\n",
       "      <td>KTJJM</td>\n",
       "      <td>KTJ/</td>\n",
       "      <td>to Cyprus</td>\n",
       "      <td>0.0</td>\n",
       "      <td>vc</td>\n",
       "      <td>topo</td>\n",
       "      <td>inanim</td>\n",
       "      <td>und</td>\n",
       "      <td>subs</td>\n",
       "      <td>simple</td>\n",
       "      <td>factive</td>\n",
       "      <td>goal</td>\n",
       "      <td></td>\n",
       "      <td></td>\n",
       "      <td></td>\n",
       "      <td></td>\n",
       "      <td>KTJ/ not a proper noun (BH)</td>\n",
       "      <td></td>\n",
       "      <td>non_prep</td>\n",
       "      <td>vc</td>\n",
       "    </tr>\n",
       "    <tr>\n",
       "      <th>93</th>\n",
       "      <td>224721</td>\n",
       "      <td>&lt;LH[</td>\n",
       "      <td>MT</td>\n",
       "      <td>Isaiah</td>\n",
       "      <td>37</td>\n",
       "      <td>24</td>\n",
       "      <td>&lt;LJTJ</td>\n",
       "      <td>B JD &lt;BDJK XRPT &gt;DNJ W T&gt;MR B RB RKBJ &gt;NJ &lt;LJT...</td>\n",
       "      <td></td>\n",
       "      <td>qal</td>\n",
       "      <td>perf</td>\n",
       "      <td>B RB RKBJ &gt;NJ &lt;LJTJ MRWM HRJM JRKTJ LBNWN</td>\n",
       "      <td>&gt;NJ</td>\n",
       "      <td>MRWM HRJM JRKTJ LBNWN</td>\n",
       "      <td>MRWM/ HR/ JRKH/ LBNWN/</td>\n",
       "      <td>to the heights of the mountains, to the remote...</td>\n",
       "      <td>0.0</td>\n",
       "      <td>vc</td>\n",
       "      <td>topo</td>\n",
       "      <td>inanim</td>\n",
       "      <td>und</td>\n",
       "      <td>subs</td>\n",
       "      <td>complex</td>\n",
       "      <td>factive</td>\n",
       "      <td>goal</td>\n",
       "      <td></td>\n",
       "      <td></td>\n",
       "      <td></td>\n",
       "      <td></td>\n",
       "      <td></td>\n",
       "      <td></td>\n",
       "      <td>non_prep</td>\n",
       "      <td>vc</td>\n",
       "    </tr>\n",
       "    <tr>\n",
       "      <th>153</th>\n",
       "      <td>232056</td>\n",
       "      <td>BW&gt;[</td>\n",
       "      <td>MT</td>\n",
       "      <td>Isaiah</td>\n",
       "      <td>58</td>\n",
       "      <td>7</td>\n",
       "      <td>TBJ&gt;</td>\n",
       "      <td>H LW&gt; PRS L R&lt;B LXMK W &lt;NJJM MRWDJM TBJ&gt; BJT K...</td>\n",
       "      <td></td>\n",
       "      <td>hif</td>\n",
       "      <td>impf</td>\n",
       "      <td>W &lt;NJJM MRWDJM TBJ&gt; BJT</td>\n",
       "      <td></td>\n",
       "      <td>BJT</td>\n",
       "      <td>BJT/</td>\n",
       "      <td>to the house</td>\n",
       "      <td>0.0</td>\n",
       "      <td>vc</td>\n",
       "      <td>topo</td>\n",
       "      <td>inanim</td>\n",
       "      <td>und</td>\n",
       "      <td>subs</td>\n",
       "      <td>simple</td>\n",
       "      <td>factive</td>\n",
       "      <td>goal</td>\n",
       "      <td></td>\n",
       "      <td></td>\n",
       "      <td></td>\n",
       "      <td></td>\n",
       "      <td></td>\n",
       "      <td></td>\n",
       "      <td>non_prep</td>\n",
       "      <td>vc</td>\n",
       "    </tr>\n",
       "  </tbody>\n",
       "</table>\n",
       "</div>"
      ],
      "text/plain": [
       "     verb_id   lex scroll    book  chapter  verse_num gcons_verb  \\\n",
       "39    216991  JRD[     MT  Isaiah       14         11       HWRD   \n",
       "59    219565  <BR[     MT  Isaiah       23         12       <BRJ   \n",
       "93    224721  <LH[     MT  Isaiah       37         24      <LJTJ   \n",
       "153   232056  BW>[     MT  Isaiah       58          7       TBJ>   \n",
       "\n",
       "                                           gcons_verse sign_info stem tense  \\\n",
       "39   HWRD C>WL G>WNK HMJT NBLJK TXTJK JY< RMH W MKS...            hof  perf   \n",
       "59   W J>MR L> TWSJPJ <WD L <LWZ H M<CQH BTWLT BT Y...            qal  impv   \n",
       "93   B JD <BDJK XRPT >DNJ W T>MR B RB RKBJ >NJ <LJT...            qal  perf   \n",
       "153  H LW> PRS L R<B LXMK W <NJJM MRWDJM TBJ> BJT K...            hif  impf   \n",
       "\n",
       "                                  gcons_clause           subject  \\\n",
       "39                  HWRD C>WL G>WNK HMJT NBLJK  G>WNK HMJT NBLJK   \n",
       "59                                  KTJJM <BRJ                     \n",
       "93   B RB RKBJ >NJ <LJTJ MRWM HRJM JRKTJ LBNWN               >NJ   \n",
       "153                    W <NJJM MRWDJM TBJ> BJT                     \n",
       "\n",
       "                complement                cmpl_lex  \\\n",
       "39                    C>WL                   C>WL/   \n",
       "59                   KTJJM                    KTJ/   \n",
       "93   MRWM HRJM JRKTJ LBNWN  MRWM/ HR/ JRKH/ LBNWN/   \n",
       "153                    BJT                    BJT/   \n",
       "\n",
       "                                      cmpl_translation dir_he cmpl_constr  \\\n",
       "39                                   to the underworld    0.0          vc   \n",
       "59                                           to Cyprus    0.0          vc   \n",
       "93   to the heights of the mountains, to the remote...    0.0          vc   \n",
       "153                                       to the house    0.0          vc   \n",
       "\n",
       "    cmpl_nt cmpl_anim cmpl_det cmpl_indiv cmpl_complex motion_type  \\\n",
       "39     topo    inanim      und       subs       simple     fictive   \n",
       "59     topo    inanim      und       subs       simple     factive   \n",
       "93     topo    inanim      und       subs      complex     factive   \n",
       "153    topo    inanim      und       subs       simple     factive   \n",
       "\n",
       "    spatial_arg_type preposition_1 preposition_2 preposition_3 preposition_4  \\\n",
       "39              goal                                                           \n",
       "59              goal                                                           \n",
       "93              goal                                                           \n",
       "153             goal                                                           \n",
       "\n",
       "                        comments reconstructed_verse construction  \\\n",
       "39                                                       non_prep   \n",
       "59   KTJ/ not a proper noun (BH)                         non_prep   \n",
       "93                                                       non_prep   \n",
       "153                                                      non_prep   \n",
       "\n",
       "    construction_2  \n",
       "39              vc  \n",
       "59              vc  \n",
       "93              vc  \n",
       "153             vc  "
      ]
     },
     "execution_count": 25,
     "metadata": {},
     "output_type": "execute_result"
    }
   ],
   "source": [
    "df[(df.cmpl_det == \"und\") & (df.construction_2 == \"vc\")]"
   ]
  },
  {
   "cell_type": "markdown",
   "id": "e3ceb252",
   "metadata": {},
   "source": [
    "## 6. Excluding sham?"
   ]
  },
  {
   "cell_type": "code",
   "execution_count": 31,
   "id": "7d58beed",
   "metadata": {},
   "outputs": [
    {
     "data": {
      "text/plain": [
       "371"
      ]
     },
     "execution_count": 31,
     "metadata": {},
     "output_type": "execute_result"
    }
   ],
   "source": [
    "df_without_sham = df[df.cmpl_lex != \"CM\"].copy()\n",
    "len(df_without_sham)"
   ]
  },
  {
   "cell_type": "code",
   "execution_count": 34,
   "id": "fe108964",
   "metadata": {},
   "outputs": [
    {
     "data": {
      "text/html": [
       "<div>\n",
       "<style scoped>\n",
       "    .dataframe tbody tr th:only-of-type {\n",
       "        vertical-align: middle;\n",
       "    }\n",
       "\n",
       "    .dataframe tbody tr th {\n",
       "        vertical-align: top;\n",
       "    }\n",
       "\n",
       "    .dataframe thead th {\n",
       "        text-align: right;\n",
       "    }\n",
       "</style>\n",
       "<table border=\"1\" class=\"dataframe\">\n",
       "  <thead>\n",
       "    <tr style=\"text-align: right;\">\n",
       "      <th></th>\n",
       "      <th>verb_id</th>\n",
       "      <th>lex</th>\n",
       "      <th>scroll</th>\n",
       "      <th>book</th>\n",
       "      <th>chapter</th>\n",
       "      <th>verse_num</th>\n",
       "      <th>gcons_verb</th>\n",
       "      <th>gcons_verse</th>\n",
       "      <th>sign_info</th>\n",
       "      <th>stem</th>\n",
       "      <th>tense</th>\n",
       "      <th>gcons_clause</th>\n",
       "      <th>subject</th>\n",
       "      <th>complement</th>\n",
       "      <th>cmpl_lex</th>\n",
       "      <th>cmpl_translation</th>\n",
       "      <th>dir_he</th>\n",
       "      <th>cmpl_constr</th>\n",
       "      <th>cmpl_nt</th>\n",
       "      <th>cmpl_anim</th>\n",
       "      <th>cmpl_det</th>\n",
       "      <th>cmpl_indiv</th>\n",
       "      <th>cmpl_complex</th>\n",
       "      <th>motion_type</th>\n",
       "      <th>spatial_arg_type</th>\n",
       "      <th>preposition_1</th>\n",
       "      <th>preposition_2</th>\n",
       "      <th>preposition_3</th>\n",
       "      <th>preposition_4</th>\n",
       "      <th>comments</th>\n",
       "      <th>reconstructed_verse</th>\n",
       "      <th>construction</th>\n",
       "      <th>construction_2</th>\n",
       "    </tr>\n",
       "  </thead>\n",
       "  <tbody>\n",
       "    <tr>\n",
       "      <th>0</th>\n",
       "      <td>212418</td>\n",
       "      <td>BW&gt;[</td>\n",
       "      <td>MT</td>\n",
       "      <td>Isaiah</td>\n",
       "      <td>1</td>\n",
       "      <td>23</td>\n",
       "      <td>JBW&gt;</td>\n",
       "      <td>FRJK SWRRJM W XBRJ GNBJM KLW &gt;HB CXD W RDP CLM...</td>\n",
       "      <td></td>\n",
       "      <td>qal</td>\n",
       "      <td>impf</td>\n",
       "      <td>W RJB &gt;LMNH L&gt; JBW&gt; &gt;LJHM</td>\n",
       "      <td>RJB &gt;LMNH</td>\n",
       "      <td>&gt;LJHM</td>\n",
       "      <td>&gt;L</td>\n",
       "      <td>to them</td>\n",
       "      <td>0.0</td>\n",
       "      <td>prep</td>\n",
       "      <td>prps</td>\n",
       "      <td>anim</td>\n",
       "      <td>det</td>\n",
       "      <td>prsf</td>\n",
       "      <td>simple</td>\n",
       "      <td>fictive</td>\n",
       "      <td>goal</td>\n",
       "      <td>&gt;L</td>\n",
       "      <td></td>\n",
       "      <td></td>\n",
       "      <td></td>\n",
       "      <td>the cause of the widow does not come to them, ...</td>\n",
       "      <td></td>\n",
       "      <td>prep</td>\n",
       "      <td>prep</td>\n",
       "    </tr>\n",
       "    <tr>\n",
       "      <th>2</th>\n",
       "      <td>212564</td>\n",
       "      <td>NHR[</td>\n",
       "      <td>MT</td>\n",
       "      <td>Isaiah</td>\n",
       "      <td>2</td>\n",
       "      <td>2</td>\n",
       "      <td>NHRW</td>\n",
       "      <td>W HJH B &gt;XRJT H JMJM NKWN JHJH HR BJT JHWH B R...</td>\n",
       "      <td></td>\n",
       "      <td>qal</td>\n",
       "      <td>perf</td>\n",
       "      <td>W NHRW &gt;LJW KL H GWJM</td>\n",
       "      <td>KL H GWJM</td>\n",
       "      <td>&gt;LJW</td>\n",
       "      <td>&gt;L</td>\n",
       "      <td>to it (the mountain)</td>\n",
       "      <td>0.0</td>\n",
       "      <td>prep</td>\n",
       "      <td>prps</td>\n",
       "      <td>inanim</td>\n",
       "      <td>det</td>\n",
       "      <td>prsf</td>\n",
       "      <td>simple</td>\n",
       "      <td>factive</td>\n",
       "      <td>goal</td>\n",
       "      <td>&gt;L</td>\n",
       "      <td></td>\n",
       "      <td></td>\n",
       "      <td></td>\n",
       "      <td></td>\n",
       "      <td></td>\n",
       "      <td>prep</td>\n",
       "      <td>prep</td>\n",
       "    </tr>\n",
       "  </tbody>\n",
       "</table>\n",
       "</div>"
      ],
      "text/plain": [
       "   verb_id   lex scroll    book  chapter  verse_num gcons_verb  \\\n",
       "0   212418  BW>[     MT  Isaiah        1         23       JBW>   \n",
       "2   212564  NHR[     MT  Isaiah        2          2       NHRW   \n",
       "\n",
       "                                         gcons_verse sign_info stem tense  \\\n",
       "0  FRJK SWRRJM W XBRJ GNBJM KLW >HB CXD W RDP CLM...            qal  impf   \n",
       "2  W HJH B >XRJT H JMJM NKWN JHJH HR BJT JHWH B R...            qal  perf   \n",
       "\n",
       "                gcons_clause    subject complement cmpl_lex  \\\n",
       "0  W RJB >LMNH L> JBW> >LJHM  RJB >LMNH      >LJHM       >L   \n",
       "2      W NHRW >LJW KL H GWJM  KL H GWJM       >LJW       >L   \n",
       "\n",
       "       cmpl_translation dir_he cmpl_constr cmpl_nt cmpl_anim cmpl_det  \\\n",
       "0               to them    0.0        prep    prps      anim      det   \n",
       "2  to it (the mountain)    0.0        prep    prps    inanim      det   \n",
       "\n",
       "  cmpl_indiv cmpl_complex motion_type spatial_arg_type preposition_1  \\\n",
       "0       prsf       simple     fictive             goal            >L   \n",
       "2       prsf       simple     factive             goal            >L   \n",
       "\n",
       "  preposition_2 preposition_3 preposition_4  \\\n",
       "0                                             \n",
       "2                                             \n",
       "\n",
       "                                            comments reconstructed_verse  \\\n",
       "0  the cause of the widow does not come to them, ...                       \n",
       "2                                                                          \n",
       "\n",
       "  construction construction_2  \n",
       "0         prep           prep  \n",
       "2         prep           prep  "
      ]
     },
     "execution_count": 34,
     "metadata": {},
     "output_type": "execute_result"
    }
   ],
   "source": [
    "df_without_sham.head(2)"
   ]
  },
  {
   "cell_type": "code",
   "execution_count": 35,
   "id": "d9509f96",
   "metadata": {},
   "outputs": [
    {
     "name": "stdout",
     "output_type": "stream",
     "text": [
      "Chi-Square Statistic: 0.0\n",
      "P-value: 1.0\n",
      "Degrees of Freedom: 1\n",
      "Expected Frequencies: the expected frequencies should all be >= 5 for the Chi2 test to be appropriate\n",
      " [[ 62.26415094   3.73584906]\n",
      " [287.73584906  17.26415094]]\n"
     ]
    }
   ],
   "source": [
    "# Contingency table\n",
    "contingency_table_det = pd.crosstab(df_without_sham['construction'], df_without_sham['cmpl_det'])\n",
    "\n",
    "# Convert the contingency table to a numpy array\n",
    "observed = contingency_table_det.values\n",
    "\n",
    "# Perform the chi-square test\n",
    "chi2, p, dof, expected = chi2_contingency(observed)\n",
    "\n",
    "# Output the results\n",
    "print(\"Chi-Square Statistic:\", chi2)\n",
    "print(\"P-value:\", p)\n",
    "print(\"Degrees of Freedom:\", dof)\n",
    "print(\"Expected Frequencies: the expected frequencies should all be >= 5 for the Chi2 test to be appropriate\\n\", expected)"
   ]
  },
  {
   "cell_type": "code",
   "execution_count": 36,
   "id": "51016ed9",
   "metadata": {},
   "outputs": [],
   "source": [
    "contingency_table_det = contingency_table_det.T"
   ]
  },
  {
   "cell_type": "code",
   "execution_count": 37,
   "id": "4f7fce67",
   "metadata": {},
   "outputs": [
    {
     "data": {
      "text/html": [
       "<div>\n",
       "<style scoped>\n",
       "    .dataframe tbody tr th:only-of-type {\n",
       "        vertical-align: middle;\n",
       "    }\n",
       "\n",
       "    .dataframe tbody tr th {\n",
       "        vertical-align: top;\n",
       "    }\n",
       "\n",
       "    .dataframe thead th {\n",
       "        text-align: right;\n",
       "    }\n",
       "</style>\n",
       "<table border=\"1\" class=\"dataframe\">\n",
       "  <thead>\n",
       "    <tr style=\"text-align: right;\">\n",
       "      <th>construction</th>\n",
       "      <th>non_prep</th>\n",
       "      <th>prep</th>\n",
       "    </tr>\n",
       "    <tr>\n",
       "      <th>cmpl_det</th>\n",
       "      <th></th>\n",
       "      <th></th>\n",
       "    </tr>\n",
       "  </thead>\n",
       "  <tbody>\n",
       "    <tr>\n",
       "      <th>det</th>\n",
       "      <td>62</td>\n",
       "      <td>288</td>\n",
       "    </tr>\n",
       "    <tr>\n",
       "      <th>und</th>\n",
       "      <td>4</td>\n",
       "      <td>17</td>\n",
       "    </tr>\n",
       "  </tbody>\n",
       "</table>\n",
       "</div>"
      ],
      "text/plain": [
       "construction  non_prep  prep\n",
       "cmpl_det                    \n",
       "det                 62   288\n",
       "und                  4    17"
      ]
     },
     "execution_count": 37,
     "metadata": {},
     "output_type": "execute_result"
    }
   ],
   "source": [
    "contingency_table_det"
   ]
  },
  {
   "cell_type": "code",
   "execution_count": 38,
   "id": "181c3e55",
   "metadata": {},
   "outputs": [],
   "source": [
    "contingency_table_det.to_csv(\"data/sbl_perez_without_sham.csv\")"
   ]
  },
  {
   "cell_type": "code",
   "execution_count": 39,
   "id": "2f0722fe",
   "metadata": {},
   "outputs": [
    {
     "name": "stdout",
     "output_type": "stream",
     "text": [
      "Chi-Square Statistic: 0.23746666204667752\n",
      "P-value: 0.6260418421354075\n",
      "Degrees of Freedom: 1\n",
      "Expected Frequencies: the expected frequencies should all be >= 5 for the Chi2 test to be appropriate\n",
      " [[101.5461165   5.4538835]\n",
      " [289.4538835  15.5461165]]\n"
     ]
    }
   ],
   "source": [
    "# Contingency table\n",
    "contingency_table_det = pd.crosstab(df['construction'], df['cmpl_det'])\n",
    "\n",
    "# Convert the contingency table to a numpy array\n",
    "observed = contingency_table_det.values\n",
    "\n",
    "# Perform the chi-square test\n",
    "chi2, p, dof, expected = chi2_contingency(observed)\n",
    "\n",
    "# Output the results\n",
    "print(\"Chi-Square Statistic:\", chi2)\n",
    "print(\"P-value:\", p)\n",
    "print(\"Degrees of Freedom:\", dof)\n",
    "print(\"Expected Frequencies: the expected frequencies should all be >= 5 for the Chi2 test to be appropriate\\n\", expected)"
   ]
  },
  {
   "cell_type": "code",
   "execution_count": 41,
   "id": "5a455884",
   "metadata": {},
   "outputs": [
    {
     "data": {
      "text/html": [
       "<div>\n",
       "<style scoped>\n",
       "    .dataframe tbody tr th:only-of-type {\n",
       "        vertical-align: middle;\n",
       "    }\n",
       "\n",
       "    .dataframe tbody tr th {\n",
       "        vertical-align: top;\n",
       "    }\n",
       "\n",
       "    .dataframe thead th {\n",
       "        text-align: right;\n",
       "    }\n",
       "</style>\n",
       "<table border=\"1\" class=\"dataframe\">\n",
       "  <thead>\n",
       "    <tr style=\"text-align: right;\">\n",
       "      <th>construction</th>\n",
       "      <th>non_prep</th>\n",
       "      <th>prep</th>\n",
       "    </tr>\n",
       "    <tr>\n",
       "      <th>cmpl_det</th>\n",
       "      <th></th>\n",
       "      <th></th>\n",
       "    </tr>\n",
       "  </thead>\n",
       "  <tbody>\n",
       "    <tr>\n",
       "      <th>det</th>\n",
       "      <td>103</td>\n",
       "      <td>288</td>\n",
       "    </tr>\n",
       "    <tr>\n",
       "      <th>und</th>\n",
       "      <td>4</td>\n",
       "      <td>17</td>\n",
       "    </tr>\n",
       "  </tbody>\n",
       "</table>\n",
       "</div>"
      ],
      "text/plain": [
       "construction  non_prep  prep\n",
       "cmpl_det                    \n",
       "det                103   288\n",
       "und                  4    17"
      ]
     },
     "execution_count": 41,
     "metadata": {},
     "output_type": "execute_result"
    }
   ],
   "source": [
    "contingency_table_det = contingency_table_det.T\n",
    "contingency_table_det"
   ]
  },
  {
   "cell_type": "code",
   "execution_count": 42,
   "id": "4d0c2423",
   "metadata": {},
   "outputs": [],
   "source": [
    "contingency_table_det.to_csv(\"data/sbl_perez_with_sham.csv\")"
   ]
  },
  {
   "cell_type": "code",
   "execution_count": null,
   "id": "7a61766b",
   "metadata": {},
   "outputs": [],
   "source": []
  }
 ],
 "metadata": {
  "kernelspec": {
   "display_name": "Python 3 (ipykernel)",
   "language": "python",
   "name": "python3"
  },
  "language_info": {
   "codemirror_mode": {
    "name": "ipython",
    "version": 3
   },
   "file_extension": ".py",
   "mimetype": "text/x-python",
   "name": "python",
   "nbconvert_exporter": "python",
   "pygments_lexer": "ipython3",
   "version": "3.9.16"
  }
 },
 "nbformat": 4,
 "nbformat_minor": 5
}
