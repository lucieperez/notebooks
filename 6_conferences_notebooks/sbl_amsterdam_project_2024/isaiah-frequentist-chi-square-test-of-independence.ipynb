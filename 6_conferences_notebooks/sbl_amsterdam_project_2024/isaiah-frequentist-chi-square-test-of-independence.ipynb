{
 "cells": [
  {
   "cell_type": "code",
   "execution_count": 1,
   "id": "d01d47ff",
   "metadata": {},
   "outputs": [],
   "source": [
    "import pandas as pd\n",
    "import numpy as np\n",
    "from scipy.stats import chi2_contingency"
   ]
  },
  {
   "cell_type": "markdown",
   "id": "70427c11",
   "metadata": {},
   "source": [
    "## 1. Data"
   ]
  },
  {
   "cell_type": "code",
   "execution_count": 2,
   "id": "59e37a9a",
   "metadata": {},
   "outputs": [],
   "source": [
    "# Import the original dataset\n",
    "\n",
    "df = pd.read_csv(\"data/sbl_isaiah_cmpls.csv\").fillna(\"\")"
   ]
  },
  {
   "cell_type": "code",
   "execution_count": 3,
   "id": "6ee246f9",
   "metadata": {},
   "outputs": [],
   "source": [
    "pd.set_option(\"display.max_columns\", None)"
   ]
  },
  {
   "cell_type": "code",
   "execution_count": 15,
   "id": "36d994bf",
   "metadata": {
    "scrolled": true
   },
   "outputs": [],
   "source": [
    "#df"
   ]
  },
  {
   "cell_type": "markdown",
   "id": "4491d3d6",
   "metadata": {},
   "source": [
    "## 2. Chi Square Test of Independence: Cmpl Construction and Cmpl Animacy"
   ]
  },
  {
   "cell_type": "code",
   "execution_count": 16,
   "id": "842a383b",
   "metadata": {},
   "outputs": [
    {
     "name": "stdout",
     "output_type": "stream",
     "text": [
      "Chi-Square Statistic: 16.685457870648257\n",
      "P-value: 4.4117894161877005e-05\n",
      "Degrees of Freedom: 1\n",
      "Expected Frequencies: the expected frequencies should all be >= 5 for the Chi2 test to be appropriate\n",
      " [[11.73184358 23.26815642]\n",
      " [48.26815642 95.73184358]]\n"
     ]
    }
   ],
   "source": [
    "# Contingency table\n",
    "contingency_table_anim = pd.crosstab(df['construction'], df['cmpl_anim'])\n",
    "\n",
    "# Convert the contingency table to a numpy array\n",
    "observed = contingency_table_anim.values\n",
    "\n",
    "# Perform the chi-square test\n",
    "chi2, p, dof, expected = chi2_contingency(observed)\n",
    "\n",
    "# Output the results\n",
    "print(\"Chi-Square Statistic:\", chi2)\n",
    "print(\"P-value:\", p)\n",
    "print(\"Degrees of Freedom:\", dof)\n",
    "print(\"Expected Frequencies: the expected frequencies should all be >= 5 for the Chi2 test to be appropriate\\n\", expected)"
   ]
  },
  {
   "cell_type": "code",
   "execution_count": 14,
   "id": "e0b8c4cb",
   "metadata": {},
   "outputs": [
    {
     "data": {
      "text/html": [
       "<div>\n",
       "<style scoped>\n",
       "    .dataframe tbody tr th:only-of-type {\n",
       "        vertical-align: middle;\n",
       "    }\n",
       "\n",
       "    .dataframe tbody tr th {\n",
       "        vertical-align: top;\n",
       "    }\n",
       "\n",
       "    .dataframe thead th {\n",
       "        text-align: right;\n",
       "    }\n",
       "</style>\n",
       "<table border=\"1\" class=\"dataframe\">\n",
       "  <thead>\n",
       "    <tr style=\"text-align: right;\">\n",
       "      <th>cmpl_anim</th>\n",
       "      <th>anim</th>\n",
       "      <th>inanim</th>\n",
       "    </tr>\n",
       "    <tr>\n",
       "      <th>construction</th>\n",
       "      <th></th>\n",
       "      <th></th>\n",
       "    </tr>\n",
       "  </thead>\n",
       "  <tbody>\n",
       "    <tr>\n",
       "      <th>non-prep</th>\n",
       "      <td>1</td>\n",
       "      <td>34</td>\n",
       "    </tr>\n",
       "    <tr>\n",
       "      <th>prep</th>\n",
       "      <td>59</td>\n",
       "      <td>85</td>\n",
       "    </tr>\n",
       "  </tbody>\n",
       "</table>\n",
       "</div>"
      ],
      "text/plain": [
       "cmpl_anim     anim  inanim\n",
       "construction              \n",
       "non-prep         1      34\n",
       "prep            59      85"
      ]
     },
     "execution_count": 14,
     "metadata": {},
     "output_type": "execute_result"
    }
   ],
   "source": [
    "contingency_table_anim"
   ]
  },
  {
   "cell_type": "markdown",
   "id": "a7b6832a",
   "metadata": {},
   "source": [
    "## 3. Chi Square Test of Independence: Cmpl Construction and Cmpl Definiteness"
   ]
  },
  {
   "cell_type": "code",
   "execution_count": 17,
   "id": "3e5fa1c4",
   "metadata": {},
   "outputs": [
    {
     "name": "stdout",
     "output_type": "stream",
     "text": [
      "Chi-Square Statistic: 3.3620918446610575\n",
      "P-value: 0.06671327538518343\n",
      "Degrees of Freedom: 1\n",
      "Expected Frequencies: the expected frequencies should all be >= 5 for the Chi2 test to be appropriate\n",
      " [[ 29.13407821   5.86592179]\n",
      " [119.86592179  24.13407821]]\n"
     ]
    }
   ],
   "source": [
    "# Contingency table\n",
    "contingency_table_det = pd.crosstab(df['construction'], df['cmpl_det'])\n",
    "\n",
    "# Convert the contingency table to a numpy array\n",
    "observed = contingency_table_det.values\n",
    "\n",
    "# Perform the chi-square test\n",
    "chi2, p, dof, expected = chi2_contingency(observed)\n",
    "\n",
    "# Output the results\n",
    "print(\"Chi-Square Statistic:\", chi2)\n",
    "print(\"P-value:\", p)\n",
    "print(\"Degrees of Freedom:\", dof)\n",
    "print(\"Expected Frequencies: the expected frequencies should all be >= 5 for the Chi2 test to be appropriate\\n\", expected)"
   ]
  },
  {
   "cell_type": "code",
   "execution_count": 12,
   "id": "8b9d59cb",
   "metadata": {},
   "outputs": [
    {
     "data": {
      "text/html": [
       "<div>\n",
       "<style scoped>\n",
       "    .dataframe tbody tr th:only-of-type {\n",
       "        vertical-align: middle;\n",
       "    }\n",
       "\n",
       "    .dataframe tbody tr th {\n",
       "        vertical-align: top;\n",
       "    }\n",
       "\n",
       "    .dataframe thead th {\n",
       "        text-align: right;\n",
       "    }\n",
       "</style>\n",
       "<table border=\"1\" class=\"dataframe\">\n",
       "  <thead>\n",
       "    <tr style=\"text-align: right;\">\n",
       "      <th>cmpl_det</th>\n",
       "      <th>det</th>\n",
       "      <th>und</th>\n",
       "    </tr>\n",
       "    <tr>\n",
       "      <th>construction</th>\n",
       "      <th></th>\n",
       "      <th></th>\n",
       "    </tr>\n",
       "  </thead>\n",
       "  <tbody>\n",
       "    <tr>\n",
       "      <th>non-prep</th>\n",
       "      <td>25</td>\n",
       "      <td>10</td>\n",
       "    </tr>\n",
       "    <tr>\n",
       "      <th>prep</th>\n",
       "      <td>124</td>\n",
       "      <td>20</td>\n",
       "    </tr>\n",
       "  </tbody>\n",
       "</table>\n",
       "</div>"
      ],
      "text/plain": [
       "cmpl_det      det  und\n",
       "construction          \n",
       "non-prep       25   10\n",
       "prep          124   20"
      ]
     },
     "execution_count": 12,
     "metadata": {},
     "output_type": "execute_result"
    }
   ],
   "source": [
    "contingency_table_det"
   ]
  },
  {
   "cell_type": "code",
   "execution_count": null,
   "id": "71424dab",
   "metadata": {},
   "outputs": [],
   "source": []
  }
 ],
 "metadata": {
  "kernelspec": {
   "display_name": "Python 3 (ipykernel)",
   "language": "python",
   "name": "python3"
  },
  "language_info": {
   "codemirror_mode": {
    "name": "ipython",
    "version": 3
   },
   "file_extension": ".py",
   "mimetype": "text/x-python",
   "name": "python",
   "nbconvert_exporter": "python",
   "pygments_lexer": "ipython3",
   "version": "3.8.19"
  }
 },
 "nbformat": 4,
 "nbformat_minor": 5
}
