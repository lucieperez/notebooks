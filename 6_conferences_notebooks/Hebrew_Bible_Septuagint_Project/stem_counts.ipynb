{
 "cells": [
  {
   "cell_type": "code",
   "execution_count": 2,
   "id": "43db4f1a-8a48-4238-9ba7-a646e7889a99",
   "metadata": {},
   "outputs": [],
   "source": [
    "import pandas as pd\n",
    "import re\n",
    "from collections import Counter"
   ]
  },
  {
   "cell_type": "code",
   "execution_count": 3,
   "id": "c1dc2acb-2726-4192-a686-f192743dda55",
   "metadata": {},
   "outputs": [],
   "source": [
    "df = pd.read_excel(\"data/newest_dataset_lxx_mt_dss.xlsx\").fillna(\"\")"
   ]
  },
  {
   "cell_type": "code",
   "execution_count": 4,
   "id": "0b5ebdd8-63d7-429f-ad08-9086cea59f53",
   "metadata": {},
   "outputs": [],
   "source": [
    "pd.set_option(\"display.max_columns\", False)\n",
    "pd.set_option(\"display.max_rows\", False)\n",
    "pd.set_option(\"display.max_colwidth\", False)"
   ]
  },
  {
   "cell_type": "code",
   "execution_count": 6,
   "id": "d6dc4e6d-682b-4d3e-82c6-10ad3c63a8a6",
   "metadata": {},
   "outputs": [
    {
     "data": {
      "text/plain": [
       "{'BW>[',\n",
       " 'δυσμή',\n",
       " 'ἐπάγω',\n",
       " 'εἰμί',\n",
       " 'εἰσάγω',\n",
       " 'εἰσπορεύω',\n",
       " 'εἰσφέρω',\n",
       " 'εἰσφέρω',\n",
       " 'εἰσάγω',\n",
       " 'εἰσέρχομαι',\n",
       " 'εἴσειμι',\n",
       " 'παραγίγνομαι',\n",
       " 'ποιέω',\n",
       " 'πορεύω',\n",
       " 'προσάγω ',\n",
       " 'προσέρχομαι',\n",
       " 'προσφέρω',\n",
       " 'συνάπτω',\n",
       " 'τίθημι',\n",
       " 'φέρω',\n",
       " 'ἀναφέρω',\n",
       " 'ἄγω',\n",
       " 'ἐξέρχομαι',\n",
       " 'ἐπάγω',\n",
       " 'ἔρχομαι',\n",
       " 'ἥκω'}"
      ]
     },
     "execution_count": 6,
     "metadata": {},
     "output_type": "execute_result"
    }
   ],
   "source": [
    "set(df.lex)"
   ]
  },
  {
   "cell_type": "code",
   "execution_count": 10,
   "id": "3a50bb0e-43da-4ad8-a221-05e4af690be3",
   "metadata": {},
   "outputs": [
    {
     "name": "stdout",
     "output_type": "stream",
     "text": [
      "  stem   lex   n\n",
      "0  hif  BW>[  44\n",
      "1  hof  BW>[  1 \n",
      "2  qal  BW>[  80\n"
     ]
    }
   ],
   "source": [
    "# 1. Filter only MT rows\n",
    "mt_only = df[df['scroll'].str.upper() == 'MT']\n",
    "\n",
    "# 2. Count how many times each Hebrew verb lexeme occurs per stem\n",
    "stem_verb_counts = (\n",
    "    mt_only\n",
    "    .groupby(['stem', 'lex'])\n",
    "    .size()\n",
    "    .reset_index(name='n')\n",
    "    .sort_values(['stem', 'n'], ascending=[True, False])\n",
    ")\n",
    "\n",
    "print(stem_verb_counts)"
   ]
  },
  {
   "cell_type": "code",
   "execution_count": 27,
   "id": "bd69903a-375d-413d-a9b5-69d2d108633f",
   "metadata": {},
   "outputs": [
    {
     "name": "stdout",
     "output_type": "stream",
     "text": [
      "   mt_stem     greek_lex   n\n",
      "10  hif     φέρω          14\n",
      "4   hif     εἰσάγω        7 \n",
      "2   hif     εἰσφέρω       6 \n",
      "11  hif     ἀναφέρω       3 \n",
      "0   hif     ἐπάγω       2 \n",
      "3   hif     εἰσφέρω       2 \n",
      "1   hif     εἰμί          1 \n",
      "5   hif     εἰσέρχομαι    1 \n",
      "6   hif     προσάγω       1 \n",
      "7   hif     προσφέρω      1 \n",
      "8   hif     συνάπτω       1 \n",
      "9   hif     τίθημι        1 \n",
      "12  hif     ἄγω           1 \n",
      "13  hif     ἐπάγω         1 \n",
      "14  hof     εἰσάγω        1 \n",
      "19  qal     εἰσέρχομαι    33\n",
      "18  qal     εἰσπορεύω     12\n",
      "21  qal     παραγίγνομαι  12\n",
      "26  qal     ἔρχομαι       12\n",
      "27  qal     ἥκω           3 \n",
      "15  qal     δυσμή         2 \n",
      "20  qal     εἴσειμι       2 \n",
      "24  qal     φέρω          2 \n",
      "25  qal     ἐξέρχομαι     2 \n",
      "16  qal     εἰμί          1 \n",
      "17  qal     εἰσάγω        1 \n",
      "22  qal     πορεύω        1 \n",
      "23  qal     προσέρχομαι   1 \n"
     ]
    }
   ],
   "source": [
    "# 1. Normalize and extract shared numeric ID\n",
    "df2 = df.copy()\n",
    "df2['scroll'] = df2['scroll'].astype(str).str.upper()\n",
    "df2['base_id'] = df2['verb_id'].astype(str).str.extract(r'(\\d+)')\n",
    "\n",
    "# 2. Separate MT (for stem) and LXX (for Greek lex)\n",
    "mt = df2[df2['scroll'] == 'MT'][['base_id', 'stem']].rename(columns={'stem': 'mt_stem'})\n",
    "lxx = df2[df2['scroll'] == 'LXX'][['base_id', 'lex']].rename(columns={'lex': 'greek_lex'})\n",
    "\n",
    "# 3. Merge them on base_id (link Hebrew stem to Greek lex)\n",
    "merged = mt.merge(lxx, on='base_id', how='inner')\n",
    "\n",
    "# 4. Count how many times each Greek lex is used for each Hebrew stem\n",
    "counts = (\n",
    "    merged.groupby(['mt_stem', 'greek_lex'])\n",
    "    .size()\n",
    "    .reset_index(name='n')\n",
    "    .sort_values(['mt_stem', 'n'], ascending=[True, False])\n",
    ")\n",
    "\n",
    "print(counts)"
   ]
  },
  {
   "cell_type": "code",
   "execution_count": null,
   "id": "67acf05e-5127-44bf-96c9-fe2a7f87ee85",
   "metadata": {},
   "outputs": [],
   "source": []
  }
 ],
 "metadata": {
  "kernelspec": {
   "display_name": "Python 3 (ipykernel)",
   "language": "python",
   "name": "python3"
  },
  "language_info": {
   "codemirror_mode": {
    "name": "ipython",
    "version": 3
   },
   "file_extension": ".py",
   "mimetype": "text/x-python",
   "name": "python",
   "nbconvert_exporter": "python",
   "pygments_lexer": "ipython3",
   "version": "3.9.16"
  }
 },
 "nbformat": 4,
 "nbformat_minor": 5
}
