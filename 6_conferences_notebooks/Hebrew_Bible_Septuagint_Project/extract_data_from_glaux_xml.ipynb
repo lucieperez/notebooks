{
 "cells": [
  {
   "cell_type": "code",
   "execution_count": 1,
   "id": "84c3b0d2",
   "metadata": {},
   "outputs": [],
   "source": [
    "# In this notebook, I extract the data provided by the GLAUX project\n",
    "# Data: Septuaginta, Exodus"
   ]
  },
  {
   "cell_type": "code",
   "execution_count": 2,
   "id": "9dc4ba02",
   "metadata": {},
   "outputs": [],
   "source": [
    "import pandas as pd\n",
    "import xml.etree.ElementTree as ET"
   ]
  },
  {
   "cell_type": "code",
   "execution_count": 3,
   "id": "4540eae3",
   "metadata": {},
   "outputs": [],
   "source": [
    "# Load the XML file\n",
    "\n",
    "tree = ET.parse(\"data/0527-002.xml\")\n",
    "root = tree.getroot()"
   ]
  },
  {
   "cell_type": "code",
   "execution_count": 6,
   "id": "dea92b83",
   "metadata": {},
   "outputs": [
    {
     "data": {
      "text/html": [
       "<div>\n",
       "<style scoped>\n",
       "    .dataframe tbody tr th:only-of-type {\n",
       "        vertical-align: middle;\n",
       "    }\n",
       "\n",
       "    .dataframe tbody tr th {\n",
       "        vertical-align: top;\n",
       "    }\n",
       "\n",
       "    .dataframe thead th {\n",
       "        text-align: right;\n",
       "    }\n",
       "</style>\n",
       "<table border=\"1\" class=\"dataframe\">\n",
       "  <thead>\n",
       "    <tr style=\"text-align: right;\">\n",
       "      <th></th>\n",
       "      <th>chapter</th>\n",
       "      <th>verse_num</th>\n",
       "      <th>verse</th>\n",
       "    </tr>\n",
       "  </thead>\n",
       "  <tbody>\n",
       "    <tr>\n",
       "      <th>0</th>\n",
       "      <td>1</td>\n",
       "      <td>1</td>\n",
       "      <td>ταῦτα τὰ ὀνόματα τῶν υἱῶν Ἰσραὴλ εἰσ...</td>\n",
       "    </tr>\n",
       "    <tr>\n",
       "      <th>1</th>\n",
       "      <td>1</td>\n",
       "      <td>2</td>\n",
       "      <td>Ρουβήν, Συμεών, Λευΐ, Ἰούδας,</td>\n",
       "    </tr>\n",
       "  </tbody>\n",
       "</table>\n",
       "</div>"
      ],
      "text/plain": [
       "   chapter  verse_num                                              verse\n",
       "0        1          1  ταῦτα τὰ ὀνόματα τῶν υἱῶν Ἰσραὴλ εἰσ...\n",
       "1        1          2                Ρουβήν, Συμεών, Λευΐ, Ἰούδας,"
      ]
     },
     "execution_count": 6,
     "metadata": {},
     "output_type": "execute_result"
    }
   ],
   "source": [
    "# Create a dictionary to store data\n",
    "data = {}\n",
    "\n",
    "# Loop through each word element\n",
    "for word in root.findall(\".//word\"):\n",
    "    # Extract chapter and verse_num from div_section\n",
    "    div_section = word.get('div_section')  # e.g., \"1.1\"\n",
    "    chapter, verse_num = map(int, div_section.split('.'))  # Split \"1.1\" into integers\n",
    "\n",
    "    # Extract form\n",
    "    form = word.get('form')\n",
    "\n",
    "    # Use (chapter, verse_num) as a key in the data dictionary\n",
    "    if (chapter, verse_num) not in data:\n",
    "        data[(chapter, verse_num)] = []  # Initialize a list for this chapter/verse\n",
    "\n",
    "    # Append the form to the list for this chapter/verse\n",
    "    data[(chapter, verse_num)].append(form)\n",
    "\n",
    "# Now, let's prepare the data for the DataFrame\n",
    "rows = []\n",
    "# Join lemmas, but don't add a space before punctuation\n",
    "for (chapter, verse_num), forms in data.items():\n",
    "    verse = ''\n",
    "    for form in forms:\n",
    "        if form in [',', '.', ';', ':']:  # Add more punctuation if needed\n",
    "            verse = verse.rstrip() + form  # Remove the trailing space and add the punctuation\n",
    "        else:\n",
    "            verse += ' ' + form  # Add a space before the form\n",
    "\n",
    "    verse = verse.strip()  # Strip any leading or trailing spaces\n",
    "    \n",
    "    rows.append({'chapter': chapter, 'verse_num': verse_num, 'verse': verse})\n",
    "\n",
    "# Create a DataFrame\n",
    "df = pd.DataFrame(rows)\n",
    "\n",
    "# Display the DataFrame\n",
    "df.head(2)"
   ]
  },
  {
   "cell_type": "code",
   "execution_count": 8,
   "id": "571702dc",
   "metadata": {},
   "outputs": [],
   "source": [
    "df.to_csv(\"data/exodus_lxx.csv\", index=False)"
   ]
  },
  {
   "cell_type": "code",
   "execution_count": null,
   "id": "96f7ec48",
   "metadata": {},
   "outputs": [],
   "source": [
    "d"
   ]
  }
 ],
 "metadata": {
  "kernelspec": {
   "display_name": "Python 3 (ipykernel)",
   "language": "python",
   "name": "python3"
  },
  "language_info": {
   "codemirror_mode": {
    "name": "ipython",
    "version": 3
   },
   "file_extension": ".py",
   "mimetype": "text/x-python",
   "name": "python",
   "nbconvert_exporter": "python",
   "pygments_lexer": "ipython3",
   "version": "3.9.16"
  }
 },
 "nbformat": 4,
 "nbformat_minor": 5
}
